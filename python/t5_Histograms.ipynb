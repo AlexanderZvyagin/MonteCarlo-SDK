{
 "cells": [
  {
   "cell_type": "code",
   "execution_count": 1,
   "id": "186e2fcb-200e-44eb-b43e-470994641b80",
   "metadata": {},
   "outputs": [],
   "source": [
    "from init import *"
   ]
  },
  {
   "cell_type": "code",
   "execution_count": 2,
   "id": "edd66103-4dd0-4861-b9cf-b8e00032effc",
   "metadata": {
    "tags": []
   },
   "outputs": [],
   "source": [
    "spot=1\n",
    "strike=1.1\n",
    "volatility=0.3\n",
    "\n",
    "model = Model()\n",
    "model.TimeStart = 0\n",
    "model.TimeSteps = 1000\n",
    "model.NumPaths = 100000\n",
    "model.RandomSeed = 123\n",
    "\n",
    "model.Add(IndependentBrownianMotion())\n",
    "\n",
    "underlying_process = GeometricalBrownianMotion(\n",
    "    start = spot,\n",
    "    drift = 0.0,\n",
    "    diffusion = volatility,\n",
    "    title = 'Underlying'\n",
    ")\n",
    "model.Add(underlying_process)\n",
    "\n",
    "call_option_process = Product_Option(\n",
    "    underlying = underlying_process.Number(),\n",
    "    strike = strike,\n",
    "    call_put = Product_Option.Call,\n",
    "    title = f'Call, K={strike}'\n",
    ")\n",
    "model.Add(call_option_process)\n",
    "\n",
    "put_option_process = Product_Option(\n",
    "    underlying = underlying_process.Number(),\n",
    "    strike = strike,\n",
    "    call_put = Product_Option.Put,\n",
    "    title = f'Put, K={strike}'\n",
    ")\n",
    "model.Add(put_option_process)"
   ]
  },
  {
   "cell_type": "code",
   "execution_count": 3,
   "id": "9af10aef-d2b4-4bb2-80b6-06b25ff1d5ce",
   "metadata": {},
   "outputs": [
    {
     "data": {
      "text/plain": [
       "'{\"TimeStart\": 0, \"TimeSteps\": 1000, \"NumPaths\": 100000, \"updaters\": [{\"name\": \"IndependentBrownianMotion\"}, {\"name\": \"GeometricalBrownianMotion\", \"start\": 1, \"args\": [0.0, 0.3]}, {\"name\": \"Product_Option\", \"start\": null, \"refs\": [0], \"args\": [1.1, 0]}, {\"name\": \"Product_Option\", \"start\": null, \"refs\": [0], \"args\": [1.1, 1]}], \"evaluations\": [{\"state\": 0, \"time\": 2}], \"RandomSeed\": 123, \"histograms\": [{\"evaluation_point\": 0, \"x\": {\"state\": 1, \"bins\": 20, \"min\": 0, \"max\": 2}, \"y\": {\"state\": 2, \"bins\": 20, \"min\": 0, \"max\": 2}}]}'"
      ]
     },
     "execution_count": 3,
     "metadata": {},
     "output_type": "execute_result"
    }
   ],
   "source": [
    "model.evaluations.append(\n",
    "    EvaluationPoint(state=0,time=2)\n",
    ")\n",
    "\n",
    "model.histograms.append(\n",
    "    Histogram(\n",
    "        evaluation_point=0,\n",
    "        x = HistogramAxis(call_option_process.Number(),20,0,2),\n",
    "        y = HistogramAxis( put_option_process.Number(),20,0,2)\n",
    "    )\n",
    ")\n",
    "\n",
    "model.json()"
   ]
  },
  {
   "cell_type": "code",
   "execution_count": 4,
   "id": "13eaef0a-b4c1-4ce1-b5bc-a1cde2042a72",
   "metadata": {},
   "outputs": [
    {
     "data": {
      "text/plain": [
       "3 states with 1 evaluations"
      ]
     },
     "execution_count": 4,
     "metadata": {},
     "output_type": "execute_result"
    }
   ],
   "source": [
    "reply = requests.post(f'{server}/model',model.json())\n",
    "results = EvaluationResults(reply.json(),model)\n",
    "results"
   ]
  },
  {
   "cell_type": "code",
   "execution_count": 5,
   "id": "7d3d94b5-5e5b-47ad-924d-80221ec50e23",
   "metadata": {},
   "outputs": [
    {
     "data": {
      "text/html": [
       "<div>\n",
       "<style scoped>\n",
       "    .dataframe tbody tr th:only-of-type {\n",
       "        vertical-align: middle;\n",
       "    }\n",
       "\n",
       "    .dataframe tbody tr th {\n",
       "        vertical-align: top;\n",
       "    }\n",
       "\n",
       "    .dataframe thead th {\n",
       "        text-align: right;\n",
       "    }\n",
       "</style>\n",
       "<table border=\"1\" class=\"dataframe\">\n",
       "  <thead>\n",
       "    <tr style=\"text-align: right;\">\n",
       "      <th></th>\n",
       "      <th>name</th>\n",
       "      <th>title</th>\n",
       "      <th>state</th>\n",
       "      <th>time</th>\n",
       "      <th>step</th>\n",
       "      <th>npaths</th>\n",
       "      <th>mean</th>\n",
       "      <th>mean_error</th>\n",
       "      <th>stddev</th>\n",
       "      <th>skewness</th>\n",
       "    </tr>\n",
       "  </thead>\n",
       "  <tbody>\n",
       "    <tr>\n",
       "      <th>0</th>\n",
       "      <td>GeometricalBrownianMotion</td>\n",
       "      <td>Underlying</td>\n",
       "      <td>0</td>\n",
       "      <td>2.0</td>\n",
       "      <td>1000</td>\n",
       "      <td>100000</td>\n",
       "      <td>0.996995</td>\n",
       "      <td>0.001400</td>\n",
       "      <td>0.442721</td>\n",
       "      <td>1.400737</td>\n",
       "    </tr>\n",
       "    <tr>\n",
       "      <th>1</th>\n",
       "      <td>Product_Option</td>\n",
       "      <td>Call, K=1.1</td>\n",
       "      <td>1</td>\n",
       "      <td>2.0</td>\n",
       "      <td>1000</td>\n",
       "      <td>100000</td>\n",
       "      <td>0.129407</td>\n",
       "      <td>0.000912</td>\n",
       "      <td>0.288445</td>\n",
       "      <td>3.397551</td>\n",
       "    </tr>\n",
       "    <tr>\n",
       "      <th>2</th>\n",
       "      <td>Product_Option</td>\n",
       "      <td>Put, K=1.1</td>\n",
       "      <td>2</td>\n",
       "      <td>2.0</td>\n",
       "      <td>1000</td>\n",
       "      <td>100000</td>\n",
       "      <td>0.232412</td>\n",
       "      <td>0.000726</td>\n",
       "      <td>0.229454</td>\n",
       "      <td>0.567413</td>\n",
       "    </tr>\n",
       "  </tbody>\n",
       "</table>\n",
       "</div>"
      ],
      "text/plain": [
       "                        name        title  state  time  step  npaths  \\\n",
       "0  GeometricalBrownianMotion   Underlying      0   2.0  1000  100000   \n",
       "1             Product_Option  Call, K=1.1      1   2.0  1000  100000   \n",
       "2             Product_Option   Put, K=1.1      2   2.0  1000  100000   \n",
       "\n",
       "       mean  mean_error    stddev  skewness  \n",
       "0  0.996995    0.001400  0.442721  1.400737  \n",
       "1  0.129407    0.000912  0.288445  3.397551  \n",
       "2  0.232412    0.000726  0.229454  0.567413  "
      ]
     },
     "execution_count": 5,
     "metadata": {},
     "output_type": "execute_result"
    }
   ],
   "source": [
    "results.df()"
   ]
  },
  {
   "cell_type": "code",
   "execution_count": null,
   "id": "d17bea26-2795-4f74-80ad-78b7d17a098b",
   "metadata": {},
   "outputs": [],
   "source": []
  }
 ],
 "metadata": {
  "kernelspec": {
   "display_name": "Python 3 (ipykernel)",
   "language": "python",
   "name": "python3"
  },
  "language_info": {
   "codemirror_mode": {
    "name": "ipython",
    "version": 3
   },
   "file_extension": ".py",
   "mimetype": "text/x-python",
   "name": "python",
   "nbconvert_exporter": "python",
   "pygments_lexer": "ipython3",
   "version": "3.8.10"
  }
 },
 "nbformat": 4,
 "nbformat_minor": 5
}
