{
 "cells": [
  {
   "cell_type": "markdown",
   "id": "1ee2248d-6710-4c23-b9b5-1b5ae0faf799",
   "metadata": {},
   "source": [
    "# List of all available endpoints"
   ]
  },
  {
   "cell_type": "markdown",
   "id": "9b7ff3fe-c1b9-4ba6-a5ea-37842f3500bd",
   "metadata": {},
   "source": [
    "#### The notebook initialization"
   ]
  },
  {
   "cell_type": "code",
   "execution_count": 3,
   "id": "772dffde-eab0-46a0-908a-f45d2e5a6342",
   "metadata": {},
   "outputs": [],
   "source": [
    "import requests, json\n",
    "server = 'http://naz.hopto.org:8001'"
   ]
  },
  {
   "cell_type": "markdown",
   "id": "6a26a99f-e28c-4206-a8b0-4428208853e1",
   "metadata": {},
   "source": [
    "## Endpoint: /"
   ]
  },
  {
   "cell_type": "code",
   "execution_count": 4,
   "id": "10b6e8db-f2fe-44df-99e0-19da61b42701",
   "metadata": {
    "tags": []
   },
   "outputs": [
    {
     "data": {
      "text/plain": [
       "[{'description': 'List of available endpoints.',\n",
       "  'endpoint': '/',\n",
       "  'input': 'none',\n",
       "  'output': 'JSON',\n",
       "  'type': ['GET']},\n",
       " {'description': 'Icon.',\n",
       "  'endpoint': '/favicon.ico',\n",
       "  'input': 'none',\n",
       "  'output': 'image/x-icon',\n",
       "  'type': ['GET']},\n",
       " {'description': 'List of supported functions.',\n",
       "  'endpoint': '/functions',\n",
       "  'input': 'none',\n",
       "  'output': 'application/json',\n",
       "  'type': ['GET', 'POST']},\n",
       " {'description': 'Version of the code.',\n",
       "  'endpoint': '/version',\n",
       "  'input': 'none',\n",
       "  'output': 'application/json',\n",
       "  'type': ['GET', 'POST']},\n",
       " {'description': 'Run a model.',\n",
       "  'endpoint': '/model',\n",
       "  'input': 'application/json',\n",
       "  'output': 'application/json',\n",
       "  'type': ['POST']},\n",
       " {'description': 'Run a model.',\n",
       "  'endpoint': '/metrics',\n",
       "  'input': 'none',\n",
       "  'output': 'text/html',\n",
       "  'type': ['GET']}]"
      ]
     },
     "execution_count": 4,
     "metadata": {},
     "output_type": "execute_result"
    }
   ],
   "source": [
    "requests.get(server).json()"
   ]
  },
  {
   "cell_type": "markdown",
   "id": "e6459ac1-3c98-4c6e-8533-bcc38f667bf6",
   "metadata": {},
   "source": [
    "## Endpoint: /version"
   ]
  },
  {
   "cell_type": "code",
   "execution_count": 6,
   "id": "4014079d-f994-4679-8007-99baa979f3a2",
   "metadata": {},
   "outputs": [
    {
     "data": {
      "text/plain": [
       "['mc-0.1.1 built=[Aug 26 2022 01:43:15] #deps=4',\n",
       " '  Histogram1D-0.1.1 #deps=0',\n",
       " '  kernels.hpp-0.2.0 #deps=1',\n",
       " '    Histogram1D-0.1.1 #deps=0',\n",
       " '  Model-0.4.0 #deps=0',\n",
       " '  functions-0.6.0 built=[Aug 26 2022 01:43:15] #deps=13',\n",
       " '    IndependentBrownianMotion-0.1.0 #deps=0',\n",
       " '    SimpleBrownianMotion-0.3.0 #deps=0',\n",
       " '    SimpleGeometricalBrownianMotion-0.3.0 #deps=0',\n",
       " '    BrownianMotion-0.3.0 #deps=0',\n",
       " '    GeometricalBrownianMotion-0.3.0 #deps=0',\n",
       " '    DiscountFactor-0.2.0 #deps=0',\n",
       " '    Product_Option-0.0.1 #deps=0',\n",
       " '    Barrier-0.1.1 #deps=0',\n",
       " '    Multiplication-0.0.2 #deps=0',\n",
       " '    Division-0.0.1 #deps=0',\n",
       " '    PolynomT-0.0.1 #deps=0',\n",
       " '    Linear1DInterpolation-0.1.0 #deps=0',\n",
       " '    Error-0.0.1 #deps=0',\n",
       " '']"
      ]
     },
     "execution_count": 6,
     "metadata": {},
     "output_type": "execute_result"
    }
   ],
   "source": [
    "requests.get(f'{server}/version').json().split('\\n')"
   ]
  },
  {
   "cell_type": "markdown",
   "id": "30536e66-fa7d-43fb-8c21-433ab11d5556",
   "metadata": {
    "tags": []
   },
   "source": [
    "# Prometheus metrics"
   ]
  },
  {
   "cell_type": "code",
   "execution_count": 16,
   "id": "e0b2bfa8-cdf1-48c0-bba7-ce2eb3f02754",
   "metadata": {},
   "outputs": [
    {
     "data": {
      "text/plain": [
       "['# TYPE api_get_version counter',\n",
       " 'mc_api_get_version 2',\n",
       " '# TYPE api_metrics counter',\n",
       " 'mc_api_metrics 6',\n",
       " '# TYPE api_model counter',\n",
       " 'mc_api_model 10',\n",
       " '# TYPE model_version3 counter',\n",
       " 'mc_model_version3 9',\n",
       " '# TYPE mc_api_get_version summary',\n",
       " 'mc_api_get_version_count 2',\n",
       " 'mc_api_get_version_seconds_sum 0.000106',\n",
       " 'mc_api_get_version_seconds_mean 5.3e-05',\n",
       " 'mc_api_get_version_seconds_stddev 3e-06',\n",
       " '# TYPE mc_api_metrics summary',\n",
       " 'mc_api_metrics_count 5',\n",
       " 'mc_api_metrics_seconds_sum 0.00014499999999999997',\n",
       " 'mc_api_metrics_seconds_mean 2.9e-05',\n",
       " 'mc_api_metrics_seconds_stddev 4.147288e-06',\n",
       " '# TYPE mc_api_model summary',\n",
       " 'mc_api_model_count 10',\n",
       " 'mc_api_model_seconds_sum 0.08458299999999999',\n",
       " 'mc_api_model_seconds_mean 0.0084583',\n",
       " 'mc_api_model_seconds_stddev 0.009472348',\n",
       " '# TYPE mc_model_version3 summary',\n",
       " 'mc_model_version3_count 9',\n",
       " 'mc_model_version3_seconds_sum 0.0836',\n",
       " 'mc_model_version3_seconds_mean 0.009288888',\n",
       " 'mc_model_version3_seconds_stddev 0.009579583',\n",
       " '']"
      ]
     },
     "execution_count": 16,
     "metadata": {},
     "output_type": "execute_result"
    }
   ],
   "source": [
    "requests.get(f'{server}/metrics').text.split('\\n')"
   ]
  },
  {
   "cell_type": "markdown",
   "id": "6210f448-0cb8-4b3e-a7dc-cab516d17408",
   "metadata": {},
   "source": [
    "# Model"
   ]
  },
  {
   "cell_type": "code",
   "execution_count": 21,
   "id": "46120db0-82d1-45c1-b405-bb3ac5077e44",
   "metadata": {},
   "outputs": [
    {
     "data": {
      "text/plain": [
       "{'mean': [0.5230805277824402],\n",
       " 'names': ['SimpleBrownianMotion'],\n",
       " 'npaths': [10000],\n",
       " 'skewness': [-0.015936588868498802],\n",
       " 'stddev': [2.853414535522461],\n",
       " 'time_points': [2.0],\n",
       " 'time_steps': [10]}"
      ]
     },
     "execution_count": 21,
     "metadata": {},
     "output_type": "execute_result"
    }
   ],
   "source": [
    "model = {'TimeStart': 0,\n",
    " 'TimeSteps': 10,\n",
    " 'NumPaths': 10000,\n",
    " 'updaters': [{'name': 'IndependentBrownianMotion'},\n",
    "  {'name': 'SimpleBrownianMotion',\n",
    "   'start': {'name': 'start', 'value': 0.1},\n",
    "   'args': [{'name': 'drift', 'value': 0.2},\n",
    "    {'name': 'diffusion', 'value': 2}]}],\n",
    " 'evaluations': [{'state': 0, 'time': 2}]\n",
    "}\n",
    "\n",
    "requests.post(f'{server}/model',json.dumps(model)).json()"
   ]
  },
  {
   "cell_type": "code",
   "execution_count": null,
   "id": "917766e7-2e3b-4f64-bda1-cdc64735a655",
   "metadata": {},
   "outputs": [],
   "source": []
  }
 ],
 "metadata": {
  "kernelspec": {
   "display_name": "Python 3 (ipykernel)",
   "language": "python",
   "name": "python3"
  },
  "language_info": {
   "codemirror_mode": {
    "name": "ipython",
    "version": 3
   },
   "file_extension": ".py",
   "mimetype": "text/x-python",
   "name": "python",
   "nbconvert_exporter": "python",
   "pygments_lexer": "ipython3",
   "version": "3.8.10"
  }
 },
 "nbformat": 4,
 "nbformat_minor": 5
}
