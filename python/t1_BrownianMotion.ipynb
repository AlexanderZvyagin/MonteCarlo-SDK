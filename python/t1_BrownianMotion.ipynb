{
 "cells": [
  {
   "cell_type": "code",
   "execution_count": 1,
   "id": "c2bcaffe-1ae8-4981-acd6-b9ea959cd4e6",
   "metadata": {},
   "outputs": [],
   "source": [
    "from init import *\n",
    "import time"
   ]
  },
  {
   "cell_type": "code",
   "execution_count": 2,
   "id": "5a6711d1-64a2-42a9-b5d6-5a477b7faa66",
   "metadata": {
    "tags": []
   },
   "outputs": [],
   "source": [
    "model = Model()\n"
   ]
  },
  {
   "cell_type": "code",
   "execution_count": 3,
   "id": "7e16d5d8-9566-456e-a06b-1603b100cead",
   "metadata": {},
   "outputs": [
    {
     "data": {
      "text/plain": [
       "'{\"TimeStart\": 0, \"TimeSteps\": 10, \"NumPaths\": 10000, \"updaters\": [{\"name\": \"IndependentBrownianMotion\"}, {\"name\": \"BrownianMotion\", \"start\": {\"name\": \"start\", \"value\": 0.1}, \"args\": [{\"name\": \"drift\", \"value\": 0.2}, {\"name\": \"diffusion\", \"value\": 2}]}], \"evaluations\": [{\"state\": 0, \"time\": 2}]}'"
      ]
     },
     "execution_count": 3,
     "metadata": {},
     "output_type": "execute_result"
    }
   ],
   "source": [
    "m = mcsdk.examples.BuildModel_Simple()\n",
    "m.evaluations.append(EvaluationPoint(0,2))\n",
    "m.json()"
   ]
  },
  {
   "cell_type": "code",
   "execution_count": 4,
   "id": "a3fdd414-b512-4d68-9d8b-e14d1189826b",
   "metadata": {},
   "outputs": [
    {
     "data": {
      "text/plain": [
       "{'mean': [0.5230804085731506],\n",
       " 'names': ['BrownianMotion'],\n",
       " 'npaths': [10000],\n",
       " 'skewness': [-0.01593666523694992],\n",
       " 'stddev': [2.853414535522461],\n",
       " 'time_points': [2.0],\n",
       " 'time_steps': [10]}"
      ]
     },
     "execution_count": 4,
     "metadata": {},
     "output_type": "execute_result"
    }
   ],
   "source": [
    "r = requests.post(f'{server}/model',m.json())\n",
    "r.json()"
   ]
  },
  {
   "cell_type": "code",
   "execution_count": 5,
   "id": "6629e079-e908-4501-9a89-dd9d191883a0",
   "metadata": {},
   "outputs": [
    {
     "data": {
      "text/plain": [
       "{'mean': [0.2997841536998749,\n",
       "  0.5001057982444763,\n",
       "  1.0959651470184326,\n",
       "  2.0978493690490723],\n",
       " 'names': ['BrownianMotion'],\n",
       " 'npaths': [1000000, 1000000, 1000000, 1000000],\n",
       " 'skewness': [0.0025370384100824594,\n",
       "  -0.0003037625865545124,\n",
       "  -6.074928387533873e-05,\n",
       "  -0.0019319666316732764],\n",
       " 'stddev': [2.000171661376953,\n",
       "  2.826313018798828,\n",
       "  4.471774101257324,\n",
       "  6.330868244171143],\n",
       " 'time_points': [1.0, 2.0, 5.0, 10.0],\n",
       " 'time_steps': [1000, 2000, 5000, 10000]}"
      ]
     },
     "execution_count": 5,
     "metadata": {},
     "output_type": "execute_result"
    }
   ],
   "source": [
    "m = mcsdk.examples.BuildModel_Simple()\n",
    "m.NumPaths = 1000000\n",
    "m.TimeSteps = 10000\n",
    "for t in [1,2,5,10]:\n",
    "    m.evaluations.append(EvaluationPoint(0,t))\n",
    "time_start = time.time()\n",
    "r = requests.post(f'{server}/model',m.json())\n",
    "time_end = time.time()\n",
    "r.json()"
   ]
  },
  {
   "cell_type": "code",
   "execution_count": 6,
   "id": "15c1ec56-107e-4c3d-bbd1-ee3c47d83f50",
   "metadata": {},
   "outputs": [
    {
     "name": "stdout",
     "output_type": "stream",
     "text": [
      "3.0 nanoseconds to make a single time step\n"
     ]
    }
   ],
   "source": [
    "print(f'{m.NumPaths*m.TimeSteps/(time_end-time_start)*1e-9:.1f} nanoseconds to make a single time step')"
   ]
  },
  {
   "cell_type": "code",
   "execution_count": 7,
   "id": "fd18dc82-09e7-42f6-932a-802a4abe47d3",
   "metadata": {},
   "outputs": [
    {
     "data": {
      "text/plain": [
       "{'error': ['../src/binding/json/all.cpp void from_json(const json&, Model&) AddEvaluationPoint']}"
      ]
     },
     "execution_count": 7,
     "metadata": {},
     "output_type": "execute_result"
    }
   ],
   "source": [
    "m = mcsdk.examples.BadModel()\n",
    "m.NumPaths = 1000000\n",
    "m.TimeSteps = 10000\n",
    "for t in [1,2,5,10]:\n",
    "    m.evaluations.append(EvaluationPoint(0,t))\n",
    "time_start = time.time()\n",
    "r = requests.post(f'{server}/model',m.json())\n",
    "time_end = time.time()\n",
    "r.json()"
   ]
  },
  {
   "cell_type": "markdown",
   "id": "a57da563-2a85-4ca7-ae81-39dbbe3e3733",
   "metadata": {},
   "source": [
    "# Two processes, Three evaluations"
   ]
  },
  {
   "cell_type": "code",
   "execution_count": 8,
   "id": "ba672df7-920f-446b-bbb3-cbf51d320f1f",
   "metadata": {},
   "outputs": [
    {
     "data": {
      "text/plain": [
       "{'mean': [0.30169379711151123,\n",
       "  0.2891586124897003,\n",
       "  0.5055257081985474,\n",
       "  0.4809056520462036,\n",
       "  1.0719531774520874,\n",
       "  1.1176645755767822],\n",
       " 'names': ['BrownianMotion', 'BrownianMotion'],\n",
       " 'npaths': [10000, 10000, 10000, 10000, 10000, 10000],\n",
       " 'skewness': [-0.008076229132711887,\n",
       "  0.015258703380823135,\n",
       "  -0.0010828811209648848,\n",
       "  0.019505947828292847,\n",
       "  0.05010344460606575,\n",
       "  0.03506255894899368],\n",
       " 'stddev': [1.9988831281661987,\n",
       "  1.9962321519851685,\n",
       "  2.8082897663116455,\n",
       "  2.7867650985717773,\n",
       "  4.505069255828857,\n",
       "  4.473954200744629],\n",
       " 'time_points': [1.0, 2.0, 5.0],\n",
       " 'time_steps': [2000, 4000, 10000]}"
      ]
     },
     "execution_count": 8,
     "metadata": {},
     "output_type": "execute_result"
    }
   ],
   "source": [
    "model = mcsdk.examples.TwoProcessesModel()\n",
    "model.TimeSteps = 10000\n",
    "for time in [1,2,5]:\n",
    "    model.evaluations.append(EvaluationPoint(state=0,time=time))\n",
    "r = requests.post(f'{server}/model',model.json())\n",
    "r.json()"
   ]
  },
  {
   "cell_type": "code",
   "execution_count": 9,
   "id": "a892a134-04df-45cf-811f-12c967f75d7f",
   "metadata": {},
   "outputs": [
    {
     "data": {
      "text/plain": [
       "2 states with 3 evaluations"
      ]
     },
     "execution_count": 9,
     "metadata": {},
     "output_type": "execute_result"
    }
   ],
   "source": [
    "er = EvaluationResults(r.json(),model)\n",
    "er"
   ]
  },
  {
   "cell_type": "code",
   "execution_count": 10,
   "id": "83d32fb3-be55-406e-ae33-375014843930",
   "metadata": {},
   "outputs": [
    {
     "data": {
      "text/html": [
       "<div>\n",
       "<style scoped>\n",
       "    .dataframe tbody tr th:only-of-type {\n",
       "        vertical-align: middle;\n",
       "    }\n",
       "\n",
       "    .dataframe tbody tr th {\n",
       "        vertical-align: top;\n",
       "    }\n",
       "\n",
       "    .dataframe thead th {\n",
       "        text-align: right;\n",
       "    }\n",
       "</style>\n",
       "<table border=\"1\" class=\"dataframe\">\n",
       "  <thead>\n",
       "    <tr style=\"text-align: right;\">\n",
       "      <th></th>\n",
       "      <th>name</th>\n",
       "      <th>state</th>\n",
       "      <th>time</th>\n",
       "      <th>step</th>\n",
       "      <th>npaths</th>\n",
       "      <th>mean</th>\n",
       "      <th>mean_error</th>\n",
       "      <th>stddev</th>\n",
       "      <th>skewness</th>\n",
       "    </tr>\n",
       "  </thead>\n",
       "  <tbody>\n",
       "    <tr>\n",
       "      <th>0</th>\n",
       "      <td>BrownianMotion</td>\n",
       "      <td>0</td>\n",
       "      <td>1.0</td>\n",
       "      <td>2000</td>\n",
       "      <td>10000</td>\n",
       "      <td>0.301694</td>\n",
       "      <td>0.019989</td>\n",
       "      <td>1.998883</td>\n",
       "      <td>-0.008076</td>\n",
       "    </tr>\n",
       "    <tr>\n",
       "      <th>1</th>\n",
       "      <td>BrownianMotion</td>\n",
       "      <td>1</td>\n",
       "      <td>1.0</td>\n",
       "      <td>2000</td>\n",
       "      <td>10000</td>\n",
       "      <td>0.289159</td>\n",
       "      <td>0.019962</td>\n",
       "      <td>1.996232</td>\n",
       "      <td>0.015259</td>\n",
       "    </tr>\n",
       "    <tr>\n",
       "      <th>2</th>\n",
       "      <td>BrownianMotion</td>\n",
       "      <td>0</td>\n",
       "      <td>2.0</td>\n",
       "      <td>4000</td>\n",
       "      <td>10000</td>\n",
       "      <td>0.505526</td>\n",
       "      <td>0.028083</td>\n",
       "      <td>2.808290</td>\n",
       "      <td>-0.001083</td>\n",
       "    </tr>\n",
       "    <tr>\n",
       "      <th>3</th>\n",
       "      <td>BrownianMotion</td>\n",
       "      <td>1</td>\n",
       "      <td>2.0</td>\n",
       "      <td>4000</td>\n",
       "      <td>10000</td>\n",
       "      <td>0.480906</td>\n",
       "      <td>0.027868</td>\n",
       "      <td>2.786765</td>\n",
       "      <td>0.019506</td>\n",
       "    </tr>\n",
       "    <tr>\n",
       "      <th>4</th>\n",
       "      <td>BrownianMotion</td>\n",
       "      <td>0</td>\n",
       "      <td>5.0</td>\n",
       "      <td>10000</td>\n",
       "      <td>10000</td>\n",
       "      <td>1.071953</td>\n",
       "      <td>0.045051</td>\n",
       "      <td>4.505069</td>\n",
       "      <td>0.050103</td>\n",
       "    </tr>\n",
       "    <tr>\n",
       "      <th>5</th>\n",
       "      <td>BrownianMotion</td>\n",
       "      <td>1</td>\n",
       "      <td>5.0</td>\n",
       "      <td>10000</td>\n",
       "      <td>10000</td>\n",
       "      <td>1.117665</td>\n",
       "      <td>0.044740</td>\n",
       "      <td>4.473954</td>\n",
       "      <td>0.035063</td>\n",
       "    </tr>\n",
       "  </tbody>\n",
       "</table>\n",
       "</div>"
      ],
      "text/plain": [
       "             name  state  time   step  npaths      mean  mean_error    stddev  \\\n",
       "0  BrownianMotion      0   1.0   2000   10000  0.301694    0.019989  1.998883   \n",
       "1  BrownianMotion      1   1.0   2000   10000  0.289159    0.019962  1.996232   \n",
       "2  BrownianMotion      0   2.0   4000   10000  0.505526    0.028083  2.808290   \n",
       "3  BrownianMotion      1   2.0   4000   10000  0.480906    0.027868  2.786765   \n",
       "4  BrownianMotion      0   5.0  10000   10000  1.071953    0.045051  4.505069   \n",
       "5  BrownianMotion      1   5.0  10000   10000  1.117665    0.044740  4.473954   \n",
       "\n",
       "   skewness  \n",
       "0 -0.008076  \n",
       "1  0.015259  \n",
       "2 -0.001083  \n",
       "3  0.019506  \n",
       "4  0.050103  \n",
       "5  0.035063  "
      ]
     },
     "execution_count": 10,
     "metadata": {},
     "output_type": "execute_result"
    }
   ],
   "source": [
    "er.df()"
   ]
  }
 ],
 "metadata": {
  "kernelspec": {
   "display_name": "Python 3 (ipykernel)",
   "language": "python",
   "name": "python3"
  },
  "language_info": {
   "codemirror_mode": {
    "name": "ipython",
    "version": 3
   },
   "file_extension": ".py",
   "mimetype": "text/x-python",
   "name": "python",
   "nbconvert_exporter": "python",
   "pygments_lexer": "ipython3",
   "version": "3.8.10"
  }
 },
 "nbformat": 4,
 "nbformat_minor": 5
}
