{
 "cells": [
  {
   "cell_type": "code",
   "execution_count": 1,
   "id": "c2bcaffe-1ae8-4981-acd6-b9ea959cd4e6",
   "metadata": {},
   "outputs": [],
   "source": [
    "from init import *\n",
    "import time"
   ]
  },
  {
   "cell_type": "code",
   "execution_count": 2,
   "id": "5a6711d1-64a2-42a9-b5d6-5a477b7faa66",
   "metadata": {
    "tags": []
   },
   "outputs": [],
   "source": [
    "def BuildModel_Simple():\n",
    "    m = Model()\n",
    "    m.TimeStart = 0\n",
    "    m.TimeSteps = 10\n",
    "    m.NumPaths = 10000\n",
    "    m.Add(IndependentGaussian())\n",
    "    m.Add(BrownianMotion(0.1,0.2,2)) # start, drift, diffusion\n",
    "    return m"
   ]
  },
  {
   "cell_type": "code",
   "execution_count": 3,
   "id": "7e16d5d8-9566-456e-a06b-1603b100cead",
   "metadata": {},
   "outputs": [
    {
     "data": {
      "text/plain": [
       "'{\"TimeStart\": 0, \"TimeSteps\": 10, \"NumPaths\": 10000, \"updaters\": [{\"name\": \"IndependentGaussian\", \"refs\": []}, {\"name\": \"BrownianMotion\", \"start\": 0.1, \"args\": [0.2, 2]}], \"evaluations\": [{\"state\": 0, \"time\": 2, \"histograms\": []}], \"RandomSeed\": -1, \"RunTimeoutSeconds\": 1, \"MemoryLimitKB\": 64}'"
      ]
     },
     "execution_count": 3,
     "metadata": {},
     "output_type": "execute_result"
    }
   ],
   "source": [
    "m = BuildModel_Simple()\n",
    "m.evaluations.append(EvaluationPoint(0,2))\n",
    "m.json()"
   ]
  },
  {
   "cell_type": "code",
   "execution_count": 4,
   "id": "a3fdd414-b512-4d68-9d8b-e14d1189826b",
   "metadata": {},
   "outputs": [
    {
     "data": {
      "text/plain": [
       "{'histograms': [],\n",
       " 'mean': [0.4738466441631317],\n",
       " 'names': ['BrownianMotion'],\n",
       " 'npaths': [10000],\n",
       " 'run_time_seconds': {'mean': 0.00029289635131135583,\n",
       "  'n': 1024,\n",
       "  'skewness': None,\n",
       "  'stddev': 6.900069138282561e-07},\n",
       " 'skewness': [-0.003976175561547279],\n",
       " 'stddev': [2.808436632156372],\n",
       " 'time_points': [2.0],\n",
       " 'time_steps': [10]}"
      ]
     },
     "execution_count": 4,
     "metadata": {},
     "output_type": "execute_result"
    }
   ],
   "source": [
    "r = requests.post(f'{server}/model',m.json())\n",
    "r.json()"
   ]
  },
  {
   "cell_type": "code",
   "execution_count": 5,
   "id": "6629e079-e908-4501-9a89-dd9d191883a0",
   "metadata": {},
   "outputs": [
    {
     "data": {
      "text/plain": [
       "{'error': ['../src/core/Model.cpp Model& Model::Run()',\n",
       "  'Statistics model_version5(Cuda::StreamGuard&, KernelModelArgs&)',\n",
       "  'Model execution timeout is reached.']}"
      ]
     },
     "execution_count": 5,
     "metadata": {},
     "output_type": "execute_result"
    }
   ],
   "source": [
    "m = BuildModel_Simple()\n",
    "m.NumPaths = 1000000\n",
    "m.TimeSteps = 10000\n",
    "m.RunTimeoutSeconds = 16.7\n",
    "for t in [1,2,5,10]:\n",
    "    m.evaluations.append(EvaluationPoint(0,t))\n",
    "time_start = time.time()\n",
    "r = requests.post(f'{server}/model',m.json())\n",
    "time_end = time.time()\n",
    "r.json()"
   ]
  },
  {
   "cell_type": "code",
   "execution_count": 6,
   "id": "15c1ec56-107e-4c3d-bbd1-ee3c47d83f50",
   "metadata": {},
   "outputs": [
    {
     "name": "stdout",
     "output_type": "stream",
     "text": [
      "10.5 nanoseconds to make a single time step\n"
     ]
    }
   ],
   "source": [
    "print(f'{m.NumPaths*m.TimeSteps/(time_end-time_start)*1e-9:.1f} nanoseconds to make a single time step')"
   ]
  },
  {
   "cell_type": "markdown",
   "id": "a57da563-2a85-4ca7-ae81-39dbbe3e3733",
   "metadata": {},
   "source": [
    "# Two processes, Three evaluations"
   ]
  },
  {
   "cell_type": "code",
   "execution_count": 7,
   "id": "ab2bb8be-1fd5-4521-8695-fe8815108de7",
   "metadata": {},
   "outputs": [],
   "source": [
    "def TwoProcessesModel ():\n",
    "    m = Model()\n",
    "    m.TimeStart = 0\n",
    "    m.TimeSteps = 10\n",
    "    m.NumPaths = 10000\n",
    "    m.Add(IndependentGaussian())\n",
    "    m.Add(BrownianMotion(0.1,0.2,2)) # start, drift, diffusion\n",
    "    m.Add(BrownianMotion(0.1,0.2,2)) # start, drift, diffusion\n",
    "    return m"
   ]
  },
  {
   "cell_type": "code",
   "execution_count": 8,
   "id": "ba672df7-920f-446b-bbb3-cbf51d320f1f",
   "metadata": {},
   "outputs": [
    {
     "data": {
      "text/plain": [
       "{'histograms': [],\n",
       " 'mean': [0.30863597989082336,\n",
       "  0.27094054222106934,\n",
       "  0.516170084476471,\n",
       "  0.44071078300476074,\n",
       "  1.1702731847763062,\n",
       "  1.0227972269058228],\n",
       " 'names': ['BrownianMotion', 'BrownianMotion'],\n",
       " 'npaths': [10000, 10000, 10000, 10000, 10000, 10000],\n",
       " 'run_time_seconds': {'mean': 0.2214757353067398,\n",
       "  'n': 1024,\n",
       "  'skewness': None,\n",
       "  'stddev': 1.172416432382306e-06},\n",
       " 'skewness': [-0.003529146546497941,\n",
       "  -0.031775668263435364,\n",
       "  0.027231745421886444,\n",
       "  -0.002400784520432353,\n",
       "  -0.0014919124078005552,\n",
       "  0.006334626115858555],\n",
       " 'stddev': [1.9982267618179321,\n",
       "  2.0086891651153564,\n",
       "  2.8414852619171143,\n",
       "  2.813828945159912,\n",
       "  4.507228374481201,\n",
       "  4.435503005981445],\n",
       " 'time_points': [1.0, 2.0, 5.0],\n",
       " 'time_steps': [2000, 4000, 10000]}"
      ]
     },
     "execution_count": 8,
     "metadata": {},
     "output_type": "execute_result"
    }
   ],
   "source": [
    "model = Model()\n",
    "model.TimeStart = 0\n",
    "model.TimeSteps = 10\n",
    "model.NumPaths = 10000\n",
    "model.Add(IndependentGaussian())\n",
    "model.Add(BrownianMotion(0.1,0.2,2)) # start, drift, diffusion\n",
    "model.Add(BrownianMotion(0.1,0.2,2)) # start, drift, diffusion\n",
    "model.TimeSteps = 10000\n",
    "for t in [1,2,5]:\n",
    "    model.evaluations.append(EvaluationPoint(state=0,time=t))\n",
    "r = requests.post(f'{server}/model',model.json())\n",
    "r.json()"
   ]
  },
  {
   "cell_type": "code",
   "execution_count": 9,
   "id": "a892a134-04df-45cf-811f-12c967f75d7f",
   "metadata": {},
   "outputs": [
    {
     "data": {
      "text/plain": [
       "2 states with 3 evaluations"
      ]
     },
     "execution_count": 9,
     "metadata": {},
     "output_type": "execute_result"
    }
   ],
   "source": [
    "er = EvaluationResults(r.json(),model)\n",
    "er"
   ]
  },
  {
   "cell_type": "code",
   "execution_count": 10,
   "id": "83d32fb3-be55-406e-ae33-375014843930",
   "metadata": {},
   "outputs": [
    {
     "data": {
      "text/html": [
       "<div>\n",
       "<style scoped>\n",
       "    .dataframe tbody tr th:only-of-type {\n",
       "        vertical-align: middle;\n",
       "    }\n",
       "\n",
       "    .dataframe tbody tr th {\n",
       "        vertical-align: top;\n",
       "    }\n",
       "\n",
       "    .dataframe thead th {\n",
       "        text-align: right;\n",
       "    }\n",
       "</style>\n",
       "<table border=\"1\" class=\"dataframe\">\n",
       "  <thead>\n",
       "    <tr style=\"text-align: right;\">\n",
       "      <th></th>\n",
       "      <th>name</th>\n",
       "      <th>title</th>\n",
       "      <th>state</th>\n",
       "      <th>time</th>\n",
       "      <th>step</th>\n",
       "      <th>npaths</th>\n",
       "      <th>mean</th>\n",
       "      <th>mean_error</th>\n",
       "      <th>stddev</th>\n",
       "      <th>skewness</th>\n",
       "    </tr>\n",
       "  </thead>\n",
       "  <tbody>\n",
       "    <tr>\n",
       "      <th>0</th>\n",
       "      <td>BrownianMotion</td>\n",
       "      <td></td>\n",
       "      <td>0</td>\n",
       "      <td>1.0</td>\n",
       "      <td>2000</td>\n",
       "      <td>10000</td>\n",
       "      <td>0.308636</td>\n",
       "      <td>0.019982</td>\n",
       "      <td>1.998227</td>\n",
       "      <td>-0.003529</td>\n",
       "    </tr>\n",
       "    <tr>\n",
       "      <th>1</th>\n",
       "      <td>BrownianMotion</td>\n",
       "      <td></td>\n",
       "      <td>1</td>\n",
       "      <td>1.0</td>\n",
       "      <td>2000</td>\n",
       "      <td>10000</td>\n",
       "      <td>0.270941</td>\n",
       "      <td>0.020087</td>\n",
       "      <td>2.008689</td>\n",
       "      <td>-0.031776</td>\n",
       "    </tr>\n",
       "    <tr>\n",
       "      <th>2</th>\n",
       "      <td>BrownianMotion</td>\n",
       "      <td></td>\n",
       "      <td>0</td>\n",
       "      <td>2.0</td>\n",
       "      <td>4000</td>\n",
       "      <td>10000</td>\n",
       "      <td>0.516170</td>\n",
       "      <td>0.028415</td>\n",
       "      <td>2.841485</td>\n",
       "      <td>0.027232</td>\n",
       "    </tr>\n",
       "    <tr>\n",
       "      <th>3</th>\n",
       "      <td>BrownianMotion</td>\n",
       "      <td></td>\n",
       "      <td>1</td>\n",
       "      <td>2.0</td>\n",
       "      <td>4000</td>\n",
       "      <td>10000</td>\n",
       "      <td>0.440711</td>\n",
       "      <td>0.028138</td>\n",
       "      <td>2.813829</td>\n",
       "      <td>-0.002401</td>\n",
       "    </tr>\n",
       "    <tr>\n",
       "      <th>4</th>\n",
       "      <td>BrownianMotion</td>\n",
       "      <td></td>\n",
       "      <td>0</td>\n",
       "      <td>5.0</td>\n",
       "      <td>10000</td>\n",
       "      <td>10000</td>\n",
       "      <td>1.170273</td>\n",
       "      <td>0.045072</td>\n",
       "      <td>4.507228</td>\n",
       "      <td>-0.001492</td>\n",
       "    </tr>\n",
       "    <tr>\n",
       "      <th>5</th>\n",
       "      <td>BrownianMotion</td>\n",
       "      <td></td>\n",
       "      <td>1</td>\n",
       "      <td>5.0</td>\n",
       "      <td>10000</td>\n",
       "      <td>10000</td>\n",
       "      <td>1.022797</td>\n",
       "      <td>0.044355</td>\n",
       "      <td>4.435503</td>\n",
       "      <td>0.006335</td>\n",
       "    </tr>\n",
       "  </tbody>\n",
       "</table>\n",
       "</div>"
      ],
      "text/plain": [
       "             name title  state  time   step  npaths      mean  mean_error  \\\n",
       "0  BrownianMotion            0   1.0   2000   10000  0.308636    0.019982   \n",
       "1  BrownianMotion            1   1.0   2000   10000  0.270941    0.020087   \n",
       "2  BrownianMotion            0   2.0   4000   10000  0.516170    0.028415   \n",
       "3  BrownianMotion            1   2.0   4000   10000  0.440711    0.028138   \n",
       "4  BrownianMotion            0   5.0  10000   10000  1.170273    0.045072   \n",
       "5  BrownianMotion            1   5.0  10000   10000  1.022797    0.044355   \n",
       "\n",
       "     stddev  skewness  \n",
       "0  1.998227 -0.003529  \n",
       "1  2.008689 -0.031776  \n",
       "2  2.841485  0.027232  \n",
       "3  2.813829 -0.002401  \n",
       "4  4.507228 -0.001492  \n",
       "5  4.435503  0.006335  "
      ]
     },
     "execution_count": 10,
     "metadata": {},
     "output_type": "execute_result"
    }
   ],
   "source": [
    "er.df()"
   ]
  },
  {
   "cell_type": "code",
   "execution_count": 11,
   "id": "21da2335-d8cd-4479-8dd0-01c5c17bb74e",
   "metadata": {},
   "outputs": [
    {
     "name": "stderr",
     "output_type": "stream",
     "text": [
      "2022-11-03 00:02:45,364 [INFO] The End\n"
     ]
    }
   ],
   "source": [
    "logging.info('The End')"
   ]
  },
  {
   "cell_type": "code",
   "execution_count": null,
   "id": "69631ea9-688e-4515-b04e-13d627f0eebb",
   "metadata": {},
   "outputs": [],
   "source": []
  }
 ],
 "metadata": {
  "kernelspec": {
   "display_name": "Python 3 (ipykernel)",
   "language": "python",
   "name": "python3"
  },
  "language_info": {
   "codemirror_mode": {
    "name": "ipython",
    "version": 3
   },
   "file_extension": ".py",
   "mimetype": "text/x-python",
   "name": "python",
   "nbconvert_exporter": "python",
   "pygments_lexer": "ipython3",
   "version": "3.10.7"
  }
 },
 "nbformat": 4,
 "nbformat_minor": 5
}
