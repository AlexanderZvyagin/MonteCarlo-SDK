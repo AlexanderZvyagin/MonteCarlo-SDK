{
 "cells": [
  {
   "cell_type": "code",
   "execution_count": 1,
   "id": "c2bcaffe-1ae8-4981-acd6-b9ea959cd4e6",
   "metadata": {},
   "outputs": [],
   "source": [
    "from init import *\n",
    "import time"
   ]
  },
  {
   "cell_type": "code",
   "execution_count": 2,
   "id": "5a6711d1-64a2-42a9-b5d6-5a477b7faa66",
   "metadata": {
    "tags": []
   },
   "outputs": [],
   "source": [
    "model = Model()"
   ]
  },
  {
   "cell_type": "code",
   "execution_count": 3,
   "id": "7e16d5d8-9566-456e-a06b-1603b100cead",
   "metadata": {},
   "outputs": [
    {
     "data": {
      "text/plain": [
       "'{\"TimeStart\": 0, \"TimeSteps\": 10, \"NumPaths\": 10000, \"updaters\": [{\"name\": \"IndependentGaussian\"}, {\"name\": \"BrownianMotion\", \"start\": 0.1, \"args\": [0.2, 2]}], \"evaluations\": [{\"state\": 0, \"time\": 2, \"histograms\": []}], \"RandomSeed\": -1, \"RunTimeoutSeconds\": 1, \"MemoryLimitKB\": 1}'"
      ]
     },
     "execution_count": 3,
     "metadata": {},
     "output_type": "execute_result"
    }
   ],
   "source": [
    "m = mcsdk.examples.BuildModel_Simple()\n",
    "m.evaluations.append(EvaluationPoint(0,2))\n",
    "m.json()"
   ]
  },
  {
   "cell_type": "code",
   "execution_count": 4,
   "id": "a3fdd414-b512-4d68-9d8b-e14d1189826b",
   "metadata": {},
   "outputs": [
    {
     "data": {
      "text/plain": [
       "{'histograms': [],\n",
       " 'mean': [0.5102235078811646],\n",
       " 'names': ['BrownianMotion'],\n",
       " 'npaths': [10000],\n",
       " 'run_time_seconds': {'mean': 0.00028308675973676145,\n",
       "  'n': 1024,\n",
       "  'skewness': None,\n",
       "  'stddev': 4.3687009565474e-07},\n",
       " 'skewness': [0.039425794035196304],\n",
       " 'stddev': [2.8429689407348633],\n",
       " 'time_points': [2.0],\n",
       " 'time_steps': [10]}"
      ]
     },
     "execution_count": 4,
     "metadata": {},
     "output_type": "execute_result"
    }
   ],
   "source": [
    "r = requests.post(f'{server}/model',m.json())\n",
    "r.json()"
   ]
  },
  {
   "cell_type": "code",
   "execution_count": 5,
   "id": "6629e079-e908-4501-9a89-dd9d191883a0",
   "metadata": {},
   "outputs": [
    {
     "data": {
      "text/plain": [
       "{'error': ['../src/core/Model.cpp Model& Model::Run()',\n",
       "  'Statistics model_version5(Cuda::StreamGuard&, KernelModelArgs&)',\n",
       "  'Model execution timeout is reached.']}"
      ]
     },
     "execution_count": 5,
     "metadata": {},
     "output_type": "execute_result"
    }
   ],
   "source": [
    "m = mcsdk.examples.BuildModel_Simple()\n",
    "m.NumPaths = 1000000\n",
    "m.TimeSteps = 10000\n",
    "m.RunTimeoutSeconds = 16.7\n",
    "for t in [1,2,5,10]:\n",
    "    m.evaluations.append(EvaluationPoint(0,t))\n",
    "time_start = time.time()\n",
    "r = requests.post(f'{server}/model',m.json())\n",
    "time_end = time.time()\n",
    "r.json()"
   ]
  },
  {
   "cell_type": "code",
   "execution_count": 6,
   "id": "15c1ec56-107e-4c3d-bbd1-ee3c47d83f50",
   "metadata": {},
   "outputs": [
    {
     "name": "stdout",
     "output_type": "stream",
     "text": [
      "1.1 nanoseconds to make a single time step\n"
     ]
    }
   ],
   "source": [
    "print(f'{m.NumPaths*m.TimeSteps/(time_end-time_start)*1e-9:.1f} nanoseconds to make a single time step')"
   ]
  },
  {
   "cell_type": "markdown",
   "id": "a57da563-2a85-4ca7-ae81-39dbbe3e3733",
   "metadata": {},
   "source": [
    "# Two processes, Three evaluations"
   ]
  },
  {
   "cell_type": "code",
   "execution_count": 7,
   "id": "ba672df7-920f-446b-bbb3-cbf51d320f1f",
   "metadata": {},
   "outputs": [
    {
     "data": {
      "text/plain": [
       "{'histograms': [],\n",
       " 'mean': [0.3274773955345154,\n",
       "  0.3266710042953491,\n",
       "  0.4951585829257965,\n",
       "  0.5167135000228882,\n",
       "  1.0978899002075195,\n",
       "  1.1258209943771362],\n",
       " 'names': ['BrownianMotion', 'BrownianMotion'],\n",
       " 'npaths': [10000, 10000, 10000, 10000, 10000, 10000],\n",
       " 'run_time_seconds': {'mean': 0.22861763834953308,\n",
       "  'n': 1024,\n",
       "  'skewness': None,\n",
       "  'stddev': 0.00012036730186082423},\n",
       " 'skewness': [-0.010412177070975304,\n",
       "  -0.018496213480830193,\n",
       "  0.010573307052254677,\n",
       "  0.01739741489291191,\n",
       "  -0.005134698003530502,\n",
       "  0.045729756355285645],\n",
       " 'stddev': [2.0162253379821777,\n",
       "  1.9953268766403198,\n",
       "  2.813796043395996,\n",
       "  2.8328816890716553,\n",
       "  4.458627700805664,\n",
       "  4.462224960327148],\n",
       " 'time_points': [1.0, 2.0, 5.0],\n",
       " 'time_steps': [2000, 4000, 10000]}"
      ]
     },
     "execution_count": 7,
     "metadata": {},
     "output_type": "execute_result"
    }
   ],
   "source": [
    "model = mcsdk.examples.TwoProcessesModel()\n",
    "model.TimeSteps = 10000\n",
    "for t in [1,2,5]:\n",
    "    model.evaluations.append(EvaluationPoint(state=0,time=t))\n",
    "r = requests.post(f'{server}/model',model.json())\n",
    "r.json()"
   ]
  },
  {
   "cell_type": "code",
   "execution_count": 8,
   "id": "a892a134-04df-45cf-811f-12c967f75d7f",
   "metadata": {},
   "outputs": [
    {
     "data": {
      "text/plain": [
       "2 states with 3 evaluations"
      ]
     },
     "execution_count": 8,
     "metadata": {},
     "output_type": "execute_result"
    }
   ],
   "source": [
    "er = EvaluationResults(r.json(),model)\n",
    "er"
   ]
  },
  {
   "cell_type": "code",
   "execution_count": 9,
   "id": "83d32fb3-be55-406e-ae33-375014843930",
   "metadata": {},
   "outputs": [
    {
     "data": {
      "text/html": [
       "<div>\n",
       "<style scoped>\n",
       "    .dataframe tbody tr th:only-of-type {\n",
       "        vertical-align: middle;\n",
       "    }\n",
       "\n",
       "    .dataframe tbody tr th {\n",
       "        vertical-align: top;\n",
       "    }\n",
       "\n",
       "    .dataframe thead th {\n",
       "        text-align: right;\n",
       "    }\n",
       "</style>\n",
       "<table border=\"1\" class=\"dataframe\">\n",
       "  <thead>\n",
       "    <tr style=\"text-align: right;\">\n",
       "      <th></th>\n",
       "      <th>name</th>\n",
       "      <th>title</th>\n",
       "      <th>state</th>\n",
       "      <th>time</th>\n",
       "      <th>step</th>\n",
       "      <th>npaths</th>\n",
       "      <th>mean</th>\n",
       "      <th>mean_error</th>\n",
       "      <th>stddev</th>\n",
       "      <th>skewness</th>\n",
       "    </tr>\n",
       "  </thead>\n",
       "  <tbody>\n",
       "    <tr>\n",
       "      <th>0</th>\n",
       "      <td>BrownianMotion</td>\n",
       "      <td></td>\n",
       "      <td>0</td>\n",
       "      <td>1.0</td>\n",
       "      <td>2000</td>\n",
       "      <td>10000</td>\n",
       "      <td>0.327477</td>\n",
       "      <td>0.020162</td>\n",
       "      <td>2.016225</td>\n",
       "      <td>-0.010412</td>\n",
       "    </tr>\n",
       "    <tr>\n",
       "      <th>1</th>\n",
       "      <td>BrownianMotion</td>\n",
       "      <td></td>\n",
       "      <td>1</td>\n",
       "      <td>1.0</td>\n",
       "      <td>2000</td>\n",
       "      <td>10000</td>\n",
       "      <td>0.326671</td>\n",
       "      <td>0.019953</td>\n",
       "      <td>1.995327</td>\n",
       "      <td>-0.018496</td>\n",
       "    </tr>\n",
       "    <tr>\n",
       "      <th>2</th>\n",
       "      <td>BrownianMotion</td>\n",
       "      <td></td>\n",
       "      <td>0</td>\n",
       "      <td>2.0</td>\n",
       "      <td>4000</td>\n",
       "      <td>10000</td>\n",
       "      <td>0.495159</td>\n",
       "      <td>0.028138</td>\n",
       "      <td>2.813796</td>\n",
       "      <td>0.010573</td>\n",
       "    </tr>\n",
       "    <tr>\n",
       "      <th>3</th>\n",
       "      <td>BrownianMotion</td>\n",
       "      <td></td>\n",
       "      <td>1</td>\n",
       "      <td>2.0</td>\n",
       "      <td>4000</td>\n",
       "      <td>10000</td>\n",
       "      <td>0.516714</td>\n",
       "      <td>0.028329</td>\n",
       "      <td>2.832882</td>\n",
       "      <td>0.017397</td>\n",
       "    </tr>\n",
       "    <tr>\n",
       "      <th>4</th>\n",
       "      <td>BrownianMotion</td>\n",
       "      <td></td>\n",
       "      <td>0</td>\n",
       "      <td>5.0</td>\n",
       "      <td>10000</td>\n",
       "      <td>10000</td>\n",
       "      <td>1.097890</td>\n",
       "      <td>0.044586</td>\n",
       "      <td>4.458628</td>\n",
       "      <td>-0.005135</td>\n",
       "    </tr>\n",
       "    <tr>\n",
       "      <th>5</th>\n",
       "      <td>BrownianMotion</td>\n",
       "      <td></td>\n",
       "      <td>1</td>\n",
       "      <td>5.0</td>\n",
       "      <td>10000</td>\n",
       "      <td>10000</td>\n",
       "      <td>1.125821</td>\n",
       "      <td>0.044622</td>\n",
       "      <td>4.462225</td>\n",
       "      <td>0.045730</td>\n",
       "    </tr>\n",
       "  </tbody>\n",
       "</table>\n",
       "</div>"
      ],
      "text/plain": [
       "             name title  state  time   step  npaths      mean  mean_error  \\\n",
       "0  BrownianMotion            0   1.0   2000   10000  0.327477    0.020162   \n",
       "1  BrownianMotion            1   1.0   2000   10000  0.326671    0.019953   \n",
       "2  BrownianMotion            0   2.0   4000   10000  0.495159    0.028138   \n",
       "3  BrownianMotion            1   2.0   4000   10000  0.516714    0.028329   \n",
       "4  BrownianMotion            0   5.0  10000   10000  1.097890    0.044586   \n",
       "5  BrownianMotion            1   5.0  10000   10000  1.125821    0.044622   \n",
       "\n",
       "     stddev  skewness  \n",
       "0  2.016225 -0.010412  \n",
       "1  1.995327 -0.018496  \n",
       "2  2.813796  0.010573  \n",
       "3  2.832882  0.017397  \n",
       "4  4.458628 -0.005135  \n",
       "5  4.462225  0.045730  "
      ]
     },
     "execution_count": 9,
     "metadata": {},
     "output_type": "execute_result"
    }
   ],
   "source": [
    "er.df()"
   ]
  }
 ],
 "metadata": {
  "kernelspec": {
   "display_name": "Python 3 (ipykernel)",
   "language": "python",
   "name": "python3"
  },
  "language_info": {
   "codemirror_mode": {
    "name": "ipython",
    "version": 3
   },
   "file_extension": ".py",
   "mimetype": "text/x-python",
   "name": "python",
   "nbconvert_exporter": "python",
   "pygments_lexer": "ipython3",
   "version": "3.10.7"
  }
 },
 "nbformat": 4,
 "nbformat_minor": 5
}
