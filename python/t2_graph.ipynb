{
 "cells": [
  {
   "cell_type": "code",
   "execution_count": 1,
   "id": "c2bcaffe-1ae8-4981-acd6-b9ea959cd4e6",
   "metadata": {},
   "outputs": [],
   "source": [
    "from init import *"
   ]
  },
  {
   "cell_type": "code",
   "execution_count": 12,
   "id": "5a6711d1-64a2-42a9-b5d6-5a477b7faa66",
   "metadata": {},
   "outputs": [],
   "source": [
    "number_of_states = 8\n",
    "start_value = 0\n",
    "drift = 0\n",
    "diffusion = 1\n",
    "\n",
    "model = Model()\n",
    "model.TimeStart = 0\n",
    "model.TimeSteps = 100\n",
    "model.NumPaths = 1\n",
    "model.MemoryLimitKB = 100\n",
    "model.updaters.append(Updater(\n",
    "    name = \"IndependentGaussian\"\n",
    "))\n",
    "for i in range(number_of_states):\n",
    "    model.updaters.append(Updater(\n",
    "        name = \"BrownianMotion\",\n",
    "        start = start_value,\n",
    "        args = [drift,diffusion]\n",
    "    ))"
   ]
  },
  {
   "cell_type": "code",
   "execution_count": 13,
   "id": "7e16d5d8-9566-456e-a06b-1603b100cead",
   "metadata": {},
   "outputs": [],
   "source": [
    "dt = 1\n",
    "for i in range(model.TimeSteps):\n",
    "    model.evaluations.append(EvaluationPoint(0,model.TimeStart+(i+1)*dt))"
   ]
  },
  {
   "cell_type": "code",
   "execution_count": 14,
   "id": "a892a134-04df-45cf-811f-12c967f75d7f",
   "metadata": {},
   "outputs": [
    {
     "data": {
      "text/plain": [
       "8 states with 100 evaluations"
      ]
     },
     "execution_count": 14,
     "metadata": {},
     "output_type": "execute_result"
    }
   ],
   "source": [
    "reply = requests.post(f'{server}/model',model.json())\n",
    "results = EvaluationResults(reply.json(),model)\n",
    "results"
   ]
  },
  {
   "cell_type": "code",
   "execution_count": 15,
   "id": "83d32fb3-be55-406e-ae33-375014843930",
   "metadata": {},
   "outputs": [
    {
     "data": {
      "text/html": [
       "<div>\n",
       "<style scoped>\n",
       "    .dataframe tbody tr th:only-of-type {\n",
       "        vertical-align: middle;\n",
       "    }\n",
       "\n",
       "    .dataframe tbody tr th {\n",
       "        vertical-align: top;\n",
       "    }\n",
       "\n",
       "    .dataframe thead th {\n",
       "        text-align: right;\n",
       "    }\n",
       "</style>\n",
       "<table border=\"1\" class=\"dataframe\">\n",
       "  <thead>\n",
       "    <tr style=\"text-align: right;\">\n",
       "      <th></th>\n",
       "      <th>name</th>\n",
       "      <th>title</th>\n",
       "      <th>state</th>\n",
       "      <th>time</th>\n",
       "      <th>step</th>\n",
       "      <th>npaths</th>\n",
       "      <th>mean</th>\n",
       "      <th>mean_error</th>\n",
       "      <th>stddev</th>\n",
       "      <th>skewness</th>\n",
       "    </tr>\n",
       "  </thead>\n",
       "  <tbody>\n",
       "    <tr>\n",
       "      <th>0</th>\n",
       "      <td>BrownianMotion</td>\n",
       "      <td></td>\n",
       "      <td>0</td>\n",
       "      <td>1.0</td>\n",
       "      <td>1</td>\n",
       "      <td>1</td>\n",
       "      <td>0.164284</td>\n",
       "      <td>None</td>\n",
       "      <td>None</td>\n",
       "      <td>None</td>\n",
       "    </tr>\n",
       "    <tr>\n",
       "      <th>1</th>\n",
       "      <td>BrownianMotion</td>\n",
       "      <td></td>\n",
       "      <td>1</td>\n",
       "      <td>1.0</td>\n",
       "      <td>1</td>\n",
       "      <td>1</td>\n",
       "      <td>-0.786659</td>\n",
       "      <td>None</td>\n",
       "      <td>None</td>\n",
       "      <td>None</td>\n",
       "    </tr>\n",
       "    <tr>\n",
       "      <th>2</th>\n",
       "      <td>BrownianMotion</td>\n",
       "      <td></td>\n",
       "      <td>2</td>\n",
       "      <td>1.0</td>\n",
       "      <td>1</td>\n",
       "      <td>1</td>\n",
       "      <td>-0.133823</td>\n",
       "      <td>None</td>\n",
       "      <td>None</td>\n",
       "      <td>None</td>\n",
       "    </tr>\n",
       "    <tr>\n",
       "      <th>3</th>\n",
       "      <td>BrownianMotion</td>\n",
       "      <td></td>\n",
       "      <td>3</td>\n",
       "      <td>1.0</td>\n",
       "      <td>1</td>\n",
       "      <td>1</td>\n",
       "      <td>0.433213</td>\n",
       "      <td>None</td>\n",
       "      <td>None</td>\n",
       "      <td>None</td>\n",
       "    </tr>\n",
       "    <tr>\n",
       "      <th>4</th>\n",
       "      <td>BrownianMotion</td>\n",
       "      <td></td>\n",
       "      <td>4</td>\n",
       "      <td>1.0</td>\n",
       "      <td>1</td>\n",
       "      <td>1</td>\n",
       "      <td>2.097131</td>\n",
       "      <td>None</td>\n",
       "      <td>None</td>\n",
       "      <td>None</td>\n",
       "    </tr>\n",
       "  </tbody>\n",
       "</table>\n",
       "</div>"
      ],
      "text/plain": [
       "             name title  state  time  step  npaths      mean mean_error  \\\n",
       "0  BrownianMotion            0   1.0     1       1  0.164284       None   \n",
       "1  BrownianMotion            1   1.0     1       1 -0.786659       None   \n",
       "2  BrownianMotion            2   1.0     1       1 -0.133823       None   \n",
       "3  BrownianMotion            3   1.0     1       1  0.433213       None   \n",
       "4  BrownianMotion            4   1.0     1       1  2.097131       None   \n",
       "\n",
       "  stddev skewness  \n",
       "0   None     None  \n",
       "1   None     None  \n",
       "2   None     None  \n",
       "3   None     None  \n",
       "4   None     None  "
      ]
     },
     "execution_count": 15,
     "metadata": {},
     "output_type": "execute_result"
    }
   ],
   "source": [
    "results.df().head()"
   ]
  },
  {
   "cell_type": "code",
   "execution_count": 16,
   "id": "6ec8876f-7a9e-4f8a-8cb5-047e6cf8648d",
   "metadata": {
    "tags": []
   },
   "outputs": [
    {
     "data": {
      "application/vnd.plotly.v1+json": {
       "config": {
        "plotlyServerURL": "https://plot.ly"
       },
       "data": [
        {
         "hovertemplate": "x=%{x}<br>y=%{y}<extra></extra>",
         "legendgroup": "",
         "marker": {
          "color": "#636efa",
          "symbol": "circle"
         },
         "mode": "markers",
         "name": "",
         "orientation": "v",
         "showlegend": false,
         "type": "scatter",
         "x": [
          1,
          2,
          3,
          4,
          5,
          6,
          7,
          8,
          9,
          10,
          11,
          12,
          13,
          14,
          15,
          16,
          17,
          18,
          19,
          20,
          21,
          22,
          23,
          24,
          25,
          26,
          27,
          28,
          29,
          30,
          31,
          32,
          33,
          34,
          35,
          36,
          37,
          38,
          39,
          40,
          41,
          42,
          43,
          44,
          45,
          46,
          47,
          48,
          49,
          50,
          51,
          52,
          53,
          54,
          55,
          56,
          57,
          58,
          59,
          60,
          61,
          62,
          63,
          64,
          65,
          66,
          67,
          68,
          69,
          70,
          71,
          72,
          73,
          74,
          75,
          76,
          77,
          78,
          79,
          80,
          81,
          82,
          83,
          84,
          85,
          86,
          87,
          88,
          89,
          90,
          91,
          92,
          93,
          94,
          95,
          96,
          97,
          98,
          99,
          100
         ],
         "xaxis": "x",
         "y": [
          0.16428428888320923,
          -1.121492862701416,
          -0.9301159977912903,
          -0.8456332683563232,
          0.18601536750793457,
          -0.07772141695022583,
          0.5452954173088074,
          1.4836905002593994,
          -0.2449573278427124,
          0.7920494079589844,
          -0.07556939125061035,
          0.05431874096393585,
          1.1974681615829468,
          0.9259942770004272,
          1.9499670267105103,
          3.3164806365966797,
          3.3175888061523438,
          4.262173175811768,
          5.688459873199463,
          6.751574516296387,
          7.370823383331299,
          6.789937973022461,
          5.757535934448242,
          7.4952239990234375,
          8.67590618133545,
          8.03626823425293,
          7.710587024688721,
          7.872012615203857,
          8.312873840332031,
          7.405496120452881,
          7.037639617919922,
          5.737030982971191,
          5.526294231414795,
          5.864031791687012,
          5.330712795257568,
          5.672391414642334,
          7.608319282531738,
          6.55694580078125,
          6.896308422088623,
          7.813673973083496,
          7.597447872161865,
          6.913330078125,
          6.854650020599365,
          6.389800548553467,
          7.96199893951416,
          8.87006664276123,
          7.942964553833008,
          8.411388397216797,
          8.420893669128418,
          9.135355949401855,
          9.785377502441406,
          9.278940200805664,
          8.179795265197754,
          7.908074378967285,
          8.291749000549316,
          7.563849449157715,
          7.897363662719727,
          7.676363945007324,
          7.707177639007568,
          7.234283447265625,
          8.349592208862305,
          6.647064208984375,
          6.242392539978027,
          6.168433666229248,
          5.097090244293213,
          5.702472686767578,
          5.143733024597168,
          4.05891752243042,
          3.209704637527466,
          3.999422073364258,
          4.597393035888672,
          5.249389171600342,
          5.863757610321045,
          4.423012733459473,
          3.5354299545288086,
          4.0585551261901855,
          3.680999755859375,
          4.019265174865723,
          1.242727518081665,
          0.2458171844482422,
          0.16746430099010468,
          1.6930601596832275,
          1.7403881549835205,
          0.6556264162063599,
          0.2256578505039215,
          0.22408248484134674,
          1.2318249940872192,
          2.6809682846069336,
          2.4358177185058594,
          2.15706729888916,
          2.39851713180542,
          3.6399524211883545,
          4.594997406005859,
          3.3100311756134033,
          1.9212170839309692,
          2.5359578132629395,
          2.5521645545959473,
          1.558418869972229,
          1.258009672164917,
          -0.7260712385177612
         ],
         "yaxis": "y"
        }
       ],
       "layout": {
        "autosize": true,
        "legend": {
         "tracegroupgap": 0
        },
        "template": {
         "data": {
          "bar": [
           {
            "error_x": {
             "color": "#2a3f5f"
            },
            "error_y": {
             "color": "#2a3f5f"
            },
            "marker": {
             "line": {
              "color": "#E5ECF6",
              "width": 0.5
             },
             "pattern": {
              "fillmode": "overlay",
              "size": 10,
              "solidity": 0.2
             }
            },
            "type": "bar"
           }
          ],
          "barpolar": [
           {
            "marker": {
             "line": {
              "color": "#E5ECF6",
              "width": 0.5
             },
             "pattern": {
              "fillmode": "overlay",
              "size": 10,
              "solidity": 0.2
             }
            },
            "type": "barpolar"
           }
          ],
          "carpet": [
           {
            "aaxis": {
             "endlinecolor": "#2a3f5f",
             "gridcolor": "white",
             "linecolor": "white",
             "minorgridcolor": "white",
             "startlinecolor": "#2a3f5f"
            },
            "baxis": {
             "endlinecolor": "#2a3f5f",
             "gridcolor": "white",
             "linecolor": "white",
             "minorgridcolor": "white",
             "startlinecolor": "#2a3f5f"
            },
            "type": "carpet"
           }
          ],
          "choropleth": [
           {
            "colorbar": {
             "outlinewidth": 0,
             "ticks": ""
            },
            "type": "choropleth"
           }
          ],
          "contour": [
           {
            "colorbar": {
             "outlinewidth": 0,
             "ticks": ""
            },
            "colorscale": [
             [
              0,
              "#0d0887"
             ],
             [
              0.1111111111111111,
              "#46039f"
             ],
             [
              0.2222222222222222,
              "#7201a8"
             ],
             [
              0.3333333333333333,
              "#9c179e"
             ],
             [
              0.4444444444444444,
              "#bd3786"
             ],
             [
              0.5555555555555556,
              "#d8576b"
             ],
             [
              0.6666666666666666,
              "#ed7953"
             ],
             [
              0.7777777777777778,
              "#fb9f3a"
             ],
             [
              0.8888888888888888,
              "#fdca26"
             ],
             [
              1,
              "#f0f921"
             ]
            ],
            "type": "contour"
           }
          ],
          "contourcarpet": [
           {
            "colorbar": {
             "outlinewidth": 0,
             "ticks": ""
            },
            "type": "contourcarpet"
           }
          ],
          "heatmap": [
           {
            "colorbar": {
             "outlinewidth": 0,
             "ticks": ""
            },
            "colorscale": [
             [
              0,
              "#0d0887"
             ],
             [
              0.1111111111111111,
              "#46039f"
             ],
             [
              0.2222222222222222,
              "#7201a8"
             ],
             [
              0.3333333333333333,
              "#9c179e"
             ],
             [
              0.4444444444444444,
              "#bd3786"
             ],
             [
              0.5555555555555556,
              "#d8576b"
             ],
             [
              0.6666666666666666,
              "#ed7953"
             ],
             [
              0.7777777777777778,
              "#fb9f3a"
             ],
             [
              0.8888888888888888,
              "#fdca26"
             ],
             [
              1,
              "#f0f921"
             ]
            ],
            "type": "heatmap"
           }
          ],
          "heatmapgl": [
           {
            "colorbar": {
             "outlinewidth": 0,
             "ticks": ""
            },
            "colorscale": [
             [
              0,
              "#0d0887"
             ],
             [
              0.1111111111111111,
              "#46039f"
             ],
             [
              0.2222222222222222,
              "#7201a8"
             ],
             [
              0.3333333333333333,
              "#9c179e"
             ],
             [
              0.4444444444444444,
              "#bd3786"
             ],
             [
              0.5555555555555556,
              "#d8576b"
             ],
             [
              0.6666666666666666,
              "#ed7953"
             ],
             [
              0.7777777777777778,
              "#fb9f3a"
             ],
             [
              0.8888888888888888,
              "#fdca26"
             ],
             [
              1,
              "#f0f921"
             ]
            ],
            "type": "heatmapgl"
           }
          ],
          "histogram": [
           {
            "marker": {
             "pattern": {
              "fillmode": "overlay",
              "size": 10,
              "solidity": 0.2
             }
            },
            "type": "histogram"
           }
          ],
          "histogram2d": [
           {
            "colorbar": {
             "outlinewidth": 0,
             "ticks": ""
            },
            "colorscale": [
             [
              0,
              "#0d0887"
             ],
             [
              0.1111111111111111,
              "#46039f"
             ],
             [
              0.2222222222222222,
              "#7201a8"
             ],
             [
              0.3333333333333333,
              "#9c179e"
             ],
             [
              0.4444444444444444,
              "#bd3786"
             ],
             [
              0.5555555555555556,
              "#d8576b"
             ],
             [
              0.6666666666666666,
              "#ed7953"
             ],
             [
              0.7777777777777778,
              "#fb9f3a"
             ],
             [
              0.8888888888888888,
              "#fdca26"
             ],
             [
              1,
              "#f0f921"
             ]
            ],
            "type": "histogram2d"
           }
          ],
          "histogram2dcontour": [
           {
            "colorbar": {
             "outlinewidth": 0,
             "ticks": ""
            },
            "colorscale": [
             [
              0,
              "#0d0887"
             ],
             [
              0.1111111111111111,
              "#46039f"
             ],
             [
              0.2222222222222222,
              "#7201a8"
             ],
             [
              0.3333333333333333,
              "#9c179e"
             ],
             [
              0.4444444444444444,
              "#bd3786"
             ],
             [
              0.5555555555555556,
              "#d8576b"
             ],
             [
              0.6666666666666666,
              "#ed7953"
             ],
             [
              0.7777777777777778,
              "#fb9f3a"
             ],
             [
              0.8888888888888888,
              "#fdca26"
             ],
             [
              1,
              "#f0f921"
             ]
            ],
            "type": "histogram2dcontour"
           }
          ],
          "mesh3d": [
           {
            "colorbar": {
             "outlinewidth": 0,
             "ticks": ""
            },
            "type": "mesh3d"
           }
          ],
          "parcoords": [
           {
            "line": {
             "colorbar": {
              "outlinewidth": 0,
              "ticks": ""
             }
            },
            "type": "parcoords"
           }
          ],
          "pie": [
           {
            "automargin": true,
            "type": "pie"
           }
          ],
          "scatter": [
           {
            "fillpattern": {
             "fillmode": "overlay",
             "size": 10,
             "solidity": 0.2
            },
            "type": "scatter"
           }
          ],
          "scatter3d": [
           {
            "line": {
             "colorbar": {
              "outlinewidth": 0,
              "ticks": ""
             }
            },
            "marker": {
             "colorbar": {
              "outlinewidth": 0,
              "ticks": ""
             }
            },
            "type": "scatter3d"
           }
          ],
          "scattercarpet": [
           {
            "marker": {
             "colorbar": {
              "outlinewidth": 0,
              "ticks": ""
             }
            },
            "type": "scattercarpet"
           }
          ],
          "scattergeo": [
           {
            "marker": {
             "colorbar": {
              "outlinewidth": 0,
              "ticks": ""
             }
            },
            "type": "scattergeo"
           }
          ],
          "scattergl": [
           {
            "marker": {
             "colorbar": {
              "outlinewidth": 0,
              "ticks": ""
             }
            },
            "type": "scattergl"
           }
          ],
          "scattermapbox": [
           {
            "marker": {
             "colorbar": {
              "outlinewidth": 0,
              "ticks": ""
             }
            },
            "type": "scattermapbox"
           }
          ],
          "scatterpolar": [
           {
            "marker": {
             "colorbar": {
              "outlinewidth": 0,
              "ticks": ""
             }
            },
            "type": "scatterpolar"
           }
          ],
          "scatterpolargl": [
           {
            "marker": {
             "colorbar": {
              "outlinewidth": 0,
              "ticks": ""
             }
            },
            "type": "scatterpolargl"
           }
          ],
          "scatterternary": [
           {
            "marker": {
             "colorbar": {
              "outlinewidth": 0,
              "ticks": ""
             }
            },
            "type": "scatterternary"
           }
          ],
          "surface": [
           {
            "colorbar": {
             "outlinewidth": 0,
             "ticks": ""
            },
            "colorscale": [
             [
              0,
              "#0d0887"
             ],
             [
              0.1111111111111111,
              "#46039f"
             ],
             [
              0.2222222222222222,
              "#7201a8"
             ],
             [
              0.3333333333333333,
              "#9c179e"
             ],
             [
              0.4444444444444444,
              "#bd3786"
             ],
             [
              0.5555555555555556,
              "#d8576b"
             ],
             [
              0.6666666666666666,
              "#ed7953"
             ],
             [
              0.7777777777777778,
              "#fb9f3a"
             ],
             [
              0.8888888888888888,
              "#fdca26"
             ],
             [
              1,
              "#f0f921"
             ]
            ],
            "type": "surface"
           }
          ],
          "table": [
           {
            "cells": {
             "fill": {
              "color": "#EBF0F8"
             },
             "line": {
              "color": "white"
             }
            },
            "header": {
             "fill": {
              "color": "#C8D4E3"
             },
             "line": {
              "color": "white"
             }
            },
            "type": "table"
           }
          ]
         },
         "layout": {
          "annotationdefaults": {
           "arrowcolor": "#2a3f5f",
           "arrowhead": 0,
           "arrowwidth": 1
          },
          "autotypenumbers": "strict",
          "coloraxis": {
           "colorbar": {
            "outlinewidth": 0,
            "ticks": ""
           }
          },
          "colorscale": {
           "diverging": [
            [
             0,
             "#8e0152"
            ],
            [
             0.1,
             "#c51b7d"
            ],
            [
             0.2,
             "#de77ae"
            ],
            [
             0.3,
             "#f1b6da"
            ],
            [
             0.4,
             "#fde0ef"
            ],
            [
             0.5,
             "#f7f7f7"
            ],
            [
             0.6,
             "#e6f5d0"
            ],
            [
             0.7,
             "#b8e186"
            ],
            [
             0.8,
             "#7fbc41"
            ],
            [
             0.9,
             "#4d9221"
            ],
            [
             1,
             "#276419"
            ]
           ],
           "sequential": [
            [
             0,
             "#0d0887"
            ],
            [
             0.1111111111111111,
             "#46039f"
            ],
            [
             0.2222222222222222,
             "#7201a8"
            ],
            [
             0.3333333333333333,
             "#9c179e"
            ],
            [
             0.4444444444444444,
             "#bd3786"
            ],
            [
             0.5555555555555556,
             "#d8576b"
            ],
            [
             0.6666666666666666,
             "#ed7953"
            ],
            [
             0.7777777777777778,
             "#fb9f3a"
            ],
            [
             0.8888888888888888,
             "#fdca26"
            ],
            [
             1,
             "#f0f921"
            ]
           ],
           "sequentialminus": [
            [
             0,
             "#0d0887"
            ],
            [
             0.1111111111111111,
             "#46039f"
            ],
            [
             0.2222222222222222,
             "#7201a8"
            ],
            [
             0.3333333333333333,
             "#9c179e"
            ],
            [
             0.4444444444444444,
             "#bd3786"
            ],
            [
             0.5555555555555556,
             "#d8576b"
            ],
            [
             0.6666666666666666,
             "#ed7953"
            ],
            [
             0.7777777777777778,
             "#fb9f3a"
            ],
            [
             0.8888888888888888,
             "#fdca26"
            ],
            [
             1,
             "#f0f921"
            ]
           ]
          },
          "colorway": [
           "#636efa",
           "#EF553B",
           "#00cc96",
           "#ab63fa",
           "#FFA15A",
           "#19d3f3",
           "#FF6692",
           "#B6E880",
           "#FF97FF",
           "#FECB52"
          ],
          "font": {
           "color": "#2a3f5f"
          },
          "geo": {
           "bgcolor": "white",
           "lakecolor": "white",
           "landcolor": "#E5ECF6",
           "showlakes": true,
           "showland": true,
           "subunitcolor": "white"
          },
          "hoverlabel": {
           "align": "left"
          },
          "hovermode": "closest",
          "mapbox": {
           "style": "light"
          },
          "paper_bgcolor": "white",
          "plot_bgcolor": "#E5ECF6",
          "polar": {
           "angularaxis": {
            "gridcolor": "white",
            "linecolor": "white",
            "ticks": ""
           },
           "bgcolor": "#E5ECF6",
           "radialaxis": {
            "gridcolor": "white",
            "linecolor": "white",
            "ticks": ""
           }
          },
          "scene": {
           "xaxis": {
            "backgroundcolor": "#E5ECF6",
            "gridcolor": "white",
            "gridwidth": 2,
            "linecolor": "white",
            "showbackground": true,
            "ticks": "",
            "zerolinecolor": "white"
           },
           "yaxis": {
            "backgroundcolor": "#E5ECF6",
            "gridcolor": "white",
            "gridwidth": 2,
            "linecolor": "white",
            "showbackground": true,
            "ticks": "",
            "zerolinecolor": "white"
           },
           "zaxis": {
            "backgroundcolor": "#E5ECF6",
            "gridcolor": "white",
            "gridwidth": 2,
            "linecolor": "white",
            "showbackground": true,
            "ticks": "",
            "zerolinecolor": "white"
           }
          },
          "shapedefaults": {
           "line": {
            "color": "#2a3f5f"
           }
          },
          "ternary": {
           "aaxis": {
            "gridcolor": "white",
            "linecolor": "white",
            "ticks": ""
           },
           "baxis": {
            "gridcolor": "white",
            "linecolor": "white",
            "ticks": ""
           },
           "bgcolor": "#E5ECF6",
           "caxis": {
            "gridcolor": "white",
            "linecolor": "white",
            "ticks": ""
           }
          },
          "title": {
           "x": 0.05
          },
          "xaxis": {
           "automargin": true,
           "gridcolor": "white",
           "linecolor": "white",
           "ticks": "",
           "title": {
            "standoff": 15
           },
           "zerolinecolor": "white",
           "zerolinewidth": 2
          },
          "yaxis": {
           "automargin": true,
           "gridcolor": "white",
           "linecolor": "white",
           "ticks": "",
           "title": {
            "standoff": 15
           },
           "zerolinecolor": "white",
           "zerolinewidth": 2
          }
         }
        },
        "title": {
         "text": "Evoluation in time of state 0"
        },
        "xaxis": {
         "anchor": "y",
         "autorange": true,
         "domain": [
          0,
          1
         ],
         "range": [
          -5.221027792343997,
          106.221027792344
         ],
         "title": {
          "text": "x"
         },
         "type": "linear"
        },
        "yaxis": {
         "anchor": "x",
         "autorange": true,
         "domain": [
          0,
          1
         ],
         "range": [
          -2.0215743976889304,
          10.68545903742892
         ],
         "title": {
          "text": "y"
         },
         "type": "linear"
        }
       }
      },
      "image/png": "[encoded data removed]",
      "text/html": [
       "<div>                            <div id=\"23952b56-5e53-4ac7-981a-f09cec12c385\" class=\"plotly-graph-div\" style=\"height:525px; width:100%;\"></div>            <script type=\"text/javascript\">                require([\"plotly\"], function(Plotly) {                    window.PLOTLYENV=window.PLOTLYENV || {};                                    if (document.getElementById(\"23952b56-5e53-4ac7-981a-f09cec12c385\")) {                    Plotly.newPlot(                        \"23952b56-5e53-4ac7-981a-f09cec12c385\",                        [{\"hovertemplate\":\"x=%{x}<br>y=%{y}<extra></extra>\",\"legendgroup\":\"\",\"marker\":{\"color\":\"#636efa\",\"symbol\":\"circle\"},\"mode\":\"markers\",\"name\":\"\",\"orientation\":\"v\",\"showlegend\":false,\"x\":[1.0,2.0,3.0,4.0,5.0,6.0,7.0,8.0,9.0,10.0,11.0,12.0,13.0,14.0,15.0,16.0,17.0,18.0,19.0,20.0,21.0,22.0,23.0,24.0,25.0,26.0,27.0,28.0,29.0,30.0,31.0,32.0,33.0,34.0,35.0,36.0,37.0,38.0,39.0,40.0,41.0,42.0,43.0,44.0,45.0,46.0,47.0,48.0,49.0,50.0,51.0,52.0,53.0,54.0,55.0,56.0,57.0,58.0,59.0,60.0,61.0,62.0,63.0,64.0,65.0,66.0,67.0,68.0,69.0,70.0,71.0,72.0,73.0,74.0,75.0,76.0,77.0,78.0,79.0,80.0,81.0,82.0,83.0,84.0,85.0,86.0,87.0,88.0,89.0,90.0,91.0,92.0,93.0,94.0,95.0,96.0,97.0,98.0,99.0,100.0],\"xaxis\":\"x\",\"y\":[0.16428428888320923,-1.121492862701416,-0.9301159977912903,-0.8456332683563232,0.18601536750793457,-0.07772141695022583,0.5452954173088074,1.4836905002593994,-0.2449573278427124,0.7920494079589844,-0.07556939125061035,0.05431874096393585,1.1974681615829468,0.9259942770004272,1.9499670267105103,3.3164806365966797,3.3175888061523438,4.262173175811768,5.688459873199463,6.751574516296387,7.370823383331299,6.789937973022461,5.757535934448242,7.4952239990234375,8.67590618133545,8.03626823425293,7.710587024688721,7.872012615203857,8.312873840332031,7.405496120452881,7.037639617919922,5.737030982971191,5.526294231414795,5.864031791687012,5.330712795257568,5.672391414642334,7.608319282531738,6.55694580078125,6.896308422088623,7.813673973083496,7.597447872161865,6.913330078125,6.854650020599365,6.389800548553467,7.96199893951416,8.87006664276123,7.942964553833008,8.411388397216797,8.420893669128418,9.135355949401855,9.785377502441406,9.278940200805664,8.179795265197754,7.908074378967285,8.291749000549316,7.563849449157715,7.897363662719727,7.676363945007324,7.707177639007568,7.234283447265625,8.349592208862305,6.647064208984375,6.242392539978027,6.168433666229248,5.097090244293213,5.702472686767578,5.143733024597168,4.05891752243042,3.209704637527466,3.999422073364258,4.597393035888672,5.249389171600342,5.863757610321045,4.423012733459473,3.5354299545288086,4.0585551261901855,3.680999755859375,4.019265174865723,1.242727518081665,0.2458171844482422,0.16746430099010468,1.6930601596832275,1.7403881549835205,0.6556264162063599,0.2256578505039215,0.22408248484134674,1.2318249940872192,2.6809682846069336,2.4358177185058594,2.15706729888916,2.39851713180542,3.6399524211883545,4.594997406005859,3.3100311756134033,1.9212170839309692,2.5359578132629395,2.5521645545959473,1.558418869972229,1.258009672164917,-0.7260712385177612],\"yaxis\":\"y\",\"type\":\"scatter\"}],                        {\"template\":{\"data\":{\"histogram2dcontour\":[{\"type\":\"histogram2dcontour\",\"colorbar\":{\"outlinewidth\":0,\"ticks\":\"\"},\"colorscale\":[[0.0,\"#0d0887\"],[0.1111111111111111,\"#46039f\"],[0.2222222222222222,\"#7201a8\"],[0.3333333333333333,\"#9c179e\"],[0.4444444444444444,\"#bd3786\"],[0.5555555555555556,\"#d8576b\"],[0.6666666666666666,\"#ed7953\"],[0.7777777777777778,\"#fb9f3a\"],[0.8888888888888888,\"#fdca26\"],[1.0,\"#f0f921\"]]}],\"choropleth\":[{\"type\":\"choropleth\",\"colorbar\":{\"outlinewidth\":0,\"ticks\":\"\"}}],\"histogram2d\":[{\"type\":\"histogram2d\",\"colorbar\":{\"outlinewidth\":0,\"ticks\":\"\"},\"colorscale\":[[0.0,\"#0d0887\"],[0.1111111111111111,\"#46039f\"],[0.2222222222222222,\"#7201a8\"],[0.3333333333333333,\"#9c179e\"],[0.4444444444444444,\"#bd3786\"],[0.5555555555555556,\"#d8576b\"],[0.6666666666666666,\"#ed7953\"],[0.7777777777777778,\"#fb9f3a\"],[0.8888888888888888,\"#fdca26\"],[1.0,\"#f0f921\"]]}],\"heatmap\":[{\"type\":\"heatmap\",\"colorbar\":{\"outlinewidth\":0,\"ticks\":\"\"},\"colorscale\":[[0.0,\"#0d0887\"],[0.1111111111111111,\"#46039f\"],[0.2222222222222222,\"#7201a8\"],[0.3333333333333333,\"#9c179e\"],[0.4444444444444444,\"#bd3786\"],[0.5555555555555556,\"#d8576b\"],[0.6666666666666666,\"#ed7953\"],[0.7777777777777778,\"#fb9f3a\"],[0.8888888888888888,\"#fdca26\"],[1.0,\"#f0f921\"]]}],\"heatmapgl\":[{\"type\":\"heatmapgl\",\"colorbar\":{\"outlinewidth\":0,\"ticks\":\"\"},\"colorscale\":[[0.0,\"#0d0887\"],[0.1111111111111111,\"#46039f\"],[0.2222222222222222,\"#7201a8\"],[0.3333333333333333,\"#9c179e\"],[0.4444444444444444,\"#bd3786\"],[0.5555555555555556,\"#d8576b\"],[0.6666666666666666,\"#ed7953\"],[0.7777777777777778,\"#fb9f3a\"],[0.8888888888888888,\"#fdca26\"],[1.0,\"#f0f921\"]]}],\"contourcarpet\":[{\"type\":\"contourcarpet\",\"colorbar\":{\"outlinewidth\":0,\"ticks\":\"\"}}],\"contour\":[{\"type\":\"contour\",\"colorbar\":{\"outlinewidth\":0,\"ticks\":\"\"},\"colorscale\":[[0.0,\"#0d0887\"],[0.1111111111111111,\"#46039f\"],[0.2222222222222222,\"#7201a8\"],[0.3333333333333333,\"#9c179e\"],[0.4444444444444444,\"#bd3786\"],[0.5555555555555556,\"#d8576b\"],[0.6666666666666666,\"#ed7953\"],[0.7777777777777778,\"#fb9f3a\"],[0.8888888888888888,\"#fdca26\"],[1.0,\"#f0f921\"]]}],\"surface\":[{\"type\":\"surface\",\"colorbar\":{\"outlinewidth\":0,\"ticks\":\"\"},\"colorscale\":[[0.0,\"#0d0887\"],[0.1111111111111111,\"#46039f\"],[0.2222222222222222,\"#7201a8\"],[0.3333333333333333,\"#9c179e\"],[0.4444444444444444,\"#bd3786\"],[0.5555555555555556,\"#d8576b\"],[0.6666666666666666,\"#ed7953\"],[0.7777777777777778,\"#fb9f3a\"],[0.8888888888888888,\"#fdca26\"],[1.0,\"#f0f921\"]]}],\"mesh3d\":[{\"type\":\"mesh3d\",\"colorbar\":{\"outlinewidth\":0,\"ticks\":\"\"}}],\"scatter\":[{\"fillpattern\":{\"fillmode\":\"overlay\",\"size\":10,\"solidity\":0.2},\"type\":\"scatter\"}],\"parcoords\":[{\"type\":\"parcoords\",\"line\":{\"colorbar\":{\"outlinewidth\":0,\"ticks\":\"\"}}}],\"scatterpolargl\":[{\"type\":\"scatterpolargl\",\"marker\":{\"colorbar\":{\"outlinewidth\":0,\"ticks\":\"\"}}}],\"bar\":[{\"error_x\":{\"color\":\"#2a3f5f\"},\"error_y\":{\"color\":\"#2a3f5f\"},\"marker\":{\"line\":{\"color\":\"#E5ECF6\",\"width\":0.5},\"pattern\":{\"fillmode\":\"overlay\",\"size\":10,\"solidity\":0.2}},\"type\":\"bar\"}],\"scattergeo\":[{\"type\":\"scattergeo\",\"marker\":{\"colorbar\":{\"outlinewidth\":0,\"ticks\":\"\"}}}],\"scatterpolar\":[{\"type\":\"scatterpolar\",\"marker\":{\"colorbar\":{\"outlinewidth\":0,\"ticks\":\"\"}}}],\"histogram\":[{\"marker\":{\"pattern\":{\"fillmode\":\"overlay\",\"size\":10,\"solidity\":0.2}},\"type\":\"histogram\"}],\"scattergl\":[{\"type\":\"scattergl\",\"marker\":{\"colorbar\":{\"outlinewidth\":0,\"ticks\":\"\"}}}],\"scatter3d\":[{\"type\":\"scatter3d\",\"line\":{\"colorbar\":{\"outlinewidth\":0,\"ticks\":\"\"}},\"marker\":{\"colorbar\":{\"outlinewidth\":0,\"ticks\":\"\"}}}],\"scattermapbox\":[{\"type\":\"scattermapbox\",\"marker\":{\"colorbar\":{\"outlinewidth\":0,\"ticks\":\"\"}}}],\"scatterternary\":[{\"type\":\"scatterternary\",\"marker\":{\"colorbar\":{\"outlinewidth\":0,\"ticks\":\"\"}}}],\"scattercarpet\":[{\"type\":\"scattercarpet\",\"marker\":{\"colorbar\":{\"outlinewidth\":0,\"ticks\":\"\"}}}],\"carpet\":[{\"aaxis\":{\"endlinecolor\":\"#2a3f5f\",\"gridcolor\":\"white\",\"linecolor\":\"white\",\"minorgridcolor\":\"white\",\"startlinecolor\":\"#2a3f5f\"},\"baxis\":{\"endlinecolor\":\"#2a3f5f\",\"gridcolor\":\"white\",\"linecolor\":\"white\",\"minorgridcolor\":\"white\",\"startlinecolor\":\"#2a3f5f\"},\"type\":\"carpet\"}],\"table\":[{\"cells\":{\"fill\":{\"color\":\"#EBF0F8\"},\"line\":{\"color\":\"white\"}},\"header\":{\"fill\":{\"color\":\"#C8D4E3\"},\"line\":{\"color\":\"white\"}},\"type\":\"table\"}],\"barpolar\":[{\"marker\":{\"line\":{\"color\":\"#E5ECF6\",\"width\":0.5},\"pattern\":{\"fillmode\":\"overlay\",\"size\":10,\"solidity\":0.2}},\"type\":\"barpolar\"}],\"pie\":[{\"automargin\":true,\"type\":\"pie\"}]},\"layout\":{\"autotypenumbers\":\"strict\",\"colorway\":[\"#636efa\",\"#EF553B\",\"#00cc96\",\"#ab63fa\",\"#FFA15A\",\"#19d3f3\",\"#FF6692\",\"#B6E880\",\"#FF97FF\",\"#FECB52\"],\"font\":{\"color\":\"#2a3f5f\"},\"hovermode\":\"closest\",\"hoverlabel\":{\"align\":\"left\"},\"paper_bgcolor\":\"white\",\"plot_bgcolor\":\"#E5ECF6\",\"polar\":{\"bgcolor\":\"#E5ECF6\",\"angularaxis\":{\"gridcolor\":\"white\",\"linecolor\":\"white\",\"ticks\":\"\"},\"radialaxis\":{\"gridcolor\":\"white\",\"linecolor\":\"white\",\"ticks\":\"\"}},\"ternary\":{\"bgcolor\":\"#E5ECF6\",\"aaxis\":{\"gridcolor\":\"white\",\"linecolor\":\"white\",\"ticks\":\"\"},\"baxis\":{\"gridcolor\":\"white\",\"linecolor\":\"white\",\"ticks\":\"\"},\"caxis\":{\"gridcolor\":\"white\",\"linecolor\":\"white\",\"ticks\":\"\"}},\"coloraxis\":{\"colorbar\":{\"outlinewidth\":0,\"ticks\":\"\"}},\"colorscale\":{\"sequential\":[[0.0,\"#0d0887\"],[0.1111111111111111,\"#46039f\"],[0.2222222222222222,\"#7201a8\"],[0.3333333333333333,\"#9c179e\"],[0.4444444444444444,\"#bd3786\"],[0.5555555555555556,\"#d8576b\"],[0.6666666666666666,\"#ed7953\"],[0.7777777777777778,\"#fb9f3a\"],[0.8888888888888888,\"#fdca26\"],[1.0,\"#f0f921\"]],\"sequentialminus\":[[0.0,\"#0d0887\"],[0.1111111111111111,\"#46039f\"],[0.2222222222222222,\"#7201a8\"],[0.3333333333333333,\"#9c179e\"],[0.4444444444444444,\"#bd3786\"],[0.5555555555555556,\"#d8576b\"],[0.6666666666666666,\"#ed7953\"],[0.7777777777777778,\"#fb9f3a\"],[0.8888888888888888,\"#fdca26\"],[1.0,\"#f0f921\"]],\"diverging\":[[0,\"#8e0152\"],[0.1,\"#c51b7d\"],[0.2,\"#de77ae\"],[0.3,\"#f1b6da\"],[0.4,\"#fde0ef\"],[0.5,\"#f7f7f7\"],[0.6,\"#e6f5d0\"],[0.7,\"#b8e186\"],[0.8,\"#7fbc41\"],[0.9,\"#4d9221\"],[1,\"#276419\"]]},\"xaxis\":{\"gridcolor\":\"white\",\"linecolor\":\"white\",\"ticks\":\"\",\"title\":{\"standoff\":15},\"zerolinecolor\":\"white\",\"automargin\":true,\"zerolinewidth\":2},\"yaxis\":{\"gridcolor\":\"white\",\"linecolor\":\"white\",\"ticks\":\"\",\"title\":{\"standoff\":15},\"zerolinecolor\":\"white\",\"automargin\":true,\"zerolinewidth\":2},\"scene\":{\"xaxis\":{\"backgroundcolor\":\"#E5ECF6\",\"gridcolor\":\"white\",\"linecolor\":\"white\",\"showbackground\":true,\"ticks\":\"\",\"zerolinecolor\":\"white\",\"gridwidth\":2},\"yaxis\":{\"backgroundcolor\":\"#E5ECF6\",\"gridcolor\":\"white\",\"linecolor\":\"white\",\"showbackground\":true,\"ticks\":\"\",\"zerolinecolor\":\"white\",\"gridwidth\":2},\"zaxis\":{\"backgroundcolor\":\"#E5ECF6\",\"gridcolor\":\"white\",\"linecolor\":\"white\",\"showbackground\":true,\"ticks\":\"\",\"zerolinecolor\":\"white\",\"gridwidth\":2}},\"shapedefaults\":{\"line\":{\"color\":\"#2a3f5f\"}},\"annotationdefaults\":{\"arrowcolor\":\"#2a3f5f\",\"arrowhead\":0,\"arrowwidth\":1},\"geo\":{\"bgcolor\":\"white\",\"landcolor\":\"#E5ECF6\",\"subunitcolor\":\"white\",\"showland\":true,\"showlakes\":true,\"lakecolor\":\"white\"},\"title\":{\"x\":0.05},\"mapbox\":{\"style\":\"light\"}}},\"xaxis\":{\"anchor\":\"y\",\"domain\":[0.0,1.0],\"title\":{\"text\":\"x\"}},\"yaxis\":{\"anchor\":\"x\",\"domain\":[0.0,1.0],\"title\":{\"text\":\"y\"}},\"legend\":{\"tracegroupgap\":0},\"title\":{\"text\":\"Evoluation in time of state 0\"}},                        {\"responsive\": true}                    ).then(function(){\n",
       "                            \n",
       "var gd = document.getElementById('23952b56-5e53-4ac7-981a-f09cec12c385');\n",
       "var x = new MutationObserver(function (mutations, observer) {{\n",
       "        var display = window.getComputedStyle(gd).display;\n",
       "        if (!display || display === 'none') {{\n",
       "            console.log([gd, 'removed!']);\n",
       "            Plotly.purge(gd);\n",
       "            observer.disconnect();\n",
       "        }}\n",
       "}});\n",
       "\n",
       "// Listen for the removal of the full notebook cells\n",
       "var notebookContainer = gd.closest('#notebook-container');\n",
       "if (notebookContainer) {{\n",
       "    x.observe(notebookContainer, {childList: true});\n",
       "}}\n",
       "\n",
       "// Listen for the clearing of the current output cell\n",
       "var outputEl = gd.closest('.output');\n",
       "if (outputEl) {{\n",
       "    x.observe(outputEl, {childList: true});\n",
       "}}\n",
       "\n",
       "                        })                };                });            </script>        </div>"
      ]
     },
     "metadata": {},
     "output_type": "display_data"
    }
   ],
   "source": [
    "import plotly.express as px\n",
    "state = 0\n",
    "fig = px.scatter (\n",
    "    title = f'Evoluation in time of state {state}',\n",
    "    x = results.time_points,\n",
    "    y = [\n",
    "            results.GetStateEvaluationResult(state,i).mean\n",
    "            for i in range(results.NumEvaluations())\n",
    "        ]\n",
    ")\n",
    "fig.show()"
   ]
  },
  {
   "cell_type": "code",
   "execution_count": 17,
   "id": "407ae59d-0e38-4f1d-bbf3-4a8326f5bc4a",
   "metadata": {},
   "outputs": [
    {
     "data": {
      "application/vnd.plotly.v1+json": {
       "config": {
        "plotlyServerURL": "https://plot.ly"
       },
       "data": [
        {
         "hovertemplate": "state=0<br>time=%{x}<br>mean=%{y}<extra></extra>",
         "legendgroup": "0",
         "line": {
          "color": "#636efa",
          "dash": "solid"
         },
         "marker": {
          "symbol": "circle"
         },
         "mode": "lines+markers",
         "name": "0",
         "orientation": "v",
         "showlegend": true,
         "type": "scatter",
         "x": [
          1,
          2,
          3,
          4,
          5,
          6,
          7,
          8,
          9,
          10,
          11,
          12,
          13,
          14,
          15,
          16,
          17,
          18,
          19,
          20,
          21,
          22,
          23,
          24,
          25,
          26,
          27,
          28,
          29,
          30,
          31,
          32,
          33,
          34,
          35,
          36,
          37,
          38,
          39,
          40,
          41,
          42,
          43,
          44,
          45,
          46,
          47,
          48,
          49,
          50,
          51,
          52,
          53,
          54,
          55,
          56,
          57,
          58,
          59,
          60,
          61,
          62,
          63,
          64,
          65,
          66,
          67,
          68,
          69,
          70,
          71,
          72,
          73,
          74,
          75,
          76,
          77,
          78,
          79,
          80,
          81,
          82,
          83,
          84,
          85,
          86,
          87,
          88,
          89,
          90,
          91,
          92,
          93,
          94,
          95,
          96,
          97,
          98,
          99,
          100
         ],
         "xaxis": "x",
         "y": [
          0.16428428888320923,
          -1.121492862701416,
          -0.9301159977912903,
          -0.8456332683563232,
          0.18601536750793457,
          -0.07772141695022583,
          0.5452954173088074,
          1.4836905002593994,
          -0.2449573278427124,
          0.7920494079589844,
          -0.07556939125061035,
          0.05431874096393585,
          1.1974681615829468,
          0.9259942770004272,
          1.9499670267105103,
          3.3164806365966797,
          3.3175888061523438,
          4.262173175811768,
          5.688459873199463,
          6.751574516296387,
          7.370823383331299,
          6.789937973022461,
          5.757535934448242,
          7.4952239990234375,
          8.67590618133545,
          8.03626823425293,
          7.710587024688721,
          7.872012615203857,
          8.312873840332031,
          7.405496120452881,
          7.037639617919922,
          5.737030982971191,
          5.526294231414795,
          5.864031791687012,
          5.330712795257568,
          5.672391414642334,
          7.608319282531738,
          6.55694580078125,
          6.896308422088623,
          7.813673973083496,
          7.597447872161865,
          6.913330078125,
          6.854650020599365,
          6.389800548553467,
          7.96199893951416,
          8.87006664276123,
          7.942964553833008,
          8.411388397216797,
          8.420893669128418,
          9.135355949401855,
          9.785377502441406,
          9.278940200805664,
          8.179795265197754,
          7.908074378967285,
          8.291749000549316,
          7.563849449157715,
          7.897363662719727,
          7.676363945007324,
          7.707177639007568,
          7.234283447265625,
          8.349592208862305,
          6.647064208984375,
          6.242392539978027,
          6.168433666229248,
          5.097090244293213,
          5.702472686767578,
          5.143733024597168,
          4.05891752243042,
          3.209704637527466,
          3.999422073364258,
          4.597393035888672,
          5.249389171600342,
          5.863757610321045,
          4.423012733459473,
          3.5354299545288086,
          4.0585551261901855,
          3.680999755859375,
          4.019265174865723,
          1.242727518081665,
          0.2458171844482422,
          0.16746430099010468,
          1.6930601596832275,
          1.7403881549835205,
          0.6556264162063599,
          0.2256578505039215,
          0.22408248484134674,
          1.2318249940872192,
          2.6809682846069336,
          2.4358177185058594,
          2.15706729888916,
          2.39851713180542,
          3.6399524211883545,
          4.594997406005859,
          3.3100311756134033,
          1.9212170839309692,
          2.5359578132629395,
          2.5521645545959473,
          1.558418869972229,
          1.258009672164917,
          -0.7260712385177612
         ],
         "yaxis": "y"
        },
        {
         "hovertemplate": "state=1<br>time=%{x}<br>mean=%{y}<extra></extra>",
         "legendgroup": "1",
         "line": {
          "color": "#EF553B",
          "dash": "solid"
         },
         "marker": {
          "symbol": "circle"
         },
         "mode": "lines+markers",
         "name": "1",
         "orientation": "v",
         "showlegend": true,
         "type": "scatter",
         "x": [
          1,
          2,
          3,
          4,
          5,
          6,
          7,
          8,
          9,
          10,
          11,
          12,
          13,
          14,
          15,
          16,
          17,
          18,
          19,
          20,
          21,
          22,
          23,
          24,
          25,
          26,
          27,
          28,
          29,
          30,
          31,
          32,
          33,
          34,
          35,
          36,
          37,
          38,
          39,
          40,
          41,
          42,
          43,
          44,
          45,
          46,
          47,
          48,
          49,
          50,
          51,
          52,
          53,
          54,
          55,
          56,
          57,
          58,
          59,
          60,
          61,
          62,
          63,
          64,
          65,
          66,
          67,
          68,
          69,
          70,
          71,
          72,
          73,
          74,
          75,
          76,
          77,
          78,
          79,
          80,
          81,
          82,
          83,
          84,
          85,
          86,
          87,
          88,
          89,
          90,
          91,
          92,
          93,
          94,
          95,
          96,
          97,
          98,
          99,
          100
         ],
         "xaxis": "x",
         "y": [
          -0.7866585850715637,
          -1.8843953609466553,
          -5.52896785736084,
          -4.428945064544678,
          -3.614942789077759,
          -3.679933547973633,
          -5.113957405090332,
          -6.957401275634766,
          -6.329802513122559,
          -8.150586128234863,
          -7.482479095458984,
          -9.011674880981445,
          -11.737361907958984,
          -10.376112937927246,
          -11.159996032714844,
          -11.101455688476562,
          -13.050594329833984,
          -11.367484092712402,
          -11.755022048950195,
          -13.764069557189941,
          -14.100597381591797,
          -13.636428833007812,
          -13.423517227172852,
          -12.792464256286621,
          -14.51708984375,
          -14.692357063293457,
          -14.32896900177002,
          -13.75967788696289,
          -13.330904960632324,
          -12.63129997253418,
          -11.959968566894531,
          -11.001346588134766,
          -10.01453685760498,
          -8.679991722106934,
          -9.105228424072266,
          -9.691352844238281,
          -9.558150291442871,
          -10.819402694702148,
          -10.784931182861328,
          -11.379514694213867,
          -10.830955505371094,
          -10.023128509521484,
          -10.904410362243652,
          -11.048370361328125,
          -11.079017639160156,
          -11.746014595031738,
          -11.155688285827637,
          -12.889742851257324,
          -11.293773651123047,
          -11.47081470489502,
          -11.502989768981934,
          -11.225529670715332,
          -12.00424575805664,
          -11.373980522155762,
          -10.647351264953613,
          -8.849084854125977,
          -8.131369590759277,
          -8.07526683807373,
          -6.180891513824463,
          -5.044025421142578,
          -6.70469331741333,
          -5.773203372955322,
          -5.185458183288574,
          -4.150123596191406,
          -4.656203269958496,
          -4.297357082366943,
          -4.97653341293335,
          -5.674307823181152,
          -6.430028915405273,
          -7.736013412475586,
          -8.352259635925293,
          -9.00840950012207,
          -9.528223991394043,
          -11.783753395080566,
          -12.097358703613281,
          -13.383224487304688,
          -11.250850677490234,
          -12.2109956741333,
          -12.426276206970215,
          -13.279950141906738,
          -14.102426528930664,
          -14.712587356567383,
          -16.02431297302246,
          -16.467609405517578,
          -19.259140014648438,
          -18.672433853149414,
          -19.01985740661621,
          -21.18682861328125,
          -21.52375030517578,
          -21.30493927001953,
          -21.655914306640625,
          -22.073511123657227,
          -22.7479248046875,
          -21.78588104248047,
          -22.64611053466797,
          -23.78168296813965,
          -24.42755126953125,
          -25.80083656311035,
          -25.43055534362793,
          -27.08308982849121
         ],
         "yaxis": "y"
        },
        {
         "hovertemplate": "state=2<br>time=%{x}<br>mean=%{y}<extra></extra>",
         "legendgroup": "2",
         "line": {
          "color": "#00cc96",
          "dash": "solid"
         },
         "marker": {
          "symbol": "circle"
         },
         "mode": "lines+markers",
         "name": "2",
         "orientation": "v",
         "showlegend": true,
         "type": "scatter",
         "x": [
          1,
          2,
          3,
          4,
          5,
          6,
          7,
          8,
          9,
          10,
          11,
          12,
          13,
          14,
          15,
          16,
          17,
          18,
          19,
          20,
          21,
          22,
          23,
          24,
          25,
          26,
          27,
          28,
          29,
          30,
          31,
          32,
          33,
          34,
          35,
          36,
          37,
          38,
          39,
          40,
          41,
          42,
          43,
          44,
          45,
          46,
          47,
          48,
          49,
          50,
          51,
          52,
          53,
          54,
          55,
          56,
          57,
          58,
          59,
          60,
          61,
          62,
          63,
          64,
          65,
          66,
          67,
          68,
          69,
          70,
          71,
          72,
          73,
          74,
          75,
          76,
          77,
          78,
          79,
          80,
          81,
          82,
          83,
          84,
          85,
          86,
          87,
          88,
          89,
          90,
          91,
          92,
          93,
          94,
          95,
          96,
          97,
          98,
          99,
          100
         ],
         "xaxis": "x",
         "y": [
          -0.1338227093219757,
          -1.120726466178894,
          0.015240788459777832,
          -1.5210872888565063,
          -0.9882603287696838,
          -0.45521003007888794,
          0.8417311310768127,
          1.1552366018295288,
          1.2380545139312744,
          2.942495822906494,
          2.1807053089141846,
          2.847682476043701,
          3.630727767944336,
          5.768006324768066,
          5.663707733154297,
          3.197265386581421,
          3.158914804458618,
          2.265477180480957,
          3.8364739418029785,
          3.5189969539642334,
          3.5321993827819824,
          4.142157554626465,
          5.019963264465332,
          5.657402992248535,
          5.855344295501709,
          4.99782657623291,
          3.1821718215942383,
          2.8388519287109375,
          2.548299789428711,
          2.5469253063201904,
          2.123843193054199,
          2.476865291595459,
          2.7748219966888428,
          2.037821054458618,
          1.068716287612915,
          1.579791784286499,
          0.9623765349388123,
          0.5321435928344727,
          -0.31195271015167236,
          -1.5255985260009766,
          -0.8526008129119873,
          -1.0855380296707153,
          -1.4153037071228027,
          -0.7381584644317627,
          -0.5066558718681335,
          -0.03485053777694702,
          -1.050853967666626,
          -2.8598809242248535,
          -2.7886452674865723,
          -1.9642038345336914,
          -3.097390651702881,
          -2.987913131713867,
          -2.5350873470306396,
          -0.651879072189331,
          -2.850989818572998,
          -4.319060802459717,
          -4.1619768142700195,
          -2.8816487789154053,
          -1.4308806657791138,
          -2.3238706588745117,
          -2.088639497756958,
          -2.328582525253296,
          -1.9552805423736572,
          -3.793311357498169,
          -4.3531036376953125,
          -5.545479774475098,
          -5.816864967346191,
          -5.203918933868408,
          -5.342390060424805,
          -5.141914367675781,
          -4.064079284667969,
          -3.0030293464660645,
          -2.3516736030578613,
          -4.256904602050781,
          -3.868431329727173,
          -4.667023658752441,
          -4.595407962799072,
          -6.450041770935059,
          -5.121088981628418,
          -5.4612040519714355,
          -4.976332664489746,
          -4.88356351852417,
          -5.936405658721924,
          -5.811641693115234,
          -5.547580242156982,
          -4.787103176116943,
          -5.102560043334961,
          -4.001591205596924,
          -3.8792498111724854,
          -2.5507102012634277,
          -4.514910697937012,
          -5.914196014404297,
          -6.388119220733643,
          -8.662188529968262,
          -9.496100425720215,
          -12.069846153259277,
          -11.382583618164062,
          -11.951075553894043,
          -11.394256591796875,
          -12.043588638305664
         ],
         "yaxis": "y"
        },
        {
         "hovertemplate": "state=3<br>time=%{x}<br>mean=%{y}<extra></extra>",
         "legendgroup": "3",
         "line": {
          "color": "#ab63fa",
          "dash": "solid"
         },
         "marker": {
          "symbol": "circle"
         },
         "mode": "lines+markers",
         "name": "3",
         "orientation": "v",
         "showlegend": true,
         "type": "scatter",
         "x": [
          1,
          2,
          3,
          4,
          5,
          6,
          7,
          8,
          9,
          10,
          11,
          12,
          13,
          14,
          15,
          16,
          17,
          18,
          19,
          20,
          21,
          22,
          23,
          24,
          25,
          26,
          27,
          28,
          29,
          30,
          31,
          32,
          33,
          34,
          35,
          36,
          37,
          38,
          39,
          40,
          41,
          42,
          43,
          44,
          45,
          46,
          47,
          48,
          49,
          50,
          51,
          52,
          53,
          54,
          55,
          56,
          57,
          58,
          59,
          60,
          61,
          62,
          63,
          64,
          65,
          66,
          67,
          68,
          69,
          70,
          71,
          72,
          73,
          74,
          75,
          76,
          77,
          78,
          79,
          80,
          81,
          82,
          83,
          84,
          85,
          86,
          87,
          88,
          89,
          90,
          91,
          92,
          93,
          94,
          95,
          96,
          97,
          98,
          99,
          100
         ],
         "xaxis": "x",
         "y": [
          0.433212548494339,
          0.6769264936447144,
          2.5791234970092773,
          1.935715675354004,
          2.4944794178009033,
          3.555582046508789,
          3.0106277465820312,
          2.9973416328430176,
          3.6731207370758057,
          2.977346897125244,
          2.9332528114318848,
          1.1846736669540405,
          3.159036874771118,
          2.412879467010498,
          2.525167942047119,
          3.0772604942321777,
          0.25102996826171875,
          1.0747570991516113,
          1.7862811088562012,
          3.4677441120147705,
          4.933235168457031,
          3.8970701694488525,
          3.5365734100341797,
          3.7792298793792725,
          3.7879741191864014,
          3.131699562072754,
          3.677461624145508,
          3.660139560699463,
          3.993655204772949,
          3.4542319774627686,
          3.655867576599121,
          2.975938081741333,
          2.8817241191864014,
          0.31012654304504395,
          -0.06074419617652893,
          0.9010525941848755,
          0.7211681008338928,
          2.0107691287994385,
          3.2274529933929443,
          3.3880722522735596,
          3.948118209838867,
          4.206825256347656,
          4.928094387054443,
          5.645181655883789,
          3.6839494705200195,
          3.6830637454986572,
          4.095541477203369,
          4.06719446182251,
          4.652096748352051,
          5.915454864501953,
          4.32194709777832,
          4.211612224578857,
          4.6372480392456055,
          4.252028465270996,
          5.119813919067383,
          5.77251672744751,
          3.74005126953125,
          3.2207839488983154,
          3.5125572681427,
          5.121844291687012,
          5.213119983673096,
          6.2204670906066895,
          6.637707710266113,
          7.136311054229736,
          5.992998123168945,
          6.612945079803467,
          7.03718376159668,
          7.715330123901367,
          8.781513214111328,
          8.579224586486816,
          9.43408203125,
          11.535412788391113,
          9.986796379089355,
          10.415031433105469,
          9.918801307678223,
          9.049947738647461,
          8.641324996948242,
          9.525835990905762,
          10.380508422851562,
          8.792092323303223,
          8.045145988464355,
          7.255228519439697,
          6.398711681365967,
          6.309281826019287,
          5.257927894592285,
          4.881408214569092,
          6.0269575119018555,
          7.289167404174805,
          5.980090141296387,
          6.824115753173828,
          5.804722309112549,
          5.362098693847656,
          5.626020431518555,
          5.240406513214111,
          4.9038310050964355,
          5.57846736907959,
          4.375429630279541,
          4.532748699188232,
          5.262452125549316,
          4.937292098999023
         ],
         "yaxis": "y"
        },
        {
         "hovertemplate": "state=4<br>time=%{x}<br>mean=%{y}<extra></extra>",
         "legendgroup": "4",
         "line": {
          "color": "#FFA15A",
          "dash": "solid"
         },
         "marker": {
          "symbol": "circle"
         },
         "mode": "lines+markers",
         "name": "4",
         "orientation": "v",
         "showlegend": true,
         "type": "scatter",
         "x": [
          1,
          2,
          3,
          4,
          5,
          6,
          7,
          8,
          9,
          10,
          11,
          12,
          13,
          14,
          15,
          16,
          17,
          18,
          19,
          20,
          21,
          22,
          23,
          24,
          25,
          26,
          27,
          28,
          29,
          30,
          31,
          32,
          33,
          34,
          35,
          36,
          37,
          38,
          39,
          40,
          41,
          42,
          43,
          44,
          45,
          46,
          47,
          48,
          49,
          50,
          51,
          52,
          53,
          54,
          55,
          56,
          57,
          58,
          59,
          60,
          61,
          62,
          63,
          64,
          65,
          66,
          67,
          68,
          69,
          70,
          71,
          72,
          73,
          74,
          75,
          76,
          77,
          78,
          79,
          80,
          81,
          82,
          83,
          84,
          85,
          86,
          87,
          88,
          89,
          90,
          91,
          92,
          93,
          94,
          95,
          96,
          97,
          98,
          99,
          100
         ],
         "xaxis": "x",
         "y": [
          2.097130537033081,
          0.22774052619934082,
          0.9095101952552795,
          0.9080713391304016,
          2.3015966415405273,
          3.4616031646728516,
          3.4012396335601807,
          3.7702713012695312,
          1.3590080738067627,
          0.8674159049987793,
          0.5133337378501892,
          1.7130937576293945,
          0.6078006029129028,
          -0.2743629217147827,
          -1.967167615890503,
          -1.9227838516235352,
          -2.0912833213806152,
          -3.2996866703033447,
          -2.8137495517730713,
          -1.3740074634552002,
          -0.49191373586654663,
          0.3168913722038269,
          0.7048789262771606,
          0.8358349800109863,
          3.316554307937622,
          2.988865613937378,
          2.6967124938964844,
          2.8618969917297363,
          1.3653110265731812,
          1.5387147665023804,
          -0.34194111824035645,
          -0.031112194061279297,
          0.10404300689697266,
          1.137555480003357,
          1.9457834959030151,
          1.1847145557403564,
          1.173625111579895,
          0.1452929973602295,
          0.17098468542099,
          0.38367319107055664,
          0.7894347906112671,
          1.4940855503082275,
          2.022203207015991,
          0.7749096155166626,
          1.5397263765335083,
          1.4899197816848755,
          3.2815427780151367,
          3.85475492477417,
          5.274280548095703,
          5.5634284019470215,
          5.728049278259277,
          5.8747148513793945,
          7.474969387054443,
          7.964915752410889,
          7.823050022125244,
          8.156622886657715,
          7.555134296417236,
          6.99787712097168,
          6.171941757202148,
          3.3864030838012695,
          3.468248128890991,
          1.8023656606674194,
          2.1244258880615234,
          2.5197083950042725,
          3.044022798538208,
          1.986872673034668,
          1.5605669021606445,
          1.3575183153152466,
          -0.3616054058074951,
          -1.3342052698135376,
          -1.2061454057693481,
          -1.100366473197937,
          -1.8580667972564697,
          -2.182140827178955,
          -2.4050469398498535,
          -1.5511319637298584,
          -2.0461068153381348,
          -2.1066842079162598,
          -2.6828396320343018,
          -3.06044864654541,
          -5.377102851867676,
          -5.757310390472412,
          -7.792211532592773,
          -7.313775062561035,
          -7.704164028167725,
          -9.405423164367676,
          -9.896308898925781,
          -9.573412895202637,
          -9.804368019104004,
          -9.847289085388184,
          -10.936037063598633,
          -11.71415901184082,
          -12.926778793334961,
          -11.133747100830078,
          -11.949078559875488,
          -12.512138366699219,
          -13.065339088439941,
          -12.15422534942627,
          -13.208667755126953,
          -12.892173767089844
         ],
         "yaxis": "y"
        },
        {
         "hovertemplate": "state=5<br>time=%{x}<br>mean=%{y}<extra></extra>",
         "legendgroup": "5",
         "line": {
          "color": "#19d3f3",
          "dash": "solid"
         },
         "marker": {
          "symbol": "circle"
         },
         "mode": "lines+markers",
         "name": "5",
         "orientation": "v",
         "showlegend": true,
         "type": "scatter",
         "x": [
          1,
          2,
          3,
          4,
          5,
          6,
          7,
          8,
          9,
          10,
          11,
          12,
          13,
          14,
          15,
          16,
          17,
          18,
          19,
          20,
          21,
          22,
          23,
          24,
          25,
          26,
          27,
          28,
          29,
          30,
          31,
          32,
          33,
          34,
          35,
          36,
          37,
          38,
          39,
          40,
          41,
          42,
          43,
          44,
          45,
          46,
          47,
          48,
          49,
          50,
          51,
          52,
          53,
          54,
          55,
          56,
          57,
          58,
          59,
          60,
          61,
          62,
          63,
          64,
          65,
          66,
          67,
          68,
          69,
          70,
          71,
          72,
          73,
          74,
          75,
          76,
          77,
          78,
          79,
          80,
          81,
          82,
          83,
          84,
          85,
          86,
          87,
          88,
          89,
          90,
          91,
          92,
          93,
          94,
          95,
          96,
          97,
          98,
          99,
          100
         ],
         "xaxis": "x",
         "y": [
          0.21393439173698425,
          0.8508529663085938,
          -0.7663421630859375,
          -1.43380606174469,
          -0.8604658842086792,
          -2.378962516784668,
          -3.4352474212646484,
          -3.7450079917907715,
          -3.90346360206604,
          -3.2831103801727295,
          -5.116692543029785,
          -5.458534240722656,
          -5.396833896636963,
          -5.078244209289551,
          -4.761000156402588,
          -4.366471290588379,
          -3.70817494392395,
          -3.48075795173645,
          -2.733391284942627,
          -2.4834797382354736,
          -2.135725259780884,
          -1.298180341720581,
          -0.8634281158447266,
          -1.0336436033248901,
          -1.458919882774353,
          -0.23552465438842773,
          -0.841718852519989,
          -1.1074841022491455,
          -1.143742561340332,
          -0.5998345613479614,
          -0.14642363786697388,
          -0.3688141107559204,
          0.8366187810897827,
          -0.8038500547409058,
          -0.918561577796936,
          -1.3724358081817627,
          -1.9303021430969238,
          -1.8304836750030518,
          -3.004795551300049,
          -1.3929345607757568,
          -1.99714994430542,
          -1.6722052097320557,
          -2.5995712280273438,
          -1.6350184679031372,
          -1.4973161220550537,
          -1.8031070232391357,
          -3.1257526874542236,
          -4.103579521179199,
          -4.760804653167725,
          -3.997631072998047,
          -4.76930046081543,
          -6.707267761230469,
          -6.80441427230835,
          -6.558543682098389,
          -6.6838459968566895,
          -6.394589900970459,
          -5.748323917388916,
          -4.711653709411621,
          -6.993437767028809,
          -6.409030914306641,
          -5.971134662628174,
          -6.3003716468811035,
          -5.699249744415283,
          -5.194295406341553,
          -5.200254440307617,
          -5.322487831115723,
          -5.63193416595459,
          -5.559467315673828,
          -4.030885219573975,
          -3.7611794471740723,
          -5.0720109939575195,
          -6.942453384399414,
          -8.35018539428711,
          -7.82634162902832,
          -10.841697692871094,
          -10.397619247436523,
          -9.628599166870117,
          -8.275228500366211,
          -10.064770698547363,
          -9.94345760345459,
          -8.843997955322266,
          -9.501493453979492,
          -10.424168586730957,
          -9.723634719848633,
          -9.949569702148438,
          -11.182153701782227,
          -11.046403884887695,
          -11.621184349060059,
          -12.713262557983398,
          -11.190113067626953,
          -11.662760734558105,
          -13.053956985473633,
          -13.120397567749023,
          -13.292738914489746,
          -13.178444862365723,
          -13.428970336914062,
          -13.191828727722168,
          -14.450992584228516,
          -15.321497917175293,
          -15.196920394897461
         ],
         "yaxis": "y"
        },
        {
         "hovertemplate": "state=6<br>time=%{x}<br>mean=%{y}<extra></extra>",
         "legendgroup": "6",
         "line": {
          "color": "#FF6692",
          "dash": "solid"
         },
         "marker": {
          "symbol": "circle"
         },
         "mode": "lines+markers",
         "name": "6",
         "orientation": "v",
         "showlegend": true,
         "type": "scatter",
         "x": [
          1,
          2,
          3,
          4,
          5,
          6,
          7,
          8,
          9,
          10,
          11,
          12,
          13,
          14,
          15,
          16,
          17,
          18,
          19,
          20,
          21,
          22,
          23,
          24,
          25,
          26,
          27,
          28,
          29,
          30,
          31,
          32,
          33,
          34,
          35,
          36,
          37,
          38,
          39,
          40,
          41,
          42,
          43,
          44,
          45,
          46,
          47,
          48,
          49,
          50,
          51,
          52,
          53,
          54,
          55,
          56,
          57,
          58,
          59,
          60,
          61,
          62,
          63,
          64,
          65,
          66,
          67,
          68,
          69,
          70,
          71,
          72,
          73,
          74,
          75,
          76,
          77,
          78,
          79,
          80,
          81,
          82,
          83,
          84,
          85,
          86,
          87,
          88,
          89,
          90,
          91,
          92,
          93,
          94,
          95,
          96,
          97,
          98,
          99,
          100
         ],
         "xaxis": "x",
         "y": [
          0.2916272282600403,
          0.6826589703559875,
          2.497408628463745,
          1.9627704620361328,
          2.7192223072052,
          3.5663673877716064,
          3.885085105895996,
          4.858511924743652,
          5.073923587799072,
          4.2920026779174805,
          3.6408724784851074,
          3.6475980281829834,
          2.88215970993042,
          2.921372413635254,
          2.601767063140869,
          1.7942261695861816,
          1.3698687553405762,
          1.7693285942077637,
          1.4663753509521484,
          1.744978904724121,
          1.3796348571777344,
          -0.2488034963607788,
          -1.6250293254852295,
          -2.141188621520996,
          -3.866668224334717,
          -4.801076889038086,
          -3.7329094409942627,
          -3.502595901489258,
          -4.149136066436768,
          -3.1213979721069336,
          -4.276700973510742,
          -3.5355045795440674,
          -3.477905511856079,
          -4.02247953414917,
          -5.149628162384033,
          -5.1534423828125,
          -5.230662822723389,
          -5.836208343505859,
          -4.8112969398498535,
          -3.758647918701172,
          -3.9005513191223145,
          -2.6038784980773926,
          -1.4495179653167725,
          -0.5040820240974426,
          1.879629135131836,
          2.1231441497802734,
          2.728590726852417,
          4.6660356521606445,
          2.1953394412994385,
          2.80785870552063,
          1.9010515213012695,
          1.031844139099121,
          0.10191750526428223,
          -1.0602703094482422,
          -1.7903306484222412,
          -3.6544876098632812,
          -3.255919933319092,
          -2.756342887878418,
          -2.322338342666626,
          -2.7917017936706543,
          -5.188727378845215,
          -5.275794506072998,
          -5.059943199157715,
          -4.11150598526001,
          -4.65476655960083,
          -4.575357913970947,
          -6.590254783630371,
          -6.821714878082275,
          -7.042705059051514,
          -7.006073474884033,
          -6.483237266540527,
          -5.55652379989624,
          -5.070440769195557,
          -5.776505470275879,
          -3.2033653259277344,
          -6.217835903167725,
          -6.95512056350708,
          -7.453864574432373,
          -7.369513988494873,
          -7.283019542694092,
          -7.751134395599365,
          -9.087057113647461,
          -9.605802536010742,
          -9.602298736572266,
          -9.660360336303711,
          -10.185064315795898,
          -9.384088516235352,
          -10.172523498535156,
          -12.166302680969238,
          -10.86812686920166,
          -10.456003189086914,
          -10.342449188232422,
          -10.674238204956055,
          -10.877277374267578,
          -11.875175476074219,
          -12.530693054199219,
          -12.641566276550293,
          -12.27454948425293,
          -11.057689666748047,
          -11.108726501464844
         ],
         "yaxis": "y"
        },
        {
         "hovertemplate": "state=7<br>time=%{x}<br>mean=%{y}<extra></extra>",
         "legendgroup": "7",
         "line": {
          "color": "#B6E880",
          "dash": "solid"
         },
         "marker": {
          "symbol": "circle"
         },
         "mode": "lines+markers",
         "name": "7",
         "orientation": "v",
         "showlegend": true,
         "type": "scatter",
         "x": [
          1,
          2,
          3,
          4,
          5,
          6,
          7,
          8,
          9,
          10,
          11,
          12,
          13,
          14,
          15,
          16,
          17,
          18,
          19,
          20,
          21,
          22,
          23,
          24,
          25,
          26,
          27,
          28,
          29,
          30,
          31,
          32,
          33,
          34,
          35,
          36,
          37,
          38,
          39,
          40,
          41,
          42,
          43,
          44,
          45,
          46,
          47,
          48,
          49,
          50,
          51,
          52,
          53,
          54,
          55,
          56,
          57,
          58,
          59,
          60,
          61,
          62,
          63,
          64,
          65,
          66,
          67,
          68,
          69,
          70,
          71,
          72,
          73,
          74,
          75,
          76,
          77,
          78,
          79,
          80,
          81,
          82,
          83,
          84,
          85,
          86,
          87,
          88,
          89,
          90,
          91,
          92,
          93,
          94,
          95,
          96,
          97,
          98,
          99,
          100
         ],
         "xaxis": "x",
         "y": [
          -0.5445402264595032,
          0.1428181529045105,
          -0.6023222208023071,
          -2.669466972351074,
          -2.8193864822387695,
          -1.7046915292739868,
          -1.4188690185546875,
          -1.377276062965393,
          -0.22622394561767578,
          -0.8543379306793213,
          -1.0246777534484863,
          -0.5143312215805054,
          -1.129439115524292,
          -0.15462380647659302,
          1.52655029296875,
          -0.36064791679382324,
          -0.4493259787559509,
          -0.4361017346382141,
          -0.08952802419662476,
          0.4234771132469177,
          -0.8228818774223328,
          0.21269458532333374,
          -0.48325657844543457,
          -0.23188632726669312,
          0.04223066568374634,
          0.5445621609687805,
          1.327521800994873,
          3.0439038276672363,
          2.988339900970459,
          4.378045082092285,
          4.071682929992676,
          4.095061302185059,
          3.8235831260681152,
          4.631411075592041,
          5.241302013397217,
          5.175355911254883,
          2.9561545848846436,
          2.6170690059661865,
          4.002421855926514,
          4.614979267120361,
          4.86484956741333,
          5.053703784942627,
          5.4244771003723145,
          5.941738605499268,
          5.807030200958252,
          5.8152031898498535,
          6.427396774291992,
          5.781285285949707,
          5.653436660766602,
          5.524240016937256,
          7.243508815765381,
          7.609178066253662,
          8.100175857543945,
          8.29794979095459,
          8.48679256439209,
          9.343437194824219,
          9.196961402893066,
          6.804431915283203,
          7.7701263427734375,
          6.149466514587402,
          5.906986713409424,
          5.951883792877197,
          4.202167510986328,
          4.515753269195557,
          4.693796157836914,
          2.6362454891204834,
          3.299069881439209,
          4.150528907775879,
          3.193155527114868,
          3.605078935623169,
          5.06460428237915,
          4.212790012359619,
          3.05999755859375,
          3.539898633956909,
          2.7826709747314453,
          2.1806278228759766,
          2.0746943950653076,
          3.0988714694976807,
          4.21999979019165,
          4.704481601715088,
          6.402684211730957,
          5.52790641784668,
          5.153883934020996,
          5.068996429443359,
          5.714986324310303,
          5.865900993347168,
          6.346133708953857,
          7.361362934112549,
          9.08759880065918,
          9.150280952453613,
          10.038474082946777,
          8.768494606018066,
          8.482060432434082,
          8.114995956420898,
          9.363221168518066,
          8.42922306060791,
          7.897713661193848,
          8.698009490966797,
          7.73933219909668,
          6.328279972076416
         ],
         "yaxis": "y"
        }
       ],
       "layout": {
        "autosize": true,
        "legend": {
         "title": {
          "text": "state"
         },
         "tracegroupgap": 0
        },
        "margin": {
         "t": 60
        },
        "template": {
         "data": {
          "bar": [
           {
            "error_x": {
             "color": "#2a3f5f"
            },
            "error_y": {
             "color": "#2a3f5f"
            },
            "marker": {
             "line": {
              "color": "#E5ECF6",
              "width": 0.5
             },
             "pattern": {
              "fillmode": "overlay",
              "size": 10,
              "solidity": 0.2
             }
            },
            "type": "bar"
           }
          ],
          "barpolar": [
           {
            "marker": {
             "line": {
              "color": "#E5ECF6",
              "width": 0.5
             },
             "pattern": {
              "fillmode": "overlay",
              "size": 10,
              "solidity": 0.2
             }
            },
            "type": "barpolar"
           }
          ],
          "carpet": [
           {
            "aaxis": {
             "endlinecolor": "#2a3f5f",
             "gridcolor": "white",
             "linecolor": "white",
             "minorgridcolor": "white",
             "startlinecolor": "#2a3f5f"
            },
            "baxis": {
             "endlinecolor": "#2a3f5f",
             "gridcolor": "white",
             "linecolor": "white",
             "minorgridcolor": "white",
             "startlinecolor": "#2a3f5f"
            },
            "type": "carpet"
           }
          ],
          "choropleth": [
           {
            "colorbar": {
             "outlinewidth": 0,
             "ticks": ""
            },
            "type": "choropleth"
           }
          ],
          "contour": [
           {
            "colorbar": {
             "outlinewidth": 0,
             "ticks": ""
            },
            "colorscale": [
             [
              0,
              "#0d0887"
             ],
             [
              0.1111111111111111,
              "#46039f"
             ],
             [
              0.2222222222222222,
              "#7201a8"
             ],
             [
              0.3333333333333333,
              "#9c179e"
             ],
             [
              0.4444444444444444,
              "#bd3786"
             ],
             [
              0.5555555555555556,
              "#d8576b"
             ],
             [
              0.6666666666666666,
              "#ed7953"
             ],
             [
              0.7777777777777778,
              "#fb9f3a"
             ],
             [
              0.8888888888888888,
              "#fdca26"
             ],
             [
              1,
              "#f0f921"
             ]
            ],
            "type": "contour"
           }
          ],
          "contourcarpet": [
           {
            "colorbar": {
             "outlinewidth": 0,
             "ticks": ""
            },
            "type": "contourcarpet"
           }
          ],
          "heatmap": [
           {
            "colorbar": {
             "outlinewidth": 0,
             "ticks": ""
            },
            "colorscale": [
             [
              0,
              "#0d0887"
             ],
             [
              0.1111111111111111,
              "#46039f"
             ],
             [
              0.2222222222222222,
              "#7201a8"
             ],
             [
              0.3333333333333333,
              "#9c179e"
             ],
             [
              0.4444444444444444,
              "#bd3786"
             ],
             [
              0.5555555555555556,
              "#d8576b"
             ],
             [
              0.6666666666666666,
              "#ed7953"
             ],
             [
              0.7777777777777778,
              "#fb9f3a"
             ],
             [
              0.8888888888888888,
              "#fdca26"
             ],
             [
              1,
              "#f0f921"
             ]
            ],
            "type": "heatmap"
           }
          ],
          "heatmapgl": [
           {
            "colorbar": {
             "outlinewidth": 0,
             "ticks": ""
            },
            "colorscale": [
             [
              0,
              "#0d0887"
             ],
             [
              0.1111111111111111,
              "#46039f"
             ],
             [
              0.2222222222222222,
              "#7201a8"
             ],
             [
              0.3333333333333333,
              "#9c179e"
             ],
             [
              0.4444444444444444,
              "#bd3786"
             ],
             [
              0.5555555555555556,
              "#d8576b"
             ],
             [
              0.6666666666666666,
              "#ed7953"
             ],
             [
              0.7777777777777778,
              "#fb9f3a"
             ],
             [
              0.8888888888888888,
              "#fdca26"
             ],
             [
              1,
              "#f0f921"
             ]
            ],
            "type": "heatmapgl"
           }
          ],
          "histogram": [
           {
            "marker": {
             "pattern": {
              "fillmode": "overlay",
              "size": 10,
              "solidity": 0.2
             }
            },
            "type": "histogram"
           }
          ],
          "histogram2d": [
           {
            "colorbar": {
             "outlinewidth": 0,
             "ticks": ""
            },
            "colorscale": [
             [
              0,
              "#0d0887"
             ],
             [
              0.1111111111111111,
              "#46039f"
             ],
             [
              0.2222222222222222,
              "#7201a8"
             ],
             [
              0.3333333333333333,
              "#9c179e"
             ],
             [
              0.4444444444444444,
              "#bd3786"
             ],
             [
              0.5555555555555556,
              "#d8576b"
             ],
             [
              0.6666666666666666,
              "#ed7953"
             ],
             [
              0.7777777777777778,
              "#fb9f3a"
             ],
             [
              0.8888888888888888,
              "#fdca26"
             ],
             [
              1,
              "#f0f921"
             ]
            ],
            "type": "histogram2d"
           }
          ],
          "histogram2dcontour": [
           {
            "colorbar": {
             "outlinewidth": 0,
             "ticks": ""
            },
            "colorscale": [
             [
              0,
              "#0d0887"
             ],
             [
              0.1111111111111111,
              "#46039f"
             ],
             [
              0.2222222222222222,
              "#7201a8"
             ],
             [
              0.3333333333333333,
              "#9c179e"
             ],
             [
              0.4444444444444444,
              "#bd3786"
             ],
             [
              0.5555555555555556,
              "#d8576b"
             ],
             [
              0.6666666666666666,
              "#ed7953"
             ],
             [
              0.7777777777777778,
              "#fb9f3a"
             ],
             [
              0.8888888888888888,
              "#fdca26"
             ],
             [
              1,
              "#f0f921"
             ]
            ],
            "type": "histogram2dcontour"
           }
          ],
          "mesh3d": [
           {
            "colorbar": {
             "outlinewidth": 0,
             "ticks": ""
            },
            "type": "mesh3d"
           }
          ],
          "parcoords": [
           {
            "line": {
             "colorbar": {
              "outlinewidth": 0,
              "ticks": ""
             }
            },
            "type": "parcoords"
           }
          ],
          "pie": [
           {
            "automargin": true,
            "type": "pie"
           }
          ],
          "scatter": [
           {
            "fillpattern": {
             "fillmode": "overlay",
             "size": 10,
             "solidity": 0.2
            },
            "type": "scatter"
           }
          ],
          "scatter3d": [
           {
            "line": {
             "colorbar": {
              "outlinewidth": 0,
              "ticks": ""
             }
            },
            "marker": {
             "colorbar": {
              "outlinewidth": 0,
              "ticks": ""
             }
            },
            "type": "scatter3d"
           }
          ],
          "scattercarpet": [
           {
            "marker": {
             "colorbar": {
              "outlinewidth": 0,
              "ticks": ""
             }
            },
            "type": "scattercarpet"
           }
          ],
          "scattergeo": [
           {
            "marker": {
             "colorbar": {
              "outlinewidth": 0,
              "ticks": ""
             }
            },
            "type": "scattergeo"
           }
          ],
          "scattergl": [
           {
            "marker": {
             "colorbar": {
              "outlinewidth": 0,
              "ticks": ""
             }
            },
            "type": "scattergl"
           }
          ],
          "scattermapbox": [
           {
            "marker": {
             "colorbar": {
              "outlinewidth": 0,
              "ticks": ""
             }
            },
            "type": "scattermapbox"
           }
          ],
          "scatterpolar": [
           {
            "marker": {
             "colorbar": {
              "outlinewidth": 0,
              "ticks": ""
             }
            },
            "type": "scatterpolar"
           }
          ],
          "scatterpolargl": [
           {
            "marker": {
             "colorbar": {
              "outlinewidth": 0,
              "ticks": ""
             }
            },
            "type": "scatterpolargl"
           }
          ],
          "scatterternary": [
           {
            "marker": {
             "colorbar": {
              "outlinewidth": 0,
              "ticks": ""
             }
            },
            "type": "scatterternary"
           }
          ],
          "surface": [
           {
            "colorbar": {
             "outlinewidth": 0,
             "ticks": ""
            },
            "colorscale": [
             [
              0,
              "#0d0887"
             ],
             [
              0.1111111111111111,
              "#46039f"
             ],
             [
              0.2222222222222222,
              "#7201a8"
             ],
             [
              0.3333333333333333,
              "#9c179e"
             ],
             [
              0.4444444444444444,
              "#bd3786"
             ],
             [
              0.5555555555555556,
              "#d8576b"
             ],
             [
              0.6666666666666666,
              "#ed7953"
             ],
             [
              0.7777777777777778,
              "#fb9f3a"
             ],
             [
              0.8888888888888888,
              "#fdca26"
             ],
             [
              1,
              "#f0f921"
             ]
            ],
            "type": "surface"
           }
          ],
          "table": [
           {
            "cells": {
             "fill": {
              "color": "#EBF0F8"
             },
             "line": {
              "color": "white"
             }
            },
            "header": {
             "fill": {
              "color": "#C8D4E3"
             },
             "line": {
              "color": "white"
             }
            },
            "type": "table"
           }
          ]
         },
         "layout": {
          "annotationdefaults": {
           "arrowcolor": "#2a3f5f",
           "arrowhead": 0,
           "arrowwidth": 1
          },
          "autotypenumbers": "strict",
          "coloraxis": {
           "colorbar": {
            "outlinewidth": 0,
            "ticks": ""
           }
          },
          "colorscale": {
           "diverging": [
            [
             0,
             "#8e0152"
            ],
            [
             0.1,
             "#c51b7d"
            ],
            [
             0.2,
             "#de77ae"
            ],
            [
             0.3,
             "#f1b6da"
            ],
            [
             0.4,
             "#fde0ef"
            ],
            [
             0.5,
             "#f7f7f7"
            ],
            [
             0.6,
             "#e6f5d0"
            ],
            [
             0.7,
             "#b8e186"
            ],
            [
             0.8,
             "#7fbc41"
            ],
            [
             0.9,
             "#4d9221"
            ],
            [
             1,
             "#276419"
            ]
           ],
           "sequential": [
            [
             0,
             "#0d0887"
            ],
            [
             0.1111111111111111,
             "#46039f"
            ],
            [
             0.2222222222222222,
             "#7201a8"
            ],
            [
             0.3333333333333333,
             "#9c179e"
            ],
            [
             0.4444444444444444,
             "#bd3786"
            ],
            [
             0.5555555555555556,
             "#d8576b"
            ],
            [
             0.6666666666666666,
             "#ed7953"
            ],
            [
             0.7777777777777778,
             "#fb9f3a"
            ],
            [
             0.8888888888888888,
             "#fdca26"
            ],
            [
             1,
             "#f0f921"
            ]
           ],
           "sequentialminus": [
            [
             0,
             "#0d0887"
            ],
            [
             0.1111111111111111,
             "#46039f"
            ],
            [
             0.2222222222222222,
             "#7201a8"
            ],
            [
             0.3333333333333333,
             "#9c179e"
            ],
            [
             0.4444444444444444,
             "#bd3786"
            ],
            [
             0.5555555555555556,
             "#d8576b"
            ],
            [
             0.6666666666666666,
             "#ed7953"
            ],
            [
             0.7777777777777778,
             "#fb9f3a"
            ],
            [
             0.8888888888888888,
             "#fdca26"
            ],
            [
             1,
             "#f0f921"
            ]
           ]
          },
          "colorway": [
           "#636efa",
           "#EF553B",
           "#00cc96",
           "#ab63fa",
           "#FFA15A",
           "#19d3f3",
           "#FF6692",
           "#B6E880",
           "#FF97FF",
           "#FECB52"
          ],
          "font": {
           "color": "#2a3f5f"
          },
          "geo": {
           "bgcolor": "white",
           "lakecolor": "white",
           "landcolor": "#E5ECF6",
           "showlakes": true,
           "showland": true,
           "subunitcolor": "white"
          },
          "hoverlabel": {
           "align": "left"
          },
          "hovermode": "closest",
          "mapbox": {
           "style": "light"
          },
          "paper_bgcolor": "white",
          "plot_bgcolor": "#E5ECF6",
          "polar": {
           "angularaxis": {
            "gridcolor": "white",
            "linecolor": "white",
            "ticks": ""
           },
           "bgcolor": "#E5ECF6",
           "radialaxis": {
            "gridcolor": "white",
            "linecolor": "white",
            "ticks": ""
           }
          },
          "scene": {
           "xaxis": {
            "backgroundcolor": "#E5ECF6",
            "gridcolor": "white",
            "gridwidth": 2,
            "linecolor": "white",
            "showbackground": true,
            "ticks": "",
            "zerolinecolor": "white"
           },
           "yaxis": {
            "backgroundcolor": "#E5ECF6",
            "gridcolor": "white",
            "gridwidth": 2,
            "linecolor": "white",
            "showbackground": true,
            "ticks": "",
            "zerolinecolor": "white"
           },
           "zaxis": {
            "backgroundcolor": "#E5ECF6",
            "gridcolor": "white",
            "gridwidth": 2,
            "linecolor": "white",
            "showbackground": true,
            "ticks": "",
            "zerolinecolor": "white"
           }
          },
          "shapedefaults": {
           "line": {
            "color": "#2a3f5f"
           }
          },
          "ternary": {
           "aaxis": {
            "gridcolor": "white",
            "linecolor": "white",
            "ticks": ""
           },
           "baxis": {
            "gridcolor": "white",
            "linecolor": "white",
            "ticks": ""
           },
           "bgcolor": "#E5ECF6",
           "caxis": {
            "gridcolor": "white",
            "linecolor": "white",
            "ticks": ""
           }
          },
          "title": {
           "x": 0.05
          },
          "xaxis": {
           "automargin": true,
           "gridcolor": "white",
           "linecolor": "white",
           "ticks": "",
           "title": {
            "standoff": 15
           },
           "zerolinecolor": "white",
           "zerolinewidth": 2
          },
          "yaxis": {
           "automargin": true,
           "gridcolor": "white",
           "linecolor": "white",
           "ticks": "",
           "title": {
            "standoff": 15
           },
           "zerolinecolor": "white",
           "zerolinewidth": 2
          }
         }
        },
        "xaxis": {
         "anchor": "y",
         "autorange": true,
         "domain": [
          0,
          1
         ],
         "range": [
          -5.221027792343997,
          106.221027792344
         ],
         "title": {
          "text": "time"
         },
         "type": "linear"
        },
        "yaxis": {
         "anchor": "x",
         "autorange": true,
         "domain": [
          0,
          1
         ],
         "range": [
          -30.073236356570025,
          14.525559316469929
         ],
         "title": {
          "text": "mean"
         },
         "type": "linear"
        }
       }
      },
      "image/png": "[encoded data removed]",
      "text/html": [
       "<div>                            <div id=\"7240efbd-a30e-44f1-a2da-d39221af0107\" class=\"plotly-graph-div\" style=\"height:525px; width:100%;\"></div>            <script type=\"text/javascript\">                require([\"plotly\"], function(Plotly) {                    window.PLOTLYENV=window.PLOTLYENV || {};                                    if (document.getElementById(\"7240efbd-a30e-44f1-a2da-d39221af0107\")) {                    Plotly.newPlot(                        \"7240efbd-a30e-44f1-a2da-d39221af0107\",                        [{\"hovertemplate\":\"state=0<br>time=%{x}<br>mean=%{y}<extra></extra>\",\"legendgroup\":\"0\",\"line\":{\"color\":\"#636efa\",\"dash\":\"solid\"},\"marker\":{\"symbol\":\"circle\"},\"mode\":\"lines+markers\",\"name\":\"0\",\"orientation\":\"v\",\"showlegend\":true,\"x\":[1.0,2.0,3.0,4.0,5.0,6.0,7.0,8.0,9.0,10.0,11.0,12.0,13.0,14.0,15.0,16.0,17.0,18.0,19.0,20.0,21.0,22.0,23.0,24.0,25.0,26.0,27.0,28.0,29.0,30.0,31.0,32.0,33.0,34.0,35.0,36.0,37.0,38.0,39.0,40.0,41.0,42.0,43.0,44.0,45.0,46.0,47.0,48.0,49.0,50.0,51.0,52.0,53.0,54.0,55.0,56.0,57.0,58.0,59.0,60.0,61.0,62.0,63.0,64.0,65.0,66.0,67.0,68.0,69.0,70.0,71.0,72.0,73.0,74.0,75.0,76.0,77.0,78.0,79.0,80.0,81.0,82.0,83.0,84.0,85.0,86.0,87.0,88.0,89.0,90.0,91.0,92.0,93.0,94.0,95.0,96.0,97.0,98.0,99.0,100.0],\"xaxis\":\"x\",\"y\":[0.16428428888320923,-1.121492862701416,-0.9301159977912903,-0.8456332683563232,0.18601536750793457,-0.07772141695022583,0.5452954173088074,1.4836905002593994,-0.2449573278427124,0.7920494079589844,-0.07556939125061035,0.05431874096393585,1.1974681615829468,0.9259942770004272,1.9499670267105103,3.3164806365966797,3.3175888061523438,4.262173175811768,5.688459873199463,6.751574516296387,7.370823383331299,6.789937973022461,5.757535934448242,7.4952239990234375,8.67590618133545,8.03626823425293,7.710587024688721,7.872012615203857,8.312873840332031,7.405496120452881,7.037639617919922,5.737030982971191,5.526294231414795,5.864031791687012,5.330712795257568,5.672391414642334,7.608319282531738,6.55694580078125,6.896308422088623,7.813673973083496,7.597447872161865,6.913330078125,6.854650020599365,6.389800548553467,7.96199893951416,8.87006664276123,7.942964553833008,8.411388397216797,8.420893669128418,9.135355949401855,9.785377502441406,9.278940200805664,8.179795265197754,7.908074378967285,8.291749000549316,7.563849449157715,7.897363662719727,7.676363945007324,7.707177639007568,7.234283447265625,8.349592208862305,6.647064208984375,6.242392539978027,6.168433666229248,5.097090244293213,5.702472686767578,5.143733024597168,4.05891752243042,3.209704637527466,3.999422073364258,4.597393035888672,5.249389171600342,5.863757610321045,4.423012733459473,3.5354299545288086,4.0585551261901855,3.680999755859375,4.019265174865723,1.242727518081665,0.2458171844482422,0.16746430099010468,1.6930601596832275,1.7403881549835205,0.6556264162063599,0.2256578505039215,0.22408248484134674,1.2318249940872192,2.6809682846069336,2.4358177185058594,2.15706729888916,2.39851713180542,3.6399524211883545,4.594997406005859,3.3100311756134033,1.9212170839309692,2.5359578132629395,2.5521645545959473,1.558418869972229,1.258009672164917,-0.7260712385177612],\"yaxis\":\"y\",\"type\":\"scatter\"},{\"hovertemplate\":\"state=1<br>time=%{x}<br>mean=%{y}<extra></extra>\",\"legendgroup\":\"1\",\"line\":{\"color\":\"#EF553B\",\"dash\":\"solid\"},\"marker\":{\"symbol\":\"circle\"},\"mode\":\"lines+markers\",\"name\":\"1\",\"orientation\":\"v\",\"showlegend\":true,\"x\":[1.0,2.0,3.0,4.0,5.0,6.0,7.0,8.0,9.0,10.0,11.0,12.0,13.0,14.0,15.0,16.0,17.0,18.0,19.0,20.0,21.0,22.0,23.0,24.0,25.0,26.0,27.0,28.0,29.0,30.0,31.0,32.0,33.0,34.0,35.0,36.0,37.0,38.0,39.0,40.0,41.0,42.0,43.0,44.0,45.0,46.0,47.0,48.0,49.0,50.0,51.0,52.0,53.0,54.0,55.0,56.0,57.0,58.0,59.0,60.0,61.0,62.0,63.0,64.0,65.0,66.0,67.0,68.0,69.0,70.0,71.0,72.0,73.0,74.0,75.0,76.0,77.0,78.0,79.0,80.0,81.0,82.0,83.0,84.0,85.0,86.0,87.0,88.0,89.0,90.0,91.0,92.0,93.0,94.0,95.0,96.0,97.0,98.0,99.0,100.0],\"xaxis\":\"x\",\"y\":[-0.7866585850715637,-1.8843953609466553,-5.52896785736084,-4.428945064544678,-3.614942789077759,-3.679933547973633,-5.113957405090332,-6.957401275634766,-6.329802513122559,-8.150586128234863,-7.482479095458984,-9.011674880981445,-11.737361907958984,-10.376112937927246,-11.159996032714844,-11.101455688476562,-13.050594329833984,-11.367484092712402,-11.755022048950195,-13.764069557189941,-14.100597381591797,-13.636428833007812,-13.423517227172852,-12.792464256286621,-14.51708984375,-14.692357063293457,-14.32896900177002,-13.75967788696289,-13.330904960632324,-12.63129997253418,-11.959968566894531,-11.001346588134766,-10.01453685760498,-8.679991722106934,-9.105228424072266,-9.691352844238281,-9.558150291442871,-10.819402694702148,-10.784931182861328,-11.379514694213867,-10.830955505371094,-10.023128509521484,-10.904410362243652,-11.048370361328125,-11.079017639160156,-11.746014595031738,-11.155688285827637,-12.889742851257324,-11.293773651123047,-11.47081470489502,-11.502989768981934,-11.225529670715332,-12.00424575805664,-11.373980522155762,-10.647351264953613,-8.849084854125977,-8.131369590759277,-8.07526683807373,-6.180891513824463,-5.044025421142578,-6.70469331741333,-5.773203372955322,-5.185458183288574,-4.150123596191406,-4.656203269958496,-4.297357082366943,-4.97653341293335,-5.674307823181152,-6.430028915405273,-7.736013412475586,-8.352259635925293,-9.00840950012207,-9.528223991394043,-11.783753395080566,-12.097358703613281,-13.383224487304688,-11.250850677490234,-12.2109956741333,-12.426276206970215,-13.279950141906738,-14.102426528930664,-14.712587356567383,-16.02431297302246,-16.467609405517578,-19.259140014648438,-18.672433853149414,-19.01985740661621,-21.18682861328125,-21.52375030517578,-21.30493927001953,-21.655914306640625,-22.073511123657227,-22.7479248046875,-21.78588104248047,-22.64611053466797,-23.78168296813965,-24.42755126953125,-25.80083656311035,-25.43055534362793,-27.08308982849121],\"yaxis\":\"y\",\"type\":\"scatter\"},{\"hovertemplate\":\"state=2<br>time=%{x}<br>mean=%{y}<extra></extra>\",\"legendgroup\":\"2\",\"line\":{\"color\":\"#00cc96\",\"dash\":\"solid\"},\"marker\":{\"symbol\":\"circle\"},\"mode\":\"lines+markers\",\"name\":\"2\",\"orientation\":\"v\",\"showlegend\":true,\"x\":[1.0,2.0,3.0,4.0,5.0,6.0,7.0,8.0,9.0,10.0,11.0,12.0,13.0,14.0,15.0,16.0,17.0,18.0,19.0,20.0,21.0,22.0,23.0,24.0,25.0,26.0,27.0,28.0,29.0,30.0,31.0,32.0,33.0,34.0,35.0,36.0,37.0,38.0,39.0,40.0,41.0,42.0,43.0,44.0,45.0,46.0,47.0,48.0,49.0,50.0,51.0,52.0,53.0,54.0,55.0,56.0,57.0,58.0,59.0,60.0,61.0,62.0,63.0,64.0,65.0,66.0,67.0,68.0,69.0,70.0,71.0,72.0,73.0,74.0,75.0,76.0,77.0,78.0,79.0,80.0,81.0,82.0,83.0,84.0,85.0,86.0,87.0,88.0,89.0,90.0,91.0,92.0,93.0,94.0,95.0,96.0,97.0,98.0,99.0,100.0],\"xaxis\":\"x\",\"y\":[-0.1338227093219757,-1.120726466178894,0.015240788459777832,-1.5210872888565063,-0.9882603287696838,-0.45521003007888794,0.8417311310768127,1.1552366018295288,1.2380545139312744,2.942495822906494,2.1807053089141846,2.847682476043701,3.630727767944336,5.768006324768066,5.663707733154297,3.197265386581421,3.158914804458618,2.265477180480957,3.8364739418029785,3.5189969539642334,3.5321993827819824,4.142157554626465,5.019963264465332,5.657402992248535,5.855344295501709,4.99782657623291,3.1821718215942383,2.8388519287109375,2.548299789428711,2.5469253063201904,2.123843193054199,2.476865291595459,2.7748219966888428,2.037821054458618,1.068716287612915,1.579791784286499,0.9623765349388123,0.5321435928344727,-0.31195271015167236,-1.5255985260009766,-0.8526008129119873,-1.0855380296707153,-1.4153037071228027,-0.7381584644317627,-0.5066558718681335,-0.03485053777694702,-1.050853967666626,-2.8598809242248535,-2.7886452674865723,-1.9642038345336914,-3.097390651702881,-2.987913131713867,-2.5350873470306396,-0.651879072189331,-2.850989818572998,-4.319060802459717,-4.1619768142700195,-2.8816487789154053,-1.4308806657791138,-2.3238706588745117,-2.088639497756958,-2.328582525253296,-1.9552805423736572,-3.793311357498169,-4.3531036376953125,-5.545479774475098,-5.816864967346191,-5.203918933868408,-5.342390060424805,-5.141914367675781,-4.064079284667969,-3.0030293464660645,-2.3516736030578613,-4.256904602050781,-3.868431329727173,-4.667023658752441,-4.595407962799072,-6.450041770935059,-5.121088981628418,-5.4612040519714355,-4.976332664489746,-4.88356351852417,-5.936405658721924,-5.811641693115234,-5.547580242156982,-4.787103176116943,-5.102560043334961,-4.001591205596924,-3.8792498111724854,-2.5507102012634277,-4.514910697937012,-5.914196014404297,-6.388119220733643,-8.662188529968262,-9.496100425720215,-12.069846153259277,-11.382583618164062,-11.951075553894043,-11.394256591796875,-12.043588638305664],\"yaxis\":\"y\",\"type\":\"scatter\"},{\"hovertemplate\":\"state=3<br>time=%{x}<br>mean=%{y}<extra></extra>\",\"legendgroup\":\"3\",\"line\":{\"color\":\"#ab63fa\",\"dash\":\"solid\"},\"marker\":{\"symbol\":\"circle\"},\"mode\":\"lines+markers\",\"name\":\"3\",\"orientation\":\"v\",\"showlegend\":true,\"x\":[1.0,2.0,3.0,4.0,5.0,6.0,7.0,8.0,9.0,10.0,11.0,12.0,13.0,14.0,15.0,16.0,17.0,18.0,19.0,20.0,21.0,22.0,23.0,24.0,25.0,26.0,27.0,28.0,29.0,30.0,31.0,32.0,33.0,34.0,35.0,36.0,37.0,38.0,39.0,40.0,41.0,42.0,43.0,44.0,45.0,46.0,47.0,48.0,49.0,50.0,51.0,52.0,53.0,54.0,55.0,56.0,57.0,58.0,59.0,60.0,61.0,62.0,63.0,64.0,65.0,66.0,67.0,68.0,69.0,70.0,71.0,72.0,73.0,74.0,75.0,76.0,77.0,78.0,79.0,80.0,81.0,82.0,83.0,84.0,85.0,86.0,87.0,88.0,89.0,90.0,91.0,92.0,93.0,94.0,95.0,96.0,97.0,98.0,99.0,100.0],\"xaxis\":\"x\",\"y\":[0.433212548494339,0.6769264936447144,2.5791234970092773,1.935715675354004,2.4944794178009033,3.555582046508789,3.0106277465820312,2.9973416328430176,3.6731207370758057,2.977346897125244,2.9332528114318848,1.1846736669540405,3.159036874771118,2.412879467010498,2.525167942047119,3.0772604942321777,0.25102996826171875,1.0747570991516113,1.7862811088562012,3.4677441120147705,4.933235168457031,3.8970701694488525,3.5365734100341797,3.7792298793792725,3.7879741191864014,3.131699562072754,3.677461624145508,3.660139560699463,3.993655204772949,3.4542319774627686,3.655867576599121,2.975938081741333,2.8817241191864014,0.31012654304504395,-0.06074419617652893,0.9010525941848755,0.7211681008338928,2.0107691287994385,3.2274529933929443,3.3880722522735596,3.948118209838867,4.206825256347656,4.928094387054443,5.645181655883789,3.6839494705200195,3.6830637454986572,4.095541477203369,4.06719446182251,4.652096748352051,5.915454864501953,4.32194709777832,4.211612224578857,4.6372480392456055,4.252028465270996,5.119813919067383,5.77251672744751,3.74005126953125,3.2207839488983154,3.5125572681427,5.121844291687012,5.213119983673096,6.2204670906066895,6.637707710266113,7.136311054229736,5.992998123168945,6.612945079803467,7.03718376159668,7.715330123901367,8.781513214111328,8.579224586486816,9.43408203125,11.535412788391113,9.986796379089355,10.415031433105469,9.918801307678223,9.049947738647461,8.641324996948242,9.525835990905762,10.380508422851562,8.792092323303223,8.045145988464355,7.255228519439697,6.398711681365967,6.309281826019287,5.257927894592285,4.881408214569092,6.0269575119018555,7.289167404174805,5.980090141296387,6.824115753173828,5.804722309112549,5.362098693847656,5.626020431518555,5.240406513214111,4.9038310050964355,5.57846736907959,4.375429630279541,4.532748699188232,5.262452125549316,4.937292098999023],\"yaxis\":\"y\",\"type\":\"scatter\"},{\"hovertemplate\":\"state=4<br>time=%{x}<br>mean=%{y}<extra></extra>\",\"legendgroup\":\"4\",\"line\":{\"color\":\"#FFA15A\",\"dash\":\"solid\"},\"marker\":{\"symbol\":\"circle\"},\"mode\":\"lines+markers\",\"name\":\"4\",\"orientation\":\"v\",\"showlegend\":true,\"x\":[1.0,2.0,3.0,4.0,5.0,6.0,7.0,8.0,9.0,10.0,11.0,12.0,13.0,14.0,15.0,16.0,17.0,18.0,19.0,20.0,21.0,22.0,23.0,24.0,25.0,26.0,27.0,28.0,29.0,30.0,31.0,32.0,33.0,34.0,35.0,36.0,37.0,38.0,39.0,40.0,41.0,42.0,43.0,44.0,45.0,46.0,47.0,48.0,49.0,50.0,51.0,52.0,53.0,54.0,55.0,56.0,57.0,58.0,59.0,60.0,61.0,62.0,63.0,64.0,65.0,66.0,67.0,68.0,69.0,70.0,71.0,72.0,73.0,74.0,75.0,76.0,77.0,78.0,79.0,80.0,81.0,82.0,83.0,84.0,85.0,86.0,87.0,88.0,89.0,90.0,91.0,92.0,93.0,94.0,95.0,96.0,97.0,98.0,99.0,100.0],\"xaxis\":\"x\",\"y\":[2.097130537033081,0.22774052619934082,0.9095101952552795,0.9080713391304016,2.3015966415405273,3.4616031646728516,3.4012396335601807,3.7702713012695312,1.3590080738067627,0.8674159049987793,0.5133337378501892,1.7130937576293945,0.6078006029129028,-0.2743629217147827,-1.967167615890503,-1.9227838516235352,-2.0912833213806152,-3.2996866703033447,-2.8137495517730713,-1.3740074634552002,-0.49191373586654663,0.3168913722038269,0.7048789262771606,0.8358349800109863,3.316554307937622,2.988865613937378,2.6967124938964844,2.8618969917297363,1.3653110265731812,1.5387147665023804,-0.34194111824035645,-0.031112194061279297,0.10404300689697266,1.137555480003357,1.9457834959030151,1.1847145557403564,1.173625111579895,0.1452929973602295,0.17098468542099,0.38367319107055664,0.7894347906112671,1.4940855503082275,2.022203207015991,0.7749096155166626,1.5397263765335083,1.4899197816848755,3.2815427780151367,3.85475492477417,5.274280548095703,5.5634284019470215,5.728049278259277,5.8747148513793945,7.474969387054443,7.964915752410889,7.823050022125244,8.156622886657715,7.555134296417236,6.99787712097168,6.171941757202148,3.3864030838012695,3.468248128890991,1.8023656606674194,2.1244258880615234,2.5197083950042725,3.044022798538208,1.986872673034668,1.5605669021606445,1.3575183153152466,-0.3616054058074951,-1.3342052698135376,-1.2061454057693481,-1.100366473197937,-1.8580667972564697,-2.182140827178955,-2.4050469398498535,-1.5511319637298584,-2.0461068153381348,-2.1066842079162598,-2.6828396320343018,-3.06044864654541,-5.377102851867676,-5.757310390472412,-7.792211532592773,-7.313775062561035,-7.704164028167725,-9.405423164367676,-9.896308898925781,-9.573412895202637,-9.804368019104004,-9.847289085388184,-10.936037063598633,-11.71415901184082,-12.926778793334961,-11.133747100830078,-11.949078559875488,-12.512138366699219,-13.065339088439941,-12.15422534942627,-13.208667755126953,-12.892173767089844],\"yaxis\":\"y\",\"type\":\"scatter\"},{\"hovertemplate\":\"state=5<br>time=%{x}<br>mean=%{y}<extra></extra>\",\"legendgroup\":\"5\",\"line\":{\"color\":\"#19d3f3\",\"dash\":\"solid\"},\"marker\":{\"symbol\":\"circle\"},\"mode\":\"lines+markers\",\"name\":\"5\",\"orientation\":\"v\",\"showlegend\":true,\"x\":[1.0,2.0,3.0,4.0,5.0,6.0,7.0,8.0,9.0,10.0,11.0,12.0,13.0,14.0,15.0,16.0,17.0,18.0,19.0,20.0,21.0,22.0,23.0,24.0,25.0,26.0,27.0,28.0,29.0,30.0,31.0,32.0,33.0,34.0,35.0,36.0,37.0,38.0,39.0,40.0,41.0,42.0,43.0,44.0,45.0,46.0,47.0,48.0,49.0,50.0,51.0,52.0,53.0,54.0,55.0,56.0,57.0,58.0,59.0,60.0,61.0,62.0,63.0,64.0,65.0,66.0,67.0,68.0,69.0,70.0,71.0,72.0,73.0,74.0,75.0,76.0,77.0,78.0,79.0,80.0,81.0,82.0,83.0,84.0,85.0,86.0,87.0,88.0,89.0,90.0,91.0,92.0,93.0,94.0,95.0,96.0,97.0,98.0,99.0,100.0],\"xaxis\":\"x\",\"y\":[0.21393439173698425,0.8508529663085938,-0.7663421630859375,-1.43380606174469,-0.8604658842086792,-2.378962516784668,-3.4352474212646484,-3.7450079917907715,-3.90346360206604,-3.2831103801727295,-5.116692543029785,-5.458534240722656,-5.396833896636963,-5.078244209289551,-4.761000156402588,-4.366471290588379,-3.70817494392395,-3.48075795173645,-2.733391284942627,-2.4834797382354736,-2.135725259780884,-1.298180341720581,-0.8634281158447266,-1.0336436033248901,-1.458919882774353,-0.23552465438842773,-0.841718852519989,-1.1074841022491455,-1.143742561340332,-0.5998345613479614,-0.14642363786697388,-0.3688141107559204,0.8366187810897827,-0.8038500547409058,-0.918561577796936,-1.3724358081817627,-1.9303021430969238,-1.8304836750030518,-3.004795551300049,-1.3929345607757568,-1.99714994430542,-1.6722052097320557,-2.5995712280273438,-1.6350184679031372,-1.4973161220550537,-1.8031070232391357,-3.1257526874542236,-4.103579521179199,-4.760804653167725,-3.997631072998047,-4.76930046081543,-6.707267761230469,-6.80441427230835,-6.558543682098389,-6.6838459968566895,-6.394589900970459,-5.748323917388916,-4.711653709411621,-6.993437767028809,-6.409030914306641,-5.971134662628174,-6.3003716468811035,-5.699249744415283,-5.194295406341553,-5.200254440307617,-5.322487831115723,-5.63193416595459,-5.559467315673828,-4.030885219573975,-3.7611794471740723,-5.0720109939575195,-6.942453384399414,-8.35018539428711,-7.82634162902832,-10.841697692871094,-10.397619247436523,-9.628599166870117,-8.275228500366211,-10.064770698547363,-9.94345760345459,-8.843997955322266,-9.501493453979492,-10.424168586730957,-9.723634719848633,-9.949569702148438,-11.182153701782227,-11.046403884887695,-11.621184349060059,-12.713262557983398,-11.190113067626953,-11.662760734558105,-13.053956985473633,-13.120397567749023,-13.292738914489746,-13.178444862365723,-13.428970336914062,-13.191828727722168,-14.450992584228516,-15.321497917175293,-15.196920394897461],\"yaxis\":\"y\",\"type\":\"scatter\"},{\"hovertemplate\":\"state=6<br>time=%{x}<br>mean=%{y}<extra></extra>\",\"legendgroup\":\"6\",\"line\":{\"color\":\"#FF6692\",\"dash\":\"solid\"},\"marker\":{\"symbol\":\"circle\"},\"mode\":\"lines+markers\",\"name\":\"6\",\"orientation\":\"v\",\"showlegend\":true,\"x\":[1.0,2.0,3.0,4.0,5.0,6.0,7.0,8.0,9.0,10.0,11.0,12.0,13.0,14.0,15.0,16.0,17.0,18.0,19.0,20.0,21.0,22.0,23.0,24.0,25.0,26.0,27.0,28.0,29.0,30.0,31.0,32.0,33.0,34.0,35.0,36.0,37.0,38.0,39.0,40.0,41.0,42.0,43.0,44.0,45.0,46.0,47.0,48.0,49.0,50.0,51.0,52.0,53.0,54.0,55.0,56.0,57.0,58.0,59.0,60.0,61.0,62.0,63.0,64.0,65.0,66.0,67.0,68.0,69.0,70.0,71.0,72.0,73.0,74.0,75.0,76.0,77.0,78.0,79.0,80.0,81.0,82.0,83.0,84.0,85.0,86.0,87.0,88.0,89.0,90.0,91.0,92.0,93.0,94.0,95.0,96.0,97.0,98.0,99.0,100.0],\"xaxis\":\"x\",\"y\":[0.2916272282600403,0.6826589703559875,2.497408628463745,1.9627704620361328,2.7192223072052,3.5663673877716064,3.885085105895996,4.858511924743652,5.073923587799072,4.2920026779174805,3.6408724784851074,3.6475980281829834,2.88215970993042,2.921372413635254,2.601767063140869,1.7942261695861816,1.3698687553405762,1.7693285942077637,1.4663753509521484,1.744978904724121,1.3796348571777344,-0.2488034963607788,-1.6250293254852295,-2.141188621520996,-3.866668224334717,-4.801076889038086,-3.7329094409942627,-3.502595901489258,-4.149136066436768,-3.1213979721069336,-4.276700973510742,-3.5355045795440674,-3.477905511856079,-4.02247953414917,-5.149628162384033,-5.1534423828125,-5.230662822723389,-5.836208343505859,-4.8112969398498535,-3.758647918701172,-3.9005513191223145,-2.6038784980773926,-1.4495179653167725,-0.5040820240974426,1.879629135131836,2.1231441497802734,2.728590726852417,4.6660356521606445,2.1953394412994385,2.80785870552063,1.9010515213012695,1.031844139099121,0.10191750526428223,-1.0602703094482422,-1.7903306484222412,-3.6544876098632812,-3.255919933319092,-2.756342887878418,-2.322338342666626,-2.7917017936706543,-5.188727378845215,-5.275794506072998,-5.059943199157715,-4.11150598526001,-4.65476655960083,-4.575357913970947,-6.590254783630371,-6.821714878082275,-7.042705059051514,-7.006073474884033,-6.483237266540527,-5.55652379989624,-5.070440769195557,-5.776505470275879,-3.2033653259277344,-6.217835903167725,-6.95512056350708,-7.453864574432373,-7.369513988494873,-7.283019542694092,-7.751134395599365,-9.087057113647461,-9.605802536010742,-9.602298736572266,-9.660360336303711,-10.185064315795898,-9.384088516235352,-10.172523498535156,-12.166302680969238,-10.86812686920166,-10.456003189086914,-10.342449188232422,-10.674238204956055,-10.877277374267578,-11.875175476074219,-12.530693054199219,-12.641566276550293,-12.27454948425293,-11.057689666748047,-11.108726501464844],\"yaxis\":\"y\",\"type\":\"scatter\"},{\"hovertemplate\":\"state=7<br>time=%{x}<br>mean=%{y}<extra></extra>\",\"legendgroup\":\"7\",\"line\":{\"color\":\"#B6E880\",\"dash\":\"solid\"},\"marker\":{\"symbol\":\"circle\"},\"mode\":\"lines+markers\",\"name\":\"7\",\"orientation\":\"v\",\"showlegend\":true,\"x\":[1.0,2.0,3.0,4.0,5.0,6.0,7.0,8.0,9.0,10.0,11.0,12.0,13.0,14.0,15.0,16.0,17.0,18.0,19.0,20.0,21.0,22.0,23.0,24.0,25.0,26.0,27.0,28.0,29.0,30.0,31.0,32.0,33.0,34.0,35.0,36.0,37.0,38.0,39.0,40.0,41.0,42.0,43.0,44.0,45.0,46.0,47.0,48.0,49.0,50.0,51.0,52.0,53.0,54.0,55.0,56.0,57.0,58.0,59.0,60.0,61.0,62.0,63.0,64.0,65.0,66.0,67.0,68.0,69.0,70.0,71.0,72.0,73.0,74.0,75.0,76.0,77.0,78.0,79.0,80.0,81.0,82.0,83.0,84.0,85.0,86.0,87.0,88.0,89.0,90.0,91.0,92.0,93.0,94.0,95.0,96.0,97.0,98.0,99.0,100.0],\"xaxis\":\"x\",\"y\":[-0.5445402264595032,0.1428181529045105,-0.6023222208023071,-2.669466972351074,-2.8193864822387695,-1.7046915292739868,-1.4188690185546875,-1.377276062965393,-0.22622394561767578,-0.8543379306793213,-1.0246777534484863,-0.5143312215805054,-1.129439115524292,-0.15462380647659302,1.52655029296875,-0.36064791679382324,-0.4493259787559509,-0.4361017346382141,-0.08952802419662476,0.4234771132469177,-0.8228818774223328,0.21269458532333374,-0.48325657844543457,-0.23188632726669312,0.04223066568374634,0.5445621609687805,1.327521800994873,3.0439038276672363,2.988339900970459,4.378045082092285,4.071682929992676,4.095061302185059,3.8235831260681152,4.631411075592041,5.241302013397217,5.175355911254883,2.9561545848846436,2.6170690059661865,4.002421855926514,4.614979267120361,4.86484956741333,5.053703784942627,5.4244771003723145,5.941738605499268,5.807030200958252,5.8152031898498535,6.427396774291992,5.781285285949707,5.653436660766602,5.524240016937256,7.243508815765381,7.609178066253662,8.100175857543945,8.29794979095459,8.48679256439209,9.343437194824219,9.196961402893066,6.804431915283203,7.7701263427734375,6.149466514587402,5.906986713409424,5.951883792877197,4.202167510986328,4.515753269195557,4.693796157836914,2.6362454891204834,3.299069881439209,4.150528907775879,3.193155527114868,3.605078935623169,5.06460428237915,4.212790012359619,3.05999755859375,3.539898633956909,2.7826709747314453,2.1806278228759766,2.0746943950653076,3.0988714694976807,4.21999979019165,4.704481601715088,6.402684211730957,5.52790641784668,5.153883934020996,5.068996429443359,5.714986324310303,5.865900993347168,6.346133708953857,7.361362934112549,9.08759880065918,9.150280952453613,10.038474082946777,8.768494606018066,8.482060432434082,8.114995956420898,9.363221168518066,8.42922306060791,7.897713661193848,8.698009490966797,7.73933219909668,6.328279972076416],\"yaxis\":\"y\",\"type\":\"scatter\"}],                        {\"template\":{\"data\":{\"histogram2dcontour\":[{\"type\":\"histogram2dcontour\",\"colorbar\":{\"outlinewidth\":0,\"ticks\":\"\"},\"colorscale\":[[0.0,\"#0d0887\"],[0.1111111111111111,\"#46039f\"],[0.2222222222222222,\"#7201a8\"],[0.3333333333333333,\"#9c179e\"],[0.4444444444444444,\"#bd3786\"],[0.5555555555555556,\"#d8576b\"],[0.6666666666666666,\"#ed7953\"],[0.7777777777777778,\"#fb9f3a\"],[0.8888888888888888,\"#fdca26\"],[1.0,\"#f0f921\"]]}],\"choropleth\":[{\"type\":\"choropleth\",\"colorbar\":{\"outlinewidth\":0,\"ticks\":\"\"}}],\"histogram2d\":[{\"type\":\"histogram2d\",\"colorbar\":{\"outlinewidth\":0,\"ticks\":\"\"},\"colorscale\":[[0.0,\"#0d0887\"],[0.1111111111111111,\"#46039f\"],[0.2222222222222222,\"#7201a8\"],[0.3333333333333333,\"#9c179e\"],[0.4444444444444444,\"#bd3786\"],[0.5555555555555556,\"#d8576b\"],[0.6666666666666666,\"#ed7953\"],[0.7777777777777778,\"#fb9f3a\"],[0.8888888888888888,\"#fdca26\"],[1.0,\"#f0f921\"]]}],\"heatmap\":[{\"type\":\"heatmap\",\"colorbar\":{\"outlinewidth\":0,\"ticks\":\"\"},\"colorscale\":[[0.0,\"#0d0887\"],[0.1111111111111111,\"#46039f\"],[0.2222222222222222,\"#7201a8\"],[0.3333333333333333,\"#9c179e\"],[0.4444444444444444,\"#bd3786\"],[0.5555555555555556,\"#d8576b\"],[0.6666666666666666,\"#ed7953\"],[0.7777777777777778,\"#fb9f3a\"],[0.8888888888888888,\"#fdca26\"],[1.0,\"#f0f921\"]]}],\"heatmapgl\":[{\"type\":\"heatmapgl\",\"colorbar\":{\"outlinewidth\":0,\"ticks\":\"\"},\"colorscale\":[[0.0,\"#0d0887\"],[0.1111111111111111,\"#46039f\"],[0.2222222222222222,\"#7201a8\"],[0.3333333333333333,\"#9c179e\"],[0.4444444444444444,\"#bd3786\"],[0.5555555555555556,\"#d8576b\"],[0.6666666666666666,\"#ed7953\"],[0.7777777777777778,\"#fb9f3a\"],[0.8888888888888888,\"#fdca26\"],[1.0,\"#f0f921\"]]}],\"contourcarpet\":[{\"type\":\"contourcarpet\",\"colorbar\":{\"outlinewidth\":0,\"ticks\":\"\"}}],\"contour\":[{\"type\":\"contour\",\"colorbar\":{\"outlinewidth\":0,\"ticks\":\"\"},\"colorscale\":[[0.0,\"#0d0887\"],[0.1111111111111111,\"#46039f\"],[0.2222222222222222,\"#7201a8\"],[0.3333333333333333,\"#9c179e\"],[0.4444444444444444,\"#bd3786\"],[0.5555555555555556,\"#d8576b\"],[0.6666666666666666,\"#ed7953\"],[0.7777777777777778,\"#fb9f3a\"],[0.8888888888888888,\"#fdca26\"],[1.0,\"#f0f921\"]]}],\"surface\":[{\"type\":\"surface\",\"colorbar\":{\"outlinewidth\":0,\"ticks\":\"\"},\"colorscale\":[[0.0,\"#0d0887\"],[0.1111111111111111,\"#46039f\"],[0.2222222222222222,\"#7201a8\"],[0.3333333333333333,\"#9c179e\"],[0.4444444444444444,\"#bd3786\"],[0.5555555555555556,\"#d8576b\"],[0.6666666666666666,\"#ed7953\"],[0.7777777777777778,\"#fb9f3a\"],[0.8888888888888888,\"#fdca26\"],[1.0,\"#f0f921\"]]}],\"mesh3d\":[{\"type\":\"mesh3d\",\"colorbar\":{\"outlinewidth\":0,\"ticks\":\"\"}}],\"scatter\":[{\"fillpattern\":{\"fillmode\":\"overlay\",\"size\":10,\"solidity\":0.2},\"type\":\"scatter\"}],\"parcoords\":[{\"type\":\"parcoords\",\"line\":{\"colorbar\":{\"outlinewidth\":0,\"ticks\":\"\"}}}],\"scatterpolargl\":[{\"type\":\"scatterpolargl\",\"marker\":{\"colorbar\":{\"outlinewidth\":0,\"ticks\":\"\"}}}],\"bar\":[{\"error_x\":{\"color\":\"#2a3f5f\"},\"error_y\":{\"color\":\"#2a3f5f\"},\"marker\":{\"line\":{\"color\":\"#E5ECF6\",\"width\":0.5},\"pattern\":{\"fillmode\":\"overlay\",\"size\":10,\"solidity\":0.2}},\"type\":\"bar\"}],\"scattergeo\":[{\"type\":\"scattergeo\",\"marker\":{\"colorbar\":{\"outlinewidth\":0,\"ticks\":\"\"}}}],\"scatterpolar\":[{\"type\":\"scatterpolar\",\"marker\":{\"colorbar\":{\"outlinewidth\":0,\"ticks\":\"\"}}}],\"histogram\":[{\"marker\":{\"pattern\":{\"fillmode\":\"overlay\",\"size\":10,\"solidity\":0.2}},\"type\":\"histogram\"}],\"scattergl\":[{\"type\":\"scattergl\",\"marker\":{\"colorbar\":{\"outlinewidth\":0,\"ticks\":\"\"}}}],\"scatter3d\":[{\"type\":\"scatter3d\",\"line\":{\"colorbar\":{\"outlinewidth\":0,\"ticks\":\"\"}},\"marker\":{\"colorbar\":{\"outlinewidth\":0,\"ticks\":\"\"}}}],\"scattermapbox\":[{\"type\":\"scattermapbox\",\"marker\":{\"colorbar\":{\"outlinewidth\":0,\"ticks\":\"\"}}}],\"scatterternary\":[{\"type\":\"scatterternary\",\"marker\":{\"colorbar\":{\"outlinewidth\":0,\"ticks\":\"\"}}}],\"scattercarpet\":[{\"type\":\"scattercarpet\",\"marker\":{\"colorbar\":{\"outlinewidth\":0,\"ticks\":\"\"}}}],\"carpet\":[{\"aaxis\":{\"endlinecolor\":\"#2a3f5f\",\"gridcolor\":\"white\",\"linecolor\":\"white\",\"minorgridcolor\":\"white\",\"startlinecolor\":\"#2a3f5f\"},\"baxis\":{\"endlinecolor\":\"#2a3f5f\",\"gridcolor\":\"white\",\"linecolor\":\"white\",\"minorgridcolor\":\"white\",\"startlinecolor\":\"#2a3f5f\"},\"type\":\"carpet\"}],\"table\":[{\"cells\":{\"fill\":{\"color\":\"#EBF0F8\"},\"line\":{\"color\":\"white\"}},\"header\":{\"fill\":{\"color\":\"#C8D4E3\"},\"line\":{\"color\":\"white\"}},\"type\":\"table\"}],\"barpolar\":[{\"marker\":{\"line\":{\"color\":\"#E5ECF6\",\"width\":0.5},\"pattern\":{\"fillmode\":\"overlay\",\"size\":10,\"solidity\":0.2}},\"type\":\"barpolar\"}],\"pie\":[{\"automargin\":true,\"type\":\"pie\"}]},\"layout\":{\"autotypenumbers\":\"strict\",\"colorway\":[\"#636efa\",\"#EF553B\",\"#00cc96\",\"#ab63fa\",\"#FFA15A\",\"#19d3f3\",\"#FF6692\",\"#B6E880\",\"#FF97FF\",\"#FECB52\"],\"font\":{\"color\":\"#2a3f5f\"},\"hovermode\":\"closest\",\"hoverlabel\":{\"align\":\"left\"},\"paper_bgcolor\":\"white\",\"plot_bgcolor\":\"#E5ECF6\",\"polar\":{\"bgcolor\":\"#E5ECF6\",\"angularaxis\":{\"gridcolor\":\"white\",\"linecolor\":\"white\",\"ticks\":\"\"},\"radialaxis\":{\"gridcolor\":\"white\",\"linecolor\":\"white\",\"ticks\":\"\"}},\"ternary\":{\"bgcolor\":\"#E5ECF6\",\"aaxis\":{\"gridcolor\":\"white\",\"linecolor\":\"white\",\"ticks\":\"\"},\"baxis\":{\"gridcolor\":\"white\",\"linecolor\":\"white\",\"ticks\":\"\"},\"caxis\":{\"gridcolor\":\"white\",\"linecolor\":\"white\",\"ticks\":\"\"}},\"coloraxis\":{\"colorbar\":{\"outlinewidth\":0,\"ticks\":\"\"}},\"colorscale\":{\"sequential\":[[0.0,\"#0d0887\"],[0.1111111111111111,\"#46039f\"],[0.2222222222222222,\"#7201a8\"],[0.3333333333333333,\"#9c179e\"],[0.4444444444444444,\"#bd3786\"],[0.5555555555555556,\"#d8576b\"],[0.6666666666666666,\"#ed7953\"],[0.7777777777777778,\"#fb9f3a\"],[0.8888888888888888,\"#fdca26\"],[1.0,\"#f0f921\"]],\"sequentialminus\":[[0.0,\"#0d0887\"],[0.1111111111111111,\"#46039f\"],[0.2222222222222222,\"#7201a8\"],[0.3333333333333333,\"#9c179e\"],[0.4444444444444444,\"#bd3786\"],[0.5555555555555556,\"#d8576b\"],[0.6666666666666666,\"#ed7953\"],[0.7777777777777778,\"#fb9f3a\"],[0.8888888888888888,\"#fdca26\"],[1.0,\"#f0f921\"]],\"diverging\":[[0,\"#8e0152\"],[0.1,\"#c51b7d\"],[0.2,\"#de77ae\"],[0.3,\"#f1b6da\"],[0.4,\"#fde0ef\"],[0.5,\"#f7f7f7\"],[0.6,\"#e6f5d0\"],[0.7,\"#b8e186\"],[0.8,\"#7fbc41\"],[0.9,\"#4d9221\"],[1,\"#276419\"]]},\"xaxis\":{\"gridcolor\":\"white\",\"linecolor\":\"white\",\"ticks\":\"\",\"title\":{\"standoff\":15},\"zerolinecolor\":\"white\",\"automargin\":true,\"zerolinewidth\":2},\"yaxis\":{\"gridcolor\":\"white\",\"linecolor\":\"white\",\"ticks\":\"\",\"title\":{\"standoff\":15},\"zerolinecolor\":\"white\",\"automargin\":true,\"zerolinewidth\":2},\"scene\":{\"xaxis\":{\"backgroundcolor\":\"#E5ECF6\",\"gridcolor\":\"white\",\"linecolor\":\"white\",\"showbackground\":true,\"ticks\":\"\",\"zerolinecolor\":\"white\",\"gridwidth\":2},\"yaxis\":{\"backgroundcolor\":\"#E5ECF6\",\"gridcolor\":\"white\",\"linecolor\":\"white\",\"showbackground\":true,\"ticks\":\"\",\"zerolinecolor\":\"white\",\"gridwidth\":2},\"zaxis\":{\"backgroundcolor\":\"#E5ECF6\",\"gridcolor\":\"white\",\"linecolor\":\"white\",\"showbackground\":true,\"ticks\":\"\",\"zerolinecolor\":\"white\",\"gridwidth\":2}},\"shapedefaults\":{\"line\":{\"color\":\"#2a3f5f\"}},\"annotationdefaults\":{\"arrowcolor\":\"#2a3f5f\",\"arrowhead\":0,\"arrowwidth\":1},\"geo\":{\"bgcolor\":\"white\",\"landcolor\":\"#E5ECF6\",\"subunitcolor\":\"white\",\"showland\":true,\"showlakes\":true,\"lakecolor\":\"white\"},\"title\":{\"x\":0.05},\"mapbox\":{\"style\":\"light\"}}},\"xaxis\":{\"anchor\":\"y\",\"domain\":[0.0,1.0],\"title\":{\"text\":\"time\"}},\"yaxis\":{\"anchor\":\"x\",\"domain\":[0.0,1.0],\"title\":{\"text\":\"mean\"}},\"legend\":{\"title\":{\"text\":\"state\"},\"tracegroupgap\":0},\"margin\":{\"t\":60}},                        {\"responsive\": true}                    ).then(function(){\n",
       "                            \n",
       "var gd = document.getElementById('7240efbd-a30e-44f1-a2da-d39221af0107');\n",
       "var x = new MutationObserver(function (mutations, observer) {{\n",
       "        var display = window.getComputedStyle(gd).display;\n",
       "        if (!display || display === 'none') {{\n",
       "            console.log([gd, 'removed!']);\n",
       "            Plotly.purge(gd);\n",
       "            observer.disconnect();\n",
       "        }}\n",
       "}});\n",
       "\n",
       "// Listen for the removal of the full notebook cells\n",
       "var notebookContainer = gd.closest('#notebook-container');\n",
       "if (notebookContainer) {{\n",
       "    x.observe(notebookContainer, {childList: true});\n",
       "}}\n",
       "\n",
       "// Listen for the clearing of the current output cell\n",
       "var outputEl = gd.closest('.output');\n",
       "if (outputEl) {{\n",
       "    x.observe(outputEl, {childList: true});\n",
       "}}\n",
       "\n",
       "                        })                };                });            </script>        </div>"
      ]
     },
     "metadata": {},
     "output_type": "display_data"
    }
   ],
   "source": [
    "px.line(results.df(), x=\"time\", y=\"mean\", color='state',markers=True)"
   ]
  },
  {
   "cell_type": "code",
   "execution_count": null,
   "id": "2dc89195-f776-4174-8842-ecc33fd35032",
   "metadata": {},
   "outputs": [],
   "source": []
  }
 ],
 "metadata": {
  "kernelspec": {
   "display_name": "Python 3 (ipykernel)",
   "language": "python",
   "name": "python3"
  },
  "language_info": {
   "codemirror_mode": {
    "name": "ipython",
    "version": 3
   },
   "file_extension": ".py",
   "mimetype": "text/x-python",
   "name": "python",
   "nbconvert_exporter": "python",
   "pygments_lexer": "ipython3",
   "version": "3.10.7"
  }
 },
 "nbformat": 4,
 "nbformat_minor": 5
}
