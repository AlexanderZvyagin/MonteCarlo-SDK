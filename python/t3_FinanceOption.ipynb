{
 "cells": [
  {
   "cell_type": "code",
   "execution_count": 1,
   "id": "c2bcaffe-1ae8-4981-acd6-b9ea959cd4e6",
   "metadata": {},
   "outputs": [],
   "source": [
    "from init import *"
   ]
  },
  {
   "cell_type": "code",
   "execution_count": 2,
   "id": "5a6711d1-64a2-42a9-b5d6-5a477b7faa66",
   "metadata": {
    "tags": []
   },
   "outputs": [],
   "source": [
    "model = Model()\n",
    "model.TimeStart = 0\n",
    "model.TimeSteps = 1000\n",
    "model.NumPaths = 110000\n",
    "model.updaters.append(Updater(\n",
    "    name = \"IndependentBrownianMotion\"\n",
    "))\n",
    "model.updaters.append(Updater(\n",
    "    name = \"SimpleGeometricalBrownianMotion\",\n",
    "    start = Parameter(\"start\",130),\n",
    "    args = [\n",
    "        Parameter(\"drift\",0.0),\n",
    "        Parameter(\"diffusion\",0.3)\n",
    "    ]\n",
    "))\n",
    "model.updaters.append(Updater(name = \"Error\"))\n",
    "fxProcessNumber = model.NumStatefulProcesses()-1\n",
    "assert fxProcessNumber==0\n",
    "\n",
    "model.updaters.append(Updater(\n",
    "    name = \"Product_Option\",\n",
    "    start = Parameter(\"Starting value of the option\",None),\n",
    "    args = [\n",
    "        Parameter(\"myStrike\",140),\n",
    "        Parameter(\"Use 0 for call and 1 for put\",1)\n",
    "    ],\n",
    "    refs = [fxProcessNumber]\n",
    "))\n",
    "callOptionOnFxProcessNumber = model.NumStatefulProcesses()-1\n",
    "\n",
    "assert callOptionOnFxProcessNumber == (fxProcessNumber+1)"
   ]
  },
  {
   "cell_type": "code",
   "execution_count": 3,
   "id": "7e16d5d8-9566-456e-a06b-1603b100cead",
   "metadata": {},
   "outputs": [
    {
     "data": {
      "text/plain": [
       "'{\"TimeStart\": 0, \"TimeSteps\": 1000, \"NumPaths\": 110000, \"updaters\": [{\"name\": \"IndependentBrownianMotion\"}, {\"name\": \"SimpleGeometricalBrownianMotion\", \"start\": {\"name\": \"start\", \"value\": 130}, \"args\": [{\"name\": \"drift\", \"value\": 0.0}, {\"name\": \"diffusion\", \"value\": 0.3}]}, {\"name\": \"Error\"}, {\"name\": \"Product_Option\", \"start\": {\"name\": \"Starting value of the option\"}, \"args\": [{\"name\": \"myStrike\", \"value\": 140}, {\"name\": \"Use 0 for call and 1 for put\", \"value\": 1}], \"refs\": [0]}], \"evaluations\": [{\"state\": 0, \"time\": 2}]}'"
      ]
     },
     "execution_count": 3,
     "metadata": {},
     "output_type": "execute_result"
    }
   ],
   "source": [
    "model.evaluations.append(EvaluationPoint(0,2))\n",
    "model.json()"
   ]
  },
  {
   "cell_type": "code",
   "execution_count": 4,
   "id": "a3fdd414-b512-4d68-9d8b-e14d1189826b",
   "metadata": {},
   "outputs": [
    {
     "data": {
      "text/plain": [
       "2 states with 1 evaluations"
      ]
     },
     "execution_count": 4,
     "metadata": {},
     "output_type": "execute_result"
    }
   ],
   "source": [
    "reply = requests.post(f'{server}/model',model.json())\n",
    "results = EvaluationResults(reply.json(),model)\n",
    "results"
   ]
  },
  {
   "cell_type": "code",
   "execution_count": 5,
   "id": "a4646eab-d989-46d1-9dcc-af1cde2bb458",
   "metadata": {},
   "outputs": [
    {
     "data": {
      "text/html": [
       "<div>\n",
       "<style scoped>\n",
       "    .dataframe tbody tr th:only-of-type {\n",
       "        vertical-align: middle;\n",
       "    }\n",
       "\n",
       "    .dataframe tbody tr th {\n",
       "        vertical-align: top;\n",
       "    }\n",
       "\n",
       "    .dataframe thead th {\n",
       "        text-align: right;\n",
       "    }\n",
       "</style>\n",
       "<table border=\"1\" class=\"dataframe\">\n",
       "  <thead>\n",
       "    <tr style=\"text-align: right;\">\n",
       "      <th></th>\n",
       "      <th>name</th>\n",
       "      <th>state</th>\n",
       "      <th>time</th>\n",
       "      <th>step</th>\n",
       "      <th>npaths</th>\n",
       "      <th>mean</th>\n",
       "      <th>mean_error</th>\n",
       "      <th>stddev</th>\n",
       "      <th>skewness</th>\n",
       "    </tr>\n",
       "  </thead>\n",
       "  <tbody>\n",
       "    <tr>\n",
       "      <th>0</th>\n",
       "      <td>SimpleGeometricalBrownianMotion</td>\n",
       "      <td>0</td>\n",
       "      <td>2.0</td>\n",
       "      <td>1000</td>\n",
       "      <td>110000</td>\n",
       "      <td>129.998093</td>\n",
       "      <td>0.001023</td>\n",
       "      <td>0.339187</td>\n",
       "      <td>2.133089</td>\n",
       "    </tr>\n",
       "    <tr>\n",
       "      <th>1</th>\n",
       "      <td>Product_Option</td>\n",
       "      <td>1</td>\n",
       "      <td>2.0</td>\n",
       "      <td>1000</td>\n",
       "      <td>4096</td>\n",
       "      <td>10.051319</td>\n",
       "      <td>0.027535</td>\n",
       "      <td>1.762223</td>\n",
       "      <td>-0.046154</td>\n",
       "    </tr>\n",
       "  </tbody>\n",
       "</table>\n",
       "</div>"
      ],
      "text/plain": [
       "                              name  state  time  step  npaths        mean  \\\n",
       "0  SimpleGeometricalBrownianMotion      0   2.0  1000  110000  129.998093   \n",
       "1                   Product_Option      1   2.0  1000    4096   10.051319   \n",
       "\n",
       "   mean_error    stddev  skewness  \n",
       "0    0.001023  0.339187  2.133089  \n",
       "1    0.027535  1.762223 -0.046154  "
      ]
     },
     "execution_count": 5,
     "metadata": {},
     "output_type": "execute_result"
    }
   ],
   "source": [
    "results.df()"
   ]
  },
  {
   "cell_type": "markdown",
   "id": "2b59853e-80de-4e12-84da-0ff950fbd194",
   "metadata": {},
   "source": [
    "# Add barrier"
   ]
  },
  {
   "cell_type": "code",
   "execution_count": 6,
   "id": "e3751ff7-9768-43c5-919a-4d82a7b53e39",
   "metadata": {},
   "outputs": [],
   "source": [
    "def create_single_barrier_option():\n",
    "    model = Model()\n",
    "    model.TimeStart = 0\n",
    "    model.TimeSteps = 1000\n",
    "    model.NumPaths = 100000\n",
    "    model.updaters.append(Updater(\n",
    "        name = \"IndependentBrownianMotion\"\n",
    "    ))\n",
    "    model.updaters.append(Updater(\n",
    "        name = \"SimpleGeometricalBrownianMotion\",\n",
    "        start = Parameter(\"start\",130),\n",
    "        args = [\n",
    "            Parameter(\"drift\",0.0),\n",
    "            Parameter(\"diffusion\",0.3)\n",
    "        ]\n",
    "    ))\n",
    "    model.updaters.append(Updater(name = \"Error\"))\n",
    "    fxProcessNumber = model.NumStatefulProcesses()-1\n",
    "    assert fxProcessNumber==0\n",
    "\n",
    "    model.updaters.append(Updater(\n",
    "        name = \"Product_Option\",\n",
    "        start = Parameter(\"Starting value of the option\",None),\n",
    "        args = [\n",
    "            Parameter(\"myStrike\",140),\n",
    "            Parameter(\"Use 0 for call and 1 for put\",1)\n",
    "        ],\n",
    "        refs = [fxProcessNumber]\n",
    "    ))\n",
    "    callOptionOnFxProcessNumber = model.NumStatefulProcesses()-1\n",
    "    assert callOptionOnFxProcessNumber == (fxProcessNumber+1)\n",
    "    \n",
    "    model.updaters.append(Updater(\n",
    "        name = \"Barrier\",\n",
    "        start = Parameter(\"\",1),\n",
    "        args = [\n",
    "            Parameter(\"trigger\",131),\n",
    "            Parameter(\"value on crossing\",0),\n",
    "            Parameter(\"direction\",1),\n",
    "            Parameter(\"set:0\",0)\n",
    "        ],\n",
    "        refs = [fxProcessNumber]\n",
    "    ))\n",
    "    b1 = model.NumStatefulProcesses()-1\n",
    "\n",
    "    \n",
    "    return model\n",
    "\n",
    "model_1b = create_single_barrier_option()\n",
    "model_1b.evaluations.append(EvaluationPoint(0,2))\n",
    "reply_1b = requests.post(f'{server}/model',model_1b.json())\n",
    "results_1b = EvaluationResults(reply_1b.json(),model_1b)"
   ]
  },
  {
   "cell_type": "code",
   "execution_count": 7,
   "id": "df034ad7-8e27-42df-a8ab-a239ac584221",
   "metadata": {},
   "outputs": [
    {
     "data": {
      "text/html": [
       "<div>\n",
       "<style scoped>\n",
       "    .dataframe tbody tr th:only-of-type {\n",
       "        vertical-align: middle;\n",
       "    }\n",
       "\n",
       "    .dataframe tbody tr th {\n",
       "        vertical-align: top;\n",
       "    }\n",
       "\n",
       "    .dataframe thead th {\n",
       "        text-align: right;\n",
       "    }\n",
       "</style>\n",
       "<table border=\"1\" class=\"dataframe\">\n",
       "  <thead>\n",
       "    <tr style=\"text-align: right;\">\n",
       "      <th></th>\n",
       "      <th>name</th>\n",
       "      <th>state</th>\n",
       "      <th>time</th>\n",
       "      <th>step</th>\n",
       "      <th>npaths</th>\n",
       "      <th>mean</th>\n",
       "      <th>mean_error</th>\n",
       "      <th>stddev</th>\n",
       "      <th>skewness</th>\n",
       "    </tr>\n",
       "  </thead>\n",
       "  <tbody>\n",
       "    <tr>\n",
       "      <th>0</th>\n",
       "      <td>SimpleGeometricalBrownianMotion</td>\n",
       "      <td>0</td>\n",
       "      <td>2.0</td>\n",
       "      <td>1000</td>\n",
       "      <td>100000</td>\n",
       "      <td>129.997894</td>\n",
       "      <td>0.001129</td>\n",
       "      <td>0.357154</td>\n",
       "      <td>0.234823</td>\n",
       "    </tr>\n",
       "    <tr>\n",
       "      <th>1</th>\n",
       "      <td>Product_Option</td>\n",
       "      <td>1</td>\n",
       "      <td>2.0</td>\n",
       "      <td>1000</td>\n",
       "      <td>4096</td>\n",
       "      <td>10.051319</td>\n",
       "      <td>0.027535</td>\n",
       "      <td>1.762223</td>\n",
       "      <td>-0.046154</td>\n",
       "    </tr>\n",
       "    <tr>\n",
       "      <th>2</th>\n",
       "      <td>Barrier</td>\n",
       "      <td>2</td>\n",
       "      <td>2.0</td>\n",
       "      <td>1000</td>\n",
       "      <td>100000</td>\n",
       "      <td>0.988670</td>\n",
       "      <td>0.000335</td>\n",
       "      <td>0.105838</td>\n",
       "      <td>-9.234321</td>\n",
       "    </tr>\n",
       "  </tbody>\n",
       "</table>\n",
       "</div>"
      ],
      "text/plain": [
       "                              name  state  time  step  npaths        mean  \\\n",
       "0  SimpleGeometricalBrownianMotion      0   2.0  1000  100000  129.997894   \n",
       "1                   Product_Option      1   2.0  1000    4096   10.051319   \n",
       "2                          Barrier      2   2.0  1000  100000    0.988670   \n",
       "\n",
       "   mean_error    stddev  skewness  \n",
       "0    0.001129  0.357154  0.234823  \n",
       "1    0.027535  1.762223 -0.046154  \n",
       "2    0.000335  0.105838 -9.234321  "
      ]
     },
     "execution_count": 7,
     "metadata": {},
     "output_type": "execute_result"
    }
   ],
   "source": [
    "results_1b.df()"
   ]
  },
  {
   "cell_type": "code",
   "execution_count": null,
   "id": "bc04c647-3e20-445b-a431-92bb3c1a158d",
   "metadata": {},
   "outputs": [],
   "source": []
  },
  {
   "cell_type": "code",
   "execution_count": null,
   "id": "6f966579-6c4a-425a-871c-2bdc189f5f66",
   "metadata": {},
   "outputs": [],
   "source": []
  }
 ],
 "metadata": {
  "kernelspec": {
   "display_name": "Python 3 (ipykernel)",
   "language": "python",
   "name": "python3"
  },
  "language_info": {
   "codemirror_mode": {
    "name": "ipython",
    "version": 3
   },
   "file_extension": ".py",
   "mimetype": "text/x-python",
   "name": "python",
   "nbconvert_exporter": "python",
   "pygments_lexer": "ipython3",
   "version": "3.8.10"
  }
 },
 "nbformat": 4,
 "nbformat_minor": 5
}
