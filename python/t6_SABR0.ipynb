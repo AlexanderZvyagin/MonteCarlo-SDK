{
 "cells": [
  {
   "cell_type": "code",
   "execution_count": 1,
   "id": "b707141e-42aa-4da7-9ca4-b309bd8af018",
   "metadata": {},
   "outputs": [],
   "source": [
    "from  sympy import *\n",
    "init_printing() "
   ]
  },
  {
   "cell_type": "code",
   "execution_count": 2,
   "id": "03a87d09-4032-4695-a36c-e8eac7489c2d",
   "metadata": {},
   "outputs": [],
   "source": [
    "alpha,beta,gamma1,gamma2,rho,sigma0,zeta = symbols('alpha beta gamma1 gamma2 rho sigma0 zeta')\n",
    "F,F0,Fmid,K,T = symbols('F F0 F_mid K T')"
   ]
  },
  {
   "cell_type": "code",
   "execution_count": 3,
   "id": "ac0245b7-694b-4303-a84c-3044bab9a021",
   "metadata": {},
   "outputs": [
    {
     "data": {
      "image/png": "[encoded data removed]",
      "text/latex": [
       "$\\displaystyle \\log{\\left(\\frac{- \\rho + \\zeta + \\sqrt{- 2 \\rho \\zeta + \\zeta^{2} + 1}}{1 - \\rho} \\right)}$"
      ],
      "text/plain": [
       "   ⎛            _________________⎞\n",
       "   ⎜           ╱           2     ⎟\n",
       "   ⎜-ρ + ζ + ╲╱  -2⋅ρ⋅ζ + ζ  + 1 ⎟\n",
       "log⎜─────────────────────────────⎟\n",
       "   ⎝            1 - ρ            ⎠"
      ]
     },
     "execution_count": 3,
     "metadata": {},
     "output_type": "execute_result"
    }
   ],
   "source": [
    "D = log((sqrt(1-2*rho*zeta+zeta**2)+zeta-rho)/(1-rho))\n",
    "D"
   ]
  },
  {
   "cell_type": "code",
   "execution_count": 4,
   "id": "a2b018d0-92aa-405b-9afd-9ace8c05536b",
   "metadata": {},
   "outputs": [],
   "source": [
    "# def gamma1(beta,Fmid):\n",
    "#     return beta/Fmid\n",
    "# gamma1(beta,Fmid)"
   ]
  },
  {
   "cell_type": "code",
   "execution_count": 5,
   "id": "db2e9be7-bce3-44e5-8928-0492b4987424",
   "metadata": {},
   "outputs": [],
   "source": [
    "# def gamma2(beta,Fmid):\n",
    "#     return beta*(1-beta)/Fmid**2\n",
    "# gamma2(beta,Fmid)"
   ]
  },
  {
   "cell_type": "code",
   "execution_count": 6,
   "id": "8546bb7f-740c-41ea-9953-1d7a91ed7285",
   "metadata": {},
   "outputs": [
    {
     "data": {
      "image/png": "[encoded data removed]",
      "text/latex": [
       "$\\displaystyle \\frac{\\alpha \\left(F_{0}^{1 - \\beta} - K^{1 - \\beta}\\right)}{\\sigma_{0} \\cdot \\left(1 - \\beta\\right)}$"
      ],
      "text/plain": [
       "  ⎛  1 - β    1 - β⎞\n",
       "α⋅⎝F₀      - K     ⎠\n",
       "────────────────────\n",
       "     σ₀⋅(1 - β)     "
      ]
     },
     "execution_count": 6,
     "metadata": {},
     "output_type": "execute_result"
    }
   ],
   "source": [
    "_zeta = alpha/(sigma0*(1-beta))*(F0**(1-beta)-K**(1-beta))\n",
    "_zeta"
   ]
  },
  {
   "cell_type": "code",
   "execution_count": 7,
   "id": "e9e59179-a441-40ef-8db3-92811432bac8",
   "metadata": {},
   "outputs": [],
   "source": [
    "C = Fmid**beta\n",
    "_gamma1 = beta/Fmid\n",
    "_gamma2 = beta*(1-beta)/Fmid**2\n",
    "# p1 = (2*g2-g1**2+1/F_mid**2)/24*(sigma0*C(Fmid)/alpha)**2\n",
    "# v = (p1)*T*alpha**2\n",
    "# sigma_impl = alpha*log(F0/K)/D(z,rho) * (1+v)\n",
    "# sigma_impl"
   ]
  },
  {
   "cell_type": "code",
   "execution_count": 8,
   "id": "c81e66db-0c41-4627-ad89-ec84e38258fc",
   "metadata": {},
   "outputs": [
    {
     "data": {
      "image/png": "[encoded data removed]",
      "text/latex": [
       "$\\displaystyle \\frac{F_{mid}^{2 \\beta - 2} \\sigma_{0}^{2} \\left(F_{mid}^{2} \\left(- \\gamma_{1}^{2} + 2 \\gamma_{2}\\right) + 1\\right)}{24 \\alpha^{2}}$"
      ],
      "text/plain": [
       "     2⋅β - 2   2 ⎛     2 ⎛    2       ⎞    ⎞\n",
       "F_mid       ⋅σ₀ ⋅⎝F_mid ⋅⎝- γ₁  + 2⋅γ₂⎠ + 1⎠\n",
       "────────────────────────────────────────────\n",
       "                       2                    \n",
       "                   24⋅α                     "
      ]
     },
     "execution_count": 8,
     "metadata": {},
     "output_type": "execute_result"
    }
   ],
   "source": [
    "p1 = (2*gamma2-gamma1**2+1/Fmid**2)/24*(sigma0*C/alpha)**2\n",
    "p1 = simplify (p1)\n",
    "p1"
   ]
  },
  {
   "cell_type": "code",
   "execution_count": 9,
   "id": "e66f08b6-7df9-4c4c-a356-9603305831c8",
   "metadata": {},
   "outputs": [
    {
     "data": {
      "image/png": "[encoded data removed]",
      "text/latex": [
       "$\\displaystyle \\frac{F_{mid}^{\\beta} \\gamma_{1} \\rho \\sigma_{0}}{4 \\alpha}$"
      ],
      "text/plain": [
       "     β        \n",
       "F_mid ⋅γ₁⋅ρ⋅σ₀\n",
       "──────────────\n",
       "     4⋅α      "
      ]
     },
     "execution_count": 9,
     "metadata": {},
     "output_type": "execute_result"
    }
   ],
   "source": [
    "p2 = rho*gamma1*sigma0*C/(4*alpha)\n",
    "p2"
   ]
  },
  {
   "cell_type": "code",
   "execution_count": 10,
   "id": "155c752a-4fe5-465c-bfa8-4299e6e357de",
   "metadata": {},
   "outputs": [
    {
     "data": {
      "image/png": "[encoded data removed]",
      "text/latex": [
       "$\\displaystyle 2 - \\frac{\\rho^{2}}{8}$"
      ],
      "text/plain": [
       "     2\n",
       "    ρ \n",
       "2 - ──\n",
       "    8 "
      ]
     },
     "execution_count": 10,
     "metadata": {},
     "output_type": "execute_result"
    }
   ],
   "source": [
    "p3 = 2-3*rho**2/24\n",
    "p3"
   ]
  },
  {
   "cell_type": "code",
   "execution_count": 11,
   "id": "f93d7aae-d58e-4e9a-a027-483e48ae9add",
   "metadata": {},
   "outputs": [
    {
     "data": {
      "image/png": "[encoded data removed]",
      "text/latex": [
       "$\\displaystyle \\frac{\\alpha \\left(T \\alpha^{2} \\left(\\frac{F_{mid}^{\\beta} \\gamma_{1} \\rho \\sigma_{0}}{4 \\alpha} + \\frac{F_{mid}^{2 \\beta - 2} \\sigma_{0}^{2} \\left(F_{mid}^{2} \\left(- \\gamma_{1}^{2} + 2 \\gamma_{2}\\right) + 1\\right)}{24 \\alpha^{2}} - \\frac{\\rho^{2}}{8} + 2\\right) + 1\\right) \\log{\\left(\\frac{F_{0}}{K} \\right)}}{\\log{\\left(\\frac{- \\rho + \\zeta + \\sqrt{- 2 \\rho \\zeta + \\zeta^{2} + 1}}{1 - \\rho} \\right)}}$"
      ],
      "text/plain": [
       "  ⎛     ⎛     β                2⋅β - 2   2 ⎛     2 ⎛    2       ⎞    ⎞    2    ⎞    ⎞        \n",
       "  ⎜   2 ⎜F_mid ⋅γ₁⋅ρ⋅σ₀   F_mid       ⋅σ₀ ⋅⎝F_mid ⋅⎝- γ₁  + 2⋅γ₂⎠ + 1⎠   ρ     ⎟    ⎟    ⎛F₀⎞\n",
       "α⋅⎜T⋅α ⋅⎜────────────── + ──────────────────────────────────────────── - ── + 2⎟ + 1⎟⋅log⎜──⎟\n",
       "  ⎜     ⎜     4⋅α                                2                       8     ⎟    ⎟    ⎝K ⎠\n",
       "  ⎝     ⎝                                    24⋅α                              ⎠    ⎠        \n",
       "─────────────────────────────────────────────────────────────────────────────────────────────\n",
       "                                 ⎛            _________________⎞                             \n",
       "                                 ⎜           ╱           2     ⎟                             \n",
       "                                 ⎜-ρ + ζ + ╲╱  -2⋅ρ⋅ζ + ζ  + 1 ⎟                             \n",
       "                              log⎜─────────────────────────────⎟                             \n",
       "                                 ⎝            1 - ρ            ⎠                             "
      ]
     },
     "execution_count": 11,
     "metadata": {},
     "output_type": "execute_result"
    }
   ],
   "source": [
    "e = T*alpha**2\n",
    "sigma_impl = alpha*log(F0/K)/D * (1+(p1+p2+p3)*e)\n",
    "sigma_impl"
   ]
  },
  {
   "cell_type": "code",
   "execution_count": 12,
   "id": "a3ec4ba3-8176-4710-93c9-abbc50457be8",
   "metadata": {},
   "outputs": [
    {
     "name": "stdout",
     "output_type": "stream",
     "text": [
      "beta = Symbol('beta')\n",
      "F_mid = Symbol('F_mid')\n",
      "e = beta/F_mid\n"
     ]
    }
   ],
   "source": [
    "print_python(_gamma1)"
   ]
  },
  {
   "cell_type": "code",
   "execution_count": 13,
   "id": "8faa9883-31f4-4184-84da-23b7783fb964",
   "metadata": {},
   "outputs": [
    {
     "name": "stdout",
     "output_type": "stream",
     "text": [
      "beta = Symbol('beta')\n",
      "F_mid = Symbol('F_mid')\n",
      "e = beta*(1 - beta)/F_mid**2\n"
     ]
    }
   ],
   "source": [
    "print_python(_gamma2)"
   ]
  },
  {
   "cell_type": "code",
   "execution_count": 14,
   "id": "6520b106-6d49-4121-a025-2e2924a8bb6a",
   "metadata": {},
   "outputs": [
    {
     "name": "stdout",
     "output_type": "stream",
     "text": [
      "zeta = Symbol('zeta')\n",
      "e = zeta\n"
     ]
    }
   ],
   "source": [
    "print_python(zeta)"
   ]
  },
  {
   "cell_type": "code",
   "execution_count": 15,
   "id": "41cddb41-2046-40bd-8595-cc8b98ce2509",
   "metadata": {},
   "outputs": [
    {
     "name": "stdout",
     "output_type": "stream",
     "text": [
      "alpha = Symbol('alpha')\n",
      "T = Symbol('T')\n",
      "beta = Symbol('beta')\n",
      "F_mid = Symbol('F_mid')\n",
      "gamma1 = Symbol('gamma1')\n",
      "rho = Symbol('rho')\n",
      "sigma0 = Symbol('sigma0')\n",
      "gamma2 = Symbol('gamma2')\n",
      "F0 = Symbol('F0')\n",
      "K = Symbol('K')\n",
      "zeta = Symbol('zeta')\n",
      "e = alpha*(T*alpha**2*(F_mid**beta*gamma1*rho*sigma0/(4*alpha) + F_mid**(2*beta - 2)*sigma0**2*(F_mid**2*(-gamma1**2 + 2*gamma2) + 1)/(24*alpha**2) - rho**2/8 + 2) + 1)*log(F0/K)/log((-rho + zeta + sqrt(-2*rho*zeta + zeta**2 + 1))/(1 - rho))\n"
     ]
    }
   ],
   "source": [
    "print_python(sigma_impl)"
   ]
  },
  {
   "cell_type": "code",
   "execution_count": 16,
   "id": "a1455fb2-1d9d-4c6c-bc5b-d552fc99ffe1",
   "metadata": {},
   "outputs": [],
   "source": [
    "def func_zeta(alpha,beta,F0,sigma0,K):\n",
    "    return alpha*(F0**(1 - beta) - K**(1 - beta))/(sigma0*(1 - beta))"
   ]
  },
  {
   "cell_type": "code",
   "execution_count": null,
   "id": "f12a0efa-4fa3-4e68-9a94-66047c5b65da",
   "metadata": {},
   "outputs": [],
   "source": []
  },
  {
   "cell_type": "code",
   "execution_count": 17,
   "id": "5463601e-8c4e-41b3-9b9e-180d8e920064",
   "metadata": {},
   "outputs": [],
   "source": [
    "def func_sigma_impl (alpha,beta,rho,T,sigma0,F,F_mid,K):\n",
    "    zeta = func_zeta(alpha,beta,F0,sigma0,K)\n",
    "    gamma1 = beta/F_mid\n",
    "    gamma2 = beta*(1 - beta)/F_mid**2\n",
    "    return alpha*(T*alpha**2*(F**beta*gamma1*rho*sigma0/(4*alpha) + F_mid**(2*beta - 2)*sigma0**2*(F_mid**2*(-gamma1**2 + 2*gamma2) + 1)/(24*alpha**2) - rho**2/8 + 2) + 1)*log(F0/K)/log((-rho + zeta + sqrt(-2*rho*zeta + zeta**2 + 1))/(1 - rho))"
   ]
  },
  {
   "cell_type": "code",
   "execution_count": 18,
   "id": "d9b23d12-1dbc-49b6-84f7-8e616901e246",
   "metadata": {},
   "outputs": [
    {
     "data": {
      "image/png": "[encoded data removed]",
      "text/latex": [
       "$\\displaystyle 0.023968384449133$"
      ],
      "text/plain": [
       "0.0239683844491330"
      ]
     },
     "execution_count": 18,
     "metadata": {},
     "output_type": "execute_result"
    }
   ],
   "source": [
    "alpha = 0.2\n",
    "beta = 0.9\n",
    "rho = 0\n",
    "T = 10\n",
    "sigma0 = 0.01\n",
    "K = 140\n",
    "F0 = 120\n",
    "F = 110\n",
    "F_mid = (K+F)/2\n",
    "\n",
    "func_sigma_impl(alpha,beta,rho,T,sigma0,F,F_mid,K)"
   ]
  }
 ],
 "metadata": {
  "kernelspec": {
   "display_name": "Python 3 (ipykernel)",
   "language": "python",
   "name": "python3"
  },
  "language_info": {
   "codemirror_mode": {
    "name": "ipython",
    "version": 3
   },
   "file_extension": ".py",
   "mimetype": "text/x-python",
   "name": "python",
   "nbconvert_exporter": "python",
   "pygments_lexer": "ipython3",
   "version": "3.10.9"
  }
 },
 "nbformat": 4,
 "nbformat_minor": 5
}
