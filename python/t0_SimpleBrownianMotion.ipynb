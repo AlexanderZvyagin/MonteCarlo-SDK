{
 "cells": [
  {
   "cell_type": "code",
   "execution_count": 1,
   "id": "c2bcaffe-1ae8-4981-acd6-b9ea959cd4e6",
   "metadata": {},
   "outputs": [],
   "source": [
    "import requests, json"
   ]
  },
  {
   "cell_type": "code",
   "execution_count": 2,
   "id": "19987c2f-4c7d-4822-a246-b25b6d034fd2",
   "metadata": {},
   "outputs": [
    {
     "data": {
      "text/plain": [
       "[{'description': 'List of available endpoints.',\n",
       "  'endpoint': '/',\n",
       "  'input': 'none',\n",
       "  'output': 'JSON',\n",
       "  'type': ['GET']},\n",
       " {'description': 'Icon.',\n",
       "  'endpoint': '/favicon.ico',\n",
       "  'input': 'none',\n",
       "  'output': 'image/x-icon',\n",
       "  'type': ['GET']},\n",
       " {'description': 'List of supported functions.',\n",
       "  'endpoint': '/functions',\n",
       "  'input': 'none',\n",
       "  'output': 'application/json',\n",
       "  'type': ['GET', 'POST']},\n",
       " {'description': 'Version of the code.',\n",
       "  'endpoint': '/version',\n",
       "  'input': 'none',\n",
       "  'output': 'application/json',\n",
       "  'type': ['GET', 'POST']},\n",
       " {'description': 'Run a model.',\n",
       "  'endpoint': '/model',\n",
       "  'input': 'application/json',\n",
       "  'output': 'application/json',\n",
       "  'type': ['POST']},\n",
       " {'description': 'Run a model.',\n",
       "  'endpoint': '/metrics',\n",
       "  'input': 'none',\n",
       "  'output': 'text/html',\n",
       "  'type': ['GET']}]"
      ]
     },
     "execution_count": 2,
     "metadata": {},
     "output_type": "execute_result"
    }
   ],
   "source": [
    "server = 'http://naz.hopto.org:8001'\n",
    "requests.get(server).json()"
   ]
  },
  {
   "cell_type": "code",
   "execution_count": 3,
   "id": "508380c9-64d6-4334-851b-f04505164fcf",
   "metadata": {},
   "outputs": [],
   "source": [
    "from mcsdk import *\n",
    "from mcsdk.examples import BuildModel_Simple"
   ]
  },
  {
   "cell_type": "code",
   "execution_count": 4,
   "id": "5a6711d1-64a2-42a9-b5d6-5a477b7faa66",
   "metadata": {},
   "outputs": [
    {
     "data": {
      "text/plain": [
       "'{\"TimeStart\": 0, \"TimeSteps\": 1, \"NumPaths\": 1, \"updaters\": [], \"evaluations\": []}'"
      ]
     },
     "execution_count": 4,
     "metadata": {},
     "output_type": "execute_result"
    }
   ],
   "source": [
    "model1 = Model()\n",
    "model1.toJson()"
   ]
  },
  {
   "cell_type": "code",
   "execution_count": 5,
   "id": "7e16d5d8-9566-456e-a06b-1603b100cead",
   "metadata": {},
   "outputs": [
    {
     "data": {
      "text/plain": [
       "'{\"TimeStart\": 0, \"TimeSteps\": 10, \"NumPaths\": 10000, \"updaters\": [{\"name\": \"IndependentBrownianMotion\"}, {\"name\": \"SimpleBrownianMotion\", \"start\": {\"name\": \"start\", \"value\": 0.1}, \"args\": [{\"name\": \"drift\", \"value\": 0.2}, {\"name\": \"diffusion\", \"value\": 2}]}], \"evaluations\": [{\"state\": 0, \"time\": 2}]}'"
      ]
     },
     "execution_count": 5,
     "metadata": {},
     "output_type": "execute_result"
    }
   ],
   "source": [
    "m = BuildModel_Simple()\n",
    "m.evaluations.append(EvaluationPoint(0,2))\n",
    "m.toJson()"
   ]
  },
  {
   "cell_type": "code",
   "execution_count": 6,
   "id": "a3fdd414-b512-4d68-9d8b-e14d1189826b",
   "metadata": {},
   "outputs": [
    {
     "data": {
      "text/plain": [
       "{'mean': [0.5230805277824402],\n",
       " 'names': ['SimpleBrownianMotion'],\n",
       " 'npaths': [10000],\n",
       " 'skewness': [-0.015936588868498802],\n",
       " 'stddev': [2.853414535522461],\n",
       " 'time_points': [2.0],\n",
       " 'time_steps': [10]}"
      ]
     },
     "execution_count": 6,
     "metadata": {},
     "output_type": "execute_result"
    }
   ],
   "source": [
    "r = requests.post(f'{server}/model',m.toJson())\n",
    "r.json()"
   ]
  },
  {
   "cell_type": "code",
   "execution_count": 7,
   "id": "6629e079-e908-4501-9a89-dd9d191883a0",
   "metadata": {},
   "outputs": [
    {
     "data": {
      "text/plain": [
       "{'mean': [0.28380897641181946,\n",
       "  0.47693175077438354,\n",
       "  1.1165248155593872,\n",
       "  2.1516096591949463],\n",
       " 'names': ['SimpleBrownianMotion'],\n",
       " 'npaths': [10000, 10000, 10000, 10000],\n",
       " 'skewness': [0.027689166367053986,\n",
       "  -0.0035432425793260336,\n",
       "  0.017810044810175896,\n",
       "  0.0011721671326085925],\n",
       " 'stddev': [2.0163075923919678,\n",
       "  2.8248910903930664,\n",
       "  4.496484756469727,\n",
       "  6.42911958694458],\n",
       " 'time_points': [1.0, 2.0, 5.0, 10.0],\n",
       " 'time_steps': [1, 2, 5, 10]}"
      ]
     },
     "execution_count": 7,
     "metadata": {},
     "output_type": "execute_result"
    }
   ],
   "source": [
    "m = BuildModel_Simple()\n",
    "for t in [1,2,5,10]:\n",
    "    m.evaluations.append(EvaluationPoint(0,t))\n",
    "r = requests.post(f'{server}/model',m.toJson())\n",
    "r.json()"
   ]
  },
  {
   "cell_type": "code",
   "execution_count": null,
   "id": "4fefa62d-fd2b-4ee8-bb18-7af84b72059c",
   "metadata": {},
   "outputs": [],
   "source": []
  }
 ],
 "metadata": {
  "kernelspec": {
   "display_name": "Python 3 (ipykernel)",
   "language": "python",
   "name": "python3"
  },
  "language_info": {
   "codemirror_mode": {
    "name": "ipython",
    "version": 3
   },
   "file_extension": ".py",
   "mimetype": "text/x-python",
   "name": "python",
   "nbconvert_exporter": "python",
   "pygments_lexer": "ipython3",
   "version": "3.8.10"
  }
 },
 "nbformat": 4,
 "nbformat_minor": 5
}
