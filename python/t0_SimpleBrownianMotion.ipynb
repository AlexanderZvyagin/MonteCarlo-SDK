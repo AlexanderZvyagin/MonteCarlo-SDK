{
 "cells": [
  {
   "cell_type": "code",
   "execution_count": 15,
   "id": "c2bcaffe-1ae8-4981-acd6-b9ea959cd4e6",
   "metadata": {},
   "outputs": [],
   "source": [
    "import requests, json\n",
    "from mcsdk import *\n",
    "from mcsdk.examples import BuildModel_Simple\n",
    "server = 'http://naz.hopto.org:8001'"
   ]
  },
  {
   "cell_type": "code",
   "execution_count": 4,
   "id": "5a6711d1-64a2-42a9-b5d6-5a477b7faa66",
   "metadata": {},
   "outputs": [
    {
     "data": {
      "text/plain": [
       "'{\"TimeStart\": 0, \"TimeSteps\": 1, \"NumPaths\": 1, \"updaters\": [], \"evaluations\": []}'"
      ]
     },
     "execution_count": 4,
     "metadata": {},
     "output_type": "execute_result"
    }
   ],
   "source": [
    "model1 = Model()\n",
    "model1.toJson()"
   ]
  },
  {
   "cell_type": "code",
   "execution_count": 5,
   "id": "7e16d5d8-9566-456e-a06b-1603b100cead",
   "metadata": {},
   "outputs": [
    {
     "data": {
      "text/plain": [
       "'{\"TimeStart\": 0, \"TimeSteps\": 10, \"NumPaths\": 10000, \"updaters\": [{\"name\": \"IndependentBrownianMotion\"}, {\"name\": \"SimpleBrownianMotion\", \"start\": {\"name\": \"start\", \"value\": 0.1}, \"args\": [{\"name\": \"drift\", \"value\": 0.2}, {\"name\": \"diffusion\", \"value\": 2}]}], \"evaluations\": [{\"state\": 0, \"time\": 2}]}'"
      ]
     },
     "execution_count": 5,
     "metadata": {},
     "output_type": "execute_result"
    }
   ],
   "source": [
    "m = BuildModel_Simple()\n",
    "m.evaluations.append(EvaluationPoint(0,2))\n",
    "m.toJson()"
   ]
  },
  {
   "cell_type": "code",
   "execution_count": 6,
   "id": "a3fdd414-b512-4d68-9d8b-e14d1189826b",
   "metadata": {},
   "outputs": [
    {
     "data": {
      "text/plain": [
       "{'mean': [0.5230805277824402],\n",
       " 'names': ['SimpleBrownianMotion'],\n",
       " 'npaths': [10000],\n",
       " 'skewness': [-0.015936588868498802],\n",
       " 'stddev': [2.853414535522461],\n",
       " 'time_points': [2.0],\n",
       " 'time_steps': [10]}"
      ]
     },
     "execution_count": 6,
     "metadata": {},
     "output_type": "execute_result"
    }
   ],
   "source": [
    "r = requests.post(f'{server}/model',m.toJson())\n",
    "r.json()"
   ]
  },
  {
   "cell_type": "code",
   "execution_count": 19,
   "id": "6629e079-e908-4501-9a89-dd9d191883a0",
   "metadata": {},
   "outputs": [
    {
     "data": {
      "text/plain": [
       "{'mean': [0.29977932572364807,\n",
       "  0.5001074075698853,\n",
       "  1.0960489511489868,\n",
       "  2.0979936122894287],\n",
       " 'names': ['SimpleBrownianMotion'],\n",
       " 'npaths': [1000000, 1000000, 1000000, 1000000],\n",
       " 'skewness': [0.00254398793913424,\n",
       "  -0.0002535203821025789,\n",
       "  -3.73982620658353e-05,\n",
       "  -0.002090287860482931],\n",
       " 'stddev': [2.0001721382141113,\n",
       "  2.826321840286255,\n",
       "  4.471787452697754,\n",
       "  6.330761432647705],\n",
       " 'time_points': [1.0, 2.0, 5.0, 10.0],\n",
       " 'time_steps': [1000, 2000, 5000, 10000]}"
      ]
     },
     "execution_count": 19,
     "metadata": {},
     "output_type": "execute_result"
    }
   ],
   "source": [
    "m = BuildModel_Simple()\n",
    "m.NumPaths = 1000000\n",
    "m.TimeSteps = 10000\n",
    "for t in [1,2,5,10]:\n",
    "    m.evaluations.append(EvaluationPoint(0,t))\n",
    "time_start = time.time()\n",
    "r = requests.post(f'{server}/model',m.toJson())\n",
    "time_end = time.time()\n",
    "r.json()"
   ]
  },
  {
   "cell_type": "code",
   "execution_count": 26,
   "id": "15c1ec56-107e-4c3d-bbd1-ee3c47d83f50",
   "metadata": {},
   "outputs": [
    {
     "name": "stdout",
     "output_type": "stream",
     "text": [
      "3.1\n"
     ]
    }
   ],
   "source": [
    "print(f'{m.NumPaths*m.TimeSteps/(time_end-time_start)*1e-9:.1f} nanoseconds to make a single step')"
   ]
  },
  {
   "cell_type": "code",
   "execution_count": null,
   "id": "fd18dc82-09e7-42f6-932a-802a4abe47d3",
   "metadata": {},
   "outputs": [],
   "source": []
  }
 ],
 "metadata": {
  "kernelspec": {
   "display_name": "Python 3 (ipykernel)",
   "language": "python",
   "name": "python3"
  },
  "language_info": {
   "codemirror_mode": {
    "name": "ipython",
    "version": 3
   },
   "file_extension": ".py",
   "mimetype": "text/x-python",
   "name": "python",
   "nbconvert_exporter": "python",
   "pygments_lexer": "ipython3",
   "version": "3.8.10"
  }
 },
 "nbformat": 4,
 "nbformat_minor": 5
}
