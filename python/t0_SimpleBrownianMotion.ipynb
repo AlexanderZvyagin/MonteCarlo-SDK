{
 "cells": [
  {
   "cell_type": "code",
   "execution_count": null,
   "id": "c2bcaffe-1ae8-4981-acd6-b9ea959cd4e6",
   "metadata": {},
   "outputs": [],
   "source": [
    "from init import *\n",
    "import time"
   ]
  },
  {
   "cell_type": "code",
   "execution_count": null,
   "id": "5a6711d1-64a2-42a9-b5d6-5a477b7faa66",
   "metadata": {},
   "outputs": [],
   "source": [
    "model1 = Model()\n",
    "model1.toJson()"
   ]
  },
  {
   "cell_type": "code",
   "execution_count": null,
   "id": "7e16d5d8-9566-456e-a06b-1603b100cead",
   "metadata": {},
   "outputs": [],
   "source": [
    "m = mcsdk.examples.BuildModel_Simple()\n",
    "m.evaluations.append(EvaluationPoint(0,2))\n",
    "m.toJson()"
   ]
  },
  {
   "cell_type": "code",
   "execution_count": null,
   "id": "a3fdd414-b512-4d68-9d8b-e14d1189826b",
   "metadata": {},
   "outputs": [],
   "source": [
    "r = requests.post(f'{server}/model',m.toJson())\n",
    "r.json()"
   ]
  },
  {
   "cell_type": "code",
   "execution_count": null,
   "id": "6629e079-e908-4501-9a89-dd9d191883a0",
   "metadata": {},
   "outputs": [],
   "source": [
    "m = mcsdk.examples.BuildModel_Simple()\n",
    "m.NumPaths = 1000000\n",
    "m.TimeSteps = 10000\n",
    "for t in [1,2,5,10]:\n",
    "    m.evaluations.append(EvaluationPoint(0,t))\n",
    "time_start = time.time()\n",
    "r = requests.post(f'{server}/model',m.toJson())\n",
    "time_end = time.time()\n",
    "r.json()"
   ]
  },
  {
   "cell_type": "code",
   "execution_count": null,
   "id": "15c1ec56-107e-4c3d-bbd1-ee3c47d83f50",
   "metadata": {},
   "outputs": [],
   "source": [
    "print(f'{m.NumPaths*m.TimeSteps/(time_end-time_start)*1e-9:.1f} nanoseconds to make a single time step')"
   ]
  },
  {
   "cell_type": "code",
   "execution_count": null,
   "id": "fd18dc82-09e7-42f6-932a-802a4abe47d3",
   "metadata": {},
   "outputs": [],
   "source": [
    "m = mcsdk.examples.BadModel()\n",
    "m.NumPaths = 1000000\n",
    "m.TimeSteps = 10000\n",
    "for t in [1,2,5,10]:\n",
    "    m.evaluations.append(EvaluationPoint(0,t))\n",
    "time_start = time.time()\n",
    "r = requests.post(f'{server}/model',m.toJson())\n",
    "time_end = time.time()\n",
    "r.json()"
   ]
  },
  {
   "cell_type": "markdown",
   "id": "a57da563-2a85-4ca7-ae81-39dbbe3e3733",
   "metadata": {},
   "source": [
    "# Two processes, Three evaluations"
   ]
  },
  {
   "cell_type": "code",
   "execution_count": null,
   "id": "ba672df7-920f-446b-bbb3-cbf51d320f1f",
   "metadata": {},
   "outputs": [],
   "source": [
    "model = mcsdk.examples.TwoProcessesModel()\n",
    "model.TimeSteps = 10000\n",
    "for time in [1,2,5]:\n",
    "    model.evaluations.append(EvaluationPoint(state=0,time=time))\n",
    "r = requests.post(f'{server}/model',model.toJson())\n",
    "r.json()"
   ]
  },
  {
   "cell_type": "code",
   "execution_count": null,
   "id": "a892a134-04df-45cf-811f-12c967f75d7f",
   "metadata": {},
   "outputs": [],
   "source": [
    "er = EvaluationResults(r.json(),model)\n",
    "er"
   ]
  },
  {
   "cell_type": "code",
   "execution_count": null,
   "id": "83d32fb3-be55-406e-ae33-375014843930",
   "metadata": {},
   "outputs": [],
   "source": [
    "er.df()"
   ]
  }
 ],
 "metadata": {
  "kernelspec": {
   "display_name": "Python 3 (ipykernel)",
   "language": "python",
   "name": "python3"
  },
  "language_info": {
   "codemirror_mode": {
    "name": "ipython",
    "version": 3
   },
   "file_extension": ".py",
   "mimetype": "text/x-python",
   "name": "python",
   "nbconvert_exporter": "python",
   "pygments_lexer": "ipython3",
   "version": "3.8.10"
  }
 },
 "nbformat": 4,
 "nbformat_minor": 5
}
