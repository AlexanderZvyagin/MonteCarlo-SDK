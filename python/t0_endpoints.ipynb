{
 "cells": [
  {
   "cell_type": "markdown",
   "id": "1ee2248d-6710-4c23-b9b5-1b5ae0faf799",
   "metadata": {},
   "source": [
    "# List of all available endpoints"
   ]
  },
  {
   "cell_type": "markdown",
   "id": "9b7ff3fe-c1b9-4ba6-a5ea-37842f3500bd",
   "metadata": {},
   "source": [
    "#### The notebook initialization"
   ]
  },
  {
   "cell_type": "code",
   "execution_count": 1,
   "id": "772dffde-eab0-46a0-908a-f45d2e5a6342",
   "metadata": {},
   "outputs": [],
   "source": [
    "from init import *"
   ]
  },
  {
   "cell_type": "markdown",
   "id": "6a26a99f-e28c-4206-a8b0-4428208853e1",
   "metadata": {},
   "source": [
    "## Endpoint: /"
   ]
  },
  {
   "cell_type": "code",
   "execution_count": 2,
   "id": "10b6e8db-f2fe-44df-99e0-19da61b42701",
   "metadata": {
    "tags": []
   },
   "outputs": [
    {
     "data": {
      "text/plain": [
       "[{'description': 'List of available endpoints.',\n",
       "  'endpoint': '/',\n",
       "  'input': 'none',\n",
       "  'output': 'JSON',\n",
       "  'type': ['GET']},\n",
       " {'description': 'Icon.',\n",
       "  'endpoint': '/favicon.ico',\n",
       "  'input': 'none',\n",
       "  'output': 'image/x-icon',\n",
       "  'type': ['GET']},\n",
       " {'description': 'List of supported functions.',\n",
       "  'endpoint': '/functions',\n",
       "  'input': 'none',\n",
       "  'output': 'application/json',\n",
       "  'type': ['GET', 'POST']},\n",
       " {'description': 'Version of the code.',\n",
       "  'endpoint': '/version',\n",
       "  'input': 'none',\n",
       "  'output': 'application/json',\n",
       "  'type': ['GET', 'POST']},\n",
       " {'description': 'Run a model.',\n",
       "  'endpoint': '/model',\n",
       "  'input': 'application/json',\n",
       "  'output': 'application/json',\n",
       "  'type': ['POST']},\n",
       " {'description': 'Run a model.',\n",
       "  'endpoint': '/metrics',\n",
       "  'input': 'none',\n",
       "  'output': 'text/html',\n",
       "  'type': ['GET']}]"
      ]
     },
     "execution_count": 2,
     "metadata": {},
     "output_type": "execute_result"
    }
   ],
   "source": [
    "requests.get(server).json()"
   ]
  },
  {
   "cell_type": "markdown",
   "id": "e6459ac1-3c98-4c6e-8533-bcc38f667bf6",
   "metadata": {},
   "source": [
    "## Endpoint: /version"
   ]
  },
  {
   "cell_type": "code",
   "execution_count": 3,
   "id": "4014079d-f994-4679-8007-99baa979f3a2",
   "metadata": {},
   "outputs": [
    {
     "data": {
      "text/plain": [
       "['mc-0.1.1 built=[Sep  5 2022 21:46:42] #deps=4',\n",
       " '  Histogram1D-0.1.1 #deps=0',\n",
       " '  kernels.hpp-0.2.0 #deps=1',\n",
       " '    Histogram1D-0.1.1 #deps=0',\n",
       " '  Model-0.4.0 #deps=0',\n",
       " '  functions-0.8.0 built=[Sep  5 2022 21:46:42] #deps=10',\n",
       " '    IndependentBrownianMotion-0.1.0 #deps=0',\n",
       " '    BrownianMotion-0.4.0 #deps=0',\n",
       " '    GeometricalBrownianMotion-0.4.0 #deps=0',\n",
       " '    DiscountFactor-0.2.0 #deps=0',\n",
       " '    Product_Option-0.0.1 #deps=0',\n",
       " '    Barrier-0.1.1 #deps=0',\n",
       " '    Multiplication-0.0.2 #deps=0',\n",
       " '    Division-0.0.1 #deps=0',\n",
       " '    PolynomT-0.0.1 #deps=0',\n",
       " '    Linear1DInterpolation-0.1.0 #deps=0',\n",
       " '']"
      ]
     },
     "execution_count": 3,
     "metadata": {},
     "output_type": "execute_result"
    }
   ],
   "source": [
    "requests.get(f'{server}/version').json().split('\\n')"
   ]
  },
  {
   "cell_type": "markdown",
   "id": "30536e66-fa7d-43fb-8c21-433ab11d5556",
   "metadata": {
    "tags": []
   },
   "source": [
    "# Prometheus metrics"
   ]
  },
  {
   "cell_type": "code",
   "execution_count": 4,
   "id": "e0b2bfa8-cdf1-48c0-bba7-ce2eb3f02754",
   "metadata": {},
   "outputs": [
    {
     "data": {
      "text/plain": [
       "['# TYPE api_get_version counter',\n",
       " 'mc_api_get_version 1',\n",
       " '# TYPE api_metrics counter',\n",
       " 'mc_api_metrics 1',\n",
       " '# TYPE api_model counter',\n",
       " 'mc_api_model 752',\n",
       " '# TYPE model_version3 counter',\n",
       " 'mc_model_version3 752',\n",
       " '# TYPE mc_api_get_version summary',\n",
       " 'mc_api_get_version_count 1',\n",
       " 'mc_api_get_version_seconds_sum 6.599999999999999e-05',\n",
       " 'mc_api_get_version_seconds_mean 6.6e-05',\n",
       " 'mc_api_get_version_seconds_stddev 0',\n",
       " '# TYPE mc_api_model summary',\n",
       " 'mc_api_model_count 752',\n",
       " 'mc_api_model_seconds_sum 17.705631000000004',\n",
       " 'mc_api_model_seconds_mean 0.023544721',\n",
       " 'mc_api_model_seconds_stddev 0.02509524',\n",
       " '# TYPE mc_model_version3 summary',\n",
       " 'mc_model_version3_count 752',\n",
       " 'mc_model_version3_seconds_sum 17.656383',\n",
       " 'mc_model_version3_seconds_mean 0.023479233',\n",
       " 'mc_model_version3_seconds_stddev 0.025096592',\n",
       " '']"
      ]
     },
     "execution_count": 4,
     "metadata": {},
     "output_type": "execute_result"
    }
   ],
   "source": [
    "requests.get(f'{server}/metrics').text.split('\\n')"
   ]
  },
  {
   "cell_type": "markdown",
   "id": "6210f448-0cb8-4b3e-a7dc-cab516d17408",
   "metadata": {},
   "source": [
    "# Model"
   ]
  },
  {
   "cell_type": "code",
   "execution_count": 5,
   "id": "46120db0-82d1-45c1-b405-bb3ac5077e44",
   "metadata": {},
   "outputs": [
    {
     "data": {
      "text/plain": [
       "{'mean': [0.46851709485054016],\n",
       " 'names': ['BrownianMotion'],\n",
       " 'npaths': [10000],\n",
       " 'skewness': [-0.014324480667710304],\n",
       " 'stddev': [2.830475330352783],\n",
       " 'time_points': [2.0],\n",
       " 'time_steps': [10]}"
      ]
     },
     "execution_count": 5,
     "metadata": {},
     "output_type": "execute_result"
    }
   ],
   "source": [
    "model = {'TimeStart': 0,\n",
    " 'TimeSteps': 10,\n",
    " 'NumPaths': 10000,\n",
    " 'updaters': [{'name': 'IndependentBrownianMotion'},\n",
    "  {'name': 'BrownianMotion',\n",
    "   'start': {'name': 'start', 'value': 0.1},\n",
    "   'args': [{'name': 'drift', 'value': 0.2},\n",
    "    {'name': 'diffusion', 'value': 2}]}],\n",
    " 'evaluations': [{'state': 0, 'time': 2}]\n",
    "}\n",
    "\n",
    "requests.post(f'{server}/model',json.dumps(model)).json()"
   ]
  },
  {
   "cell_type": "markdown",
   "id": "917766e7-2e3b-4f64-bda1-cdc64735a655",
   "metadata": {},
   "source": [
    "## Endpoint: \"/functions\""
   ]
  },
  {
   "cell_type": "code",
   "execution_count": 6,
   "id": "e5b650e5",
   "metadata": {},
   "outputs": [
    {
     "data": {
      "text/plain": [
       "[{'args': ['level', 'valueOnCrossing', 'direction', 'actionOnCrossing'],\n",
       "  'desc': 'Barrier (up/down) with windows',\n",
       "  'desc_md': \"\\n# Barrier\\n\\nA barrier state starts from some initial value S0.\\nOn each computation step we verify the barrier crossing condition, and if it is satisfied, the barrier state will\\nbe set to STATE=valueOnCrossing.\\n\\nFor direction 'up':\\n\\n    if(Sold<level and Snew>=level)\\n        barrierState = valueOnCrossing;\\n\\nFor direction 'down':\\n\\n    if(Sold>level and Snew<=level)\\n        barrierState = valueOnCrossing;\\n\\n## References\\n\\nThe barrier function expectes exactly one reference: an **underlying**.\\n\\n### [ref 0]\\n\\nThe underlying process.\\n\\n## Arguments\\n\\n### [arg 0] level\\nBarrier level\\n\\n### [arg 1] valueOnCrossing\\nThe value we set when the barrier is crossed.\\n\\n### [arg 2] direction\\n\\nThis is the barrier crossing condition.\\n\\n| value | direction  |\\n| ------------- |-------------:|\\n| -1 | down          |\\n|  0 | any (up or down) |\\n| +1 | up |\\n\\n### [arg 3] action\\nIf the barrier crossing condition is satisfied, then the new barrier\\nstate will be changed as:\\n\\n| value | action | the new barrier state will be ... |\\n| ------------- |-------------:|------|\\n| 0 | set | ... set to **valueOnCrossing** |\\n| 1 | increment | ... incremented by **valueOnCrossing** |\\n| 2 | multiply | ... multiplied by **valueOnCrossing** |\\n\\n### [arg 4+] Number of time windows\\n\\nThe number of time windows (say **m**) when the barrier will be checked.\\nThe next **m * 2** parameters will be treated as [from,to) pairs, time windows\\nwhere the barrier condition will be checked. If **m==0**, the barrier condition\\nwill be checked on all time step.\\n\\n## Examples\\n\\n### S0=0, args=[1000,1,-1,0,0]\\n\\nThe barrier inital state is 0. We check on any time step (because arg[4]==0)\\nthe the barrier level==1000 will be crossed in the down direction (for example,\\nfrom 1000.5 to 1000). If the condition is NOT fulfilled, we don't change the\\nbarrier state. Otherwise, we set the barrier value (arg[3]==0 means 'set')\\nto value 1 (because arg[1]==1). Obvioulsy, only the first crossing over\\nthe barrier will have an effect, when we change the barrier state from 0\\n(because S0==0) to 1 (because arg[1]==1 and arg[3]==0)\\n\\n### S0=0, args=[1000,1,-1,0,2,111.1,222.2,333.3,444.4]\\n\\nThe same as above, but wee only check the barrier condition if the time\\nis in one of the two (because arg[5]==2) windows:\\n\\n- [111.1,222.2)\\n- [333.3,444.4)\\n\\n### S0=0, args=[1000,1,-1,1,2,111.1,222.2,333.3,444.4]\\n\\nThe same as above, we 'count' (arg[3]==1 is the increment)\\nhow many times the barrier is crossed in the 'down' direction.\\n\",\n",
       "  'name': 'Barrier',\n",
       "  'refs': ['underlying']},\n",
       " {'args': ['Drift', 'Diffusion'],\n",
       "  'desc': 'BrownianMotion process which dependes on drfit and diffusion.',\n",
       "  'desc_md': '\\n# BrownianMotion\\nThe function expects either 2 arguments (drift,diffusion) OR 2 references to (drift,diffusion) processes.\\n    ',\n",
       "  'name': 'BrownianMotion',\n",
       "  'refs': ['RefDrift', 'RefDiffusion']},\n",
       " {'args': [],\n",
       "  'desc': 'Compute discount factor for a state EqRef.',\n",
       "  'desc_md': '',\n",
       "  'name': 'DiscountFactor',\n",
       "  'refs': ['EqRef']},\n",
       " {'args': ['eps'],\n",
       "  'desc': 'Division',\n",
       "  'desc_md': '\\n# Division\\nDivision of the two processes.\\n\\nIf abs(denominator)<=eps, than the division result will be not-a-number.\\n',\n",
       "  'name': 'Division',\n",
       "  'refs': ['numerator', 'denominator']},\n",
       " {'args': ['Drift', 'Diffusion'],\n",
       "  'desc': 'GeometricalBrownianMotion process which dependes on drfit and diffusion functions.',\n",
       "  'desc_md': '\\n# BrownianMotion\\nThe function expects either 2 arguments (drift,diffusion) OR 2 references to (drift,diffusion) processes.\\n    ',\n",
       "  'name': 'GeometricalBrownianMotion',\n",
       "  'refs': ['RefDrift', 'RefDiffusion']},\n",
       " {'args': [],\n",
       "  'desc': 'Generate independent BM for all states (args list is zero) or for a given list of states.',\n",
       "  'desc_md': '',\n",
       "  'name': 'IndependentBrownianMotion',\n",
       "  'refs': []},\n",
       " {'args': ['Xmin', 'Xmax', 'Y...'],\n",
       "  'desc': '',\n",
       "  'desc_md': '\\n',\n",
       "  'name': 'Linear1DInterpolation',\n",
       "  'refs': ['Xref']},\n",
       " {'args': [],\n",
       "  'desc': 'Multiplication',\n",
       "  'desc_md': '\\n# Multiplication\\n',\n",
       "  'name': 'Multiplication',\n",
       "  'refs': ['states...']},\n",
       " {'args': [],\n",
       "  'desc': 'n-th order polynom of time.',\n",
       "  'desc_md': '',\n",
       "  'name': 'PolynomT',\n",
       "  'refs': []},\n",
       " {'args': ['strike', 'type'],\n",
       "  'desc': 'Compute call/put',\n",
       "  'desc_md': '',\n",
       "  'name': 'Product_Option',\n",
       "  'refs': ['underlying']}]"
      ]
     },
     "execution_count": 6,
     "metadata": {},
     "output_type": "execute_result"
    }
   ],
   "source": [
    "functions = requests.get(f'{server}/functions').json()\n",
    "functions"
   ]
  },
  {
   "cell_type": "code",
   "execution_count": 7,
   "id": "f4c009ae",
   "metadata": {},
   "outputs": [
    {
     "data": {
      "text/markdown": [
       "\n",
       "# Barrier\n",
       "\n",
       "A barrier state starts from some initial value S0.\n",
       "On each computation step we verify the barrier crossing condition, and if it is satisfied, the barrier state will\n",
       "be set to STATE=valueOnCrossing.\n",
       "\n",
       "For direction 'up':\n",
       "\n",
       "    if(Sold<level and Snew>=level)\n",
       "        barrierState = valueOnCrossing;\n",
       "\n",
       "For direction 'down':\n",
       "\n",
       "    if(Sold>level and Snew<=level)\n",
       "        barrierState = valueOnCrossing;\n",
       "\n",
       "## References\n",
       "\n",
       "The barrier function expectes exactly one reference: an **underlying**.\n",
       "\n",
       "### [ref 0]\n",
       "\n",
       "The underlying process.\n",
       "\n",
       "## Arguments\n",
       "\n",
       "### [arg 0] level\n",
       "Barrier level\n",
       "\n",
       "### [arg 1] valueOnCrossing\n",
       "The value we set when the barrier is crossed.\n",
       "\n",
       "### [arg 2] direction\n",
       "\n",
       "This is the barrier crossing condition.\n",
       "\n",
       "| value | direction  |\n",
       "| ------------- |-------------:|\n",
       "| -1 | down          |\n",
       "|  0 | any (up or down) |\n",
       "| +1 | up |\n",
       "\n",
       "### [arg 3] action\n",
       "If the barrier crossing condition is satisfied, then the new barrier\n",
       "state will be changed as:\n",
       "\n",
       "| value | action | the new barrier state will be ... |\n",
       "| ------------- |-------------:|------|\n",
       "| 0 | set | ... set to **valueOnCrossing** |\n",
       "| 1 | increment | ... incremented by **valueOnCrossing** |\n",
       "| 2 | multiply | ... multiplied by **valueOnCrossing** |\n",
       "\n",
       "### [arg 4+] Number of time windows\n",
       "\n",
       "The number of time windows (say **m**) when the barrier will be checked.\n",
       "The next **m * 2** parameters will be treated as [from,to) pairs, time windows\n",
       "where the barrier condition will be checked. If **m==0**, the barrier condition\n",
       "will be checked on all time step.\n",
       "\n",
       "## Examples\n",
       "\n",
       "### S0=0, args=[1000,1,-1,0,0]\n",
       "\n",
       "The barrier inital state is 0. We check on any time step (because arg[4]==0)\n",
       "the the barrier level==1000 will be crossed in the down direction (for example,\n",
       "from 1000.5 to 1000). If the condition is NOT fulfilled, we don't change the\n",
       "barrier state. Otherwise, we set the barrier value (arg[3]==0 means 'set')\n",
       "to value 1 (because arg[1]==1). Obvioulsy, only the first crossing over\n",
       "the barrier will have an effect, when we change the barrier state from 0\n",
       "(because S0==0) to 1 (because arg[1]==1 and arg[3]==0)\n",
       "\n",
       "### S0=0, args=[1000,1,-1,0,2,111.1,222.2,333.3,444.4]\n",
       "\n",
       "The same as above, but wee only check the barrier condition if the time\n",
       "is in one of the two (because arg[5]==2) windows:\n",
       "\n",
       "- [111.1,222.2)\n",
       "- [333.3,444.4)\n",
       "\n",
       "### S0=0, args=[1000,1,-1,1,2,111.1,222.2,333.3,444.4]\n",
       "\n",
       "The same as above, we 'count' (arg[3]==1 is the increment)\n",
       "how many times the barrier is crossed in the 'down' direction.\n",
       "\n",
       "\n",
       "\n",
       "# BrownianMotion\n",
       "The function expects either 2 arguments (drift,diffusion) OR 2 references to (drift,diffusion) processes.\n",
       "    \n",
       "\n",
       "\n",
       "\n",
       "\n",
       "# Division\n",
       "Division of the two processes.\n",
       "\n",
       "If abs(denominator)<=eps, than the division result will be not-a-number.\n",
       "\n",
       "\n",
       "\n",
       "# BrownianMotion\n",
       "The function expects either 2 arguments (drift,diffusion) OR 2 references to (drift,diffusion) processes.\n",
       "    \n",
       "\n",
       "\n",
       "\n",
       "\n",
       "\n",
       "\n",
       "\n",
       "# Multiplication\n",
       "\n",
       "\n",
       "\n",
       "\n",
       "\n",
       "\n"
      ],
      "text/plain": [
       "<IPython.core.display.Markdown object>"
      ]
     },
     "execution_count": 7,
     "metadata": {},
     "output_type": "execute_result"
    }
   ],
   "source": [
    "from IPython.display import Markdown as md\n",
    "doc = ''\n",
    "for f in functions:\n",
    "    doc += f['desc_md'] + '\\n\\n'\n",
    "md(doc)"
   ]
  },
  {
   "cell_type": "code",
   "execution_count": null,
   "id": "ed0626aa-5e1f-4f90-a448-d0a211aaafc9",
   "metadata": {},
   "outputs": [],
   "source": []
  }
 ],
 "metadata": {
  "kernelspec": {
   "display_name": "Python 3 (ipykernel)",
   "language": "python",
   "name": "python3"
  },
  "language_info": {
   "codemirror_mode": {
    "name": "ipython",
    "version": 3
   },
   "file_extension": ".py",
   "mimetype": "text/x-python",
   "name": "python",
   "nbconvert_exporter": "python",
   "pygments_lexer": "ipython3",
   "version": "3.8.10"
  },
  "vscode": {
   "interpreter": {
    "hash": "916dbcbb3f70747c44a77c7bcd40155683ae19c65e1c03b4aa3499c5328201f1"
   }
  }
 },
 "nbformat": 4,
 "nbformat_minor": 5
}
