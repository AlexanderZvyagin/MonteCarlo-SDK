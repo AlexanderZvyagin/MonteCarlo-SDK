{
 "cells": [
  {
   "cell_type": "markdown",
   "id": "1ee2248d-6710-4c23-b9b5-1b5ae0faf799",
   "metadata": {},
   "source": [
    "# List of all available endpoints"
   ]
  },
  {
   "cell_type": "markdown",
   "id": "9b7ff3fe-c1b9-4ba6-a5ea-37842f3500bd",
   "metadata": {},
   "source": [
    "#### The notebook initialization"
   ]
  },
  {
   "cell_type": "code",
   "execution_count": 1,
   "id": "772dffde-eab0-46a0-908a-f45d2e5a6342",
   "metadata": {},
   "outputs": [],
   "source": [
    "from IPython.display import HTML\n",
    "from init import *"
   ]
  },
  {
   "cell_type": "markdown",
   "id": "6a26a99f-e28c-4206-a8b0-4428208853e1",
   "metadata": {},
   "source": [
    "## Endpoint: /"
   ]
  },
  {
   "cell_type": "code",
   "execution_count": 2,
   "id": "10b6e8db-f2fe-44df-99e0-19da61b42701",
   "metadata": {
    "tags": []
   },
   "outputs": [
    {
     "data": {
      "text/html": [
       "\n",
       "<!DOCTYPE html>\n",
       "<html>\n",
       "<head>\n",
       "<style>\n",
       ".brief {\n",
       "    color: darkblue;\n",
       "}\n",
       ".doc-md {\n",
       "    background-color: lightblue;\n",
       "}\n",
       "</style>\n",
       "</head>\n",
       "<body><h2 class='brief'>Get version of the software</h2>\n",
       "<dl>\n",
       "<dt>api</dt>\n",
       "<dd>^/version$</dd>\n",
       "<dt>method</dt>\n",
       "<dd>GET</dd>\n",
       "</dl>\n",
       "<div class='doc-md'>\n",
       "</div>\n",
       "<h2 class='brief'></h2>\n",
       "<dl>\n",
       "<dt>api</dt>\n",
       "<dd>^/favicon.ico$</dd>\n",
       "<dt>method</dt>\n",
       "<dd>GET</dd>\n",
       "</dl>\n",
       "<div class='doc-md'>\n",
       "</div>\n",
       "<h2 class='brief'>Get list of supported functions</h2>\n",
       "<dl>\n",
       "<dt>api</dt>\n",
       "<dd>^/functions$</dd>\n",
       "<dt>method</dt>\n",
       "<dd>GET</dd>\n",
       "</dl>\n",
       "<div class='doc-md'>\n",
       "</div>\n",
       "<h2 class='brief'></h2>\n",
       "<dl>\n",
       "<dt>api</dt>\n",
       "<dd>^/model$</dd>\n",
       "<dt>method</dt>\n",
       "<dd>POST</dd>\n",
       "</dl>\n",
       "<div class='doc-md'>\n",
       "</div>\n",
       "<h2 class='brief'></h2>\n",
       "<dl>\n",
       "<dt>api</dt>\n",
       "<dd>^/metrics$</dd>\n",
       "<dt>method</dt>\n",
       "<dd>GET</dd>\n",
       "</dl>\n",
       "<div class='doc-md'>\n",
       "</div>\n",
       "</body>\n",
       "</html>\n"
      ],
      "text/plain": [
       "<IPython.core.display.HTML object>"
      ]
     },
     "execution_count": 2,
     "metadata": {},
     "output_type": "execute_result"
    }
   ],
   "source": [
    "HTML(requests.get(server).text)"
   ]
  },
  {
   "cell_type": "markdown",
   "id": "e6459ac1-3c98-4c6e-8533-bcc38f667bf6",
   "metadata": {},
   "source": [
    "## Endpoint: /version"
   ]
  },
  {
   "cell_type": "code",
   "execution_count": 3,
   "id": "4014079d-f994-4679-8007-99baa979f3a2",
   "metadata": {},
   "outputs": [
    {
     "data": {
      "text/plain": [
       "['mc-0.1.1 built=[Oct 10 2022 12:45:43] #deps=2',\n",
       " '  KernelModelArgs-0.5.0 #deps=0',\n",
       " '  Model-0.5.0 #deps=1',\n",
       " '    Parameter-0.2.0 #deps=0',\n",
       " '']"
      ]
     },
     "execution_count": 3,
     "metadata": {},
     "output_type": "execute_result"
    }
   ],
   "source": [
    "requests.get(f'{server}/version').json().split('\\n')"
   ]
  },
  {
   "cell_type": "markdown",
   "id": "30536e66-fa7d-43fb-8c21-433ab11d5556",
   "metadata": {
    "tags": []
   },
   "source": [
    "# Prometheus metrics"
   ]
  },
  {
   "cell_type": "code",
   "execution_count": 4,
   "id": "e0b2bfa8-cdf1-48c0-bba7-ce2eb3f02754",
   "metadata": {},
   "outputs": [
    {
     "data": {
      "text/plain": [
       "['']"
      ]
     },
     "execution_count": 4,
     "metadata": {},
     "output_type": "execute_result"
    }
   ],
   "source": [
    "requests.get(f'{server}/metrics').text.split('\\n')"
   ]
  },
  {
   "cell_type": "markdown",
   "id": "6210f448-0cb8-4b3e-a7dc-cab516d17408",
   "metadata": {},
   "source": [
    "# Model"
   ]
  },
  {
   "cell_type": "code",
   "execution_count": 5,
   "id": "170dfdf4-eb78-4a6d-b0f1-3aa36f86f769",
   "metadata": {},
   "outputs": [
    {
     "data": {
      "text/plain": [
       "'{\"TimeStart\": 0, \"TimeSteps\": 1000, \"NumPaths\": 100000, \"updaters\": [{\"name\": \"IndependentGaussian\"}, {\"name\": \"BrownianMotion\", \"start\": 0.1, \"args\": [0.2, 2]}], \"evaluations\": [{\"state\": 0, \"time\": 2}]}'"
      ]
     },
     "execution_count": 5,
     "metadata": {},
     "output_type": "execute_result"
    }
   ],
   "source": [
    "model = {'TimeStart': 0,\n",
    " 'TimeSteps': 1000,\n",
    " 'NumPaths': 100000,\n",
    " 'updaters': [\n",
    "     {'name': 'IndependentGaussian'},\n",
    "     {'name': 'BrownianMotion', 'start': 0.1, 'args': [0.2,2]}\n",
    " ],\n",
    " 'evaluations': [{'state': 0, 'time': 2}]\n",
    "}\n",
    "model_json = json.dumps(model)\n",
    "model_json"
   ]
  },
  {
   "cell_type": "code",
   "execution_count": 6,
   "id": "a9f9f5e1-3092-493e-a96e-21e7598d39ee",
   "metadata": {},
   "outputs": [
    {
     "data": {
      "text/plain": [
       "{'histograms': [],\n",
       " 'mean': [0.4940077066421509],\n",
       " 'names': ['BrownianMotion'],\n",
       " 'npaths': [100000],\n",
       " 'run_time_seconds': {'mean': 0.16691353917121887,\n",
       "  'n': 1024,\n",
       "  'skewness': None,\n",
       "  'stddev': 0.00018337005167268217},\n",
       " 'skewness': [-0.01316062081605196],\n",
       " 'stddev': [2.834304094314575],\n",
       " 'time_points': [2.0],\n",
       " 'time_steps': [1000]}"
      ]
     },
     "execution_count": 6,
     "metadata": {},
     "output_type": "execute_result"
    }
   ],
   "source": [
    "requests.post(f'{server}/model',model_json).json()"
   ]
  },
  {
   "cell_type": "markdown",
   "id": "917766e7-2e3b-4f64-bda1-cdc64735a655",
   "metadata": {},
   "source": [
    "## Endpoint: \"/functions\""
   ]
  },
  {
   "cell_type": "code",
   "execution_count": 7,
   "id": "e5b650e5",
   "metadata": {},
   "outputs": [
    {
     "data": {
      "text/plain": [
       "[{'args': ['level', 'valueOnCrossing', 'direction', 'actionOnCrossing'],\n",
       "  'desc': 'Barrier (up/down) with windows',\n",
       "  'desc_md': \"\\n# Barrier\\n\\nA barrier state starts from some initial value S0.\\nOn each computation step we verify the barrier crossing condition, and if it is satisfied, the barrier state will\\nbe set to STATE=valueOnCrossing.\\n\\nFor direction 'up':\\n\\n    if(Sold<level and Snew>=level)\\n        barrierState = valueOnCrossing;\\n\\nFor direction 'down':\\n\\n    if(Sold>level and Snew<=level)\\n        barrierState = valueOnCrossing;\\n\\n## References\\n\\nThe barrier function expectes exactly one reference: an **underlying**.\\n\\n### [ref 0]\\n\\nThe underlying process.\\n\\n## Arguments\\n\\n### [arg 0] level\\nBarrier level\\n\\n### [arg 1] valueOnCrossing\\nThe value we set when the barrier is crossed.\\n\\n### [arg 2] direction\\n\\nThis is the barrier crossing condition.\\n\\n| value | direction  |\\n| ------------- |-------------:|\\n| -1 | down          |\\n|  0 | any (up or down) |\\n| +1 | up |\\n\\n### [arg 3] action\\nIf the barrier crossing condition is satisfied, then the new barrier\\nstate will be changed as:\\n\\n| value | action | the new barrier state will be ... |\\n| ------------- |-------------:|------|\\n| 0 | set | ... set to **valueOnCrossing** |\\n| 1 | increment | ... incremented by **valueOnCrossing** |\\n| 2 | multiply | ... multiplied by **valueOnCrossing** |\\n\\n### [arg 4+] Number of time windows\\n\\nThe number of time windows (say **m**) when the barrier will be checked.\\nThe next **m * 2** parameters will be treated as [from,to) pairs, time windows\\nwhere the barrier condition will be checked. If **m==0**, the barrier condition\\nwill be checked on all time step.\\n\\n## Examples\\n\\n### S0=0, args=[1000,1,-1,0,0]\\n\\nThe barrier inital state is 0. We check on any time step (because arg[4]==0)\\nthe the barrier level==1000 will be crossed in the down direction (for example,\\nfrom 1000.5 to 1000). If the condition is NOT fulfilled, we don't change the\\nbarrier state. Otherwise, we set the barrier value (arg[3]==0 means 'set')\\nto value 1 (because arg[1]==1). Obvioulsy, only the first crossing over\\nthe barrier will have an effect, when we change the barrier state from 0\\n(because S0==0) to 1 (because arg[1]==1 and arg[3]==0)\\n\\n### S0=0, args=[1000,1,-1,0,2,111.1,222.2,333.3,444.4]\\n\\nThe same as above, but wee only check the barrier condition if the time\\nis in one of the two (because arg[5]==2) windows:\\n\\n- [111.1,222.2)\\n- [333.3,444.4)\\n\\n### S0=0, args=[1000,1,-1,1,2,111.1,222.2,333.3,444.4]\\n\\nThe same as above, we 'count' (arg[3]==1 is the increment)\\nhow many times the barrier is crossed in the 'down' direction.\\n\",\n",
       "  'name': 'Barrier',\n",
       "  'refs': ['underlying']},\n",
       " {'args': ['Drift', 'Diffusion'],\n",
       "  'desc': 'BrownianMotion process which dependes on drfit and diffusion.',\n",
       "  'desc_md': '\\n# BrownianMotion\\nThe function expects either 2 arguments (drift,diffusion) OR 2 references to (drift,diffusion) processes.\\n    ',\n",
       "  'name': 'BrownianMotion',\n",
       "  'refs': ['RefDrift', 'RefDiffusion']},\n",
       " {'args': ['rho'],\n",
       "  'desc': 'Generate correlated normal random variables.',\n",
       "  'desc_md': '\\nUse ref1 as a source, and saves into ref2 a correlated\\nnormally distributed random variable. The correlation parameter\\n\"rho\" is taken from \"args\".\\n',\n",
       "  'name': 'CorrelatedGaussian',\n",
       "  'refs': ['ref1', 'ref2']},\n",
       " {'args': [],\n",
       "  'desc': 'Compute discount factor for a state EqRef.',\n",
       "  'desc_md': '',\n",
       "  'name': 'DiscountFactor',\n",
       "  'refs': ['EqRef']},\n",
       " {'args': ['eps'],\n",
       "  'desc': 'Division',\n",
       "  'desc_md': '\\n# Division\\nDivision of the two processes.\\n\\nIf abs(denominator)<=eps, than the division result will be not-a-number.\\n',\n",
       "  'name': 'Division',\n",
       "  'refs': ['numerator', 'denominator']},\n",
       " {'args': ['Drift', 'Diffusion'],\n",
       "  'desc': 'GeometricalBrownianMotion process which dependes on drfit and diffusion functions.',\n",
       "  'desc_md': '\\n# BrownianMotion\\nThe function expects either 2 arguments (drift,diffusion) OR 2 references to (drift,diffusion) processes.\\n    ',\n",
       "  'name': 'GeometricalBrownianMotion',\n",
       "  'refs': ['RefDrift', 'RefDiffusion']},\n",
       " {'args': [],\n",
       "  'desc': 'Generate independent normal-distributed random variables for all states (if args list is zero) or for a given list of states.',\n",
       "  'desc_md': '',\n",
       "  'name': 'IndependentGaussian',\n",
       "  'refs': []},\n",
       " {'args': ['Xmin', 'Xmax', 'Y(Xmin)', '...Y...', 'Y(Xmax)'],\n",
       "  'desc': 'One dimensional function interpolation.',\n",
       "  'desc_md': \"\\n# Linear1DInterpolation\\n\\nPerform interpolation between [Xmin,Xmax]. The number of interpolation points\\nis deduced from the number of arguments passed to the function.\\nThe first two items are Xmin,Xmax, another arguments are Y-values on the\\nregular grtid between [Xmin,Xmax]. Thus, the total nummber of arguments\\nmust be at least 4.\\n\\n### Example: args=[1,2,3,4,5]\\nthere are three interpolation points (5-2=3):\\n\\n- Xmin = 1.0\\n- Xmax = 2.0\\n- Y(X=1.0) = 3\\n- Y(X=1.5) = 4\\n- Y(X=2.0) = 5\\n\\nThe interpolation function argument is passed as 'Xref'. If Xref=-1, then the argument is time.\\nOtherwise, it is a state number to which will be used as an 'x'-argument.\\n\\nLinear1DInterpolation returns Y(Xmin) if X<Xmin and Y(Xmax) if X>Xmax.\\n\\nLinear1DInterpolation does not use the old state value.\\nThus, the starting process state value is ignored.\\n\\n\",\n",
       "  'name': 'Linear1DInterpolation',\n",
       "  'refs': ['Xref']},\n",
       " {'args': [],\n",
       "  'desc': 'Multiplication',\n",
       "  'desc_md': '\\n# Multiplication\\n',\n",
       "  'name': 'Multiplication',\n",
       "  'refs': ['states...']},\n",
       " {'args': ['a0', 'a1', '...'],\n",
       "  'desc': 'n-th order polynom.',\n",
       "  'desc_md': \"\\n# Polynom\\n\\nThe polynom order is taken from the number of passed arguments.\\nMinimum number is 1, which will be treated as constant function.\\nOtherwise it will compute a0+a1*x+a2*x*x+..., where 'x'-is the\\npolynom argumnt (see below) and a0,a1... are arguments of the\\nfunction.\\n\\nThe polynopm argument 'x' is passed as 'Xref'. If Xref=-1, then the argument is time.\\nOtherwise, it is a state number to which will be used as an 'x'-argument.\\n\\n\",\n",
       "  'name': 'Polynom',\n",
       "  'refs': ['plynom argument']},\n",
       " {'args': ['strike', 'type'],\n",
       "  'desc': 'Compute call/put',\n",
       "  'desc_md': '',\n",
       "  'name': 'Product_Option',\n",
       "  'refs': ['underlying']},\n",
       " {'args': ['beta', 'shift'],\n",
       "  'desc': 'SABR_F',\n",
       "  'desc_md': '',\n",
       "  'name': 'SABR_F',\n",
       "  'refs': ['SABR_S']},\n",
       " {'args': ['alpha'],\n",
       "  'desc': 'SABR_S',\n",
       "  'desc_md': '',\n",
       "  'name': 'SABR_S',\n",
       "  'refs': []}]"
      ]
     },
     "execution_count": 7,
     "metadata": {},
     "output_type": "execute_result"
    }
   ],
   "source": [
    "functions = requests.get(f'{server}/functions').json()\n",
    "functions"
   ]
  },
  {
   "cell_type": "code",
   "execution_count": 8,
   "id": "f4c009ae",
   "metadata": {},
   "outputs": [
    {
     "data": {
      "text/markdown": [
       "\n",
       "# Barrier\n",
       "\n",
       "A barrier state starts from some initial value S0.\n",
       "On each computation step we verify the barrier crossing condition, and if it is satisfied, the barrier state will\n",
       "be set to STATE=valueOnCrossing.\n",
       "\n",
       "For direction 'up':\n",
       "\n",
       "    if(Sold<level and Snew>=level)\n",
       "        barrierState = valueOnCrossing;\n",
       "\n",
       "For direction 'down':\n",
       "\n",
       "    if(Sold>level and Snew<=level)\n",
       "        barrierState = valueOnCrossing;\n",
       "\n",
       "## References\n",
       "\n",
       "The barrier function expectes exactly one reference: an **underlying**.\n",
       "\n",
       "### [ref 0]\n",
       "\n",
       "The underlying process.\n",
       "\n",
       "## Arguments\n",
       "\n",
       "### [arg 0] level\n",
       "Barrier level\n",
       "\n",
       "### [arg 1] valueOnCrossing\n",
       "The value we set when the barrier is crossed.\n",
       "\n",
       "### [arg 2] direction\n",
       "\n",
       "This is the barrier crossing condition.\n",
       "\n",
       "| value | direction  |\n",
       "| ------------- |-------------:|\n",
       "| -1 | down          |\n",
       "|  0 | any (up or down) |\n",
       "| +1 | up |\n",
       "\n",
       "### [arg 3] action\n",
       "If the barrier crossing condition is satisfied, then the new barrier\n",
       "state will be changed as:\n",
       "\n",
       "| value | action | the new barrier state will be ... |\n",
       "| ------------- |-------------:|------|\n",
       "| 0 | set | ... set to **valueOnCrossing** |\n",
       "| 1 | increment | ... incremented by **valueOnCrossing** |\n",
       "| 2 | multiply | ... multiplied by **valueOnCrossing** |\n",
       "\n",
       "### [arg 4+] Number of time windows\n",
       "\n",
       "The number of time windows (say **m**) when the barrier will be checked.\n",
       "The next **m * 2** parameters will be treated as [from,to) pairs, time windows\n",
       "where the barrier condition will be checked. If **m==0**, the barrier condition\n",
       "will be checked on all time step.\n",
       "\n",
       "## Examples\n",
       "\n",
       "### S0=0, args=[1000,1,-1,0,0]\n",
       "\n",
       "The barrier inital state is 0. We check on any time step (because arg[4]==0)\n",
       "the the barrier level==1000 will be crossed in the down direction (for example,\n",
       "from 1000.5 to 1000). If the condition is NOT fulfilled, we don't change the\n",
       "barrier state. Otherwise, we set the barrier value (arg[3]==0 means 'set')\n",
       "to value 1 (because arg[1]==1). Obvioulsy, only the first crossing over\n",
       "the barrier will have an effect, when we change the barrier state from 0\n",
       "(because S0==0) to 1 (because arg[1]==1 and arg[3]==0)\n",
       "\n",
       "### S0=0, args=[1000,1,-1,0,2,111.1,222.2,333.3,444.4]\n",
       "\n",
       "The same as above, but wee only check the barrier condition if the time\n",
       "is in one of the two (because arg[5]==2) windows:\n",
       "\n",
       "- [111.1,222.2)\n",
       "- [333.3,444.4)\n",
       "\n",
       "### S0=0, args=[1000,1,-1,1,2,111.1,222.2,333.3,444.4]\n",
       "\n",
       "The same as above, we 'count' (arg[3]==1 is the increment)\n",
       "how many times the barrier is crossed in the 'down' direction.\n",
       "\n",
       "\n",
       "\n",
       "# BrownianMotion\n",
       "The function expects either 2 arguments (drift,diffusion) OR 2 references to (drift,diffusion) processes.\n",
       "    \n",
       "\n",
       "\n",
       "Use ref1 as a source, and saves into ref2 a correlated\n",
       "normally distributed random variable. The correlation parameter\n",
       "\"rho\" is taken from \"args\".\n",
       "\n",
       "\n",
       "\n",
       "\n",
       "\n",
       "# Division\n",
       "Division of the two processes.\n",
       "\n",
       "If abs(denominator)<=eps, than the division result will be not-a-number.\n",
       "\n",
       "\n",
       "\n",
       "# BrownianMotion\n",
       "The function expects either 2 arguments (drift,diffusion) OR 2 references to (drift,diffusion) processes.\n",
       "    \n",
       "\n",
       "\n",
       "\n",
       "\n",
       "# Linear1DInterpolation\n",
       "\n",
       "Perform interpolation between [Xmin,Xmax]. The number of interpolation points\n",
       "is deduced from the number of arguments passed to the function.\n",
       "The first two items are Xmin,Xmax, another arguments are Y-values on the\n",
       "regular grtid between [Xmin,Xmax]. Thus, the total nummber of arguments\n",
       "must be at least 4.\n",
       "\n",
       "### Example: args=[1,2,3,4,5]\n",
       "there are three interpolation points (5-2=3):\n",
       "\n",
       "- Xmin = 1.0\n",
       "- Xmax = 2.0\n",
       "- Y(X=1.0) = 3\n",
       "- Y(X=1.5) = 4\n",
       "- Y(X=2.0) = 5\n",
       "\n",
       "The interpolation function argument is passed as 'Xref'. If Xref=-1, then the argument is time.\n",
       "Otherwise, it is a state number to which will be used as an 'x'-argument.\n",
       "\n",
       "Linear1DInterpolation returns Y(Xmin) if X<Xmin and Y(Xmax) if X>Xmax.\n",
       "\n",
       "Linear1DInterpolation does not use the old state value.\n",
       "Thus, the starting process state value is ignored.\n",
       "\n",
       "\n",
       "\n",
       "\n",
       "# Multiplication\n",
       "\n",
       "\n",
       "\n",
       "# Polynom\n",
       "\n",
       "The polynom order is taken from the number of passed arguments.\n",
       "Minimum number is 1, which will be treated as constant function.\n",
       "Otherwise it will compute a0+a1*x+a2*x*x+..., where 'x'-is the\n",
       "polynom argumnt (see below) and a0,a1... are arguments of the\n",
       "function.\n",
       "\n",
       "The polynopm argument 'x' is passed as 'Xref'. If Xref=-1, then the argument is time.\n",
       "Otherwise, it is a state number to which will be used as an 'x'-argument.\n",
       "\n",
       "\n",
       "\n",
       "\n",
       "\n",
       "\n",
       "\n",
       "\n",
       "\n"
      ],
      "text/plain": [
       "<IPython.core.display.Markdown object>"
      ]
     },
     "execution_count": 8,
     "metadata": {},
     "output_type": "execute_result"
    }
   ],
   "source": [
    "from IPython.display import Markdown as md\n",
    "doc = ''\n",
    "for f in functions:\n",
    "    doc += f['desc_md'] + '\\n\\n'\n",
    "md(doc)"
   ]
  },
  {
   "cell_type": "code",
   "execution_count": null,
   "id": "ed0626aa-5e1f-4f90-a448-d0a211aaafc9",
   "metadata": {},
   "outputs": [],
   "source": []
  }
 ],
 "metadata": {
  "kernelspec": {
   "display_name": "Python 3 (ipykernel)",
   "language": "python",
   "name": "python3"
  },
  "language_info": {
   "codemirror_mode": {
    "name": "ipython",
    "version": 3
   },
   "file_extension": ".py",
   "mimetype": "text/x-python",
   "name": "python",
   "nbconvert_exporter": "python",
   "pygments_lexer": "ipython3",
   "version": "3.10.7"
  },
  "vscode": {
   "interpreter": {
    "hash": "916dbcbb3f70747c44a77c7bcd40155683ae19c65e1c03b4aa3499c5328201f1"
   }
  }
 },
 "nbformat": 4,
 "nbformat_minor": 5
}
