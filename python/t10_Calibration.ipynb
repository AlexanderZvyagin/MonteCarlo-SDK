{
 "cells": [
  {
   "cell_type": "code",
   "execution_count": 1,
   "id": "885bf7f7",
   "metadata": {},
   "outputs": [],
   "source": [
    "from init import *"
   ]
  },
  {
   "cell_type": "code",
   "execution_count": 2,
   "id": "339f1982",
   "metadata": {},
   "outputs": [],
   "source": [
    "def BuildModel_Simple():\n",
    "    m = Model()\n",
    "    m.TimeStart = 0\n",
    "    m.TimeSteps = 1\n",
    "    m.NumPaths = 1\n",
    "    m.Add(IndependentGaussian())\n",
    "    bm_a = m.Add(BrownianMotion(Parameter(value=0,step=0.1,min=-100,max=100),0,2)) # start, drift, diffusion\n",
    "    m.Add(CorrelatedGaussian(Parameter(value=-1,min=-1,max=1,step=0.0),bm_a.GetStateNumber(),bm_a.GetStateNumber()+1))\n",
    "    bm_b = m.Add(BrownianMotion(0,0,Parameter(value=2,step=0.2))) # start, drift, diffusion\n",
    "    assert (bm_a.GetStateNumber()+1) == bm_b.GetStateNumber()\n",
    "    return m"
   ]
  },
  {
   "cell_type": "code",
   "execution_count": 3,
   "id": "db9eb488",
   "metadata": {
    "scrolled": true
   },
   "outputs": [
    {
     "data": {
      "text/plain": [
       "'{\"TimeStart\": 0, \"TimeSteps\": 100, \"NumPaths\": 10000, \"updaters\": [{\"name\": \"IndependentGaussian\", \"refs\": []}, {\"name\": \"BrownianMotion\", \"start\": {\"value\": 0, \"step\": 0.1, \"min\": -100, \"max\": 100}, \"args\": [0, 2]}, {\"name\": \"CorrelatedGaussian\", \"args\": [{\"value\": -1, \"step\": 0.0, \"min\": -1, \"max\": 1}], \"refs\": [0, 1]}, {\"name\": \"BrownianMotion\", \"start\": 0, \"args\": [0, {\"value\": 2, \"step\": 0.2}]}], \"evaluations\": [{\"state\": 0, \"time\": 1, \"histograms\": []}, {\"state\": 0, \"time\": 2, \"histograms\": []}, {\"state\": 0, \"time\": 5, \"histograms\": []}, {\"state\": 0, \"time\": 10, \"histograms\": []}], \"RandomSeed\": -1, \"RunTimeoutSeconds\": 16.7, \"MemoryLimitKB\": 64}'"
      ]
     },
     "execution_count": 3,
     "metadata": {},
     "output_type": "execute_result"
    }
   ],
   "source": [
    "import time\n",
    "model = BuildModel_Simple()\n",
    "model.NumPaths = 10000\n",
    "model.TimeSteps = 100\n",
    "model.RunTimeoutSeconds = 16.7\n",
    "for t in [1,2,5,10]:\n",
    "    model.evaluations.append(EvaluationPoint(0,t))\n",
    "model.json()"
   ]
  },
  {
   "cell_type": "code",
   "execution_count": 4,
   "id": "9a6dd484",
   "metadata": {
    "scrolled": false
   },
   "outputs": [
    {
     "data": {
      "text/html": [
       "<div>\n",
       "<style scoped>\n",
       "    .dataframe tbody tr th:only-of-type {\n",
       "        vertical-align: middle;\n",
       "    }\n",
       "\n",
       "    .dataframe tbody tr th {\n",
       "        vertical-align: top;\n",
       "    }\n",
       "\n",
       "    .dataframe thead th {\n",
       "        text-align: right;\n",
       "    }\n",
       "</style>\n",
       "<table border=\"1\" class=\"dataframe\">\n",
       "  <thead>\n",
       "    <tr style=\"text-align: right;\">\n",
       "      <th></th>\n",
       "      <th>name</th>\n",
       "      <th>title</th>\n",
       "      <th>state</th>\n",
       "      <th>time</th>\n",
       "      <th>step</th>\n",
       "      <th>npaths</th>\n",
       "      <th>mean</th>\n",
       "      <th>mean_error</th>\n",
       "      <th>stddev</th>\n",
       "      <th>skewness</th>\n",
       "    </tr>\n",
       "  </thead>\n",
       "  <tbody>\n",
       "    <tr>\n",
       "      <th>0</th>\n",
       "      <td>BrownianMotion</td>\n",
       "      <td></td>\n",
       "      <td>0</td>\n",
       "      <td>1.0</td>\n",
       "      <td>10</td>\n",
       "      <td>10000</td>\n",
       "      <td>0.037756</td>\n",
       "      <td>0.019891</td>\n",
       "      <td>1.989111</td>\n",
       "      <td>-0.015428</td>\n",
       "    </tr>\n",
       "    <tr>\n",
       "      <th>1</th>\n",
       "      <td>BrownianMotion</td>\n",
       "      <td></td>\n",
       "      <td>1</td>\n",
       "      <td>1.0</td>\n",
       "      <td>10</td>\n",
       "      <td>10000</td>\n",
       "      <td>-0.037756</td>\n",
       "      <td>0.019891</td>\n",
       "      <td>1.989111</td>\n",
       "      <td>0.015428</td>\n",
       "    </tr>\n",
       "    <tr>\n",
       "      <th>2</th>\n",
       "      <td>BrownianMotion</td>\n",
       "      <td></td>\n",
       "      <td>0</td>\n",
       "      <td>2.0</td>\n",
       "      <td>20</td>\n",
       "      <td>10000</td>\n",
       "      <td>0.052407</td>\n",
       "      <td>0.028251</td>\n",
       "      <td>2.825100</td>\n",
       "      <td>-0.004338</td>\n",
       "    </tr>\n",
       "    <tr>\n",
       "      <th>3</th>\n",
       "      <td>BrownianMotion</td>\n",
       "      <td></td>\n",
       "      <td>1</td>\n",
       "      <td>2.0</td>\n",
       "      <td>20</td>\n",
       "      <td>10000</td>\n",
       "      <td>-0.052407</td>\n",
       "      <td>0.028251</td>\n",
       "      <td>2.825100</td>\n",
       "      <td>0.004338</td>\n",
       "    </tr>\n",
       "    <tr>\n",
       "      <th>4</th>\n",
       "      <td>BrownianMotion</td>\n",
       "      <td></td>\n",
       "      <td>0</td>\n",
       "      <td>5.0</td>\n",
       "      <td>50</td>\n",
       "      <td>10000</td>\n",
       "      <td>0.037574</td>\n",
       "      <td>0.044302</td>\n",
       "      <td>4.430233</td>\n",
       "      <td>-0.026248</td>\n",
       "    </tr>\n",
       "    <tr>\n",
       "      <th>5</th>\n",
       "      <td>BrownianMotion</td>\n",
       "      <td></td>\n",
       "      <td>1</td>\n",
       "      <td>5.0</td>\n",
       "      <td>50</td>\n",
       "      <td>10000</td>\n",
       "      <td>-0.037574</td>\n",
       "      <td>0.044302</td>\n",
       "      <td>4.430233</td>\n",
       "      <td>0.026248</td>\n",
       "    </tr>\n",
       "    <tr>\n",
       "      <th>6</th>\n",
       "      <td>BrownianMotion</td>\n",
       "      <td></td>\n",
       "      <td>0</td>\n",
       "      <td>10.0</td>\n",
       "      <td>100</td>\n",
       "      <td>10000</td>\n",
       "      <td>-0.029538</td>\n",
       "      <td>0.062697</td>\n",
       "      <td>6.269678</td>\n",
       "      <td>0.003887</td>\n",
       "    </tr>\n",
       "    <tr>\n",
       "      <th>7</th>\n",
       "      <td>BrownianMotion</td>\n",
       "      <td></td>\n",
       "      <td>1</td>\n",
       "      <td>10.0</td>\n",
       "      <td>100</td>\n",
       "      <td>10000</td>\n",
       "      <td>0.029538</td>\n",
       "      <td>0.062697</td>\n",
       "      <td>6.269678</td>\n",
       "      <td>-0.003887</td>\n",
       "    </tr>\n",
       "  </tbody>\n",
       "</table>\n",
       "</div>"
      ],
      "text/plain": [
       "             name title  state  time  step  npaths      mean  mean_error  \\\n",
       "0  BrownianMotion            0   1.0    10   10000  0.037756    0.019891   \n",
       "1  BrownianMotion            1   1.0    10   10000 -0.037756    0.019891   \n",
       "2  BrownianMotion            0   2.0    20   10000  0.052407    0.028251   \n",
       "3  BrownianMotion            1   2.0    20   10000 -0.052407    0.028251   \n",
       "4  BrownianMotion            0   5.0    50   10000  0.037574    0.044302   \n",
       "5  BrownianMotion            1   5.0    50   10000 -0.037574    0.044302   \n",
       "6  BrownianMotion            0  10.0   100   10000 -0.029538    0.062697   \n",
       "7  BrownianMotion            1  10.0   100   10000  0.029538    0.062697   \n",
       "\n",
       "     stddev  skewness  \n",
       "0  1.989111 -0.015428  \n",
       "1  1.989111  0.015428  \n",
       "2  2.825100 -0.004338  \n",
       "3  2.825100  0.004338  \n",
       "4  4.430233 -0.026248  \n",
       "5  4.430233  0.026248  \n",
       "6  6.269678  0.003887  \n",
       "7  6.269678 -0.003887  "
      ]
     },
     "execution_count": 4,
     "metadata": {},
     "output_type": "execute_result"
    }
   ],
   "source": [
    "result = requests.post(f'{server}/model',model.json())\n",
    "er = EvaluationResults(result.json(),model)\n",
    "er.df()"
   ]
  },
  {
   "cell_type": "code",
   "execution_count": 5,
   "id": "b8e99d6f",
   "metadata": {},
   "outputs": [
    {
     "name": "stdout",
     "output_type": "stream",
     "text": [
      "(0, None) {\"name\": \"IndependentGaussian\", \"refs\": []}\n",
      "(1, 0) {\"name\": \"BrownianMotion\", \"start\": {\"value\": 0, \"step\": 0.1, \"min\": -100, \"max\": 100}, \"args\": [0, 2]}\n",
      "(2, None) {\"name\": \"CorrelatedGaussian\", \"args\": [{\"value\": -1, \"step\": 0.0, \"min\": -1, \"max\": 1}], \"refs\": [0, 1]}\n",
      "(3, 1) {\"name\": \"BrownianMotion\", \"start\": 0, \"args\": [0, {\"value\": 2, \"step\": 0.2}]}\n"
     ]
    }
   ],
   "source": [
    "for u in model.updaters:\n",
    "    print((u.GetEquationNumber(),u.GetStateNumber()),u.json())"
   ]
  },
  {
   "cell_type": "code",
   "execution_count": 6,
   "id": "4ae9441c",
   "metadata": {
    "scrolled": true
   },
   "outputs": [
    {
     "name": "stdout",
     "output_type": "stream",
     "text": [
      "2 calibration parameters:\n",
      "BrownianMotion eq=1 narg=-1 {\"value\": 0, \"step\": 0.1, \"min\": -100, \"max\": 100}\n",
      "BrownianMotion eq=3 narg=1 {\"value\": 2, \"step\": 0.2}\n"
     ]
    }
   ],
   "source": [
    "calib = ModelCalibration(model)\n",
    "calib.Print()"
   ]
  },
  {
   "cell_type": "code",
   "execution_count": 7,
   "id": "47b20051",
   "metadata": {},
   "outputs": [
    {
     "data": {
      "text/plain": [
       "[0, 2]"
      ]
     },
     "execution_count": 7,
     "metadata": {},
     "output_type": "execute_result"
    }
   ],
   "source": [
    "calib.GetState()"
   ]
  },
  {
   "cell_type": "code",
   "execution_count": 8,
   "id": "b6bdcf6c",
   "metadata": {},
   "outputs": [
    {
     "name": "stdout",
     "output_type": "stream",
     "text": [
      "eq=1 narg=-1 {\"value\": 0, \"step\": 0.1, \"min\": -100, \"max\": 100}\n",
      "eq=3 narg=1 {\"value\": 2, \"step\": 0.2}\n"
     ]
    }
   ],
   "source": [
    "for cpar in calib.cpars:\n",
    "    print(cpar)"
   ]
  },
  {
   "cell_type": "code",
   "execution_count": 9,
   "id": "06438e59",
   "metadata": {},
   "outputs": [
    {
     "data": {
      "text/plain": [
       "[0, 2]"
      ]
     },
     "execution_count": 9,
     "metadata": {},
     "output_type": "execute_result"
    }
   ],
   "source": [
    "ModelCalibration(model).GetState()"
   ]
  },
  {
   "cell_type": "code",
   "execution_count": 10,
   "id": "dbe78c63",
   "metadata": {},
   "outputs": [
    {
     "name": "stdout",
     "output_type": "stream",
     "text": [
      "[0.1, 2]\n",
      "[0.11, 2]\n",
      "[0.11, 2.22]\n"
     ]
    }
   ],
   "source": [
    "calib.SetCalibrationParameter(0,0.1)\n",
    "print(calib.GetState())\n",
    "calib.SetCalibrationParameter(0,0.11)\n",
    "print(calib.GetState())\n",
    "calib.SetCalibrationParameter(1,2.22)\n",
    "print(calib.GetState())\n"
   ]
  },
  {
   "cell_type": "code",
   "execution_count": 11,
   "id": "248c7160",
   "metadata": {},
   "outputs": [
    {
     "data": {
      "text/plain": [
       "'{\"TimeStart\": 0, \"TimeSteps\": 100, \"NumPaths\": 10000, \"updaters\": [{\"name\": \"IndependentGaussian\", \"refs\": []}, {\"name\": \"BrownianMotion\", \"start\": {\"value\": 0.11, \"step\": 0.1, \"min\": -100, \"max\": 100}, \"args\": [0, 2]}, {\"name\": \"CorrelatedGaussian\", \"args\": [{\"value\": -1, \"step\": 0.0, \"min\": -1, \"max\": 1}], \"refs\": [0, 1]}, {\"name\": \"BrownianMotion\", \"start\": 0, \"args\": [0, {\"value\": 2.22, \"step\": 0.2}]}], \"evaluations\": [{\"state\": 0, \"time\": 1, \"histograms\": []}, {\"state\": 0, \"time\": 2, \"histograms\": []}, {\"state\": 0, \"time\": 5, \"histograms\": []}, {\"state\": 0, \"time\": 10, \"histograms\": []}], \"RandomSeed\": -1, \"RunTimeoutSeconds\": 16.7, \"MemoryLimitKB\": 64}'"
      ]
     },
     "execution_count": 11,
     "metadata": {},
     "output_type": "execute_result"
    }
   ],
   "source": [
    "model.json()"
   ]
  },
  {
   "cell_type": "markdown",
   "id": "fb4abe06",
   "metadata": {},
   "source": [
    "# Using KalmanFilter"
   ]
  },
  {
   "cell_type": "code",
   "execution_count": 12,
   "id": "cf83059c",
   "metadata": {},
   "outputs": [
    {
     "ename": "NameError",
     "evalue": "name 'UnscentedKalmanFilter' is not defined",
     "output_type": "error",
     "traceback": [
      "\u001b[0;31m---------------------------------------------------------------------------\u001b[0m",
      "\u001b[0;31mNameError\u001b[0m                                 Traceback (most recent call last)",
      "Cell \u001b[0;32mIn[12], line 1\u001b[0m\n\u001b[0;32m----> 1\u001b[0m \u001b[38;5;28;01mclass\u001b[39;00m \u001b[38;5;21;01mModelCalibUKF\u001b[39;00m (ModelCalibration, \u001b[43mUnscentedKalmanFilter\u001b[49m):\n\u001b[1;32m      2\u001b[0m     \u001b[38;5;28;01mdef\u001b[39;00m \u001b[38;5;21m__init__\u001b[39m (\u001b[38;5;28mself\u001b[39m, model):\n\u001b[1;32m      3\u001b[0m         ModelCalibration\u001b[38;5;241m.\u001b[39m\u001b[38;5;21m__init__\u001b[39m (\u001b[38;5;28mself\u001b[39m, model)\n",
      "\u001b[0;31mNameError\u001b[0m: name 'UnscentedKalmanFilter' is not defined"
     ]
    }
   ],
   "source": [
    "class ModelCalibUKF (ModelCalibration, UnscentedKalmanFilter):\n",
    "    def __init__ (self, model):\n",
    "        ModelCalibration.__init__ (self, model)"
   ]
  },
  {
   "cell_type": "code",
   "execution_count": null,
   "id": "b160de51",
   "metadata": {},
   "outputs": [],
   "source": [
    "ckf = ModelCalibUKF(model)\n",
    "ckf.Print()"
   ]
  },
  {
   "cell_type": "code",
   "execution_count": null,
   "id": "abee021f",
   "metadata": {},
   "outputs": [],
   "source": [
    "model.evaluations"
   ]
  }
 ],
 "metadata": {
  "kernelspec": {
   "display_name": "Python 3 (ipykernel)",
   "language": "python",
   "name": "python3"
  },
  "language_info": {
   "codemirror_mode": {
    "name": "ipython",
    "version": 3
   },
   "file_extension": ".py",
   "mimetype": "text/x-python",
   "name": "python",
   "nbconvert_exporter": "python",
   "pygments_lexer": "ipython3",
   "version": "3.10.9"
  }
 },
 "nbformat": 4,
 "nbformat_minor": 5
}
