{
 "cells": [
  {
   "cell_type": "code",
   "execution_count": 1,
   "id": "c2bcaffe-1ae8-4981-acd6-b9ea959cd4e6",
   "metadata": {},
   "outputs": [],
   "source": [
    "from init import *\n",
    "import time"
   ]
  },
  {
   "cell_type": "markdown",
   "id": "de6ddefb-f954-4a99-8aeb-a30c3cfb44e5",
   "metadata": {},
   "source": [
    "# Ito processes\n",
    "\n",
    "- https://en.wikipedia.org/wiki/It%C3%B4_isometry\n",
    "- https://en.wikipedia.org/wiki/It%C3%B4%27s_lemma"
   ]
  },
  {
   "cell_type": "markdown",
   "id": "6956fa1c-9a91-4cf1-83c9-ca6f828d0fed",
   "metadata": {},
   "source": [
    "Consider Ito stochastic processes $X(T)$ and $Y(T)$:\n",
    "\n",
    "\\begin{eqnarray}\n",
    "X(T) &=& X(0) + \\int_0^T\\mu_1(t)\\textrm{d}t + \\int_0^T \\sigma_{11}(t)\\textrm{d}W_{1t} + \\int_0^T \\sigma_{12}(t)\\textrm{d}W_{2t}\\\\\n",
    "Y(T) &=& Y(0) + \\int_0^T\\mu_2(t)\\textrm{d}t + \\int_0^T \\sigma_{21}(t)\\textrm{d}W_{1t} + \\int_0^T \\sigma_{22}(t)\\textrm{d}W_{2t}\\\\\n",
    "\\end{eqnarray}\n",
    "\n",
    "... or writtent in differntial form:\n",
    "\n",
    "\\begin{eqnarray}\n",
    "\\textrm{d}X_t &=& \\mu_1(t) \\cdot \\textrm{d}t + \\sigma_{11}(t) \\cdot \\textrm{d}W_{1t} + \\sigma_{12}(t) \\cdot \\textrm{d}W_{2t} \\\\\n",
    "\\textrm{d}Y_t &=& \\mu_2(t) \\cdot \\textrm{d}t + \\sigma_{21}(t) \\cdot \\textrm{d}W_{1t} + \\sigma_{22}(t) \\cdot \\textrm{d}W_{2t} \\\\\n",
    "\\end{eqnarray}"
   ]
  },
  {
   "cell_type": "markdown",
   "id": "ce01ce7e-9ac4-46b0-a12c-6f62a0056e5d",
   "metadata": {},
   "source": [
    "# Ito isometry"
   ]
  },
  {
   "cell_type": "markdown",
   "id": "c1dc383f-7310-4fa9-bfad-27e2eebff0f2",
   "metadata": {},
   "source": [
    "\\begin{eqnarray}\n",
    "\\mathbb{E}\\left[ \\left( \\int_0^T X_t \\textrm{d}W_t \\right)^2 \\right] &=&\n",
    "\\mathbb{E}\\left[ \\int_0^TX_t^2 \\textrm{d} t \\right] \\\\\n",
    "\\mathbb{E}\\left[ \\left( \\int_0^T X_t \\textrm{d}W_t \\right) \\cdot \\left( \\int_0^T Y_t \\textrm{d}W_t \\right) \\right] &=&\n",
    "\\mathbb{E}\\left[ \\int_0^TX_t Y_t \\textrm{d} t \\right]\n",
    "\\end{eqnarray}"
   ]
  },
  {
   "cell_type": "markdown",
   "id": "ac4d3d55-9c2d-48f3-866e-cfb26cdf69ce",
   "metadata": {},
   "source": [
    "In a simplified form, the Ito isometry can be formulated as following. For a non-random function $\\mu(t)$ the integral\n",
    "$$\n",
    "I(T) = \\int_0^T \\sigma(t) \\textrm{d}W_t\n",
    "$$\n",
    "\n",
    "for each $T\\geq 0$ is normally distributed with expected value zero and variance:\n",
    "\n",
    "\\begin{eqnarray}\n",
    "\\mathbb{E} \\left[I(T)\\right] &=& 0 \\\\\n",
    "\\mathbb{E} \\left[I^2(T)\\right] &=& \\int_0^T\\sigma^2(t)\\textrm{d}t \\\\\n",
    "\\end{eqnarray}"
   ]
  },
  {
   "cell_type": "markdown",
   "id": "7263d56e-62ea-4d3b-8f19-1c5d5a260cd1",
   "metadata": {},
   "source": [
    "## Example 1"
   ]
  },
  {
   "cell_type": "markdown",
   "id": "c85e21d5-0837-443b-91e9-4616fc2b3d16",
   "metadata": {},
   "source": [
    "For example, if we use ordinary (non-stochastic) drift and diffusion functions:\n",
    "\\begin{eqnarray*}\n",
    "\\mu(t) &=& t \\\\\n",
    "\\sigma(t) &=& t \\\\\n",
    "\\end{eqnarray*}\n",
    "\n",
    "With initial condition $X(0)=0$\n",
    "\n",
    "Then:\n",
    "\\begin{eqnarray*}\n",
    "\\mathbb{E} \\left[X(T)\\right] &=& \\frac{T^2}{2} \\\\\n",
    "\\mathbb{E} \\left[\\left(X(T)\\right)^2\\right] &=& \\int_0^T t^2 \\textrm{d}t = \\frac{T^3}{3}\n",
    "\\end{eqnarray*}"
   ]
  },
  {
   "cell_type": "markdown",
   "id": "ab3b72aa-1505-4733-8857-eecda9fd53ea",
   "metadata": {},
   "source": [
    "## Using The Monte Carlo Technic"
   ]
  },
  {
   "cell_type": "code",
   "execution_count": 2,
   "id": "1f3b588b-8049-41ce-b953-2b639c557652",
   "metadata": {},
   "outputs": [],
   "source": [
    "def BrownianMotion_example (\n",
    "    start        : float,          # X(0)\n",
    "    drift        : float,\n",
    "    diffusion    : float,\n",
    "    time_horizon : float,\n",
    "    paths        : int    = 100000,\n",
    "    time_steps   : int    = 1000,\n",
    "    seed         : int    = 0      # Use -1 to generate the seed number randomly\n",
    "):\n",
    "    model = Model()\n",
    "    model.TimeStart = 0\n",
    "    model.TimeSteps = time_steps\n",
    "    model.NumPaths = paths\n",
    "    model.RandomSeed = seed\n",
    "\n",
    "    model.Add(IndependentGaussian())\n",
    "    start = 0\n",
    "    bm_process = BrownianMotion(start,drift,diffusion)\n",
    "    model.Add(bm_process) # start, drift, diffusion\n",
    "\n",
    "    model.evaluations.append(EvaluationPoint(bm_process.Number(),time_horizon))\n",
    "\n",
    "    reply = requests.post(f'{server}/model',model.json())\n",
    "    results = EvaluationResults(reply.json())\n",
    "    \n",
    "    return results"
   ]
  },
  {
   "cell_type": "code",
   "execution_count": 3,
   "id": "ccc9c3a2-a0fd-433e-bbbb-a54d323e61e9",
   "metadata": {},
   "outputs": [
    {
     "data": {
      "text/html": [
       "<div>\n",
       "<style scoped>\n",
       "    .dataframe tbody tr th:only-of-type {\n",
       "        vertical-align: middle;\n",
       "    }\n",
       "\n",
       "    .dataframe tbody tr th {\n",
       "        vertical-align: top;\n",
       "    }\n",
       "\n",
       "    .dataframe thead th {\n",
       "        text-align: right;\n",
       "    }\n",
       "</style>\n",
       "<table border=\"1\" class=\"dataframe\">\n",
       "  <thead>\n",
       "    <tr style=\"text-align: right;\">\n",
       "      <th></th>\n",
       "      <th>name</th>\n",
       "      <th>title</th>\n",
       "      <th>state</th>\n",
       "      <th>time</th>\n",
       "      <th>step</th>\n",
       "      <th>npaths</th>\n",
       "      <th>mean</th>\n",
       "      <th>mean_error</th>\n",
       "      <th>stddev</th>\n",
       "      <th>skewness</th>\n",
       "    </tr>\n",
       "  </thead>\n",
       "  <tbody>\n",
       "    <tr>\n",
       "      <th>0</th>\n",
       "      <td>BrownianMotion</td>\n",
       "      <td></td>\n",
       "      <td>0</td>\n",
       "      <td>2.0</td>\n",
       "      <td>1000</td>\n",
       "      <td>100000</td>\n",
       "      <td>0.001768</td>\n",
       "      <td>0.004486</td>\n",
       "      <td>1.418556</td>\n",
       "      <td>0.010634</td>\n",
       "    </tr>\n",
       "  </tbody>\n",
       "</table>\n",
       "</div>"
      ],
      "text/plain": [
       "             name title  state  time  step  npaths      mean  mean_error  \\\n",
       "0  BrownianMotion            0   2.0  1000  100000  0.001768    0.004486   \n",
       "\n",
       "     stddev  skewness  \n",
       "0  1.418556  0.010634  "
      ]
     },
     "execution_count": 3,
     "metadata": {},
     "output_type": "execute_result"
    }
   ],
   "source": [
    "r = BrownianMotion_example(0,0,1,2)\n",
    "r.df()"
   ]
  },
  {
   "cell_type": "code",
   "execution_count": 4,
   "id": "bb0caf86-f660-4519-be80-4947dbac8d7e",
   "metadata": {},
   "outputs": [],
   "source": [
    "class Linear1DInterpolation (Updater):\n",
    "    def __init__ (self, f, ref:int, xmin:float, xmax:float, points:int=100, title:str=''):\n",
    "        assert xmin<xmax\n",
    "        assert points>=2 and points<=1024\n",
    "        dx = (xmax-xmin)/(points-1)\n",
    "        Updater.__init__ (\n",
    "            self,\n",
    "            name  = 'Linear1DInterpolation',\n",
    "            start = None,\n",
    "            refs  = [ref],\n",
    "            args  = [xmin,xmax,f(xmin)] + [f(xmin+dx*i) for i in range(1,points-1)] + [f(xmax)],\n",
    "            _title = title\n",
    "        )"
   ]
  },
  {
   "cell_type": "code",
   "execution_count": 5,
   "id": "44ca327d-9514-4adc-9234-7ca1ff07267e",
   "metadata": {},
   "outputs": [],
   "source": [
    "def ItoProcess_example (\n",
    "    start        : float,          # X(0)\n",
    "    drift_func,\n",
    "    diffusion_func,\n",
    "    time_horizon : float,\n",
    "    interpolation_points: int = 10,\n",
    "    paths        : int    = 100000,\n",
    "    time_steps   : int    = 1000,\n",
    "    seed         : int    = 0      # Use -1 to generate the seed number randomly\n",
    "):\n",
    "    model = Model()\n",
    "    model.TimeStart = 0\n",
    "    model.TimeSteps = time_steps\n",
    "    model.NumPaths = paths\n",
    "    model.RandomSeed = seed\n",
    "\n",
    "    model.Add(IndependentGaussian())\n",
    "    \n",
    "    ref_time = -1\n",
    "    drift_process = Linear1DInterpolation(drift_func,ref_time, model.TimeStart,time_horizon,interpolation_points,title='drift')\n",
    "    model.Add(drift_process)\n",
    "\n",
    "    diffusion_process = Linear1DInterpolation(drift_func,ref_time, model.TimeStart,time_horizon,interpolation_points,title='diffusion')\n",
    "    model.Add(diffusion_process)\n",
    "\n",
    "    start = 0\n",
    "    X1_process = BrownianMotionRef(start,drift_process.Number(),diffusion_process.Number())\n",
    "    assert X1_process.refs == [drift_process.Number(),diffusion_process.Number()]\n",
    "    model.Add(X1_process) # start, drift, diffusion\n",
    "    \n",
    "    model.evaluations.append(EvaluationPoint(X1_process.Number(),time_horizon))\n",
    "    print(model.json())\n",
    "\n",
    "    reply = requests.post(f'{server}/model',model.json())\n",
    "    results = EvaluationResults(reply.json())\n",
    "    \n",
    "    return results"
   ]
  },
  {
   "cell_type": "code",
   "execution_count": 6,
   "id": "c9f6e1b5-dc4c-4ab1-9239-25d2195a0431",
   "metadata": {},
   "outputs": [
    {
     "name": "stdout",
     "output_type": "stream",
     "text": [
      "{\"TimeStart\": 0, \"TimeSteps\": 1000, \"NumPaths\": 100000, \"updaters\": [{\"name\": \"IndependentGaussian\"}, {\"name\": \"Linear1DInterpolation\", \"start\": null, \"refs\": [-1], \"args\": [0, 2, 0, 2]}, {\"name\": \"Linear1DInterpolation\", \"start\": null, \"refs\": [-1], \"args\": [0, 2, 0, 2]}, {\"name\": \"BrownianMotion\", \"start\": 0, \"refs\": [0, 1]}], \"evaluations\": [{\"state\": 2, \"time\": 2, \"histograms\": []}], \"RandomSeed\": 0, \"RunTimeoutSeconds\": 1, \"MemoryLimitKB\": 1}\n"
     ]
    },
    {
     "data": {
      "text/html": [
       "<div>\n",
       "<style scoped>\n",
       "    .dataframe tbody tr th:only-of-type {\n",
       "        vertical-align: middle;\n",
       "    }\n",
       "\n",
       "    .dataframe tbody tr th {\n",
       "        vertical-align: top;\n",
       "    }\n",
       "\n",
       "    .dataframe thead th {\n",
       "        text-align: right;\n",
       "    }\n",
       "</style>\n",
       "<table border=\"1\" class=\"dataframe\">\n",
       "  <thead>\n",
       "    <tr style=\"text-align: right;\">\n",
       "      <th></th>\n",
       "      <th>name</th>\n",
       "      <th>title</th>\n",
       "      <th>state</th>\n",
       "      <th>time</th>\n",
       "      <th>step</th>\n",
       "      <th>npaths</th>\n",
       "      <th>mean</th>\n",
       "      <th>mean_error</th>\n",
       "      <th>stddev</th>\n",
       "      <th>skewness</th>\n",
       "    </tr>\n",
       "  </thead>\n",
       "  <tbody>\n",
       "    <tr>\n",
       "      <th>0</th>\n",
       "      <td>Linear1DInterpolation</td>\n",
       "      <td></td>\n",
       "      <td>0</td>\n",
       "      <td>2.0</td>\n",
       "      <td>1000</td>\n",
       "      <td>100000</td>\n",
       "      <td>2.000000</td>\n",
       "      <td>0.000000</td>\n",
       "      <td>0.000000</td>\n",
       "      <td>NaN</td>\n",
       "    </tr>\n",
       "    <tr>\n",
       "      <th>1</th>\n",
       "      <td>Linear1DInterpolation</td>\n",
       "      <td></td>\n",
       "      <td>1</td>\n",
       "      <td>2.0</td>\n",
       "      <td>1000</td>\n",
       "      <td>100000</td>\n",
       "      <td>2.000000</td>\n",
       "      <td>0.000000</td>\n",
       "      <td>0.000000</td>\n",
       "      <td>NaN</td>\n",
       "    </tr>\n",
       "    <tr>\n",
       "      <th>2</th>\n",
       "      <td>BrownianMotion</td>\n",
       "      <td></td>\n",
       "      <td>2</td>\n",
       "      <td>2.0</td>\n",
       "      <td>1000</td>\n",
       "      <td>100000</td>\n",
       "      <td>2.001822</td>\n",
       "      <td>0.005185</td>\n",
       "      <td>1.639506</td>\n",
       "      <td>-0.003944</td>\n",
       "    </tr>\n",
       "  </tbody>\n",
       "</table>\n",
       "</div>"
      ],
      "text/plain": [
       "                    name title  state  time  step  npaths      mean  \\\n",
       "0  Linear1DInterpolation            0   2.0  1000  100000  2.000000   \n",
       "1  Linear1DInterpolation            1   2.0  1000  100000  2.000000   \n",
       "2         BrownianMotion            2   2.0  1000  100000  2.001822   \n",
       "\n",
       "   mean_error    stddev  skewness  \n",
       "0    0.000000  0.000000       NaN  \n",
       "1    0.000000  0.000000       NaN  \n",
       "2    0.005185  1.639506 -0.003944  "
      ]
     },
     "execution_count": 6,
     "metadata": {},
     "output_type": "execute_result"
    }
   ],
   "source": [
    "drift = lambda t: t\n",
    "diffusion = lambda t: t\n",
    "results = ItoProcess_example(0,drift,diffusion,time_horizon=2,interpolation_points=2)\n",
    "results.df()"
   ]
  },
  {
   "cell_type": "markdown",
   "id": "e073cdff-e01b-4a7b-93e9-a95afa9d84b4",
   "metadata": {},
   "source": [
    "## Is this result correct?"
   ]
  },
  {
   "cell_type": "markdown",
   "id": "98c7d073-0b33-47ee-8a54-e9788d3a7890",
   "metadata": {},
   "source": [
    "The process is:\n",
    "\n",
    "$$\n",
    "X(T) = \\int_0^2t\\cdot \\textrm{d}t + \\int_0^2 t\\cdot\\textrm{d}W_t\n",
    "$$\n",
    "\n",
    "Expected value (from the drift term):\n",
    "$$\\mathbb{E}\\left[X(2)\\right] = \\int_0^2 t \\textrm{d}t =  \\frac{t^2}{2} \\bigg\\rvert_0^2 = 2$$ \n",
    "Variance (from the diffusion term):\n",
    "$$\\textrm{Var}\\left[X(2)\\right] =  \\int_0^2 t^2 \\textrm{d}t =  \\frac{t^3}{3} \\bigg\\rvert_0^2 = \\frac{8}{3}$$ \n",
    "And stddev is a squre root of the variance:\n",
    "$$\\sqrt{\\frac{8}{3}} = 1.632993161855452$$\n",
    "\n",
    "Yes, the numbers do match!"
   ]
  },
  {
   "cell_type": "markdown",
   "id": "91f0812d-29be-4eaa-99c0-92e8f8b77962",
   "metadata": {},
   "source": [
    "# Itô's lemma"
   ]
  },
  {
   "cell_type": "markdown",
   "id": "75dee9a9-c09b-43ce-8bce-66b641cff07a",
   "metadata": {
    "tags": []
   },
   "source": [
    "\\begin{eqnarray}\n",
    "\\textrm{d}X_t &=& \\mu_t \\textrm{d}t + \\sigma_t\\textrm{d}W_t\n",
    "\\\\\n",
    "Y_t &=& f(t,X_t)\n",
    "\\end{eqnarray}\n",
    "\n",
    "\\begin{eqnarray}\n",
    "\\textrm{d} f(t,X_t) &=& \n",
    "\\left(\n",
    "\\frac{\\partial f}{\\partial t} +\n",
    "\\mu_t \\frac{\\partial f}{\\partial x} +\n",
    "\\frac{1}{2}\\sigma_t^2\\frac{\\partial^2 f}{\\partial x^2}\n",
    "\\right)\\textrm{d} t\n",
    "+\n",
    "\\sigma_t \\frac{\\partial f}{\\partial x}\\textrm{d}W_t\n",
    "\\end{eqnarray}\n",
    "\n",
    "Stochastic calculus rules for differentials of the second order:\n",
    "\\begin{eqnarray}\n",
    "\\textrm{d}t \\cdot \\textrm{d}t &=& 0\n",
    "\\\\\n",
    "\\textrm{d}t \\cdot \\textrm{d}W_t &=& 0\n",
    "\\\\\n",
    "\\textrm{d}W_t \\cdot \\textrm{d}W_t &=& \\textrm{d}t\n",
    "\\end{eqnarray}"
   ]
  },
  {
   "cell_type": "markdown",
   "id": "3284a4d2-d673-4cb1-b096-bad6dacb1306",
   "metadata": {},
   "source": [
    "# Geometrical brownian motion"
   ]
  },
  {
   "cell_type": "markdown",
   "id": "25ab5b0d-69f0-4087-85bb-cbbd8329c36f",
   "metadata": {},
   "source": [
    "\\begin{eqnarray}\n",
    "f(t,x) &=& e^x\n",
    "\\\\\n",
    "\\frac{\\partial f}{\\partial t} &=& 0\n",
    "\\\\\n",
    "\\frac{\\partial f}{\\partial x} &=& e^x\n",
    "\\\\\n",
    "\\frac{\\partial^2 f}{\\partial x^2} &=& e^x\n",
    "\\\\\n",
    "\\textrm{d}\\exp\\left(X_t\\right) &=& \\exp(X_t) \\left[ \\left(\\mu_t + \\frac{\\sigma_t^2}{2}\\right)\\textrm{d}t + \\sigma_t \\textrm{d}W_t\\right]\n",
    "\\end{eqnarray}"
   ]
  },
  {
   "cell_type": "markdown",
   "id": "53756a10-1630-46a2-837b-b752a75458a3",
   "metadata": {},
   "source": [
    "\\begin{cases}\n",
    "\\mu(t) &=& \\cdots\n",
    "\\\\\n",
    "\\sigma(t) &=& \\cdots\n",
    "\\\\\n",
    "\\textrm{d}S(t) &=& \\mu(t) S(t) \\textrm{d}t + \\sigma(t) S(t) \\textrm{d}W_t\n",
    "\\end{cases}"
   ]
  }
 ],
 "metadata": {
  "kernelspec": {
   "display_name": "Python 3 (ipykernel)",
   "language": "python",
   "name": "python3"
  },
  "language_info": {
   "codemirror_mode": {
    "name": "ipython",
    "version": 3
   },
   "file_extension": ".py",
   "mimetype": "text/x-python",
   "name": "python",
   "nbconvert_exporter": "python",
   "pygments_lexer": "ipython3",
   "version": "3.10.7"
  }
 },
 "nbformat": 4,
 "nbformat_minor": 5
}
