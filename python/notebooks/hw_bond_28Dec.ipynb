{
 "cells": [
  {
   "cell_type": "markdown",
   "id": "f5da6679-680d-46fe-8eda-a9abf8c1f5f9",
   "metadata": {},
   "source": [
    "# Analytical vs Monte-Carlo $P(0,t,T)$ in Hull-White model"
   ]
  },
  {
   "cell_type": "markdown",
   "id": "2187960c-05b6-4f05-b25c-4ef76554a98b",
   "metadata": {},
   "source": [
    "## $P(0,t,T)$ in the full Monte Carlo \n",
    "The simulation starts at time 0 and we fix to time points $$0<t<T$$\n",
    "\n",
    "On every MC path $i$ we compute the rates $r_i(t),r_i(T)$ and the discount factors $P_i(0,t),P_i(0,T)$. And on a given path $i$ the desired quantity is just the ratio $$P_i(0,t,T)=\\frac{P_i(0,T)}{P_i(0,t)}$$\n",
    "\n",
    "A sample of $P_i(0,t,T)$ values gives the mean,stddev,dsitribution..."
   ]
  },
  {
   "cell_type": "markdown",
   "id": "e7aa7a4e-b1b8-4492-b5f5-f209530afe77",
   "metadata": {},
   "source": [
    "## The notebook initialisation"
   ]
  },
  {
   "cell_type": "code",
   "execution_count": 1,
   "id": "328b61c5-579d-44d3-9d59-7e54fff5328d",
   "metadata": {},
   "outputs": [],
   "source": [
    "import math, random\n",
    "import pandas as pd\n",
    "import numpy as np\n",
    "import matplotlib.pyplot as plt\n",
    "from collections.abc import Callable\n",
    "import sympy\n",
    "from  sympy import *\n",
    "init_printing(use_unicode=False, wrap_line=False)"
   ]
  },
  {
   "cell_type": "markdown",
   "id": "cf991a48-1aa9-477b-9ab8-ffa3c2109a12",
   "metadata": {},
   "source": [
    "## Analytical formulas\n",
    "\n",
    "The Hull-White Model\n",
    "\n",
    "(see Damiano Brigo and Fabio Mercurio \"Interest Rate Models Theory and Practice\")\n",
    "\n",
    "$$\n",
    "\\text{d}r(t) = \\left[\\theta(t)-a r(t)\\right] \\text{d}t + \\sigma \\text{d}W(t)\n",
    "$$\n",
    "With market-observable discount factors (zero-coupon bonds) $P(0,t)$:\n",
    "\\begin{eqnarray}\n",
    "f(0,t) &=& -\\frac{\\partial \\text{ln} P(0,t)}{\\partial t}\n",
    "\\\\\n",
    "\\theta(t) &=& \\frac{\\partial{f(0,t)}}{\\partial t} + a f(0,t) + \\frac{\\sigma^2}{2a}(1-e^{-2 a t})\n",
    "\\end{eqnarray}"
   ]
  },
  {
   "cell_type": "code",
   "execution_count": 2,
   "id": "64e042ef-2331-41f1-8c9e-12a482c3edef",
   "metadata": {},
   "outputs": [],
   "source": [
    "class HullWhiteAnalytical:\n",
    "\n",
    "    def __init__ (self):\n",
    "        self.t, self.T, self.sigma, self.a = symbols('t T sigma a', real = True, positive = True)\n",
    "        self.r = symbols('r', real = True)\n",
    "        self.P0_t = exp(-self.r*self.t)\n",
    "    \n",
    "    def P0 (self, t):\n",
    "        return self.P0_t.subs(self.t,t)\n",
    "    \n",
    "    def f0 (self):\n",
    "        return diff(-log(self.P0(self.t)),self.t)\n",
    "    \n",
    "    def r0 (self):\n",
    "        return self.f0().subs(self.t,0)\n",
    "    \n",
    "    def alpha (self):\n",
    "        return self.f0() + self.sigma**2/(2*self.a**2) * (1-exp(-self.a*self.t))**2\n",
    "    \n",
    "    def r_mean (self):\n",
    "        alpha_t = self.alpha()\n",
    "        alpha_0 = alpha_t.subs(self.t,0)\n",
    "        return exp(-self.a*self.t)*(self.r0()-alpha_0) + alpha_t\n",
    "    \n",
    "    def r_variance (self):\n",
    "        return self.sigma**2/(2*self.a) * (1-exp(-2*self.a*self.t))\n",
    "    \n",
    "    def theta (self):\n",
    "        z1 = diff(self.f0(),self.t)\n",
    "        z2 = self.a*self.f0()\n",
    "        z3 = self.sigma**2/(2*self.a)*(1-exp(-2*self.a*self.t))\n",
    "        return z1+z2+z3\n",
    "    \n",
    "    def theta_lambdify (self):\n",
    "        return lambdify([self.a,self.sigma,self.r,self.t],self.theta())\n",
    "        \n",
    "    def A (self):\n",
    "        e1 = self.P0(self.T)/self.P0(self.t)\n",
    "        e2 = self.B() * self.f0()\n",
    "        e3 = self.sigma**2/(4*self.a) * (1-exp(-2*self.a*self.t)) * self.B()**2\n",
    "        return e1*exp(e2-e3)\n",
    "\n",
    "    def B (self):\n",
    "        return (1 - exp(-self.a*(self.T-self.t))) / self.a\n",
    "\n",
    "    def P (self):\n",
    "        return self.A() * exp(-self.B()*self.r0())\n",
    "\n",
    "    def P_lambdify (self):\n",
    "        return lambdify([self.a,self.sigma,self.r,self.t],self.P())"
   ]
  },
  {
   "cell_type": "code",
   "execution_count": 3,
   "id": "fa82636a-d8c8-4603-86b1-5c0c8c316733",
   "metadata": {},
   "outputs": [
    {
     "data": {
      "image/png": "[encoded data removed]",
      "text/latex": [
       "$\\displaystyle e^{- r t}$"
      ],
      "text/plain": [
       " -r*t\n",
       "e    "
      ]
     },
     "execution_count": 3,
     "metadata": {},
     "output_type": "execute_result"
    }
   ],
   "source": [
    "hw1 = HullWhiteAnalytical()\n",
    "#hw1.P0_t = exp(-hw1.r*hw1.t - hw1.r*hw1.t**2)\n",
    "hw1.P0(hw1.t)"
   ]
  },
  {
   "cell_type": "code",
   "execution_count": 4,
   "id": "91a06235-9d36-40f2-a3dd-0b2b1410553e",
   "metadata": {},
   "outputs": [
    {
     "data": {
      "image/png": "[encoded data removed]",
      "text/latex": [
       "$\\displaystyle r$"
      ],
      "text/plain": [
       "r"
      ]
     },
     "execution_count": 4,
     "metadata": {},
     "output_type": "execute_result"
    }
   ],
   "source": [
    "hw1.r0()"
   ]
  },
  {
   "cell_type": "code",
   "execution_count": 5,
   "id": "a357f418-84ad-41d8-825c-16f56cf86ede",
   "metadata": {},
   "outputs": [
    {
     "data": {
      "image/png": "[encoded data removed]",
      "text/latex": [
       "$\\displaystyle r + \\frac{\\sigma^{2} \\left(1 - e^{- a t}\\right)^{2}}{2 a^{2}}$"
      ],
      "text/plain": [
       "                      2\n",
       "         2 /     -a*t\\ \n",
       "    sigma *\\1 - e    / \n",
       "r + -------------------\n",
       "               2       \n",
       "            2*a        "
      ]
     },
     "execution_count": 5,
     "metadata": {},
     "output_type": "execute_result"
    }
   ],
   "source": [
    "hw1.alpha()"
   ]
  },
  {
   "cell_type": "code",
   "execution_count": 6,
   "id": "21e50d88-5dc1-40f9-9bc6-ea54a8365435",
   "metadata": {},
   "outputs": [
    {
     "data": {
      "image/png": "[encoded data removed]",
      "text/latex": [
       "$\\displaystyle r + \\frac{\\sigma^{2} \\left(1 - e^{- a t}\\right)^{2}}{2 a^{2}}$"
      ],
      "text/plain": [
       "                      2\n",
       "         2 /     -a*t\\ \n",
       "    sigma *\\1 - e    / \n",
       "r + -------------------\n",
       "               2       \n",
       "            2*a        "
      ]
     },
     "execution_count": 6,
     "metadata": {},
     "output_type": "execute_result"
    }
   ],
   "source": [
    "hw1.r_mean()"
   ]
  },
  {
   "cell_type": "code",
   "execution_count": 7,
   "id": "60e913f0-b7b7-4294-886b-55f5a87c8dee",
   "metadata": {},
   "outputs": [
    {
     "data": {
      "image/png": "[encoded data removed]",
      "text/latex": [
       "$\\displaystyle \\frac{\\sigma^{2} \\cdot \\left(1 - e^{- 2 a t}\\right)}{2 a}$"
      ],
      "text/plain": [
       "     2 /     -2*a*t\\\n",
       "sigma *\\1 - e      /\n",
       "--------------------\n",
       "        2*a         "
      ]
     },
     "execution_count": 7,
     "metadata": {},
     "output_type": "execute_result"
    }
   ],
   "source": [
    "hw1.r_variance()"
   ]
  },
  {
   "cell_type": "code",
   "execution_count": 8,
   "id": "1de02b40-cd82-465b-8158-c7f3a2cb0532",
   "metadata": {},
   "outputs": [
    {
     "data": {
      "image/png": "[encoded data removed]",
      "text/latex": [
       "$\\displaystyle a r + \\frac{\\sigma^{2} \\cdot \\left(1 - e^{- 2 a t}\\right)}{2 a}$"
      ],
      "text/plain": [
       "           2 /     -2*a*t\\\n",
       "      sigma *\\1 - e      /\n",
       "a*r + --------------------\n",
       "              2*a         "
      ]
     },
     "execution_count": 8,
     "metadata": {},
     "output_type": "execute_result"
    }
   ],
   "source": [
    "hw1.theta()"
   ]
  },
  {
   "cell_type": "code",
   "execution_count": 9,
   "id": "049e6efd-474e-4131-9737-c792e3598903",
   "metadata": {},
   "outputs": [
    {
     "data": {
      "image/png": "[encoded data removed]",
      "text/latex": [
       "$\\displaystyle \\frac{1 - e^{- a \\left(T - t\\right)}}{a}$"
      ],
      "text/plain": [
       "     -a*(T - t)\n",
       "1 - e          \n",
       "---------------\n",
       "       a       "
      ]
     },
     "execution_count": 9,
     "metadata": {},
     "output_type": "execute_result"
    }
   ],
   "source": [
    "hw1.B()"
   ]
  },
  {
   "cell_type": "code",
   "execution_count": 10,
   "id": "d1bf7830-bd6f-4418-b778-7ba88abde796",
   "metadata": {},
   "outputs": [
    {
     "data": {
      "image/png": "[encoded data removed]",
      "text/latex": [
       "$\\displaystyle e^{- T r} e^{r t} e^{\\frac{r \\left(1 - e^{- a \\left(T - t\\right)}\\right)}{a} - \\frac{\\sigma^{2} \\cdot \\left(1 - e^{- 2 a t}\\right) \\left(1 - e^{- a \\left(T - t\\right)}\\right)^{2}}{4 a^{3}}}$"
      ],
      "text/plain": [
       "                                                                        2\n",
       "              /     -a*(T - t)\\        2 /     -2*a*t\\ /     -a*(T - t)\\ \n",
       "            r*\\1 - e          /   sigma *\\1 - e      /*\\1 - e          / \n",
       "            ------------------- - ---------------------------------------\n",
       "                     a                                 3                 \n",
       " -T*r  r*t                                          4*a                  \n",
       "e    *e   *e                                                             "
      ]
     },
     "execution_count": 10,
     "metadata": {},
     "output_type": "execute_result"
    }
   ],
   "source": [
    "hw1.A()"
   ]
  },
  {
   "cell_type": "code",
   "execution_count": 11,
   "id": "41213bb6-57d0-4783-b215-602bf95ae38d",
   "metadata": {},
   "outputs": [
    {
     "data": {
      "image/png": "[encoded data removed]",
      "text/latex": [
       "$\\displaystyle e^{- T r} e^{r t} e^{- \\frac{r \\left(1 - e^{- a \\left(T - t\\right)}\\right)}{a}} e^{\\frac{r \\left(1 - e^{- a \\left(T - t\\right)}\\right)}{a} - \\frac{\\sigma^{2} \\cdot \\left(1 - e^{- 2 a t}\\right) \\left(1 - e^{- a \\left(T - t\\right)}\\right)^{2}}{4 a^{3}}}$"
      ],
      "text/plain": [
       "                                                                                               2\n",
       "                                     /     -a*(T - t)\\        2 /     -2*a*t\\ /     -a*(T - t)\\ \n",
       "               /     -a*(T - t)\\   r*\\1 - e          /   sigma *\\1 - e      /*\\1 - e          / \n",
       "            -r*\\1 - e          /   ------------------- - ---------------------------------------\n",
       "            ---------------------           a                                 3                 \n",
       " -T*r  r*t            a                                                    4*a                  \n",
       "e    *e   *e                     *e                                                             "
      ]
     },
     "execution_count": 11,
     "metadata": {},
     "output_type": "execute_result"
    }
   ],
   "source": [
    "hw1.P()"
   ]
  },
  {
   "cell_type": "markdown",
   "id": "8e46e07e-dab4-4036-96e9-44b7bfcb3a41",
   "metadata": {},
   "source": [
    "# Monte Carlo\n",
    "\n",
    "- define parameters $a$ and $\\sigma$\n",
    "- define $P(0,t)$ function\n",
    "- compute $\\theta(t)$\n",
    "- define a rate process (Hull-White)\n",
    "- define a discount process from the rate process\n",
    "- run the simultion"
   ]
  },
  {
   "cell_type": "code",
   "execution_count": 12,
   "id": "05431c06-512e-42b6-bcdb-7a1410851871",
   "metadata": {},
   "outputs": [],
   "source": [
    "from init import *\n",
    "from plot import plot\n",
    "from plot import plot as sdk_plot\n",
    "from viz import viz\n",
    "\n",
    "server = 'http://az.hopto.org:8010'"
   ]
  },
  {
   "cell_type": "code",
   "execution_count": 13,
   "id": "1412dc6f-46a7-44ad-a0d2-1e5ac25f5312",
   "metadata": {},
   "outputs": [],
   "source": [
    "def create_hw_mc_model (\n",
    "    a:float,\n",
    "    sigma:float,\n",
    "    rfree:float,\n",
    "    TimeStart    = 0,\n",
    "    TimeHorizon  = 10,\n",
    "    TimeSteps    = 100,\n",
    "    NumPaths     = 100000,\n",
    "    theta_points = 100\n",
    "):\n",
    "\n",
    "    # Create a model, save input parameters\n",
    "\n",
    "    model = sdk.Model()\n",
    "\n",
    "    model.TimeStart = TimeStart\n",
    "    model.TimeSteps = TimeSteps\n",
    "    model.NumPaths = NumPaths\n",
    "\n",
    "    model.T = [TimeHorizon/2, TimeHorizon]\n",
    "    \n",
    "    model.a_const = a\n",
    "    model.sigma_const = sigma\n",
    "    model.rfree_const = rfree\n",
    "    model.TimeHorizon = TimeHorizon\n",
    "\n",
    "    # Create the hw-analytical solution\n",
    "    # to calculate the theta(t) function\n",
    "    \n",
    "    model.hw_analytical = HullWhiteAnalytical()\n",
    "    hwmc = model.hw_analytical\n",
    "    hwmc.P0_t = exp(-hwmc.r*hwmc.t)\n",
    "    assert hwmc.r0().subs(hwmc.r,rfree) == rfree\n",
    "\n",
    "    # Compute theta(t)\n",
    "    # Create points for linear interpolation of theta(t)\n",
    "    \n",
    "    assert theta_points >= 2\n",
    "    theta = hwmc.theta_lambdify()\n",
    "    dt = (TimeHorizon-TimeStart) / (theta_points-1)\n",
    "    model.theta_t = [TimeStart+dt*i for i in range(theta_points)]\n",
    "    model.theta_y = [theta(a,sigma,rfree,t) for t in model.theta_t]\n",
    "\n",
    "    # Get the theoretical rate (mean,variance)\n",
    "    r_mean     = lambdify([hwmc.a,hwmc.sigma,hwmc.r,hwmc.t],hwmc.r_mean())\n",
    "    r_variance = lambdify([hwmc.a,hwmc.sigma,hwmc.r,hwmc.t],hwmc.r_variance())\n",
    "\n",
    "    model.rate_gaussian = [\n",
    "        (r_mean(a,sigma,rfree,t), r_variance(a,sigma,rfree,t))\n",
    "        for t in model.T\n",
    "    ]\n",
    "    \n",
    "    # Build the model MC engine:\n",
    "    # - a: mean reversion\n",
    "    # - sigma\n",
    "    # - theta\n",
    "    # - rate\n",
    "    # - discount factor\n",
    "        \n",
    "    print(f'A model with {TimeSteps} time steps and {NumPaths} paths.')\n",
    "\n",
    "    time_reference = -1\n",
    "    model.a = model.Add(sdk.Polynom(time_reference,[a],title=f'a={a}'))\n",
    "    model.sigma = model.Add(sdk.Polynom(time_reference,[sigma],title=f'sigma={sigma}'))\n",
    "    model.theta = model.Add(sdk.Linear1DInterpolation(\n",
    "        ref  = time_reference,\n",
    "        xmin = TimeStart,\n",
    "        xmax = TimeHorizon,\n",
    "        y    = model.theta_y,\n",
    "        title=f'theta(t)'\n",
    "    ))\n",
    "\n",
    "    model.rate = model.Add(sdk.Updater(\n",
    "        'HullWhite1FactorModel',\n",
    "        refs = [x.GetStateNumber() for x in (model.a,model.theta,model.sigma)],\n",
    "        start=[rfree],\n",
    "        title=f'rate'\n",
    "    ))\n",
    "    model.df = model.Add(sdk.ZeroCouponBond(underlying=model.rate.GetStateNumber(),start=1,title=f'P({model.TimeStart},T)'))\n",
    "    model.fdf = model.Add(sdk.Updater('ForwardZeroCouponBond',refs=[model.df.GetStateNumber()],args=[model.T[0],model.T[1]],title=f'P({model.TimeStart},{model.T[0]},{model.T[1]})'))\n",
    "\n",
    "    return model"
   ]
  },
  {
   "cell_type": "code",
   "execution_count": 14,
   "id": "68bc0f96-2d60-4cff-9592-fa188f4ffa9a",
   "metadata": {},
   "outputs": [
    {
     "name": "stdout",
     "output_type": "stream",
     "text": [
      "A model with 1000.0 time steps and 100000.0 paths.\n"
     ]
    }
   ],
   "source": [
    "#model = create_hw_mc_model(1e-1,2e-1,rfree,theta_points=100)\n",
    "model = create_hw_mc_model(\n",
    "    a=1e-1,\n",
    "    sigma=5e-2,\n",
    "    rfree=3e-2,\n",
    "    NumPaths = 1e5,\n",
    "    TimeSteps = 1e3\n",
    "    # NumPaths = 1e6,\n",
    "    # TimeSteps = 1e4\n",
    ")"
   ]
  },
  {
   "cell_type": "code",
   "execution_count": 15,
   "id": "d2bfae47-0f28-4e85-9d4f-bec0afdcdcf4",
   "metadata": {},
   "outputs": [
    {
     "data": {
      "image/svg+xml": [
       "<?xml version=\"1.0\" encoding=\"UTF-8\" standalone=\"no\"?>\n",
       "<!DOCTYPE svg PUBLIC \"-//W3C//DTD SVG 1.1//EN\"\n",
       " \"http://www.w3.org/Graphics/SVG/1.1/DTD/svg11.dtd\">\n",
       "<!-- Generated by graphviz version 2.43.0 (0)\n",
       " -->\n",
       "<!-- Title: %3 Pages: 1 -->\n",
       "<svg width=\"978pt\" height=\"332pt\"\n",
       " viewBox=\"0.00 0.00 977.50 332.00\" xmlns=\"http://www.w3.org/2000/svg\" xmlns:xlink=\"http://www.w3.org/1999/xlink\">\n",
       "<g id=\"graph0\" class=\"graph\" transform=\"scale(1 1) rotate(0) translate(4 328)\">\n",
       "<title>%3</title>\n",
       "<polygon fill=\"white\" stroke=\"transparent\" points=\"-4,4 -4,-328 973.5,-328 973.5,4 -4,4\"/>\n",
       "<!-- u1 -->\n",
       "<g id=\"node1\" class=\"node\">\n",
       "<title>u1</title>\n",
       "<polygon fill=\"none\" stroke=\"black\" points=\"0,-0.5 0,-53.5 221,-53.5 221,-0.5 0,-0.5\"/>\n",
       "<text text-anchor=\"middle\" x=\"77.5\" y=\"-38.3\" font-family=\"Times,serif\" font-size=\"14.00\">Polynom</text>\n",
       "<text text-anchor=\"middle\" x=\"77.5\" y=\"-23.3\" font-family=\"Times,serif\" font-size=\"14.00\">a=0.1</text>\n",
       "<text text-anchor=\"middle\" x=\"77.5\" y=\"-8.3\" font-family=\"Times,serif\" font-size=\"14.00\">args=[0.1] start=[]</text>\n",
       "<polyline fill=\"none\" stroke=\"black\" points=\"155,-0.5 155,-53.5 \"/>\n",
       "<text text-anchor=\"middle\" x=\"188\" y=\"-23.3\" font-family=\"Times,serif\" font-size=\"14.00\">state 0</text>\n",
       "</g>\n",
       "<!-- u2 -->\n",
       "<g id=\"node2\" class=\"node\">\n",
       "<title>u2</title>\n",
       "<polygon fill=\"none\" stroke=\"black\" points=\"239.5,-0.5 239.5,-53.5 469.5,-53.5 469.5,-0.5 239.5,-0.5\"/>\n",
       "<text text-anchor=\"middle\" x=\"321.5\" y=\"-38.3\" font-family=\"Times,serif\" font-size=\"14.00\">Polynom</text>\n",
       "<text text-anchor=\"middle\" x=\"321.5\" y=\"-23.3\" font-family=\"Times,serif\" font-size=\"14.00\">sigma=0.05</text>\n",
       "<text text-anchor=\"middle\" x=\"321.5\" y=\"-8.3\" font-family=\"Times,serif\" font-size=\"14.00\">args=[0.05] start=[]</text>\n",
       "<polyline fill=\"none\" stroke=\"black\" points=\"403.5,-0.5 403.5,-53.5 \"/>\n",
       "<text text-anchor=\"middle\" x=\"436.5\" y=\"-23.3\" font-family=\"Times,serif\" font-size=\"14.00\">state 1</text>\n",
       "</g>\n",
       "<!-- u3 -->\n",
       "<g id=\"node3\" class=\"node\">\n",
       "<title>u3</title>\n",
       "<polygon fill=\"none\" stroke=\"black\" points=\"487.5,-0.5 487.5,-53.5 969.5,-53.5 969.5,-0.5 487.5,-0.5\"/>\n",
       "<text text-anchor=\"middle\" x=\"695.5\" y=\"-38.3\" font-family=\"Times,serif\" font-size=\"14.00\">Linear1DInterpolation</text>\n",
       "<text text-anchor=\"middle\" x=\"695.5\" y=\"-23.3\" font-family=\"Times,serif\" font-size=\"14.00\">theta(t)</text>\n",
       "<text text-anchor=\"middle\" x=\"695.5\" y=\"-8.3\" font-family=\"Times,serif\" font-size=\"14.00\">args=[0,10,0.003,0.0032499915828322432,...] start=[]</text>\n",
       "<polyline fill=\"none\" stroke=\"black\" points=\"903.5,-0.5 903.5,-53.5 \"/>\n",
       "<text text-anchor=\"middle\" x=\"936.5\" y=\"-23.3\" font-family=\"Times,serif\" font-size=\"14.00\">state 2</text>\n",
       "</g>\n",
       "<!-- u4 -->\n",
       "<g id=\"node4\" class=\"node\">\n",
       "<title>u4</title>\n",
       "<polygon fill=\"none\" stroke=\"black\" points=\"342.5,-90.5 342.5,-143.5 596.5,-143.5 596.5,-90.5 342.5,-90.5\"/>\n",
       "<text text-anchor=\"middle\" x=\"436.5\" y=\"-128.3\" font-family=\"Times,serif\" font-size=\"14.00\">HullWhite1FactorModel</text>\n",
       "<text text-anchor=\"middle\" x=\"436.5\" y=\"-113.3\" font-family=\"Times,serif\" font-size=\"14.00\">rate</text>\n",
       "<text text-anchor=\"middle\" x=\"436.5\" y=\"-98.3\" font-family=\"Times,serif\" font-size=\"14.00\">args=[] start=[0.03]</text>\n",
       "<polyline fill=\"none\" stroke=\"black\" points=\"530.5,-90.5 530.5,-143.5 \"/>\n",
       "<text text-anchor=\"middle\" x=\"563.5\" y=\"-113.3\" font-family=\"Times,serif\" font-size=\"14.00\">state 3</text>\n",
       "</g>\n",
       "<!-- u4&#45;&gt;u1 -->\n",
       "<g id=\"edge1\" class=\"edge\">\n",
       "<title>u4:u&#45;&gt;u1:s0</title>\n",
       "<path fill=\"none\" stroke=\"black\" d=\"M341.5,-117C284.77,-117 265.78,-98.42 230.5,-54 226.24,-48.64 227.99,-41.07 228.41,-35.31\"/>\n",
       "<polygon fill=\"black\" stroke=\"black\" points=\"231.15,-33.12 222.5,-27 225.44,-37.18 231.15,-33.12\"/>\n",
       "</g>\n",
       "<!-- u4&#45;&gt;u2 -->\n",
       "<g id=\"edge3\" class=\"edge\">\n",
       "<title>u4:u&#45;&gt;u2:s1</title>\n",
       "<path fill=\"none\" stroke=\"black\" d=\"M341.5,-117C329.49,-117 335.51,-99.77 342.5,-90 366.19,-56.89 424.63,-91.29 434.93,-64.01\"/>\n",
       "<polygon fill=\"black\" stroke=\"black\" points=\"438.41,-64.42 436.5,-54 431.5,-63.34 438.41,-64.42\"/>\n",
       "</g>\n",
       "<!-- u4&#45;&gt;u3 -->\n",
       "<g id=\"edge2\" class=\"edge\">\n",
       "<title>u4:u&#45;&gt;u3:s2</title>\n",
       "<path fill=\"none\" stroke=\"black\" d=\"M436.5,-90C436.5,17.7 903.85,-153.32 934.88,-64.13\"/>\n",
       "<polygon fill=\"black\" stroke=\"black\" points=\"938.38,-64.43 936.5,-54 931.47,-63.32 938.38,-64.43\"/>\n",
       "</g>\n",
       "<!-- u5 -->\n",
       "<g id=\"node5\" class=\"node\">\n",
       "<title>u5</title>\n",
       "<polygon fill=\"none\" stroke=\"black\" points=\"493,-180.5 493,-233.5 700,-233.5 700,-180.5 493,-180.5\"/>\n",
       "<text text-anchor=\"middle\" x=\"563.5\" y=\"-218.3\" font-family=\"Times,serif\" font-size=\"14.00\">ZeroCouponBond</text>\n",
       "<text text-anchor=\"middle\" x=\"563.5\" y=\"-203.3\" font-family=\"Times,serif\" font-size=\"14.00\">P(0,T)</text>\n",
       "<text text-anchor=\"middle\" x=\"563.5\" y=\"-188.3\" font-family=\"Times,serif\" font-size=\"14.00\">args=[] start=[1]</text>\n",
       "<polyline fill=\"none\" stroke=\"black\" points=\"634,-180.5 634,-233.5 \"/>\n",
       "<text text-anchor=\"middle\" x=\"667\" y=\"-203.3\" font-family=\"Times,serif\" font-size=\"14.00\">state 4</text>\n",
       "</g>\n",
       "<!-- u5&#45;&gt;u4 -->\n",
       "<g id=\"edge4\" class=\"edge\">\n",
       "<title>u5:u&#45;&gt;u4:s3</title>\n",
       "<path fill=\"none\" stroke=\"black\" d=\"M491.5,-207C479.49,-207 486.03,-190.11 492.5,-180 509.34,-153.69 551.78,-173.35 561.5,-153.98\"/>\n",
       "<polygon fill=\"black\" stroke=\"black\" points=\"564.96,-154.49 563.5,-144 558.1,-153.12 564.96,-154.49\"/>\n",
       "</g>\n",
       "<!-- u6 -->\n",
       "<g id=\"node6\" class=\"node\">\n",
       "<title>u6</title>\n",
       "<polygon fill=\"none\" stroke=\"black\" points=\"567.5,-270.5 567.5,-323.5 833.5,-323.5 833.5,-270.5 567.5,-270.5\"/>\n",
       "<text text-anchor=\"middle\" x=\"667.5\" y=\"-308.3\" font-family=\"Times,serif\" font-size=\"14.00\">ForwardZeroCouponBond</text>\n",
       "<text text-anchor=\"middle\" x=\"667.5\" y=\"-293.3\" font-family=\"Times,serif\" font-size=\"14.00\">P(0,5.0,10)</text>\n",
       "<text text-anchor=\"middle\" x=\"667.5\" y=\"-278.3\" font-family=\"Times,serif\" font-size=\"14.00\">args=[5.0,10] start=[]</text>\n",
       "<polyline fill=\"none\" stroke=\"black\" points=\"767.5,-270.5 767.5,-323.5 \"/>\n",
       "<text text-anchor=\"middle\" x=\"800.5\" y=\"-293.3\" font-family=\"Times,serif\" font-size=\"14.00\">state 5</text>\n",
       "</g>\n",
       "<!-- u6&#45;&gt;u5 -->\n",
       "<g id=\"edge5\" class=\"edge\">\n",
       "<title>u6:u&#45;&gt;u5:s4</title>\n",
       "<path fill=\"none\" stroke=\"black\" d=\"M566.5,-297C554.49,-297 560.41,-279.69 567.5,-270 592.98,-235.14 655.43,-273.4 665.98,-244.15\"/>\n",
       "<polygon fill=\"black\" stroke=\"black\" points=\"669.48,-244.41 667.5,-234 662.55,-243.37 669.48,-244.41\"/>\n",
       "</g>\n",
       "</g>\n",
       "</svg>\n"
      ],
      "text/plain": [
       "<graphviz.graphs.Digraph at 0x7f50150b1510>"
      ]
     },
     "execution_count": 15,
     "metadata": {},
     "output_type": "execute_result"
    }
   ],
   "source": [
    "viz(model,graph_attr={'rankdir':'UD'})"
   ]
  },
  {
   "cell_type": "markdown",
   "id": "b1607276-a7f8-4cdf-a572-8c0d32ab4a3a",
   "metadata": {},
   "source": [
    "### $\\theta(t)$ function"
   ]
  },
  {
   "cell_type": "code",
   "execution_count": 16,
   "id": "6d5a3c74-89b2-41be-bbe2-2f597d8198da",
   "metadata": {},
   "outputs": [
    {
     "data": {
      "image/png": "[encoded data removed]",
      "text/plain": [
       "<Figure size 640x480 with 1 Axes>"
      ]
     },
     "metadata": {},
     "output_type": "display_data"
    }
   ],
   "source": [
    "fig, ax = plt.subplots()\n",
    "ax.plot(model.theta_t, model.theta_y, '-')\n",
    "ax.set_xlabel('Time, $t$')\n",
    "ax.set_ylabel('$\\\\theta(t)$')\n",
    "ax.set_title(f'a={model.a_const} sigma={model.sigma_const} rfree={model.rfree_const}')\n",
    "plt.show()"
   ]
  },
  {
   "cell_type": "code",
   "execution_count": 17,
   "id": "1c15cdea-5b15-4b22-a28a-3d913dc8253c",
   "metadata": {},
   "outputs": [],
   "source": [
    "histograms_for_states = [model.rate, model.df, model.fdf]\n",
    "\n",
    "for t in [model.TimeHorizon/2,model.TimeHorizon]:\n",
    "    eval_point = sdk.EvaluationPoint(t)\n",
    "    for h in histograms_for_states:\n",
    "        eval_point.Add(sdk.Histogram(\n",
    "            ax = sdk.HistogramAxis(\n",
    "                h.GetStateNumber(),\n",
    "                max(int(math.sqrt(model.NumPaths)),10)\n",
    "            ),\n",
    "        ))                \n",
    "    model.evaluations.append(eval_point)"
   ]
  },
  {
   "cell_type": "code",
   "execution_count": 36,
   "id": "91596a6d-4b2c-4169-a6f7-77a60739e188",
   "metadata": {},
   "outputs": [
    {
     "data": {
      "text/html": [
       "<div>\n",
       "<style scoped>\n",
       "    .dataframe tbody tr th:only-of-type {\n",
       "        vertical-align: middle;\n",
       "    }\n",
       "\n",
       "    .dataframe tbody tr th {\n",
       "        vertical-align: top;\n",
       "    }\n",
       "\n",
       "    .dataframe thead th {\n",
       "        text-align: right;\n",
       "    }\n",
       "</style>\n",
       "<table border=\"1\" class=\"dataframe\">\n",
       "  <thead>\n",
       "    <tr style=\"text-align: right;\">\n",
       "      <th></th>\n",
       "      <th>name</th>\n",
       "      <th>title</th>\n",
       "      <th>state</th>\n",
       "      <th>point</th>\n",
       "      <th>time</th>\n",
       "      <th>mean</th>\n",
       "      <th>stddev</th>\n",
       "    </tr>\n",
       "  </thead>\n",
       "  <tbody>\n",
       "    <tr>\n",
       "      <th>0</th>\n",
       "      <td>Polynom</td>\n",
       "      <td>a=0.1</td>\n",
       "      <td>0</td>\n",
       "      <td>0</td>\n",
       "      <td>5.0</td>\n",
       "      <td>0.100000</td>\n",
       "      <td>0.000000</td>\n",
       "    </tr>\n",
       "    <tr>\n",
       "      <th>1</th>\n",
       "      <td>Polynom</td>\n",
       "      <td>sigma=0.05</td>\n",
       "      <td>1</td>\n",
       "      <td>0</td>\n",
       "      <td>5.0</td>\n",
       "      <td>0.050000</td>\n",
       "      <td>0.000000</td>\n",
       "    </tr>\n",
       "    <tr>\n",
       "      <th>2</th>\n",
       "      <td>Linear1DInterpolation</td>\n",
       "      <td>theta(t)</td>\n",
       "      <td>2</td>\n",
       "      <td>0</td>\n",
       "      <td>5.0</td>\n",
       "      <td>0.010901</td>\n",
       "      <td>0.000000</td>\n",
       "    </tr>\n",
       "    <tr>\n",
       "      <th>3</th>\n",
       "      <td>HullWhite1FactorModel</td>\n",
       "      <td>rate</td>\n",
       "      <td>3</td>\n",
       "      <td>0</td>\n",
       "      <td>5.0</td>\n",
       "      <td>0.049322</td>\n",
       "      <td>0.089018</td>\n",
       "    </tr>\n",
       "    <tr>\n",
       "      <th>4</th>\n",
       "      <td>ZeroCouponBond</td>\n",
       "      <td>P(0,T)</td>\n",
       "      <td>4</td>\n",
       "      <td>0</td>\n",
       "      <td>5.0</td>\n",
       "      <td>0.861406</td>\n",
       "      <td>0.237726</td>\n",
       "    </tr>\n",
       "    <tr>\n",
       "      <th>5</th>\n",
       "      <td>ForwardZeroCouponBond</td>\n",
       "      <td>P(0,5.0,10)</td>\n",
       "      <td>5</td>\n",
       "      <td>0</td>\n",
       "      <td>5.0</td>\n",
       "      <td>0.797690</td>\n",
       "      <td>0.371527</td>\n",
       "    </tr>\n",
       "    <tr>\n",
       "      <th>6</th>\n",
       "      <td>Polynom</td>\n",
       "      <td>a=0.1</td>\n",
       "      <td>0</td>\n",
       "      <td>1</td>\n",
       "      <td>10.0</td>\n",
       "      <td>0.100000</td>\n",
       "      <td>0.000000</td>\n",
       "    </tr>\n",
       "    <tr>\n",
       "      <th>7</th>\n",
       "      <td>Polynom</td>\n",
       "      <td>sigma=0.05</td>\n",
       "      <td>1</td>\n",
       "      <td>1</td>\n",
       "      <td>10.0</td>\n",
       "      <td>0.050000</td>\n",
       "      <td>0.000000</td>\n",
       "    </tr>\n",
       "    <tr>\n",
       "      <th>8</th>\n",
       "      <td>Linear1DInterpolation</td>\n",
       "      <td>theta(t)</td>\n",
       "      <td>2</td>\n",
       "      <td>1</td>\n",
       "      <td>10.0</td>\n",
       "      <td>0.013808</td>\n",
       "      <td>0.000007</td>\n",
       "    </tr>\n",
       "    <tr>\n",
       "      <th>9</th>\n",
       "      <td>HullWhite1FactorModel</td>\n",
       "      <td>rate</td>\n",
       "      <td>3</td>\n",
       "      <td>1</td>\n",
       "      <td>10.0</td>\n",
       "      <td>0.080214</td>\n",
       "      <td>0.104044</td>\n",
       "    </tr>\n",
       "    <tr>\n",
       "      <th>10</th>\n",
       "      <td>ZeroCouponBond</td>\n",
       "      <td>P(0,T)</td>\n",
       "      <td>4</td>\n",
       "      <td>1</td>\n",
       "      <td>10.0</td>\n",
       "      <td>0.742086</td>\n",
       "      <td>0.539160</td>\n",
       "    </tr>\n",
       "    <tr>\n",
       "      <th>11</th>\n",
       "      <td>ForwardZeroCouponBond</td>\n",
       "      <td>P(0,5.0,10)</td>\n",
       "      <td>5</td>\n",
       "      <td>1</td>\n",
       "      <td>10.0</td>\n",
       "      <td>0.797690</td>\n",
       "      <td>0.371527</td>\n",
       "    </tr>\n",
       "  </tbody>\n",
       "</table>\n",
       "</div>"
      ],
      "text/plain": [
       "                     name        title  state  point  time      mean    stddev\n",
       "0                 Polynom        a=0.1      0      0   5.0  0.100000  0.000000\n",
       "1                 Polynom   sigma=0.05      1      0   5.0  0.050000  0.000000\n",
       "2   Linear1DInterpolation     theta(t)      2      0   5.0  0.010901  0.000000\n",
       "3   HullWhite1FactorModel         rate      3      0   5.0  0.049322  0.089018\n",
       "4          ZeroCouponBond       P(0,T)      4      0   5.0  0.861406  0.237726\n",
       "5   ForwardZeroCouponBond  P(0,5.0,10)      5      0   5.0  0.797690  0.371527\n",
       "6                 Polynom        a=0.1      0      1  10.0  0.100000  0.000000\n",
       "7                 Polynom   sigma=0.05      1      1  10.0  0.050000  0.000000\n",
       "8   Linear1DInterpolation     theta(t)      2      1  10.0  0.013808  0.000007\n",
       "9   HullWhite1FactorModel         rate      3      1  10.0  0.080214  0.104044\n",
       "10         ZeroCouponBond       P(0,T)      4      1  10.0  0.742086  0.539160\n",
       "11  ForwardZeroCouponBond  P(0,5.0,10)      5      1  10.0  0.797690  0.371527"
      ]
     },
     "execution_count": 36,
     "metadata": {},
     "output_type": "execute_result"
    }
   ],
   "source": [
    "model.RunTimeoutSeconds = 100\n",
    "results = sdk.run (model, server)\n",
    "#results.df()\n",
    "results.df()[['name','title','state','point','time','mean','stddev']]"
   ]
  },
  {
   "cell_type": "markdown",
   "id": "587d5680-499f-471e-9a72-55074ebbac88",
   "metadata": {},
   "source": [
    "### Compare analyticaly and MC computed rate (ok)"
   ]
  },
  {
   "cell_type": "markdown",
   "id": "2e2a60d1-e00a-4144-87b7-dccb9ce88b55",
   "metadata": {},
   "source": [
    "#### Rate distribution from the MC"
   ]
  },
  {
   "cell_type": "code",
   "execution_count": 19,
   "id": "eea3a5e0-bbb5-4aed-a73c-d647be97e2b4",
   "metadata": {},
   "outputs": [
    {
     "data": {
      "image/png": "[encoded data removed]",
      "text/plain": [
       "<Figure size 640x480 with 1 Axes>"
      ]
     },
     "metadata": {},
     "output_type": "display_data"
    },
    {
     "data": {
      "image/png": "[encoded data removed]",
      "text/plain": [
       "<Figure size 640x480 with 1 Axes>"
      ]
     },
     "metadata": {},
     "output_type": "display_data"
    }
   ],
   "source": [
    "state = model.rate.GetStateNumber()\n",
    "plot(results=results,point=0,stateX=state)\n",
    "plot(results=results,point=1,stateX=state)"
   ]
  },
  {
   "cell_type": "code",
   "execution_count": 20,
   "id": "73e5c6b3-74e1-4ea8-a065-23a76ea02143",
   "metadata": {},
   "outputs": [
    {
     "data": {
      "text/html": [
       "<div>\n",
       "<style scoped>\n",
       "    .dataframe tbody tr th:only-of-type {\n",
       "        vertical-align: middle;\n",
       "    }\n",
       "\n",
       "    .dataframe tbody tr th {\n",
       "        vertical-align: top;\n",
       "    }\n",
       "\n",
       "    .dataframe thead th {\n",
       "        text-align: right;\n",
       "    }\n",
       "</style>\n",
       "<table border=\"1\" class=\"dataframe\">\n",
       "  <thead>\n",
       "    <tr style=\"text-align: right;\">\n",
       "      <th></th>\n",
       "      <th>Method</th>\n",
       "      <th>mean: r(T=5.0)</th>\n",
       "      <th>stddev: r(T=5.0)</th>\n",
       "      <th>mean: r(T=10)</th>\n",
       "      <th>stddev: r(T=10)</th>\n",
       "    </tr>\n",
       "  </thead>\n",
       "  <tbody>\n",
       "    <tr>\n",
       "      <th>0</th>\n",
       "      <td>Theory</td>\n",
       "      <td>0.049352</td>\n",
       "      <td>0.088890</td>\n",
       "      <td>0.079947</td>\n",
       "      <td>0.103963</td>\n",
       "    </tr>\n",
       "    <tr>\n",
       "      <th>1</th>\n",
       "      <td>MonteCarlo</td>\n",
       "      <td>0.049322</td>\n",
       "      <td>0.089018</td>\n",
       "      <td>0.080214</td>\n",
       "      <td>0.104044</td>\n",
       "    </tr>\n",
       "  </tbody>\n",
       "</table>\n",
       "</div>"
      ],
      "text/plain": [
       "       Method  mean: r(T=5.0)  stddev: r(T=5.0)  mean: r(T=10)  \\\n",
       "0      Theory        0.049352          0.088890       0.079947   \n",
       "1  MonteCarlo        0.049322          0.089018       0.080214   \n",
       "\n",
       "   stddev: r(T=10)  \n",
       "0         0.103963  \n",
       "1         0.104044  "
      ]
     },
     "execution_count": 20,
     "metadata": {},
     "output_type": "execute_result"
    }
   ],
   "source": [
    "pd.DataFrame([{\n",
    "    'Method':'Theory',\n",
    "    f'mean: r(T={model.T[0]})':model.rate_gaussian[0][0],\n",
    "    f'stddev: r(T={model.T[0]})':math.sqrt(model.rate_gaussian[0][1]),\n",
    "    f'mean: r(T={model.T[1]})':model.rate_gaussian[1][0],\n",
    "    f'stddev: r(T={model.T[1]})':math.sqrt(model.rate_gaussian[1][1])\n",
    "},{\n",
    "    'Method':'MonteCarlo',\n",
    "    f'mean: r(T={model.T[0]})':results.GetStateEvaluationResult(model.rate.GetStateNumber(),0).mean,\n",
    "    f'stddev: r(T={model.T[0]})':results.GetStateEvaluationResult(model.rate.GetStateNumber(),0).stddev,\n",
    "    f'mean: r(T={model.T[1]})':results.GetStateEvaluationResult(model.rate.GetStateNumber(),1).mean,\n",
    "    f'stddev: r(T={model.T[1]})':results.GetStateEvaluationResult(model.rate.GetStateNumber(),1).stddev\n",
    "}])"
   ]
  },
  {
   "cell_type": "markdown",
   "id": "a588e9d8-016a-45cc-b2f4-1478d7aff873",
   "metadata": {},
   "source": [
    "#### Conclusion on Rates Comparison\n",
    "Both _mean_ and _stddev_ values match very well between the theorically prediced rates and the ones obtained from the full MonteCarlo simulation."
   ]
  },
  {
   "cell_type": "markdown",
   "id": "17c6720a-b48a-430a-bb55-78de9671029d",
   "metadata": {},
   "source": [
    "### Compare analyticaly and MC computed expected bond value (ok)"
   ]
  },
  {
   "cell_type": "markdown",
   "id": "e211d9cf-7832-4142-ab45-91fc2e9ed041",
   "metadata": {},
   "source": [
    "#### Discount factor distribution from the MC\n",
    "$$P(0,t) = e^{-\\int_0^t r(u)\\text{d}u}$$"
   ]
  },
  {
   "cell_type": "code",
   "execution_count": 21,
   "id": "9eb5d670-6dbc-4add-8aae-331e19fca31e",
   "metadata": {},
   "outputs": [
    {
     "data": {
      "image/png": "[encoded data removed]",
      "text/plain": [
       "<Figure size 640x480 with 1 Axes>"
      ]
     },
     "metadata": {},
     "output_type": "display_data"
    },
    {
     "data": {
      "image/png": "[encoded data removed]",
      "text/plain": [
       "<Figure size 640x480 with 1 Axes>"
      ]
     },
     "metadata": {},
     "output_type": "display_data"
    }
   ],
   "source": [
    "state = model.df.GetStateNumber()\n",
    "plot(results=results,point=0,stateX=state)\n",
    "plot(results=results,point=1,stateX=state)"
   ]
  },
  {
   "cell_type": "code",
   "execution_count": 22,
   "id": "f066a052-3824-4452-8670-d0e11e4753b0",
   "metadata": {},
   "outputs": [
    {
     "data": {
      "image/png": "[encoded data removed]",
      "text/latex": [
       "$\\displaystyle e^{- T r + r t + \\frac{r \\left(1 - e^{a \\left(T - t\\right)}\\right) e^{- a \\left(T - t\\right)}}{a} - \\frac{\\left(1 - e^{a \\left(T - t\\right)}\\right) \\left(4 a^{2} r e^{a \\left(T + t\\right)} - \\sigma^{2} \\cdot \\left(1 - e^{2 a t}\\right) \\left(1 - e^{a \\left(T - t\\right)}\\right)\\right) e^{- 2 T a}}{4 a^{3}}}$"
      ],
      "text/plain": [
       "                /     a*(T - t)\\  -a*(T - t)   /     a*(T - t)\\ /   2    a*(T + t)        2 /     2*a*t\\ /     a*(T - t)\\\\  -2*T*a\n",
       "              r*\\1 - e         /*e             \\1 - e         /*\\4*a *r*e          - sigma *\\1 - e     /*\\1 - e         //*e      \n",
       " -T*r + r*t + ------------------------------ - -----------------------------------------------------------------------------------\n",
       "                            a                                                             3                                       \n",
       "                                                                                       4*a                                        \n",
       "e                                                                                                                                 "
      ]
     },
     "execution_count": 22,
     "metadata": {},
     "output_type": "execute_result"
    }
   ],
   "source": [
    "hw = model.hw_analytical\n",
    "#hw.P_lambdify()(hw.a,hw.sigma,hw.r,hw.t)\n",
    "hw.P().simplify()"
   ]
  },
  {
   "cell_type": "code",
   "execution_count": 23,
   "id": "7b34ea37-f511-42cc-ac8d-81b7f71bc031",
   "metadata": {},
   "outputs": [],
   "source": [
    "Plambda = lambdify([hw.a,hw.sigma,hw.r,hw.t,hw.T],hw.P())\n",
    "P = lambda t: Plambda (model.a_const,model.sigma_const,model.rfree_const,0,t)"
   ]
  },
  {
   "cell_type": "code",
   "execution_count": 24,
   "id": "18e5f155-e160-4657-b4cf-6abaff848d31",
   "metadata": {},
   "outputs": [
    {
     "data": {
      "text/html": [
       "<div>\n",
       "<style scoped>\n",
       "    .dataframe tbody tr th:only-of-type {\n",
       "        vertical-align: middle;\n",
       "    }\n",
       "\n",
       "    .dataframe tbody tr th {\n",
       "        vertical-align: top;\n",
       "    }\n",
       "\n",
       "    .dataframe thead th {\n",
       "        text-align: right;\n",
       "    }\n",
       "</style>\n",
       "<table border=\"1\" class=\"dataframe\">\n",
       "  <thead>\n",
       "    <tr style=\"text-align: right;\">\n",
       "      <th></th>\n",
       "      <th>Method</th>\n",
       "      <th>mean: P(0,T=5.0)</th>\n",
       "      <th>mean: P(0,T=10)</th>\n",
       "    </tr>\n",
       "  </thead>\n",
       "  <tbody>\n",
       "    <tr>\n",
       "      <th>0</th>\n",
       "      <td>Theory</td>\n",
       "      <td>0.860708</td>\n",
       "      <td>0.740818</td>\n",
       "    </tr>\n",
       "    <tr>\n",
       "      <th>1</th>\n",
       "      <td>MonteCarlo</td>\n",
       "      <td>0.861406</td>\n",
       "      <td>0.742086</td>\n",
       "    </tr>\n",
       "  </tbody>\n",
       "</table>\n",
       "</div>"
      ],
      "text/plain": [
       "       Method  mean: P(0,T=5.0)  mean: P(0,T=10)\n",
       "0      Theory          0.860708         0.740818\n",
       "1  MonteCarlo          0.861406         0.742086"
      ]
     },
     "execution_count": 24,
     "metadata": {},
     "output_type": "execute_result"
    }
   ],
   "source": [
    "pd.DataFrame([{\n",
    "    'Method':'Theory',\n",
    "    f'mean: P(0,T={model.T[0]})':P(model.T[0]),\n",
    "    f'mean: P(0,T={model.T[1]})':P(model.T[1]),\n",
    "},{\n",
    "    'Method':'MonteCarlo',\n",
    "    f'mean: P(0,T={model.T[0]})':results.GetStateEvaluationResult(model.df.GetStateNumber(),0).mean,\n",
    "    f'mean: P(0,T={model.T[1]})':results.GetStateEvaluationResult(model.df.GetStateNumber(),1).mean,\n",
    "}])"
   ]
  },
  {
   "cell_type": "markdown",
   "id": "44b1e52c-c422-436c-8517-525da613441e",
   "metadata": {},
   "source": [
    "#### Conclusion on Bond Values Comparison\n",
    "Expected bond values match between theory and MonteCarlo."
   ]
  },
  {
   "cell_type": "markdown",
   "id": "9a7f0708-8f53-4685-9504-27cc91f9e80f",
   "metadata": {},
   "source": [
    "## HW from EP"
   ]
  },
  {
   "cell_type": "code",
   "execution_count": 25,
   "id": "4e3428ed-72fd-43ca-a7b2-2fae3233c0e0",
   "metadata": {},
   "outputs": [],
   "source": [
    "class HWEP:\n",
    "    def __init__ (self):\n",
    "        self.a, self.t, self.T, self.u, self.s = symbols('a t T u s', real = True, positive = True)\n",
    "        t = self.t\n",
    "        T = self.T\n",
    "        s = self.s\n",
    "        u = self.u\n",
    "        k = self.k_t = symbols('k', real = True, positive = True, constant = True)\n",
    "        sigma = self.sigma_t = symbols('sigma', real = True, positive = True, constant = True)\n",
    "        self.r1_t_u = integrate(self.k_t,(s,t,u))\n",
    "        self.G_t_T = integrate(exp(-self.r1_t_u),(u,t,T))\n",
    "        self.G_u_T = self.G_t_T.subs(t,u)\n",
    "        self.G_u_t = self.G_u_T.subs(T,t)\n",
    "        self.sigma_u = self.sigma_t.subs(t,u)\n",
    "        self.alpha2_t_T = integrate(self.sigma_u**2 * (self.G_u_T-self.G_u_t)**2,(u,0,t))\n",
    "    \n",
    "        r = self.r = r = symbols('r', real = True, constant = True)\n",
    "        self.B_0_t = exp(-r*t)\n",
    "        self.B_0_T = self.B_0_t.subs(t,T)\n",
    "\n",
    "        self.X = X = symbols('X', real = True)\n",
    "        self.B_t_T = self.B_0_T/self.B_0_t * exp(-self.alpha2_t_T/2 - sqrt(self.alpha2_t_T)*X)\n",
    "        self.B_t_T = self.B_t_T.simplify()\n",
    "    def B (self):\n",
    "        return lambdify([self.k_t,self.sigma_t,self.r,self.t,self.T,self.X],self.B_t_T)"
   ]
  },
  {
   "cell_type": "code",
   "execution_count": 26,
   "id": "5c66329b-d44d-4b08-80e8-b8ef36f421fa",
   "metadata": {},
   "outputs": [],
   "source": [
    "hwep = HWEP()"
   ]
  },
  {
   "cell_type": "code",
   "execution_count": 27,
   "id": "67649c17-b99f-4ac2-b31e-469f28d77211",
   "metadata": {},
   "outputs": [
    {
     "data": {
      "image/png": "[encoded data removed]",
      "text/latex": [
       "$\\displaystyle - \\frac{e^{- T k + k t}}{k} + \\frac{1}{k}$"
      ],
      "text/plain": [
       "   -T*k + k*t    \n",
       "  e             1\n",
       "- ----------- + -\n",
       "       k        k"
      ]
     },
     "execution_count": 27,
     "metadata": {},
     "output_type": "execute_result"
    }
   ],
   "source": [
    "hwep.G_t_T"
   ]
  },
  {
   "cell_type": "code",
   "execution_count": 28,
   "id": "4a002513-3ccd-4e31-99b3-4e92ee0f0411",
   "metadata": {},
   "outputs": [
    {
     "data": {
      "image/png": "[encoded data removed]",
      "text/latex": [
       "$\\displaystyle \\frac{\\sigma^{2} \\left(- \\frac{e^{2 T k}}{2} + \\frac{e^{4 k t}}{2} - \\frac{e^{2 k t}}{2} + \\frac{e^{2 k \\left(T + t\\right)}}{2} + e^{k \\left(T + t\\right)} - e^{k \\left(T + 3 t\\right)}\\right) e^{- 2 k \\left(T + t\\right)}}{k^{3}}$"
      ],
      "text/plain": [
       "       /   2*T*k    4*k*t    2*k*t    2*k*(T + t)                            \\              \n",
       "     2 |  e        e        e        e               k*(T + t)    k*(T + 3*t)|  -2*k*(T + t)\n",
       "sigma *|- ------ + ------ - ------ + ------------ + e          - e           |*e            \n",
       "       \\    2        2        2           2                                  /              \n",
       "--------------------------------------------------------------------------------------------\n",
       "                                              3                                             \n",
       "                                             k                                              "
      ]
     },
     "execution_count": 28,
     "metadata": {},
     "output_type": "execute_result"
    }
   ],
   "source": [
    "hwep.alpha2_t_T.simplify()"
   ]
  },
  {
   "cell_type": "code",
   "execution_count": 29,
   "id": "e033ee4b-0bed-4c5b-8d3c-1c4c80f69246",
   "metadata": {},
   "outputs": [
    {
     "data": {
      "image/png": "[encoded data removed]",
      "text/latex": [
       "$\\displaystyle e^{- r t}$"
      ],
      "text/plain": [
       " -r*t\n",
       "e    "
      ]
     },
     "execution_count": 29,
     "metadata": {},
     "output_type": "execute_result"
    }
   ],
   "source": [
    "hwep.B_0_t"
   ]
  },
  {
   "cell_type": "code",
   "execution_count": 30,
   "id": "a2522668-f890-4e02-b6ce-fcdc971999f2",
   "metadata": {},
   "outputs": [
    {
     "data": {
      "image/png": "[encoded data removed]",
      "text/latex": [
       "$\\displaystyle e^{- T r - \\frac{\\sqrt{2} X \\sigma \\sqrt{e^{2 T k} + e^{2 k t} - e^{2 k \\left(T - t\\right)} + 2 e^{k \\left(T - t\\right)} - 2 e^{k \\left(T + t\\right)} - 1} e^{- T k}}{2 k^{\\frac{3}{2}}} + r t - \\frac{\\sigma^{2} e^{2 k \\left(- T + t\\right)}}{4 k^{3}} + \\frac{\\sigma^{2} e^{k \\left(- T + t\\right)}}{2 k^{3}} - \\frac{\\sigma^{2}}{4 k^{3}} - \\frac{\\sigma^{2} e^{- k \\left(T + t\\right)}}{2 k^{3}} + \\frac{\\sigma^{2} e^{- 2 k t}}{4 k^{3}} + \\frac{\\sigma^{2} e^{- 2 T k}}{4 k^{3}}}$"
      ],
      "text/plain": [
       "                         __________________________________________________________________                                                                                                                        \n",
       "          ___           /  2*T*k    2*k*t    2*k*(T - t)      k*(T - t)      k*(T + t)       -T*k              2  2*k*(-T + t)        2  k*(-T + t)        2        2  -k*(T + t)        2  -2*k*t        2  -2*T*k\n",
       "        \\/ 2 *X*sigma*\\/  e      + e      - e            + 2*e          - 2*e          - 1 *e             sigma *e               sigma *e             sigma    sigma *e             sigma *e         sigma *e      \n",
       " -T*r - ----------------------------------------------------------------------------------------- + r*t - -------------------- + ------------------ - ------ - ------------------ + -------------- + --------------\n",
       "                                                     3/2                                                             3                     3              3              3                  3                3     \n",
       "                                                  2*k                                                             4*k                   2*k            4*k            2*k                4*k              4*k      \n",
       "e                                                                                                                                                                                                                  "
      ]
     },
     "execution_count": 30,
     "metadata": {},
     "output_type": "execute_result"
    }
   ],
   "source": [
    "hwep.B_t_T"
   ]
  },
  {
   "cell_type": "code",
   "execution_count": 31,
   "id": "97c0087b-a8ab-4572-8c1d-25d31f967905",
   "metadata": {},
   "outputs": [],
   "source": [
    "B = hwep.B()"
   ]
  },
  {
   "cell_type": "markdown",
   "id": "30208e74-9590-4bc5-9c62-e0605cf52b80",
   "metadata": {},
   "source": [
    "### Plot $B(0,5,10)$"
   ]
  },
  {
   "cell_type": "code",
   "execution_count": 32,
   "id": "9d65bf42-b207-456f-9a47-a6836d14e0d7",
   "metadata": {},
   "outputs": [
    {
     "name": "stdout",
     "output_type": "stream",
     "text": [
      "The random sample: mean=0.8560304601188505 stddev=0.30972920377276364\n"
     ]
    },
    {
     "data": {
      "image/png": "[encoded data removed]",
      "text/plain": [
       "<Figure size 640x480 with 1 Axes>"
      ]
     },
     "metadata": {},
     "output_type": "display_data"
    }
   ],
   "source": [
    "samples = 10000\n",
    "fig, ax = plt.subplots()\n",
    "x = [B(model.a_const,model.sigma_const,model.rfree_const,model.T[0],model.T[1],random.gauss(0,1)) for i in range(samples)]\n",
    "x1_sum = sum(x)\n",
    "x2_sum = sum([v*v for v in x])\n",
    "x_mean = x1_sum/samples\n",
    "x_square_mean = x2_sum/samples\n",
    "x_stddev = math.sqrt(x_square_mean-x_mean**2)\n",
    "print(f'The random sample: mean={x_mean} stddev={x_stddev}')\n",
    "ax.hist(np.array(x, dtype=float),bins=100)\n",
    "plt.show()"
   ]
  },
  {
   "cell_type": "markdown",
   "id": "deb57001-4f2f-4ef4-a403-5732f1c09a80",
   "metadata": {},
   "source": [
    "### The full MC generates different $B(0,5,10)$ (comparison failed)"
   ]
  },
  {
   "cell_type": "code",
   "execution_count": 33,
   "id": "dd57e73f-b4ad-4b48-8fc9-cb4aa6e4f0da",
   "metadata": {},
   "outputs": [
    {
     "data": {
      "image/png": "[encoded data removed]",
      "text/plain": [
       "<Figure size 640x480 with 1 Axes>"
      ]
     },
     "metadata": {},
     "output_type": "display_data"
    }
   ],
   "source": [
    "state = model.fdf.GetStateNumber()\n",
    "sdk_plot(results=results,point=0,stateX=state)"
   ]
  },
  {
   "cell_type": "code",
   "execution_count": 34,
   "id": "e37ebd71-8ca6-4d16-8a45-f3602e8af0ac",
   "metadata": {},
   "outputs": [
    {
     "data": {
      "text/html": [
       "<div>\n",
       "<style scoped>\n",
       "    .dataframe tbody tr th:only-of-type {\n",
       "        vertical-align: middle;\n",
       "    }\n",
       "\n",
       "    .dataframe tbody tr th {\n",
       "        vertical-align: top;\n",
       "    }\n",
       "\n",
       "    .dataframe thead th {\n",
       "        text-align: right;\n",
       "    }\n",
       "</style>\n",
       "<table border=\"1\" class=\"dataframe\">\n",
       "  <thead>\n",
       "    <tr style=\"text-align: right;\">\n",
       "      <th></th>\n",
       "      <th>Method</th>\n",
       "      <th>mean: P(0,t=5.0,T=10)</th>\n",
       "      <th>stddev: P(0,t=5.0,T=10)</th>\n",
       "    </tr>\n",
       "  </thead>\n",
       "  <tbody>\n",
       "    <tr>\n",
       "      <th>0</th>\n",
       "      <td>Theory</td>\n",
       "      <td>0.85603</td>\n",
       "      <td>0.309729</td>\n",
       "    </tr>\n",
       "    <tr>\n",
       "      <th>1</th>\n",
       "      <td>MonteCarlo</td>\n",
       "      <td>0.79769</td>\n",
       "      <td>0.371527</td>\n",
       "    </tr>\n",
       "  </tbody>\n",
       "</table>\n",
       "</div>"
      ],
      "text/plain": [
       "       Method  mean: P(0,t=5.0,T=10)  stddev: P(0,t=5.0,T=10)\n",
       "0      Theory                0.85603                 0.309729\n",
       "1  MonteCarlo                0.79769                 0.371527"
      ]
     },
     "execution_count": 34,
     "metadata": {},
     "output_type": "execute_result"
    }
   ],
   "source": [
    "pd.DataFrame([{\n",
    "    'Method':'Theory',\n",
    "    f'mean: P(0,t={model.T[0]},T={model.T[1]})':x_mean,\n",
    "    f'stddev: P(0,t={model.T[0]},T={model.T[1]})':x_stddev,\n",
    "},{\n",
    "    'Method':'MonteCarlo',\n",
    "    f'mean: P(0,t={model.T[0]},T={model.T[1]})':results.GetStateEvaluationResult(model.fdf.GetStateNumber(),0).mean,\n",
    "    f'stddev: P(0,t={model.T[0]},T={model.T[1]})':results.GetStateEvaluationResult(model.fdf.GetStateNumber(),0).stddev,\n",
    "}])"
   ]
  },
  {
   "cell_type": "code",
   "execution_count": 35,
   "id": "a2ce2f1e-a282-423b-8565-e5e2fbfc4aaa",
   "metadata": {},
   "outputs": [
    {
     "data": {
      "image/png": "[encoded data removed]",
      "text/plain": [
       "<Figure size 640x480 with 1 Axes>"
      ]
     },
     "metadata": {},
     "output_type": "display_data"
    }
   ],
   "source": [
    "from plot import find as sdk_find\n",
    "\n",
    "fig,ax,bins = sdk_find(results=results,point=0,stateX=state)\n",
    "plt.hist(x, bins, alpha=0.5, label='y', density=True)\n",
    "plt.show()"
   ]
  },
  {
   "cell_type": "markdown",
   "id": "8b35446d-1464-46b3-ba8d-b56ffab37f12",
   "metadata": {},
   "source": [
    "#### Conclusion on Forward Price of Discount Bond $B(0,t,T)$ Comparison\n",
    "The values don't match."
   ]
  },
  {
   "cell_type": "markdown",
   "id": "239af15f-34f3-4693-b47f-405012800124",
   "metadata": {},
   "source": [
    "# Appendix A: Setting up python environment to run this notebook\n",
    "Prerequest: please install *python3* and *git* first.\n",
    "\n",
    "After that, the following set of commands should install all the dependencies and run the notebook."
   ]
  },
  {
   "cell_type": "markdown",
   "id": "cf838d6d-c016-4ed0-ad89-daaa318507d7",
   "metadata": {},
   "source": [
    "```bash\n",
    "pip3 install pandas numpy matplotlib plotly sympy graphviz jupyterlab\n",
    "git clone https://github.com/AlexanderZvyagin/MonteCarlo-SDK.git\n",
    "cd MonteCarlo-SDK/python/notebooks\n",
    "git checkout -b hw origin/hw\n",
    "jupyter-lab hw_bond.ipynb\n",
    "```"
   ]
  }
 ],
 "metadata": {
  "kernelspec": {
   "display_name": "Python 3 (ipykernel)",
   "language": "python",
   "name": "python3"
  },
  "language_info": {
   "codemirror_mode": {
    "name": "ipython",
    "version": 3
   },
   "file_extension": ".py",
   "mimetype": "text/x-python",
   "name": "python",
   "nbconvert_exporter": "python",
   "pygments_lexer": "ipython3",
   "version": "3.10.12"
  }
 },
 "nbformat": 4,
 "nbformat_minor": 5
}
