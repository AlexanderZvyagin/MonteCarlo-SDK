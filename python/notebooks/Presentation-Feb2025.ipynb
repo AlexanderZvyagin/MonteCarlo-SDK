{
 "cells": [
  {
   "cell_type": "markdown",
   "id": "d83c3946-609e-470c-b978-dcfc4c900606",
   "metadata": {},
   "source": [
    "# Introduction. Motiviation.\n",
    "\n",
    "Having the same price, a GPU is about factor 10 more powerfull than CPU. GPUs are designed for parallel computations and they are pefectly suited for MonteCarlo computations.\n",
    "\n",
    "This is my home hobby project to learn and better understand financial models."
   ]
  },
  {
   "cell_type": "markdown",
   "id": "e15b333b-8468-4728-b60f-4cc49a816692",
   "metadata": {},
   "source": [
    "# Vanilla Monte Carlo\n",
    "$$I(T) = \\int_{T_0}^T \\mu(t) dt + \\sigma(t) dW_t$$\n",
    "\n",
    "The time interval $[0,T]$ is divided into $K$ subintervals $$T_0<T_1<\\cdots<T_K=T$$ and we estimate $I(T_i)$ at the end of each time inteval.\n",
    "The procedure is repeated $N$ times using differnt random variable sequences and from the final distribution of $N$ values $I(T)$ we compute:\n",
    "- succesful paths (it is OK if $I(T)$ cannot be computed because of div by 0, for example)\n",
    "- mean value\n",
    "- standard deviation\n",
    "- skewness"
   ]
  },
  {
   "cell_type": "markdown",
   "id": "68823d4a-e6e1-4534-a85a-d8c93357f61d",
   "metadata": {},
   "source": [
    "# Extending MC\n",
    "\n",
    "## Evaluation Time Points\n",
    "Instead of aksing to compute $I(T)$ only at the time horizon, we can request I(T) computation at a set of time points (e.g. cashflows).\n",
    "\n",
    "## Functions   (to evaluate states $I(T)$)\n",
    "We can process many (thousands) functions at the same time. An output from one state can be used as input for another state. For example the engine can easily handle the SABR model:\n",
    "\n",
    "$$\\begin{array}\n",
    "\\ dW_1 \\times dW_2 &=& \\rho dt \\\\\\\n",
    "d\\sigma &=& \\alpha dW_1 \\\\\\\n",
    "dS &=& S^\\beta \\sigma dW_2\n",
    "\\end{array}\n",
    "$$\n",
    "\n",
    "## Constructing a Model\n",
    "\n",
    "The engine defines some _default_ functions, like:\n",
    "- random variables generation (independent, correlated, etc)\n",
    "- Brownianm Motion\n",
    "- pass a function\n",
    "- special functions, like max(x,0) or SABR\n",
    "- ...\n",
    "\n",
    "New functions can be added/modified to extend the functionality, but for this the engine code needs to be recompiled.\n",
    "\n",
    "If a model can be constructed from already available functions (see endpoint _functions_), then there is no need to modify the code at all. As such, the engine provides building blocks from which a model can be constructed."
   ]
  },
  {
   "cell_type": "markdown",
   "id": "0067d69f-0485-466d-b178-591f3e7cb13a",
   "metadata": {},
   "source": [
    "# MC as a Service\n",
    "\n",
    "The MC engine is a stateless API-(micro)service with just a few endopoints. \n",
    "\n",
    "A client sends a http request to the server. \n",
    "<div class=\"alert alert-block alert-info\">\n",
    "HTTP can be easily replaced by another protocol, or several diffirenet protocols can be used.\n",
    "</div>\n",
    "\n",
    "A request (for HTTP a JSON structure is used) consists of:\n",
    "- what to compute (list of functions/states)\n",
    "- list of time points at which the the compuat\n",
    "- all data (curves, surfaces, volumes)\n",
    "\n",
    "There is a software development kit which helps to send requests and receive responses from the server. Out-of-the-box the SDK supports:\n",
    "- C++\n",
    "- python\n",
    "- typescript (javascript)\n",
    "\n",
    "<div class=\"alert alert-block alert-info\">\n",
    "It is relativly easy to add other C-type languages (like csharp, java). But you can always send just a JSON object directly to the engine and receive a JSON object (or an HTTP error) back in the return.\n",
    "</div>\n"
   ]
  },
  {
   "cell_type": "markdown",
   "id": "919400d9-3d3f-4b4a-9f00-cfdc2adc0516",
   "metadata": {},
   "source": [
    "# DEMO time!\n",
    "\n",
    "In the demo I am going to demonstrate:\n",
    "\n",
    "- basic functionality (endpoints)\n",
    "- how to create a simple model, visualize the results\n",
    "- compose a more complicated model (barrier option pricing)\n",
    "- gitlab pipeline"
   ]
  },
  {
   "cell_type": "raw",
   "id": "ab05fa0e-86ee-4f14-8eff-1dae3ab0168a",
   "metadata": {},
   "source": [
    "# The Project, miscellaneous. \n",
    "\n",
    "- hardware: requires a NVidia GPU card\n",
    "- software (minimal): linux, NVIDIA CUDA framework, gcc-13, _meson_ build system, git, some external github libraries\n",
    "- software (advanced): gitlab, docker  \n",
    "- all software is locally installed and running (does not depend on other external services)\n",
    "- extra functionality (authorization, endpoints protection, etc...) should be done with 3rd party tools (e.g. using docker compose)\n",
    "\n",
    "The source code is written in C++ using  NVIDIA's CUDA framework. The code is multithreded both on GPU's and on CPU's (can process several HTTP requests in parallel). I have a 5-year old \"GTX-2060 Super\" GPU card. The modern gaming cards should be about factor 10 faster.\n",
    "\n",
    "The most complicated model I coded so far is the Longstaff-Swartz Least-Squares algorithm to compute bermudan options. "
   ]
  },
  {
   "cell_type": "markdown",
   "id": "8ae41f57-546a-46ec-be09-432b91b32e2b",
   "metadata": {},
   "source": [
    "# Links\n",
    "\n",
    "This presentation and the engin's Software Development Kit (with examples):\n",
    "https://github.com/AlexanderZvyagin/MonteCarlo-SDK\n",
    "\n",
    "To access the engine from within the TD's network: \n",
    "https://mc0.netlify.app/engine-8200\n",
    "\n"
   ]
  },
  {
   "cell_type": "code",
   "execution_count": null,
   "id": "6085794b-14cd-4927-9238-a5eba86cabd7",
   "metadata": {},
   "outputs": [],
   "source": []
  }
 ],
 "metadata": {
  "kernelspec": {
   "display_name": "Python 3 (ipykernel)",
   "language": "python",
   "name": "python3"
  },
  "language_info": {
   "codemirror_mode": {
    "name": "ipython",
    "version": 3
   },
   "file_extension": ".py",
   "mimetype": "text/x-python",
   "name": "python",
   "nbconvert_exporter": "python",
   "pygments_lexer": "ipython3",
   "version": "3.10.12"
  }
 },
 "nbformat": 4,
 "nbformat_minor": 5
}
