{
 "cells": [
  {
   "cell_type": "code",
   "execution_count": 1,
   "id": "c2bcaffe-1ae8-4981-acd6-b9ea959cd4e6",
   "metadata": {},
   "outputs": [],
   "source": [
    "from init import *"
   ]
  },
  {
   "cell_type": "code",
   "execution_count": 2,
   "id": "060562f5",
   "metadata": {},
   "outputs": [],
   "source": [
    "model = sdk.Model()\n",
    "model.TimeStart = 0\n",
    "model.TimeSteps = 10\n",
    "model.NumPaths = 1\n",
    "model.Add(sdk.IndependentGaussian())\n",
    "TimeHorizon = 10"
   ]
  },
  {
   "cell_type": "code",
   "execution_count": 3,
   "id": "e91fcde9",
   "metadata": {},
   "outputs": [],
   "source": [
    "ra = 0.05\n",
    "rb = 0.05\n",
    "r = lambda t: ra+rb*t\n",
    "interpolation_points = 1000\n",
    "dt = (TimeHorizon-model.TimeStart)/interpolation_points\n",
    "\n",
    "process = model.Add(sdk.Linear1DInterpolation(\n",
    "    ref = -1, # the function argument is time: f(t). In this case we need to use ref=-1\n",
    "    xmin       = model.TimeStart,\n",
    "    xmax       = model.TimeStart+dt*interpolation_points,\n",
    "    y          = [r(i*dt) for i in range(interpolation_points)],\n",
    "    title      = \"short rate\"\n",
    "))\n"
   ]
  },
  {
   "cell_type": "code",
   "execution_count": 4,
   "id": "30a0d34b",
   "metadata": {},
   "outputs": [
    {
     "name": "stdout",
     "output_type": "stream",
     "text": [
      "[0.0, 2.5, 5.0, 7.5, 10.0]\n"
     ]
    }
   ],
   "source": [
    "t_grid_points = 4\n",
    "dt = (TimeHorizon-model.TimeStart)/t_grid_points\n",
    "t_grid = [model.TimeStart+dt*i for i in range(t_grid_points+1)]\n",
    "sum_process = model.Add(sdk.SumAtPoints(\n",
    "    underlying = process.GetStateNumber(),\n",
    "    t = t_grid[1:],\n",
    "    title = \"SumAtPoints\"\n",
    "))\n",
    "print(t_grid)"
   ]
  },
  {
   "cell_type": "code",
   "execution_count": 5,
   "id": "430f5d07",
   "metadata": {},
   "outputs": [
    {
     "name": "stdout",
     "output_type": "stream",
     "text": [
      "[0.0, 2.5, 5.0, 7.5, 10.0]\n"
     ]
    }
   ],
   "source": [
    "# t_grid_points = 4\n",
    "# dt = (TimeHorizon-model.TimeStart)/t_grid_points\n",
    "# t_grid = [model.TimeStart+dt*i for i in range(t_grid_points+1)]\n",
    "average_process = model.Add(sdk.AverageInInterval(\n",
    "    underlying = process.GetStateNumber(),\n",
    "    t = t_grid,\n",
    "    title = \"Average\"\n",
    "))\n",
    "print(t_grid)"
   ]
  },
  {
   "cell_type": "code",
   "execution_count": 6,
   "id": "24a005fc",
   "metadata": {},
   "outputs": [
    {
     "name": "stdout",
     "output_type": "stream",
     "text": [
      "0.0\n",
      "2.5\n",
      "5.0\n",
      "7.5\n",
      "10.0\n"
     ]
    }
   ],
   "source": [
    "for t in t_grid:\n",
    "    print(t)\n",
    "    model.evaluations.append(sdk.EvaluationPoint(0,t))"
   ]
  },
  {
   "cell_type": "code",
   "execution_count": 7,
   "id": "91f843fa",
   "metadata": {},
   "outputs": [
    {
     "ename": "SdkException",
     "evalue": "Unknown updater function \"SumAtPoints\" or bad arguments passed to the constructor.",
     "output_type": "error",
     "traceback": [
      "\u001b[0;31m---------------------------------------------------------------------------\u001b[0m",
      "\u001b[0;31mSdkException\u001b[0m                              Traceback (most recent call last)",
      "Cell \u001b[0;32mIn[7], line 1\u001b[0m\n\u001b[0;32m----> 1\u001b[0m results \u001b[38;5;241m=\u001b[39m \u001b[43msdk\u001b[49m\u001b[38;5;241;43m.\u001b[39;49m\u001b[43mrun\u001b[49m\u001b[43m \u001b[49m\u001b[43m(\u001b[49m\u001b[43mmodel\u001b[49m\u001b[43m,\u001b[49m\u001b[43m \u001b[49m\u001b[43mserver\u001b[49m\u001b[43m)\u001b[49m\n\u001b[1;32m      2\u001b[0m results\u001b[38;5;241m.\u001b[39mdf()\n",
      "File \u001b[0;32m~/Projects/MonteCarlo/swap-simple/external/mcsdk/python/notebooks/mcsdk.py:1722\u001b[0m, in \u001b[0;36mrun\u001b[0;34m(model, server)\u001b[0m\n\u001b[1;32m   1720\u001b[0m \u001b[38;5;28;01melse\u001b[39;00m:\n\u001b[1;32m   1721\u001b[0m     error \u001b[38;5;241m=\u001b[39m Error_from_json_string(response\u001b[38;5;241m.\u001b[39mtext)\n\u001b[0;32m-> 1722\u001b[0m     \u001b[38;5;28;01mraise\u001b[39;00m SdkException (error)\n",
      "\u001b[0;31mSdkException\u001b[0m: Unknown updater function \"SumAtPoints\" or bad arguments passed to the constructor."
     ]
    }
   ],
   "source": [
    "results = sdk.run (model, server)\n",
    "results.df()"
   ]
  },
  {
   "cell_type": "markdown",
   "id": "acab12ad",
   "metadata": {},
   "source": [
    "$$\n",
    "\\sum_{i=1}^m P(t_0,t_i) N_i\n",
    "$$\n",
    "- $t_0$ is the _current_ time poiunt\n",
    "- $m$ the number of time intrervals of the leg ($m>0$)\n",
    "- $N_i$ the notional value at time point $t_i$"
   ]
  },
  {
   "cell_type": "code",
   "execution_count": null,
   "id": "75344cd0",
   "metadata": {},
   "outputs": [],
   "source": [
    "# short_rate_state = 0\n",
    "# short_rate_sum   \n",
    "# results.GetStateEvaluationResult(0,2).mean"
   ]
  },
  {
   "cell_type": "code",
   "execution_count": null,
   "id": "2a959fd8",
   "metadata": {},
   "outputs": [],
   "source": []
  }
 ],
 "metadata": {
  "kernelspec": {
   "display_name": "Python 3 (ipykernel)",
   "language": "python",
   "name": "python3"
  },
  "language_info": {
   "codemirror_mode": {
    "name": "ipython",
    "version": 3
   },
   "file_extension": ".py",
   "mimetype": "text/x-python",
   "name": "python",
   "nbconvert_exporter": "python",
   "pygments_lexer": "ipython3",
   "version": "3.10.12"
  },
  "vscode": {
   "interpreter": {
    "hash": "916dbcbb3f70747c44a77c7bcd40155683ae19c65e1c03b4aa3499c5328201f1"
   }
  }
 },
 "nbformat": 4,
 "nbformat_minor": 5
}
