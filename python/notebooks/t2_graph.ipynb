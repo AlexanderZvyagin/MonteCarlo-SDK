{
 "cells": [
  {
   "cell_type": "code",
   "execution_count": 1,
   "id": "c2bcaffe-1ae8-4981-acd6-b9ea959cd4e6",
   "metadata": {},
   "outputs": [],
   "source": [
    "from init import *"
   ]
  },
  {
   "cell_type": "code",
   "execution_count": 2,
   "id": "5a6711d1-64a2-42a9-b5d6-5a477b7faa66",
   "metadata": {},
   "outputs": [],
   "source": [
    "number_of_states = 8\n",
    "start_value = 0\n",
    "drift = 0\n",
    "diffusion = 1\n",
    "\n",
    "model = sdk.Model()\n",
    "model.TimeStart = 0\n",
    "model.TimeSteps = 100\n",
    "model.NumPaths = 1\n",
    "model.MemoryLimitKB = 100\n",
    "model.updaters.append(sdk.Updater(\n",
    "    name = \"IndependentGaussian\"\n",
    "))\n",
    "for i in range(number_of_states):\n",
    "    model.updaters.append(sdk.Updater(\n",
    "        name = \"BrownianMotion\",\n",
    "        start = start_value,\n",
    "        args = [drift,diffusion]\n",
    "    ))"
   ]
  },
  {
   "cell_type": "code",
   "execution_count": 3,
   "id": "7e16d5d8-9566-456e-a06b-1603b100cead",
   "metadata": {},
   "outputs": [],
   "source": [
    "dt = 1\n",
    "for i in range(model.TimeSteps):\n",
    "    model.evaluations.append(sdk.EvaluationPoint(0,model.TimeStart+(i+1)*dt))"
   ]
  },
  {
   "cell_type": "code",
   "execution_count": 4,
   "id": "83d32fb3-be55-406e-ae33-375014843930",
   "metadata": {
    "scrolled": true
   },
   "outputs": [
    {
     "data": {
      "text/html": [
       "<div>\n",
       "<style scoped>\n",
       "    .dataframe tbody tr th:only-of-type {\n",
       "        vertical-align: middle;\n",
       "    }\n",
       "\n",
       "    .dataframe tbody tr th {\n",
       "        vertical-align: top;\n",
       "    }\n",
       "\n",
       "    .dataframe thead th {\n",
       "        text-align: right;\n",
       "    }\n",
       "</style>\n",
       "<table border=\"1\" class=\"dataframe\">\n",
       "  <thead>\n",
       "    <tr style=\"text-align: right;\">\n",
       "      <th></th>\n",
       "      <th>name</th>\n",
       "      <th>title</th>\n",
       "      <th>state</th>\n",
       "      <th>time</th>\n",
       "      <th>step</th>\n",
       "      <th>npaths</th>\n",
       "      <th>mean</th>\n",
       "      <th>mean_error</th>\n",
       "      <th>stddev</th>\n",
       "      <th>skewness</th>\n",
       "    </tr>\n",
       "  </thead>\n",
       "  <tbody>\n",
       "    <tr>\n",
       "      <th>0</th>\n",
       "      <td>BrownianMotion</td>\n",
       "      <td></td>\n",
       "      <td>0</td>\n",
       "      <td>1.0</td>\n",
       "      <td>1</td>\n",
       "      <td>1</td>\n",
       "      <td>0.676898</td>\n",
       "      <td>None</td>\n",
       "      <td>None</td>\n",
       "      <td>None</td>\n",
       "    </tr>\n",
       "    <tr>\n",
       "      <th>1</th>\n",
       "      <td>BrownianMotion</td>\n",
       "      <td></td>\n",
       "      <td>1</td>\n",
       "      <td>1.0</td>\n",
       "      <td>1</td>\n",
       "      <td>1</td>\n",
       "      <td>-1.678581</td>\n",
       "      <td>None</td>\n",
       "      <td>None</td>\n",
       "      <td>None</td>\n",
       "    </tr>\n",
       "    <tr>\n",
       "      <th>2</th>\n",
       "      <td>BrownianMotion</td>\n",
       "      <td></td>\n",
       "      <td>2</td>\n",
       "      <td>1.0</td>\n",
       "      <td>1</td>\n",
       "      <td>1</td>\n",
       "      <td>-0.569540</td>\n",
       "      <td>None</td>\n",
       "      <td>None</td>\n",
       "      <td>None</td>\n",
       "    </tr>\n",
       "    <tr>\n",
       "      <th>3</th>\n",
       "      <td>BrownianMotion</td>\n",
       "      <td></td>\n",
       "      <td>3</td>\n",
       "      <td>1.0</td>\n",
       "      <td>1</td>\n",
       "      <td>1</td>\n",
       "      <td>-0.408487</td>\n",
       "      <td>None</td>\n",
       "      <td>None</td>\n",
       "      <td>None</td>\n",
       "    </tr>\n",
       "    <tr>\n",
       "      <th>4</th>\n",
       "      <td>BrownianMotion</td>\n",
       "      <td></td>\n",
       "      <td>4</td>\n",
       "      <td>1.0</td>\n",
       "      <td>1</td>\n",
       "      <td>1</td>\n",
       "      <td>-0.621755</td>\n",
       "      <td>None</td>\n",
       "      <td>None</td>\n",
       "      <td>None</td>\n",
       "    </tr>\n",
       "  </tbody>\n",
       "</table>\n",
       "</div>"
      ],
      "text/plain": [
       "             name title  state  time  step  npaths      mean mean_error  \\\n",
       "0  BrownianMotion            0   1.0     1       1  0.676898       None   \n",
       "1  BrownianMotion            1   1.0     1       1 -1.678581       None   \n",
       "2  BrownianMotion            2   1.0     1       1 -0.569540       None   \n",
       "3  BrownianMotion            3   1.0     1       1 -0.408487       None   \n",
       "4  BrownianMotion            4   1.0     1       1 -0.621755       None   \n",
       "\n",
       "  stddev skewness  \n",
       "0   None     None  \n",
       "1   None     None  \n",
       "2   None     None  \n",
       "3   None     None  \n",
       "4   None     None  "
      ]
     },
     "execution_count": 4,
     "metadata": {},
     "output_type": "execute_result"
    }
   ],
   "source": [
    "results = run (model)\n",
    "results.df().head()"
   ]
  },
  {
   "cell_type": "code",
   "execution_count": 5,
   "id": "6ec8876f-7a9e-4f8a-8cb5-047e6cf8648d",
   "metadata": {
    "tags": []
   },
   "outputs": [
    {
     "data": {
      "application/vnd.plotly.v1+json": {
       "config": {
        "plotlyServerURL": "https://plot.ly"
       },
       "data": [
        {
         "hovertemplate": "x=%{x}<br>y=%{y}<extra></extra>",
         "legendgroup": "",
         "marker": {
          "color": "#636efa",
          "symbol": "circle"
         },
         "mode": "markers",
         "name": "",
         "orientation": "v",
         "showlegend": false,
         "type": "scatter",
         "x": [
          1,
          2,
          3,
          4,
          5,
          6,
          7,
          8,
          9,
          10,
          11,
          12,
          13,
          14,
          15,
          16,
          17,
          18,
          19,
          20,
          21,
          22,
          23,
          24,
          25,
          26,
          27,
          28,
          29,
          30,
          31,
          32,
          33,
          34,
          35,
          36,
          37,
          38,
          39,
          40,
          41,
          42,
          43,
          44,
          45,
          46,
          47,
          48,
          49,
          50,
          51,
          52,
          53,
          54,
          55,
          56,
          57,
          58,
          59,
          60,
          61,
          62,
          63,
          64,
          65,
          66,
          67,
          68,
          69,
          70,
          71,
          72,
          73,
          74,
          75,
          76,
          77,
          78,
          79,
          80,
          81,
          82,
          83,
          84,
          85,
          86,
          87,
          88,
          89,
          90,
          91,
          92,
          93,
          94,
          95,
          96,
          97,
          98,
          99,
          100
         ],
         "xaxis": "x",
         "y": [
          0.6768980026245117,
          1.694009780883789,
          1.7261574268341064,
          2.0564627647399902,
          1.9169079065322876,
          4.116541385650635,
          3.724886417388916,
          3.360771417617798,
          3.134467601776123,
          3.9789605140686035,
          5.065995693206787,
          5.14774751663208,
          4.268877983093262,
          3.3850882053375244,
          3.3207297325134277,
          3.1797564029693604,
          2.392244577407837,
          3.0504157543182373,
          2.5371267795562744,
          2.7707996368408203,
          2.2974188327789307,
          3.1165502071380615,
          1.644254446029663,
          -1.9948315620422363,
          -1.8467885255813599,
          -2.841069221496582,
          -1.7000610828399658,
          -2.2181034088134766,
          -3.3343987464904785,
          -2.197023868560791,
          -2.638535499572754,
          -2.608107328414917,
          -1.774560809135437,
          -1.8480483293533325,
          -1.1821677684783936,
          -1.909600019454956,
          -1.7702248096466064,
          -3.2747855186462402,
          -3.803105354309082,
          -2.635455369949341,
          -1.2095448970794678,
          -0.6387060284614563,
          -1.06802237033844,
          -0.2257295846939087,
          -1.2232731580734253,
          -1.4612114429473877,
          -2.87104868888855,
          -3.1008591651916504,
          -2.2750415802001953,
          -3.0802366733551025,
          -2.125277280807495,
          -2.9343228340148926,
          -2.952249526977539,
          -1.7139426469802856,
          -1.6316112279891968,
          0.6843270063400269,
          0.8384842872619629,
          0.9199187755584717,
          0.48642921447753906,
          -0.6517859697341919,
          -1.3618950843811035,
          -0.06061434745788574,
          -0.7843337655067444,
          -1.7132954597473145,
          -1.0209163427352905,
          -0.30632442235946655,
          0.6725192070007324,
          0.9621785879135132,
          1.7200703620910645,
          1.7739624977111816,
          1.597522497177124,
          0.5479758977890015,
          -0.45504605770111084,
          -1.0651202201843262,
          -0.8753706812858582,
          -1.1065635681152344,
          -1.5525773763656616,
          -1.1411405801773071,
          -1.7997946739196777,
          -1.6507827043533325,
          -1.0269091129302979,
          -0.28684747219085693,
          1.0052629709243774,
          1.1815249919891357,
          0.9671738147735596,
          2.032132148742676,
          4.445591926574707,
          2.3281571865081787,
          1.8635536432266235,
          1.9136852025985718,
          2.965076446533203,
          3.6659207344055176,
          3.8233702182769775,
          3.682002067565918,
          4.596141338348389,
          3.910473346710205,
          3.69694185256958,
          3.7202353477478027,
          3.516988754272461,
          4.920929431915283
         ],
         "yaxis": "y"
        }
       ],
       "layout": {
        "legend": {
         "tracegroupgap": 0
        },
        "template": {
         "data": {
          "bar": [
           {
            "error_x": {
             "color": "#2a3f5f"
            },
            "error_y": {
             "color": "#2a3f5f"
            },
            "marker": {
             "line": {
              "color": "#E5ECF6",
              "width": 0.5
             },
             "pattern": {
              "fillmode": "overlay",
              "size": 10,
              "solidity": 0.2
             }
            },
            "type": "bar"
           }
          ],
          "barpolar": [
           {
            "marker": {
             "line": {
              "color": "#E5ECF6",
              "width": 0.5
             },
             "pattern": {
              "fillmode": "overlay",
              "size": 10,
              "solidity": 0.2
             }
            },
            "type": "barpolar"
           }
          ],
          "carpet": [
           {
            "aaxis": {
             "endlinecolor": "#2a3f5f",
             "gridcolor": "white",
             "linecolor": "white",
             "minorgridcolor": "white",
             "startlinecolor": "#2a3f5f"
            },
            "baxis": {
             "endlinecolor": "#2a3f5f",
             "gridcolor": "white",
             "linecolor": "white",
             "minorgridcolor": "white",
             "startlinecolor": "#2a3f5f"
            },
            "type": "carpet"
           }
          ],
          "choropleth": [
           {
            "colorbar": {
             "outlinewidth": 0,
             "ticks": ""
            },
            "type": "choropleth"
           }
          ],
          "contour": [
           {
            "colorbar": {
             "outlinewidth": 0,
             "ticks": ""
            },
            "colorscale": [
             [
              0,
              "#0d0887"
             ],
             [
              0.1111111111111111,
              "#46039f"
             ],
             [
              0.2222222222222222,
              "#7201a8"
             ],
             [
              0.3333333333333333,
              "#9c179e"
             ],
             [
              0.4444444444444444,
              "#bd3786"
             ],
             [
              0.5555555555555556,
              "#d8576b"
             ],
             [
              0.6666666666666666,
              "#ed7953"
             ],
             [
              0.7777777777777778,
              "#fb9f3a"
             ],
             [
              0.8888888888888888,
              "#fdca26"
             ],
             [
              1,
              "#f0f921"
             ]
            ],
            "type": "contour"
           }
          ],
          "contourcarpet": [
           {
            "colorbar": {
             "outlinewidth": 0,
             "ticks": ""
            },
            "type": "contourcarpet"
           }
          ],
          "heatmap": [
           {
            "colorbar": {
             "outlinewidth": 0,
             "ticks": ""
            },
            "colorscale": [
             [
              0,
              "#0d0887"
             ],
             [
              0.1111111111111111,
              "#46039f"
             ],
             [
              0.2222222222222222,
              "#7201a8"
             ],
             [
              0.3333333333333333,
              "#9c179e"
             ],
             [
              0.4444444444444444,
              "#bd3786"
             ],
             [
              0.5555555555555556,
              "#d8576b"
             ],
             [
              0.6666666666666666,
              "#ed7953"
             ],
             [
              0.7777777777777778,
              "#fb9f3a"
             ],
             [
              0.8888888888888888,
              "#fdca26"
             ],
             [
              1,
              "#f0f921"
             ]
            ],
            "type": "heatmap"
           }
          ],
          "heatmapgl": [
           {
            "colorbar": {
             "outlinewidth": 0,
             "ticks": ""
            },
            "colorscale": [
             [
              0,
              "#0d0887"
             ],
             [
              0.1111111111111111,
              "#46039f"
             ],
             [
              0.2222222222222222,
              "#7201a8"
             ],
             [
              0.3333333333333333,
              "#9c179e"
             ],
             [
              0.4444444444444444,
              "#bd3786"
             ],
             [
              0.5555555555555556,
              "#d8576b"
             ],
             [
              0.6666666666666666,
              "#ed7953"
             ],
             [
              0.7777777777777778,
              "#fb9f3a"
             ],
             [
              0.8888888888888888,
              "#fdca26"
             ],
             [
              1,
              "#f0f921"
             ]
            ],
            "type": "heatmapgl"
           }
          ],
          "histogram": [
           {
            "marker": {
             "pattern": {
              "fillmode": "overlay",
              "size": 10,
              "solidity": 0.2
             }
            },
            "type": "histogram"
           }
          ],
          "histogram2d": [
           {
            "colorbar": {
             "outlinewidth": 0,
             "ticks": ""
            },
            "colorscale": [
             [
              0,
              "#0d0887"
             ],
             [
              0.1111111111111111,
              "#46039f"
             ],
             [
              0.2222222222222222,
              "#7201a8"
             ],
             [
              0.3333333333333333,
              "#9c179e"
             ],
             [
              0.4444444444444444,
              "#bd3786"
             ],
             [
              0.5555555555555556,
              "#d8576b"
             ],
             [
              0.6666666666666666,
              "#ed7953"
             ],
             [
              0.7777777777777778,
              "#fb9f3a"
             ],
             [
              0.8888888888888888,
              "#fdca26"
             ],
             [
              1,
              "#f0f921"
             ]
            ],
            "type": "histogram2d"
           }
          ],
          "histogram2dcontour": [
           {
            "colorbar": {
             "outlinewidth": 0,
             "ticks": ""
            },
            "colorscale": [
             [
              0,
              "#0d0887"
             ],
             [
              0.1111111111111111,
              "#46039f"
             ],
             [
              0.2222222222222222,
              "#7201a8"
             ],
             [
              0.3333333333333333,
              "#9c179e"
             ],
             [
              0.4444444444444444,
              "#bd3786"
             ],
             [
              0.5555555555555556,
              "#d8576b"
             ],
             [
              0.6666666666666666,
              "#ed7953"
             ],
             [
              0.7777777777777778,
              "#fb9f3a"
             ],
             [
              0.8888888888888888,
              "#fdca26"
             ],
             [
              1,
              "#f0f921"
             ]
            ],
            "type": "histogram2dcontour"
           }
          ],
          "mesh3d": [
           {
            "colorbar": {
             "outlinewidth": 0,
             "ticks": ""
            },
            "type": "mesh3d"
           }
          ],
          "parcoords": [
           {
            "line": {
             "colorbar": {
              "outlinewidth": 0,
              "ticks": ""
             }
            },
            "type": "parcoords"
           }
          ],
          "pie": [
           {
            "automargin": true,
            "type": "pie"
           }
          ],
          "scatter": [
           {
            "fillpattern": {
             "fillmode": "overlay",
             "size": 10,
             "solidity": 0.2
            },
            "type": "scatter"
           }
          ],
          "scatter3d": [
           {
            "line": {
             "colorbar": {
              "outlinewidth": 0,
              "ticks": ""
             }
            },
            "marker": {
             "colorbar": {
              "outlinewidth": 0,
              "ticks": ""
             }
            },
            "type": "scatter3d"
           }
          ],
          "scattercarpet": [
           {
            "marker": {
             "colorbar": {
              "outlinewidth": 0,
              "ticks": ""
             }
            },
            "type": "scattercarpet"
           }
          ],
          "scattergeo": [
           {
            "marker": {
             "colorbar": {
              "outlinewidth": 0,
              "ticks": ""
             }
            },
            "type": "scattergeo"
           }
          ],
          "scattergl": [
           {
            "marker": {
             "colorbar": {
              "outlinewidth": 0,
              "ticks": ""
             }
            },
            "type": "scattergl"
           }
          ],
          "scattermapbox": [
           {
            "marker": {
             "colorbar": {
              "outlinewidth": 0,
              "ticks": ""
             }
            },
            "type": "scattermapbox"
           }
          ],
          "scatterpolar": [
           {
            "marker": {
             "colorbar": {
              "outlinewidth": 0,
              "ticks": ""
             }
            },
            "type": "scatterpolar"
           }
          ],
          "scatterpolargl": [
           {
            "marker": {
             "colorbar": {
              "outlinewidth": 0,
              "ticks": ""
             }
            },
            "type": "scatterpolargl"
           }
          ],
          "scatterternary": [
           {
            "marker": {
             "colorbar": {
              "outlinewidth": 0,
              "ticks": ""
             }
            },
            "type": "scatterternary"
           }
          ],
          "surface": [
           {
            "colorbar": {
             "outlinewidth": 0,
             "ticks": ""
            },
            "colorscale": [
             [
              0,
              "#0d0887"
             ],
             [
              0.1111111111111111,
              "#46039f"
             ],
             [
              0.2222222222222222,
              "#7201a8"
             ],
             [
              0.3333333333333333,
              "#9c179e"
             ],
             [
              0.4444444444444444,
              "#bd3786"
             ],
             [
              0.5555555555555556,
              "#d8576b"
             ],
             [
              0.6666666666666666,
              "#ed7953"
             ],
             [
              0.7777777777777778,
              "#fb9f3a"
             ],
             [
              0.8888888888888888,
              "#fdca26"
             ],
             [
              1,
              "#f0f921"
             ]
            ],
            "type": "surface"
           }
          ],
          "table": [
           {
            "cells": {
             "fill": {
              "color": "#EBF0F8"
             },
             "line": {
              "color": "white"
             }
            },
            "header": {
             "fill": {
              "color": "#C8D4E3"
             },
             "line": {
              "color": "white"
             }
            },
            "type": "table"
           }
          ]
         },
         "layout": {
          "annotationdefaults": {
           "arrowcolor": "#2a3f5f",
           "arrowhead": 0,
           "arrowwidth": 1
          },
          "autotypenumbers": "strict",
          "coloraxis": {
           "colorbar": {
            "outlinewidth": 0,
            "ticks": ""
           }
          },
          "colorscale": {
           "diverging": [
            [
             0,
             "#8e0152"
            ],
            [
             0.1,
             "#c51b7d"
            ],
            [
             0.2,
             "#de77ae"
            ],
            [
             0.3,
             "#f1b6da"
            ],
            [
             0.4,
             "#fde0ef"
            ],
            [
             0.5,
             "#f7f7f7"
            ],
            [
             0.6,
             "#e6f5d0"
            ],
            [
             0.7,
             "#b8e186"
            ],
            [
             0.8,
             "#7fbc41"
            ],
            [
             0.9,
             "#4d9221"
            ],
            [
             1,
             "#276419"
            ]
           ],
           "sequential": [
            [
             0,
             "#0d0887"
            ],
            [
             0.1111111111111111,
             "#46039f"
            ],
            [
             0.2222222222222222,
             "#7201a8"
            ],
            [
             0.3333333333333333,
             "#9c179e"
            ],
            [
             0.4444444444444444,
             "#bd3786"
            ],
            [
             0.5555555555555556,
             "#d8576b"
            ],
            [
             0.6666666666666666,
             "#ed7953"
            ],
            [
             0.7777777777777778,
             "#fb9f3a"
            ],
            [
             0.8888888888888888,
             "#fdca26"
            ],
            [
             1,
             "#f0f921"
            ]
           ],
           "sequentialminus": [
            [
             0,
             "#0d0887"
            ],
            [
             0.1111111111111111,
             "#46039f"
            ],
            [
             0.2222222222222222,
             "#7201a8"
            ],
            [
             0.3333333333333333,
             "#9c179e"
            ],
            [
             0.4444444444444444,
             "#bd3786"
            ],
            [
             0.5555555555555556,
             "#d8576b"
            ],
            [
             0.6666666666666666,
             "#ed7953"
            ],
            [
             0.7777777777777778,
             "#fb9f3a"
            ],
            [
             0.8888888888888888,
             "#fdca26"
            ],
            [
             1,
             "#f0f921"
            ]
           ]
          },
          "colorway": [
           "#636efa",
           "#EF553B",
           "#00cc96",
           "#ab63fa",
           "#FFA15A",
           "#19d3f3",
           "#FF6692",
           "#B6E880",
           "#FF97FF",
           "#FECB52"
          ],
          "font": {
           "color": "#2a3f5f"
          },
          "geo": {
           "bgcolor": "white",
           "lakecolor": "white",
           "landcolor": "#E5ECF6",
           "showlakes": true,
           "showland": true,
           "subunitcolor": "white"
          },
          "hoverlabel": {
           "align": "left"
          },
          "hovermode": "closest",
          "mapbox": {
           "style": "light"
          },
          "paper_bgcolor": "white",
          "plot_bgcolor": "#E5ECF6",
          "polar": {
           "angularaxis": {
            "gridcolor": "white",
            "linecolor": "white",
            "ticks": ""
           },
           "bgcolor": "#E5ECF6",
           "radialaxis": {
            "gridcolor": "white",
            "linecolor": "white",
            "ticks": ""
           }
          },
          "scene": {
           "xaxis": {
            "backgroundcolor": "#E5ECF6",
            "gridcolor": "white",
            "gridwidth": 2,
            "linecolor": "white",
            "showbackground": true,
            "ticks": "",
            "zerolinecolor": "white"
           },
           "yaxis": {
            "backgroundcolor": "#E5ECF6",
            "gridcolor": "white",
            "gridwidth": 2,
            "linecolor": "white",
            "showbackground": true,
            "ticks": "",
            "zerolinecolor": "white"
           },
           "zaxis": {
            "backgroundcolor": "#E5ECF6",
            "gridcolor": "white",
            "gridwidth": 2,
            "linecolor": "white",
            "showbackground": true,
            "ticks": "",
            "zerolinecolor": "white"
           }
          },
          "shapedefaults": {
           "line": {
            "color": "#2a3f5f"
           }
          },
          "ternary": {
           "aaxis": {
            "gridcolor": "white",
            "linecolor": "white",
            "ticks": ""
           },
           "baxis": {
            "gridcolor": "white",
            "linecolor": "white",
            "ticks": ""
           },
           "bgcolor": "#E5ECF6",
           "caxis": {
            "gridcolor": "white",
            "linecolor": "white",
            "ticks": ""
           }
          },
          "title": {
           "x": 0.05
          },
          "xaxis": {
           "automargin": true,
           "gridcolor": "white",
           "linecolor": "white",
           "ticks": "",
           "title": {
            "standoff": 15
           },
           "zerolinecolor": "white",
           "zerolinewidth": 2
          },
          "yaxis": {
           "automargin": true,
           "gridcolor": "white",
           "linecolor": "white",
           "ticks": "",
           "title": {
            "standoff": 15
           },
           "zerolinecolor": "white",
           "zerolinewidth": 2
          }
         }
        },
        "title": {
         "text": "Evoluation in time of state 0"
        },
        "xaxis": {
         "anchor": "y",
         "domain": [
          0,
          1
         ],
         "title": {
          "text": "x"
         }
        },
        "yaxis": {
         "anchor": "x",
         "domain": [
          0,
          1
         ],
         "title": {
          "text": "y"
         }
        }
       }
      }
     },
     "metadata": {},
     "output_type": "display_data"
    }
   ],
   "source": [
    "import plotly.express as px\n",
    "state = 0\n",
    "fig = px.scatter (\n",
    "    title = f'Evoluation in time of state {state}',\n",
    "    x = results.time_points,\n",
    "    y = [\n",
    "            results.GetStateEvaluationResult(state,i).mean\n",
    "            for i in range(results.GetNumberOfEvaluations())\n",
    "        ]\n",
    ")\n",
    "fig.show()"
   ]
  },
  {
   "cell_type": "code",
   "execution_count": 6,
   "id": "407ae59d-0e38-4f1d-bbf3-4a8326f5bc4a",
   "metadata": {},
   "outputs": [
    {
     "data": {
      "application/vnd.plotly.v1+json": {
       "config": {
        "plotlyServerURL": "https://plot.ly"
       },
       "data": [
        {
         "hovertemplate": "state=0<br>time=%{x}<br>mean=%{y}<extra></extra>",
         "legendgroup": "0",
         "line": {
          "color": "#636efa",
          "dash": "solid"
         },
         "marker": {
          "symbol": "circle"
         },
         "mode": "lines+markers",
         "name": "0",
         "orientation": "v",
         "showlegend": true,
         "type": "scatter",
         "x": [
          1,
          2,
          3,
          4,
          5,
          6,
          7,
          8,
          9,
          10,
          11,
          12,
          13,
          14,
          15,
          16,
          17,
          18,
          19,
          20,
          21,
          22,
          23,
          24,
          25,
          26,
          27,
          28,
          29,
          30,
          31,
          32,
          33,
          34,
          35,
          36,
          37,
          38,
          39,
          40,
          41,
          42,
          43,
          44,
          45,
          46,
          47,
          48,
          49,
          50,
          51,
          52,
          53,
          54,
          55,
          56,
          57,
          58,
          59,
          60,
          61,
          62,
          63,
          64,
          65,
          66,
          67,
          68,
          69,
          70,
          71,
          72,
          73,
          74,
          75,
          76,
          77,
          78,
          79,
          80,
          81,
          82,
          83,
          84,
          85,
          86,
          87,
          88,
          89,
          90,
          91,
          92,
          93,
          94,
          95,
          96,
          97,
          98,
          99,
          100
         ],
         "xaxis": "x",
         "y": [
          0.6768980026245117,
          1.694009780883789,
          1.7261574268341064,
          2.0564627647399902,
          1.9169079065322876,
          4.116541385650635,
          3.724886417388916,
          3.360771417617798,
          3.134467601776123,
          3.9789605140686035,
          5.065995693206787,
          5.14774751663208,
          4.268877983093262,
          3.3850882053375244,
          3.3207297325134277,
          3.1797564029693604,
          2.392244577407837,
          3.0504157543182373,
          2.5371267795562744,
          2.7707996368408203,
          2.2974188327789307,
          3.1165502071380615,
          1.644254446029663,
          -1.9948315620422363,
          -1.8467885255813599,
          -2.841069221496582,
          -1.7000610828399658,
          -2.2181034088134766,
          -3.3343987464904785,
          -2.197023868560791,
          -2.638535499572754,
          -2.608107328414917,
          -1.774560809135437,
          -1.8480483293533325,
          -1.1821677684783936,
          -1.909600019454956,
          -1.7702248096466064,
          -3.2747855186462402,
          -3.803105354309082,
          -2.635455369949341,
          -1.2095448970794678,
          -0.6387060284614563,
          -1.06802237033844,
          -0.2257295846939087,
          -1.2232731580734253,
          -1.4612114429473877,
          -2.87104868888855,
          -3.1008591651916504,
          -2.2750415802001953,
          -3.0802366733551025,
          -2.125277280807495,
          -2.9343228340148926,
          -2.952249526977539,
          -1.7139426469802856,
          -1.6316112279891968,
          0.6843270063400269,
          0.8384842872619629,
          0.9199187755584717,
          0.48642921447753906,
          -0.6517859697341919,
          -1.3618950843811035,
          -0.06061434745788574,
          -0.7843337655067444,
          -1.7132954597473145,
          -1.0209163427352905,
          -0.30632442235946655,
          0.6725192070007324,
          0.9621785879135132,
          1.7200703620910645,
          1.7739624977111816,
          1.597522497177124,
          0.5479758977890015,
          -0.45504605770111084,
          -1.0651202201843262,
          -0.8753706812858582,
          -1.1065635681152344,
          -1.5525773763656616,
          -1.1411405801773071,
          -1.7997946739196777,
          -1.6507827043533325,
          -1.0269091129302979,
          -0.28684747219085693,
          1.0052629709243774,
          1.1815249919891357,
          0.9671738147735596,
          2.032132148742676,
          4.445591926574707,
          2.3281571865081787,
          1.8635536432266235,
          1.9136852025985718,
          2.965076446533203,
          3.6659207344055176,
          3.8233702182769775,
          3.682002067565918,
          4.596141338348389,
          3.910473346710205,
          3.69694185256958,
          3.7202353477478027,
          3.516988754272461,
          4.920929431915283
         ],
         "yaxis": "y"
        },
        {
         "hovertemplate": "state=1<br>time=%{x}<br>mean=%{y}<extra></extra>",
         "legendgroup": "1",
         "line": {
          "color": "#EF553B",
          "dash": "solid"
         },
         "marker": {
          "symbol": "circle"
         },
         "mode": "lines+markers",
         "name": "1",
         "orientation": "v",
         "showlegend": true,
         "type": "scatter",
         "x": [
          1,
          2,
          3,
          4,
          5,
          6,
          7,
          8,
          9,
          10,
          11,
          12,
          13,
          14,
          15,
          16,
          17,
          18,
          19,
          20,
          21,
          22,
          23,
          24,
          25,
          26,
          27,
          28,
          29,
          30,
          31,
          32,
          33,
          34,
          35,
          36,
          37,
          38,
          39,
          40,
          41,
          42,
          43,
          44,
          45,
          46,
          47,
          48,
          49,
          50,
          51,
          52,
          53,
          54,
          55,
          56,
          57,
          58,
          59,
          60,
          61,
          62,
          63,
          64,
          65,
          66,
          67,
          68,
          69,
          70,
          71,
          72,
          73,
          74,
          75,
          76,
          77,
          78,
          79,
          80,
          81,
          82,
          83,
          84,
          85,
          86,
          87,
          88,
          89,
          90,
          91,
          92,
          93,
          94,
          95,
          96,
          97,
          98,
          99,
          100
         ],
         "xaxis": "x",
         "y": [
          -1.6785809993743896,
          -0.9672290086746216,
          0.6208204030990601,
          2.121537446975708,
          2.497178077697754,
          2.7471585273742676,
          3.3120617866516113,
          3.9616646766662598,
          5.150531768798828,
          4.8417229652404785,
          5.717353820800781,
          4.68112850189209,
          4.777712821960449,
          4.74364709854126,
          5.464521408081055,
          5.914310455322266,
          6.689085006713867,
          7.471057415008545,
          7.930858135223389,
          7.985355854034424,
          6.6245245933532715,
          6.55033540725708,
          7.364840030670166,
          7.137152194976807,
          7.4047932624816895,
          7.700385093688965,
          9.333150863647461,
          8.044975280761719,
          8.845865249633789,
          8.13200569152832,
          9.810080528259277,
          9.663416862487793,
          8.909073829650879,
          7.890215873718262,
          6.635149002075195,
          7.184554100036621,
          6.7965192794799805,
          6.134471416473389,
          6.742772579193115,
          6.407482147216797,
          5.869431972503662,
          5.034649848937988,
          5.677005767822266,
          7.278968811035156,
          6.802216529846191,
          6.49311637878418,
          5.731884479522705,
          8.297804832458496,
          9.02849006652832,
          9.465804100036621,
          11.567365646362305,
          11.758092880249023,
          10.97703742980957,
          9.809577941894531,
          9.083380699157715,
          8.187074661254883,
          6.053168773651123,
          4.675638198852539,
          3.169506549835205,
          2.583714485168457,
          2.649996280670166,
          2.1996381282806396,
          1.2859740257263184,
          1.123138666152954,
          0.06635940074920654,
          1.169745683670044,
          0.5382225513458252,
          2.606605291366577,
          1.641714096069336,
          1.001645565032959,
          0.5255221128463745,
          -1.14497971534729,
          -1.759418249130249,
          -2.2170939445495605,
          -2.5374810695648193,
          -2.4793167114257812,
          -0.9304726123809814,
          1.1368725299835205,
          1.7633004188537598,
          1.0337845087051392,
          0.13412415981292725,
          -0.9166587591171265,
          -1.428044319152832,
          -2.6245005130767822,
          -1.4581091403961182,
          -0.8149036765098572,
          -1.4336328506469727,
          0.26973581314086914,
          0.4223417043685913,
          0.2016150802373886,
          -2.077871084213257,
          -2.342075824737549,
          -1.454698085784912,
          -0.7991492748260498,
          -1.4386825561523438,
          -1.5966790914535522,
          -1.9289960861206055,
          -2.879581928253174,
          -2.235565662384033,
          -0.36239612102508545
         ],
         "yaxis": "y"
        },
        {
         "hovertemplate": "state=2<br>time=%{x}<br>mean=%{y}<extra></extra>",
         "legendgroup": "2",
         "line": {
          "color": "#00cc96",
          "dash": "solid"
         },
         "marker": {
          "symbol": "circle"
         },
         "mode": "lines+markers",
         "name": "2",
         "orientation": "v",
         "showlegend": true,
         "type": "scatter",
         "x": [
          1,
          2,
          3,
          4,
          5,
          6,
          7,
          8,
          9,
          10,
          11,
          12,
          13,
          14,
          15,
          16,
          17,
          18,
          19,
          20,
          21,
          22,
          23,
          24,
          25,
          26,
          27,
          28,
          29,
          30,
          31,
          32,
          33,
          34,
          35,
          36,
          37,
          38,
          39,
          40,
          41,
          42,
          43,
          44,
          45,
          46,
          47,
          48,
          49,
          50,
          51,
          52,
          53,
          54,
          55,
          56,
          57,
          58,
          59,
          60,
          61,
          62,
          63,
          64,
          65,
          66,
          67,
          68,
          69,
          70,
          71,
          72,
          73,
          74,
          75,
          76,
          77,
          78,
          79,
          80,
          81,
          82,
          83,
          84,
          85,
          86,
          87,
          88,
          89,
          90,
          91,
          92,
          93,
          94,
          95,
          96,
          97,
          98,
          99,
          100
         ],
         "xaxis": "x",
         "y": [
          -0.5695404410362244,
          -0.6418482661247253,
          -0.3906053602695465,
          0.024135291576385498,
          -1.337458610534668,
          0.06930708885192871,
          -0.0542483851313591,
          -0.7306860089302063,
          -1.1949660778045654,
          -3.504422903060913,
          -3.4651036262512207,
          -3.414215564727783,
          -1.832891821861267,
          0.12740576267242432,
          -0.026430606842041016,
          0.08303195238113403,
          -0.6393699049949646,
          -2.091764211654663,
          -2.9603257179260254,
          -3.6167638301849365,
          -3.8255434036254883,
          -3.4543981552124023,
          -4.177269458770752,
          -2.7355127334594727,
          -2.7159788608551025,
          -3.1420843601226807,
          -3.4039885997772217,
          -4.567878723144531,
          -3.1209702491760254,
          -3.296553373336792,
          -2.0414106845855713,
          -1.6610372066497803,
          -1.985611915588379,
          -2.7259087562561035,
          -2.527177333831787,
          -3.1392908096313477,
          -4.0885162353515625,
          -5.3507914543151855,
          -5.611579418182373,
          -7.378894805908203,
          -7.040428638458252,
          -8.297012329101562,
          -9.26843547821045,
          -10.22026538848877,
          -8.946802139282227,
          -9.900506973266602,
          -9.896730422973633,
          -9.573108673095703,
          -7.739007949829102,
          -7.0939836502075195,
          -6.394314289093018,
          -5.515155792236328,
          -6.308318614959717,
          -5.971031188964844,
          -5.661107540130615,
          -6.533875942230225,
          -5.706540107727051,
          -6.025338172912598,
          -6.955799579620361,
          -6.29660701751709,
          -5.465707778930664,
          -4.5584869384765625,
          -3.218097686767578,
          -3.206524133682251,
          -4.322303771972656,
          -4.729861736297607,
          -5.19027853012085,
          -3.5745835304260254,
          -2.026517391204834,
          -4.0757951736450195,
          -3.1938278675079346,
          -3.8314051628112793,
          -4.249161243438721,
          -4.323925971984863,
          -2.5911641120910645,
          -3.405728816986084,
          -3.1463990211486816,
          -3.7470617294311523,
          -2.7084736824035645,
          -2.4364471435546875,
          -2.300722360610962,
          -0.7135159969329834,
          -1.21592378616333,
          -0.96952885389328,
          0.49256402254104614,
          -1.7601208686828613,
          -2.210881471633911,
          -4.08696174621582,
          -3.180893659591675,
          -4.652724742889404,
          -4.78528356552124,
          -4.492173671722412,
          -5.78474235534668,
          -5.257524490356445,
          -5.271556377410889,
          -3.755702018737793,
          -3.967576503753662,
          -4.322306156158447,
          -4.82107400894165,
          -6.753011703491211
         ],
         "yaxis": "y"
        },
        {
         "hovertemplate": "state=3<br>time=%{x}<br>mean=%{y}<extra></extra>",
         "legendgroup": "3",
         "line": {
          "color": "#ab63fa",
          "dash": "solid"
         },
         "marker": {
          "symbol": "circle"
         },
         "mode": "lines+markers",
         "name": "3",
         "orientation": "v",
         "showlegend": true,
         "type": "scatter",
         "x": [
          1,
          2,
          3,
          4,
          5,
          6,
          7,
          8,
          9,
          10,
          11,
          12,
          13,
          14,
          15,
          16,
          17,
          18,
          19,
          20,
          21,
          22,
          23,
          24,
          25,
          26,
          27,
          28,
          29,
          30,
          31,
          32,
          33,
          34,
          35,
          36,
          37,
          38,
          39,
          40,
          41,
          42,
          43,
          44,
          45,
          46,
          47,
          48,
          49,
          50,
          51,
          52,
          53,
          54,
          55,
          56,
          57,
          58,
          59,
          60,
          61,
          62,
          63,
          64,
          65,
          66,
          67,
          68,
          69,
          70,
          71,
          72,
          73,
          74,
          75,
          76,
          77,
          78,
          79,
          80,
          81,
          82,
          83,
          84,
          85,
          86,
          87,
          88,
          89,
          90,
          91,
          92,
          93,
          94,
          95,
          96,
          97,
          98,
          99,
          100
         ],
         "xaxis": "x",
         "y": [
          -0.40848734974861145,
          -0.4750182330608368,
          -1.8909084796905518,
          -2.7135801315307617,
          -3.539411783218384,
          -4.870680809020996,
          -3.6336166858673096,
          -3.4044811725616455,
          -3.291172742843628,
          -4.27426290512085,
          -5.942287445068359,
          -4.123525142669678,
          -3.6201376914978027,
          -3.663231372833252,
          -2.9727396965026855,
          -3.986368417739868,
          -4.74370002746582,
          -4.5170111656188965,
          -4.595475673675537,
          -5.102808952331543,
          -5.9108710289001465,
          -6.196374893188477,
          -7.565830707550049,
          -8.183219909667969,
          -9.470495223999023,
          -9.221556663513184,
          -8.486966133117676,
          -8.29757308959961,
          -7.141635894775391,
          -5.97641658782959,
          -4.712864398956299,
          -4.3560099601745605,
          -3.8649609088897705,
          -4.878393650054932,
          -4.759103775024414,
          -4.709287643432617,
          -4.7986602783203125,
          -4.354212760925293,
          -5.166903495788574,
          -5.948311805725098,
          -5.719644546508789,
          -5.958195209503174,
          -6.627143859863281,
          -5.881619930267334,
          -5.990598201751709,
          -6.550308704376221,
          -4.829685688018799,
          -3.9485177993774414,
          -3.6205410957336426,
          -4.623805999755859,
          -6.170960426330566,
          -6.67451286315918,
          -6.863622665405273,
          -7.015767574310303,
          -5.4725022315979,
          -4.939187049865723,
          -3.332786798477173,
          -3.6128005981445312,
          -3.3382773399353027,
          -1.3088903427124023,
          -2.109992265701294,
          -0.9602564573287964,
          1.4898022413253784,
          1.8796814680099487,
          1.5395638942718506,
          1.9471434354782104,
          2.8314599990844727,
          3.624343156814575,
          4.137914657592773,
          6.147891044616699,
          6.489223480224609,
          4.858765602111816,
          3.3471174240112305,
          3.936738967895508,
          4.803097724914551,
          5.160964488983154,
          2.555698871612549,
          1.3651129007339478,
          1.4389694929122925,
          1.9069175720214844,
          2.170572280883789,
          1.179512858390808,
          2.1467344760894775,
          1.6118755340576172,
          1.809213399887085,
          1.9295464754104614,
          2.487271547317505,
          3.7971279621124268,
          4.469985485076904,
          3.649899482727051,
          4.144630432128906,
          6.568854331970215,
          6.995756149291992,
          6.9521050453186035,
          8.671565055847168,
          8.05382251739502,
          6.39719295501709,
          7.530996799468994,
          7.5531325340271,
          8.803091049194336
         ],
         "yaxis": "y"
        },
        {
         "hovertemplate": "state=4<br>time=%{x}<br>mean=%{y}<extra></extra>",
         "legendgroup": "4",
         "line": {
          "color": "#FFA15A",
          "dash": "solid"
         },
         "marker": {
          "symbol": "circle"
         },
         "mode": "lines+markers",
         "name": "4",
         "orientation": "v",
         "showlegend": true,
         "type": "scatter",
         "x": [
          1,
          2,
          3,
          4,
          5,
          6,
          7,
          8,
          9,
          10,
          11,
          12,
          13,
          14,
          15,
          16,
          17,
          18,
          19,
          20,
          21,
          22,
          23,
          24,
          25,
          26,
          27,
          28,
          29,
          30,
          31,
          32,
          33,
          34,
          35,
          36,
          37,
          38,
          39,
          40,
          41,
          42,
          43,
          44,
          45,
          46,
          47,
          48,
          49,
          50,
          51,
          52,
          53,
          54,
          55,
          56,
          57,
          58,
          59,
          60,
          61,
          62,
          63,
          64,
          65,
          66,
          67,
          68,
          69,
          70,
          71,
          72,
          73,
          74,
          75,
          76,
          77,
          78,
          79,
          80,
          81,
          82,
          83,
          84,
          85,
          86,
          87,
          88,
          89,
          90,
          91,
          92,
          93,
          94,
          95,
          96,
          97,
          98,
          99,
          100
         ],
         "xaxis": "x",
         "y": [
          -0.6217549443244934,
          -0.6310977339744568,
          -1.3468341827392578,
          -1.3179665803909302,
          -0.15336179733276367,
          0.646034836769104,
          0.9107916355133057,
          -1.390002727508545,
          -1.7777541875839233,
          -2.2885797023773193,
          -1.9883291721343994,
          -1.094045877456665,
          0.6289088726043701,
          -0.7814780473709106,
          0.15941065549850464,
          0.6971175670623779,
          1.9247651100158691,
          2.5120413303375244,
          3.19191575050354,
          1.2764805555343628,
          0.19882023334503174,
          -0.6634063124656677,
          -0.9435351490974426,
          0.30306631326675415,
          -2.606574535369873,
          -2.6752867698669434,
          -2.2938694953918457,
          -3.0730016231536865,
          -2.0506529808044434,
          -2.2651619911193848,
          -2.520536184310913,
          -2.9897525310516357,
          -3.130640745162964,
          -2.270350217819214,
          -2.638862133026123,
          -1.915567398071289,
          -0.6223001480102539,
          -1.8322001695632935,
          -1.4818201065063477,
          -1.0723612308502197,
          -2.103878974914551,
          -2.2323966026306152,
          -1.8767502307891846,
          -2.729299545288086,
          -3.26497745513916,
          -3.658527135848999,
          -5.944262504577637,
          -6.159897804260254,
          -6.432203769683838,
          -6.356602668762207,
          -5.186777114868164,
          -4.722901344299316,
          -3.4556548595428467,
          -3.338892936706543,
          -4.3239336013793945,
          -6.828558921813965,
          -5.705000400543213,
          -4.202561378479004,
          -2.4566354751586914,
          -0.751266360282898,
          -1.018066167831421,
          -1.381611704826355,
          -0.36873650550842285,
          0.8571383953094482,
          -2.750075101852417,
          -3.926887035369873,
          -2.933486223220825,
          -3.710336208343506,
          -5.275923728942871,
          -3.707225799560547,
          -2.4251489639282227,
          -0.6733942031860352,
          -0.005379676818847656,
          -0.794588565826416,
          -0.2918272018432617,
          -1.093578577041626,
          -0.29017579555511475,
          1.5240709781646729,
          1.221769094467163,
          1.7003761529922485,
          -0.0919121503829956,
          1.1240880489349365,
          1.7936053276062012,
          2.303720474243164,
          3.1560239791870117,
          3.738107681274414,
          4.020659446716309,
          4.048767566680908,
          5.81001091003418,
          5.721900939941406,
          5.074556827545166,
          6.3175435066223145,
          4.207070350646973,
          4.960951328277588,
          5.195562839508057,
          4.854916095733643,
          5.192277431488037,
          6.407062530517578,
          7.750306129455566,
          5.619537353515625
         ],
         "yaxis": "y"
        },
        {
         "hovertemplate": "state=5<br>time=%{x}<br>mean=%{y}<extra></extra>",
         "legendgroup": "5",
         "line": {
          "color": "#19d3f3",
          "dash": "solid"
         },
         "marker": {
          "symbol": "circle"
         },
         "mode": "lines+markers",
         "name": "5",
         "orientation": "v",
         "showlegend": true,
         "type": "scatter",
         "x": [
          1,
          2,
          3,
          4,
          5,
          6,
          7,
          8,
          9,
          10,
          11,
          12,
          13,
          14,
          15,
          16,
          17,
          18,
          19,
          20,
          21,
          22,
          23,
          24,
          25,
          26,
          27,
          28,
          29,
          30,
          31,
          32,
          33,
          34,
          35,
          36,
          37,
          38,
          39,
          40,
          41,
          42,
          43,
          44,
          45,
          46,
          47,
          48,
          49,
          50,
          51,
          52,
          53,
          54,
          55,
          56,
          57,
          58,
          59,
          60,
          61,
          62,
          63,
          64,
          65,
          66,
          67,
          68,
          69,
          70,
          71,
          72,
          73,
          74,
          75,
          76,
          77,
          78,
          79,
          80,
          81,
          82,
          83,
          84,
          85,
          86,
          87,
          88,
          89,
          90,
          91,
          92,
          93,
          94,
          95,
          96,
          97,
          98,
          99,
          100
         ],
         "xaxis": "x",
         "y": [
          1.2309446334838867,
          0.5924044251441956,
          0.7292349338531494,
          0.3321830630302429,
          1.2815189361572266,
          1.3936245441436768,
          -0.26209938526153564,
          -0.37912747263908386,
          -0.23372802138328552,
          -1.8155449628829956,
          -1.2652788162231445,
          1.220588207244873,
          0.27271324396133423,
          0.09769600629806519,
          0.6902464628219604,
          2.101351261138916,
          0.9105067253112793,
          1.981268048286438,
          2.1950438022613525,
          2.312084436416626,
          0.8247740268707275,
          0.5731297731399536,
          1.1573885679244995,
          1.7299882173538208,
          1.5815644264221191,
          2.145845890045166,
          0.9451324939727783,
          1.8236331939697266,
          2.797609329223633,
          2.2781713008880615,
          0.3145723342895508,
          0.4835302233695984,
          1.9702856540679932,
          1.9939614534378052,
          0.8001517057418823,
          -0.7487735748291016,
          -0.04927092790603638,
          0.4995213747024536,
          -0.8493014574050903,
          -0.15060293674468994,
          1.4912817478179932,
          0.05856454372406006,
          1.1993167400360107,
          1.5668044090270996,
          0.5875132083892822,
          1.7287311553955078,
          0.7353546619415283,
          0.7336389422416687,
          0.5462687611579895,
          -0.7454202771186829,
          0.3444523215293884,
          0.4585500657558441,
          0.7973149418830872,
          1.9787440299987793,
          2.4946932792663574,
          2.275179624557495,
          2.152200937271118,
          1.469501256942749,
          1.361282467842102,
          0.8538371324539185,
          0.06332170963287354,
          1.5778905153274536,
          2.1724376678466797,
          2.430027484893799,
          3.2619893550872803,
          3.4971320629119873,
          3.4216954708099365,
          1.8071156740188599,
          1.1877270936965942,
          0.43183737993240356,
          -1.0255682468414307,
          -2.3186750411987305,
          -3.509385585784912,
          -3.1790013313293457,
          -3.1590826511383057,
          -6.300767421722412,
          -7.361840724945068,
          -7.787095546722412,
          -7.2478203773498535,
          -6.932739734649658,
          -7.990960121154785,
          -8.221762657165527,
          -9.695701599121094,
          -9.285755157470703,
          -9.050761222839355,
          -9.60643196105957,
          -10.368186950683594,
          -11.563788414001465,
          -12.786678314208984,
          -14.095273971557617,
          -15.153809547424316,
          -13.391035079956055,
          -13.677064895629883,
          -14.504745483398438,
          -13.813065528869629,
          -13.531061172485352,
          -12.117481231689453,
          -13.608100891113281,
          -13.431818008422852,
          -12.54172420501709
         ],
         "yaxis": "y"
        },
        {
         "hovertemplate": "state=6<br>time=%{x}<br>mean=%{y}<extra></extra>",
         "legendgroup": "6",
         "line": {
          "color": "#FF6692",
          "dash": "solid"
         },
         "marker": {
          "symbol": "circle"
         },
         "mode": "lines+markers",
         "name": "6",
         "orientation": "v",
         "showlegend": true,
         "type": "scatter",
         "x": [
          1,
          2,
          3,
          4,
          5,
          6,
          7,
          8,
          9,
          10,
          11,
          12,
          13,
          14,
          15,
          16,
          17,
          18,
          19,
          20,
          21,
          22,
          23,
          24,
          25,
          26,
          27,
          28,
          29,
          30,
          31,
          32,
          33,
          34,
          35,
          36,
          37,
          38,
          39,
          40,
          41,
          42,
          43,
          44,
          45,
          46,
          47,
          48,
          49,
          50,
          51,
          52,
          53,
          54,
          55,
          56,
          57,
          58,
          59,
          60,
          61,
          62,
          63,
          64,
          65,
          66,
          67,
          68,
          69,
          70,
          71,
          72,
          73,
          74,
          75,
          76,
          77,
          78,
          79,
          80,
          81,
          82,
          83,
          84,
          85,
          86,
          87,
          88,
          89,
          90,
          91,
          92,
          93,
          94,
          95,
          96,
          97,
          98,
          99,
          100
         ],
         "xaxis": "x",
         "y": [
          0.09494702517986298,
          -1.1978076696395874,
          -2.3896706104278564,
          -0.824974775314331,
          -1.6618489027023315,
          -5.074090003967285,
          -4.925655841827393,
          -5.720226764678955,
          -6.085858345031738,
          -3.784475326538086,
          -4.403213977813721,
          -4.892656326293945,
          -4.803211688995361,
          -5.877481460571289,
          -6.409156799316406,
          -7.814527988433838,
          -8.09528636932373,
          -8.859675407409668,
          -10.813368797302246,
          -11.309667587280273,
          -11.428040504455566,
          -12.196799278259277,
          -12.432088851928711,
          -12.5472412109375,
          -11.770490646362305,
          -10.733025550842285,
          -11.492196083068848,
          -10.43848705291748,
          -9.123581886291504,
          -10.121810913085938,
          -9.958319664001465,
          -9.91772174835205,
          -9.157757759094238,
          -8.836501121520996,
          -8.435332298278809,
          -8.253035545349121,
          -7.731851100921631,
          -7.167562007904053,
          -6.975656986236572,
          -7.348198890686035,
          -5.818355083465576,
          -6.100086688995361,
          -6.294167995452881,
          -5.287967681884766,
          -4.303370475769043,
          -2.905823230743408,
          -2.204457998275757,
          -1.149886965751648,
          -0.8330639600753784,
          -1.5594713687896729,
          -1.9009093046188354,
          -2.352198362350464,
          -2.259768486022949,
          -3.639617919921875,
          -3.0304746627807617,
          -3.4041683673858643,
          -3.581885576248169,
          -5.067183971405029,
          -3.76431941986084,
          -3.2175137996673584,
          -2.752699613571167,
          -3.137751340866089,
          -3.0749106407165527,
          -3.26208233833313,
          -1.7697978019714355,
          -1.4238190650939941,
          -2.3283751010894775,
          -2.656123638153076,
          -2.2580556869506836,
          -3.530457019805908,
          -2.177814245223999,
          -2.0248773097991943,
          -2.634338140487671,
          -2.3609066009521484,
          -2.5435245037078857,
          -1.903181791305542,
          -1.1647902727127075,
          -2.6961991786956787,
          -1.7532521486282349,
          -3.5970988273620605,
          -5.406190395355225,
          -6.583606243133545,
          -8.16776180267334,
          -7.282225131988525,
          -7.411993980407715,
          -8.800036430358887,
          -8.465664863586426,
          -8.703564643859863,
          -9.878949165344238,
          -8.158920288085938,
          -8.979000091552734,
          -9.19526195526123,
          -10.127631187438965,
          -8.61847972869873,
          -7.889174461364746,
          -9.190032958984375,
          -8.522083282470703,
          -9.666422843933105,
          -9.844097137451172,
          -9.656235694885254
         ],
         "yaxis": "y"
        },
        {
         "hovertemplate": "state=7<br>time=%{x}<br>mean=%{y}<extra></extra>",
         "legendgroup": "7",
         "line": {
          "color": "#B6E880",
          "dash": "solid"
         },
         "marker": {
          "symbol": "circle"
         },
         "mode": "lines+markers",
         "name": "7",
         "orientation": "v",
         "showlegend": true,
         "type": "scatter",
         "x": [
          1,
          2,
          3,
          4,
          5,
          6,
          7,
          8,
          9,
          10,
          11,
          12,
          13,
          14,
          15,
          16,
          17,
          18,
          19,
          20,
          21,
          22,
          23,
          24,
          25,
          26,
          27,
          28,
          29,
          30,
          31,
          32,
          33,
          34,
          35,
          36,
          37,
          38,
          39,
          40,
          41,
          42,
          43,
          44,
          45,
          46,
          47,
          48,
          49,
          50,
          51,
          52,
          53,
          54,
          55,
          56,
          57,
          58,
          59,
          60,
          61,
          62,
          63,
          64,
          65,
          66,
          67,
          68,
          69,
          70,
          71,
          72,
          73,
          74,
          75,
          76,
          77,
          78,
          79,
          80,
          81,
          82,
          83,
          84,
          85,
          86,
          87,
          88,
          89,
          90,
          91,
          92,
          93,
          94,
          95,
          96,
          97,
          98,
          99,
          100
         ],
         "xaxis": "x",
         "y": [
          1.7663196325302124,
          2.9467110633850098,
          1.4806040525436401,
          2.2095186710357666,
          2.231473684310913,
          1.524425745010376,
          0.562835156917572,
          0.010386884212493896,
          -0.3495779037475586,
          -1.0229557752609253,
          -1.9129045009613037,
          -1.703783392906189,
          -0.08754909038543701,
          -0.052308667451143265,
          -0.0034400857985019684,
          -1.911561131477356,
          -0.12849366664886475,
          -1.8133498430252075,
          -2.2768189907073975,
          -2.0536441802978516,
          -1.1530388593673706,
          1.7595292329788208,
          2.917534828186035,
          2.5574874877929688,
          4.079173564910889,
          2.993035316467285,
          2.104818344116211,
          2.732104778289795,
          1.97119140625,
          4.050840854644775,
          2.4276671409606934,
          2.8882930278778076,
          2.227393627166748,
          0.1089625358581543,
          -0.27546244859695435,
          -0.1167653352022171,
          1.0822890996932983,
          2.7144336700439453,
          1.5468147993087769,
          1.80942702293396,
          1.3809797763824463,
          1.0780308246612549,
          1.1017038822174072,
          2.127854585647583,
          3.161175012588501,
          3.109342336654663,
          3.824441909790039,
          2.8673863410949707,
          3.9142162799835205,
          3.6933064460754395,
          2.8323378562927246,
          2.6060681343078613,
          2.403050422668457,
          2.298936367034912,
          2.4886245727539062,
          1.7069780826568604,
          1.911905288696289,
          1.5545942783355713,
          0.06269979476928711,
          0.5700217485427856,
          0.9591013193130493,
          -0.18593955039978027,
          0.2738941013813019,
          0.0994827151298523,
          0.7845516204833984,
          0.7317860126495361,
          1.5621163845062256,
          0.4807472229003906,
          1.2566173076629639,
          -0.6756538152694702,
          -0.428600937128067,
          -0.17712506651878357,
          0.11731567978858948,
          0.005106024444103241,
          -0.0974516049027443,
          0.6805570721626282,
          0.6128348708152771,
          -0.8692639470100403,
          -0.5197802782058716,
          -2.3495066165924072,
          -2.304277181625366,
          -1.8172603845596313,
          -3.142152786254883,
          -4.072534561157227,
          -4.2722625732421875,
          -4.203364849090576,
          -3.9323408603668213,
          -5.20902681350708,
          -4.899062156677246,
          -5.627822399139404,
          -3.3709957599639893,
          -3.631014108657837,
          -3.4553565979003906,
          -3.542149066925049,
          -4.7767534255981445,
          -6.006590366363525,
          -5.343867778778076,
          -6.54694938659668,
          -6.868697643280029,
          -6.025421142578125
         ],
         "yaxis": "y"
        }
       ],
       "layout": {
        "legend": {
         "title": {
          "text": "state"
         },
         "tracegroupgap": 0
        },
        "margin": {
         "t": 60
        },
        "template": {
         "data": {
          "bar": [
           {
            "error_x": {
             "color": "#2a3f5f"
            },
            "error_y": {
             "color": "#2a3f5f"
            },
            "marker": {
             "line": {
              "color": "#E5ECF6",
              "width": 0.5
             },
             "pattern": {
              "fillmode": "overlay",
              "size": 10,
              "solidity": 0.2
             }
            },
            "type": "bar"
           }
          ],
          "barpolar": [
           {
            "marker": {
             "line": {
              "color": "#E5ECF6",
              "width": 0.5
             },
             "pattern": {
              "fillmode": "overlay",
              "size": 10,
              "solidity": 0.2
             }
            },
            "type": "barpolar"
           }
          ],
          "carpet": [
           {
            "aaxis": {
             "endlinecolor": "#2a3f5f",
             "gridcolor": "white",
             "linecolor": "white",
             "minorgridcolor": "white",
             "startlinecolor": "#2a3f5f"
            },
            "baxis": {
             "endlinecolor": "#2a3f5f",
             "gridcolor": "white",
             "linecolor": "white",
             "minorgridcolor": "white",
             "startlinecolor": "#2a3f5f"
            },
            "type": "carpet"
           }
          ],
          "choropleth": [
           {
            "colorbar": {
             "outlinewidth": 0,
             "ticks": ""
            },
            "type": "choropleth"
           }
          ],
          "contour": [
           {
            "colorbar": {
             "outlinewidth": 0,
             "ticks": ""
            },
            "colorscale": [
             [
              0,
              "#0d0887"
             ],
             [
              0.1111111111111111,
              "#46039f"
             ],
             [
              0.2222222222222222,
              "#7201a8"
             ],
             [
              0.3333333333333333,
              "#9c179e"
             ],
             [
              0.4444444444444444,
              "#bd3786"
             ],
             [
              0.5555555555555556,
              "#d8576b"
             ],
             [
              0.6666666666666666,
              "#ed7953"
             ],
             [
              0.7777777777777778,
              "#fb9f3a"
             ],
             [
              0.8888888888888888,
              "#fdca26"
             ],
             [
              1,
              "#f0f921"
             ]
            ],
            "type": "contour"
           }
          ],
          "contourcarpet": [
           {
            "colorbar": {
             "outlinewidth": 0,
             "ticks": ""
            },
            "type": "contourcarpet"
           }
          ],
          "heatmap": [
           {
            "colorbar": {
             "outlinewidth": 0,
             "ticks": ""
            },
            "colorscale": [
             [
              0,
              "#0d0887"
             ],
             [
              0.1111111111111111,
              "#46039f"
             ],
             [
              0.2222222222222222,
              "#7201a8"
             ],
             [
              0.3333333333333333,
              "#9c179e"
             ],
             [
              0.4444444444444444,
              "#bd3786"
             ],
             [
              0.5555555555555556,
              "#d8576b"
             ],
             [
              0.6666666666666666,
              "#ed7953"
             ],
             [
              0.7777777777777778,
              "#fb9f3a"
             ],
             [
              0.8888888888888888,
              "#fdca26"
             ],
             [
              1,
              "#f0f921"
             ]
            ],
            "type": "heatmap"
           }
          ],
          "heatmapgl": [
           {
            "colorbar": {
             "outlinewidth": 0,
             "ticks": ""
            },
            "colorscale": [
             [
              0,
              "#0d0887"
             ],
             [
              0.1111111111111111,
              "#46039f"
             ],
             [
              0.2222222222222222,
              "#7201a8"
             ],
             [
              0.3333333333333333,
              "#9c179e"
             ],
             [
              0.4444444444444444,
              "#bd3786"
             ],
             [
              0.5555555555555556,
              "#d8576b"
             ],
             [
              0.6666666666666666,
              "#ed7953"
             ],
             [
              0.7777777777777778,
              "#fb9f3a"
             ],
             [
              0.8888888888888888,
              "#fdca26"
             ],
             [
              1,
              "#f0f921"
             ]
            ],
            "type": "heatmapgl"
           }
          ],
          "histogram": [
           {
            "marker": {
             "pattern": {
              "fillmode": "overlay",
              "size": 10,
              "solidity": 0.2
             }
            },
            "type": "histogram"
           }
          ],
          "histogram2d": [
           {
            "colorbar": {
             "outlinewidth": 0,
             "ticks": ""
            },
            "colorscale": [
             [
              0,
              "#0d0887"
             ],
             [
              0.1111111111111111,
              "#46039f"
             ],
             [
              0.2222222222222222,
              "#7201a8"
             ],
             [
              0.3333333333333333,
              "#9c179e"
             ],
             [
              0.4444444444444444,
              "#bd3786"
             ],
             [
              0.5555555555555556,
              "#d8576b"
             ],
             [
              0.6666666666666666,
              "#ed7953"
             ],
             [
              0.7777777777777778,
              "#fb9f3a"
             ],
             [
              0.8888888888888888,
              "#fdca26"
             ],
             [
              1,
              "#f0f921"
             ]
            ],
            "type": "histogram2d"
           }
          ],
          "histogram2dcontour": [
           {
            "colorbar": {
             "outlinewidth": 0,
             "ticks": ""
            },
            "colorscale": [
             [
              0,
              "#0d0887"
             ],
             [
              0.1111111111111111,
              "#46039f"
             ],
             [
              0.2222222222222222,
              "#7201a8"
             ],
             [
              0.3333333333333333,
              "#9c179e"
             ],
             [
              0.4444444444444444,
              "#bd3786"
             ],
             [
              0.5555555555555556,
              "#d8576b"
             ],
             [
              0.6666666666666666,
              "#ed7953"
             ],
             [
              0.7777777777777778,
              "#fb9f3a"
             ],
             [
              0.8888888888888888,
              "#fdca26"
             ],
             [
              1,
              "#f0f921"
             ]
            ],
            "type": "histogram2dcontour"
           }
          ],
          "mesh3d": [
           {
            "colorbar": {
             "outlinewidth": 0,
             "ticks": ""
            },
            "type": "mesh3d"
           }
          ],
          "parcoords": [
           {
            "line": {
             "colorbar": {
              "outlinewidth": 0,
              "ticks": ""
             }
            },
            "type": "parcoords"
           }
          ],
          "pie": [
           {
            "automargin": true,
            "type": "pie"
           }
          ],
          "scatter": [
           {
            "fillpattern": {
             "fillmode": "overlay",
             "size": 10,
             "solidity": 0.2
            },
            "type": "scatter"
           }
          ],
          "scatter3d": [
           {
            "line": {
             "colorbar": {
              "outlinewidth": 0,
              "ticks": ""
             }
            },
            "marker": {
             "colorbar": {
              "outlinewidth": 0,
              "ticks": ""
             }
            },
            "type": "scatter3d"
           }
          ],
          "scattercarpet": [
           {
            "marker": {
             "colorbar": {
              "outlinewidth": 0,
              "ticks": ""
             }
            },
            "type": "scattercarpet"
           }
          ],
          "scattergeo": [
           {
            "marker": {
             "colorbar": {
              "outlinewidth": 0,
              "ticks": ""
             }
            },
            "type": "scattergeo"
           }
          ],
          "scattergl": [
           {
            "marker": {
             "colorbar": {
              "outlinewidth": 0,
              "ticks": ""
             }
            },
            "type": "scattergl"
           }
          ],
          "scattermapbox": [
           {
            "marker": {
             "colorbar": {
              "outlinewidth": 0,
              "ticks": ""
             }
            },
            "type": "scattermapbox"
           }
          ],
          "scatterpolar": [
           {
            "marker": {
             "colorbar": {
              "outlinewidth": 0,
              "ticks": ""
             }
            },
            "type": "scatterpolar"
           }
          ],
          "scatterpolargl": [
           {
            "marker": {
             "colorbar": {
              "outlinewidth": 0,
              "ticks": ""
             }
            },
            "type": "scatterpolargl"
           }
          ],
          "scatterternary": [
           {
            "marker": {
             "colorbar": {
              "outlinewidth": 0,
              "ticks": ""
             }
            },
            "type": "scatterternary"
           }
          ],
          "surface": [
           {
            "colorbar": {
             "outlinewidth": 0,
             "ticks": ""
            },
            "colorscale": [
             [
              0,
              "#0d0887"
             ],
             [
              0.1111111111111111,
              "#46039f"
             ],
             [
              0.2222222222222222,
              "#7201a8"
             ],
             [
              0.3333333333333333,
              "#9c179e"
             ],
             [
              0.4444444444444444,
              "#bd3786"
             ],
             [
              0.5555555555555556,
              "#d8576b"
             ],
             [
              0.6666666666666666,
              "#ed7953"
             ],
             [
              0.7777777777777778,
              "#fb9f3a"
             ],
             [
              0.8888888888888888,
              "#fdca26"
             ],
             [
              1,
              "#f0f921"
             ]
            ],
            "type": "surface"
           }
          ],
          "table": [
           {
            "cells": {
             "fill": {
              "color": "#EBF0F8"
             },
             "line": {
              "color": "white"
             }
            },
            "header": {
             "fill": {
              "color": "#C8D4E3"
             },
             "line": {
              "color": "white"
             }
            },
            "type": "table"
           }
          ]
         },
         "layout": {
          "annotationdefaults": {
           "arrowcolor": "#2a3f5f",
           "arrowhead": 0,
           "arrowwidth": 1
          },
          "autotypenumbers": "strict",
          "coloraxis": {
           "colorbar": {
            "outlinewidth": 0,
            "ticks": ""
           }
          },
          "colorscale": {
           "diverging": [
            [
             0,
             "#8e0152"
            ],
            [
             0.1,
             "#c51b7d"
            ],
            [
             0.2,
             "#de77ae"
            ],
            [
             0.3,
             "#f1b6da"
            ],
            [
             0.4,
             "#fde0ef"
            ],
            [
             0.5,
             "#f7f7f7"
            ],
            [
             0.6,
             "#e6f5d0"
            ],
            [
             0.7,
             "#b8e186"
            ],
            [
             0.8,
             "#7fbc41"
            ],
            [
             0.9,
             "#4d9221"
            ],
            [
             1,
             "#276419"
            ]
           ],
           "sequential": [
            [
             0,
             "#0d0887"
            ],
            [
             0.1111111111111111,
             "#46039f"
            ],
            [
             0.2222222222222222,
             "#7201a8"
            ],
            [
             0.3333333333333333,
             "#9c179e"
            ],
            [
             0.4444444444444444,
             "#bd3786"
            ],
            [
             0.5555555555555556,
             "#d8576b"
            ],
            [
             0.6666666666666666,
             "#ed7953"
            ],
            [
             0.7777777777777778,
             "#fb9f3a"
            ],
            [
             0.8888888888888888,
             "#fdca26"
            ],
            [
             1,
             "#f0f921"
            ]
           ],
           "sequentialminus": [
            [
             0,
             "#0d0887"
            ],
            [
             0.1111111111111111,
             "#46039f"
            ],
            [
             0.2222222222222222,
             "#7201a8"
            ],
            [
             0.3333333333333333,
             "#9c179e"
            ],
            [
             0.4444444444444444,
             "#bd3786"
            ],
            [
             0.5555555555555556,
             "#d8576b"
            ],
            [
             0.6666666666666666,
             "#ed7953"
            ],
            [
             0.7777777777777778,
             "#fb9f3a"
            ],
            [
             0.8888888888888888,
             "#fdca26"
            ],
            [
             1,
             "#f0f921"
            ]
           ]
          },
          "colorway": [
           "#636efa",
           "#EF553B",
           "#00cc96",
           "#ab63fa",
           "#FFA15A",
           "#19d3f3",
           "#FF6692",
           "#B6E880",
           "#FF97FF",
           "#FECB52"
          ],
          "font": {
           "color": "#2a3f5f"
          },
          "geo": {
           "bgcolor": "white",
           "lakecolor": "white",
           "landcolor": "#E5ECF6",
           "showlakes": true,
           "showland": true,
           "subunitcolor": "white"
          },
          "hoverlabel": {
           "align": "left"
          },
          "hovermode": "closest",
          "mapbox": {
           "style": "light"
          },
          "paper_bgcolor": "white",
          "plot_bgcolor": "#E5ECF6",
          "polar": {
           "angularaxis": {
            "gridcolor": "white",
            "linecolor": "white",
            "ticks": ""
           },
           "bgcolor": "#E5ECF6",
           "radialaxis": {
            "gridcolor": "white",
            "linecolor": "white",
            "ticks": ""
           }
          },
          "scene": {
           "xaxis": {
            "backgroundcolor": "#E5ECF6",
            "gridcolor": "white",
            "gridwidth": 2,
            "linecolor": "white",
            "showbackground": true,
            "ticks": "",
            "zerolinecolor": "white"
           },
           "yaxis": {
            "backgroundcolor": "#E5ECF6",
            "gridcolor": "white",
            "gridwidth": 2,
            "linecolor": "white",
            "showbackground": true,
            "ticks": "",
            "zerolinecolor": "white"
           },
           "zaxis": {
            "backgroundcolor": "#E5ECF6",
            "gridcolor": "white",
            "gridwidth": 2,
            "linecolor": "white",
            "showbackground": true,
            "ticks": "",
            "zerolinecolor": "white"
           }
          },
          "shapedefaults": {
           "line": {
            "color": "#2a3f5f"
           }
          },
          "ternary": {
           "aaxis": {
            "gridcolor": "white",
            "linecolor": "white",
            "ticks": ""
           },
           "baxis": {
            "gridcolor": "white",
            "linecolor": "white",
            "ticks": ""
           },
           "bgcolor": "#E5ECF6",
           "caxis": {
            "gridcolor": "white",
            "linecolor": "white",
            "ticks": ""
           }
          },
          "title": {
           "x": 0.05
          },
          "xaxis": {
           "automargin": true,
           "gridcolor": "white",
           "linecolor": "white",
           "ticks": "",
           "title": {
            "standoff": 15
           },
           "zerolinecolor": "white",
           "zerolinewidth": 2
          },
          "yaxis": {
           "automargin": true,
           "gridcolor": "white",
           "linecolor": "white",
           "ticks": "",
           "title": {
            "standoff": 15
           },
           "zerolinecolor": "white",
           "zerolinewidth": 2
          }
         }
        },
        "xaxis": {
         "anchor": "y",
         "domain": [
          0,
          1
         ],
         "title": {
          "text": "time"
         }
        },
        "yaxis": {
         "anchor": "x",
         "domain": [
          0,
          1
         ],
         "title": {
          "text": "mean"
         }
        }
       }
      }
     },
     "metadata": {},
     "output_type": "display_data"
    }
   ],
   "source": [
    "px.line(results.df(), x=\"time\", y=\"mean\", color='state',markers=True)"
   ]
  }
 ],
 "metadata": {
  "kernelspec": {
   "display_name": "Python 3",
   "language": "python",
   "name": "python3"
  },
  "language_info": {
   "codemirror_mode": {
    "name": "ipython",
    "version": 3
   },
   "file_extension": ".py",
   "mimetype": "text/x-python",
   "name": "python",
   "nbconvert_exporter": "python",
   "pygments_lexer": "ipython3",
   "version": "3.10.7"
  },
  "vscode": {
   "interpreter": {
    "hash": "916dbcbb3f70747c44a77c7bcd40155683ae19c65e1c03b4aa3499c5328201f1"
   }
  }
 },
 "nbformat": 4,
 "nbformat_minor": 5
}
