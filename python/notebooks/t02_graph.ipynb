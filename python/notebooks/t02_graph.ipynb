{
 "cells": [
  {
   "cell_type": "code",
   "execution_count": 1,
   "id": "c2bcaffe-1ae8-4981-acd6-b9ea959cd4e6",
   "metadata": {},
   "outputs": [],
   "source": [
    "from init import *"
   ]
  },
  {
   "cell_type": "code",
   "execution_count": 2,
   "id": "5a6711d1-64a2-42a9-b5d6-5a477b7faa66",
   "metadata": {},
   "outputs": [],
   "source": [
    "number_of_states = 8\n",
    "start_value = 0\n",
    "drift = 0\n",
    "diffusion = 1\n",
    "\n",
    "model = sdk.Model()\n",
    "model.TimeStart = 0\n",
    "model.TimeSteps = 100\n",
    "model.NumPaths = 1\n",
    "model.MemoryLimitKB = 100\n",
    "model.updaters.append(sdk.Updater(\n",
    "    name = \"IndependentGaussian\"\n",
    "))\n",
    "\n",
    "bm = []\n",
    "\n",
    "# Ask for the evaluation on each time step\n",
    "for i in range(number_of_states):\n",
    "    bm.append(model.Add(sdk.BrownianMotion(\n",
    "        start     = start_value,\n",
    "        drift     = drift,\n",
    "        diffusion = diffusion\n",
    "    ))._state)"
   ]
  },
  {
   "cell_type": "code",
   "execution_count": 3,
   "id": "7e16d5d8-9566-456e-a06b-1603b100cead",
   "metadata": {},
   "outputs": [],
   "source": [
    "dt = 1\n",
    "for i in range(model.TimeSteps+1):\n",
    "    model.evaluations.append(sdk.EvaluationPoint(model.TimeStart+i*dt))"
   ]
  },
  {
   "cell_type": "markdown",
   "id": "237ec6ab",
   "metadata": {},
   "source": [
    "### Model evaluation table of results\n",
    "The result of the model evaluation is a table of number_of_states*TimeSteps rows."
   ]
  },
  {
   "cell_type": "code",
   "execution_count": null,
   "id": "83d32fb3-be55-406e-ae33-375014843930",
   "metadata": {
    "scrolled": true
   },
   "outputs": [],
   "source": [
    "results = sdk.run (model, server)\n",
    "results.df().head()"
   ]
  },
  {
   "cell_type": "code",
   "execution_count": null,
   "id": "a925d6f9",
   "metadata": {},
   "outputs": [],
   "source": [
    "results.df().tail()"
   ]
  },
  {
   "cell_type": "code",
   "execution_count": null,
   "id": "6ec8876f-7a9e-4f8a-8cb5-047e6cf8648d",
   "metadata": {
    "tags": []
   },
   "outputs": [],
   "source": [
    "import plotly.express as px\n",
    "state = 0\n",
    "fig = px.scatter (\n",
    "    title = f'Evolution in time of the state {state}',\n",
    "    x = results.time_points,\n",
    "    y = [\n",
    "            results.GetStateEvaluationResult(bm[state],i).mean\n",
    "            for i in range(results.GetNumberOfEvaluations())\n",
    "        ]\n",
    ")\n",
    "fig.show()"
   ]
  },
  {
   "cell_type": "code",
   "execution_count": null,
   "id": "cdda3fe7",
   "metadata": {},
   "outputs": [],
   "source": [
    "results.df()"
   ]
  },
  {
   "cell_type": "code",
   "execution_count": null,
   "id": "407ae59d-0e38-4f1d-bbf3-4a8326f5bc4a",
   "metadata": {},
   "outputs": [],
   "source": [
    "px.line(results.df(), x=\"time\", y=\"mean\", color='state',markers=True)"
   ]
  },
  {
   "cell_type": "code",
   "execution_count": null,
   "id": "92d10616",
   "metadata": {},
   "outputs": [],
   "source": []
  }
 ],
 "metadata": {
  "kernelspec": {
   "display_name": "Python 3 (ipykernel)",
   "language": "python",
   "name": "python3"
  },
  "language_info": {
   "codemirror_mode": {
    "name": "ipython",
    "version": 3
   },
   "file_extension": ".py",
   "mimetype": "text/x-python",
   "name": "python",
   "nbconvert_exporter": "python",
   "pygments_lexer": "ipython3",
   "version": "3.10.12"
  },
  "vscode": {
   "interpreter": {
    "hash": "916dbcbb3f70747c44a77c7bcd40155683ae19c65e1c03b4aa3499c5328201f1"
   }
  }
 },
 "nbformat": 4,
 "nbformat_minor": 5
}
