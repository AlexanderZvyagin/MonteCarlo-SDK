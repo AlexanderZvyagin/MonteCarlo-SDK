{
 "cells": [
  {
   "cell_type": "code",
   "execution_count": 1,
   "id": "c2bcaffe-1ae8-4981-acd6-b9ea959cd4e6",
   "metadata": {},
   "outputs": [],
   "source": [
    "from init import *"
   ]
  },
  {
   "cell_type": "code",
   "execution_count": 2,
   "id": "5a6711d1-64a2-42a9-b5d6-5a477b7faa66",
   "metadata": {},
   "outputs": [],
   "source": [
    "number_of_states = 8\n",
    "start_value = 0\n",
    "drift = 0\n",
    "diffusion = 1\n",
    "\n",
    "model = sdk.Model()\n",
    "model.TimeStart = 0\n",
    "model.TimeSteps = 100\n",
    "model.NumPaths = 1\n",
    "model.MemoryLimitKB = 100\n",
    "model.updaters.append(sdk.Updater(\n",
    "    name = \"IndependentGaussian\"\n",
    "))\n",
    "for i in range(number_of_states):\n",
    "    model.updaters.append(sdk.Updater(\n",
    "        name = \"BrownianMotion\",\n",
    "        start = start_value,\n",
    "        args = [drift,diffusion]\n",
    "    ))"
   ]
  },
  {
   "cell_type": "code",
   "execution_count": 3,
   "id": "7e16d5d8-9566-456e-a06b-1603b100cead",
   "metadata": {},
   "outputs": [],
   "source": [
    "dt = 1\n",
    "for i in range(model.TimeSteps):\n",
    "    model.evaluations.append(sdk.EvaluationPoint(0,model.TimeStart+(i+1)*dt))"
   ]
  },
  {
   "cell_type": "code",
   "execution_count": 4,
   "id": "83d32fb3-be55-406e-ae33-375014843930",
   "metadata": {
    "scrolled": true
   },
   "outputs": [
    {
     "data": {
      "text/html": [
       "<div>\n",
       "<style scoped>\n",
       "    .dataframe tbody tr th:only-of-type {\n",
       "        vertical-align: middle;\n",
       "    }\n",
       "\n",
       "    .dataframe tbody tr th {\n",
       "        vertical-align: top;\n",
       "    }\n",
       "\n",
       "    .dataframe thead th {\n",
       "        text-align: right;\n",
       "    }\n",
       "</style>\n",
       "<table border=\"1\" class=\"dataframe\">\n",
       "  <thead>\n",
       "    <tr style=\"text-align: right;\">\n",
       "      <th></th>\n",
       "      <th>name</th>\n",
       "      <th>title</th>\n",
       "      <th>state</th>\n",
       "      <th>time</th>\n",
       "      <th>step</th>\n",
       "      <th>npaths</th>\n",
       "      <th>mean</th>\n",
       "      <th>mean_error</th>\n",
       "      <th>stddev</th>\n",
       "      <th>skewness</th>\n",
       "    </tr>\n",
       "  </thead>\n",
       "  <tbody>\n",
       "    <tr>\n",
       "      <th>0</th>\n",
       "      <td>BrownianMotion</td>\n",
       "      <td></td>\n",
       "      <td>0</td>\n",
       "      <td>1.0</td>\n",
       "      <td>1</td>\n",
       "      <td>1</td>\n",
       "      <td>-0.887641</td>\n",
       "      <td>None</td>\n",
       "      <td>None</td>\n",
       "      <td>None</td>\n",
       "    </tr>\n",
       "    <tr>\n",
       "      <th>1</th>\n",
       "      <td>BrownianMotion</td>\n",
       "      <td></td>\n",
       "      <td>1</td>\n",
       "      <td>1.0</td>\n",
       "      <td>1</td>\n",
       "      <td>1</td>\n",
       "      <td>-0.532296</td>\n",
       "      <td>None</td>\n",
       "      <td>None</td>\n",
       "      <td>None</td>\n",
       "    </tr>\n",
       "    <tr>\n",
       "      <th>2</th>\n",
       "      <td>BrownianMotion</td>\n",
       "      <td></td>\n",
       "      <td>2</td>\n",
       "      <td>1.0</td>\n",
       "      <td>1</td>\n",
       "      <td>1</td>\n",
       "      <td>0.756997</td>\n",
       "      <td>None</td>\n",
       "      <td>None</td>\n",
       "      <td>None</td>\n",
       "    </tr>\n",
       "    <tr>\n",
       "      <th>3</th>\n",
       "      <td>BrownianMotion</td>\n",
       "      <td></td>\n",
       "      <td>3</td>\n",
       "      <td>1.0</td>\n",
       "      <td>1</td>\n",
       "      <td>1</td>\n",
       "      <td>0.409147</td>\n",
       "      <td>None</td>\n",
       "      <td>None</td>\n",
       "      <td>None</td>\n",
       "    </tr>\n",
       "    <tr>\n",
       "      <th>4</th>\n",
       "      <td>BrownianMotion</td>\n",
       "      <td></td>\n",
       "      <td>4</td>\n",
       "      <td>1.0</td>\n",
       "      <td>1</td>\n",
       "      <td>1</td>\n",
       "      <td>1.251058</td>\n",
       "      <td>None</td>\n",
       "      <td>None</td>\n",
       "      <td>None</td>\n",
       "    </tr>\n",
       "  </tbody>\n",
       "</table>\n",
       "</div>"
      ],
      "text/plain": [
       "             name title  state  time  step  npaths      mean mean_error  \\\n",
       "0  BrownianMotion            0   1.0     1       1 -0.887641       None   \n",
       "1  BrownianMotion            1   1.0     1       1 -0.532296       None   \n",
       "2  BrownianMotion            2   1.0     1       1  0.756997       None   \n",
       "3  BrownianMotion            3   1.0     1       1  0.409147       None   \n",
       "4  BrownianMotion            4   1.0     1       1  1.251058       None   \n",
       "\n",
       "  stddev skewness  \n",
       "0   None     None  \n",
       "1   None     None  \n",
       "2   None     None  \n",
       "3   None     None  \n",
       "4   None     None  "
      ]
     },
     "execution_count": 4,
     "metadata": {},
     "output_type": "execute_result"
    }
   ],
   "source": [
    "results = run (model)\n",
    "results.df().head()"
   ]
  },
  {
   "cell_type": "code",
   "execution_count": 5,
   "id": "6ec8876f-7a9e-4f8a-8cb5-047e6cf8648d",
   "metadata": {
    "tags": []
   },
   "outputs": [
    {
     "data": {
      "application/vnd.plotly.v1+json": {
       "config": {
        "plotlyServerURL": "https://plot.ly"
       },
       "data": [
        {
         "hovertemplate": "x=%{x}<br>y=%{y}<extra></extra>",
         "legendgroup": "",
         "marker": {
          "color": "#636efa",
          "symbol": "circle"
         },
         "mode": "markers",
         "name": "",
         "orientation": "v",
         "showlegend": false,
         "type": "scatter",
         "x": [
          1,
          2,
          3,
          4,
          5,
          6,
          7,
          8,
          9,
          10,
          11,
          12,
          13,
          14,
          15,
          16,
          17,
          18,
          19,
          20,
          21,
          22,
          23,
          24,
          25,
          26,
          27,
          28,
          29,
          30,
          31,
          32,
          33,
          34,
          35,
          36,
          37,
          38,
          39,
          40,
          41,
          42,
          43,
          44,
          45,
          46,
          47,
          48,
          49,
          50,
          51,
          52,
          53,
          54,
          55,
          56,
          57,
          58,
          59,
          60,
          61,
          62,
          63,
          64,
          65,
          66,
          67,
          68,
          69,
          70,
          71,
          72,
          73,
          74,
          75,
          76,
          77,
          78,
          79,
          80,
          81,
          82,
          83,
          84,
          85,
          86,
          87,
          88,
          89,
          90,
          91,
          92,
          93,
          94,
          95,
          96,
          97,
          98,
          99,
          100
         ],
         "xaxis": "x",
         "y": [
          -0.8876408338546753,
          -2.006584644317627,
          -1.612292766571045,
          -2.410738945007324,
          -1.2182828187942505,
          -1.2613308429718018,
          -2.324031352996826,
          -1.899870753288269,
          -3.9308090209960938,
          -4.442900657653809,
          -5.308010101318359,
          -4.8912200927734375,
          -4.832644462585449,
          -3.69240665435791,
          -3.3984124660491943,
          -3.4278876781463623,
          -2.9939208030700684,
          -1.299049973487854,
          -0.5367811918258667,
          0.34989750385284424,
          -0.10537639260292053,
          0.3594915270805359,
          -0.7099689841270447,
          -1.0374962091445923,
          -0.1615477204322815,
          0.777454137802124,
          -0.7198116779327393,
          -2.1733787059783936,
          -1.4565870761871338,
          -1.1526987552642822,
          -0.8889753818511963,
          -0.14791131019592285,
          0.7592926025390625,
          0.26823773980140686,
          1.7348326444625854,
          1.8109347820281982,
          2.858811616897583,
          1.3033050298690796,
          1.0227550268173218,
          1.6528652906417847,
          2.298064947128296,
          1.1976853609085083,
          1.1377580165863037,
          2.5558464527130127,
          1.9877002239227295,
          1.1086111068725586,
          0.31987708806991577,
          0.4696693420410156,
          1.0630066394805908,
          2.8083643913269043,
          3.4128353595733643,
          4.1644182205200195,
          3.6236090660095215,
          4.530566215515137,
          5.85874080657959,
          4.425366401672363,
          3.200206756591797,
          3.5779759883880615,
          3.7928247451782227,
          3.0632457733154297,
          2.411756992340088,
          2.0167245864868164,
          1.3714699745178223,
          0.2944769859313965,
          0.3607824146747589,
          1.0464128255844116,
          1.5674291849136353,
          1.659945011138916,
          2.9472665786743164,
          2.375596523284912,
          3.410684108734131,
          2.7414917945861816,
          4.37142276763916,
          4.5071120262146,
          5.714784622192383,
          7.003640174865723,
          5.040239334106445,
          4.31510591506958,
          4.463684558868408,
          5.631908416748047,
          5.94608736038208,
          6.200639724731445,
          6.019905090332031,
          5.576626777648926,
          6.2580366134643555,
          7.3930840492248535,
          7.654791831970215,
          8.051070213317871,
          6.443241119384766,
          5.327970027923584,
          4.703372955322266,
          6.077254772186279,
          7.283259391784668,
          8.656635284423828,
          8.92559814453125,
          8.537087440490723,
          8.8331880569458,
          7.628011703491211,
          8.469825744628906,
          8.500288963317871
         ],
         "yaxis": "y"
        }
       ],
       "layout": {
        "legend": {
         "tracegroupgap": 0
        },
        "template": {
         "data": {
          "bar": [
           {
            "error_x": {
             "color": "#2a3f5f"
            },
            "error_y": {
             "color": "#2a3f5f"
            },
            "marker": {
             "line": {
              "color": "#E5ECF6",
              "width": 0.5
             },
             "pattern": {
              "fillmode": "overlay",
              "size": 10,
              "solidity": 0.2
             }
            },
            "type": "bar"
           }
          ],
          "barpolar": [
           {
            "marker": {
             "line": {
              "color": "#E5ECF6",
              "width": 0.5
             },
             "pattern": {
              "fillmode": "overlay",
              "size": 10,
              "solidity": 0.2
             }
            },
            "type": "barpolar"
           }
          ],
          "carpet": [
           {
            "aaxis": {
             "endlinecolor": "#2a3f5f",
             "gridcolor": "white",
             "linecolor": "white",
             "minorgridcolor": "white",
             "startlinecolor": "#2a3f5f"
            },
            "baxis": {
             "endlinecolor": "#2a3f5f",
             "gridcolor": "white",
             "linecolor": "white",
             "minorgridcolor": "white",
             "startlinecolor": "#2a3f5f"
            },
            "type": "carpet"
           }
          ],
          "choropleth": [
           {
            "colorbar": {
             "outlinewidth": 0,
             "ticks": ""
            },
            "type": "choropleth"
           }
          ],
          "contour": [
           {
            "colorbar": {
             "outlinewidth": 0,
             "ticks": ""
            },
            "colorscale": [
             [
              0,
              "#0d0887"
             ],
             [
              0.1111111111111111,
              "#46039f"
             ],
             [
              0.2222222222222222,
              "#7201a8"
             ],
             [
              0.3333333333333333,
              "#9c179e"
             ],
             [
              0.4444444444444444,
              "#bd3786"
             ],
             [
              0.5555555555555556,
              "#d8576b"
             ],
             [
              0.6666666666666666,
              "#ed7953"
             ],
             [
              0.7777777777777778,
              "#fb9f3a"
             ],
             [
              0.8888888888888888,
              "#fdca26"
             ],
             [
              1,
              "#f0f921"
             ]
            ],
            "type": "contour"
           }
          ],
          "contourcarpet": [
           {
            "colorbar": {
             "outlinewidth": 0,
             "ticks": ""
            },
            "type": "contourcarpet"
           }
          ],
          "heatmap": [
           {
            "colorbar": {
             "outlinewidth": 0,
             "ticks": ""
            },
            "colorscale": [
             [
              0,
              "#0d0887"
             ],
             [
              0.1111111111111111,
              "#46039f"
             ],
             [
              0.2222222222222222,
              "#7201a8"
             ],
             [
              0.3333333333333333,
              "#9c179e"
             ],
             [
              0.4444444444444444,
              "#bd3786"
             ],
             [
              0.5555555555555556,
              "#d8576b"
             ],
             [
              0.6666666666666666,
              "#ed7953"
             ],
             [
              0.7777777777777778,
              "#fb9f3a"
             ],
             [
              0.8888888888888888,
              "#fdca26"
             ],
             [
              1,
              "#f0f921"
             ]
            ],
            "type": "heatmap"
           }
          ],
          "heatmapgl": [
           {
            "colorbar": {
             "outlinewidth": 0,
             "ticks": ""
            },
            "colorscale": [
             [
              0,
              "#0d0887"
             ],
             [
              0.1111111111111111,
              "#46039f"
             ],
             [
              0.2222222222222222,
              "#7201a8"
             ],
             [
              0.3333333333333333,
              "#9c179e"
             ],
             [
              0.4444444444444444,
              "#bd3786"
             ],
             [
              0.5555555555555556,
              "#d8576b"
             ],
             [
              0.6666666666666666,
              "#ed7953"
             ],
             [
              0.7777777777777778,
              "#fb9f3a"
             ],
             [
              0.8888888888888888,
              "#fdca26"
             ],
             [
              1,
              "#f0f921"
             ]
            ],
            "type": "heatmapgl"
           }
          ],
          "histogram": [
           {
            "marker": {
             "pattern": {
              "fillmode": "overlay",
              "size": 10,
              "solidity": 0.2
             }
            },
            "type": "histogram"
           }
          ],
          "histogram2d": [
           {
            "colorbar": {
             "outlinewidth": 0,
             "ticks": ""
            },
            "colorscale": [
             [
              0,
              "#0d0887"
             ],
             [
              0.1111111111111111,
              "#46039f"
             ],
             [
              0.2222222222222222,
              "#7201a8"
             ],
             [
              0.3333333333333333,
              "#9c179e"
             ],
             [
              0.4444444444444444,
              "#bd3786"
             ],
             [
              0.5555555555555556,
              "#d8576b"
             ],
             [
              0.6666666666666666,
              "#ed7953"
             ],
             [
              0.7777777777777778,
              "#fb9f3a"
             ],
             [
              0.8888888888888888,
              "#fdca26"
             ],
             [
              1,
              "#f0f921"
             ]
            ],
            "type": "histogram2d"
           }
          ],
          "histogram2dcontour": [
           {
            "colorbar": {
             "outlinewidth": 0,
             "ticks": ""
            },
            "colorscale": [
             [
              0,
              "#0d0887"
             ],
             [
              0.1111111111111111,
              "#46039f"
             ],
             [
              0.2222222222222222,
              "#7201a8"
             ],
             [
              0.3333333333333333,
              "#9c179e"
             ],
             [
              0.4444444444444444,
              "#bd3786"
             ],
             [
              0.5555555555555556,
              "#d8576b"
             ],
             [
              0.6666666666666666,
              "#ed7953"
             ],
             [
              0.7777777777777778,
              "#fb9f3a"
             ],
             [
              0.8888888888888888,
              "#fdca26"
             ],
             [
              1,
              "#f0f921"
             ]
            ],
            "type": "histogram2dcontour"
           }
          ],
          "mesh3d": [
           {
            "colorbar": {
             "outlinewidth": 0,
             "ticks": ""
            },
            "type": "mesh3d"
           }
          ],
          "parcoords": [
           {
            "line": {
             "colorbar": {
              "outlinewidth": 0,
              "ticks": ""
             }
            },
            "type": "parcoords"
           }
          ],
          "pie": [
           {
            "automargin": true,
            "type": "pie"
           }
          ],
          "scatter": [
           {
            "fillpattern": {
             "fillmode": "overlay",
             "size": 10,
             "solidity": 0.2
            },
            "type": "scatter"
           }
          ],
          "scatter3d": [
           {
            "line": {
             "colorbar": {
              "outlinewidth": 0,
              "ticks": ""
             }
            },
            "marker": {
             "colorbar": {
              "outlinewidth": 0,
              "ticks": ""
             }
            },
            "type": "scatter3d"
           }
          ],
          "scattercarpet": [
           {
            "marker": {
             "colorbar": {
              "outlinewidth": 0,
              "ticks": ""
             }
            },
            "type": "scattercarpet"
           }
          ],
          "scattergeo": [
           {
            "marker": {
             "colorbar": {
              "outlinewidth": 0,
              "ticks": ""
             }
            },
            "type": "scattergeo"
           }
          ],
          "scattergl": [
           {
            "marker": {
             "colorbar": {
              "outlinewidth": 0,
              "ticks": ""
             }
            },
            "type": "scattergl"
           }
          ],
          "scattermapbox": [
           {
            "marker": {
             "colorbar": {
              "outlinewidth": 0,
              "ticks": ""
             }
            },
            "type": "scattermapbox"
           }
          ],
          "scatterpolar": [
           {
            "marker": {
             "colorbar": {
              "outlinewidth": 0,
              "ticks": ""
             }
            },
            "type": "scatterpolar"
           }
          ],
          "scatterpolargl": [
           {
            "marker": {
             "colorbar": {
              "outlinewidth": 0,
              "ticks": ""
             }
            },
            "type": "scatterpolargl"
           }
          ],
          "scatterternary": [
           {
            "marker": {
             "colorbar": {
              "outlinewidth": 0,
              "ticks": ""
             }
            },
            "type": "scatterternary"
           }
          ],
          "surface": [
           {
            "colorbar": {
             "outlinewidth": 0,
             "ticks": ""
            },
            "colorscale": [
             [
              0,
              "#0d0887"
             ],
             [
              0.1111111111111111,
              "#46039f"
             ],
             [
              0.2222222222222222,
              "#7201a8"
             ],
             [
              0.3333333333333333,
              "#9c179e"
             ],
             [
              0.4444444444444444,
              "#bd3786"
             ],
             [
              0.5555555555555556,
              "#d8576b"
             ],
             [
              0.6666666666666666,
              "#ed7953"
             ],
             [
              0.7777777777777778,
              "#fb9f3a"
             ],
             [
              0.8888888888888888,
              "#fdca26"
             ],
             [
              1,
              "#f0f921"
             ]
            ],
            "type": "surface"
           }
          ],
          "table": [
           {
            "cells": {
             "fill": {
              "color": "#EBF0F8"
             },
             "line": {
              "color": "white"
             }
            },
            "header": {
             "fill": {
              "color": "#C8D4E3"
             },
             "line": {
              "color": "white"
             }
            },
            "type": "table"
           }
          ]
         },
         "layout": {
          "annotationdefaults": {
           "arrowcolor": "#2a3f5f",
           "arrowhead": 0,
           "arrowwidth": 1
          },
          "autotypenumbers": "strict",
          "coloraxis": {
           "colorbar": {
            "outlinewidth": 0,
            "ticks": ""
           }
          },
          "colorscale": {
           "diverging": [
            [
             0,
             "#8e0152"
            ],
            [
             0.1,
             "#c51b7d"
            ],
            [
             0.2,
             "#de77ae"
            ],
            [
             0.3,
             "#f1b6da"
            ],
            [
             0.4,
             "#fde0ef"
            ],
            [
             0.5,
             "#f7f7f7"
            ],
            [
             0.6,
             "#e6f5d0"
            ],
            [
             0.7,
             "#b8e186"
            ],
            [
             0.8,
             "#7fbc41"
            ],
            [
             0.9,
             "#4d9221"
            ],
            [
             1,
             "#276419"
            ]
           ],
           "sequential": [
            [
             0,
             "#0d0887"
            ],
            [
             0.1111111111111111,
             "#46039f"
            ],
            [
             0.2222222222222222,
             "#7201a8"
            ],
            [
             0.3333333333333333,
             "#9c179e"
            ],
            [
             0.4444444444444444,
             "#bd3786"
            ],
            [
             0.5555555555555556,
             "#d8576b"
            ],
            [
             0.6666666666666666,
             "#ed7953"
            ],
            [
             0.7777777777777778,
             "#fb9f3a"
            ],
            [
             0.8888888888888888,
             "#fdca26"
            ],
            [
             1,
             "#f0f921"
            ]
           ],
           "sequentialminus": [
            [
             0,
             "#0d0887"
            ],
            [
             0.1111111111111111,
             "#46039f"
            ],
            [
             0.2222222222222222,
             "#7201a8"
            ],
            [
             0.3333333333333333,
             "#9c179e"
            ],
            [
             0.4444444444444444,
             "#bd3786"
            ],
            [
             0.5555555555555556,
             "#d8576b"
            ],
            [
             0.6666666666666666,
             "#ed7953"
            ],
            [
             0.7777777777777778,
             "#fb9f3a"
            ],
            [
             0.8888888888888888,
             "#fdca26"
            ],
            [
             1,
             "#f0f921"
            ]
           ]
          },
          "colorway": [
           "#636efa",
           "#EF553B",
           "#00cc96",
           "#ab63fa",
           "#FFA15A",
           "#19d3f3",
           "#FF6692",
           "#B6E880",
           "#FF97FF",
           "#FECB52"
          ],
          "font": {
           "color": "#2a3f5f"
          },
          "geo": {
           "bgcolor": "white",
           "lakecolor": "white",
           "landcolor": "#E5ECF6",
           "showlakes": true,
           "showland": true,
           "subunitcolor": "white"
          },
          "hoverlabel": {
           "align": "left"
          },
          "hovermode": "closest",
          "mapbox": {
           "style": "light"
          },
          "paper_bgcolor": "white",
          "plot_bgcolor": "#E5ECF6",
          "polar": {
           "angularaxis": {
            "gridcolor": "white",
            "linecolor": "white",
            "ticks": ""
           },
           "bgcolor": "#E5ECF6",
           "radialaxis": {
            "gridcolor": "white",
            "linecolor": "white",
            "ticks": ""
           }
          },
          "scene": {
           "xaxis": {
            "backgroundcolor": "#E5ECF6",
            "gridcolor": "white",
            "gridwidth": 2,
            "linecolor": "white",
            "showbackground": true,
            "ticks": "",
            "zerolinecolor": "white"
           },
           "yaxis": {
            "backgroundcolor": "#E5ECF6",
            "gridcolor": "white",
            "gridwidth": 2,
            "linecolor": "white",
            "showbackground": true,
            "ticks": "",
            "zerolinecolor": "white"
           },
           "zaxis": {
            "backgroundcolor": "#E5ECF6",
            "gridcolor": "white",
            "gridwidth": 2,
            "linecolor": "white",
            "showbackground": true,
            "ticks": "",
            "zerolinecolor": "white"
           }
          },
          "shapedefaults": {
           "line": {
            "color": "#2a3f5f"
           }
          },
          "ternary": {
           "aaxis": {
            "gridcolor": "white",
            "linecolor": "white",
            "ticks": ""
           },
           "baxis": {
            "gridcolor": "white",
            "linecolor": "white",
            "ticks": ""
           },
           "bgcolor": "#E5ECF6",
           "caxis": {
            "gridcolor": "white",
            "linecolor": "white",
            "ticks": ""
           }
          },
          "title": {
           "x": 0.05
          },
          "xaxis": {
           "automargin": true,
           "gridcolor": "white",
           "linecolor": "white",
           "ticks": "",
           "title": {
            "standoff": 15
           },
           "zerolinecolor": "white",
           "zerolinewidth": 2
          },
          "yaxis": {
           "automargin": true,
           "gridcolor": "white",
           "linecolor": "white",
           "ticks": "",
           "title": {
            "standoff": 15
           },
           "zerolinecolor": "white",
           "zerolinewidth": 2
          }
         }
        },
        "title": {
         "text": "Evoluation in time of state 0"
        },
        "xaxis": {
         "anchor": "y",
         "domain": [
          0,
          1
         ],
         "title": {
          "text": "x"
         }
        },
        "yaxis": {
         "anchor": "x",
         "domain": [
          0,
          1
         ],
         "title": {
          "text": "y"
         }
        }
       }
      }
     },
     "metadata": {},
     "output_type": "display_data"
    }
   ],
   "source": [
    "import plotly.express as px\n",
    "state = 0\n",
    "fig = px.scatter (\n",
    "    title = f'Evoluation in time of state {state}',\n",
    "    x = results.time_points,\n",
    "    y = [\n",
    "            results.GetStateEvaluationResult(state,i).mean\n",
    "            for i in range(results.GetNumberOfEvaluations())\n",
    "        ]\n",
    ")\n",
    "fig.show()"
   ]
  },
  {
   "cell_type": "code",
   "execution_count": 6,
   "id": "407ae59d-0e38-4f1d-bbf3-4a8326f5bc4a",
   "metadata": {},
   "outputs": [
    {
     "data": {
      "application/vnd.plotly.v1+json": {
       "config": {
        "plotlyServerURL": "https://plot.ly"
       },
       "data": [
        {
         "hovertemplate": "state=0<br>time=%{x}<br>mean=%{y}<extra></extra>",
         "legendgroup": "0",
         "line": {
          "color": "#636efa",
          "dash": "solid"
         },
         "marker": {
          "symbol": "circle"
         },
         "mode": "lines+markers",
         "name": "0",
         "orientation": "v",
         "showlegend": true,
         "type": "scatter",
         "x": [
          1,
          2,
          3,
          4,
          5,
          6,
          7,
          8,
          9,
          10,
          11,
          12,
          13,
          14,
          15,
          16,
          17,
          18,
          19,
          20,
          21,
          22,
          23,
          24,
          25,
          26,
          27,
          28,
          29,
          30,
          31,
          32,
          33,
          34,
          35,
          36,
          37,
          38,
          39,
          40,
          41,
          42,
          43,
          44,
          45,
          46,
          47,
          48,
          49,
          50,
          51,
          52,
          53,
          54,
          55,
          56,
          57,
          58,
          59,
          60,
          61,
          62,
          63,
          64,
          65,
          66,
          67,
          68,
          69,
          70,
          71,
          72,
          73,
          74,
          75,
          76,
          77,
          78,
          79,
          80,
          81,
          82,
          83,
          84,
          85,
          86,
          87,
          88,
          89,
          90,
          91,
          92,
          93,
          94,
          95,
          96,
          97,
          98,
          99,
          100
         ],
         "xaxis": "x",
         "y": [
          -0.8876408338546753,
          -2.006584644317627,
          -1.612292766571045,
          -2.410738945007324,
          -1.2182828187942505,
          -1.2613308429718018,
          -2.324031352996826,
          -1.899870753288269,
          -3.9308090209960938,
          -4.442900657653809,
          -5.308010101318359,
          -4.8912200927734375,
          -4.832644462585449,
          -3.69240665435791,
          -3.3984124660491943,
          -3.4278876781463623,
          -2.9939208030700684,
          -1.299049973487854,
          -0.5367811918258667,
          0.34989750385284424,
          -0.10537639260292053,
          0.3594915270805359,
          -0.7099689841270447,
          -1.0374962091445923,
          -0.1615477204322815,
          0.777454137802124,
          -0.7198116779327393,
          -2.1733787059783936,
          -1.4565870761871338,
          -1.1526987552642822,
          -0.8889753818511963,
          -0.14791131019592285,
          0.7592926025390625,
          0.26823773980140686,
          1.7348326444625854,
          1.8109347820281982,
          2.858811616897583,
          1.3033050298690796,
          1.0227550268173218,
          1.6528652906417847,
          2.298064947128296,
          1.1976853609085083,
          1.1377580165863037,
          2.5558464527130127,
          1.9877002239227295,
          1.1086111068725586,
          0.31987708806991577,
          0.4696693420410156,
          1.0630066394805908,
          2.8083643913269043,
          3.4128353595733643,
          4.1644182205200195,
          3.6236090660095215,
          4.530566215515137,
          5.85874080657959,
          4.425366401672363,
          3.200206756591797,
          3.5779759883880615,
          3.7928247451782227,
          3.0632457733154297,
          2.411756992340088,
          2.0167245864868164,
          1.3714699745178223,
          0.2944769859313965,
          0.3607824146747589,
          1.0464128255844116,
          1.5674291849136353,
          1.659945011138916,
          2.9472665786743164,
          2.375596523284912,
          3.410684108734131,
          2.7414917945861816,
          4.37142276763916,
          4.5071120262146,
          5.714784622192383,
          7.003640174865723,
          5.040239334106445,
          4.31510591506958,
          4.463684558868408,
          5.631908416748047,
          5.94608736038208,
          6.200639724731445,
          6.019905090332031,
          5.576626777648926,
          6.2580366134643555,
          7.3930840492248535,
          7.654791831970215,
          8.051070213317871,
          6.443241119384766,
          5.327970027923584,
          4.703372955322266,
          6.077254772186279,
          7.283259391784668,
          8.656635284423828,
          8.92559814453125,
          8.537087440490723,
          8.8331880569458,
          7.628011703491211,
          8.469825744628906,
          8.500288963317871
         ],
         "yaxis": "y"
        },
        {
         "hovertemplate": "state=1<br>time=%{x}<br>mean=%{y}<extra></extra>",
         "legendgroup": "1",
         "line": {
          "color": "#EF553B",
          "dash": "solid"
         },
         "marker": {
          "symbol": "circle"
         },
         "mode": "lines+markers",
         "name": "1",
         "orientation": "v",
         "showlegend": true,
         "type": "scatter",
         "x": [
          1,
          2,
          3,
          4,
          5,
          6,
          7,
          8,
          9,
          10,
          11,
          12,
          13,
          14,
          15,
          16,
          17,
          18,
          19,
          20,
          21,
          22,
          23,
          24,
          25,
          26,
          27,
          28,
          29,
          30,
          31,
          32,
          33,
          34,
          35,
          36,
          37,
          38,
          39,
          40,
          41,
          42,
          43,
          44,
          45,
          46,
          47,
          48,
          49,
          50,
          51,
          52,
          53,
          54,
          55,
          56,
          57,
          58,
          59,
          60,
          61,
          62,
          63,
          64,
          65,
          66,
          67,
          68,
          69,
          70,
          71,
          72,
          73,
          74,
          75,
          76,
          77,
          78,
          79,
          80,
          81,
          82,
          83,
          84,
          85,
          86,
          87,
          88,
          89,
          90,
          91,
          92,
          93,
          94,
          95,
          96,
          97,
          98,
          99,
          100
         ],
         "xaxis": "x",
         "y": [
          -0.532296359539032,
          -2.9110007286071777,
          -2.2950830459594727,
          -1.1804863214492798,
          -1.7304456233978271,
          -1.9306234121322632,
          -0.5363397598266602,
          -2.231091260910034,
          -2.5459036827087402,
          -3.8282437324523926,
          -2.837282419204712,
          -2.2163825035095215,
          -1.6728355884552002,
          -0.5839186906814575,
          -2.4132094383239746,
          0.06597113609313965,
          1.9578685760498047,
          1.5178210735321045,
          -0.05987226963043213,
          -0.180218905210495,
          -0.1965455561876297,
          -0.15009886026382446,
          -1.1942508220672607,
          -0.1582932472229004,
          1.1127285957336426,
          -0.2985039949417114,
          0.7649075984954834,
          0.38641640543937683,
          1.5136350393295288,
          0.7750951051712036,
          2.2142348289489746,
          4.026815891265869,
          3.7673802375793457,
          5.121768474578857,
          4.478850841522217,
          5.484808921813965,
          7.469996929168701,
          7.231880187988281,
          7.170896053314209,
          7.330942153930664,
          7.157004356384277,
          6.492073059082031,
          5.2694783210754395,
          6.4121198654174805,
          7.308974266052246,
          7.395251750946045,
          7.216864109039307,
          7.229386329650879,
          6.240509033203125,
          6.733497142791748,
          5.771670818328857,
          6.077438831329346,
          6.012925148010254,
          7.7773261070251465,
          8.248004913330078,
          9.494609832763672,
          8.942333221435547,
          9.397839546203613,
          8.437715530395508,
          9.829679489135742,
          9.646896362304688,
          10.09315299987793,
          9.879971504211426,
          9.754643440246582,
          9.62276554107666,
          9.926012992858887,
          9.155874252319336,
          8.594258308410645,
          8.490124702453613,
          10.096752166748047,
          11.971359252929688,
          12.037284851074219,
          14.014636039733887,
          13.099727630615234,
          14.108877182006836,
          15.042165756225586,
          13.492473602294922,
          12.864387512207031,
          13.429573059082031,
          13.069392204284668,
          12.685351371765137,
          11.752577781677246,
          10.792810440063477,
          10.781628608703613,
          10.216317176818848,
          11.653965950012207,
          9.622732162475586,
          8.349244117736816,
          9.620973587036133,
          11.236614227294922,
          11.511720657348633,
          10.118218421936035,
          10.591550827026367,
          10.300921440124512,
          9.071422576904297,
          9.740639686584473,
          9.195589065551758,
          10.367859840393066,
          10.712158203125,
          10.156538009643555
         ],
         "yaxis": "y"
        },
        {
         "hovertemplate": "state=2<br>time=%{x}<br>mean=%{y}<extra></extra>",
         "legendgroup": "2",
         "line": {
          "color": "#00cc96",
          "dash": "solid"
         },
         "marker": {
          "symbol": "circle"
         },
         "mode": "lines+markers",
         "name": "2",
         "orientation": "v",
         "showlegend": true,
         "type": "scatter",
         "x": [
          1,
          2,
          3,
          4,
          5,
          6,
          7,
          8,
          9,
          10,
          11,
          12,
          13,
          14,
          15,
          16,
          17,
          18,
          19,
          20,
          21,
          22,
          23,
          24,
          25,
          26,
          27,
          28,
          29,
          30,
          31,
          32,
          33,
          34,
          35,
          36,
          37,
          38,
          39,
          40,
          41,
          42,
          43,
          44,
          45,
          46,
          47,
          48,
          49,
          50,
          51,
          52,
          53,
          54,
          55,
          56,
          57,
          58,
          59,
          60,
          61,
          62,
          63,
          64,
          65,
          66,
          67,
          68,
          69,
          70,
          71,
          72,
          73,
          74,
          75,
          76,
          77,
          78,
          79,
          80,
          81,
          82,
          83,
          84,
          85,
          86,
          87,
          88,
          89,
          90,
          91,
          92,
          93,
          94,
          95,
          96,
          97,
          98,
          99,
          100
         ],
         "xaxis": "x",
         "y": [
          0.7569969892501831,
          0.9758340120315552,
          0.9722147583961487,
          1.2251352071762085,
          1.8625112771987915,
          0.8939061164855957,
          1.93575119972229,
          4.591540336608887,
          3.3499035835266113,
          3.1766910552978516,
          4.606134414672852,
          6.787208080291748,
          5.996464729309082,
          5.32291316986084,
          5.772693634033203,
          5.565479755401611,
          5.957318305969238,
          6.211336612701416,
          6.550354957580566,
          8.272817611694336,
          8.252371788024902,
          8.421728134155273,
          8.147907257080078,
          9.69577407836914,
          12.219712257385254,
          12.805088996887207,
          14.681351661682129,
          14.080137252807617,
          13.413325309753418,
          13.580662727355957,
          13.926316261291504,
          11.840161323547363,
          11.315044403076172,
          12.161381721496582,
          11.857954978942871,
          11.909997940063477,
          11.168760299682617,
          8.847681045532227,
          7.148556232452393,
          8.412195205688477,
          8.271452903747559,
          9.216185569763184,
          9.088354110717773,
          8.59264850616455,
          9.002166748046875,
          9.195511817932129,
          9.352164268493652,
          9.861895561218262,
          10.547675132751465,
          10.251693725585938,
          9.945088386535645,
          10.535853385925293,
          10.106180191040039,
          9.963561058044434,
          10.665799140930176,
          10.139333724975586,
          10.619732856750488,
          10.356783866882324,
          10.5721435546875,
          11.117977142333984,
          10.75899600982666,
          10.106554985046387,
          10.240830421447754,
          11.673398971557617,
          12.455728530883789,
          12.799310684204102,
          14.988800048828125,
          14.242718696594238,
          14.538439750671387,
          13.664145469665527,
          12.918116569519043,
          12.268024444580078,
          12.584381103515625,
          12.61687183380127,
          10.813593864440918,
          11.059626579284668,
          10.642882347106934,
          10.13344669342041,
          9.874147415161133,
          8.551329612731934,
          10.698751449584961,
          11.447456359863281,
          11.765844345092773,
          14.566827774047852,
          13.323626518249512,
          11.858795166015625,
          12.643192291259766,
          13.6934175491333,
          14.10721206665039,
          14.753049850463867,
          15.518646240234375,
          15.832157135009766,
          13.741962432861328,
          14.242459297180176,
          12.93275260925293,
          12.700451850891113,
          11.504143714904785,
          12.104500770568848,
          11.686760902404785,
          11.392095565795898
         ],
         "yaxis": "y"
        },
        {
         "hovertemplate": "state=3<br>time=%{x}<br>mean=%{y}<extra></extra>",
         "legendgroup": "3",
         "line": {
          "color": "#ab63fa",
          "dash": "solid"
         },
         "marker": {
          "symbol": "circle"
         },
         "mode": "lines+markers",
         "name": "3",
         "orientation": "v",
         "showlegend": true,
         "type": "scatter",
         "x": [
          1,
          2,
          3,
          4,
          5,
          6,
          7,
          8,
          9,
          10,
          11,
          12,
          13,
          14,
          15,
          16,
          17,
          18,
          19,
          20,
          21,
          22,
          23,
          24,
          25,
          26,
          27,
          28,
          29,
          30,
          31,
          32,
          33,
          34,
          35,
          36,
          37,
          38,
          39,
          40,
          41,
          42,
          43,
          44,
          45,
          46,
          47,
          48,
          49,
          50,
          51,
          52,
          53,
          54,
          55,
          56,
          57,
          58,
          59,
          60,
          61,
          62,
          63,
          64,
          65,
          66,
          67,
          68,
          69,
          70,
          71,
          72,
          73,
          74,
          75,
          76,
          77,
          78,
          79,
          80,
          81,
          82,
          83,
          84,
          85,
          86,
          87,
          88,
          89,
          90,
          91,
          92,
          93,
          94,
          95,
          96,
          97,
          98,
          99,
          100
         ],
         "xaxis": "x",
         "y": [
          0.40914663672447205,
          1.3326958417892456,
          0.46082890033721924,
          0.713333010673523,
          1.714356780052185,
          0.5520758628845215,
          1.7832801342010498,
          2.032086133956909,
          3.9229981899261475,
          3.458366632461548,
          4.748523235321045,
          6.5277419090271,
          9.245752334594727,
          9.993399620056152,
          10.450827598571777,
          9.532026290893555,
          8.925752639770508,
          7.771620750427246,
          7.400285720825195,
          8.260583877563477,
          7.574787139892578,
          7.29578161239624,
          7.285536766052246,
          7.670283794403076,
          7.108320713043213,
          8.033243179321289,
          9.390949249267578,
          10.045578956604004,
          9.343505859375,
          8.800651550292969,
          7.79757022857666,
          6.237913131713867,
          7.425118446350098,
          6.957015514373779,
          5.293749809265137,
          3.595768928527832,
          1.749514102935791,
          2.0381157398223877,
          2.655104160308838,
          1.2283779382705688,
          1.2193113565444946,
          2.3539910316467285,
          2.314333438873291,
          2.7679831981658936,
          2.1878292560577393,
          1.6676790714263916,
          2.0113680362701416,
          1.8462259769439697,
          2.7640762329101562,
          3.4531407356262207,
          1.0260028839111328,
          -0.01965010166168213,
          -0.05398586019873619,
          -2.639688014984131,
          -2.236886501312256,
          -2.9475152492523193,
          -2.4563536643981934,
          -4.590497970581055,
          -4.67359733581543,
          -4.410832405090332,
          -4.170864105224609,
          -3.5726304054260254,
          -4.467462062835693,
          -5.393349647521973,
          -6.100732326507568,
          -7.46813440322876,
          -8.672301292419434,
          -8.4899263381958,
          -8.70600700378418,
          -9.98166275024414,
          -11.27326774597168,
          -10.803081512451172,
          -11.101147651672363,
          -10.151604652404785,
          -10.272473335266113,
          -8.682890892028809,
          -8.769744873046875,
          -7.033316135406494,
          -6.985657215118408,
          -6.742542743682861,
          -3.807753801345825,
          -3.7589282989501953,
          -3.281407594680786,
          -2.495737075805664,
          -2.9431800842285156,
          -3.8183155059814453,
          -4.030782699584961,
          -5.490256309509277,
          -3.538989543914795,
          -4.181602478027344,
          -4.243577003479004,
          -4.638747215270996,
          -5.994117736816406,
          -5.944611549377441,
          -6.721230506896973,
          -8.921672821044922,
          -10.263439178466797,
          -9.151772499084473,
          -8.397530555725098,
          -9.285443305969238
         ],
         "yaxis": "y"
        },
        {
         "hovertemplate": "state=4<br>time=%{x}<br>mean=%{y}<extra></extra>",
         "legendgroup": "4",
         "line": {
          "color": "#FFA15A",
          "dash": "solid"
         },
         "marker": {
          "symbol": "circle"
         },
         "mode": "lines+markers",
         "name": "4",
         "orientation": "v",
         "showlegend": true,
         "type": "scatter",
         "x": [
          1,
          2,
          3,
          4,
          5,
          6,
          7,
          8,
          9,
          10,
          11,
          12,
          13,
          14,
          15,
          16,
          17,
          18,
          19,
          20,
          21,
          22,
          23,
          24,
          25,
          26,
          27,
          28,
          29,
          30,
          31,
          32,
          33,
          34,
          35,
          36,
          37,
          38,
          39,
          40,
          41,
          42,
          43,
          44,
          45,
          46,
          47,
          48,
          49,
          50,
          51,
          52,
          53,
          54,
          55,
          56,
          57,
          58,
          59,
          60,
          61,
          62,
          63,
          64,
          65,
          66,
          67,
          68,
          69,
          70,
          71,
          72,
          73,
          74,
          75,
          76,
          77,
          78,
          79,
          80,
          81,
          82,
          83,
          84,
          85,
          86,
          87,
          88,
          89,
          90,
          91,
          92,
          93,
          94,
          95,
          96,
          97,
          98,
          99,
          100
         ],
         "xaxis": "x",
         "y": [
          1.2510584592819214,
          1.8045542240142822,
          1.7669686079025269,
          1.3673981428146362,
          2.4609251022338867,
          2.103116035461426,
          0.626406192779541,
          1.9775328636169434,
          3.872502088546753,
          5.048466682434082,
          3.0194826126098633,
          2.5318596363067627,
          0.52079176902771,
          2.0180506706237793,
          1.854392170906067,
          1.43939208984375,
          2.8190770149230957,
          2.5145976543426514,
          1.1829687356948853,
          0.9464833736419678,
          -0.4519827365875244,
          -0.7806988954544067,
          0.4327191114425659,
          0.19490039348602295,
          -0.010379642248153687,
          -1.1772454977035522,
          -3.0263266563415527,
          -2.029873847961426,
          -2.0907771587371826,
          -0.7741038799285889,
          0.17744380235671997,
          1.1722533702850342,
          1.3137754201889038,
          2.095679759979248,
          1.7188293933868408,
          1.3865065574645996,
          0.9366859197616577,
          1.432973027229309,
          2.0847363471984863,
          0.8283499479293823,
          -0.1944291591644287,
          -0.44669678807258606,
          -0.12170124053955078,
          1.1086649894714355,
          1.853405237197876,
          2.5310633182525635,
          0.30373597145080566,
          1.5918853282928467,
          -0.053270936012268066,
          -0.679412841796875,
          0.08059746026992798,
          -0.9915770888328552,
          -0.612648606300354,
          -1.9169762134552002,
          -1.8794783353805542,
          -1.824803113937378,
          -2.3485493659973145,
          -1.6722739934921265,
          -1.8090481758117676,
          -3.270742416381836,
          -3.4847681522369385,
          -4.33286714553833,
          -5.342573642730713,
          -4.575203895568848,
          -5.889217376708984,
          -6.738042831420898,
          -4.786873817443848,
          -4.495438575744629,
          -4.118038177490234,
          -3.3066892623901367,
          -3.692387104034424,
          -4.704135417938232,
          -5.974034309387207,
          -5.767714500427246,
          -6.17225456237793,
          -5.561337947845459,
          -5.602123260498047,
          -5.068443775177002,
          -5.475690841674805,
          -5.347777843475342,
          -6.403160572052002,
          -5.268896102905273,
          -4.619770050048828,
          -4.586831092834473,
          -4.622603416442871,
          -4.658354759216309,
          -4.659267902374268,
          -4.646368980407715,
          -3.756255865097046,
          -3.9723055362701416,
          -2.541827917098999,
          -3.7314910888671875,
          -4.606982707977295,
          -5.935517311096191,
          -5.577024459838867,
          -5.430716037750244,
          -6.211501598358154,
          -7.29534387588501,
          -6.550207614898682,
          -3.9449920654296875
         ],
         "yaxis": "y"
        },
        {
         "hovertemplate": "state=5<br>time=%{x}<br>mean=%{y}<extra></extra>",
         "legendgroup": "5",
         "line": {
          "color": "#19d3f3",
          "dash": "solid"
         },
         "marker": {
          "symbol": "circle"
         },
         "mode": "lines+markers",
         "name": "5",
         "orientation": "v",
         "showlegend": true,
         "type": "scatter",
         "x": [
          1,
          2,
          3,
          4,
          5,
          6,
          7,
          8,
          9,
          10,
          11,
          12,
          13,
          14,
          15,
          16,
          17,
          18,
          19,
          20,
          21,
          22,
          23,
          24,
          25,
          26,
          27,
          28,
          29,
          30,
          31,
          32,
          33,
          34,
          35,
          36,
          37,
          38,
          39,
          40,
          41,
          42,
          43,
          44,
          45,
          46,
          47,
          48,
          49,
          50,
          51,
          52,
          53,
          54,
          55,
          56,
          57,
          58,
          59,
          60,
          61,
          62,
          63,
          64,
          65,
          66,
          67,
          68,
          69,
          70,
          71,
          72,
          73,
          74,
          75,
          76,
          77,
          78,
          79,
          80,
          81,
          82,
          83,
          84,
          85,
          86,
          87,
          88,
          89,
          90,
          91,
          92,
          93,
          94,
          95,
          96,
          97,
          98,
          99,
          100
         ],
         "xaxis": "x",
         "y": [
          0.2988722324371338,
          -0.057971417903900146,
          0.2269136905670166,
          0.5604788064956665,
          0.5420643091201782,
          1.3670432567596436,
          -0.6527230739593506,
          -0.464130163192749,
          -0.06739693880081177,
          0.8329764008522034,
          1.3657677173614502,
          0.6018239259719849,
          0.9460535645484924,
          1.6049103736877441,
          0.9266679883003235,
          -0.08939403295516968,
          -0.39685794711112976,
          -1.2085182666778564,
          -1.8704249858856201,
          -0.7581785917282104,
          -2.07538104057312,
          -1.8991119861602783,
          -0.06847715377807617,
          -2.0679683685302734,
          -2.0684640407562256,
          -1.5173794031143188,
          -2.049884796142578,
          -1.1104543209075928,
          -1.6958125829696655,
          -1.4691563844680786,
          -1.2579370737075806,
          0.5069661140441895,
          0.8146575093269348,
          1.1641228199005127,
          1.3669641017913818,
          2.718588352203369,
          3.3588714599609375,
          4.741514682769775,
          3.9527478218078613,
          3.560525417327881,
          4.081395626068115,
          3.5961287021636963,
          3.0277204513549805,
          1.052559494972229,
          1.6482114791870117,
          1.152093529701233,
          1.5307834148406982,
          1.6530364751815796,
          0.09949743747711182,
          -0.5911274552345276,
          -0.5593839883804321,
          -1.3886795043945312,
          -1.313089370727539,
          -1.5910818576812744,
          -1.8917477130889893,
          -1.982026219367981,
          -2.5817224979400635,
          -2.6998507976531982,
          -3.3860526084899902,
          -3.3522205352783203,
          -3.0900321006774902,
          -2.509413719177246,
          -1.991187334060669,
          -0.4964749813079834,
          -1.3442103862762451,
          -1.0050081014633179,
          -0.26941680908203125,
          -1.3138564825057983,
          -3.1323370933532715,
          -2.8242294788360596,
          -1.686318278312683,
          -0.13721346855163574,
          -0.37051713466644287,
          0.300878643989563,
          2.514127254486084,
          2.570011854171753,
          3.68686580657959,
          2.908942461013794,
          2.8169686794281006,
          2.5581700801849365,
          0.7906056642532349,
          1.1660429239273071,
          0.9066752791404724,
          0.5994581580162048,
          1.9552497863769531,
          0.9664927124977112,
          0.8762651085853577,
          0.4189992845058441,
          0.8303486704826355,
          0.661994993686676,
          1.961749792098999,
          1.1908893585205078,
          1.2745345830917358,
          2.1186397075653076,
          0.18813443183898926,
          0.5823279619216919,
          1.588969111442566,
          1.9361348152160645,
          0.6219421625137329,
          1.0234202146530151
         ],
         "yaxis": "y"
        },
        {
         "hovertemplate": "state=6<br>time=%{x}<br>mean=%{y}<extra></extra>",
         "legendgroup": "6",
         "line": {
          "color": "#FF6692",
          "dash": "solid"
         },
         "marker": {
          "symbol": "circle"
         },
         "mode": "lines+markers",
         "name": "6",
         "orientation": "v",
         "showlegend": true,
         "type": "scatter",
         "x": [
          1,
          2,
          3,
          4,
          5,
          6,
          7,
          8,
          9,
          10,
          11,
          12,
          13,
          14,
          15,
          16,
          17,
          18,
          19,
          20,
          21,
          22,
          23,
          24,
          25,
          26,
          27,
          28,
          29,
          30,
          31,
          32,
          33,
          34,
          35,
          36,
          37,
          38,
          39,
          40,
          41,
          42,
          43,
          44,
          45,
          46,
          47,
          48,
          49,
          50,
          51,
          52,
          53,
          54,
          55,
          56,
          57,
          58,
          59,
          60,
          61,
          62,
          63,
          64,
          65,
          66,
          67,
          68,
          69,
          70,
          71,
          72,
          73,
          74,
          75,
          76,
          77,
          78,
          79,
          80,
          81,
          82,
          83,
          84,
          85,
          86,
          87,
          88,
          89,
          90,
          91,
          92,
          93,
          94,
          95,
          96,
          97,
          98,
          99,
          100
         ],
         "xaxis": "x",
         "y": [
          0.5734434127807617,
          0.32003405690193176,
          -0.5419964790344238,
          -1.195948600769043,
          0.3424571752548218,
          -0.4321795701980591,
          -0.19663944840431213,
          -0.3858799934387207,
          0.3752242922782898,
          -2.019713878631592,
          -0.9668431282043457,
          -0.9635257124900818,
          -2.8855857849121094,
          -4.639575481414795,
          -4.685089588165283,
          -5.171892166137695,
          -6.453441619873047,
          -6.544589519500732,
          -6.695130825042725,
          -6.530159950256348,
          -7.141477108001709,
          -7.933845043182373,
          -8.308515548706055,
          -9.57520580291748,
          -10.359664916992188,
          -11.144135475158691,
          -9.101160049438477,
          -8.990893363952637,
          -7.736687660217285,
          -7.313575744628906,
          -7.709758758544922,
          -8.381855964660645,
          -8.805288314819336,
          -7.567368507385254,
          -8.191067695617676,
          -9.324478149414062,
          -10.6537446975708,
          -9.849875450134277,
          -10.288018226623535,
          -9.323719024658203,
          -10.552637100219727,
          -11.795639038085938,
          -11.761907577514648,
          -11.215770721435547,
          -9.25429630279541,
          -10.162158966064453,
          -10.394779205322266,
          -9.392240524291992,
          -9.397994041442871,
          -11.148962020874023,
          -9.71851921081543,
          -10.844135284423828,
          -11.59387493133545,
          -9.02248764038086,
          -7.978903770446777,
          -8.093351364135742,
          -7.932816028594971,
          -9.031795501708984,
          -9.816280364990234,
          -10.029687881469727,
          -9.387310028076172,
          -10.58337116241455,
          -10.480963706970215,
          -11.1851167678833,
          -12.624603271484375,
          -13.223721504211426,
          -13.71822738647461,
          -13.227079391479492,
          -13.363164901733398,
          -12.460860252380371,
          -12.090182304382324,
          -11.104292869567871,
          -11.334527969360352,
          -11.204816818237305,
          -10.857648849487305,
          -11.04560661315918,
          -10.517885208129883,
          -10.17491340637207,
          -10.723628997802734,
          -8.775666236877441,
          -9.668903350830078,
          -9.12905216217041,
          -7.521010875701904,
          -8.326519966125488,
          -7.3175201416015625,
          -6.648111820220947,
          -6.30387020111084,
          -6.448827266693115,
          -6.2712202072143555,
          -4.054140090942383,
          -4.2938923835754395,
          -3.1874470710754395,
          -4.789170265197754,
          -3.1444499492645264,
          -2.793456554412842,
          -2.599369525909424,
          -3.373478412628174,
          -2.5190460681915283,
          -2.8935546875,
          -2.897155284881592
         ],
         "yaxis": "y"
        },
        {
         "hovertemplate": "state=7<br>time=%{x}<br>mean=%{y}<extra></extra>",
         "legendgroup": "7",
         "line": {
          "color": "#B6E880",
          "dash": "solid"
         },
         "marker": {
          "symbol": "circle"
         },
         "mode": "lines+markers",
         "name": "7",
         "orientation": "v",
         "showlegend": true,
         "type": "scatter",
         "x": [
          1,
          2,
          3,
          4,
          5,
          6,
          7,
          8,
          9,
          10,
          11,
          12,
          13,
          14,
          15,
          16,
          17,
          18,
          19,
          20,
          21,
          22,
          23,
          24,
          25,
          26,
          27,
          28,
          29,
          30,
          31,
          32,
          33,
          34,
          35,
          36,
          37,
          38,
          39,
          40,
          41,
          42,
          43,
          44,
          45,
          46,
          47,
          48,
          49,
          50,
          51,
          52,
          53,
          54,
          55,
          56,
          57,
          58,
          59,
          60,
          61,
          62,
          63,
          64,
          65,
          66,
          67,
          68,
          69,
          70,
          71,
          72,
          73,
          74,
          75,
          76,
          77,
          78,
          79,
          80,
          81,
          82,
          83,
          84,
          85,
          86,
          87,
          88,
          89,
          90,
          91,
          92,
          93,
          94,
          95,
          96,
          97,
          98,
          99,
          100
         ],
         "xaxis": "x",
         "y": [
          0.1171848401427269,
          -0.7079727649688721,
          0.9345247745513916,
          0.6837740540504456,
          1.5507712364196777,
          2.1276981830596924,
          2.477729082107544,
          1.853957176208496,
          0.45205485820770264,
          -1.1037273406982422,
          -0.6855232119560242,
          1.9297025203704834,
          2.188525676727295,
          0.9363576173782349,
          2.3562865257263184,
          2.3019180297851562,
          2.7802071571350098,
          2.730750799179077,
          1.1123995780944824,
          1.4046571254730225,
          0.9247446060180664,
          0.05510401725769043,
          -1.253321647644043,
          -1.5815664529800415,
          -2.015805244445801,
          -3.6508965492248535,
          -3.738027334213257,
          -3.3822786808013916,
          -4.6011857986450195,
          -5.959491729736328,
          -5.806473255157471,
          -5.291747093200684,
          -4.609974384307861,
          -5.434493064880371,
          -6.219545841217041,
          -5.200194358825684,
          -5.160929203033447,
          -5.019106864929199,
          -4.138847827911377,
          -3.8146166801452637,
          -2.979301691055298,
          -2.7740840911865234,
          -4.212657451629639,
          -4.124490261077881,
          -4.375270843505859,
          -3.6663920879364014,
          -4.128617286682129,
          -4.573807716369629,
          -4.513241291046143,
          -3.8702142238616943,
          -4.40183687210083,
          -4.453074932098389,
          -6.370091915130615,
          -4.66403865814209,
          -5.117147922515869,
          -5.23096227645874,
          -4.579243183135986,
          -2.8033430576324463,
          -3.0896005630493164,
          -2.2932021617889404,
          -3.3526105880737305,
          -2.0576248168945312,
          -0.6476929187774658,
          -1.5523662567138672,
          -2.3114326000213623,
          -0.8403675556182861,
          -1.515671968460083,
          -1.5578525066375732,
          -1.1392083168029785,
          -1.84534752368927,
          -2.437511444091797,
          -2.6479926109313965,
          -2.8709473609924316,
          -1.017803430557251,
          -1.1398299932479858,
          -0.6516251564025879,
          -0.48092105984687805,
          -0.31566905975341797,
          0.6789032816886902,
          1.3532260656356812,
          -0.027758240699768066,
          -1.2003530263900757,
          -2.586688280105591,
          -2.444629430770874,
          -1.9331867694854736,
          -2.6599299907684326,
          -3.7862062454223633,
          -5.353748321533203,
          -4.402261734008789,
          -4.985210418701172,
          -5.403877258300781,
          -4.3089423179626465,
          -4.064049243927002,
          -4.571187496185303,
          -4.3125433921813965,
          -4.590670585632324,
          -4.672128677368164,
          -5.197529315948486,
          -6.719464302062988,
          -7.636997222900391
         ],
         "yaxis": "y"
        }
       ],
       "layout": {
        "legend": {
         "title": {
          "text": "state"
         },
         "tracegroupgap": 0
        },
        "margin": {
         "t": 60
        },
        "template": {
         "data": {
          "bar": [
           {
            "error_x": {
             "color": "#2a3f5f"
            },
            "error_y": {
             "color": "#2a3f5f"
            },
            "marker": {
             "line": {
              "color": "#E5ECF6",
              "width": 0.5
             },
             "pattern": {
              "fillmode": "overlay",
              "size": 10,
              "solidity": 0.2
             }
            },
            "type": "bar"
           }
          ],
          "barpolar": [
           {
            "marker": {
             "line": {
              "color": "#E5ECF6",
              "width": 0.5
             },
             "pattern": {
              "fillmode": "overlay",
              "size": 10,
              "solidity": 0.2
             }
            },
            "type": "barpolar"
           }
          ],
          "carpet": [
           {
            "aaxis": {
             "endlinecolor": "#2a3f5f",
             "gridcolor": "white",
             "linecolor": "white",
             "minorgridcolor": "white",
             "startlinecolor": "#2a3f5f"
            },
            "baxis": {
             "endlinecolor": "#2a3f5f",
             "gridcolor": "white",
             "linecolor": "white",
             "minorgridcolor": "white",
             "startlinecolor": "#2a3f5f"
            },
            "type": "carpet"
           }
          ],
          "choropleth": [
           {
            "colorbar": {
             "outlinewidth": 0,
             "ticks": ""
            },
            "type": "choropleth"
           }
          ],
          "contour": [
           {
            "colorbar": {
             "outlinewidth": 0,
             "ticks": ""
            },
            "colorscale": [
             [
              0,
              "#0d0887"
             ],
             [
              0.1111111111111111,
              "#46039f"
             ],
             [
              0.2222222222222222,
              "#7201a8"
             ],
             [
              0.3333333333333333,
              "#9c179e"
             ],
             [
              0.4444444444444444,
              "#bd3786"
             ],
             [
              0.5555555555555556,
              "#d8576b"
             ],
             [
              0.6666666666666666,
              "#ed7953"
             ],
             [
              0.7777777777777778,
              "#fb9f3a"
             ],
             [
              0.8888888888888888,
              "#fdca26"
             ],
             [
              1,
              "#f0f921"
             ]
            ],
            "type": "contour"
           }
          ],
          "contourcarpet": [
           {
            "colorbar": {
             "outlinewidth": 0,
             "ticks": ""
            },
            "type": "contourcarpet"
           }
          ],
          "heatmap": [
           {
            "colorbar": {
             "outlinewidth": 0,
             "ticks": ""
            },
            "colorscale": [
             [
              0,
              "#0d0887"
             ],
             [
              0.1111111111111111,
              "#46039f"
             ],
             [
              0.2222222222222222,
              "#7201a8"
             ],
             [
              0.3333333333333333,
              "#9c179e"
             ],
             [
              0.4444444444444444,
              "#bd3786"
             ],
             [
              0.5555555555555556,
              "#d8576b"
             ],
             [
              0.6666666666666666,
              "#ed7953"
             ],
             [
              0.7777777777777778,
              "#fb9f3a"
             ],
             [
              0.8888888888888888,
              "#fdca26"
             ],
             [
              1,
              "#f0f921"
             ]
            ],
            "type": "heatmap"
           }
          ],
          "heatmapgl": [
           {
            "colorbar": {
             "outlinewidth": 0,
             "ticks": ""
            },
            "colorscale": [
             [
              0,
              "#0d0887"
             ],
             [
              0.1111111111111111,
              "#46039f"
             ],
             [
              0.2222222222222222,
              "#7201a8"
             ],
             [
              0.3333333333333333,
              "#9c179e"
             ],
             [
              0.4444444444444444,
              "#bd3786"
             ],
             [
              0.5555555555555556,
              "#d8576b"
             ],
             [
              0.6666666666666666,
              "#ed7953"
             ],
             [
              0.7777777777777778,
              "#fb9f3a"
             ],
             [
              0.8888888888888888,
              "#fdca26"
             ],
             [
              1,
              "#f0f921"
             ]
            ],
            "type": "heatmapgl"
           }
          ],
          "histogram": [
           {
            "marker": {
             "pattern": {
              "fillmode": "overlay",
              "size": 10,
              "solidity": 0.2
             }
            },
            "type": "histogram"
           }
          ],
          "histogram2d": [
           {
            "colorbar": {
             "outlinewidth": 0,
             "ticks": ""
            },
            "colorscale": [
             [
              0,
              "#0d0887"
             ],
             [
              0.1111111111111111,
              "#46039f"
             ],
             [
              0.2222222222222222,
              "#7201a8"
             ],
             [
              0.3333333333333333,
              "#9c179e"
             ],
             [
              0.4444444444444444,
              "#bd3786"
             ],
             [
              0.5555555555555556,
              "#d8576b"
             ],
             [
              0.6666666666666666,
              "#ed7953"
             ],
             [
              0.7777777777777778,
              "#fb9f3a"
             ],
             [
              0.8888888888888888,
              "#fdca26"
             ],
             [
              1,
              "#f0f921"
             ]
            ],
            "type": "histogram2d"
           }
          ],
          "histogram2dcontour": [
           {
            "colorbar": {
             "outlinewidth": 0,
             "ticks": ""
            },
            "colorscale": [
             [
              0,
              "#0d0887"
             ],
             [
              0.1111111111111111,
              "#46039f"
             ],
             [
              0.2222222222222222,
              "#7201a8"
             ],
             [
              0.3333333333333333,
              "#9c179e"
             ],
             [
              0.4444444444444444,
              "#bd3786"
             ],
             [
              0.5555555555555556,
              "#d8576b"
             ],
             [
              0.6666666666666666,
              "#ed7953"
             ],
             [
              0.7777777777777778,
              "#fb9f3a"
             ],
             [
              0.8888888888888888,
              "#fdca26"
             ],
             [
              1,
              "#f0f921"
             ]
            ],
            "type": "histogram2dcontour"
           }
          ],
          "mesh3d": [
           {
            "colorbar": {
             "outlinewidth": 0,
             "ticks": ""
            },
            "type": "mesh3d"
           }
          ],
          "parcoords": [
           {
            "line": {
             "colorbar": {
              "outlinewidth": 0,
              "ticks": ""
             }
            },
            "type": "parcoords"
           }
          ],
          "pie": [
           {
            "automargin": true,
            "type": "pie"
           }
          ],
          "scatter": [
           {
            "fillpattern": {
             "fillmode": "overlay",
             "size": 10,
             "solidity": 0.2
            },
            "type": "scatter"
           }
          ],
          "scatter3d": [
           {
            "line": {
             "colorbar": {
              "outlinewidth": 0,
              "ticks": ""
             }
            },
            "marker": {
             "colorbar": {
              "outlinewidth": 0,
              "ticks": ""
             }
            },
            "type": "scatter3d"
           }
          ],
          "scattercarpet": [
           {
            "marker": {
             "colorbar": {
              "outlinewidth": 0,
              "ticks": ""
             }
            },
            "type": "scattercarpet"
           }
          ],
          "scattergeo": [
           {
            "marker": {
             "colorbar": {
              "outlinewidth": 0,
              "ticks": ""
             }
            },
            "type": "scattergeo"
           }
          ],
          "scattergl": [
           {
            "marker": {
             "colorbar": {
              "outlinewidth": 0,
              "ticks": ""
             }
            },
            "type": "scattergl"
           }
          ],
          "scattermapbox": [
           {
            "marker": {
             "colorbar": {
              "outlinewidth": 0,
              "ticks": ""
             }
            },
            "type": "scattermapbox"
           }
          ],
          "scatterpolar": [
           {
            "marker": {
             "colorbar": {
              "outlinewidth": 0,
              "ticks": ""
             }
            },
            "type": "scatterpolar"
           }
          ],
          "scatterpolargl": [
           {
            "marker": {
             "colorbar": {
              "outlinewidth": 0,
              "ticks": ""
             }
            },
            "type": "scatterpolargl"
           }
          ],
          "scatterternary": [
           {
            "marker": {
             "colorbar": {
              "outlinewidth": 0,
              "ticks": ""
             }
            },
            "type": "scatterternary"
           }
          ],
          "surface": [
           {
            "colorbar": {
             "outlinewidth": 0,
             "ticks": ""
            },
            "colorscale": [
             [
              0,
              "#0d0887"
             ],
             [
              0.1111111111111111,
              "#46039f"
             ],
             [
              0.2222222222222222,
              "#7201a8"
             ],
             [
              0.3333333333333333,
              "#9c179e"
             ],
             [
              0.4444444444444444,
              "#bd3786"
             ],
             [
              0.5555555555555556,
              "#d8576b"
             ],
             [
              0.6666666666666666,
              "#ed7953"
             ],
             [
              0.7777777777777778,
              "#fb9f3a"
             ],
             [
              0.8888888888888888,
              "#fdca26"
             ],
             [
              1,
              "#f0f921"
             ]
            ],
            "type": "surface"
           }
          ],
          "table": [
           {
            "cells": {
             "fill": {
              "color": "#EBF0F8"
             },
             "line": {
              "color": "white"
             }
            },
            "header": {
             "fill": {
              "color": "#C8D4E3"
             },
             "line": {
              "color": "white"
             }
            },
            "type": "table"
           }
          ]
         },
         "layout": {
          "annotationdefaults": {
           "arrowcolor": "#2a3f5f",
           "arrowhead": 0,
           "arrowwidth": 1
          },
          "autotypenumbers": "strict",
          "coloraxis": {
           "colorbar": {
            "outlinewidth": 0,
            "ticks": ""
           }
          },
          "colorscale": {
           "diverging": [
            [
             0,
             "#8e0152"
            ],
            [
             0.1,
             "#c51b7d"
            ],
            [
             0.2,
             "#de77ae"
            ],
            [
             0.3,
             "#f1b6da"
            ],
            [
             0.4,
             "#fde0ef"
            ],
            [
             0.5,
             "#f7f7f7"
            ],
            [
             0.6,
             "#e6f5d0"
            ],
            [
             0.7,
             "#b8e186"
            ],
            [
             0.8,
             "#7fbc41"
            ],
            [
             0.9,
             "#4d9221"
            ],
            [
             1,
             "#276419"
            ]
           ],
           "sequential": [
            [
             0,
             "#0d0887"
            ],
            [
             0.1111111111111111,
             "#46039f"
            ],
            [
             0.2222222222222222,
             "#7201a8"
            ],
            [
             0.3333333333333333,
             "#9c179e"
            ],
            [
             0.4444444444444444,
             "#bd3786"
            ],
            [
             0.5555555555555556,
             "#d8576b"
            ],
            [
             0.6666666666666666,
             "#ed7953"
            ],
            [
             0.7777777777777778,
             "#fb9f3a"
            ],
            [
             0.8888888888888888,
             "#fdca26"
            ],
            [
             1,
             "#f0f921"
            ]
           ],
           "sequentialminus": [
            [
             0,
             "#0d0887"
            ],
            [
             0.1111111111111111,
             "#46039f"
            ],
            [
             0.2222222222222222,
             "#7201a8"
            ],
            [
             0.3333333333333333,
             "#9c179e"
            ],
            [
             0.4444444444444444,
             "#bd3786"
            ],
            [
             0.5555555555555556,
             "#d8576b"
            ],
            [
             0.6666666666666666,
             "#ed7953"
            ],
            [
             0.7777777777777778,
             "#fb9f3a"
            ],
            [
             0.8888888888888888,
             "#fdca26"
            ],
            [
             1,
             "#f0f921"
            ]
           ]
          },
          "colorway": [
           "#636efa",
           "#EF553B",
           "#00cc96",
           "#ab63fa",
           "#FFA15A",
           "#19d3f3",
           "#FF6692",
           "#B6E880",
           "#FF97FF",
           "#FECB52"
          ],
          "font": {
           "color": "#2a3f5f"
          },
          "geo": {
           "bgcolor": "white",
           "lakecolor": "white",
           "landcolor": "#E5ECF6",
           "showlakes": true,
           "showland": true,
           "subunitcolor": "white"
          },
          "hoverlabel": {
           "align": "left"
          },
          "hovermode": "closest",
          "mapbox": {
           "style": "light"
          },
          "paper_bgcolor": "white",
          "plot_bgcolor": "#E5ECF6",
          "polar": {
           "angularaxis": {
            "gridcolor": "white",
            "linecolor": "white",
            "ticks": ""
           },
           "bgcolor": "#E5ECF6",
           "radialaxis": {
            "gridcolor": "white",
            "linecolor": "white",
            "ticks": ""
           }
          },
          "scene": {
           "xaxis": {
            "backgroundcolor": "#E5ECF6",
            "gridcolor": "white",
            "gridwidth": 2,
            "linecolor": "white",
            "showbackground": true,
            "ticks": "",
            "zerolinecolor": "white"
           },
           "yaxis": {
            "backgroundcolor": "#E5ECF6",
            "gridcolor": "white",
            "gridwidth": 2,
            "linecolor": "white",
            "showbackground": true,
            "ticks": "",
            "zerolinecolor": "white"
           },
           "zaxis": {
            "backgroundcolor": "#E5ECF6",
            "gridcolor": "white",
            "gridwidth": 2,
            "linecolor": "white",
            "showbackground": true,
            "ticks": "",
            "zerolinecolor": "white"
           }
          },
          "shapedefaults": {
           "line": {
            "color": "#2a3f5f"
           }
          },
          "ternary": {
           "aaxis": {
            "gridcolor": "white",
            "linecolor": "white",
            "ticks": ""
           },
           "baxis": {
            "gridcolor": "white",
            "linecolor": "white",
            "ticks": ""
           },
           "bgcolor": "#E5ECF6",
           "caxis": {
            "gridcolor": "white",
            "linecolor": "white",
            "ticks": ""
           }
          },
          "title": {
           "x": 0.05
          },
          "xaxis": {
           "automargin": true,
           "gridcolor": "white",
           "linecolor": "white",
           "ticks": "",
           "title": {
            "standoff": 15
           },
           "zerolinecolor": "white",
           "zerolinewidth": 2
          },
          "yaxis": {
           "automargin": true,
           "gridcolor": "white",
           "linecolor": "white",
           "ticks": "",
           "title": {
            "standoff": 15
           },
           "zerolinecolor": "white",
           "zerolinewidth": 2
          }
         }
        },
        "xaxis": {
         "anchor": "y",
         "domain": [
          0,
          1
         ],
         "title": {
          "text": "time"
         }
        },
        "yaxis": {
         "anchor": "x",
         "domain": [
          0,
          1
         ],
         "title": {
          "text": "mean"
         }
        }
       }
      }
     },
     "metadata": {},
     "output_type": "display_data"
    }
   ],
   "source": [
    "px.line(results.df(), x=\"time\", y=\"mean\", color='state',markers=True)"
   ]
  }
 ],
 "metadata": {
  "kernelspec": {
   "display_name": "Python 3",
   "language": "python",
   "name": "python3"
  },
  "language_info": {
   "codemirror_mode": {
    "name": "ipython",
    "version": 3
   },
   "file_extension": ".py",
   "mimetype": "text/x-python",
   "name": "python",
   "nbconvert_exporter": "python",
   "pygments_lexer": "ipython3",
   "version": "3.10.7"
  },
  "vscode": {
   "interpreter": {
    "hash": "916dbcbb3f70747c44a77c7bcd40155683ae19c65e1c03b4aa3499c5328201f1"
   }
  }
 },
 "nbformat": 4,
 "nbformat_minor": 5
}
