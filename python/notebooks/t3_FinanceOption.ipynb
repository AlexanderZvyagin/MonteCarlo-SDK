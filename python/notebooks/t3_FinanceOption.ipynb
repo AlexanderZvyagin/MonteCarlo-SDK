{
 "cells": [
  {
   "cell_type": "code",
   "execution_count": 11,
   "id": "c2bcaffe-1ae8-4981-acd6-b9ea959cd4e6",
   "metadata": {},
   "outputs": [],
   "source": [
    "from init import *\n",
    "from math import nan"
   ]
  },
  {
   "cell_type": "markdown",
   "id": "f2ee52fb-25f1-4235-9efc-f749ae22684d",
   "metadata": {},
   "source": [
    "# Vanilla option"
   ]
  },
  {
   "cell_type": "code",
   "execution_count": 12,
   "id": "5219dc5a-44b2-44c7-a862-8f095016e250",
   "metadata": {},
   "outputs": [],
   "source": [
    "Call = 0\n",
    "Put = 1"
   ]
  },
  {
   "cell_type": "code",
   "execution_count": 13,
   "id": "5a6711d1-64a2-42a9-b5d6-5a477b7faa66",
   "metadata": {
    "tags": []
   },
   "outputs": [],
   "source": [
    "model = sdk.Model()\n",
    "model.TimeStart = 0\n",
    "model.TimeSteps = 1000\n",
    "model.NumPaths = 100000\n",
    "model.Add(sdk.IndependentGaussian())\n",
    "underlying = model.Add(sdk.GeometricalBrownianMotion(\n",
    "    start = 130,\n",
    "    drift = 0.0,\n",
    "    diffusion = 0.3\n",
    "))\n",
    "\n",
    "option = model.Add(sdk.Option(\n",
    "    underlying = underlying.GetStateNumber(),\n",
    "    call_put = sdk.Option.Put,\n",
    "    strike = 140\n",
    "))\n"
   ]
  },
  {
   "cell_type": "code",
   "execution_count": 14,
   "id": "7e16d5d8-9566-456e-a06b-1603b100cead",
   "metadata": {},
   "outputs": [
    {
     "data": {
      "text/plain": [
       "'{\"TimeStart\": 0, \"TimeSteps\": 1000, \"NumPaths\": 100000, \"updaters\": [{\"name\": \"IndependentGaussian\", \"refs\": [], \"args\": []}, {\"name\": \"GeometricalBrownianMotion\", \"refs\": [], \"args\": [0.0, 0.3], \"start\": 130}, {\"name\": \"Option\", \"refs\": [0], \"args\": [140, 1], \"start\": 0}], \"evaluations\": [{\"state\": 0, \"time\": 2}]}'"
      ]
     },
     "execution_count": 14,
     "metadata": {},
     "output_type": "execute_result"
    }
   ],
   "source": [
    "model.evaluations.append(sdk.EvaluationPoint(0,2))\n",
    "model.json()"
   ]
  },
  {
   "cell_type": "code",
   "execution_count": 15,
   "id": "a4646eab-d989-46d1-9dcc-af1cde2bb458",
   "metadata": {},
   "outputs": [
    {
     "data": {
      "text/html": [
       "<div>\n",
       "<style scoped>\n",
       "    .dataframe tbody tr th:only-of-type {\n",
       "        vertical-align: middle;\n",
       "    }\n",
       "\n",
       "    .dataframe tbody tr th {\n",
       "        vertical-align: top;\n",
       "    }\n",
       "\n",
       "    .dataframe thead th {\n",
       "        text-align: right;\n",
       "    }\n",
       "</style>\n",
       "<table border=\"1\" class=\"dataframe\">\n",
       "  <thead>\n",
       "    <tr style=\"text-align: right;\">\n",
       "      <th></th>\n",
       "      <th>name</th>\n",
       "      <th>title</th>\n",
       "      <th>state</th>\n",
       "      <th>time</th>\n",
       "      <th>step</th>\n",
       "      <th>npaths</th>\n",
       "      <th>mean</th>\n",
       "      <th>mean_error</th>\n",
       "      <th>stddev</th>\n",
       "      <th>skewness</th>\n",
       "    </tr>\n",
       "  </thead>\n",
       "  <tbody>\n",
       "    <tr>\n",
       "      <th>0</th>\n",
       "      <td>GeometricalBrownianMotion</td>\n",
       "      <td></td>\n",
       "      <td>0</td>\n",
       "      <td>2.0</td>\n",
       "      <td>1000</td>\n",
       "      <td>100000</td>\n",
       "      <td>129.665894</td>\n",
       "      <td>0.182262</td>\n",
       "      <td>57.636356</td>\n",
       "      <td>1.435091</td>\n",
       "    </tr>\n",
       "    <tr>\n",
       "      <th>1</th>\n",
       "      <td>Option</td>\n",
       "      <td></td>\n",
       "      <td>1</td>\n",
       "      <td>2.0</td>\n",
       "      <td>1000</td>\n",
       "      <td>100000</td>\n",
       "      <td>28.207945</td>\n",
       "      <td>0.090784</td>\n",
       "      <td>28.708279</td>\n",
       "      <td>0.621633</td>\n",
       "    </tr>\n",
       "  </tbody>\n",
       "</table>\n",
       "</div>"
      ],
      "text/plain": [
       "                        name title  state  time  step  npaths        mean  \\\n",
       "0  GeometricalBrownianMotion            0   2.0  1000  100000  129.665894   \n",
       "1                     Option            1   2.0  1000  100000   28.207945   \n",
       "\n",
       "   mean_error     stddev  skewness  \n",
       "0    0.182262  57.636356  1.435091  \n",
       "1    0.090784  28.708279  0.621633  "
      ]
     },
     "execution_count": 15,
     "metadata": {},
     "output_type": "execute_result"
    }
   ],
   "source": [
    "results = run (model)\n",
    "results.df()"
   ]
  },
  {
   "cell_type": "markdown",
   "id": "629ead67-30c8-4d7d-afd0-8dc20b892336",
   "metadata": {},
   "source": [
    "## MC option price vs strike"
   ]
  },
  {
   "cell_type": "code",
   "execution_count": 16,
   "id": "dfd20fe3-8890-46d3-9bbf-f3a45be4dd57",
   "metadata": {},
   "outputs": [],
   "source": [
    "def vanilla_option_price(spot,strike,volatility,expiry,call_put,mc_paths=10000,mc_steps=1000,seed=-1):\n",
    "    model = sdk.Model()\n",
    "    model.TimeStart = 0\n",
    "    model.TimeSteps = mc_steps\n",
    "    model.NumPaths = mc_paths\n",
    "    model.RandomSeed = seed\n",
    "\n",
    "    model.Add(sdk.IndependentGaussian())\n",
    "    underlying_process = model.Add(sdk.GeometricalBrownianMotion(spot,0,volatility))\n",
    "\n",
    "    option_process = model.Add(sdk.Updater(\n",
    "        name = \"Option\",\n",
    "        args = [strike,call_put],\n",
    "        refs = [underlying_process.GetStateNumber()],\n",
    "        start = 0\n",
    "    ))\n",
    "    \n",
    "    model.evaluations.append(sdk.EvaluationPoint(0,expiry))\n",
    "\n",
    "    results = run(model)\n",
    "        \n",
    "    return results.GetStateEvaluationResult(option_process.GetStateNumber(),0).mean"
   ]
  },
  {
   "cell_type": "code",
   "execution_count": 17,
   "id": "1761d09a-03a6-444c-876b-8b2f9ccebd90",
   "metadata": {},
   "outputs": [],
   "source": [
    "import plotly.express as px\n",
    "import numpy as np"
   ]
  },
  {
   "cell_type": "code",
   "execution_count": 18,
   "id": "59382089-819f-4a42-8b16-cf6520ba9b10",
   "metadata": {},
   "outputs": [
    {
     "data": {
      "application/vnd.plotly.v1+json": {
       "config": {
        "plotlyServerURL": "https://plot.ly"
       },
       "data": [
        {
         "hovertemplate": "x=%{x}<br>y=%{y}<extra></extra>",
         "legendgroup": "",
         "marker": {
          "color": "#636efa",
          "symbol": "circle"
         },
         "mode": "markers",
         "name": "",
         "orientation": "v",
         "showlegend": false,
         "type": "scatter",
         "x": [
          50,
          60.526315789473685,
          71.05263157894737,
          81.57894736842105,
          92.10526315789474,
          102.63157894736842,
          113.15789473684211,
          123.6842105263158,
          134.21052631578948,
          144.73684210526318,
          155.26315789473685,
          165.78947368421052,
          176.31578947368422,
          186.84210526315792,
          197.3684210526316,
          207.89473684210526,
          218.42105263157896,
          228.94736842105266,
          239.47368421052633,
          250
         ],
         "xaxis": "x",
         "y": [
          88.46581268310547,
          74.1302719116211,
          68.92012023925781,
          79.14031219482422,
          65.16685485839844,
          51.77772521972656,
          50.17464065551758,
          53.63365936279297,
          49.78286361694336,
          35.9301643371582,
          47.209571838378906,
          39.761390686035156,
          35.895938873291016,
          30.68089485168457,
          34.6295051574707,
          28.08075714111328,
          26.724945068359375,
          27.197168350219727,
          21.749004364013672,
          24.120676040649414
         ],
         "yaxis": "y"
        }
       ],
       "layout": {
        "legend": {
         "tracegroupgap": 0
        },
        "template": {
         "data": {
          "bar": [
           {
            "error_x": {
             "color": "#2a3f5f"
            },
            "error_y": {
             "color": "#2a3f5f"
            },
            "marker": {
             "line": {
              "color": "#E5ECF6",
              "width": 0.5
             },
             "pattern": {
              "fillmode": "overlay",
              "size": 10,
              "solidity": 0.2
             }
            },
            "type": "bar"
           }
          ],
          "barpolar": [
           {
            "marker": {
             "line": {
              "color": "#E5ECF6",
              "width": 0.5
             },
             "pattern": {
              "fillmode": "overlay",
              "size": 10,
              "solidity": 0.2
             }
            },
            "type": "barpolar"
           }
          ],
          "carpet": [
           {
            "aaxis": {
             "endlinecolor": "#2a3f5f",
             "gridcolor": "white",
             "linecolor": "white",
             "minorgridcolor": "white",
             "startlinecolor": "#2a3f5f"
            },
            "baxis": {
             "endlinecolor": "#2a3f5f",
             "gridcolor": "white",
             "linecolor": "white",
             "minorgridcolor": "white",
             "startlinecolor": "#2a3f5f"
            },
            "type": "carpet"
           }
          ],
          "choropleth": [
           {
            "colorbar": {
             "outlinewidth": 0,
             "ticks": ""
            },
            "type": "choropleth"
           }
          ],
          "contour": [
           {
            "colorbar": {
             "outlinewidth": 0,
             "ticks": ""
            },
            "colorscale": [
             [
              0,
              "#0d0887"
             ],
             [
              0.1111111111111111,
              "#46039f"
             ],
             [
              0.2222222222222222,
              "#7201a8"
             ],
             [
              0.3333333333333333,
              "#9c179e"
             ],
             [
              0.4444444444444444,
              "#bd3786"
             ],
             [
              0.5555555555555556,
              "#d8576b"
             ],
             [
              0.6666666666666666,
              "#ed7953"
             ],
             [
              0.7777777777777778,
              "#fb9f3a"
             ],
             [
              0.8888888888888888,
              "#fdca26"
             ],
             [
              1,
              "#f0f921"
             ]
            ],
            "type": "contour"
           }
          ],
          "contourcarpet": [
           {
            "colorbar": {
             "outlinewidth": 0,
             "ticks": ""
            },
            "type": "contourcarpet"
           }
          ],
          "heatmap": [
           {
            "colorbar": {
             "outlinewidth": 0,
             "ticks": ""
            },
            "colorscale": [
             [
              0,
              "#0d0887"
             ],
             [
              0.1111111111111111,
              "#46039f"
             ],
             [
              0.2222222222222222,
              "#7201a8"
             ],
             [
              0.3333333333333333,
              "#9c179e"
             ],
             [
              0.4444444444444444,
              "#bd3786"
             ],
             [
              0.5555555555555556,
              "#d8576b"
             ],
             [
              0.6666666666666666,
              "#ed7953"
             ],
             [
              0.7777777777777778,
              "#fb9f3a"
             ],
             [
              0.8888888888888888,
              "#fdca26"
             ],
             [
              1,
              "#f0f921"
             ]
            ],
            "type": "heatmap"
           }
          ],
          "heatmapgl": [
           {
            "colorbar": {
             "outlinewidth": 0,
             "ticks": ""
            },
            "colorscale": [
             [
              0,
              "#0d0887"
             ],
             [
              0.1111111111111111,
              "#46039f"
             ],
             [
              0.2222222222222222,
              "#7201a8"
             ],
             [
              0.3333333333333333,
              "#9c179e"
             ],
             [
              0.4444444444444444,
              "#bd3786"
             ],
             [
              0.5555555555555556,
              "#d8576b"
             ],
             [
              0.6666666666666666,
              "#ed7953"
             ],
             [
              0.7777777777777778,
              "#fb9f3a"
             ],
             [
              0.8888888888888888,
              "#fdca26"
             ],
             [
              1,
              "#f0f921"
             ]
            ],
            "type": "heatmapgl"
           }
          ],
          "histogram": [
           {
            "marker": {
             "pattern": {
              "fillmode": "overlay",
              "size": 10,
              "solidity": 0.2
             }
            },
            "type": "histogram"
           }
          ],
          "histogram2d": [
           {
            "colorbar": {
             "outlinewidth": 0,
             "ticks": ""
            },
            "colorscale": [
             [
              0,
              "#0d0887"
             ],
             [
              0.1111111111111111,
              "#46039f"
             ],
             [
              0.2222222222222222,
              "#7201a8"
             ],
             [
              0.3333333333333333,
              "#9c179e"
             ],
             [
              0.4444444444444444,
              "#bd3786"
             ],
             [
              0.5555555555555556,
              "#d8576b"
             ],
             [
              0.6666666666666666,
              "#ed7953"
             ],
             [
              0.7777777777777778,
              "#fb9f3a"
             ],
             [
              0.8888888888888888,
              "#fdca26"
             ],
             [
              1,
              "#f0f921"
             ]
            ],
            "type": "histogram2d"
           }
          ],
          "histogram2dcontour": [
           {
            "colorbar": {
             "outlinewidth": 0,
             "ticks": ""
            },
            "colorscale": [
             [
              0,
              "#0d0887"
             ],
             [
              0.1111111111111111,
              "#46039f"
             ],
             [
              0.2222222222222222,
              "#7201a8"
             ],
             [
              0.3333333333333333,
              "#9c179e"
             ],
             [
              0.4444444444444444,
              "#bd3786"
             ],
             [
              0.5555555555555556,
              "#d8576b"
             ],
             [
              0.6666666666666666,
              "#ed7953"
             ],
             [
              0.7777777777777778,
              "#fb9f3a"
             ],
             [
              0.8888888888888888,
              "#fdca26"
             ],
             [
              1,
              "#f0f921"
             ]
            ],
            "type": "histogram2dcontour"
           }
          ],
          "mesh3d": [
           {
            "colorbar": {
             "outlinewidth": 0,
             "ticks": ""
            },
            "type": "mesh3d"
           }
          ],
          "parcoords": [
           {
            "line": {
             "colorbar": {
              "outlinewidth": 0,
              "ticks": ""
             }
            },
            "type": "parcoords"
           }
          ],
          "pie": [
           {
            "automargin": true,
            "type": "pie"
           }
          ],
          "scatter": [
           {
            "fillpattern": {
             "fillmode": "overlay",
             "size": 10,
             "solidity": 0.2
            },
            "type": "scatter"
           }
          ],
          "scatter3d": [
           {
            "line": {
             "colorbar": {
              "outlinewidth": 0,
              "ticks": ""
             }
            },
            "marker": {
             "colorbar": {
              "outlinewidth": 0,
              "ticks": ""
             }
            },
            "type": "scatter3d"
           }
          ],
          "scattercarpet": [
           {
            "marker": {
             "colorbar": {
              "outlinewidth": 0,
              "ticks": ""
             }
            },
            "type": "scattercarpet"
           }
          ],
          "scattergeo": [
           {
            "marker": {
             "colorbar": {
              "outlinewidth": 0,
              "ticks": ""
             }
            },
            "type": "scattergeo"
           }
          ],
          "scattergl": [
           {
            "marker": {
             "colorbar": {
              "outlinewidth": 0,
              "ticks": ""
             }
            },
            "type": "scattergl"
           }
          ],
          "scattermapbox": [
           {
            "marker": {
             "colorbar": {
              "outlinewidth": 0,
              "ticks": ""
             }
            },
            "type": "scattermapbox"
           }
          ],
          "scatterpolar": [
           {
            "marker": {
             "colorbar": {
              "outlinewidth": 0,
              "ticks": ""
             }
            },
            "type": "scatterpolar"
           }
          ],
          "scatterpolargl": [
           {
            "marker": {
             "colorbar": {
              "outlinewidth": 0,
              "ticks": ""
             }
            },
            "type": "scatterpolargl"
           }
          ],
          "scatterternary": [
           {
            "marker": {
             "colorbar": {
              "outlinewidth": 0,
              "ticks": ""
             }
            },
            "type": "scatterternary"
           }
          ],
          "surface": [
           {
            "colorbar": {
             "outlinewidth": 0,
             "ticks": ""
            },
            "colorscale": [
             [
              0,
              "#0d0887"
             ],
             [
              0.1111111111111111,
              "#46039f"
             ],
             [
              0.2222222222222222,
              "#7201a8"
             ],
             [
              0.3333333333333333,
              "#9c179e"
             ],
             [
              0.4444444444444444,
              "#bd3786"
             ],
             [
              0.5555555555555556,
              "#d8576b"
             ],
             [
              0.6666666666666666,
              "#ed7953"
             ],
             [
              0.7777777777777778,
              "#fb9f3a"
             ],
             [
              0.8888888888888888,
              "#fdca26"
             ],
             [
              1,
              "#f0f921"
             ]
            ],
            "type": "surface"
           }
          ],
          "table": [
           {
            "cells": {
             "fill": {
              "color": "#EBF0F8"
             },
             "line": {
              "color": "white"
             }
            },
            "header": {
             "fill": {
              "color": "#C8D4E3"
             },
             "line": {
              "color": "white"
             }
            },
            "type": "table"
           }
          ]
         },
         "layout": {
          "annotationdefaults": {
           "arrowcolor": "#2a3f5f",
           "arrowhead": 0,
           "arrowwidth": 1
          },
          "autotypenumbers": "strict",
          "coloraxis": {
           "colorbar": {
            "outlinewidth": 0,
            "ticks": ""
           }
          },
          "colorscale": {
           "diverging": [
            [
             0,
             "#8e0152"
            ],
            [
             0.1,
             "#c51b7d"
            ],
            [
             0.2,
             "#de77ae"
            ],
            [
             0.3,
             "#f1b6da"
            ],
            [
             0.4,
             "#fde0ef"
            ],
            [
             0.5,
             "#f7f7f7"
            ],
            [
             0.6,
             "#e6f5d0"
            ],
            [
             0.7,
             "#b8e186"
            ],
            [
             0.8,
             "#7fbc41"
            ],
            [
             0.9,
             "#4d9221"
            ],
            [
             1,
             "#276419"
            ]
           ],
           "sequential": [
            [
             0,
             "#0d0887"
            ],
            [
             0.1111111111111111,
             "#46039f"
            ],
            [
             0.2222222222222222,
             "#7201a8"
            ],
            [
             0.3333333333333333,
             "#9c179e"
            ],
            [
             0.4444444444444444,
             "#bd3786"
            ],
            [
             0.5555555555555556,
             "#d8576b"
            ],
            [
             0.6666666666666666,
             "#ed7953"
            ],
            [
             0.7777777777777778,
             "#fb9f3a"
            ],
            [
             0.8888888888888888,
             "#fdca26"
            ],
            [
             1,
             "#f0f921"
            ]
           ],
           "sequentialminus": [
            [
             0,
             "#0d0887"
            ],
            [
             0.1111111111111111,
             "#46039f"
            ],
            [
             0.2222222222222222,
             "#7201a8"
            ],
            [
             0.3333333333333333,
             "#9c179e"
            ],
            [
             0.4444444444444444,
             "#bd3786"
            ],
            [
             0.5555555555555556,
             "#d8576b"
            ],
            [
             0.6666666666666666,
             "#ed7953"
            ],
            [
             0.7777777777777778,
             "#fb9f3a"
            ],
            [
             0.8888888888888888,
             "#fdca26"
            ],
            [
             1,
             "#f0f921"
            ]
           ]
          },
          "colorway": [
           "#636efa",
           "#EF553B",
           "#00cc96",
           "#ab63fa",
           "#FFA15A",
           "#19d3f3",
           "#FF6692",
           "#B6E880",
           "#FF97FF",
           "#FECB52"
          ],
          "font": {
           "color": "#2a3f5f"
          },
          "geo": {
           "bgcolor": "white",
           "lakecolor": "white",
           "landcolor": "#E5ECF6",
           "showlakes": true,
           "showland": true,
           "subunitcolor": "white"
          },
          "hoverlabel": {
           "align": "left"
          },
          "hovermode": "closest",
          "mapbox": {
           "style": "light"
          },
          "paper_bgcolor": "white",
          "plot_bgcolor": "#E5ECF6",
          "polar": {
           "angularaxis": {
            "gridcolor": "white",
            "linecolor": "white",
            "ticks": ""
           },
           "bgcolor": "#E5ECF6",
           "radialaxis": {
            "gridcolor": "white",
            "linecolor": "white",
            "ticks": ""
           }
          },
          "scene": {
           "xaxis": {
            "backgroundcolor": "#E5ECF6",
            "gridcolor": "white",
            "gridwidth": 2,
            "linecolor": "white",
            "showbackground": true,
            "ticks": "",
            "zerolinecolor": "white"
           },
           "yaxis": {
            "backgroundcolor": "#E5ECF6",
            "gridcolor": "white",
            "gridwidth": 2,
            "linecolor": "white",
            "showbackground": true,
            "ticks": "",
            "zerolinecolor": "white"
           },
           "zaxis": {
            "backgroundcolor": "#E5ECF6",
            "gridcolor": "white",
            "gridwidth": 2,
            "linecolor": "white",
            "showbackground": true,
            "ticks": "",
            "zerolinecolor": "white"
           }
          },
          "shapedefaults": {
           "line": {
            "color": "#2a3f5f"
           }
          },
          "ternary": {
           "aaxis": {
            "gridcolor": "white",
            "linecolor": "white",
            "ticks": ""
           },
           "baxis": {
            "gridcolor": "white",
            "linecolor": "white",
            "ticks": ""
           },
           "bgcolor": "#E5ECF6",
           "caxis": {
            "gridcolor": "white",
            "linecolor": "white",
            "ticks": ""
           }
          },
          "title": {
           "x": 0.05
          },
          "xaxis": {
           "automargin": true,
           "gridcolor": "white",
           "linecolor": "white",
           "ticks": "",
           "title": {
            "standoff": 15
           },
           "zerolinecolor": "white",
           "zerolinewidth": 2
          },
          "yaxis": {
           "automargin": true,
           "gridcolor": "white",
           "linecolor": "white",
           "ticks": "",
           "title": {
            "standoff": 15
           },
           "zerolinecolor": "white",
           "zerolinewidth": 2
          }
         }
        },
        "title": {
         "text": "Call Option price vs strike"
        },
        "xaxis": {
         "anchor": "y",
         "domain": [
          0,
          1
         ],
         "title": {
          "text": "x"
         }
        },
        "yaxis": {
         "anchor": "x",
         "domain": [
          0,
          1
         ],
         "title": {
          "text": "y"
         }
        }
       }
      }
     },
     "metadata": {},
     "output_type": "display_data"
    }
   ],
   "source": [
    "f = lambda x: vanilla_option_price(130,x,0.3,10,Call,mc_paths=1000)\n",
    "vx = np.linspace(50,250,20)\n",
    "\n",
    "fig = px.scatter (\n",
    "    title = f'Call Option price vs strike',\n",
    "    x = vx,\n",
    "    y = [f(x) for x in vx]\n",
    ")\n",
    "fig.show()"
   ]
  },
  {
   "cell_type": "code",
   "execution_count": 19,
   "id": "d5f063be-802d-4ccb-b050-a5a6155f39a2",
   "metadata": {},
   "outputs": [
    {
     "data": {
      "application/vnd.plotly.v1+json": {
       "config": {
        "plotlyServerURL": "https://plot.ly"
       },
       "data": [
        {
         "hovertemplate": "x=%{x}<br>y=%{y}<extra></extra>",
         "legendgroup": "",
         "marker": {
          "color": "#636efa",
          "symbol": "circle"
         },
         "mode": "markers",
         "name": "",
         "orientation": "v",
         "showlegend": false,
         "type": "scatter",
         "x": [
          50,
          60.526315789473685,
          71.05263157894737,
          81.57894736842105,
          92.10526315789474,
          102.63157894736842,
          113.15789473684211,
          123.6842105263158,
          134.21052631578948,
          144.73684210526318,
          155.26315789473685,
          165.78947368421052,
          176.31578947368422,
          186.84210526315792,
          197.3684210526316,
          207.89473684210526,
          218.42105263157896,
          228.94736842105266,
          239.47368421052633,
          250
         ],
         "xaxis": "x",
         "y": [
          83.09523010253906,
          76.19412231445312,
          70.12376403808594,
          64.69723510742188,
          59.78312683105469,
          55.450103759765625,
          51.56127166748047,
          48.0594596862793,
          44.89280319213867,
          41.976226806640625,
          39.318702697753906,
          36.876102447509766,
          34.585533142089844,
          32.49003601074219,
          30.58559226989746,
          28.886991500854492,
          27.324440002441406,
          25.868968963623047,
          24.536846160888672,
          23.27994728088379
         ],
         "yaxis": "y"
        }
       ],
       "layout": {
        "legend": {
         "tracegroupgap": 0
        },
        "template": {
         "data": {
          "bar": [
           {
            "error_x": {
             "color": "#2a3f5f"
            },
            "error_y": {
             "color": "#2a3f5f"
            },
            "marker": {
             "line": {
              "color": "#E5ECF6",
              "width": 0.5
             },
             "pattern": {
              "fillmode": "overlay",
              "size": 10,
              "solidity": 0.2
             }
            },
            "type": "bar"
           }
          ],
          "barpolar": [
           {
            "marker": {
             "line": {
              "color": "#E5ECF6",
              "width": 0.5
             },
             "pattern": {
              "fillmode": "overlay",
              "size": 10,
              "solidity": 0.2
             }
            },
            "type": "barpolar"
           }
          ],
          "carpet": [
           {
            "aaxis": {
             "endlinecolor": "#2a3f5f",
             "gridcolor": "white",
             "linecolor": "white",
             "minorgridcolor": "white",
             "startlinecolor": "#2a3f5f"
            },
            "baxis": {
             "endlinecolor": "#2a3f5f",
             "gridcolor": "white",
             "linecolor": "white",
             "minorgridcolor": "white",
             "startlinecolor": "#2a3f5f"
            },
            "type": "carpet"
           }
          ],
          "choropleth": [
           {
            "colorbar": {
             "outlinewidth": 0,
             "ticks": ""
            },
            "type": "choropleth"
           }
          ],
          "contour": [
           {
            "colorbar": {
             "outlinewidth": 0,
             "ticks": ""
            },
            "colorscale": [
             [
              0,
              "#0d0887"
             ],
             [
              0.1111111111111111,
              "#46039f"
             ],
             [
              0.2222222222222222,
              "#7201a8"
             ],
             [
              0.3333333333333333,
              "#9c179e"
             ],
             [
              0.4444444444444444,
              "#bd3786"
             ],
             [
              0.5555555555555556,
              "#d8576b"
             ],
             [
              0.6666666666666666,
              "#ed7953"
             ],
             [
              0.7777777777777778,
              "#fb9f3a"
             ],
             [
              0.8888888888888888,
              "#fdca26"
             ],
             [
              1,
              "#f0f921"
             ]
            ],
            "type": "contour"
           }
          ],
          "contourcarpet": [
           {
            "colorbar": {
             "outlinewidth": 0,
             "ticks": ""
            },
            "type": "contourcarpet"
           }
          ],
          "heatmap": [
           {
            "colorbar": {
             "outlinewidth": 0,
             "ticks": ""
            },
            "colorscale": [
             [
              0,
              "#0d0887"
             ],
             [
              0.1111111111111111,
              "#46039f"
             ],
             [
              0.2222222222222222,
              "#7201a8"
             ],
             [
              0.3333333333333333,
              "#9c179e"
             ],
             [
              0.4444444444444444,
              "#bd3786"
             ],
             [
              0.5555555555555556,
              "#d8576b"
             ],
             [
              0.6666666666666666,
              "#ed7953"
             ],
             [
              0.7777777777777778,
              "#fb9f3a"
             ],
             [
              0.8888888888888888,
              "#fdca26"
             ],
             [
              1,
              "#f0f921"
             ]
            ],
            "type": "heatmap"
           }
          ],
          "heatmapgl": [
           {
            "colorbar": {
             "outlinewidth": 0,
             "ticks": ""
            },
            "colorscale": [
             [
              0,
              "#0d0887"
             ],
             [
              0.1111111111111111,
              "#46039f"
             ],
             [
              0.2222222222222222,
              "#7201a8"
             ],
             [
              0.3333333333333333,
              "#9c179e"
             ],
             [
              0.4444444444444444,
              "#bd3786"
             ],
             [
              0.5555555555555556,
              "#d8576b"
             ],
             [
              0.6666666666666666,
              "#ed7953"
             ],
             [
              0.7777777777777778,
              "#fb9f3a"
             ],
             [
              0.8888888888888888,
              "#fdca26"
             ],
             [
              1,
              "#f0f921"
             ]
            ],
            "type": "heatmapgl"
           }
          ],
          "histogram": [
           {
            "marker": {
             "pattern": {
              "fillmode": "overlay",
              "size": 10,
              "solidity": 0.2
             }
            },
            "type": "histogram"
           }
          ],
          "histogram2d": [
           {
            "colorbar": {
             "outlinewidth": 0,
             "ticks": ""
            },
            "colorscale": [
             [
              0,
              "#0d0887"
             ],
             [
              0.1111111111111111,
              "#46039f"
             ],
             [
              0.2222222222222222,
              "#7201a8"
             ],
             [
              0.3333333333333333,
              "#9c179e"
             ],
             [
              0.4444444444444444,
              "#bd3786"
             ],
             [
              0.5555555555555556,
              "#d8576b"
             ],
             [
              0.6666666666666666,
              "#ed7953"
             ],
             [
              0.7777777777777778,
              "#fb9f3a"
             ],
             [
              0.8888888888888888,
              "#fdca26"
             ],
             [
              1,
              "#f0f921"
             ]
            ],
            "type": "histogram2d"
           }
          ],
          "histogram2dcontour": [
           {
            "colorbar": {
             "outlinewidth": 0,
             "ticks": ""
            },
            "colorscale": [
             [
              0,
              "#0d0887"
             ],
             [
              0.1111111111111111,
              "#46039f"
             ],
             [
              0.2222222222222222,
              "#7201a8"
             ],
             [
              0.3333333333333333,
              "#9c179e"
             ],
             [
              0.4444444444444444,
              "#bd3786"
             ],
             [
              0.5555555555555556,
              "#d8576b"
             ],
             [
              0.6666666666666666,
              "#ed7953"
             ],
             [
              0.7777777777777778,
              "#fb9f3a"
             ],
             [
              0.8888888888888888,
              "#fdca26"
             ],
             [
              1,
              "#f0f921"
             ]
            ],
            "type": "histogram2dcontour"
           }
          ],
          "mesh3d": [
           {
            "colorbar": {
             "outlinewidth": 0,
             "ticks": ""
            },
            "type": "mesh3d"
           }
          ],
          "parcoords": [
           {
            "line": {
             "colorbar": {
              "outlinewidth": 0,
              "ticks": ""
             }
            },
            "type": "parcoords"
           }
          ],
          "pie": [
           {
            "automargin": true,
            "type": "pie"
           }
          ],
          "scatter": [
           {
            "fillpattern": {
             "fillmode": "overlay",
             "size": 10,
             "solidity": 0.2
            },
            "type": "scatter"
           }
          ],
          "scatter3d": [
           {
            "line": {
             "colorbar": {
              "outlinewidth": 0,
              "ticks": ""
             }
            },
            "marker": {
             "colorbar": {
              "outlinewidth": 0,
              "ticks": ""
             }
            },
            "type": "scatter3d"
           }
          ],
          "scattercarpet": [
           {
            "marker": {
             "colorbar": {
              "outlinewidth": 0,
              "ticks": ""
             }
            },
            "type": "scattercarpet"
           }
          ],
          "scattergeo": [
           {
            "marker": {
             "colorbar": {
              "outlinewidth": 0,
              "ticks": ""
             }
            },
            "type": "scattergeo"
           }
          ],
          "scattergl": [
           {
            "marker": {
             "colorbar": {
              "outlinewidth": 0,
              "ticks": ""
             }
            },
            "type": "scattergl"
           }
          ],
          "scattermapbox": [
           {
            "marker": {
             "colorbar": {
              "outlinewidth": 0,
              "ticks": ""
             }
            },
            "type": "scattermapbox"
           }
          ],
          "scatterpolar": [
           {
            "marker": {
             "colorbar": {
              "outlinewidth": 0,
              "ticks": ""
             }
            },
            "type": "scatterpolar"
           }
          ],
          "scatterpolargl": [
           {
            "marker": {
             "colorbar": {
              "outlinewidth": 0,
              "ticks": ""
             }
            },
            "type": "scatterpolargl"
           }
          ],
          "scatterternary": [
           {
            "marker": {
             "colorbar": {
              "outlinewidth": 0,
              "ticks": ""
             }
            },
            "type": "scatterternary"
           }
          ],
          "surface": [
           {
            "colorbar": {
             "outlinewidth": 0,
             "ticks": ""
            },
            "colorscale": [
             [
              0,
              "#0d0887"
             ],
             [
              0.1111111111111111,
              "#46039f"
             ],
             [
              0.2222222222222222,
              "#7201a8"
             ],
             [
              0.3333333333333333,
              "#9c179e"
             ],
             [
              0.4444444444444444,
              "#bd3786"
             ],
             [
              0.5555555555555556,
              "#d8576b"
             ],
             [
              0.6666666666666666,
              "#ed7953"
             ],
             [
              0.7777777777777778,
              "#fb9f3a"
             ],
             [
              0.8888888888888888,
              "#fdca26"
             ],
             [
              1,
              "#f0f921"
             ]
            ],
            "type": "surface"
           }
          ],
          "table": [
           {
            "cells": {
             "fill": {
              "color": "#EBF0F8"
             },
             "line": {
              "color": "white"
             }
            },
            "header": {
             "fill": {
              "color": "#C8D4E3"
             },
             "line": {
              "color": "white"
             }
            },
            "type": "table"
           }
          ]
         },
         "layout": {
          "annotationdefaults": {
           "arrowcolor": "#2a3f5f",
           "arrowhead": 0,
           "arrowwidth": 1
          },
          "autotypenumbers": "strict",
          "coloraxis": {
           "colorbar": {
            "outlinewidth": 0,
            "ticks": ""
           }
          },
          "colorscale": {
           "diverging": [
            [
             0,
             "#8e0152"
            ],
            [
             0.1,
             "#c51b7d"
            ],
            [
             0.2,
             "#de77ae"
            ],
            [
             0.3,
             "#f1b6da"
            ],
            [
             0.4,
             "#fde0ef"
            ],
            [
             0.5,
             "#f7f7f7"
            ],
            [
             0.6,
             "#e6f5d0"
            ],
            [
             0.7,
             "#b8e186"
            ],
            [
             0.8,
             "#7fbc41"
            ],
            [
             0.9,
             "#4d9221"
            ],
            [
             1,
             "#276419"
            ]
           ],
           "sequential": [
            [
             0,
             "#0d0887"
            ],
            [
             0.1111111111111111,
             "#46039f"
            ],
            [
             0.2222222222222222,
             "#7201a8"
            ],
            [
             0.3333333333333333,
             "#9c179e"
            ],
            [
             0.4444444444444444,
             "#bd3786"
            ],
            [
             0.5555555555555556,
             "#d8576b"
            ],
            [
             0.6666666666666666,
             "#ed7953"
            ],
            [
             0.7777777777777778,
             "#fb9f3a"
            ],
            [
             0.8888888888888888,
             "#fdca26"
            ],
            [
             1,
             "#f0f921"
            ]
           ],
           "sequentialminus": [
            [
             0,
             "#0d0887"
            ],
            [
             0.1111111111111111,
             "#46039f"
            ],
            [
             0.2222222222222222,
             "#7201a8"
            ],
            [
             0.3333333333333333,
             "#9c179e"
            ],
            [
             0.4444444444444444,
             "#bd3786"
            ],
            [
             0.5555555555555556,
             "#d8576b"
            ],
            [
             0.6666666666666666,
             "#ed7953"
            ],
            [
             0.7777777777777778,
             "#fb9f3a"
            ],
            [
             0.8888888888888888,
             "#fdca26"
            ],
            [
             1,
             "#f0f921"
            ]
           ]
          },
          "colorway": [
           "#636efa",
           "#EF553B",
           "#00cc96",
           "#ab63fa",
           "#FFA15A",
           "#19d3f3",
           "#FF6692",
           "#B6E880",
           "#FF97FF",
           "#FECB52"
          ],
          "font": {
           "color": "#2a3f5f"
          },
          "geo": {
           "bgcolor": "white",
           "lakecolor": "white",
           "landcolor": "#E5ECF6",
           "showlakes": true,
           "showland": true,
           "subunitcolor": "white"
          },
          "hoverlabel": {
           "align": "left"
          },
          "hovermode": "closest",
          "mapbox": {
           "style": "light"
          },
          "paper_bgcolor": "white",
          "plot_bgcolor": "#E5ECF6",
          "polar": {
           "angularaxis": {
            "gridcolor": "white",
            "linecolor": "white",
            "ticks": ""
           },
           "bgcolor": "#E5ECF6",
           "radialaxis": {
            "gridcolor": "white",
            "linecolor": "white",
            "ticks": ""
           }
          },
          "scene": {
           "xaxis": {
            "backgroundcolor": "#E5ECF6",
            "gridcolor": "white",
            "gridwidth": 2,
            "linecolor": "white",
            "showbackground": true,
            "ticks": "",
            "zerolinecolor": "white"
           },
           "yaxis": {
            "backgroundcolor": "#E5ECF6",
            "gridcolor": "white",
            "gridwidth": 2,
            "linecolor": "white",
            "showbackground": true,
            "ticks": "",
            "zerolinecolor": "white"
           },
           "zaxis": {
            "backgroundcolor": "#E5ECF6",
            "gridcolor": "white",
            "gridwidth": 2,
            "linecolor": "white",
            "showbackground": true,
            "ticks": "",
            "zerolinecolor": "white"
           }
          },
          "shapedefaults": {
           "line": {
            "color": "#2a3f5f"
           }
          },
          "ternary": {
           "aaxis": {
            "gridcolor": "white",
            "linecolor": "white",
            "ticks": ""
           },
           "baxis": {
            "gridcolor": "white",
            "linecolor": "white",
            "ticks": ""
           },
           "bgcolor": "#E5ECF6",
           "caxis": {
            "gridcolor": "white",
            "linecolor": "white",
            "ticks": ""
           }
          },
          "title": {
           "x": 0.05
          },
          "xaxis": {
           "automargin": true,
           "gridcolor": "white",
           "linecolor": "white",
           "ticks": "",
           "title": {
            "standoff": 15
           },
           "zerolinecolor": "white",
           "zerolinewidth": 2
          },
          "yaxis": {
           "automargin": true,
           "gridcolor": "white",
           "linecolor": "white",
           "ticks": "",
           "title": {
            "standoff": 15
           },
           "zerolinecolor": "white",
           "zerolinewidth": 2
          }
         }
        },
        "title": {
         "text": "Call Option price vs strike"
        },
        "xaxis": {
         "anchor": "y",
         "domain": [
          0,
          1
         ],
         "title": {
          "text": "x"
         }
        },
        "yaxis": {
         "anchor": "x",
         "domain": [
          0,
          1
         ],
         "title": {
          "text": "y"
         }
        }
       }
      }
     },
     "metadata": {},
     "output_type": "display_data"
    }
   ],
   "source": [
    "f = lambda x: vanilla_option_price(130,x,0.3,10,Call,mc_paths=1000,seed=0)\n",
    "vx = np.linspace(50,250,20)\n",
    "\n",
    "fig = px.scatter (\n",
    "    title = f'Call Option price vs strike',\n",
    "    x = vx,\n",
    "    y = [f(x) for x in vx]\n",
    ")\n",
    "fig.show()"
   ]
  },
  {
   "cell_type": "markdown",
   "id": "2b59853e-80de-4e12-84da-0ff950fbd194",
   "metadata": {},
   "source": [
    "# Add barrier"
   ]
  },
  {
   "cell_type": "code",
   "execution_count": 20,
   "id": "e3751ff7-9768-43c5-919a-4d82a7b53e39",
   "metadata": {},
   "outputs": [],
   "source": [
    "def single_barrier_option_price (\n",
    "    spot = 130,\n",
    "    strike = 140,\n",
    "    volatility = 0.3,\n",
    "    barrier1_level = 150,\n",
    "    mc_paths = 10000,\n",
    "    mc_steps = 1000,\n",
    "    seed = -1\n",
    "):\n",
    "    # prepare model\n",
    "    model = sdk.Model()\n",
    "    model.TimeStart = 0\n",
    "    model.TimeSteps = mc_steps\n",
    "    model.NumPaths = mc_paths\n",
    "    model.RandomSeed = seed\n",
    "    model.Add(sdk.IndependentGaussian())\n",
    "    # Add a basic 'underlying' process\n",
    "    underlying_process = model.Add(sdk.GeometricalBrownianMotion(\n",
    "        start = spot,\n",
    "        drift = 0.0,\n",
    "        diffusion = volatility,\n",
    "        title = 'Underlying'\n",
    "    ))\n",
    "\n",
    "    put_option_process = model.Add(sdk.Option(\n",
    "        underlying = underlying_process.GetStateNumber(),\n",
    "        strike = strike,\n",
    "        call_put = sdk.Option.Put,\n",
    "        title = f'Put, K={strike}'\n",
    "    ))\n",
    "\n",
    "    call_option_process = model.Add(sdk.Option(\n",
    "        underlying = underlying_process.GetStateNumber(),\n",
    "        strike = strike,\n",
    "        call_put = sdk.Option.Call,\n",
    "        title = f'Call, K={strike}'\n",
    "    ))\n",
    "    \n",
    "    UpAndOutDigitalBarrier_process = model.Add(sdk.Barrier(\n",
    "        underlying = underlying_process.GetStateNumber(),\n",
    "        start = 1,\n",
    "        level = barrier1_level,\n",
    "        direction = sdk.Barrier.DirectionUp,\n",
    "        action = sdk.Barrier.ActionSet,\n",
    "        value = 0,\n",
    "        title = f'Digital:UpAndOut level={barrier1_level}'\n",
    "    ))\n",
    "\n",
    "    UpAndInDigitalBarrier_process = model.Add(sdk.Barrier(\n",
    "        underlying = underlying_process.GetStateNumber(),\n",
    "        start = 0,\n",
    "        level = barrier1_level,\n",
    "        direction = sdk.Barrier.DirectionUp,\n",
    "        action = sdk.Barrier.ActionSet,\n",
    "        value = 1,\n",
    "        title = f'Digital:UpAndIn level={barrier1_level}'\n",
    "    ))\n",
    "    \n",
    "    UpAndOutPutBarrier_process = model.Add(sdk.Multiplication(\n",
    "        refs = [\n",
    "            put_option_process.GetStateNumber(),\n",
    "            UpAndOutDigitalBarrier_process.GetStateNumber()\n",
    "        ],\n",
    "        factor = 1,\n",
    "        title = f'UpAndOutPut level={barrier1_level}'\n",
    "    ))\n",
    "    \n",
    "    UpAndInPutBarrier_process = model.Add(sdk.Multiplication(\n",
    "        refs = [\n",
    "            put_option_process.GetStateNumber(),\n",
    "            UpAndInDigitalBarrier_process.GetStateNumber()\n",
    "        ],\n",
    "        factor = 1,\n",
    "        title = f'UpAndInPut level={barrier1_level}'\n",
    "    ))\n",
    "\n",
    "    UpAndOutCallBarrier_process = model.Add(sdk.Multiplication(\n",
    "        refs = [\n",
    "            call_option_process.GetStateNumber(),\n",
    "            UpAndOutDigitalBarrier_process.GetStateNumber()\n",
    "        ],\n",
    "        factor = 1,\n",
    "        title = f'UpAndOutCall level={barrier1_level}'\n",
    "    ))\n",
    "    \n",
    "    UpAndInCallBarrier_process = model.Add(sdk.Multiplication(\n",
    "        refs = [\n",
    "            call_option_process.GetStateNumber(),\n",
    "            UpAndInDigitalBarrier_process.GetStateNumber()\n",
    "        ],\n",
    "        factor = 1,\n",
    "        title = f'UpAndInCall level={barrier1_level}'\n",
    "    ))\n",
    "\n",
    "    return model"
   ]
  },
  {
   "cell_type": "code",
   "execution_count": 21,
   "id": "95b28cdc-03c9-42ab-9cd3-ecd42e04ccf7",
   "metadata": {},
   "outputs": [
    {
     "data": {
      "text/html": [
       "<div>\n",
       "<style scoped>\n",
       "    .dataframe tbody tr th:only-of-type {\n",
       "        vertical-align: middle;\n",
       "    }\n",
       "\n",
       "    .dataframe tbody tr th {\n",
       "        vertical-align: top;\n",
       "    }\n",
       "\n",
       "    .dataframe thead th {\n",
       "        text-align: right;\n",
       "    }\n",
       "</style>\n",
       "<table border=\"1\" class=\"dataframe\">\n",
       "  <thead>\n",
       "    <tr style=\"text-align: right;\">\n",
       "      <th></th>\n",
       "      <th>name</th>\n",
       "      <th>title</th>\n",
       "      <th>state</th>\n",
       "      <th>time</th>\n",
       "      <th>step</th>\n",
       "      <th>npaths</th>\n",
       "      <th>mean</th>\n",
       "      <th>mean_error</th>\n",
       "      <th>stddev</th>\n",
       "      <th>skewness</th>\n",
       "    </tr>\n",
       "  </thead>\n",
       "  <tbody>\n",
       "    <tr>\n",
       "      <th>0</th>\n",
       "      <td>GeometricalBrownianMotion</td>\n",
       "      <td>Underlying</td>\n",
       "      <td>0</td>\n",
       "      <td>10.0</td>\n",
       "      <td>1000</td>\n",
       "      <td>10000</td>\n",
       "      <td>129.842957</td>\n",
       "      <td>0.419588</td>\n",
       "      <td>41.958755</td>\n",
       "      <td>0.949827</td>\n",
       "    </tr>\n",
       "    <tr>\n",
       "      <th>1</th>\n",
       "      <td>Option</td>\n",
       "      <td>Put, K=140</td>\n",
       "      <td>1</td>\n",
       "      <td>10.0</td>\n",
       "      <td>1000</td>\n",
       "      <td>10000</td>\n",
       "      <td>22.497404</td>\n",
       "      <td>0.235357</td>\n",
       "      <td>23.535675</td>\n",
       "      <td>0.738102</td>\n",
       "    </tr>\n",
       "    <tr>\n",
       "      <th>2</th>\n",
       "      <td>Option</td>\n",
       "      <td>Call, K=140</td>\n",
       "      <td>2</td>\n",
       "      <td>10.0</td>\n",
       "      <td>1000</td>\n",
       "      <td>10000</td>\n",
       "      <td>12.340369</td>\n",
       "      <td>0.255216</td>\n",
       "      <td>25.521635</td>\n",
       "      <td>2.879818</td>\n",
       "    </tr>\n",
       "    <tr>\n",
       "      <th>3</th>\n",
       "      <td>Barrier</td>\n",
       "      <td>Digital:UpAndOut level=150</td>\n",
       "      <td>3</td>\n",
       "      <td>10.0</td>\n",
       "      <td>1000</td>\n",
       "      <td>10000</td>\n",
       "      <td>0.413300</td>\n",
       "      <td>0.004924</td>\n",
       "      <td>0.492426</td>\n",
       "      <td>0.352134</td>\n",
       "    </tr>\n",
       "    <tr>\n",
       "      <th>4</th>\n",
       "      <td>Barrier</td>\n",
       "      <td>Digital:UpAndIn level=150</td>\n",
       "      <td>4</td>\n",
       "      <td>10.0</td>\n",
       "      <td>1000</td>\n",
       "      <td>10000</td>\n",
       "      <td>0.586700</td>\n",
       "      <td>0.004924</td>\n",
       "      <td>0.492426</td>\n",
       "      <td>-0.352135</td>\n",
       "    </tr>\n",
       "    <tr>\n",
       "      <th>5</th>\n",
       "      <td>Multiplication</td>\n",
       "      <td>UpAndOutPut level=150</td>\n",
       "      <td>5</td>\n",
       "      <td>10.0</td>\n",
       "      <td>1000</td>\n",
       "      <td>10000</td>\n",
       "      <td>16.598116</td>\n",
       "      <td>0.239209</td>\n",
       "      <td>23.920944</td>\n",
       "      <td>1.162817</td>\n",
       "    </tr>\n",
       "    <tr>\n",
       "      <th>6</th>\n",
       "      <td>Multiplication</td>\n",
       "      <td>UpAndInPut level=150</td>\n",
       "      <td>6</td>\n",
       "      <td>10.0</td>\n",
       "      <td>1000</td>\n",
       "      <td>10000</td>\n",
       "      <td>5.899290</td>\n",
       "      <td>0.133248</td>\n",
       "      <td>13.324811</td>\n",
       "      <td>2.563810</td>\n",
       "    </tr>\n",
       "    <tr>\n",
       "      <th>7</th>\n",
       "      <td>Multiplication</td>\n",
       "      <td>UpAndOutCall level=150</td>\n",
       "      <td>7</td>\n",
       "      <td>10.0</td>\n",
       "      <td>1000</td>\n",
       "      <td>10000</td>\n",
       "      <td>0.032908</td>\n",
       "      <td>0.004061</td>\n",
       "      <td>0.406120</td>\n",
       "      <td>14.831571</td>\n",
       "    </tr>\n",
       "    <tr>\n",
       "      <th>8</th>\n",
       "      <td>Multiplication</td>\n",
       "      <td>UpAndInCall level=150</td>\n",
       "      <td>8</td>\n",
       "      <td>10.0</td>\n",
       "      <td>1000</td>\n",
       "      <td>10000</td>\n",
       "      <td>12.307462</td>\n",
       "      <td>0.255343</td>\n",
       "      <td>25.534271</td>\n",
       "      <td>2.878817</td>\n",
       "    </tr>\n",
       "  </tbody>\n",
       "</table>\n",
       "</div>"
      ],
      "text/plain": [
       "                        name                       title  state  time  step  \\\n",
       "0  GeometricalBrownianMotion                  Underlying      0  10.0  1000   \n",
       "1                     Option                  Put, K=140      1  10.0  1000   \n",
       "2                     Option                 Call, K=140      2  10.0  1000   \n",
       "3                    Barrier  Digital:UpAndOut level=150      3  10.0  1000   \n",
       "4                    Barrier   Digital:UpAndIn level=150      4  10.0  1000   \n",
       "5             Multiplication       UpAndOutPut level=150      5  10.0  1000   \n",
       "6             Multiplication        UpAndInPut level=150      6  10.0  1000   \n",
       "7             Multiplication      UpAndOutCall level=150      7  10.0  1000   \n",
       "8             Multiplication       UpAndInCall level=150      8  10.0  1000   \n",
       "\n",
       "   npaths        mean  mean_error     stddev   skewness  \n",
       "0   10000  129.842957    0.419588  41.958755   0.949827  \n",
       "1   10000   22.497404    0.235357  23.535675   0.738102  \n",
       "2   10000   12.340369    0.255216  25.521635   2.879818  \n",
       "3   10000    0.413300    0.004924   0.492426   0.352134  \n",
       "4   10000    0.586700    0.004924   0.492426  -0.352135  \n",
       "5   10000   16.598116    0.239209  23.920944   1.162817  \n",
       "6   10000    5.899290    0.133248  13.324811   2.563810  \n",
       "7   10000    0.032908    0.004061   0.406120  14.831571  \n",
       "8   10000   12.307462    0.255343  25.534271   2.878817  "
      ]
     },
     "execution_count": 21,
     "metadata": {},
     "output_type": "execute_result"
    }
   ],
   "source": [
    "model_1b = single_barrier_option_price(\n",
    "    volatility = 0.1,\n",
    "    spot       = 130,\n",
    "    strike     = 140,\n",
    "    mc_steps   = 1000,\n",
    "    mc_paths   = 10000,\n",
    "    seed       = 111\n",
    ")\n",
    "model_1b.evaluations.append(sdk.EvaluationPoint(0,10))\n",
    "results_1b = run (model_1b)\n",
    "results_1b.df()"
   ]
  },
  {
   "cell_type": "markdown",
   "id": "3c354795-f107-41a6-b18d-b5e40ed109b9",
   "metadata": {},
   "source": [
    "### Run the same model, but ask to compute the state at several time points"
   ]
  },
  {
   "cell_type": "code",
   "execution_count": 22,
   "id": "97af1880-7ef2-4371-8ade-963edaaa081e",
   "metadata": {},
   "outputs": [
    {
     "data": {
      "text/html": [
       "<div>\n",
       "<style scoped>\n",
       "    .dataframe tbody tr th:only-of-type {\n",
       "        vertical-align: middle;\n",
       "    }\n",
       "\n",
       "    .dataframe tbody tr th {\n",
       "        vertical-align: top;\n",
       "    }\n",
       "\n",
       "    .dataframe thead th {\n",
       "        text-align: right;\n",
       "    }\n",
       "</style>\n",
       "<table border=\"1\" class=\"dataframe\">\n",
       "  <thead>\n",
       "    <tr style=\"text-align: right;\">\n",
       "      <th></th>\n",
       "      <th>name</th>\n",
       "      <th>title</th>\n",
       "      <th>state</th>\n",
       "      <th>time</th>\n",
       "      <th>step</th>\n",
       "      <th>npaths</th>\n",
       "      <th>mean</th>\n",
       "      <th>mean_error</th>\n",
       "      <th>stddev</th>\n",
       "      <th>skewness</th>\n",
       "    </tr>\n",
       "  </thead>\n",
       "  <tbody>\n",
       "    <tr>\n",
       "      <th>0</th>\n",
       "      <td>GeometricalBrownianMotion</td>\n",
       "      <td>Underlying</td>\n",
       "      <td>0</td>\n",
       "      <td>2.0</td>\n",
       "      <td>200</td>\n",
       "      <td>10000</td>\n",
       "      <td>130.009369</td>\n",
       "      <td>0.186210</td>\n",
       "      <td>18.620951</td>\n",
       "      <td>0.485307</td>\n",
       "    </tr>\n",
       "    <tr>\n",
       "      <th>1</th>\n",
       "      <td>Option</td>\n",
       "      <td>Put, K=140</td>\n",
       "      <td>1</td>\n",
       "      <td>2.0</td>\n",
       "      <td>200</td>\n",
       "      <td>10000</td>\n",
       "      <td>13.696061</td>\n",
       "      <td>0.130750</td>\n",
       "      <td>13.075028</td>\n",
       "      <td>0.677474</td>\n",
       "    </tr>\n",
       "    <tr>\n",
       "      <th>2</th>\n",
       "      <td>Option</td>\n",
       "      <td>Call, K=140</td>\n",
       "      <td>2</td>\n",
       "      <td>2.0</td>\n",
       "      <td>200</td>\n",
       "      <td>10000</td>\n",
       "      <td>3.705437</td>\n",
       "      <td>0.086187</td>\n",
       "      <td>8.618731</td>\n",
       "      <td>3.085286</td>\n",
       "    </tr>\n",
       "    <tr>\n",
       "      <th>3</th>\n",
       "      <td>Barrier</td>\n",
       "      <td>Digital:UpAndOut level=150</td>\n",
       "      <td>3</td>\n",
       "      <td>2.0</td>\n",
       "      <td>200</td>\n",
       "      <td>10000</td>\n",
       "      <td>0.728500</td>\n",
       "      <td>0.004447</td>\n",
       "      <td>0.444733</td>\n",
       "      <td>-1.027583</td>\n",
       "    </tr>\n",
       "    <tr>\n",
       "      <th>4</th>\n",
       "      <td>Barrier</td>\n",
       "      <td>Digital:UpAndIn level=150</td>\n",
       "      <td>4</td>\n",
       "      <td>2.0</td>\n",
       "      <td>200</td>\n",
       "      <td>10000</td>\n",
       "      <td>0.271500</td>\n",
       "      <td>0.004447</td>\n",
       "      <td>0.444733</td>\n",
       "      <td>1.027582</td>\n",
       "    </tr>\n",
       "    <tr>\n",
       "      <th>5</th>\n",
       "      <td>Multiplication</td>\n",
       "      <td>UpAndOutPut level=150</td>\n",
       "      <td>5</td>\n",
       "      <td>2.0</td>\n",
       "      <td>200</td>\n",
       "      <td>10000</td>\n",
       "      <td>13.262281</td>\n",
       "      <td>0.132786</td>\n",
       "      <td>13.278645</td>\n",
       "      <td>0.698063</td>\n",
       "    </tr>\n",
       "    <tr>\n",
       "      <th>6</th>\n",
       "      <td>Multiplication</td>\n",
       "      <td>UpAndInPut level=150</td>\n",
       "      <td>6</td>\n",
       "      <td>2.0</td>\n",
       "      <td>200</td>\n",
       "      <td>10000</td>\n",
       "      <td>0.433782</td>\n",
       "      <td>0.024779</td>\n",
       "      <td>2.477859</td>\n",
       "      <td>7.710246</td>\n",
       "    </tr>\n",
       "    <tr>\n",
       "      <th>7</th>\n",
       "      <td>Multiplication</td>\n",
       "      <td>UpAndOutCall level=150</td>\n",
       "      <td>7</td>\n",
       "      <td>2.0</td>\n",
       "      <td>200</td>\n",
       "      <td>10000</td>\n",
       "      <td>0.192966</td>\n",
       "      <td>0.009685</td>\n",
       "      <td>0.968457</td>\n",
       "      <td>5.902811</td>\n",
       "    </tr>\n",
       "    <tr>\n",
       "      <th>8</th>\n",
       "      <td>Multiplication</td>\n",
       "      <td>UpAndInCall level=150</td>\n",
       "      <td>8</td>\n",
       "      <td>2.0</td>\n",
       "      <td>200</td>\n",
       "      <td>10000</td>\n",
       "      <td>3.512471</td>\n",
       "      <td>0.086429</td>\n",
       "      <td>8.642926</td>\n",
       "      <td>3.121760</td>\n",
       "    </tr>\n",
       "    <tr>\n",
       "      <th>9</th>\n",
       "      <td>GeometricalBrownianMotion</td>\n",
       "      <td>Underlying</td>\n",
       "      <td>0</td>\n",
       "      <td>5.0</td>\n",
       "      <td>500</td>\n",
       "      <td>10000</td>\n",
       "      <td>129.835327</td>\n",
       "      <td>0.292846</td>\n",
       "      <td>29.284615</td>\n",
       "      <td>0.648456</td>\n",
       "    </tr>\n",
       "    <tr>\n",
       "      <th>10</th>\n",
       "      <td>Option</td>\n",
       "      <td>Put, K=140</td>\n",
       "      <td>1</td>\n",
       "      <td>5.0</td>\n",
       "      <td>500</td>\n",
       "      <td>10000</td>\n",
       "      <td>17.765860</td>\n",
       "      <td>0.182935</td>\n",
       "      <td>18.293453</td>\n",
       "      <td>0.758705</td>\n",
       "    </tr>\n",
       "    <tr>\n",
       "      <th>11</th>\n",
       "      <td>Option</td>\n",
       "      <td>Call, K=140</td>\n",
       "      <td>2</td>\n",
       "      <td>5.0</td>\n",
       "      <td>500</td>\n",
       "      <td>10000</td>\n",
       "      <td>7.601187</td>\n",
       "      <td>0.159014</td>\n",
       "      <td>15.901408</td>\n",
       "      <td>2.727623</td>\n",
       "    </tr>\n",
       "    <tr>\n",
       "      <th>12</th>\n",
       "      <td>Barrier</td>\n",
       "      <td>Digital:UpAndOut level=150</td>\n",
       "      <td>3</td>\n",
       "      <td>5.0</td>\n",
       "      <td>500</td>\n",
       "      <td>10000</td>\n",
       "      <td>0.535800</td>\n",
       "      <td>0.004987</td>\n",
       "      <td>0.498717</td>\n",
       "      <td>-0.143568</td>\n",
       "    </tr>\n",
       "    <tr>\n",
       "      <th>13</th>\n",
       "      <td>Barrier</td>\n",
       "      <td>Digital:UpAndIn level=150</td>\n",
       "      <td>4</td>\n",
       "      <td>5.0</td>\n",
       "      <td>500</td>\n",
       "      <td>10000</td>\n",
       "      <td>0.464200</td>\n",
       "      <td>0.004987</td>\n",
       "      <td>0.498717</td>\n",
       "      <td>0.143569</td>\n",
       "    </tr>\n",
       "    <tr>\n",
       "      <th>14</th>\n",
       "      <td>Multiplication</td>\n",
       "      <td>UpAndOutPut level=150</td>\n",
       "      <td>5</td>\n",
       "      <td>5.0</td>\n",
       "      <td>500</td>\n",
       "      <td>10000</td>\n",
       "      <td>15.202452</td>\n",
       "      <td>0.188020</td>\n",
       "      <td>18.801983</td>\n",
       "      <td>0.952563</td>\n",
       "    </tr>\n",
       "    <tr>\n",
       "      <th>15</th>\n",
       "      <td>Multiplication</td>\n",
       "      <td>UpAndInPut level=150</td>\n",
       "      <td>6</td>\n",
       "      <td>5.0</td>\n",
       "      <td>500</td>\n",
       "      <td>10000</td>\n",
       "      <td>2.563409</td>\n",
       "      <td>0.076861</td>\n",
       "      <td>7.686095</td>\n",
       "      <td>3.631974</td>\n",
       "    </tr>\n",
       "    <tr>\n",
       "      <th>16</th>\n",
       "      <td>Multiplication</td>\n",
       "      <td>UpAndOutCall level=150</td>\n",
       "      <td>7</td>\n",
       "      <td>5.0</td>\n",
       "      <td>500</td>\n",
       "      <td>10000</td>\n",
       "      <td>0.073957</td>\n",
       "      <td>0.006052</td>\n",
       "      <td>0.605212</td>\n",
       "      <td>9.573802</td>\n",
       "    </tr>\n",
       "    <tr>\n",
       "      <th>17</th>\n",
       "      <td>Multiplication</td>\n",
       "      <td>UpAndInCall level=150</td>\n",
       "      <td>8</td>\n",
       "      <td>5.0</td>\n",
       "      <td>500</td>\n",
       "      <td>10000</td>\n",
       "      <td>7.527230</td>\n",
       "      <td>0.159249</td>\n",
       "      <td>15.924884</td>\n",
       "      <td>2.727889</td>\n",
       "    </tr>\n",
       "    <tr>\n",
       "      <th>18</th>\n",
       "      <td>GeometricalBrownianMotion</td>\n",
       "      <td>Underlying</td>\n",
       "      <td>0</td>\n",
       "      <td>10.0</td>\n",
       "      <td>1000</td>\n",
       "      <td>10000</td>\n",
       "      <td>129.910904</td>\n",
       "      <td>0.425843</td>\n",
       "      <td>42.584347</td>\n",
       "      <td>1.076043</td>\n",
       "    </tr>\n",
       "    <tr>\n",
       "      <th>19</th>\n",
       "      <td>Option</td>\n",
       "      <td>Put, K=140</td>\n",
       "      <td>1</td>\n",
       "      <td>10.0</td>\n",
       "      <td>1000</td>\n",
       "      <td>10000</td>\n",
       "      <td>22.590738</td>\n",
       "      <td>0.234712</td>\n",
       "      <td>23.471167</td>\n",
       "      <td>0.708973</td>\n",
       "    </tr>\n",
       "    <tr>\n",
       "      <th>20</th>\n",
       "      <td>Option</td>\n",
       "      <td>Call, K=140</td>\n",
       "      <td>2</td>\n",
       "      <td>10.0</td>\n",
       "      <td>1000</td>\n",
       "      <td>10000</td>\n",
       "      <td>12.501649</td>\n",
       "      <td>0.264138</td>\n",
       "      <td>26.413765</td>\n",
       "      <td>3.098045</td>\n",
       "    </tr>\n",
       "    <tr>\n",
       "      <th>21</th>\n",
       "      <td>Barrier</td>\n",
       "      <td>Digital:UpAndOut level=150</td>\n",
       "      <td>3</td>\n",
       "      <td>10.0</td>\n",
       "      <td>1000</td>\n",
       "      <td>10000</td>\n",
       "      <td>0.412700</td>\n",
       "      <td>0.004923</td>\n",
       "      <td>0.492320</td>\n",
       "      <td>0.354647</td>\n",
       "    </tr>\n",
       "    <tr>\n",
       "      <th>22</th>\n",
       "      <td>Barrier</td>\n",
       "      <td>Digital:UpAndIn level=150</td>\n",
       "      <td>4</td>\n",
       "      <td>10.0</td>\n",
       "      <td>1000</td>\n",
       "      <td>10000</td>\n",
       "      <td>0.587300</td>\n",
       "      <td>0.004923</td>\n",
       "      <td>0.492320</td>\n",
       "      <td>-0.354648</td>\n",
       "    </tr>\n",
       "    <tr>\n",
       "      <th>23</th>\n",
       "      <td>Multiplication</td>\n",
       "      <td>UpAndOutPut level=150</td>\n",
       "      <td>5</td>\n",
       "      <td>10.0</td>\n",
       "      <td>1000</td>\n",
       "      <td>10000</td>\n",
       "      <td>16.516527</td>\n",
       "      <td>0.237327</td>\n",
       "      <td>23.732683</td>\n",
       "      <td>1.147547</td>\n",
       "    </tr>\n",
       "    <tr>\n",
       "      <th>24</th>\n",
       "      <td>Multiplication</td>\n",
       "      <td>UpAndInPut level=150</td>\n",
       "      <td>6</td>\n",
       "      <td>10.0</td>\n",
       "      <td>1000</td>\n",
       "      <td>10000</td>\n",
       "      <td>6.074209</td>\n",
       "      <td>0.137224</td>\n",
       "      <td>13.722430</td>\n",
       "      <td>2.562908</td>\n",
       "    </tr>\n",
       "    <tr>\n",
       "      <th>25</th>\n",
       "      <td>Multiplication</td>\n",
       "      <td>UpAndOutCall level=150</td>\n",
       "      <td>7</td>\n",
       "      <td>10.0</td>\n",
       "      <td>1000</td>\n",
       "      <td>10000</td>\n",
       "      <td>0.025391</td>\n",
       "      <td>0.003678</td>\n",
       "      <td>0.367809</td>\n",
       "      <td>17.218548</td>\n",
       "    </tr>\n",
       "    <tr>\n",
       "      <th>26</th>\n",
       "      <td>Multiplication</td>\n",
       "      <td>UpAndInCall level=150</td>\n",
       "      <td>8</td>\n",
       "      <td>10.0</td>\n",
       "      <td>1000</td>\n",
       "      <td>10000</td>\n",
       "      <td>12.476257</td>\n",
       "      <td>0.264232</td>\n",
       "      <td>26.423195</td>\n",
       "      <td>3.097197</td>\n",
       "    </tr>\n",
       "  </tbody>\n",
       "</table>\n",
       "</div>"
      ],
      "text/plain": [
       "                         name                       title  state  time  step  \\\n",
       "0   GeometricalBrownianMotion                  Underlying      0   2.0   200   \n",
       "1                      Option                  Put, K=140      1   2.0   200   \n",
       "2                      Option                 Call, K=140      2   2.0   200   \n",
       "3                     Barrier  Digital:UpAndOut level=150      3   2.0   200   \n",
       "4                     Barrier   Digital:UpAndIn level=150      4   2.0   200   \n",
       "5              Multiplication       UpAndOutPut level=150      5   2.0   200   \n",
       "6              Multiplication        UpAndInPut level=150      6   2.0   200   \n",
       "7              Multiplication      UpAndOutCall level=150      7   2.0   200   \n",
       "8              Multiplication       UpAndInCall level=150      8   2.0   200   \n",
       "9   GeometricalBrownianMotion                  Underlying      0   5.0   500   \n",
       "10                     Option                  Put, K=140      1   5.0   500   \n",
       "11                     Option                 Call, K=140      2   5.0   500   \n",
       "12                    Barrier  Digital:UpAndOut level=150      3   5.0   500   \n",
       "13                    Barrier   Digital:UpAndIn level=150      4   5.0   500   \n",
       "14             Multiplication       UpAndOutPut level=150      5   5.0   500   \n",
       "15             Multiplication        UpAndInPut level=150      6   5.0   500   \n",
       "16             Multiplication      UpAndOutCall level=150      7   5.0   500   \n",
       "17             Multiplication       UpAndInCall level=150      8   5.0   500   \n",
       "18  GeometricalBrownianMotion                  Underlying      0  10.0  1000   \n",
       "19                     Option                  Put, K=140      1  10.0  1000   \n",
       "20                     Option                 Call, K=140      2  10.0  1000   \n",
       "21                    Barrier  Digital:UpAndOut level=150      3  10.0  1000   \n",
       "22                    Barrier   Digital:UpAndIn level=150      4  10.0  1000   \n",
       "23             Multiplication       UpAndOutPut level=150      5  10.0  1000   \n",
       "24             Multiplication        UpAndInPut level=150      6  10.0  1000   \n",
       "25             Multiplication      UpAndOutCall level=150      7  10.0  1000   \n",
       "26             Multiplication       UpAndInCall level=150      8  10.0  1000   \n",
       "\n",
       "    npaths        mean  mean_error     stddev   skewness  \n",
       "0    10000  130.009369    0.186210  18.620951   0.485307  \n",
       "1    10000   13.696061    0.130750  13.075028   0.677474  \n",
       "2    10000    3.705437    0.086187   8.618731   3.085286  \n",
       "3    10000    0.728500    0.004447   0.444733  -1.027583  \n",
       "4    10000    0.271500    0.004447   0.444733   1.027582  \n",
       "5    10000   13.262281    0.132786  13.278645   0.698063  \n",
       "6    10000    0.433782    0.024779   2.477859   7.710246  \n",
       "7    10000    0.192966    0.009685   0.968457   5.902811  \n",
       "8    10000    3.512471    0.086429   8.642926   3.121760  \n",
       "9    10000  129.835327    0.292846  29.284615   0.648456  \n",
       "10   10000   17.765860    0.182935  18.293453   0.758705  \n",
       "11   10000    7.601187    0.159014  15.901408   2.727623  \n",
       "12   10000    0.535800    0.004987   0.498717  -0.143568  \n",
       "13   10000    0.464200    0.004987   0.498717   0.143569  \n",
       "14   10000   15.202452    0.188020  18.801983   0.952563  \n",
       "15   10000    2.563409    0.076861   7.686095   3.631974  \n",
       "16   10000    0.073957    0.006052   0.605212   9.573802  \n",
       "17   10000    7.527230    0.159249  15.924884   2.727889  \n",
       "18   10000  129.910904    0.425843  42.584347   1.076043  \n",
       "19   10000   22.590738    0.234712  23.471167   0.708973  \n",
       "20   10000   12.501649    0.264138  26.413765   3.098045  \n",
       "21   10000    0.412700    0.004923   0.492320   0.354647  \n",
       "22   10000    0.587300    0.004923   0.492320  -0.354648  \n",
       "23   10000   16.516527    0.237327  23.732683   1.147547  \n",
       "24   10000    6.074209    0.137224  13.722430   2.562908  \n",
       "25   10000    0.025391    0.003678   0.367809  17.218548  \n",
       "26   10000   12.476257    0.264232  26.423195   3.097197  "
      ]
     },
     "execution_count": 22,
     "metadata": {},
     "output_type": "execute_result"
    }
   ],
   "source": [
    "model_2b = single_barrier_option_price(\n",
    "    volatility = 0.1,\n",
    "    spot       = 130,\n",
    "    strike     = 140,\n",
    "    mc_steps   = 1000,\n",
    "    mc_paths   = 10000,\n",
    "    seed       = 111\n",
    ")\n",
    "model_2b.evaluations.append(sdk.EvaluationPoint(0,2))\n",
    "model_2b.evaluations.append(sdk.EvaluationPoint(0,5))\n",
    "model_2b.evaluations.append(sdk.EvaluationPoint(0,10))\n",
    "results_2b = run (model_2b)\n",
    "results_2b.df()"
   ]
  }
 ],
 "metadata": {
  "kernelspec": {
   "display_name": "Python 3",
   "language": "python",
   "name": "python3"
  },
  "language_info": {
   "codemirror_mode": {
    "name": "ipython",
    "version": 3
   },
   "file_extension": ".py",
   "mimetype": "text/x-python",
   "name": "python",
   "nbconvert_exporter": "python",
   "pygments_lexer": "ipython3",
   "version": "3.10.7"
  },
  "vscode": {
   "interpreter": {
    "hash": "916dbcbb3f70747c44a77c7bcd40155683ae19c65e1c03b4aa3499c5328201f1"
   }
  }
 },
 "nbformat": 4,
 "nbformat_minor": 5
}
