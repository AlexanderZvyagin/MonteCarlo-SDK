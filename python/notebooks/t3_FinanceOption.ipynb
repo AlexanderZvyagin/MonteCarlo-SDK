{
 "cells": [
  {
   "cell_type": "code",
   "execution_count": 1,
   "id": "c2bcaffe-1ae8-4981-acd6-b9ea959cd4e6",
   "metadata": {},
   "outputs": [],
   "source": [
    "from init import *\n",
    "from math import nan"
   ]
  },
  {
   "cell_type": "markdown",
   "id": "f2ee52fb-25f1-4235-9efc-f749ae22684d",
   "metadata": {},
   "source": [
    "# Vanilla option"
   ]
  },
  {
   "cell_type": "code",
   "execution_count": 2,
   "id": "5219dc5a-44b2-44c7-a862-8f095016e250",
   "metadata": {},
   "outputs": [],
   "source": [
    "Call = 0\n",
    "Put = 1"
   ]
  },
  {
   "cell_type": "code",
   "execution_count": 3,
   "id": "5a6711d1-64a2-42a9-b5d6-5a477b7faa66",
   "metadata": {
    "tags": []
   },
   "outputs": [],
   "source": [
    "model = sdk.Model()\n",
    "model.TimeStart = 0\n",
    "model.TimeSteps = 1000\n",
    "model.NumPaths = 100000\n",
    "model.Add(sdk.IndependentGaussian())\n",
    "underlying = model.Add(sdk.GeometricalBrownianMotion(\n",
    "    start = 130,\n",
    "    drift = 0.0,\n",
    "    diffusion = 0.3\n",
    "))\n",
    "\n",
    "option = model.Add(sdk.Option(\n",
    "    underlying = underlying.GetStateNumber(),\n",
    "    call_put = sdk.Option.Put,\n",
    "    strike = 140\n",
    "))\n"
   ]
  },
  {
   "cell_type": "code",
   "execution_count": 4,
   "id": "7e16d5d8-9566-456e-a06b-1603b100cead",
   "metadata": {},
   "outputs": [
    {
     "data": {
      "text/plain": [
       "'{\"TimeStart\": 0, \"TimeSteps\": 1000, \"NumPaths\": 100000, \"updaters\": [{\"name\": \"IndependentGaussian\", \"refs\": [], \"args\": []}, {\"name\": \"GeometricalBrownianMotion\", \"refs\": [], \"args\": [0.0, 0.3], \"start\": 130}, {\"name\": \"Option\", \"refs\": [0], \"args\": [140, 1], \"start\": 0}], \"evaluations\": [{\"state\": 0, \"time\": 2, \"histograms\": []}], \"RandomSeed\": -1, \"RunTimeoutSeconds\": 1, \"MemoryLimitKB\": 1}'"
      ]
     },
     "execution_count": 4,
     "metadata": {},
     "output_type": "execute_result"
    }
   ],
   "source": [
    "model.evaluations.append(sdk.EvaluationPoint(0,2))\n",
    "model.json()"
   ]
  },
  {
   "cell_type": "code",
   "execution_count": 5,
   "id": "a4646eab-d989-46d1-9dcc-af1cde2bb458",
   "metadata": {},
   "outputs": [
    {
     "data": {
      "text/html": [
       "<div>\n",
       "<style scoped>\n",
       "    .dataframe tbody tr th:only-of-type {\n",
       "        vertical-align: middle;\n",
       "    }\n",
       "\n",
       "    .dataframe tbody tr th {\n",
       "        vertical-align: top;\n",
       "    }\n",
       "\n",
       "    .dataframe thead th {\n",
       "        text-align: right;\n",
       "    }\n",
       "</style>\n",
       "<table border=\"1\" class=\"dataframe\">\n",
       "  <thead>\n",
       "    <tr style=\"text-align: right;\">\n",
       "      <th></th>\n",
       "      <th>name</th>\n",
       "      <th>title</th>\n",
       "      <th>state</th>\n",
       "      <th>time</th>\n",
       "      <th>step</th>\n",
       "      <th>npaths</th>\n",
       "      <th>mean</th>\n",
       "      <th>mean_error</th>\n",
       "      <th>stddev</th>\n",
       "      <th>skewness</th>\n",
       "    </tr>\n",
       "  </thead>\n",
       "  <tbody>\n",
       "    <tr>\n",
       "      <th>0</th>\n",
       "      <td>GeometricalBrownianMotion</td>\n",
       "      <td></td>\n",
       "      <td>0</td>\n",
       "      <td>2.0</td>\n",
       "      <td>1000</td>\n",
       "      <td>100000</td>\n",
       "      <td>129.653336</td>\n",
       "      <td>0.180921</td>\n",
       "      <td>57.212109</td>\n",
       "      <td>1.384727</td>\n",
       "    </tr>\n",
       "    <tr>\n",
       "      <th>1</th>\n",
       "      <td>Option</td>\n",
       "      <td></td>\n",
       "      <td>1</td>\n",
       "      <td>2.0</td>\n",
       "      <td>1000</td>\n",
       "      <td>100000</td>\n",
       "      <td>28.088856</td>\n",
       "      <td>0.091132</td>\n",
       "      <td>28.818348</td>\n",
       "      <td>0.637922</td>\n",
       "    </tr>\n",
       "  </tbody>\n",
       "</table>\n",
       "</div>"
      ],
      "text/plain": [
       "                        name title  state  time  step  npaths        mean  \\\n",
       "0  GeometricalBrownianMotion            0   2.0  1000  100000  129.653336   \n",
       "1                     Option            1   2.0  1000  100000   28.088856   \n",
       "\n",
       "   mean_error     stddev  skewness  \n",
       "0    0.180921  57.212109  1.384727  \n",
       "1    0.091132  28.818348  0.637922  "
      ]
     },
     "execution_count": 5,
     "metadata": {},
     "output_type": "execute_result"
    }
   ],
   "source": [
    "results = run (model)\n",
    "results.df()"
   ]
  },
  {
   "cell_type": "markdown",
   "id": "629ead67-30c8-4d7d-afd0-8dc20b892336",
   "metadata": {},
   "source": [
    "## MC option price vs strike"
   ]
  },
  {
   "cell_type": "code",
   "execution_count": 6,
   "id": "dfd20fe3-8890-46d3-9bbf-f3a45be4dd57",
   "metadata": {},
   "outputs": [],
   "source": [
    "def vanilla_option_price(spot,strike,volatility,expiry,call_put,mc_paths=10000,mc_steps=1000,seed=-1):\n",
    "    model = sdk.Model()\n",
    "    model.TimeStart = 0\n",
    "    model.TimeSteps = mc_steps\n",
    "    model.NumPaths = mc_paths\n",
    "    model.RandomSeed = seed\n",
    "\n",
    "    model.Add(sdk.IndependentGaussian())\n",
    "    underlying_process = model.Add(sdk.GeometricalBrownianMotion(spot,0,volatility))\n",
    "\n",
    "    option_process = model.Add(sdk.Updater(\n",
    "        name = \"Option\",\n",
    "        args = [strike,call_put],\n",
    "        refs = [underlying_process.GetStateNumber()],\n",
    "        start = 0\n",
    "    ))\n",
    "    \n",
    "    model.evaluations.append(sdk.EvaluationPoint(0,expiry))\n",
    "\n",
    "#     response = requests.post(f'{server}/model',model.json())\n",
    "#     assert response.ok\n",
    "#     results = sdk.EvaluationResults_from_json_string(response.text)\n",
    "#     results.model = model\n",
    "    results = run(model)\n",
    "        \n",
    "    return results.GetStateEvaluationResult(option_process.GetStateNumber(),0).mean"
   ]
  },
  {
   "cell_type": "code",
   "execution_count": 7,
   "id": "1761d09a-03a6-444c-876b-8b2f9ccebd90",
   "metadata": {},
   "outputs": [],
   "source": [
    "import plotly.express as px\n",
    "import numpy as np"
   ]
  },
  {
   "cell_type": "code",
   "execution_count": null,
   "id": "59382089-819f-4a42-8b16-cf6520ba9b10",
   "metadata": {},
   "outputs": [],
   "source": [
    "f = lambda x: vanilla_option_price(130,x,0.3,10,Call,mc_paths=1000)\n",
    "vx = np.linspace(50,250,20)\n",
    "\n",
    "fig = px.scatter (\n",
    "    title = f'Call Option price vs strike',\n",
    "    x = vx,\n",
    "    y = [f(x) for x in vx]\n",
    ")\n",
    "fig.show()"
   ]
  },
  {
   "cell_type": "code",
   "execution_count": null,
   "id": "d5f063be-802d-4ccb-b050-a5a6155f39a2",
   "metadata": {},
   "outputs": [],
   "source": [
    "f = lambda x: vanilla_option_price(130,x,0.3,10,'call',mc_paths=1000,seed=0)\n",
    "vx = np.linspace(50,250,20)\n",
    "\n",
    "fig = px.scatter (\n",
    "    title = f'Call Option price vs strike',\n",
    "    x = vx,\n",
    "    y = [f(x) for x in vx]\n",
    ")\n",
    "fig.show()"
   ]
  },
  {
   "cell_type": "markdown",
   "id": "2b59853e-80de-4e12-84da-0ff950fbd194",
   "metadata": {},
   "source": [
    "# Add barrier"
   ]
  },
  {
   "cell_type": "code",
   "execution_count": null,
   "id": "e3751ff7-9768-43c5-919a-4d82a7b53e39",
   "metadata": {},
   "outputs": [],
   "source": [
    "def single_barrier_option_price (\n",
    "    spot = 130,\n",
    "    strike = 140,\n",
    "    volatility = 0.3,\n",
    "    barrier1_level = 150,\n",
    "    mc_paths = 10000,\n",
    "    mc_steps = 1000,\n",
    "    seed = -1\n",
    "):\n",
    "    # prepare model\n",
    "    model = sdk.Model()\n",
    "    model.TimeStart = 0\n",
    "    model.TimeSteps = mc_steps\n",
    "    model.NumPaths = mc_paths\n",
    "    model.RandomSeed = seed\n",
    "    model.Add(sdk.IndependentGaussian())\n",
    "    # Add a basic 'underlying' process\n",
    "    underlying_process = model.Add(sdk.GeometricalBrownianMotion(\n",
    "        start = spot,\n",
    "        drift = 0.0,\n",
    "        diffusion = volatility,\n",
    "        title = 'Underlying'\n",
    "    ))\n",
    "\n",
    "    put_option_process = model.Add(sdk.Option(\n",
    "        underlying = underlying_process.GetStateNumber(),\n",
    "        strike = strike,\n",
    "        call_put = sdk.Option.Put,\n",
    "        title = f'Put, K={strike}'\n",
    "    ))\n",
    "\n",
    "    call_option_process = model.Add(sdk.Option(\n",
    "        underlying = underlying_process.GetStateNumber(),\n",
    "        strike = strike,\n",
    "        call_put = sdk.Option.Call,\n",
    "        title = f'Call, K={strike}'\n",
    "    ))\n",
    "    \n",
    "    UpAndOutDigitalBarrier_process = model.Add(sdk.Barrier(\n",
    "        underlying = underlying_process.GetStateNumber(),\n",
    "        start = 1,\n",
    "        level = barrier1_level,\n",
    "        direction = sdk.Barrier.DirectionUp,\n",
    "        action = sdk.Barrier.ActionSet,\n",
    "        value = 0,\n",
    "        title = f'Digital:UpAndOut level={barrier1_level}'\n",
    "    ))\n",
    "\n",
    "    UpAndInDigitalBarrier_process = model.Add(sdk.Barrier(\n",
    "        underlying = underlying_process.GetStateNumber(),\n",
    "        start = 0,\n",
    "        level = barrier1_level,\n",
    "        direction = sdk.Barrier.DirectionUp,\n",
    "        action = sdk.Barrier.ActionSet,\n",
    "        value = 1,\n",
    "        title = f'Digital:UpAndIn level={barrier1_level}'\n",
    "    ))\n",
    "    \n",
    "    UpAndOutPutBarrier_process = model.Add(sdk.Multiplication(\n",
    "        refs = [\n",
    "            put_option_process.GetStateNumber(),\n",
    "            UpAndOutDigitalBarrier_process.GetStateNumber()\n",
    "        ],\n",
    "        factor = 1,\n",
    "        title = f'UpAndOutPut level={barrier1_level}'\n",
    "    ))\n",
    "    \n",
    "    UpAndInPutBarrier_process = model.Add(sdk.Multiplication(\n",
    "        refs = [\n",
    "            put_option_process.GetStateNumber(),\n",
    "            UpAndInDigitalBarrier_process.GetStateNumber()\n",
    "        ],\n",
    "        factor = 1,\n",
    "        title = f'UpAndInPut level={barrier1_level}'\n",
    "    ))\n",
    "\n",
    "    UpAndOutCallBarrier_process = model.Add(sdk.Multiplication(\n",
    "        refs = [\n",
    "            call_option_process.GetStateNumber(),\n",
    "            UpAndOutDigitalBarrier_process.GetStateNumber()\n",
    "        ],\n",
    "        factor = 1,\n",
    "        title = f'UpAndOutCall level={barrier1_level}'\n",
    "    ))\n",
    "    \n",
    "    UpAndInCallBarrier_process = model.Add(sdk.Multiplication(\n",
    "        refs = [\n",
    "            call_option_process.GetStateNumber(),\n",
    "            UpAndInDigitalBarrier_process.GetStateNumber()\n",
    "        ],\n",
    "        factor = 1,\n",
    "        title = f'UpAndInCall level={barrier1_level}'\n",
    "    ))\n",
    "\n",
    "    return model"
   ]
  },
  {
   "cell_type": "code",
   "execution_count": null,
   "id": "95b28cdc-03c9-42ab-9cd3-ecd42e04ccf7",
   "metadata": {},
   "outputs": [],
   "source": [
    "model_1b = single_barrier_option_price(\n",
    "    volatility = 0.1,\n",
    "    spot       = 130,\n",
    "    strike     = 140,\n",
    "    mc_steps   = 1000,\n",
    "    mc_paths   = 10000,\n",
    "    seed       = 111\n",
    ")\n",
    "model_1b.evaluations.append(sdk.EvaluationPoint(0,10))\n",
    "results_1b = run (model_1b)\n",
    "results_1b.df()"
   ]
  },
  {
   "cell_type": "markdown",
   "id": "3c354795-f107-41a6-b18d-b5e40ed109b9",
   "metadata": {},
   "source": [
    "### Run the same model, but ask to compute the state at several time points"
   ]
  },
  {
   "cell_type": "code",
   "execution_count": null,
   "id": "97af1880-7ef2-4371-8ade-963edaaa081e",
   "metadata": {},
   "outputs": [],
   "source": [
    "model_2b = single_barrier_option_price(\n",
    "    volatility = 0.1,\n",
    "    spot       = 130,\n",
    "    strike     = 140,\n",
    "    mc_steps   = 1000,\n",
    "    mc_paths   = 10000,\n",
    "    seed       = 111\n",
    ")\n",
    "model_2b.evaluations.append(sdk.EvaluationPoint(0,2))\n",
    "model_2b.evaluations.append(sdk.EvaluationPoint(0,5))\n",
    "model_2b.evaluations.append(sdk.EvaluationPoint(0,10))\n",
    "results_2b = run (model_2b)\n",
    "results_2b.df()"
   ]
  }
 ],
 "metadata": {
  "kernelspec": {
   "display_name": "Python 3 (ipykernel)",
   "language": "python",
   "name": "python3"
  },
  "language_info": {
   "codemirror_mode": {
    "name": "ipython",
    "version": 3
   },
   "file_extension": ".py",
   "mimetype": "text/x-python",
   "name": "python",
   "nbconvert_exporter": "python",
   "pygments_lexer": "ipython3",
   "version": "3.10.7"
  }
 },
 "nbformat": 4,
 "nbformat_minor": 5
}
