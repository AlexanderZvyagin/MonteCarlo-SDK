{
 "cells": [
  {
   "cell_type": "code",
   "execution_count": 1,
   "id": "c2bcaffe-1ae8-4981-acd6-b9ea959cd4e6",
   "metadata": {},
   "outputs": [],
   "source": [
    "from init import *"
   ]
  },
  {
   "cell_type": "markdown",
   "id": "54605a59",
   "metadata": {},
   "source": [
    "# 1-factor HullWhite Model\n",
    "With constant $\\alpha$, $\\theta$ and $\\sigma$."
   ]
  },
  {
   "cell_type": "code",
   "execution_count": 2,
   "id": "5a6711d1-64a2-42a9-b5d6-5a477b7faa66",
   "metadata": {
    "tags": []
   },
   "outputs": [],
   "source": [
    "def create_model (alpha,theta,sigma,r0=0,t0=0,TimeSteps=2,NumPaths=1000):\n",
    "    print(f'HW(alpha={alpha},theta={theta},sigma={sigma}) model with {TimeSteps} time steps and {NumPaths} paths.')\n",
    "\n",
    "    model = sdk.Model()\n",
    "    model.TimeStart = t0\n",
    "    model.TimeSteps = TimeSteps\n",
    "    model.NumPaths = NumPaths\n",
    "    \n",
    "    model.alpha = alpha\n",
    "    model.theta = theta\n",
    "    model.sigma = sigma\n",
    "    model.r0    = r0\n",
    "    \n",
    "    model.hw_uf = model.Add(sdk.Updater('HullWhite1FactorModel',args=[alpha,theta,sigma],start=[0],title='rate'))\n",
    "    model.df_uf = model.Add(sdk.ZeroCouponBond(underlying=model.hw_uf.GetStateNumber(),start=1,title=f'df'))\n",
    "    \n",
    "    return model"
   ]
  },
  {
   "cell_type": "markdown",
   "id": "9f860465",
   "metadata": {},
   "source": [
    "## Theoretical Rate Distribution in HullWhite model\n",
    "See https://en.wikipedia.org/wiki/Hull%E2%80%93White_model"
   ]
  },
  {
   "cell_type": "code",
   "execution_count": 3,
   "id": "ff683a31",
   "metadata": {},
   "outputs": [],
   "source": [
    "from math import *\n",
    "def theoretical_rate(model,t):\n",
    "    z = exp(-model.alpha*t)\n",
    "    mean  = z*model.r0 + model.theta/model.alpha*(1-z)\n",
    "    sigma = sqrt(model.sigma**2/(2*model.alpha)*(1-z**2))\n",
    "    return (mean,sigma)"
   ]
  },
  {
   "cell_type": "code",
   "execution_count": 4,
   "id": "d79f98ab",
   "metadata": {},
   "outputs": [
    {
     "name": "stdout",
     "output_type": "stream",
     "text": [
      "HW(alpha=0.01,theta=0.02,sigma=0.03) model with 100 time steps and 1000000 paths.\n"
     ]
    },
    {
     "data": {
      "text/html": [
       "<div>\n",
       "<style scoped>\n",
       "    .dataframe tbody tr th:only-of-type {\n",
       "        vertical-align: middle;\n",
       "    }\n",
       "\n",
       "    .dataframe tbody tr th {\n",
       "        vertical-align: top;\n",
       "    }\n",
       "\n",
       "    .dataframe thead th {\n",
       "        text-align: right;\n",
       "    }\n",
       "</style>\n",
       "<table border=\"1\" class=\"dataframe\">\n",
       "  <thead>\n",
       "    <tr style=\"text-align: right;\">\n",
       "      <th></th>\n",
       "      <th>name</th>\n",
       "      <th>title</th>\n",
       "      <th>state</th>\n",
       "      <th>point</th>\n",
       "      <th>time</th>\n",
       "      <th>step</th>\n",
       "      <th>npaths</th>\n",
       "      <th>mean</th>\n",
       "      <th>mean_error</th>\n",
       "      <th>stddev</th>\n",
       "      <th>skewness</th>\n",
       "    </tr>\n",
       "  </thead>\n",
       "  <tbody>\n",
       "    <tr>\n",
       "      <th>0</th>\n",
       "      <td>HullWhite1FactorModel</td>\n",
       "      <td>rate</td>\n",
       "      <td>0</td>\n",
       "      <td>0</td>\n",
       "      <td>0.0</td>\n",
       "      <td>-1</td>\n",
       "      <td>1000000</td>\n",
       "      <td>0.00000</td>\n",
       "      <td>0.000000</td>\n",
       "      <td>0.000000</td>\n",
       "      <td>0.000000</td>\n",
       "    </tr>\n",
       "    <tr>\n",
       "      <th>1</th>\n",
       "      <td>ZeroCouponBond</td>\n",
       "      <td>df</td>\n",
       "      <td>1</td>\n",
       "      <td>0</td>\n",
       "      <td>0.0</td>\n",
       "      <td>-1</td>\n",
       "      <td>1000000</td>\n",
       "      <td>1.00000</td>\n",
       "      <td>0.000000</td>\n",
       "      <td>0.000000</td>\n",
       "      <td>0.000000</td>\n",
       "    </tr>\n",
       "    <tr>\n",
       "      <th>2</th>\n",
       "      <td>HullWhite1FactorModel</td>\n",
       "      <td>rate</td>\n",
       "      <td>0</td>\n",
       "      <td>1</td>\n",
       "      <td>10.0</td>\n",
       "      <td>99</td>\n",
       "      <td>1000000</td>\n",
       "      <td>0.19043</td>\n",
       "      <td>0.000090</td>\n",
       "      <td>0.090342</td>\n",
       "      <td>-0.000702</td>\n",
       "    </tr>\n",
       "    <tr>\n",
       "      <th>3</th>\n",
       "      <td>ZeroCouponBond</td>\n",
       "      <td>df</td>\n",
       "      <td>1</td>\n",
       "      <td>1</td>\n",
       "      <td>10.0</td>\n",
       "      <td>99</td>\n",
       "      <td>1000000</td>\n",
       "      <td>0.43747</td>\n",
       "      <td>0.000248</td>\n",
       "      <td>0.248386</td>\n",
       "      <td>1.861757</td>\n",
       "    </tr>\n",
       "  </tbody>\n",
       "</table>\n",
       "</div>"
      ],
      "text/plain": [
       "                    name title  state  point  time  step   npaths     mean  \\\n",
       "0  HullWhite1FactorModel  rate      0      0   0.0    -1  1000000  0.00000   \n",
       "1         ZeroCouponBond    df      1      0   0.0    -1  1000000  1.00000   \n",
       "2  HullWhite1FactorModel  rate      0      1  10.0    99  1000000  0.19043   \n",
       "3         ZeroCouponBond    df      1      1  10.0    99  1000000  0.43747   \n",
       "\n",
       "   mean_error    stddev  skewness  \n",
       "0    0.000000  0.000000  0.000000  \n",
       "1    0.000000  0.000000  0.000000  \n",
       "2    0.000090  0.090342 -0.000702  \n",
       "3    0.000248  0.248386  1.861757  "
      ]
     },
     "execution_count": 4,
     "metadata": {},
     "output_type": "execute_result"
    }
   ],
   "source": [
    "model = create_model(0.01,0.02,0.03,TimeSteps=100,NumPaths=1000000)\n",
    "TimeHorizon = 10\n",
    "for t in [model.TimeStart,TimeHorizon]:\n",
    "    model.evaluations.append(sdk.EvaluationPoint(t)\n",
    "        .Add(sdk.Histogram(\n",
    "            ax = sdk.HistogramAxis(\n",
    "                model.hw_uf.GetStateNumber(),\n",
    "                200\n",
    "            ),\n",
    "        ))\n",
    "        .Add(sdk.Histogram(\n",
    "            ax = sdk.HistogramAxis(\n",
    "                model.df_uf.GetStateNumber(),\n",
    "                200,0,2\n",
    "            ),\n",
    "        ))\n",
    "    )\n",
    "results = sdk.run (model, server)\n",
    "results.df()"
   ]
  },
  {
   "cell_type": "code",
   "execution_count": 5,
   "id": "df68efa9",
   "metadata": {},
   "outputs": [],
   "source": [
    "theory_mean, theory_sigma = theoretical_rate(model,10)"
   ]
  },
  {
   "cell_type": "markdown",
   "id": "cdab796c",
   "metadata": {},
   "source": [
    "# Compare Theorical and MonteCarlo Results"
   ]
  },
  {
   "cell_type": "code",
   "execution_count": 6,
   "id": "4a55cee8",
   "metadata": {
    "scrolled": true
   },
   "outputs": [
    {
     "data": {
      "text/html": [
       "<div>\n",
       "<style scoped>\n",
       "    .dataframe tbody tr th:only-of-type {\n",
       "        vertical-align: middle;\n",
       "    }\n",
       "\n",
       "    .dataframe tbody tr th {\n",
       "        vertical-align: top;\n",
       "    }\n",
       "\n",
       "    .dataframe thead th {\n",
       "        text-align: right;\n",
       "    }\n",
       "</style>\n",
       "<table border=\"1\" class=\"dataframe\">\n",
       "  <thead>\n",
       "    <tr style=\"text-align: right;\">\n",
       "      <th></th>\n",
       "      <th>Method</th>\n",
       "      <th>mean</th>\n",
       "      <th>sigma</th>\n",
       "    </tr>\n",
       "  </thead>\n",
       "  <tbody>\n",
       "    <tr>\n",
       "      <th>0</th>\n",
       "      <td>Theory</td>\n",
       "      <td>0.190325</td>\n",
       "      <td>0.090317</td>\n",
       "    </tr>\n",
       "    <tr>\n",
       "      <th>1</th>\n",
       "      <td>MonteCarlo</td>\n",
       "      <td>0.190430</td>\n",
       "      <td>0.090342</td>\n",
       "    </tr>\n",
       "  </tbody>\n",
       "</table>\n",
       "</div>"
      ],
      "text/plain": [
       "       Method      mean     sigma\n",
       "0      Theory  0.190325  0.090317\n",
       "1  MonteCarlo  0.190430  0.090342"
      ]
     },
     "execution_count": 6,
     "metadata": {},
     "output_type": "execute_result"
    }
   ],
   "source": [
    "import pandas as pd\n",
    "pd.DataFrame([{\n",
    "    'Method':'Theory',\n",
    "    'mean':theory_mean,\n",
    "    'sigma':theory_sigma\n",
    "},{\n",
    "    'Method':'MonteCarlo',\n",
    "    'mean':results.GetStateEvaluationResult(model.hw_uf.GetStateNumber(),1).mean,\n",
    "    'sigma':results.GetStateEvaluationResult(model.hw_uf.GetStateNumber(),1).stddev\n",
    "}])"
   ]
  },
  {
   "cell_type": "code",
   "execution_count": 7,
   "id": "a382ed30",
   "metadata": {},
   "outputs": [
    {
     "data": {
      "image/png": "[encoded data removed]",
      "text/plain": [
       "<Figure size 640x480 with 1 Axes>"
      ]
     },
     "metadata": {},
     "output_type": "display_data"
    },
    {
     "data": {
      "image/png": "[encoded data removed]",
      "text/plain": [
       "<Figure size 640x480 with 1 Axes>"
      ]
     },
     "metadata": {},
     "output_type": "display_data"
    }
   ],
   "source": [
    "plot(results=results,point=1,stateX=model.hw_uf.GetStateNumber())\n",
    "plot(results=results,point=1,stateX=model.df_uf.GetStateNumber())"
   ]
  }
 ],
 "metadata": {
  "kernelspec": {
   "display_name": "Python 3 (ipykernel)",
   "language": "python",
   "name": "python3"
  },
  "language_info": {
   "codemirror_mode": {
    "name": "ipython",
    "version": 3
   },
   "file_extension": ".py",
   "mimetype": "text/x-python",
   "name": "python",
   "nbconvert_exporter": "python",
   "pygments_lexer": "ipython3",
   "version": "3.10.12"
  },
  "vscode": {
   "interpreter": {
    "hash": "916dbcbb3f70747c44a77c7bcd40155683ae19c65e1c03b4aa3499c5328201f1"
   }
  }
 },
 "nbformat": 4,
 "nbformat_minor": 5
}
