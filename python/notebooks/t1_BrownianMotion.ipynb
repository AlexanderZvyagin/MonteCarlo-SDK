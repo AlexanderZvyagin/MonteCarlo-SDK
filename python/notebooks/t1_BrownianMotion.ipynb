{
 "cells": [
  {
   "cell_type": "code",
   "execution_count": 1,
   "id": "c2bcaffe-1ae8-4981-acd6-b9ea959cd4e6",
   "metadata": {},
   "outputs": [],
   "source": [
    "from init import *"
   ]
  },
  {
   "cell_type": "code",
   "execution_count": 2,
   "id": "5a6711d1-64a2-42a9-b5d6-5a477b7faa66",
   "metadata": {
    "tags": []
   },
   "outputs": [],
   "source": [
    "def BuildModel_Simple():\n",
    "    m = Model()\n",
    "    m.TimeStart = 0\n",
    "    m.TimeSteps = 10\n",
    "    m.NumPaths = 10000\n",
    "    m.Add(IndependentGaussian())\n",
    "    m.Add(BrownianMotion(0.1,0.2,2)) # start, drift, diffusion\n",
    "    return m"
   ]
  },
  {
   "cell_type": "code",
   "execution_count": 3,
   "id": "7e16d5d8-9566-456e-a06b-1603b100cead",
   "metadata": {},
   "outputs": [
    {
     "data": {
      "text/plain": [
       "'{\"TimeStart\": 0, \"TimeSteps\": 10, \"NumPaths\": 10000, \"updaters\": [{\"name\": \"IndependentGaussian\", \"refs\": []}, {\"name\": \"BrownianMotion\", \"start\": 0.1, \"args\": [0.2, 2]}], \"evaluations\": [{\"state\": 0, \"time\": 2, \"histograms\": []}], \"RandomSeed\": -1, \"RunTimeoutSeconds\": 1, \"MemoryLimitKB\": 64}'"
      ]
     },
     "execution_count": 3,
     "metadata": {},
     "output_type": "execute_result"
    }
   ],
   "source": [
    "m = BuildModel_Simple()\n",
    "m.evaluations.append(EvaluationPoint(0,2))\n",
    "m.json()"
   ]
  },
  {
   "cell_type": "code",
   "execution_count": 4,
   "id": "a3fdd414-b512-4d68-9d8b-e14d1189826b",
   "metadata": {},
   "outputs": [
    {
     "data": {
      "text/plain": [
       "{'histograms': [],\n",
       " 'mean': [0.49353769421577454],\n",
       " 'names': ['BrownianMotion'],\n",
       " 'npaths': [10000],\n",
       " 'run_time_seconds': {'mean': 0.0002956379612442106,\n",
       "  'n': 768,\n",
       "  'skewness': None,\n",
       "  'stddev': 7.816727816134517e-07},\n",
       " 'skewness': [0.008217498660087585],\n",
       " 'stddev': [2.8386354446411133],\n",
       " 'time_points': [2.0],\n",
       " 'time_steps': [10]}"
      ]
     },
     "execution_count": 4,
     "metadata": {},
     "output_type": "execute_result"
    }
   ],
   "source": [
    "r = requests.post(f'{server}/model',m.json())\n",
    "r.json()"
   ]
  },
  {
   "cell_type": "code",
   "execution_count": 5,
   "id": "6629e079-e908-4501-9a89-dd9d191883a0",
   "metadata": {},
   "outputs": [
    {
     "data": {
      "text/plain": [
       "{'histograms': [],\n",
       " 'mean': [0.29631662368774414,\n",
       "  0.4970751106739044,\n",
       "  1.0937957763671875,\n",
       "  2.093475341796875],\n",
       " 'names': ['BrownianMotion'],\n",
       " 'npaths': [1000000, 1000000, 1000000, 1000000],\n",
       " 'run_time_seconds': {'mean': 1.5370986461639404,\n",
       "  'n': 768,\n",
       "  'skewness': None,\n",
       "  'stddev': 0.0012977849692106247},\n",
       " 'skewness': [-0.0011737046297639608,\n",
       "  -0.0006328717572614551,\n",
       "  -0.0028392188251018524,\n",
       "  0.0019566339906305075],\n",
       " 'stddev': [2.0003013610839844,\n",
       "  2.8279387950897217,\n",
       "  4.473629951477051,\n",
       "  6.327223777770996],\n",
       " 'time_points': [1.0, 2.0, 5.0, 10.0],\n",
       " 'time_steps': [100, 200, 500, 1000]}"
      ]
     },
     "execution_count": 5,
     "metadata": {},
     "output_type": "execute_result"
    }
   ],
   "source": [
    "import time\n",
    "m = BuildModel_Simple()\n",
    "m.NumPaths = 1000000\n",
    "m.TimeSteps = 1000\n",
    "m.RunTimeoutSeconds = 16.7\n",
    "for t in [1,2,5,10]:\n",
    "    m.evaluations.append(EvaluationPoint(0,t))\n",
    "time_start = time.time()\n",
    "r = requests.post(f'{server}/model',m.json())\n",
    "time_end = time.time()\n",
    "r.json()"
   ]
  },
  {
   "cell_type": "code",
   "execution_count": 6,
   "id": "15c1ec56-107e-4c3d-bbd1-ee3c47d83f50",
   "metadata": {},
   "outputs": [
    {
     "name": "stdout",
     "output_type": "stream",
     "text": [
      "0.7 nanoseconds to make a single time step\n"
     ]
    }
   ],
   "source": [
    "print(f'{m.NumPaths*m.TimeSteps/(time_end-time_start)*1e-9:.1f} nanoseconds to make a single time step')"
   ]
  },
  {
   "cell_type": "markdown",
   "id": "a57da563-2a85-4ca7-ae81-39dbbe3e3733",
   "metadata": {},
   "source": [
    "# Two processes, Three evaluations"
   ]
  },
  {
   "cell_type": "code",
   "execution_count": 7,
   "id": "ab2bb8be-1fd5-4521-8695-fe8815108de7",
   "metadata": {},
   "outputs": [],
   "source": [
    "def TwoProcessesModel ():\n",
    "    m = Model()\n",
    "    m.TimeStart = 0\n",
    "    m.TimeSteps = 10\n",
    "    m.NumPaths = 10000\n",
    "    m.Add(IndependentGaussian())\n",
    "    m.Add(BrownianMotion(0.1,0.2,2)) # start, drift, diffusion\n",
    "    m.Add(BrownianMotion(0.1,0.2,2)) # start, drift, diffusion\n",
    "    return m"
   ]
  },
  {
   "cell_type": "code",
   "execution_count": 8,
   "id": "ba672df7-920f-446b-bbb3-cbf51d320f1f",
   "metadata": {},
   "outputs": [
    {
     "data": {
      "text/plain": [
       "{'histograms': [],\n",
       " 'mean': [0.30820029973983765,\n",
       "  0.3099619150161743,\n",
       "  0.47641634941101074,\n",
       "  0.5191692113876343,\n",
       "  1.0786408185958862,\n",
       "  1.1569509506225586],\n",
       " 'names': ['BrownianMotion', 'BrownianMotion'],\n",
       " 'npaths': [10000, 10000, 10000, 10000, 10000, 10000],\n",
       " 'run_time_seconds': {'mean': 0.27971744537353516,\n",
       "  'n': 768,\n",
       "  'skewness': None,\n",
       "  'stddev': 4.760056617669761e-05},\n",
       " 'skewness': [-0.018459312617778778,\n",
       "  0.012697786092758179,\n",
       "  0.011788311414420605,\n",
       "  0.05272487550973892,\n",
       "  -0.023920131847262383,\n",
       "  0.007317312527447939],\n",
       " 'stddev': [1.9790846109390259,\n",
       "  1.9848570823669434,\n",
       "  2.8233115673065186,\n",
       "  2.806223154067993,\n",
       "  4.440822601318359,\n",
       "  4.439358234405518],\n",
       " 'time_points': [1.0, 2.0, 5.0],\n",
       " 'time_steps': [2000, 4000, 10000]}"
      ]
     },
     "execution_count": 8,
     "metadata": {},
     "output_type": "execute_result"
    }
   ],
   "source": [
    "model = Model()\n",
    "model.TimeStart = 0\n",
    "model.TimeSteps = 10\n",
    "model.NumPaths = 10000\n",
    "model.Add(IndependentGaussian())\n",
    "model.Add(BrownianMotion(0.1,0.2,2)) # start, drift, diffusion\n",
    "model.Add(BrownianMotion(0.1,0.2,2)) # start, drift, diffusion\n",
    "model.TimeSteps = 10000\n",
    "for t in [1,2,5]:\n",
    "    model.evaluations.append(EvaluationPoint(state=0,time=t))\n",
    "r = requests.post(f'{server}/model',model.json())\n",
    "r.json()"
   ]
  },
  {
   "cell_type": "code",
   "execution_count": 9,
   "id": "a892a134-04df-45cf-811f-12c967f75d7f",
   "metadata": {},
   "outputs": [
    {
     "data": {
      "text/plain": [
       "2 states with 3 evaluations"
      ]
     },
     "execution_count": 9,
     "metadata": {},
     "output_type": "execute_result"
    }
   ],
   "source": [
    "er = EvaluationResults(r.json(),model)\n",
    "er"
   ]
  },
  {
   "cell_type": "code",
   "execution_count": 10,
   "id": "83d32fb3-be55-406e-ae33-375014843930",
   "metadata": {},
   "outputs": [
    {
     "data": {
      "text/html": [
       "<div>\n",
       "<style scoped>\n",
       "    .dataframe tbody tr th:only-of-type {\n",
       "        vertical-align: middle;\n",
       "    }\n",
       "\n",
       "    .dataframe tbody tr th {\n",
       "        vertical-align: top;\n",
       "    }\n",
       "\n",
       "    .dataframe thead th {\n",
       "        text-align: right;\n",
       "    }\n",
       "</style>\n",
       "<table border=\"1\" class=\"dataframe\">\n",
       "  <thead>\n",
       "    <tr style=\"text-align: right;\">\n",
       "      <th></th>\n",
       "      <th>name</th>\n",
       "      <th>title</th>\n",
       "      <th>state</th>\n",
       "      <th>time</th>\n",
       "      <th>step</th>\n",
       "      <th>npaths</th>\n",
       "      <th>mean</th>\n",
       "      <th>mean_error</th>\n",
       "      <th>stddev</th>\n",
       "      <th>skewness</th>\n",
       "    </tr>\n",
       "  </thead>\n",
       "  <tbody>\n",
       "    <tr>\n",
       "      <th>0</th>\n",
       "      <td>BrownianMotion</td>\n",
       "      <td></td>\n",
       "      <td>0</td>\n",
       "      <td>1.0</td>\n",
       "      <td>2000</td>\n",
       "      <td>10000</td>\n",
       "      <td>0.308200</td>\n",
       "      <td>0.019791</td>\n",
       "      <td>1.979085</td>\n",
       "      <td>-0.018459</td>\n",
       "    </tr>\n",
       "    <tr>\n",
       "      <th>1</th>\n",
       "      <td>BrownianMotion</td>\n",
       "      <td></td>\n",
       "      <td>1</td>\n",
       "      <td>1.0</td>\n",
       "      <td>2000</td>\n",
       "      <td>10000</td>\n",
       "      <td>0.309962</td>\n",
       "      <td>0.019849</td>\n",
       "      <td>1.984857</td>\n",
       "      <td>0.012698</td>\n",
       "    </tr>\n",
       "    <tr>\n",
       "      <th>2</th>\n",
       "      <td>BrownianMotion</td>\n",
       "      <td></td>\n",
       "      <td>0</td>\n",
       "      <td>2.0</td>\n",
       "      <td>4000</td>\n",
       "      <td>10000</td>\n",
       "      <td>0.476416</td>\n",
       "      <td>0.028233</td>\n",
       "      <td>2.823312</td>\n",
       "      <td>0.011788</td>\n",
       "    </tr>\n",
       "    <tr>\n",
       "      <th>3</th>\n",
       "      <td>BrownianMotion</td>\n",
       "      <td></td>\n",
       "      <td>1</td>\n",
       "      <td>2.0</td>\n",
       "      <td>4000</td>\n",
       "      <td>10000</td>\n",
       "      <td>0.519169</td>\n",
       "      <td>0.028062</td>\n",
       "      <td>2.806223</td>\n",
       "      <td>0.052725</td>\n",
       "    </tr>\n",
       "    <tr>\n",
       "      <th>4</th>\n",
       "      <td>BrownianMotion</td>\n",
       "      <td></td>\n",
       "      <td>0</td>\n",
       "      <td>5.0</td>\n",
       "      <td>10000</td>\n",
       "      <td>10000</td>\n",
       "      <td>1.078641</td>\n",
       "      <td>0.044408</td>\n",
       "      <td>4.440823</td>\n",
       "      <td>-0.023920</td>\n",
       "    </tr>\n",
       "    <tr>\n",
       "      <th>5</th>\n",
       "      <td>BrownianMotion</td>\n",
       "      <td></td>\n",
       "      <td>1</td>\n",
       "      <td>5.0</td>\n",
       "      <td>10000</td>\n",
       "      <td>10000</td>\n",
       "      <td>1.156951</td>\n",
       "      <td>0.044394</td>\n",
       "      <td>4.439358</td>\n",
       "      <td>0.007317</td>\n",
       "    </tr>\n",
       "  </tbody>\n",
       "</table>\n",
       "</div>"
      ],
      "text/plain": [
       "             name title  state  time   step  npaths      mean  mean_error  \\\n",
       "0  BrownianMotion            0   1.0   2000   10000  0.308200    0.019791   \n",
       "1  BrownianMotion            1   1.0   2000   10000  0.309962    0.019849   \n",
       "2  BrownianMotion            0   2.0   4000   10000  0.476416    0.028233   \n",
       "3  BrownianMotion            1   2.0   4000   10000  0.519169    0.028062   \n",
       "4  BrownianMotion            0   5.0  10000   10000  1.078641    0.044408   \n",
       "5  BrownianMotion            1   5.0  10000   10000  1.156951    0.044394   \n",
       "\n",
       "     stddev  skewness  \n",
       "0  1.979085 -0.018459  \n",
       "1  1.984857  0.012698  \n",
       "2  2.823312  0.011788  \n",
       "3  2.806223  0.052725  \n",
       "4  4.440823 -0.023920  \n",
       "5  4.439358  0.007317  "
      ]
     },
     "execution_count": 10,
     "metadata": {},
     "output_type": "execute_result"
    }
   ],
   "source": [
    "er.df()"
   ]
  }
 ],
 "metadata": {
  "kernelspec": {
   "display_name": "Python 3 (ipykernel)",
   "language": "python",
   "name": "python3"
  },
  "language_info": {
   "codemirror_mode": {
    "name": "ipython",
    "version": 3
   },
   "file_extension": ".py",
   "mimetype": "text/x-python",
   "name": "python",
   "nbconvert_exporter": "python",
   "pygments_lexer": "ipython3",
   "version": "3.10.9"
  }
 },
 "nbformat": 4,
 "nbformat_minor": 5
}
