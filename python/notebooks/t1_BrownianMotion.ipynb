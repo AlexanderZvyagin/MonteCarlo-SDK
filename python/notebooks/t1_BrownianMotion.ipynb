{
 "cells": [
  {
   "cell_type": "code",
   "execution_count": 1,
   "id": "c2bcaffe-1ae8-4981-acd6-b9ea959cd4e6",
   "metadata": {},
   "outputs": [],
   "source": [
    "from init import *"
   ]
  },
  {
   "cell_type": "code",
   "execution_count": 2,
   "id": "5a6711d1-64a2-42a9-b5d6-5a477b7faa66",
   "metadata": {
    "tags": []
   },
   "outputs": [],
   "source": [
    "def BuildModel_Simple():\n",
    "    m = sdk.Model()\n",
    "    m.TimeStart = 0\n",
    "    m.TimeSteps = 10\n",
    "    m.NumPaths = 10000\n",
    "    m.Add(sdk.IndependentGaussian())\n",
    "    m.Add(sdk.BrownianMotion(0.1,0.2,2)) # start, drift, diffusion\n",
    "    return m"
   ]
  },
  {
   "cell_type": "code",
   "execution_count": 3,
   "id": "7e16d5d8-9566-456e-a06b-1603b100cead",
   "metadata": {},
   "outputs": [
    {
     "data": {
      "text/plain": [
       "'{\"TimeStart\": 0, \"TimeSteps\": 10, \"NumPaths\": 10000, \"updaters\": [{\"name\": \"IndependentGaussian\", \"refs\": [], \"args\": []}, {\"name\": \"BrownianMotion\", \"refs\": [], \"args\": [0.2, 2], \"start\": 0.1}], \"evaluations\": [{\"state\": 0, \"time\": 2, \"histograms\": []}], \"RandomSeed\": -1, \"RunTimeoutSeconds\": 1, \"MemoryLimitKB\": 1}'"
      ]
     },
     "execution_count": 3,
     "metadata": {},
     "output_type": "execute_result"
    }
   ],
   "source": [
    "m = BuildModel_Simple()\n",
    "m.evaluations.append(sdk.EvaluationPoint(0,2))\n",
    "m.json()"
   ]
  },
  {
   "cell_type": "code",
   "execution_count": 4,
   "id": "a3fdd414-b512-4d68-9d8b-e14d1189826b",
   "metadata": {},
   "outputs": [
    {
     "data": {
      "text/plain": [
       "{'histograms': [],\n",
       " 'mean': [0.5289980173110962],\n",
       " 'names': ['BrownianMotion'],\n",
       " 'npaths': [10000],\n",
       " 'skewness': [0.058006420731544495],\n",
       " 'stddev': [2.848809003829956],\n",
       " 'time_points': [2.0],\n",
       " 'time_steps': [10]}"
      ]
     },
     "execution_count": 4,
     "metadata": {},
     "output_type": "execute_result"
    }
   ],
   "source": [
    "r = requests.post(f'{server}/model',m.json())\n",
    "r.json()"
   ]
  },
  {
   "cell_type": "code",
   "execution_count": 5,
   "id": "6629e079-e908-4501-9a89-dd9d191883a0",
   "metadata": {},
   "outputs": [
    {
     "data": {
      "text/plain": [
       "{'histograms': [],\n",
       " 'mean': [0.30199289321899414,\n",
       "  0.5019544959068298,\n",
       "  1.1013613939285278,\n",
       "  2.1086275577545166],\n",
       " 'names': ['BrownianMotion'],\n",
       " 'npaths': [1000000, 1000000, 1000000, 1000000],\n",
       " 'skewness': [-0.0016977798659354448,\n",
       "  0.0011270574759691954,\n",
       "  0.001857768977060914,\n",
       "  0.0018002551514655352],\n",
       " 'stddev': [1.9991549253463745,\n",
       "  2.828650951385498,\n",
       "  4.469266414642334,\n",
       "  6.323176383972168],\n",
       " 'time_points': [1.0, 2.0, 5.0, 10.0],\n",
       " 'time_steps': [100, 200, 500, 1000]}"
      ]
     },
     "execution_count": 5,
     "metadata": {},
     "output_type": "execute_result"
    }
   ],
   "source": [
    "import time\n",
    "m = BuildModel_Simple()\n",
    "m.NumPaths = 1000000\n",
    "m.TimeSteps = 1000\n",
    "m.RunTimeoutSeconds = 16.7\n",
    "for t in [1,2,5,10]:\n",
    "    m.evaluations.append(sdk.EvaluationPoint(0,t))\n",
    "time_start = time.time()\n",
    "r = requests.post(f'{server}/model',m.json())\n",
    "time_end = time.time()\n",
    "r.json()"
   ]
  },
  {
   "cell_type": "code",
   "execution_count": 6,
   "id": "15c1ec56-107e-4c3d-bbd1-ee3c47d83f50",
   "metadata": {},
   "outputs": [
    {
     "name": "stdout",
     "output_type": "stream",
     "text": [
      "0.5 nanoseconds to make a single time step\n"
     ]
    }
   ],
   "source": [
    "print(f'{m.NumPaths*m.TimeSteps/(time_end-time_start)*1e-9:.1f} nanoseconds to make a single time step')"
   ]
  },
  {
   "cell_type": "markdown",
   "id": "a57da563-2a85-4ca7-ae81-39dbbe3e3733",
   "metadata": {},
   "source": [
    "# Two processes, Three evaluations"
   ]
  },
  {
   "cell_type": "code",
   "execution_count": 7,
   "id": "ab2bb8be-1fd5-4521-8695-fe8815108de7",
   "metadata": {},
   "outputs": [],
   "source": [
    "def TwoProcessesModel ():\n",
    "    m = sdk.Model()\n",
    "    m.TimeStart = 0\n",
    "    m.TimeSteps = 10\n",
    "    m.NumPaths = 10000\n",
    "    m.Add(sdk.IndependentGaussian())\n",
    "    m.Add(sdk.BrownianMotion(0.1,0.2,2)) # start, drift, diffusion\n",
    "    m.Add(sdk.BrownianMotion(0.1,0.2,2)) # start, drift, diffusion\n",
    "    return m"
   ]
  },
  {
   "cell_type": "code",
   "execution_count": 8,
   "id": "ba672df7-920f-446b-bbb3-cbf51d320f1f",
   "metadata": {},
   "outputs": [
    {
     "data": {
      "text/plain": [
       "{'histograms': [],\n",
       " 'mean': [0.30571991205215454,\n",
       "  0.3238063454627991,\n",
       "  0.5238590836524963,\n",
       "  0.5033695697784424,\n",
       "  1.096631407737732,\n",
       "  1.0783956050872803],\n",
       " 'names': ['BrownianMotion', 'BrownianMotion'],\n",
       " 'npaths': [10000, 10000, 10000, 10000, 10000, 10000],\n",
       " 'skewness': [-0.013576852157711983,\n",
       "  0.04044127091765404,\n",
       "  0.006662060972303152,\n",
       "  0.025473255664110184,\n",
       "  -0.022694045677781105,\n",
       "  -0.0175245963037014],\n",
       " 'stddev': [1.9824411869049072,\n",
       "  1.9814465045928955,\n",
       "  2.8200924396514893,\n",
       "  2.792473793029785,\n",
       "  4.512660980224609,\n",
       "  4.389576435089111],\n",
       " 'time_points': [1.0, 2.0, 5.0],\n",
       " 'time_steps': [2000, 4000, 10000]}"
      ]
     },
     "execution_count": 8,
     "metadata": {},
     "output_type": "execute_result"
    }
   ],
   "source": [
    "model = sdk.Model()\n",
    "model.TimeStart = 0\n",
    "model.TimeSteps = 10\n",
    "model.NumPaths = 10000\n",
    "model.Add(sdk.IndependentGaussian())\n",
    "model.Add(sdk.BrownianMotion(0.1,0.2,2)) # start, drift, diffusion\n",
    "model.Add(sdk.BrownianMotion(0.1,0.2,2)) # start, drift, diffusion\n",
    "model.TimeSteps = 10000\n",
    "for t in [1,2,5]:\n",
    "    model.evaluations.append(sdk.EvaluationPoint(state=0,time=t))\n",
    "r = requests.post(f'{server}/model',model.json())\n",
    "r.json()"
   ]
  },
  {
   "cell_type": "code",
   "execution_count": 9,
   "id": "83d32fb3-be55-406e-ae33-375014843930",
   "metadata": {},
   "outputs": [
    {
     "data": {
      "text/html": [
       "<div>\n",
       "<style scoped>\n",
       "    .dataframe tbody tr th:only-of-type {\n",
       "        vertical-align: middle;\n",
       "    }\n",
       "\n",
       "    .dataframe tbody tr th {\n",
       "        vertical-align: top;\n",
       "    }\n",
       "\n",
       "    .dataframe thead th {\n",
       "        text-align: right;\n",
       "    }\n",
       "</style>\n",
       "<table border=\"1\" class=\"dataframe\">\n",
       "  <thead>\n",
       "    <tr style=\"text-align: right;\">\n",
       "      <th></th>\n",
       "      <th>name</th>\n",
       "      <th>title</th>\n",
       "      <th>state</th>\n",
       "      <th>time</th>\n",
       "      <th>step</th>\n",
       "      <th>npaths</th>\n",
       "      <th>mean</th>\n",
       "      <th>mean_error</th>\n",
       "      <th>stddev</th>\n",
       "      <th>skewness</th>\n",
       "    </tr>\n",
       "  </thead>\n",
       "  <tbody>\n",
       "    <tr>\n",
       "      <th>0</th>\n",
       "      <td>BrownianMotion</td>\n",
       "      <td></td>\n",
       "      <td>0</td>\n",
       "      <td>1.0</td>\n",
       "      <td>2000</td>\n",
       "      <td>10000</td>\n",
       "      <td>0.299645</td>\n",
       "      <td>0.020142</td>\n",
       "      <td>2.014163</td>\n",
       "      <td>0.055447</td>\n",
       "    </tr>\n",
       "    <tr>\n",
       "      <th>1</th>\n",
       "      <td>BrownianMotion</td>\n",
       "      <td></td>\n",
       "      <td>1</td>\n",
       "      <td>1.0</td>\n",
       "      <td>2000</td>\n",
       "      <td>10000</td>\n",
       "      <td>0.312531</td>\n",
       "      <td>0.020148</td>\n",
       "      <td>2.014840</td>\n",
       "      <td>-0.006565</td>\n",
       "    </tr>\n",
       "    <tr>\n",
       "      <th>2</th>\n",
       "      <td>BrownianMotion</td>\n",
       "      <td></td>\n",
       "      <td>0</td>\n",
       "      <td>2.0</td>\n",
       "      <td>4000</td>\n",
       "      <td>10000</td>\n",
       "      <td>0.544381</td>\n",
       "      <td>0.028659</td>\n",
       "      <td>2.865875</td>\n",
       "      <td>0.031543</td>\n",
       "    </tr>\n",
       "    <tr>\n",
       "      <th>3</th>\n",
       "      <td>BrownianMotion</td>\n",
       "      <td></td>\n",
       "      <td>1</td>\n",
       "      <td>2.0</td>\n",
       "      <td>4000</td>\n",
       "      <td>10000</td>\n",
       "      <td>0.515979</td>\n",
       "      <td>0.028164</td>\n",
       "      <td>2.816388</td>\n",
       "      <td>0.037927</td>\n",
       "    </tr>\n",
       "    <tr>\n",
       "      <th>4</th>\n",
       "      <td>BrownianMotion</td>\n",
       "      <td></td>\n",
       "      <td>0</td>\n",
       "      <td>5.0</td>\n",
       "      <td>10000</td>\n",
       "      <td>10000</td>\n",
       "      <td>1.104699</td>\n",
       "      <td>0.045602</td>\n",
       "      <td>4.560228</td>\n",
       "      <td>0.012859</td>\n",
       "    </tr>\n",
       "    <tr>\n",
       "      <th>5</th>\n",
       "      <td>BrownianMotion</td>\n",
       "      <td></td>\n",
       "      <td>1</td>\n",
       "      <td>5.0</td>\n",
       "      <td>10000</td>\n",
       "      <td>10000</td>\n",
       "      <td>1.186110</td>\n",
       "      <td>0.045046</td>\n",
       "      <td>4.504634</td>\n",
       "      <td>0.008196</td>\n",
       "    </tr>\n",
       "  </tbody>\n",
       "</table>\n",
       "</div>"
      ],
      "text/plain": [
       "             name title  state  time   step  npaths      mean  mean_error  \\\n",
       "0  BrownianMotion            0   1.0   2000   10000  0.299645    0.020142   \n",
       "1  BrownianMotion            1   1.0   2000   10000  0.312531    0.020148   \n",
       "2  BrownianMotion            0   2.0   4000   10000  0.544381    0.028659   \n",
       "3  BrownianMotion            1   2.0   4000   10000  0.515979    0.028164   \n",
       "4  BrownianMotion            0   5.0  10000   10000  1.104699    0.045602   \n",
       "5  BrownianMotion            1   5.0  10000   10000  1.186110    0.045046   \n",
       "\n",
       "     stddev  skewness  \n",
       "0  2.014163  0.055447  \n",
       "1  2.014840 -0.006565  \n",
       "2  2.865875  0.031543  \n",
       "3  2.816388  0.037927  \n",
       "4  4.560228  0.012859  \n",
       "5  4.504634  0.008196  "
      ]
     },
     "execution_count": 9,
     "metadata": {},
     "output_type": "execute_result"
    }
   ],
   "source": [
    "results = run (model)\n",
    "results.df()"
   ]
  }
 ],
 "metadata": {
  "kernelspec": {
   "display_name": "Python 3 (ipykernel)",
   "language": "python",
   "name": "python3"
  },
  "language_info": {
   "codemirror_mode": {
    "name": "ipython",
    "version": 3
   },
   "file_extension": ".py",
   "mimetype": "text/x-python",
   "name": "python",
   "nbconvert_exporter": "python",
   "pygments_lexer": "ipython3",
   "version": "3.10.7"
  }
 },
 "nbformat": 4,
 "nbformat_minor": 5
}
