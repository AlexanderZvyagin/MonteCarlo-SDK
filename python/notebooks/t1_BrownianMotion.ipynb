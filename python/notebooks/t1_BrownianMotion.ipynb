{
 "cells": [
  {
   "cell_type": "code",
   "execution_count": 31,
   "id": "c2bcaffe-1ae8-4981-acd6-b9ea959cd4e6",
   "metadata": {},
   "outputs": [],
   "source": [
    "from init import *"
   ]
  },
  {
   "cell_type": "code",
   "execution_count": 32,
   "id": "5a6711d1-64a2-42a9-b5d6-5a477b7faa66",
   "metadata": {
    "tags": []
   },
   "outputs": [],
   "source": [
    "def BuildModel_Simple():\n",
    "    m = sdk.Model()\n",
    "    m.TimeStart = 0\n",
    "    m.TimeSteps = 10\n",
    "    m.NumPaths = 10000\n",
    "    m.Add(sdk.IndependentGaussian())\n",
    "    m.Add(sdk.BrownianMotion(0.1,0.2,2)) # start, drift, diffusion\n",
    "    return m"
   ]
  },
  {
   "cell_type": "code",
   "execution_count": 33,
   "id": "7e16d5d8-9566-456e-a06b-1603b100cead",
   "metadata": {},
   "outputs": [
    {
     "data": {
      "text/plain": [
       "'{\"TimeStart\": 0, \"TimeSteps\": 10, \"NumPaths\": 10000, \"updaters\": [{\"name\": \"IndependentGaussian\", \"refs\": [], \"args\": []}, {\"name\": \"BrownianMotion\", \"refs\": [], \"args\": [0.2, 2], \"start\": 0.1}], \"evaluations\": [{\"state\": 0, \"time\": 2}]}'"
      ]
     },
     "execution_count": 33,
     "metadata": {},
     "output_type": "execute_result"
    }
   ],
   "source": [
    "m = BuildModel_Simple()\n",
    "m.evaluations.append(sdk.EvaluationPoint(0,2))\n",
    "m.json()"
   ]
  },
  {
   "cell_type": "code",
   "execution_count": 34,
   "id": "a3fdd414-b512-4d68-9d8b-e14d1189826b",
   "metadata": {},
   "outputs": [
    {
     "data": {
      "text/plain": [
       "{'histograms': [],\n",
       " 'mean': [0.4542025923728943],\n",
       " 'names': ['BrownianMotion'],\n",
       " 'npaths': [10000],\n",
       " 'skewness': [-0.029013577848672867],\n",
       " 'stddev': [2.836071014404297],\n",
       " 'time_points': [2.0],\n",
       " 'time_steps': [10]}"
      ]
     },
     "execution_count": 34,
     "metadata": {},
     "output_type": "execute_result"
    }
   ],
   "source": [
    "r = requests.post(f'{server}/model',m.json())\n",
    "r.json()"
   ]
  },
  {
   "cell_type": "code",
   "execution_count": 35,
   "id": "6629e079-e908-4501-9a89-dd9d191883a0",
   "metadata": {},
   "outputs": [
    {
     "data": {
      "text/plain": [
       "{'histograms': [],\n",
       " 'mean': [0.3015768826007843,\n",
       "  0.5034372806549072,\n",
       "  1.1028289794921875,\n",
       "  2.108328104019165],\n",
       " 'names': ['BrownianMotion'],\n",
       " 'npaths': [1000000, 1000000, 1000000, 1000000],\n",
       " 'skewness': [-0.0017834312748163939,\n",
       "  -0.00205038720741868,\n",
       "  -0.002811677986755967,\n",
       "  -0.003609464503824711],\n",
       " 'stddev': [2.000115156173706,\n",
       "  2.829728364944458,\n",
       "  4.47157096862793,\n",
       "  6.31917667388916],\n",
       " 'time_points': [1.0, 2.0, 5.0, 10.0],\n",
       " 'time_steps': [100, 200, 500, 1000]}"
      ]
     },
     "execution_count": 35,
     "metadata": {},
     "output_type": "execute_result"
    }
   ],
   "source": [
    "import time\n",
    "m = BuildModel_Simple()\n",
    "m.NumPaths = 1000000\n",
    "m.TimeSteps = 1000\n",
    "m.RunTimeoutSeconds = 16.7\n",
    "for t in [1,2,5,10]:\n",
    "    m.evaluations.append(sdk.EvaluationPoint(0,t))\n",
    "time_start = time.time()\n",
    "r = requests.post(f'{server}/model',m.json())\n",
    "time_end = time.time()\n",
    "r.json()"
   ]
  },
  {
   "cell_type": "code",
   "execution_count": 36,
   "id": "15c1ec56-107e-4c3d-bbd1-ee3c47d83f50",
   "metadata": {},
   "outputs": [
    {
     "name": "stdout",
     "output_type": "stream",
     "text": [
      "0.5 nanoseconds to make a single time step\n"
     ]
    }
   ],
   "source": [
    "print(f'{m.NumPaths*m.TimeSteps/(time_end-time_start)*1e-9:.1f} nanoseconds to make a single time step')"
   ]
  },
  {
   "cell_type": "markdown",
   "id": "a57da563-2a85-4ca7-ae81-39dbbe3e3733",
   "metadata": {},
   "source": [
    "# Two processes, Three evaluations"
   ]
  },
  {
   "cell_type": "code",
   "execution_count": 37,
   "id": "ab2bb8be-1fd5-4521-8695-fe8815108de7",
   "metadata": {},
   "outputs": [],
   "source": [
    "def TwoProcessesModel ():\n",
    "    m = sdk.Model()\n",
    "    m.TimeStart = 0\n",
    "    m.TimeSteps = 10\n",
    "    m.NumPaths = 10000\n",
    "    m.Add(sdk.IndependentGaussian())\n",
    "    m.Add(sdk.BrownianMotion(0.1,0.2,2)) # start, drift, diffusion\n",
    "    m.Add(sdk.BrownianMotion(0.1,0.2,2)) # start, drift, diffusion\n",
    "    return m"
   ]
  },
  {
   "cell_type": "code",
   "execution_count": 38,
   "id": "ba672df7-920f-446b-bbb3-cbf51d320f1f",
   "metadata": {},
   "outputs": [
    {
     "data": {
      "text/plain": [
       "{'histograms': [],\n",
       " 'mean': [0.2743476927280426,\n",
       "  0.2669976055622101,\n",
       "  0.4766482412815094,\n",
       "  0.4413864314556122,\n",
       "  1.1109087467193604,\n",
       "  1.0746146440505981],\n",
       " 'names': ['BrownianMotion', 'BrownianMotion'],\n",
       " 'npaths': [10000, 10000, 10000, 10000, 10000, 10000],\n",
       " 'skewness': [0.004301251377910376,\n",
       "  -0.0032482000533491373,\n",
       "  0.017873311415314674,\n",
       "  -0.01917778141796589,\n",
       "  -0.0011888196459040046,\n",
       "  -0.0007855305448174477],\n",
       " 'stddev': [2.0090317726135254,\n",
       "  1.9885363578796387,\n",
       "  2.837817668914795,\n",
       "  2.834514617919922,\n",
       "  4.4458513259887695,\n",
       "  4.480775833129883],\n",
       " 'time_points': [1.0, 2.0, 5.0],\n",
       " 'time_steps': [2000, 4000, 10000]}"
      ]
     },
     "execution_count": 38,
     "metadata": {},
     "output_type": "execute_result"
    }
   ],
   "source": [
    "model = sdk.Model()\n",
    "model.TimeStart = 0\n",
    "model.TimeSteps = 10\n",
    "model.NumPaths = 10000\n",
    "model.Add(sdk.IndependentGaussian())\n",
    "model.Add(sdk.BrownianMotion(0.1,0.2,2)) # start, drift, diffusion\n",
    "model.Add(sdk.BrownianMotion(0.1,0.2,2)) # start, drift, diffusion\n",
    "model.TimeSteps = 10000\n",
    "for t in [1,2,5]:\n",
    "    model.evaluations.append(sdk.EvaluationPoint(state=0,time=t))\n",
    "r = requests.post(f'{server}/model',model.json())\n",
    "r.json()"
   ]
  },
  {
   "cell_type": "code",
   "execution_count": 39,
   "id": "83d32fb3-be55-406e-ae33-375014843930",
   "metadata": {},
   "outputs": [
    {
     "data": {
      "text/html": [
       "<div>\n",
       "<style scoped>\n",
       "    .dataframe tbody tr th:only-of-type {\n",
       "        vertical-align: middle;\n",
       "    }\n",
       "\n",
       "    .dataframe tbody tr th {\n",
       "        vertical-align: top;\n",
       "    }\n",
       "\n",
       "    .dataframe thead th {\n",
       "        text-align: right;\n",
       "    }\n",
       "</style>\n",
       "<table border=\"1\" class=\"dataframe\">\n",
       "  <thead>\n",
       "    <tr style=\"text-align: right;\">\n",
       "      <th></th>\n",
       "      <th>name</th>\n",
       "      <th>title</th>\n",
       "      <th>state</th>\n",
       "      <th>time</th>\n",
       "      <th>step</th>\n",
       "      <th>npaths</th>\n",
       "      <th>mean</th>\n",
       "      <th>mean_error</th>\n",
       "      <th>stddev</th>\n",
       "      <th>skewness</th>\n",
       "    </tr>\n",
       "  </thead>\n",
       "  <tbody>\n",
       "    <tr>\n",
       "      <th>0</th>\n",
       "      <td>BrownianMotion</td>\n",
       "      <td></td>\n",
       "      <td>0</td>\n",
       "      <td>1.0</td>\n",
       "      <td>2000</td>\n",
       "      <td>10000</td>\n",
       "      <td>0.294919</td>\n",
       "      <td>0.020170</td>\n",
       "      <td>2.017030</td>\n",
       "      <td>0.015536</td>\n",
       "    </tr>\n",
       "    <tr>\n",
       "      <th>1</th>\n",
       "      <td>BrownianMotion</td>\n",
       "      <td></td>\n",
       "      <td>1</td>\n",
       "      <td>1.0</td>\n",
       "      <td>2000</td>\n",
       "      <td>10000</td>\n",
       "      <td>0.311103</td>\n",
       "      <td>0.020031</td>\n",
       "      <td>2.003073</td>\n",
       "      <td>0.031612</td>\n",
       "    </tr>\n",
       "    <tr>\n",
       "      <th>2</th>\n",
       "      <td>BrownianMotion</td>\n",
       "      <td></td>\n",
       "      <td>0</td>\n",
       "      <td>2.0</td>\n",
       "      <td>4000</td>\n",
       "      <td>10000</td>\n",
       "      <td>0.476229</td>\n",
       "      <td>0.028494</td>\n",
       "      <td>2.849406</td>\n",
       "      <td>0.000286</td>\n",
       "    </tr>\n",
       "    <tr>\n",
       "      <th>3</th>\n",
       "      <td>BrownianMotion</td>\n",
       "      <td></td>\n",
       "      <td>1</td>\n",
       "      <td>2.0</td>\n",
       "      <td>4000</td>\n",
       "      <td>10000</td>\n",
       "      <td>0.508086</td>\n",
       "      <td>0.028257</td>\n",
       "      <td>2.825690</td>\n",
       "      <td>-0.018219</td>\n",
       "    </tr>\n",
       "    <tr>\n",
       "      <th>4</th>\n",
       "      <td>BrownianMotion</td>\n",
       "      <td></td>\n",
       "      <td>0</td>\n",
       "      <td>5.0</td>\n",
       "      <td>10000</td>\n",
       "      <td>10000</td>\n",
       "      <td>1.107325</td>\n",
       "      <td>0.045187</td>\n",
       "      <td>4.518675</td>\n",
       "      <td>0.001883</td>\n",
       "    </tr>\n",
       "    <tr>\n",
       "      <th>5</th>\n",
       "      <td>BrownianMotion</td>\n",
       "      <td></td>\n",
       "      <td>1</td>\n",
       "      <td>5.0</td>\n",
       "      <td>10000</td>\n",
       "      <td>10000</td>\n",
       "      <td>1.155716</td>\n",
       "      <td>0.044591</td>\n",
       "      <td>4.459146</td>\n",
       "      <td>-0.008901</td>\n",
       "    </tr>\n",
       "  </tbody>\n",
       "</table>\n",
       "</div>"
      ],
      "text/plain": [
       "             name title  state  time   step  npaths      mean  mean_error  \\\n",
       "0  BrownianMotion            0   1.0   2000   10000  0.294919    0.020170   \n",
       "1  BrownianMotion            1   1.0   2000   10000  0.311103    0.020031   \n",
       "2  BrownianMotion            0   2.0   4000   10000  0.476229    0.028494   \n",
       "3  BrownianMotion            1   2.0   4000   10000  0.508086    0.028257   \n",
       "4  BrownianMotion            0   5.0  10000   10000  1.107325    0.045187   \n",
       "5  BrownianMotion            1   5.0  10000   10000  1.155716    0.044591   \n",
       "\n",
       "     stddev  skewness  \n",
       "0  2.017030  0.015536  \n",
       "1  2.003073  0.031612  \n",
       "2  2.849406  0.000286  \n",
       "3  2.825690 -0.018219  \n",
       "4  4.518675  0.001883  \n",
       "5  4.459146 -0.008901  "
      ]
     },
     "execution_count": 39,
     "metadata": {},
     "output_type": "execute_result"
    }
   ],
   "source": [
    "results = run (model)\n",
    "results.df()"
   ]
  }
 ],
 "metadata": {
  "kernelspec": {
   "display_name": "Python 3",
   "language": "python",
   "name": "python3"
  },
  "language_info": {
   "codemirror_mode": {
    "name": "ipython",
    "version": 3
   },
   "file_extension": ".py",
   "mimetype": "text/x-python",
   "name": "python",
   "nbconvert_exporter": "python",
   "pygments_lexer": "ipython3",
   "version": "3.10.7"
  },
  "vscode": {
   "interpreter": {
    "hash": "916dbcbb3f70747c44a77c7bcd40155683ae19c65e1c03b4aa3499c5328201f1"
   }
  }
 },
 "nbformat": 4,
 "nbformat_minor": 5
}
