{
 "cells": [
  {
   "cell_type": "code",
   "execution_count": 30,
   "id": "c2bcaffe-1ae8-4981-acd6-b9ea959cd4e6",
   "metadata": {},
   "outputs": [],
   "source": [
    "from init import *\n",
    "import time\n",
    "logging.basicConfig (level=logging.INFO)"
   ]
  },
  {
   "cell_type": "code",
   "execution_count": 31,
   "id": "d04728c1-8b0a-4d5b-8985-e16048dc835b",
   "metadata": {},
   "outputs": [],
   "source": [
    "import ivol\n",
    "from math import nan\n",
    "Call = 0\n",
    "Put = 1"
   ]
  },
  {
   "cell_type": "code",
   "execution_count": 32,
   "id": "5a6711d1-64a2-42a9-b5d6-5a477b7faa66",
   "metadata": {
    "tags": []
   },
   "outputs": [
    {
     "name": "stdout",
     "output_type": "stream",
     "text": [
      "{\"TimeStart\": 0, \"TimeSteps\": 1000, \"NumPaths\": 100000, \"updaters\": [{\"name\": \"IndependentGaussian\", \"refs\": [], \"args\": []}, {\"name\": \"CorrelatedGaussian\", \"refs\": [0, 1], \"args\": [0]}, {\"name\": \"SABR_S\", \"refs\": [], \"args\": [0], \"start\": 0.02}, {\"name\": \"SABR_F\", \"refs\": [0], \"args\": [0, 0], \"start\": 130}, {\"name\": \"Option\", \"refs\": [1], \"args\": [140, 1], \"start\": 0}, {\"name\": \"Option\", \"refs\": [1], \"args\": [140, 0], \"start\": 0}], \"evaluations\": [{\"state\": 0, \"time\": 2}]}\n"
     ]
    }
   ],
   "source": [
    "model = sdk.Model()\n",
    "model.TimeStart = 0\n",
    "model.TimeSteps = 1000\n",
    "model.NumPaths = 100000\n",
    "#model.RunTimeoutSeconds = 1\n",
    "\n",
    "F0     = 130    # starting value of the F-process\n",
    "sigma0 = 0.02  # startting value of: volatility\n",
    "alpha  = 0    # Stichastic alpha (or volatility of volatility)\n",
    "rho    = 0    # correlation\n",
    "beta   = 0   # \n",
    "shift  = 0      # For negative rates\n",
    "expiry = 2\n",
    "\n",
    "ref_S = model.GetNumberOfStates()\n",
    "model.Add(sdk.IndependentGaussian())\n",
    "model.Add(sdk.CorrelatedGaussian(rho,ref_S,ref_S+1))\n",
    "\n",
    "SABR_S_process = model.Add(sdk.Updater(\n",
    "    title = 'StochVol',\n",
    "    name = 'SABR_S',\n",
    "    start = sigma0,\n",
    "    args = [alpha]\n",
    "))\n",
    "\n",
    "assert SABR_S_process.GetStateNumber()==ref_S\n",
    "assert model.GetNumberOfStates()==(SABR_S_process.GetStateNumber()+1)\n",
    "\n",
    "SABR_F_process = model.Add(sdk.Updater(\n",
    "    title = 'SABR-F',\n",
    "    name = 'SABR_F',\n",
    "    start = F0,\n",
    "    args = [beta,shift],\n",
    "    refs = [SABR_S_process.GetStateNumber()]\n",
    "))\n",
    "assert model.GetNumberOfStates()==(SABR_F_process.GetStateNumber()+1)\n",
    "\n",
    "strike = 140\n",
    "putOption_process = sdk.Option(SABR_F_process.GetStateNumber(),strike,sdk.Option.Put)\n",
    "model.Add(putOption_process)\n",
    "\n",
    "callOption_process = sdk.Option(SABR_F_process.GetStateNumber(),strike,sdk.Option.Call)\n",
    "model.Add(callOption_process)\n",
    "\n",
    "model.evaluations.append(sdk.EvaluationPoint(state=0,time=expiry))\n",
    "\n",
    "print(model.json())"
   ]
  },
  {
   "cell_type": "code",
   "execution_count": 33,
   "id": "a3fdd414-b512-4d68-9d8b-e14d1189826b",
   "metadata": {},
   "outputs": [],
   "source": [
    "result = requests.post(f'{server}/model',model.json())\n",
    "er = sdk.EvaluationResults(result.json(),model)"
   ]
  },
  {
   "cell_type": "code",
   "execution_count": 34,
   "id": "83d32fb3-be55-406e-ae33-375014843930",
   "metadata": {},
   "outputs": [
    {
     "data": {
      "text/html": [
       "<div>\n",
       "<style scoped>\n",
       "    .dataframe tbody tr th:only-of-type {\n",
       "        vertical-align: middle;\n",
       "    }\n",
       "\n",
       "    .dataframe tbody tr th {\n",
       "        vertical-align: top;\n",
       "    }\n",
       "\n",
       "    .dataframe thead th {\n",
       "        text-align: right;\n",
       "    }\n",
       "</style>\n",
       "<table border=\"1\" class=\"dataframe\">\n",
       "  <thead>\n",
       "    <tr style=\"text-align: right;\">\n",
       "      <th></th>\n",
       "    </tr>\n",
       "  </thead>\n",
       "  <tbody>\n",
       "  </tbody>\n",
       "</table>\n",
       "</div>"
      ],
      "text/plain": [
       "Empty DataFrame\n",
       "Columns: []\n",
       "Index: []"
      ]
     },
     "execution_count": 34,
     "metadata": {},
     "output_type": "execute_result"
    }
   ],
   "source": [
    "er.df()"
   ]
  },
  {
   "cell_type": "code",
   "execution_count": 41,
   "id": "263e1fd9-1fe2-473b-a2be-fa433a10f817",
   "metadata": {},
   "outputs": [
    {
     "ename": "ValueError",
     "evalue": "",
     "output_type": "error",
     "traceback": [
      "\u001b[0;31m---------------------------------------------------------------------------\u001b[0m",
      "\u001b[0;31mValueError\u001b[0m                                Traceback (most recent call last)",
      "Cell \u001b[0;32mIn[41], line 2\u001b[0m\n\u001b[1;32m      1\u001b[0m evaluation_point \u001b[39m=\u001b[39m \u001b[39m0\u001b[39m\n\u001b[0;32m----> 2\u001b[0m price_stat \u001b[39m=\u001b[39m er\u001b[39m.\u001b[39;49mGetStateEvaluationResult(putOption_process\u001b[39m.\u001b[39;49mGetStateNumber(),evaluation_point)\n\u001b[1;32m      3\u001b[0m \u001b[39mprint\u001b[39m(price_stat)\n\u001b[1;32m      4\u001b[0m price \u001b[39m=\u001b[39m price_stat\u001b[39m.\u001b[39mmean\n",
      "File \u001b[0;32m~/Projects/MonteCarlo/MonteCarlo-to-gitlab/external/mcsdk/python/notebooks/mcsdk.py:1361\u001b[0m, in \u001b[0;36mEvaluationResults.GetStateEvaluationResult\u001b[0;34m(self, state, point)\u001b[0m\n\u001b[1;32m   1355\u001b[0m \u001b[39mdef\u001b[39;00m \u001b[39mGetStateEvaluationResult\u001b[39m (\n\u001b[1;32m   1356\u001b[0m     \u001b[39mself\u001b[39m,\n\u001b[1;32m   1357\u001b[0m     state,\n\u001b[1;32m   1358\u001b[0m     point,\n\u001b[1;32m   1359\u001b[0m ):\n\u001b[0;32m-> 1361\u001b[0m     n \u001b[39m=\u001b[39m \u001b[39mself\u001b[39;49m\u001b[39m.\u001b[39;49mIndex(state,point)\n\u001b[1;32m   1362\u001b[0m     \u001b[39mreturn\u001b[39;00m Result(\u001b[39mself\u001b[39m\u001b[39m.\u001b[39mnpaths[n],\u001b[39mself\u001b[39m\u001b[39m.\u001b[39mmean[n],\u001b[39mself\u001b[39m\u001b[39m.\u001b[39mstddev[n],\u001b[39mself\u001b[39m\u001b[39m.\u001b[39mskewness[n])\n\u001b[1;32m   1364\u001b[0m     \u001b[39mpass\u001b[39;00m\n",
      "File \u001b[0;32m~/Projects/MonteCarlo/MonteCarlo-to-gitlab/external/mcsdk/python/notebooks/mcsdk.py:1350\u001b[0m, in \u001b[0;36mEvaluationResults.Index\u001b[0;34m(self, state, point)\u001b[0m\n\u001b[1;32m   1343\u001b[0m \u001b[39mdef\u001b[39;00m \u001b[39mIndex\u001b[39m (\n\u001b[1;32m   1344\u001b[0m     \u001b[39mself\u001b[39m,\n\u001b[1;32m   1345\u001b[0m     state,\n\u001b[1;32m   1346\u001b[0m     point,\n\u001b[1;32m   1347\u001b[0m ):\n\u001b[1;32m   1349\u001b[0m     \u001b[39mif\u001b[39;00m \u001b[39mnot\u001b[39;00m (state\u001b[39m>\u001b[39m\u001b[39m=\u001b[39m\u001b[39m0\u001b[39m \u001b[39mand\u001b[39;00m state\u001b[39m<\u001b[39m\u001b[39mself\u001b[39m\u001b[39m.\u001b[39mGetNumberOfStates() \u001b[39mand\u001b[39;00m point\u001b[39m>\u001b[39m\u001b[39m=\u001b[39m\u001b[39m0\u001b[39m \u001b[39mand\u001b[39;00m point\u001b[39m<\u001b[39m\u001b[39mself\u001b[39m\u001b[39m.\u001b[39mGetNumberOfEvaluations()):\n\u001b[0;32m-> 1350\u001b[0m         \u001b[39mraise\u001b[39;00m \u001b[39mValueError\u001b[39;00m()\n\u001b[1;32m   1351\u001b[0m     \u001b[39mreturn\u001b[39;00m point\u001b[39m*\u001b[39m\u001b[39mself\u001b[39m\u001b[39m.\u001b[39mGetNumberOfStates() \u001b[39m+\u001b[39m state\n\u001b[1;32m   1353\u001b[0m     \u001b[39mpass\u001b[39;00m\n",
      "\u001b[0;31mValueError\u001b[0m: "
     ]
    }
   ],
   "source": [
    "evaluation_point = 0\n",
    "price_stat = er.GetStateEvaluationResult(putOption_process.GetStateNumber(),evaluation_point)\n",
    "print(price_stat)\n",
    "price = price_stat.mean\n",
    "print(price,expiry,strike,F0)"
   ]
  },
  {
   "cell_type": "markdown",
   "id": "93936e81-1963-4ee8-91c2-b63ad0b7d9d6",
   "metadata": {},
   "source": [
    "# Black Scholes pricing formula and Implied Volatility"
   ]
  },
  {
   "cell_type": "code",
   "execution_count": 42,
   "id": "85fd2461-7974-4037-b527-9c6a1a567a2d",
   "metadata": {},
   "outputs": [
    {
     "data": {
      "text/plain": [
       "(42.45589729822068, 22.455897298220677)"
      ]
     },
     "execution_count": 42,
     "metadata": {},
     "output_type": "execute_result"
    }
   ],
   "source": [
    "spot       = 130\n",
    "strike     = 110\n",
    "volatility = 0.3\n",
    "expiry     = 5\n",
    "call_price,put_price = ivol.bs76_call_put (spot,strike,volatility,expiry)\n",
    "call_price,put_price"
   ]
  },
  {
   "cell_type": "code",
   "execution_count": 43,
   "id": "f7a89d8e-de6d-4638-9ded-01794b49e23f",
   "metadata": {},
   "outputs": [],
   "source": [
    "bs76_ivol = ivol.bs76_ivol"
   ]
  },
  {
   "cell_type": "code",
   "execution_count": 44,
   "id": "bb0db9cc-abec-4cb2-a1e7-4dbc787db535",
   "metadata": {},
   "outputs": [
    {
     "data": {
      "text/plain": [
       "(0.2999999944748793, 0.29999999447487924)"
      ]
     },
     "execution_count": 44,
     "metadata": {},
     "output_type": "execute_result"
    }
   ],
   "source": [
    "vol_call = bs76_ivol(spot,strike,expiry,call_price,'call')\n",
    "vol_put  = bs76_ivol(spot,strike,expiry,put_price,'put')\n",
    "vol_call, vol_put"
   ]
  },
  {
   "cell_type": "markdown",
   "id": "efd41c3e-b2c2-42bd-8932-ab27135cfe16",
   "metadata": {},
   "source": [
    "# Function to run SABR MonterCarlo and get back the implied volatility"
   ]
  },
  {
   "cell_type": "code",
   "execution_count": 45,
   "id": "29f9c372-8d06-4749-bdb3-c6e39225a86b",
   "metadata": {},
   "outputs": [],
   "source": [
    "def SABR_to_ivol (\n",
    "    alpha,              # Stichastic alpha (or volatility of volatility)\n",
    "    beta,               # \n",
    "    rho,                # correlation\n",
    "    strike,             # \n",
    "    F0,                 # starting value of the F-process\n",
    "    sigma0,             # startting value of: volatility\n",
    "    expiry,             # time > 0\n",
    "    shift      = 0,      # For negative rates\n",
    "    TimeSteps  = 1000,\n",
    "    NumPaths   = 100000,\n",
    "    RandomSeed = -1,\n",
    "    vol_guess  = 0.1\n",
    "):\n",
    "    model = sdk.Model()\n",
    "    model.TimeStart = 0\n",
    "    model.TimeSteps = TimeSteps\n",
    "    model.NumPaths = NumPaths\n",
    "    model.RunTimeoutSeconds = max(TimeSteps*NumPaths*1e-8,1)\n",
    "    model.RandomSeed = RandomSeed\n",
    "\n",
    "    ref_S = model.NumStatefulProcesses()\n",
    "    model.Add(sdk.IndependentGaussian())\n",
    "    model.Add(sdk.CorrelatedGaussian(rho,ref_S,ref_S+1))\n",
    "    \n",
    "    SABR_S_process = sdk.Updater(\n",
    "        _title = 'StochVol',\n",
    "        name = 'SABR_S',\n",
    "        start = sigma0,\n",
    "        args = [alpha]\n",
    "    )\n",
    "    model.Add(SABR_S_process)\n",
    "\n",
    "    assert SABR_S_process.Number()==ref_S\n",
    "    assert model.NumStatefulProcesses()==(SABR_S_process.Number()+1)\n",
    "\n",
    "    SABR_F_process = sdk.Updater(\n",
    "        _title = 'SABR-F',\n",
    "        name = 'SABR_F',\n",
    "        start = F0,\n",
    "        args = [beta,shift],\n",
    "        refs = [SABR_S_process.Number()]\n",
    "    )\n",
    "    model.Add(SABR_F_process)\n",
    "    assert model.NumStatefulProcesses()==(SABR_F_process.Number()+1)\n",
    "\n",
    "    putOption_process = sdk.Option(SABR_F_process.Number(),strike,sdk.Option.Put)\n",
    "    model.Add(putOption_process)\n",
    "\n",
    "    callOption_process = sdk.Option(SABR_F_process.Number(),strike,sdk.Option.Call)\n",
    "    model.Add(callOption_process)\n",
    "\n",
    "    model.AddEvaluationRequest (expiry)\n",
    "    result = requests.post(f'{server}/model',model.json())\n",
    "    er = sdk.EvaluationResults(result.json(),model)\n",
    "    price = {}\n",
    "    price['call'] = er.GetStateEvaluationResult(callOption_process.Number(),evaluation_point)\n",
    "    price['put']  = er.GetStateEvaluationResult( putOption_process.Number(),evaluation_point)\n",
    "    \n",
    "    logging.debug(f'price_call={price[\"call\"]}')\n",
    "    logging.debug(f'price_put ={price[\"put\"]}')\n",
    "\n",
    "    # Take highest price\n",
    "    call_put = 'call' if price['call'].MeanError() < price['put'].MeanError() else 'put'\n",
    "    call_put = 'call' # FIXME: always use 'call'\n",
    "    \n",
    "    # if price[call_put].mean==0:\n",
    "    #     return (math.nan,math.nan)\n",
    "    \n",
    "    val = price[call_put].mean\n",
    "    err = price[call_put].MeanError()\n",
    "    dx = val*1e-2 # 1% change\n",
    "    logging.debug(f'{call_put} price={val} dx={dx}')\n",
    "    try:\n",
    "        y = bs76_ivol(F0,strike,expiry,val,call_put,vol_guess=vol_guess)\n",
    "        y_dx = bs76_ivol(F0,strike,expiry,val+dx,call_put,vol_guess=vol_guess)\n",
    "        deriv = (y_dx-y)/dx\n",
    "        y_error = deriv*err\n",
    "    except:\n",
    "        y_error = math.nan\n",
    "    # return (y, y_error)\n",
    "    return {'call_put':call_put,'price':{'call':price['call'],'put':price['put']},'er':er,'ivol':{'value':y,'error':y_error}}"
   ]
  },
  {
   "cell_type": "markdown",
   "id": "2f8510b3-2e5b-45a2-8d68-a20afece2d4b",
   "metadata": {},
   "source": [
    "# Theory\n",
    "https://en.wikipedia.org/wiki/SABR_volatility_model"
   ]
  },
  {
   "cell_type": "code",
   "execution_count": 46,
   "id": "98c32523-7257-49a2-8215-b95871cddae5",
   "metadata": {},
   "outputs": [],
   "source": [
    "from math import log,sqrt,pow\n",
    "\n",
    "def SABR_theory_ivol(alpha,beta,rho,K,F0,sigma0,expiry):\n",
    "    a = alpha\n",
    "    b = beta\n",
    "    r = rho\n",
    "    f = F0\n",
    "    s = sigma0\n",
    "    t = expiry\n",
    "\n",
    "    z = a/s * pow(f*K,(1-b)/2) * log(f/K)\n",
    "\n",
    "    x = log((sqrt(1-2*r*z+z**2) + z -r)/(1-r))\n",
    "\n",
    "    fK = pow(f*K,(1-b)/2)\n",
    "    \n",
    "    e1 = (1 + (pow((1-b)*s/fK,2)/24 + r*b*a*s/(4*fK) + (2-3*r**2)*a**2/24)*t)\n",
    "\n",
    "    fKb = pow((1-b)*log(f/K),2)\n",
    "    e2 = fK*(1 + fKb/24 + fKb**2/1920)\n",
    "\n",
    "    return s*z/x * e1/e2\n"
   ]
  },
  {
   "cell_type": "markdown",
   "id": "ce03bdff-8170-48ad-a053-b7fa12889ed0",
   "metadata": {},
   "source": [
    "# Plot"
   ]
  },
  {
   "cell_type": "code",
   "execution_count": 47,
   "id": "4ee0f5d1-107c-470a-a821-2717343f387b",
   "metadata": {},
   "outputs": [
    {
     "name": "stdout",
     "output_type": "stream",
     "text": [
      "0.04570852715627643\n"
     ]
    },
    {
     "ename": "NameError",
     "evalue": "name 'Model' is not defined",
     "output_type": "error",
     "traceback": [
      "\u001b[0;31m---------------------------------------------------------------------------\u001b[0m",
      "\u001b[0;31mNameError\u001b[0m                                 Traceback (most recent call last)",
      "Cell \u001b[0;32mIn[47], line 10\u001b[0m\n\u001b[1;32m      7\u001b[0m expiry \u001b[39m=\u001b[39m \u001b[39m10\u001b[39m\n\u001b[1;32m      9\u001b[0m \u001b[39mprint\u001b[39m(SABR_theory_ivol(alpha,beta,rho,K,F0,sigma0,expiry))\n\u001b[0;32m---> 10\u001b[0m \u001b[39mprint\u001b[39m(SABR_to_ivol (alpha,beta,rho,K,F0,sigma0,expiry,NumPaths\u001b[39m=\u001b[39;49m\u001b[39m4\u001b[39;49m))\n",
      "Cell \u001b[0;32mIn[45], line 15\u001b[0m, in \u001b[0;36mSABR_to_ivol\u001b[0;34m(alpha, beta, rho, strike, F0, sigma0, expiry, shift, TimeSteps, NumPaths, RandomSeed, vol_guess)\u001b[0m\n\u001b[1;32m      1\u001b[0m \u001b[39mdef\u001b[39;00m \u001b[39mSABR_to_ivol\u001b[39m (\n\u001b[1;32m      2\u001b[0m     alpha,              \u001b[39m# Stichastic alpha (or volatility of volatility)\u001b[39;00m\n\u001b[1;32m      3\u001b[0m     beta,               \u001b[39m# \u001b[39;00m\n\u001b[0;32m   (...)\u001b[0m\n\u001b[1;32m     13\u001b[0m     vol_guess  \u001b[39m=\u001b[39m \u001b[39m0.1\u001b[39m\n\u001b[1;32m     14\u001b[0m ):\n\u001b[0;32m---> 15\u001b[0m     model \u001b[39m=\u001b[39m Model()\n\u001b[1;32m     16\u001b[0m     model\u001b[39m.\u001b[39mTimeStart \u001b[39m=\u001b[39m \u001b[39m0\u001b[39m\n\u001b[1;32m     17\u001b[0m     model\u001b[39m.\u001b[39mTimeSteps \u001b[39m=\u001b[39m TimeSteps\n",
      "\u001b[0;31mNameError\u001b[0m: name 'Model' is not defined"
     ]
    }
   ],
   "source": [
    "alpha  = 0.05   # Stochastic alpha (or volatility of volatility)\n",
    "beta   = 0.98   # \n",
    "rho    = 0      # correlation\n",
    "F0     = 100    # starting value of the F-process\n",
    "K      = 98     # strike\n",
    "sigma0 = 0.05   # startting value of: volatility\n",
    "expiry = 10\n",
    "\n",
    "print(SABR_theory_ivol(alpha,beta,rho,K,F0,sigma0,expiry))\n",
    "print(SABR_to_ivol (alpha,beta,rho,K,F0,sigma0,expiry,NumPaths=4))"
   ]
  },
  {
   "cell_type": "code",
   "execution_count": null,
   "id": "1864080f-1c3c-4b14-8c52-274e74171058",
   "metadata": {},
   "outputs": [],
   "source": [
    "from mcsdk import linspace\n",
    "from plotly.subplots import make_subplots\n",
    "import plotly.graph_objects as go\n",
    "\n",
    "def compare_SABR (\n",
    "    alpha     = 0.2,    # Stichastic alpha (or volatility of volatility)\n",
    "    beta      = 0.95,   # \n",
    "    rho       = 0,      # correlation\n",
    "    F0        = 100,    # starting value of the F-process\n",
    "    sigma0    = 0.2,    # startting value of: volatility\n",
    "    expiry    = 2,      #\n",
    "    NumPaths  = 10000,\n",
    "    TimeSteps = 100,\n",
    "    points    = 20,     # number of points on the plot\n",
    "    K         = None    # strike range\n",
    "):\n",
    "    if not K:\n",
    "        K = (F0/2,F0*2)\n",
    "    vx = linspace(K[0],K[1],points)\n",
    "    vy = [ SABR_to_ivol (alpha,beta,rho,K,F0,sigma0,expiry,NumPaths=NumPaths,TimeSteps=TimeSteps)\n",
    "           for K in vx ]\n",
    "\n",
    "    # print('vy:',vy)\n",
    "    # print('vy-ivol:',[v['ivol'] for v in vy])\n",
    "    \n",
    "    space=' \\\\, '\n",
    "    fig = make_subplots(rows=1, cols=1)\n",
    "    fig.layout.title.text = f'$\\\\alpha={alpha}{space}\\\\beta={beta}{space}\\\\rho={rho}{space}F_0={F0}{space}K={K}{space}\\\\sigma_0={sigma0}{space}T={expiry}{space}\\\\textrm{{paths}}={NumPaths}{space}\\\\textrm{{steps}}={TimeSteps}$'\n",
    "    fig.append_trace(go.Scatter(\n",
    "        name = 'MonteCarlo',\n",
    "        x = vx,\n",
    "        y = [v['ivol']['value'] for v in vy],\n",
    "        error_y = {\n",
    "            'type'   : 'data',\n",
    "            'array'  : [v['ivol']['error'] for v in vy],\n",
    "            'visible': True\n",
    "        }\n",
    "    ),row=1,col=1)\n",
    "    fig.append_trace(go.Scatter(\n",
    "        name = 'theory',\n",
    "        x = vx,\n",
    "        y = [\n",
    "                SABR_theory_ivol (alpha,beta,rho,x,F0,sigma0,expiry)\n",
    "                for x in vx\n",
    "            ]\n",
    "    ),row=1,col=1)\n",
    "    fig.show()"
   ]
  },
  {
   "cell_type": "code",
   "execution_count": null,
   "id": "afa67b01-0765-4438-bbcc-2e24677adcb7",
   "metadata": {},
   "outputs": [],
   "source": [
    "compare_SABR()"
   ]
  },
  {
   "cell_type": "code",
   "execution_count": null,
   "id": "584b157d-4eeb-47f3-aa5f-fa66510b9170",
   "metadata": {},
   "outputs": [],
   "source": [
    "compare_SABR(expiry=10)"
   ]
  },
  {
   "cell_type": "code",
   "execution_count": null,
   "id": "652d9db4-2060-4d23-b37f-588f02038e35",
   "metadata": {},
   "outputs": [],
   "source": [
    "compare_SABR(expiry=5,rho=0.6,TimeSteps=1000,NumPaths=100000)"
   ]
  },
  {
   "cell_type": "code",
   "execution_count": null,
   "id": "1b420f63-773e-4394-89e8-f9ea30d809f8",
   "metadata": {},
   "outputs": [],
   "source": [
    "compare_SABR(rho=-0.5)"
   ]
  },
  {
   "cell_type": "code",
   "execution_count": null,
   "id": "f8bd5811-2754-420d-8f68-d8b61e0cdf09",
   "metadata": {},
   "outputs": [],
   "source": [
    "# compare_SABR(rho=0.5,TimeSteps=100)"
   ]
  },
  {
   "cell_type": "code",
   "execution_count": null,
   "id": "d926ecc6-af09-4e66-951e-b7387c7772bf",
   "metadata": {},
   "outputs": [],
   "source": [
    "# compare_SABR(rho=0,beta=0.29,TimeSteps=10000,NumPaths=1000)"
   ]
  },
  {
   "cell_type": "code",
   "execution_count": null,
   "id": "556a37d9-eca0-42e6-8b5a-0379bb5c7ee1",
   "metadata": {},
   "outputs": [],
   "source": [
    "# compare_SABR(alpha=0.1,rho=0,NumPaths=100000,TimeSteps=1000)"
   ]
  },
  {
   "cell_type": "code",
   "execution_count": null,
   "id": "3508a5ca-16b8-45e5-aefd-ff0a886b38b8",
   "metadata": {},
   "outputs": [],
   "source": [
    "# compare_SABR(alpha=0.1,rho=0,NumPaths=100000,TimeSteps=1000,K=(10,410),points=100)"
   ]
  },
  {
   "cell_type": "markdown",
   "id": "94b644f4-e975-482d-81b7-7eae45b4c5da",
   "metadata": {},
   "source": [
    "## As a function of $\\rho$"
   ]
  },
  {
   "cell_type": "code",
   "execution_count": null,
   "id": "95a47e36-1a20-41a3-9aeb-7ccdd446551b",
   "metadata": {},
   "outputs": [],
   "source": [
    "kargs = dict(\n",
    "    a = 0.2,\n",
    "    b = 0.95,\n",
    "    r = 0,\n",
    "    f = 1.40,\n",
    "    K = 1.50,\n",
    "    s = 0.3,\n",
    "    t = 10\n",
    ")\n",
    "def f(r):\n",
    "    return SABR_theory_ivol(kargs['a'],kargs['b'],r,kargs['K'],kargs['f'],kargs['s'],kargs['t'])\n",
    "\n",
    "vx = linspace(-0.99,0.99,20)\n",
    "# vy = [ f(r)\n",
    "#        for r in vx ]\n",
    "\n",
    "fig = make_subplots(rows=1, cols=1)\n",
    "fig.append_trace(go.Scatter(\n",
    "    name = 'theory',\n",
    "    x = vx,\n",
    "    y = [ f(r)\n",
    "          for r in vx ]\n",
    "),row=1,col=1)\n",
    "\n",
    "vy = [ SABR_to_ivol (kargs['a'],kargs['b'],r,kargs['K'],kargs['f'],kargs['s'],kargs['t'],NumPaths=100000,TimeSteps=1000,vol_guess=kargs['s'])\n",
    "       for r in vx ]\n",
    "fig.append_trace(go.Scatter(\n",
    "    name = 'MonteCarlo',\n",
    "    x = vx,\n",
    "    y = [v['ivol']['value'] for v in vy],\n",
    "    error_y = {\n",
    "        'type'   : 'data',\n",
    "        'array'  : [v['ivol']['error'] for v in vy],\n",
    "        'visible': True\n",
    "    }\n",
    "),row=1,col=1)\n",
    "\n",
    "fig.show()"
   ]
  }
 ],
 "metadata": {
  "kernelspec": {
   "display_name": "Python 3",
   "language": "python",
   "name": "python3"
  },
  "language_info": {
   "codemirror_mode": {
    "name": "ipython",
    "version": 3
   },
   "file_extension": ".py",
   "mimetype": "text/x-python",
   "name": "python",
   "nbconvert_exporter": "python",
   "pygments_lexer": "ipython3",
   "version": "3.10.7"
  },
  "vscode": {
   "interpreter": {
    "hash": "916dbcbb3f70747c44a77c7bcd40155683ae19c65e1c03b4aa3499c5328201f1"
   }
  }
 },
 "nbformat": 4,
 "nbformat_minor": 5
}
