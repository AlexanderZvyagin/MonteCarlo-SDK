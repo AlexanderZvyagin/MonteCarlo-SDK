{
 "cells": [
  {
   "cell_type": "code",
   "execution_count": 1,
   "id": "c2bcaffe-1ae8-4981-acd6-b9ea959cd4e6",
   "metadata": {},
   "outputs": [],
   "source": [
    "from init import *"
   ]
  },
  {
   "cell_type": "code",
   "execution_count": 2,
   "id": "5a6711d1-64a2-42a9-b5d6-5a477b7faa66",
   "metadata": {
    "tags": []
   },
   "outputs": [],
   "source": [
    "def BuildModel_Simple():\n",
    "    m = sdk.Model()\n",
    "    m.TimeStart = 0\n",
    "    m.TimeSteps = 10\n",
    "    m.NumPaths = 10000\n",
    "    m.Add(sdk.BrownianMotion(0.1,0.2,2)) # start, drift, diffusion\n",
    "    return m"
   ]
  },
  {
   "cell_type": "code",
   "execution_count": 3,
   "id": "7e16d5d8-9566-456e-a06b-1603b100cead",
   "metadata": {},
   "outputs": [
    {
     "data": {
      "text/plain": [
       "'{\"version\": \"Model:1\", \"TimeStart\": 0, \"TimeSteps\": 10, \"NumPaths\": 10000, \"updaters\": [{\"name\": \"BrownianMotion\", \"refs\": [], \"args\": [0.2, 2], \"start\": [0.1]}], \"evaluations\": [{\"time\": 2}]}'"
      ]
     },
     "execution_count": 3,
     "metadata": {},
     "output_type": "execute_result"
    }
   ],
   "source": [
    "m = BuildModel_Simple()\n",
    "m.evaluations.append(sdk.EvaluationPoint(2))\n",
    "m.json()"
   ]
  },
  {
   "cell_type": "code",
   "execution_count": 4,
   "id": "a3fdd414-b512-4d68-9d8b-e14d1189826b",
   "metadata": {},
   "outputs": [
    {
     "data": {
      "text/plain": [
       "{'histograms': [],\n",
       " 'mean': [0.4896470606327057],\n",
       " 'names': ['BrownianMotion'],\n",
       " 'npaths': [10000],\n",
       " 'skewness': [-0.019155969843268394],\n",
       " 'stddev': [2.7979307174682617],\n",
       " 'time_points': [2.0],\n",
       " 'time_steps': [9]}"
      ]
     },
     "execution_count": 4,
     "metadata": {},
     "output_type": "execute_result"
    }
   ],
   "source": [
    "r = requests.post(f'{server}/model',m.json())\n",
    "r.json()"
   ]
  },
  {
   "cell_type": "code",
   "execution_count": 5,
   "id": "6629e079-e908-4501-9a89-dd9d191883a0",
   "metadata": {},
   "outputs": [
    {
     "data": {
      "text/plain": [
       "{'histograms': [],\n",
       " 'mean': [0.3003929853439331,\n",
       "  0.4978606104850769,\n",
       "  1.1002122163772583,\n",
       "  2.0956273078918457],\n",
       " 'names': ['BrownianMotion'],\n",
       " 'npaths': [1000000, 1000000, 1000000, 1000000],\n",
       " 'skewness': [-0.0009215424070134759,\n",
       "  0.00028438729350455105,\n",
       "  -0.0024296639021486044,\n",
       "  -0.003244265215471387],\n",
       " 'stddev': [1.999655842781067,\n",
       "  2.8266067504882812,\n",
       "  4.470344066619873,\n",
       "  6.325104236602783],\n",
       " 'time_points': [1.0, 2.0, 5.0, 10.0],\n",
       " 'time_steps': [99, 199, 499, 999]}"
      ]
     },
     "execution_count": 5,
     "metadata": {},
     "output_type": "execute_result"
    }
   ],
   "source": [
    "import time\n",
    "m = BuildModel_Simple()\n",
    "m.NumPaths = 1000000\n",
    "m.TimeSteps = 1000\n",
    "m.RunTimeoutSeconds = 16.7\n",
    "for t in [1,2,5,10]:\n",
    "    m.evaluations.append(sdk.EvaluationPoint(t))\n",
    "time_start = time.time()\n",
    "r = requests.post(f'{server}/model',m.json())\n",
    "time_end = time.time()\n",
    "r.json()"
   ]
  },
  {
   "cell_type": "code",
   "execution_count": 6,
   "id": "15c1ec56-107e-4c3d-bbd1-ee3c47d83f50",
   "metadata": {},
   "outputs": [
    {
     "name": "stdout",
     "output_type": "stream",
     "text": [
      "2.7 nanoseconds to make a single time step\n"
     ]
    }
   ],
   "source": [
    "print(f'{m.NumPaths*m.TimeSteps/(time_end-time_start)*1e-9:.1f} nanoseconds to make a single time step')"
   ]
  },
  {
   "cell_type": "markdown",
   "id": "a57da563-2a85-4ca7-ae81-39dbbe3e3733",
   "metadata": {},
   "source": [
    "# Two processes, Three evaluations"
   ]
  },
  {
   "cell_type": "code",
   "execution_count": 7,
   "id": "ab2bb8be-1fd5-4521-8695-fe8815108de7",
   "metadata": {},
   "outputs": [],
   "source": [
    "def TwoProcessesModel ():\n",
    "    m = sdk.Model()\n",
    "    m.TimeStart = 0\n",
    "    m.TimeSteps = 10\n",
    "    m.NumPaths = 10000\n",
    "    m.Add(sdk.IndependentGaussian())\n",
    "    m.Add(sdk.BrownianMotion(0.1,0.2,2)) # start, drift, diffusion\n",
    "    m.Add(sdk.BrownianMotion(0.1,0.2,2)) # start, drift, diffusion\n",
    "    return m"
   ]
  },
  {
   "cell_type": "code",
   "execution_count": 8,
   "id": "ba672df7-920f-446b-bbb3-cbf51d320f1f",
   "metadata": {},
   "outputs": [
    {
     "data": {
      "text/plain": [
       "{'histograms': [],\n",
       " 'mean': [0.3405849039554596,\n",
       "  0.2630581855773926,\n",
       "  0.5352856516838074,\n",
       "  0.4589063823223114,\n",
       "  1.2040940523147583,\n",
       "  1.013039469718933],\n",
       " 'names': ['BrownianMotion', 'BrownianMotion'],\n",
       " 'npaths': [10000, 10000, 10000, 10000, 10000, 10000],\n",
       " 'skewness': [-0.016896016895771027,\n",
       "  -0.009573712013661861,\n",
       "  -0.027073148638010025,\n",
       "  0.013739141635596752,\n",
       "  0.009943977929651737,\n",
       "  0.017942816019058228],\n",
       " 'stddev': [1.9741570949554443,\n",
       "  2.011237621307373,\n",
       "  2.7974250316619873,\n",
       "  2.840625762939453,\n",
       "  4.454368591308594,\n",
       "  4.43344259262085],\n",
       " 'time_points': [1.0, 2.0, 5.0],\n",
       " 'time_steps': [1999, 3999, 9999]}"
      ]
     },
     "execution_count": 8,
     "metadata": {},
     "output_type": "execute_result"
    }
   ],
   "source": [
    "model = sdk.Model()\n",
    "model.TimeStart = 0\n",
    "model.TimeSteps = 10\n",
    "model.NumPaths = 10000\n",
    "model.Add(sdk.BrownianMotion(0.1,0.2,2)) # start, drift, diffusion\n",
    "model.Add(sdk.BrownianMotion(0.1,0.2,2)) # start, drift, diffusion\n",
    "model.TimeSteps = 10000\n",
    "for t in [1,2,5]:\n",
    "    model.evaluations.append(sdk.EvaluationPoint(time=t))\n",
    "r = requests.post(f'{server}/model',model.json())\n",
    "r.json()"
   ]
  },
  {
   "cell_type": "code",
   "execution_count": 9,
   "id": "83d32fb3-be55-406e-ae33-375014843930",
   "metadata": {},
   "outputs": [
    {
     "data": {
      "text/html": [
       "<div>\n",
       "<style scoped>\n",
       "    .dataframe tbody tr th:only-of-type {\n",
       "        vertical-align: middle;\n",
       "    }\n",
       "\n",
       "    .dataframe tbody tr th {\n",
       "        vertical-align: top;\n",
       "    }\n",
       "\n",
       "    .dataframe thead th {\n",
       "        text-align: right;\n",
       "    }\n",
       "</style>\n",
       "<table border=\"1\" class=\"dataframe\">\n",
       "  <thead>\n",
       "    <tr style=\"text-align: right;\">\n",
       "      <th></th>\n",
       "      <th>name</th>\n",
       "      <th>title</th>\n",
       "      <th>state</th>\n",
       "      <th>point</th>\n",
       "      <th>time</th>\n",
       "      <th>step</th>\n",
       "      <th>npaths</th>\n",
       "      <th>mean</th>\n",
       "      <th>mean_error</th>\n",
       "      <th>stddev</th>\n",
       "      <th>skewness</th>\n",
       "    </tr>\n",
       "  </thead>\n",
       "  <tbody>\n",
       "    <tr>\n",
       "      <th>0</th>\n",
       "      <td>BrownianMotion</td>\n",
       "      <td></td>\n",
       "      <td>0</td>\n",
       "      <td>0</td>\n",
       "      <td>1.0</td>\n",
       "      <td>1999</td>\n",
       "      <td>10000</td>\n",
       "      <td>0.340585</td>\n",
       "      <td>0.019742</td>\n",
       "      <td>1.974157</td>\n",
       "      <td>-0.016896</td>\n",
       "    </tr>\n",
       "    <tr>\n",
       "      <th>1</th>\n",
       "      <td>BrownianMotion</td>\n",
       "      <td></td>\n",
       "      <td>1</td>\n",
       "      <td>0</td>\n",
       "      <td>1.0</td>\n",
       "      <td>1999</td>\n",
       "      <td>10000</td>\n",
       "      <td>0.263058</td>\n",
       "      <td>0.020112</td>\n",
       "      <td>2.011238</td>\n",
       "      <td>-0.009574</td>\n",
       "    </tr>\n",
       "    <tr>\n",
       "      <th>2</th>\n",
       "      <td>BrownianMotion</td>\n",
       "      <td></td>\n",
       "      <td>0</td>\n",
       "      <td>1</td>\n",
       "      <td>2.0</td>\n",
       "      <td>3999</td>\n",
       "      <td>10000</td>\n",
       "      <td>0.535286</td>\n",
       "      <td>0.027974</td>\n",
       "      <td>2.797425</td>\n",
       "      <td>-0.027073</td>\n",
       "    </tr>\n",
       "    <tr>\n",
       "      <th>3</th>\n",
       "      <td>BrownianMotion</td>\n",
       "      <td></td>\n",
       "      <td>1</td>\n",
       "      <td>1</td>\n",
       "      <td>2.0</td>\n",
       "      <td>3999</td>\n",
       "      <td>10000</td>\n",
       "      <td>0.458906</td>\n",
       "      <td>0.028406</td>\n",
       "      <td>2.840626</td>\n",
       "      <td>0.013739</td>\n",
       "    </tr>\n",
       "    <tr>\n",
       "      <th>4</th>\n",
       "      <td>BrownianMotion</td>\n",
       "      <td></td>\n",
       "      <td>0</td>\n",
       "      <td>2</td>\n",
       "      <td>5.0</td>\n",
       "      <td>9999</td>\n",
       "      <td>10000</td>\n",
       "      <td>1.204094</td>\n",
       "      <td>0.044544</td>\n",
       "      <td>4.454369</td>\n",
       "      <td>0.009944</td>\n",
       "    </tr>\n",
       "    <tr>\n",
       "      <th>5</th>\n",
       "      <td>BrownianMotion</td>\n",
       "      <td></td>\n",
       "      <td>1</td>\n",
       "      <td>2</td>\n",
       "      <td>5.0</td>\n",
       "      <td>9999</td>\n",
       "      <td>10000</td>\n",
       "      <td>1.013039</td>\n",
       "      <td>0.044334</td>\n",
       "      <td>4.433443</td>\n",
       "      <td>0.017943</td>\n",
       "    </tr>\n",
       "  </tbody>\n",
       "</table>\n",
       "</div>"
      ],
      "text/plain": [
       "             name title  state  point  time  step  npaths      mean  \\\n",
       "0  BrownianMotion            0      0   1.0  1999   10000  0.340585   \n",
       "1  BrownianMotion            1      0   1.0  1999   10000  0.263058   \n",
       "2  BrownianMotion            0      1   2.0  3999   10000  0.535286   \n",
       "3  BrownianMotion            1      1   2.0  3999   10000  0.458906   \n",
       "4  BrownianMotion            0      2   5.0  9999   10000  1.204094   \n",
       "5  BrownianMotion            1      2   5.0  9999   10000  1.013039   \n",
       "\n",
       "   mean_error    stddev  skewness  \n",
       "0    0.019742  1.974157 -0.016896  \n",
       "1    0.020112  2.011238 -0.009574  \n",
       "2    0.027974  2.797425 -0.027073  \n",
       "3    0.028406  2.840626  0.013739  \n",
       "4    0.044544  4.454369  0.009944  \n",
       "5    0.044334  4.433443  0.017943  "
      ]
     },
     "execution_count": 9,
     "metadata": {},
     "output_type": "execute_result"
    }
   ],
   "source": [
    "results = sdk.run (model, server)\n",
    "results.df()"
   ]
  }
 ],
 "metadata": {
  "kernelspec": {
   "display_name": "Python 3 (ipykernel)",
   "language": "python",
   "name": "python3"
  },
  "language_info": {
   "codemirror_mode": {
    "name": "ipython",
    "version": 3
   },
   "file_extension": ".py",
   "mimetype": "text/x-python",
   "name": "python",
   "nbconvert_exporter": "python",
   "pygments_lexer": "ipython3",
   "version": "3.10.12"
  },
  "vscode": {
   "interpreter": {
    "hash": "916dbcbb3f70747c44a77c7bcd40155683ae19c65e1c03b4aa3499c5328201f1"
   }
  }
 },
 "nbformat": 4,
 "nbformat_minor": 5
}
