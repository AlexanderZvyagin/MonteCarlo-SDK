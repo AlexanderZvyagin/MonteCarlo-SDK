{
 "cells": [
  {
   "cell_type": "code",
   "execution_count": 1,
   "id": "c2bcaffe-1ae8-4981-acd6-b9ea959cd4e6",
   "metadata": {},
   "outputs": [],
   "source": [
    "from init import *"
   ]
  },
  {
   "cell_type": "code",
   "execution_count": 2,
   "id": "5a6711d1-64a2-42a9-b5d6-5a477b7faa66",
   "metadata": {
    "tags": []
   },
   "outputs": [],
   "source": [
    "def BuildModel_Simple():\n",
    "    m = sdk.Model()\n",
    "    m.TimeStart = 0\n",
    "    m.TimeSteps = 10\n",
    "    m.NumPaths = 10000\n",
    "    m.Add(sdk.IndependentGaussian())\n",
    "    m.Add(sdk.BrownianMotion(0.1,0.2,2)) # start, drift, diffusion\n",
    "    return m"
   ]
  },
  {
   "cell_type": "code",
   "execution_count": 3,
   "id": "7e16d5d8-9566-456e-a06b-1603b100cead",
   "metadata": {},
   "outputs": [
    {
     "data": {
      "text/plain": [
       "'{\"TimeStart\": 0, \"TimeSteps\": 10, \"NumPaths\": 10000, \"updaters\": [{\"name\": \"IndependentGaussian\", \"refs\": [], \"args\": []}, {\"name\": \"BrownianMotion\", \"refs\": [], \"args\": [0.2, 2], \"start\": 0.1}], \"evaluations\": [{\"state\": 0, \"time\": 2}]}'"
      ]
     },
     "execution_count": 3,
     "metadata": {},
     "output_type": "execute_result"
    }
   ],
   "source": [
    "m = BuildModel_Simple()\n",
    "m.evaluations.append(sdk.EvaluationPoint(0,2))\n",
    "m.json()"
   ]
  },
  {
   "cell_type": "code",
   "execution_count": 4,
   "id": "a3fdd414-b512-4d68-9d8b-e14d1189826b",
   "metadata": {},
   "outputs": [
    {
     "data": {
      "text/plain": [
       "{'has_state': [0, 1],\n",
       " 'histograms': [],\n",
       " 'mean': [None, 0.5377951860427856],\n",
       " 'names': ['IndependentGaussian', 'BrownianMotion'],\n",
       " 'npaths': [0, 10000],\n",
       " 'skewness': [None, -0.044270601123571396],\n",
       " 'stddev': [None, 2.8695006370544434],\n",
       " 'time_points': [2.0],\n",
       " 'time_steps': [9]}"
      ]
     },
     "execution_count": 4,
     "metadata": {},
     "output_type": "execute_result"
    }
   ],
   "source": [
    "r = requests.post(f'{server}/model',m.json())\n",
    "r.json()"
   ]
  },
  {
   "cell_type": "code",
   "execution_count": 5,
   "id": "6629e079-e908-4501-9a89-dd9d191883a0",
   "metadata": {},
   "outputs": [
    {
     "data": {
      "text/plain": [
       "{'has_state': [0, 1],\n",
       " 'histograms': [],\n",
       " 'mean': [None,\n",
       "  0.29666298627853394,\n",
       "  None,\n",
       "  0.49162912368774414,\n",
       "  None,\n",
       "  1.0941177606582642,\n",
       "  None,\n",
       "  2.093735456466675],\n",
       " 'names': ['IndependentGaussian', 'BrownianMotion'],\n",
       " 'npaths': [0, 1000000, 0, 1000000, 0, 1000000, 0, 1000000],\n",
       " 'skewness': [None,\n",
       "  -0.0016225617146119475,\n",
       "  None,\n",
       "  -0.0012908988865092397,\n",
       "  None,\n",
       "  0.002160679781809449,\n",
       "  None,\n",
       "  0.0010149761801585555],\n",
       " 'stddev': [None,\n",
       "  2.000231981277466,\n",
       "  None,\n",
       "  2.826359272003174,\n",
       "  None,\n",
       "  4.46881103515625,\n",
       "  None,\n",
       "  6.328188419342041],\n",
       " 'time_points': [1.0, 2.0, 5.0, 10.0],\n",
       " 'time_steps': [99, 199, 499, 999]}"
      ]
     },
     "execution_count": 5,
     "metadata": {},
     "output_type": "execute_result"
    }
   ],
   "source": [
    "import time\n",
    "m = BuildModel_Simple()\n",
    "m.NumPaths = 1000000\n",
    "m.TimeSteps = 1000\n",
    "m.RunTimeoutSeconds = 16.7\n",
    "for t in [1,2,5,10]:\n",
    "    m.evaluations.append(sdk.EvaluationPoint(0,t))\n",
    "time_start = time.time()\n",
    "r = requests.post(f'{server}/model',m.json())\n",
    "time_end = time.time()\n",
    "r.json()"
   ]
  },
  {
   "cell_type": "code",
   "execution_count": 6,
   "id": "15c1ec56-107e-4c3d-bbd1-ee3c47d83f50",
   "metadata": {},
   "outputs": [
    {
     "name": "stdout",
     "output_type": "stream",
     "text": [
      "2.6 nanoseconds to make a single time step\n"
     ]
    }
   ],
   "source": [
    "print(f'{m.NumPaths*m.TimeSteps/(time_end-time_start)*1e-9:.1f} nanoseconds to make a single time step')"
   ]
  },
  {
   "cell_type": "markdown",
   "id": "a57da563-2a85-4ca7-ae81-39dbbe3e3733",
   "metadata": {},
   "source": [
    "# Two processes, Three evaluations"
   ]
  },
  {
   "cell_type": "code",
   "execution_count": 7,
   "id": "ab2bb8be-1fd5-4521-8695-fe8815108de7",
   "metadata": {},
   "outputs": [],
   "source": [
    "def TwoProcessesModel ():\n",
    "    m = sdk.Model()\n",
    "    m.TimeStart = 0\n",
    "    m.TimeSteps = 10\n",
    "    m.NumPaths = 10000\n",
    "    m.Add(sdk.IndependentGaussian())\n",
    "    m.Add(sdk.BrownianMotion(0.1,0.2,2)) # start, drift, diffusion\n",
    "    m.Add(sdk.BrownianMotion(0.1,0.2,2)) # start, drift, diffusion\n",
    "    return m"
   ]
  },
  {
   "cell_type": "code",
   "execution_count": 8,
   "id": "ba672df7-920f-446b-bbb3-cbf51d320f1f",
   "metadata": {},
   "outputs": [
    {
     "data": {
      "text/plain": [
       "{'has_state': [0, 1, 1],\n",
       " 'histograms': [],\n",
       " 'mean': [None,\n",
       "  0.3199059069156647,\n",
       "  0.32427075505256653,\n",
       "  None,\n",
       "  0.5528773069381714,\n",
       "  0.5266329050064087,\n",
       "  None,\n",
       "  1.19133460521698,\n",
       "  1.1671770811080933],\n",
       " 'names': ['IndependentGaussian', 'BrownianMotion', 'BrownianMotion'],\n",
       " 'npaths': [0, 10000, 10000, 0, 10000, 10000, 0, 10000, 10000],\n",
       " 'skewness': [None,\n",
       "  -0.004741800483316183,\n",
       "  -0.014205324463546276,\n",
       "  None,\n",
       "  -0.0011879641097038984,\n",
       "  -0.014298646710813046,\n",
       "  None,\n",
       "  0.012066695839166641,\n",
       "  0.0350925549864769],\n",
       " 'stddev': [None,\n",
       "  2.0008509159088135,\n",
       "  1.997839093208313,\n",
       "  None,\n",
       "  2.7948415279388428,\n",
       "  2.828388214111328,\n",
       "  None,\n",
       "  4.426868915557861,\n",
       "  4.430373668670654],\n",
       " 'time_points': [1.0, 2.0, 5.0],\n",
       " 'time_steps': [1999, 3999, 9999]}"
      ]
     },
     "execution_count": 8,
     "metadata": {},
     "output_type": "execute_result"
    }
   ],
   "source": [
    "model = sdk.Model()\n",
    "model.TimeStart = 0\n",
    "model.TimeSteps = 10\n",
    "model.NumPaths = 10000\n",
    "model.Add(sdk.IndependentGaussian())\n",
    "model.Add(sdk.BrownianMotion(0.1,0.2,2)) # start, drift, diffusion\n",
    "model.Add(sdk.BrownianMotion(0.1,0.2,2)) # start, drift, diffusion\n",
    "model.TimeSteps = 10000\n",
    "for t in [1,2,5]:\n",
    "    model.evaluations.append(sdk.EvaluationPoint(state=0,time=t))\n",
    "r = requests.post(f'{server}/model',model.json())\n",
    "r.json()"
   ]
  },
  {
   "cell_type": "code",
   "execution_count": 9,
   "id": "83d32fb3-be55-406e-ae33-375014843930",
   "metadata": {},
   "outputs": [
    {
     "data": {
      "text/html": [
       "<div>\n",
       "<style scoped>\n",
       "    .dataframe tbody tr th:only-of-type {\n",
       "        vertical-align: middle;\n",
       "    }\n",
       "\n",
       "    .dataframe tbody tr th {\n",
       "        vertical-align: top;\n",
       "    }\n",
       "\n",
       "    .dataframe thead th {\n",
       "        text-align: right;\n",
       "    }\n",
       "</style>\n",
       "<table border=\"1\" class=\"dataframe\">\n",
       "  <thead>\n",
       "    <tr style=\"text-align: right;\">\n",
       "      <th></th>\n",
       "      <th>name</th>\n",
       "      <th>title</th>\n",
       "      <th>state</th>\n",
       "      <th>time</th>\n",
       "      <th>step</th>\n",
       "      <th>npaths</th>\n",
       "      <th>mean</th>\n",
       "      <th>mean_error</th>\n",
       "      <th>stddev</th>\n",
       "      <th>skewness</th>\n",
       "    </tr>\n",
       "  </thead>\n",
       "  <tbody>\n",
       "    <tr>\n",
       "      <th>0</th>\n",
       "      <td>BrownianMotion</td>\n",
       "      <td></td>\n",
       "      <td>1</td>\n",
       "      <td>1.0</td>\n",
       "      <td>1999</td>\n",
       "      <td>10000</td>\n",
       "      <td>0.291903</td>\n",
       "      <td>0.020087</td>\n",
       "      <td>2.008664</td>\n",
       "      <td>-0.016391</td>\n",
       "    </tr>\n",
       "    <tr>\n",
       "      <th>1</th>\n",
       "      <td>BrownianMotion</td>\n",
       "      <td></td>\n",
       "      <td>2</td>\n",
       "      <td>1.0</td>\n",
       "      <td>1999</td>\n",
       "      <td>10000</td>\n",
       "      <td>0.337432</td>\n",
       "      <td>0.019996</td>\n",
       "      <td>1.999585</td>\n",
       "      <td>0.009680</td>\n",
       "    </tr>\n",
       "    <tr>\n",
       "      <th>2</th>\n",
       "      <td>BrownianMotion</td>\n",
       "      <td></td>\n",
       "      <td>1</td>\n",
       "      <td>2.0</td>\n",
       "      <td>3999</td>\n",
       "      <td>10000</td>\n",
       "      <td>0.473919</td>\n",
       "      <td>0.028026</td>\n",
       "      <td>2.802557</td>\n",
       "      <td>0.023502</td>\n",
       "    </tr>\n",
       "    <tr>\n",
       "      <th>3</th>\n",
       "      <td>BrownianMotion</td>\n",
       "      <td></td>\n",
       "      <td>2</td>\n",
       "      <td>2.0</td>\n",
       "      <td>3999</td>\n",
       "      <td>10000</td>\n",
       "      <td>0.550611</td>\n",
       "      <td>0.028046</td>\n",
       "      <td>2.804574</td>\n",
       "      <td>0.033745</td>\n",
       "    </tr>\n",
       "    <tr>\n",
       "      <th>4</th>\n",
       "      <td>BrownianMotion</td>\n",
       "      <td></td>\n",
       "      <td>1</td>\n",
       "      <td>5.0</td>\n",
       "      <td>9999</td>\n",
       "      <td>10000</td>\n",
       "      <td>1.079309</td>\n",
       "      <td>0.044273</td>\n",
       "      <td>4.427250</td>\n",
       "      <td>-0.017305</td>\n",
       "    </tr>\n",
       "    <tr>\n",
       "      <th>5</th>\n",
       "      <td>BrownianMotion</td>\n",
       "      <td></td>\n",
       "      <td>2</td>\n",
       "      <td>5.0</td>\n",
       "      <td>9999</td>\n",
       "      <td>10000</td>\n",
       "      <td>1.148319</td>\n",
       "      <td>0.045165</td>\n",
       "      <td>4.516477</td>\n",
       "      <td>0.033050</td>\n",
       "    </tr>\n",
       "  </tbody>\n",
       "</table>\n",
       "</div>"
      ],
      "text/plain": [
       "             name title  state  time  step  npaths      mean  mean_error  \\\n",
       "0  BrownianMotion            1   1.0  1999   10000  0.291903    0.020087   \n",
       "1  BrownianMotion            2   1.0  1999   10000  0.337432    0.019996   \n",
       "2  BrownianMotion            1   2.0  3999   10000  0.473919    0.028026   \n",
       "3  BrownianMotion            2   2.0  3999   10000  0.550611    0.028046   \n",
       "4  BrownianMotion            1   5.0  9999   10000  1.079309    0.044273   \n",
       "5  BrownianMotion            2   5.0  9999   10000  1.148319    0.045165   \n",
       "\n",
       "     stddev  skewness  \n",
       "0  2.008664 -0.016391  \n",
       "1  1.999585  0.009680  \n",
       "2  2.802557  0.023502  \n",
       "3  2.804574  0.033745  \n",
       "4  4.427250 -0.017305  \n",
       "5  4.516477  0.033050  "
      ]
     },
     "execution_count": 9,
     "metadata": {},
     "output_type": "execute_result"
    }
   ],
   "source": [
    "results = sdk.run (model, server)\n",
    "results.df()"
   ]
  },
  {
   "cell_type": "code",
   "execution_count": null,
   "id": "45127b60",
   "metadata": {},
   "outputs": [],
   "source": []
  }
 ],
 "metadata": {
  "kernelspec": {
   "display_name": "Python 3 (ipykernel)",
   "language": "python",
   "name": "python3"
  },
  "language_info": {
   "codemirror_mode": {
    "name": "ipython",
    "version": 3
   },
   "file_extension": ".py",
   "mimetype": "text/x-python",
   "name": "python",
   "nbconvert_exporter": "python",
   "pygments_lexer": "ipython3",
   "version": "3.10.12"
  },
  "vscode": {
   "interpreter": {
    "hash": "916dbcbb3f70747c44a77c7bcd40155683ae19c65e1c03b4aa3499c5328201f1"
   }
  }
 },
 "nbformat": 4,
 "nbformat_minor": 5
}
