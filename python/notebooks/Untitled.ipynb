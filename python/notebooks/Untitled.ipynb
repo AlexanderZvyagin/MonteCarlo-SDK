{
 "cells": [
  {
   "cell_type": "markdown",
   "id": "ee077b3a",
   "metadata": {},
   "source": [
    "$$\n",
    "\\sum_{i=m}^n N D(t_i)\n",
    "$$"
   ]
  },
  {
   "cell_type": "markdown",
   "id": "318f2597",
   "metadata": {},
   "source": [
    "- $N$ is a notional \n",
    "- $D(t_0,t)$ is a discount value from time point $t$ to $t_0$, $t_0 \\leq t$"
   ]
  },
  {
   "cell_type": "code",
   "execution_count": null,
   "id": "603e6f36",
   "metadata": {},
   "outputs": [],
   "source": []
  },
  {
   "cell_type": "markdown",
   "id": "53ad889c",
   "metadata": {},
   "source": [
    "$$\n",
    "\\begin{align}\n",
    "\\text{Probability density function:}\\\\\n",
    "\\begin{cases}\n",
    "\\frac{1}{b-a}&\\text{for $x\\in[a,b]$}\\\\\n",
    "0&\\text{otherwise}\\\\\n",
    "\\end{cases}\n",
    "\\\\\n",
    "\\text{Cumulative distribution function:}\\\\\n",
    "\\begin{cases}\n",
    "0&\\text{for $x<a$}\\\\\n",
    "\\frac{x-a}{b-a}&\\text{for $x\\in[a,b)$}\\\\\n",
    "1&\\text{for $x\\ge b$}\\\\\n",
    "\\end{cases}\n",
    "\\end{align}\n",
    "$$\n"
   ]
  },
  {
   "cell_type": "markdown",
   "id": "a84891fb",
   "metadata": {},
   "source": [
    "$$\n",
    "\\begin{itemize}\n",
    "    \\item One\n",
    "    \\item Two\n",
    "    \\item Three\n",
    "\\end{itemize}\n",
    "$$"
   ]
  },
  {
   "cell_type": "code",
   "execution_count": null,
   "id": "4bed600f",
   "metadata": {},
   "outputs": [],
   "source": []
  }
 ],
 "metadata": {
  "kernelspec": {
   "display_name": "Python 3 (ipykernel)",
   "language": "python",
   "name": "python3"
  },
  "language_info": {
   "codemirror_mode": {
    "name": "ipython",
    "version": 3
   },
   "file_extension": ".py",
   "mimetype": "text/x-python",
   "name": "python",
   "nbconvert_exporter": "python",
   "pygments_lexer": "ipython3",
   "version": "3.10.12"
  }
 },
 "nbformat": 4,
 "nbformat_minor": 5
}
