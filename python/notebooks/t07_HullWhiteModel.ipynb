{
 "cells": [
  {
   "cell_type": "code",
   "execution_count": 1,
   "id": "c2bcaffe-1ae8-4981-acd6-b9ea959cd4e6",
   "metadata": {},
   "outputs": [],
   "source": [
    "from init import *\n",
    "import time"
   ]
  },
  {
   "cell_type": "markdown",
   "id": "0887aa14-89a8-448f-9f17-e5eeb9b67293",
   "metadata": {},
   "source": [
    "# Hull-White model\n",
    "https://en.wikipedia.org/wiki/Hull%E2%80%93White_model"
   ]
  },
  {
   "cell_type": "code",
   "execution_count": 2,
   "id": "701274be-4f92-4f01-a7e9-8824afeb44da",
   "metadata": {},
   "outputs": [
    {
     "ename": "TypeError",
     "evalue": "Linear1DInterpolation.__init__() got an unexpected keyword argument 'points'",
     "output_type": "error",
     "traceback": [
      "\u001b[0;31m---------------------------------------------------------------------------\u001b[0m",
      "\u001b[0;31mTypeError\u001b[0m                                 Traceback (most recent call last)",
      "Cell \u001b[0;32mIn[2], line 19\u001b[0m\n\u001b[1;32m     16\u001b[0m alpha_func \u001b[38;5;241m=\u001b[39m \u001b[38;5;28;01mlambda\u001b[39;00m t: alpha_const\n\u001b[1;32m     17\u001b[0m sigma_func \u001b[38;5;241m=\u001b[39m \u001b[38;5;28;01mlambda\u001b[39;00m t: sigma_const\n\u001b[0;32m---> 19\u001b[0m theta_process \u001b[38;5;241m=\u001b[39m \u001b[43msdk\u001b[49m\u001b[38;5;241;43m.\u001b[39;49m\u001b[43mLinear1DInterpolation\u001b[49m\u001b[43m(\u001b[49m\n\u001b[1;32m     20\u001b[0m \u001b[43m    \u001b[49m\u001b[43mtheta_func\u001b[49m\u001b[43m,\u001b[49m\n\u001b[1;32m     21\u001b[0m \u001b[43m    \u001b[49m\u001b[43mref_time\u001b[49m\u001b[43m,\u001b[49m\n\u001b[1;32m     22\u001b[0m \u001b[43m    \u001b[49m\u001b[43mmodel\u001b[49m\u001b[38;5;241;43m.\u001b[39;49m\u001b[43mTimeStart\u001b[49m\u001b[43m,\u001b[49m\n\u001b[1;32m     23\u001b[0m \u001b[43m    \u001b[49m\u001b[43mTimeEnd\u001b[49m\u001b[43m,\u001b[49m\n\u001b[1;32m     24\u001b[0m \u001b[43m    \u001b[49m\u001b[43mpoints\u001b[49m\u001b[38;5;241;43m=\u001b[39;49m\u001b[43mpoints\u001b[49m\u001b[43m,\u001b[49m\n\u001b[1;32m     25\u001b[0m \u001b[43m    \u001b[49m\u001b[43mtitle\u001b[49m\u001b[38;5;241;43m=\u001b[39;49m\u001b[38;5;124;43m'\u001b[39;49m\u001b[38;5;124;43mtheta\u001b[39;49m\u001b[38;5;124;43m'\u001b[39;49m\n\u001b[1;32m     26\u001b[0m \u001b[43m)\u001b[49m\n\u001b[1;32m     27\u001b[0m model\u001b[38;5;241m.\u001b[39mAdd(theta_process)\n\u001b[1;32m     29\u001b[0m alpha_process \u001b[38;5;241m=\u001b[39m sdk\u001b[38;5;241m.\u001b[39mLinear1DInterpolation(\n\u001b[1;32m     30\u001b[0m     alpha_func,\n\u001b[1;32m     31\u001b[0m     ref_time,\n\u001b[0;32m   (...)\u001b[0m\n\u001b[1;32m     35\u001b[0m     title\u001b[38;5;241m=\u001b[39m\u001b[38;5;124m'\u001b[39m\u001b[38;5;124malpha\u001b[39m\u001b[38;5;124m'\u001b[39m\n\u001b[1;32m     36\u001b[0m )\n",
      "\u001b[0;31mTypeError\u001b[0m: Linear1DInterpolation.__init__() got an unexpected keyword argument 'points'"
     ]
    }
   ],
   "source": [
    "model = sdk.Model()\n",
    "model.TimeStart = 0\n",
    "TimeEnd = 3\n",
    "model.TimeSteps = 200\n",
    "model.NumPaths = 10000\n",
    "\n",
    "model.Add(sdk.IndependentGaussian())\n",
    "\n",
    "ref_time = -1\n",
    "points = 10\n",
    "alpha_const = 1\n",
    "sigma_const = 0.3\n",
    "\n",
    "# theta(t) is the expected rate from today\n",
    "theta_func = lambda t: (0.1 - t/2 + (t/2)**2)\n",
    "alpha_func = lambda t: alpha_const\n",
    "sigma_func = lambda t: sigma_const\n",
    "\n",
    "theta_process = sdk.Linear1DInterpolation(\n",
    "    theta_func,\n",
    "    ref_time,\n",
    "    model.TimeStart,\n",
    "    TimeEnd,\n",
    "    points=points,\n",
    "    title='theta'\n",
    ")\n",
    "model.Add(theta_process)\n",
    "\n",
    "alpha_process = sdk.Linear1DInterpolation(\n",
    "    alpha_func,\n",
    "    ref_time,\n",
    "    model.TimeStart,\n",
    "    TimeEnd,\n",
    "    points=points,\n",
    "    title='alpha'\n",
    ")\n",
    "model.Add(alpha_process)\n",
    "\n",
    "sigma_process = sdk.Linear1DInterpolation(\n",
    "    sigma_func,\n",
    "    ref_time,\n",
    "    model.TimeStart,\n",
    "    TimeEnd,\n",
    "    points=points,\n",
    "    title='sigma'\n",
    ")\n",
    "model.Add(sigma_process)\n",
    "\n",
    "hw_process = Updater(name  = 'HullWhiteModel',\n",
    "    start = 0,\n",
    "    args = [],\n",
    "    refs = [\n",
    "        theta_process.GetStateNumber(),\n",
    "        alpha_process.GetStateNumber(),\n",
    "        sigma_process.GetStateNumber()\n",
    "    ],\n",
    "    _title='HW'\n",
    ")\n",
    "model.Add(hw_process)\n",
    "\n",
    "# Zero Coupon Bond\n",
    "zcb_process = Updater(name  = 'ZeroCouponBond',\n",
    "    start = 1,\n",
    "    args = [],\n",
    "    refs = [hw_process.GetStateNumber()],\n",
    "    _title='ZCB'\n",
    ")\n",
    "model.Add(zcb_process)\n",
    "\n",
    "\n",
    "print('processes:',[p.GetStateNumber() for p in [theta_process,alpha_process,sigma_process,hw_process]])\n",
    "\n",
    "# model.AddEvaluationRequest (TimeEnd/2)\n",
    "model.AddEvaluationRequest (TimeEnd)\n",
    "\n",
    "print(model.json())"
   ]
  },
  {
   "cell_type": "code",
   "execution_count": null,
   "id": "7fd4d6f3-d0f7-42bb-8131-643dfe0c9640",
   "metadata": {},
   "outputs": [],
   "source": [
    "reply = requests.post(f'{server}/model',model.json())\n",
    "reply.json()"
   ]
  },
  {
   "cell_type": "code",
   "execution_count": null,
   "id": "75c794bd-81cc-4d92-b004-334c8179b1d3",
   "metadata": {},
   "outputs": [],
   "source": [
    "er = EvaluationResults(reply.json(),model)\n",
    "er.df()"
   ]
  },
  {
   "cell_type": "code",
   "execution_count": null,
   "id": "8b5011b4-37cf-4630-93af-4dce6d56eb6c",
   "metadata": {},
   "outputs": [],
   "source": [
    "import scipy.integrate\n",
    "scipy.integrate.quad(sigma_func,model.TimeStart,TimeEnd)"
   ]
  },
  {
   "cell_type": "markdown",
   "id": "c6a09613-194b-4d15-b395-5f9b5bf3c0b7",
   "metadata": {},
   "source": [
    "# Constant $\\alpha$, $\\sigma$ and time-dependent $\\theta(t)$ \n",
    "$$ r(t)\\sim N\\left(e^{-\\alpha t} r(0) + \\int_0^t e^{\\alpha(s-t)}\\theta(s)\\textrm{d}s, \\frac{\\sigma^2}{2\\alpha}\\left(1-e^{-2\\alpha t} \\right) \\right) $$"
   ]
  },
  {
   "cell_type": "code",
   "execution_count": null,
   "id": "94da7675-333b-489b-9b6e-538fb1751a1a",
   "metadata": {},
   "outputs": [],
   "source": [
    "# the rate seen today (at t=0) is 10% per year\n",
    "r0 = theta_func(0)\n",
    "print(f'r(0)={r0}')"
   ]
  },
  {
   "cell_type": "code",
   "execution_count": null,
   "id": "e9a73f3c-e312-408b-90b1-2bfc6d994a48",
   "metadata": {},
   "outputs": [],
   "source": [
    "import plotly.express as px\n",
    "state = 0\n",
    "\n",
    "vx = linspace(0,TimeEnd,50)\n",
    "\n",
    "fig = px.scatter (\n",
    "    title = f'$\\\\theta(t)$',\n",
    "    x = vx,\n",
    "    y = [theta_func(x) for x in vx]\n",
    ")\n",
    "fig.show()"
   ]
  },
  {
   "cell_type": "code",
   "execution_count": null,
   "id": "45d845f8-d22e-4b1d-b4a5-17437f883711",
   "metadata": {},
   "outputs": [],
   "source": [
    "from math import exp, sqrt\n",
    "import scipy.integrate as integrate\n",
    "t = TimeEnd\n",
    "result = integrate.quad(lambda s: exp(alpha_const*(s-t))*theta_func(s), 0,t)\n",
    "rt_mean = exp(-alpha_const*t)*r0 + result[0]\n",
    "rt_variance = sigma_const**2/(2*alpha_const) * (1-exp(-2*alpha_const*t))\n",
    "rt_mean, sqrt(rt_variance)"
   ]
  },
  {
   "cell_type": "code",
   "execution_count": null,
   "id": "f9cfd7a9-c99f-4c29-ba39-61b42b7e5bcc",
   "metadata": {},
   "outputs": [],
   "source": [
    "er.df()"
   ]
  },
  {
   "cell_type": "code",
   "execution_count": null,
   "id": "062b3d37-91b1-4b1f-9e31-5bb7183071f0",
   "metadata": {},
   "outputs": [],
   "source": [
    "er.GetStateEvaluationResult(3,0).mean, er.GetStateEvaluationResult(3,0).MeanError()"
   ]
  },
  {
   "cell_type": "code",
   "execution_count": null,
   "id": "14dc2c71-63fb-4b79-9725-00627a4eb48c",
   "metadata": {},
   "outputs": [],
   "source": [
    "r = er.GetStateEvaluationResult(3,0)\n",
    "pd.DataFrame([{\n",
    "    'Method':'Theory','Mean':rt_mean,'Variance':rt_variance\n",
    "    },{\n",
    "    'Method':'MC','Mean':r.mean,'Variance':r.stddev**2\n",
    "}])"
   ]
  },
  {
   "cell_type": "code",
   "execution_count": null,
   "id": "eace9cc0-1674-4ea1-84b4-e838c7bfb0d0",
   "metadata": {},
   "outputs": [],
   "source": [
    "er.df()"
   ]
  },
  {
   "cell_type": "code",
   "execution_count": null,
   "id": "6941ef0a-6a28-46be-9425-22c907895945",
   "metadata": {},
   "outputs": [],
   "source": []
  }
 ],
 "metadata": {
  "kernelspec": {
   "display_name": "Python 3 (ipykernel)",
   "language": "python",
   "name": "python3"
  },
  "language_info": {
   "codemirror_mode": {
    "name": "ipython",
    "version": 3
   },
   "file_extension": ".py",
   "mimetype": "text/x-python",
   "name": "python",
   "nbconvert_exporter": "python",
   "pygments_lexer": "ipython3",
   "version": "3.10.12"
  }
 },
 "nbformat": 4,
 "nbformat_minor": 5
}
