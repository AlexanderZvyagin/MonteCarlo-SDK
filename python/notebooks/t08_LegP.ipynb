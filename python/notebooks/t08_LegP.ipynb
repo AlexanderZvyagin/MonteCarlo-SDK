{
 "cells": [
  {
   "cell_type": "code",
   "execution_count": 1,
   "id": "c2bcaffe-1ae8-4981-acd6-b9ea959cd4e6",
   "metadata": {},
   "outputs": [],
   "source": [
    "from init import *"
   ]
  },
  {
   "cell_type": "code",
   "execution_count": 2,
   "id": "5a6711d1-64a2-42a9-b5d6-5a477b7faa66",
   "metadata": {
    "tags": []
   },
   "outputs": [],
   "source": [
    "# def BuildModel_Simple():\n",
    "#     m = sdk.Model()\n",
    "#     m.TimeStart = 0\n",
    "#     m.TimeSteps = 100\n",
    "#     m.NumPaths = 1\n",
    "#     m.Add(sdk.IndependentGaussian())\n",
    "#     return m"
   ]
  },
  {
   "cell_type": "code",
   "execution_count": 3,
   "id": "40a5a7a6",
   "metadata": {},
   "outputs": [],
   "source": [
    "# time_horizon = 4\n",
    "# model = BuildModel_Simple()"
   ]
  },
  {
   "cell_type": "code",
   "execution_count": 4,
   "id": "060562f5",
   "metadata": {},
   "outputs": [
    {
     "data": {
      "text/plain": [
       "<mcsdk.IndependentGaussian at 0x7f3467d8ac20>"
      ]
     },
     "execution_count": 4,
     "metadata": {},
     "output_type": "execute_result"
    }
   ],
   "source": [
    "model = sdk.Model()\n",
    "model.TimeStart = 0\n",
    "model.TimeSteps = 10\n",
    "model.NumPaths = 1\n",
    "model.Add(sdk.IndependentGaussian())"
   ]
  },
  {
   "cell_type": "markdown",
   "id": "40e37ec5",
   "metadata": {},
   "source": [
    "### Short rate process\n",
    "2% constant interest rate, we set it as brownian motion process with drift=0 and diffusion=0."
   ]
  },
  {
   "cell_type": "code",
   "execution_count": 5,
   "id": "fd970dda",
   "metadata": {},
   "outputs": [],
   "source": [
    "# short_rate_start = 0.02\n",
    "# short_rate_process = model.Add(sdk.BrownianMotion(\n",
    "#     start     = short_rate_start,\n",
    "#     drift     = 0.0,\n",
    "#     diffusion = 0.05,\n",
    "#     title     = \"short rate\"\n",
    "# ))\n",
    "# print(short_rate_process.GetStateNumber())"
   ]
  },
  {
   "cell_type": "markdown",
   "id": "b5cdf7f8",
   "metadata": {},
   "source": [
    "\\begin{eqnarray}\n",
    "r(t) & = & a + bt \\\\\n",
    "\\frac{1}{t_2-t_1} \\int_{t_1}^{t_2} r(t) \\cdot dt &=& \\frac{1}{t_2-t_1} \\int_{t_1}^{t_2} (a + bt) \\cdot dt \\\\\n",
    "&=& \\frac{1}{t_2-t_1} \\left[ a(t_2-t_1) + \\frac{b}{2}(t_2^2-t_1^2) \\right] \\\\\n",
    "&=& a + \\frac{b}{2} (t_1+t_2)\n",
    "\\end{eqnarray}"
   ]
  },
  {
   "cell_type": "code",
   "execution_count": 6,
   "id": "b9f8aa14",
   "metadata": {},
   "outputs": [],
   "source": [
    "# dt=0.5\n",
    "# n=4\n",
    "# strike = 0.01"
   ]
  },
  {
   "cell_type": "code",
   "execution_count": 7,
   "id": "e91fcde9",
   "metadata": {},
   "outputs": [],
   "source": [
    "# # ra = 0.05\n",
    "# # rb = -0.01\n",
    "# ra=rb=0\n",
    "# r = lambda t: ra+rb*t\n",
    "# r_average = lambda ta,tb: ra+rb/2*(ta+tb)\n",
    "# # n = 1000\n",
    "# #dt = (time_horizon-model.TimeStart)/n\n",
    "\n",
    "# short_rate_process = model.Add(sdk.Linear1DInterpolation(\n",
    "#     ref = -1, # the function argument is time: f(t). In this case we need to use ref=-1\n",
    "#     xmin       = model.TimeStart,\n",
    "#     xmax       = model.TimeStart+dt*n,\n",
    "#     y          = [r(i*dt) for i in range(n)],\n",
    "#     title      = \"short rate\"\n",
    "# ))\n",
    "# print(short_rate_process.GetStateNumber())"
   ]
  },
  {
   "cell_type": "code",
   "execution_count": 8,
   "id": "d4871856",
   "metadata": {},
   "outputs": [],
   "source": [
    "# notional = 1000\n",
    "# notional_process = model.Add(sdk.Linear1DInterpolation(\n",
    "#     ref = -1, # the function argument is time: f(t). In this case we need to use ref=-1\n",
    "#     xmin       = model.TimeStart,\n",
    "#     xmax       = time_horizon,\n",
    "#     y          = [notional,notional], # constant notional in the range [xmin,xmax]\n",
    "#     title      = \"notional\"\n",
    "# ))\n",
    "# print(notional_process.GetStateNumber())"
   ]
  },
  {
   "cell_type": "code",
   "execution_count": 9,
   "id": "f0b8013e",
   "metadata": {},
   "outputs": [],
   "source": [
    "# discount_process = model.Add(sdk.ZeroCouponBond(\n",
    "#     underlying = short_rate_process.GetStateNumber(),\n",
    "#     start      = 1,\n",
    "#     title      = f\"discount factor ({short_rate_process.title})\"\n",
    "# ))\n",
    "# print(discount_process.GetStateNumber())"
   ]
  },
  {
   "cell_type": "code",
   "execution_count": 10,
   "id": "0a694261",
   "metadata": {},
   "outputs": [],
   "source": [
    "# def add_fixed_leg(model,discount_process,strike,t0,dt,n,title='FixedLeg'):\n",
    "#     '''\n",
    "#     '''\n",
    "#     notional_process = model.Add(sdk.Linear1DInterpolation(\n",
    "#         ref        = -1, # the function argument is time: f(t). In this case we need to use ref=-1\n",
    "#         xmin       = t0,\n",
    "#         xmax       = t0+dt*n,\n",
    "#         y          = [strike,strike], # constant notional in the range [xmin,xmax]\n",
    "#         title      = f'{title} N'\n",
    "#     ))\n",
    "#     discount_and_notional_process = model.Add(sdk.Multiplication(\n",
    "#         factor = 1,\n",
    "#         refs   = [notional_process.GetStateNumber(),discount_process.GetStateNumber()],\n",
    "#         title  = f'{title} N*P'\n",
    "#     ))\n",
    "#     fixed_leg_process = model.Add(sdk.LegP(\n",
    "#         notional = discount_and_notional_process.GetStateNumber(),\n",
    "#         t = [t0+i*dt for i in range(1,n+1)],\n",
    "#         title = f'{title} sum(N*P)'\n",
    "#     ))\n"
   ]
  },
  {
   "cell_type": "code",
   "execution_count": 11,
   "id": "b6f2e43a",
   "metadata": {},
   "outputs": [],
   "source": [
    "# add_fixed_leg(model,discount_process,strike,model.TimeStart,dt,n,'FixedLeg')"
   ]
  },
  {
   "cell_type": "code",
   "execution_count": 12,
   "id": "86e4bace",
   "metadata": {},
   "outputs": [],
   "source": [
    "# def add_floating_leg(model,short_rate_process,discount_process,t0,dt,n,title='FloatingLeg'):\n",
    "#     '''\n",
    "#     '''\n",
    "#     t = [t0+i*dt for i in range(n+1)]\n",
    "#     print('t:',t)\n",
    "#     average_process = model.Add(sdk.AverageP(\n",
    "#         underlying = short_rate_process.GetStateNumber(),\n",
    "#         t          = t,\n",
    "#         title      = f\"{title} short rate average\"\n",
    "#     ))\n",
    "\n",
    "# #     notional_process = model.Add(sdk.Linear1DInterpolation(\n",
    "# #         ref        = -1, # the function argument is time: f(t). In this case we need to use ref=-1\n",
    "# #         xmin       = t[0],\n",
    "# #         xmax       = t[-1],\n",
    "# #         y          = [strike,strike], # constant notional in the range [xmin,xmax]\n",
    "# #         title      = f'{title} N'\n",
    "# #     ))\n",
    "\n",
    "#     discount_and_index_process = model.Add(sdk.Multiplication(\n",
    "#         factor = 1,\n",
    "#         refs   = [average_process.GetStateNumber(),discount_process.GetStateNumber()],\n",
    "#         title  = f'{title} L(i-1,i)*P(i)'\n",
    "#     ))\n",
    "\n",
    "#     fixed_leg_process = model.Add(sdk.LegD(\n",
    "#         notional = discount_and_index_process.GetStateNumber(),\n",
    "#         t = t[1:],\n",
    "#         title = f'{title} sum(L(i-1,i)*P(i))'\n",
    "#     ))\n"
   ]
  },
  {
   "cell_type": "code",
   "execution_count": 13,
   "id": "f06e9c38",
   "metadata": {},
   "outputs": [],
   "source": [
    "# add_floating_leg(model,short_rate_process,discount_process,model.TimeStart,dt,n,'FloatingLeg')"
   ]
  },
  {
   "cell_type": "code",
   "execution_count": 14,
   "id": "e4c25999",
   "metadata": {},
   "outputs": [],
   "source": [
    "# discount_and_notional_process = model.Add(sdk.Multiplication(\n",
    "#     factor = 1,\n",
    "#     refs   = [notional_process.GetStateNumber(),discount_process.GetStateNumber()],\n",
    "#     title  = 'N*P'\n",
    "# ))"
   ]
  },
  {
   "cell_type": "code",
   "execution_count": 15,
   "id": "b86fdc44",
   "metadata": {},
   "outputs": [],
   "source": [
    "# points = 3\n",
    "# dt = time_horizon/(points-1)\n",
    "# # t = [int(steps_dt*(i+1))-1 for i in range(points)]\n",
    "# t = [dt*i for i in range(points)]\n",
    "# print('t     = ',t)\n",
    "# print('t[1:] = ',t[1:])\n",
    "# fixed_leg_process = model.Add(sdk.LegP(\n",
    "#     notional = discount_and_notional_process.GetStateNumber(),\n",
    "#     t = t[1:],\n",
    "#     title = \"fixed leg\"\n",
    "# ))\n",
    "# print(fixed_leg_process.GetStateNumber())"
   ]
  },
  {
   "cell_type": "code",
   "execution_count": 16,
   "id": "4c1d56d2",
   "metadata": {},
   "outputs": [],
   "source": [
    "# average_process = model.Add(sdk.AverageP(\n",
    "#     underlying = short_rate_process.GetStateNumber(),\n",
    "#     t          = t,\n",
    "#     title      = \"short rate average\"\n",
    "# ))\n",
    "# print(discount_process.GetStateNumber())"
   ]
  },
  {
   "cell_type": "code",
   "execution_count": 17,
   "id": "30a0d34b",
   "metadata": {},
   "outputs": [],
   "source": [
    "# legd_process = model.Add(sdk.LegD(\n",
    "#     notional = discount_and_notional_process.GetStateNumber(),\n",
    "#     t = t,\n",
    "#     title = \"sum(dt*N*P)\"\n",
    "# ))\n",
    "# print(legd_process.GetStateNumber())"
   ]
  },
  {
   "cell_type": "code",
   "execution_count": 18,
   "id": "6b1b8bc1",
   "metadata": {},
   "outputs": [],
   "source": [
    "# swap_process = model.Add(sdk.Sum(\n",
    "#     weights = [1,-1],\n",
    "#     states  = [fixed_leg_process.GetStateNumber()],\n",
    "#     title   = \"FloatingLeg-FixedLeg\"\n",
    "# ))\n",
    "# print(legd_process.GetStateNumber())"
   ]
  },
  {
   "cell_type": "code",
   "execution_count": 19,
   "id": "24a005fc",
   "metadata": {},
   "outputs": [],
   "source": [
    "# #for v in t[1:]:\n",
    "# for i in range(n):\n",
    "#     model.evaluations.append(sdk.EvaluationPoint(0,model.TimeStart+(i+1)*dt))"
   ]
  },
  {
   "cell_type": "code",
   "execution_count": 20,
   "id": "7e16d5d8-9566-456e-a06b-1603b100cead",
   "metadata": {},
   "outputs": [
    {
     "data": {
      "text/plain": [
       "'{\"TimeStart\": 0, \"TimeSteps\": 10, \"NumPaths\": 1, \"updaters\": [{\"name\": \"IndependentGaussian\", \"refs\": [], \"args\": []}], \"evaluations\": []}'"
      ]
     },
     "execution_count": 20,
     "metadata": {},
     "output_type": "execute_result"
    }
   ],
   "source": [
    "model.json()"
   ]
  },
  {
   "cell_type": "code",
   "execution_count": 21,
   "id": "91f843fa",
   "metadata": {},
   "outputs": [],
   "source": [
    "# results = run (model)\n",
    "# results.df()"
   ]
  },
  {
   "cell_type": "code",
   "execution_count": 22,
   "id": "c3234c5a",
   "metadata": {},
   "outputs": [],
   "source": [
    "# r_average(0,1)"
   ]
  },
  {
   "cell_type": "code",
   "execution_count": 23,
   "id": "e980c596",
   "metadata": {},
   "outputs": [],
   "source": [
    "# r_average(1,2)"
   ]
  },
  {
   "cell_type": "code",
   "execution_count": 24,
   "id": "84ddfa3a",
   "metadata": {},
   "outputs": [],
   "source": [
    "# from math import *\n",
    "# fixed_leg_value = 0\n",
    "# for i in range(points):\n",
    "#     df = exp(-short_rate_start*time_horizon*(i+1)/points)\n",
    "#     print(df)\n",
    "#     fixed_leg_value += df*notional\n",
    "# print(f'fixed_leg_value={fixed_leg_value}')\n",
    "    \n"
   ]
  },
  {
   "cell_type": "markdown",
   "id": "acab12ad",
   "metadata": {},
   "source": [
    "$$\n",
    "\\sum_{i=1}^m P(t_0,t_i) N_i\n",
    "$$\n",
    "- $t_0$ is the _current_ time poiunt\n",
    "- $m$ the number of time intrervals of the leg ($m>0$)\n",
    "- $N_i$ the notional value at time point $t_i$"
   ]
  },
  {
   "cell_type": "code",
   "execution_count": 25,
   "id": "75344cd0",
   "metadata": {},
   "outputs": [],
   "source": [
    "\n",
    "# def add_swap(model):\n",
    "#     add_fixed_leg(model)\n",
    "#     add_floating_leg(model)"
   ]
  }
 ],
 "metadata": {
  "kernelspec": {
   "display_name": "Python 3 (ipykernel)",
   "language": "python",
   "name": "python3"
  },
  "language_info": {
   "codemirror_mode": {
    "name": "ipython",
    "version": 3
   },
   "file_extension": ".py",
   "mimetype": "text/x-python",
   "name": "python",
   "nbconvert_exporter": "python",
   "pygments_lexer": "ipython3",
   "version": "3.10.12"
  },
  "vscode": {
   "interpreter": {
    "hash": "916dbcbb3f70747c44a77c7bcd40155683ae19c65e1c03b4aa3499c5328201f1"
   }
  }
 },
 "nbformat": 4,
 "nbformat_minor": 5
}
