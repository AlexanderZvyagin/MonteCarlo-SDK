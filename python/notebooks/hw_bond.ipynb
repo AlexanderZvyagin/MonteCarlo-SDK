{
 "cells": [
  {
   "cell_type": "markdown",
   "id": "f5da6679-680d-46fe-8eda-a9abf8c1f5f9",
   "metadata": {},
   "source": [
    "# Symbolic calculations"
   ]
  },
  {
   "cell_type": "code",
   "execution_count": 1,
   "id": "328b61c5-579d-44d3-9d59-7e54fff5328d",
   "metadata": {},
   "outputs": [],
   "source": [
    "import math\n",
    "import pandas as pd\n",
    "import matplotlib.pyplot as plt\n",
    "from collections.abc import Callable\n",
    "import sympy\n",
    "from  sympy import *\n",
    "init_printing(use_unicode=False, wrap_line=False)"
   ]
  },
  {
   "cell_type": "markdown",
   "id": "cf991a48-1aa9-477b-9ab8-ffa3c2109a12",
   "metadata": {},
   "source": [
    "## Analytical formulas\n",
    "\n",
    "The Hull-White Model\n",
    "\n",
    "(see Damiano Brigo and Fabio Mercurio \"Interest Rate Models Theory and Practice\")\n",
    "\n",
    "$$\n",
    "\\text{d}r(t) = \\left[\\theta(t)-a r(t)\\right] \\text{d}t + \\sigma \\text{d}W(t)\n",
    "$$\n",
    "With market-observable discount factors (zero-coupon bonds) $P(0,t)$:\n",
    "\\begin{eqnarray}\n",
    "f(0,T) &=& -\\frac{\\partial \\text{ln} P(0,T)}{\\partial T}\n",
    "\\\\\n",
    "\\theta(t) &=& \\frac{\\partial{f(0,t)}}{\\partial t} + a f(0,t) + \\frac{\\sigma^2}{2a}(1-e^{-2 a t})\n",
    "\\end{eqnarray}"
   ]
  },
  {
   "cell_type": "code",
   "execution_count": 2,
   "id": "64e042ef-2331-41f1-8c9e-12a482c3edef",
   "metadata": {},
   "outputs": [],
   "source": [
    "class HullWhiteAnalytical:\n",
    "\n",
    "    def __init__ (self):\n",
    "        self.t, self.T, self.sigma, self.a = symbols('t T sigma a', real = True, positive = True)\n",
    "        self.r = symbols('r', real = True)\n",
    "        self.P0_t = exp(-self.r*self.t)\n",
    "    \n",
    "    def P0 (self, t):\n",
    "        return self.P0_t.subs(self.t,t)\n",
    "    \n",
    "    def f0 (self):\n",
    "        return diff(-log(self.P0(self.t)),self.t)\n",
    "    \n",
    "    def r0 (self):\n",
    "        return self.f0().subs(self.t,0)\n",
    "    \n",
    "    def alpha (self):\n",
    "        return self.f0() + self.sigma**2/(2*self.a**2) * (1-exp(-self.a*self.t))**2\n",
    "    \n",
    "    def r_mean (self):\n",
    "        alpha_t = self.alpha()\n",
    "        alpha_0 = alpha_t.subs(self.t,0)\n",
    "        return exp(-self.a*self.t)*(self.r0()-alpha_0) + alpha_t\n",
    "    \n",
    "    def r_variance (self):\n",
    "        return self.sigma**2/(2*self.a) * (1-exp(-2*self.a*self.t))\n",
    "    \n",
    "    def theta (self):\n",
    "        z1 = diff(self.f0(),self.t)\n",
    "        z2 = self.a*self.f0()\n",
    "        z3 = self.sigma**2/(2*self.a)*(1-exp(-2*self.a*self.t))\n",
    "        return z1+z2+z3\n",
    "    \n",
    "    def theta_lambdify (self):\n",
    "        return lambdify([self.a,self.sigma,self.r,self.t],self.theta())\n",
    "        \n",
    "    def A (self):\n",
    "        e1 = self.P0(self.T)/self.P0(self.t)\n",
    "        e2 = self.B() * self.f0()\n",
    "        e3 = self.sigma**2/(4*self.a) * (1-exp(-2*self.a*self.t)) * self.B()**2\n",
    "        return e1*exp(e2-e3)\n",
    "\n",
    "    def B (self):\n",
    "        return (1 - exp(-self.a*(self.T-self.t))) / self.a\n",
    "\n",
    "    def P (self):\n",
    "        return self.A() * exp(-self.B()*self.r0())\n",
    "\n",
    "    def P_lambdify (self):\n",
    "        return lambdify([self.a,self.sigma,self.r,self.t],self.P())"
   ]
  },
  {
   "cell_type": "code",
   "execution_count": 3,
   "id": "fa82636a-d8c8-4603-86b1-5c0c8c316733",
   "metadata": {},
   "outputs": [
    {
     "data": {
      "image/png": "[encoded data removed]",
      "text/latex": [
       "$\\displaystyle e^{- r t}$"
      ],
      "text/plain": [
       " -r*t\n",
       "e    "
      ]
     },
     "execution_count": 3,
     "metadata": {},
     "output_type": "execute_result"
    }
   ],
   "source": [
    "hw1 = HullWhiteAnalytical()\n",
    "#hw1.P0_t = exp(-hw1.r*hw1.t - hw1.r*hw1.t**2)\n",
    "hw1.P0(hw1.t)"
   ]
  },
  {
   "cell_type": "code",
   "execution_count": 4,
   "id": "91a06235-9d36-40f2-a3dd-0b2b1410553e",
   "metadata": {},
   "outputs": [
    {
     "data": {
      "image/png": "[encoded data removed]",
      "text/latex": [
       "$\\displaystyle r$"
      ],
      "text/plain": [
       "r"
      ]
     },
     "execution_count": 4,
     "metadata": {},
     "output_type": "execute_result"
    }
   ],
   "source": [
    "hw1.r0()"
   ]
  },
  {
   "cell_type": "code",
   "execution_count": 5,
   "id": "a357f418-84ad-41d8-825c-16f56cf86ede",
   "metadata": {},
   "outputs": [
    {
     "data": {
      "image/png": "[encoded data removed]",
      "text/latex": [
       "$\\displaystyle r + \\frac{\\sigma^{2} \\left(1 - e^{- a t}\\right)^{2}}{2 a^{2}}$"
      ],
      "text/plain": [
       "                      2\n",
       "         2 /     -a*t\\ \n",
       "    sigma *\\1 - e    / \n",
       "r + -------------------\n",
       "               2       \n",
       "            2*a        "
      ]
     },
     "execution_count": 5,
     "metadata": {},
     "output_type": "execute_result"
    }
   ],
   "source": [
    "hw1.alpha()"
   ]
  },
  {
   "cell_type": "code",
   "execution_count": 6,
   "id": "21e50d88-5dc1-40f9-9bc6-ea54a8365435",
   "metadata": {},
   "outputs": [
    {
     "data": {
      "image/png": "[encoded data removed]",
      "text/latex": [
       "$\\displaystyle r + \\frac{\\sigma^{2} \\left(1 - e^{- a t}\\right)^{2}}{2 a^{2}}$"
      ],
      "text/plain": [
       "                      2\n",
       "         2 /     -a*t\\ \n",
       "    sigma *\\1 - e    / \n",
       "r + -------------------\n",
       "               2       \n",
       "            2*a        "
      ]
     },
     "execution_count": 6,
     "metadata": {},
     "output_type": "execute_result"
    }
   ],
   "source": [
    "hw1.r_mean()"
   ]
  },
  {
   "cell_type": "code",
   "execution_count": 7,
   "id": "60e913f0-b7b7-4294-886b-55f5a87c8dee",
   "metadata": {},
   "outputs": [
    {
     "data": {
      "image/png": "[encoded data removed]",
      "text/latex": [
       "$\\displaystyle \\frac{\\sigma^{2} \\cdot \\left(1 - e^{- 2 a t}\\right)}{2 a}$"
      ],
      "text/plain": [
       "     2 /     -2*a*t\\\n",
       "sigma *\\1 - e      /\n",
       "--------------------\n",
       "        2*a         "
      ]
     },
     "execution_count": 7,
     "metadata": {},
     "output_type": "execute_result"
    }
   ],
   "source": [
    "hw1.r_variance()"
   ]
  },
  {
   "cell_type": "code",
   "execution_count": 8,
   "id": "1de02b40-cd82-465b-8158-c7f3a2cb0532",
   "metadata": {},
   "outputs": [
    {
     "data": {
      "image/png": "[encoded data removed]",
      "text/latex": [
       "$\\displaystyle a r + \\frac{\\sigma^{2} \\cdot \\left(1 - e^{- 2 a t}\\right)}{2 a}$"
      ],
      "text/plain": [
       "           2 /     -2*a*t\\\n",
       "      sigma *\\1 - e      /\n",
       "a*r + --------------------\n",
       "              2*a         "
      ]
     },
     "execution_count": 8,
     "metadata": {},
     "output_type": "execute_result"
    }
   ],
   "source": [
    "hw1.theta()"
   ]
  },
  {
   "cell_type": "code",
   "execution_count": 9,
   "id": "049e6efd-474e-4131-9737-c792e3598903",
   "metadata": {},
   "outputs": [
    {
     "data": {
      "image/png": "[encoded data removed]",
      "text/latex": [
       "$\\displaystyle \\frac{1 - e^{- a \\left(T - t\\right)}}{a}$"
      ],
      "text/plain": [
       "     -a*(T - t)\n",
       "1 - e          \n",
       "---------------\n",
       "       a       "
      ]
     },
     "execution_count": 9,
     "metadata": {},
     "output_type": "execute_result"
    }
   ],
   "source": [
    "hw1.B()"
   ]
  },
  {
   "cell_type": "code",
   "execution_count": 10,
   "id": "d1bf7830-bd6f-4418-b778-7ba88abde796",
   "metadata": {},
   "outputs": [
    {
     "data": {
      "image/png": "[encoded data removed]",
      "text/latex": [
       "$\\displaystyle e^{- T r} e^{r t} e^{\\frac{r \\left(1 - e^{- a \\left(T - t\\right)}\\right)}{a} - \\frac{\\sigma^{2} \\cdot \\left(1 - e^{- 2 a t}\\right) \\left(1 - e^{- a \\left(T - t\\right)}\\right)^{2}}{4 a^{3}}}$"
      ],
      "text/plain": [
       "                                                                        2\n",
       "              /     -a*(T - t)\\        2 /     -2*a*t\\ /     -a*(T - t)\\ \n",
       "            r*\\1 - e          /   sigma *\\1 - e      /*\\1 - e          / \n",
       "            ------------------- - ---------------------------------------\n",
       "                     a                                 3                 \n",
       " -T*r  r*t                                          4*a                  \n",
       "e    *e   *e                                                             "
      ]
     },
     "execution_count": 10,
     "metadata": {},
     "output_type": "execute_result"
    }
   ],
   "source": [
    "hw1.A()"
   ]
  },
  {
   "cell_type": "code",
   "execution_count": 11,
   "id": "41213bb6-57d0-4783-b215-602bf95ae38d",
   "metadata": {},
   "outputs": [
    {
     "data": {
      "image/png": "[encoded data removed]",
      "text/latex": [
       "$\\displaystyle e^{- T r} e^{r t} e^{- \\frac{r \\left(1 - e^{- a \\left(T - t\\right)}\\right)}{a}} e^{\\frac{r \\left(1 - e^{- a \\left(T - t\\right)}\\right)}{a} - \\frac{\\sigma^{2} \\cdot \\left(1 - e^{- 2 a t}\\right) \\left(1 - e^{- a \\left(T - t\\right)}\\right)^{2}}{4 a^{3}}}$"
      ],
      "text/plain": [
       "                                                                                               2\n",
       "                                     /     -a*(T - t)\\        2 /     -2*a*t\\ /     -a*(T - t)\\ \n",
       "               /     -a*(T - t)\\   r*\\1 - e          /   sigma *\\1 - e      /*\\1 - e          / \n",
       "            -r*\\1 - e          /   ------------------- - ---------------------------------------\n",
       "            ---------------------           a                                 3                 \n",
       " -T*r  r*t            a                                                    4*a                  \n",
       "e    *e   *e                     *e                                                             "
      ]
     },
     "execution_count": 11,
     "metadata": {},
     "output_type": "execute_result"
    }
   ],
   "source": [
    "hw1.P()"
   ]
  },
  {
   "cell_type": "markdown",
   "id": "8e46e07e-dab4-4036-96e9-44b7bfcb3a41",
   "metadata": {},
   "source": [
    "# Monte Carlo\n",
    "\n",
    "- define parameters $a$ and $\\sigma$\n",
    "- define $P(0,t)$ function\n",
    "- compute $\\theta(t)$\n",
    "- "
   ]
  },
  {
   "cell_type": "code",
   "execution_count": 12,
   "id": "05431c06-512e-42b6-bcdb-7a1410851871",
   "metadata": {},
   "outputs": [],
   "source": [
    "from init import *\n",
    "from plot import plot\n",
    "from viz import viz\n",
    "\n",
    "server = 'http://az.hopto.org:8010'"
   ]
  },
  {
   "cell_type": "code",
   "execution_count": 13,
   "id": "41d3d11b-2716-461b-9f91-95c5fa9a4b6a",
   "metadata": {},
   "outputs": [
    {
     "data": {
      "image/png": "[encoded data removed]",
      "text/latex": [
       "$\\displaystyle \\left[ 0.0005, \\  0.00093954255030799, \\  0.00136942521793941, \\  0.00178986029936764, \\  0.00220105542539938, \\  0.0026032136637126, \\  0.00299653361914105, \\  0.0033812095317547, \\  0.00375743137278473, \\  0.00412538493844036\\right]$"
      ],
      "text/plain": [
       "[0.0005, 0.0009395425503079897, 0.0013694252179394148, 0.0017898602993676445, 0.00220105542539938, 0.0026032136637126045, 0.0029965336191410505, 0.003381209531754696, 0.0037574313727847274, 0.004125384938440364]"
      ]
     },
     "execution_count": 13,
     "metadata": {},
     "output_type": "execute_result"
    }
   ],
   "source": [
    "TimeStart = 0 \n",
    "TimeHorizon = 10\n",
    "theta_points = 10\n",
    "a = 1e-2\n",
    "sigma = 2e-2\n",
    "rfree = 5e-2\n",
    "hwmc = HullWhiteAnalytical()\n",
    "hwmc.P0_t = exp(-hwmc.r*hwmc.t)\n",
    "theta = hwmc.theta_lambdify()\n",
    "dt = (TimeHorizon-TimeStart) / (theta_points-1)\n",
    "theta_y = [theta(a,sigma,rfree,TimeStart+dt*i) for i in range(theta_points)]\n",
    "theta_y"
   ]
  },
  {
   "cell_type": "code",
   "execution_count": 14,
   "id": "1412dc6f-46a7-44ad-a0d2-1e5ac25f5312",
   "metadata": {},
   "outputs": [],
   "source": [
    "def create_hw_mc_model (\n",
    "    a:float,\n",
    "    sigma:float,\n",
    "    rfree:float,\n",
    "    TimeStart    = 0,\n",
    "    TimeHorizon  = 10,\n",
    "    TimeSteps    = 100,\n",
    "    NumPaths     = 100000,\n",
    "    theta_points = 100\n",
    "):\n",
    "\n",
    "    # Create a model, save input parameters\n",
    "\n",
    "    model = sdk.Model()\n",
    "\n",
    "    model.TimeStart = TimeStart\n",
    "    model.TimeSteps = TimeSteps\n",
    "    model.NumPaths = NumPaths\n",
    "\n",
    "    model.T = [TimeHorizon/2, TimeHorizon]\n",
    "    \n",
    "    model.a_const = a\n",
    "    model.sigma_const = sigma\n",
    "    model.rfree_const = rfree\n",
    "    model.TimeHorizon = TimeHorizon\n",
    "\n",
    "    # Create the hw-analytical solution\n",
    "    # to calculate the theta(t) function\n",
    "    \n",
    "    model.hw_analytical = HullWhiteAnalytical()\n",
    "    hwmc = model.hw_analytical\n",
    "    hwmc.P0_t = exp(-hwmc.r*hwmc.t)\n",
    "    assert hwmc.r0().subs(hwmc.r,rfree) == rfree\n",
    "\n",
    "    # Compute theta(t)\n",
    "    # Create points for linear interpolation of theta(t)\n",
    "    \n",
    "    assert theta_points >= 2\n",
    "    theta = hwmc.theta_lambdify()\n",
    "    dt = (TimeHorizon-TimeStart) / (theta_points-1)\n",
    "    model.theta_t = [TimeStart+dt*i for i in range(theta_points)]\n",
    "    model.theta_y = [theta(a,sigma,rfree,t) for t in model.theta_t]\n",
    "\n",
    "    # Get the theoretical rate (mean,variance)\n",
    "    r_mean     = lambdify([hwmc.a,hwmc.sigma,hwmc.r,hwmc.t],hwmc.r_mean())\n",
    "    r_variance = lambdify([hwmc.a,hwmc.sigma,hwmc.r,hwmc.t],hwmc.r_variance())\n",
    "\n",
    "    model.rate_gaussian = [\n",
    "        (r_mean(a,sigma,rfree,t), r_variance(a,sigma,rfree,t))\n",
    "        for t in model.T\n",
    "    ]\n",
    "    \n",
    "    # Build the model MC engine:\n",
    "    # - a: mean reversion\n",
    "    # - sigma\n",
    "    # - theta\n",
    "    # - rate\n",
    "    # - discount factor\n",
    "        \n",
    "    model.Add(sdk.IndependentGaussian())\n",
    "    print(f'A model with {TimeSteps} time steps and {NumPaths} paths.')\n",
    "\n",
    "    time_reference = -1\n",
    "    model.a = model.Add(sdk.Polynom(time_reference,[a],title=f'a={a}'))\n",
    "    model.sigma = model.Add(sdk.Polynom(time_reference,[sigma],title=f'sigma={sigma}'))\n",
    "    model.theta = model.Add(sdk.Linear1DInterpolation(\n",
    "        ref  = time_reference,\n",
    "        xmin = TimeStart,\n",
    "        xmax = TimeHorizon,\n",
    "        y    = model.theta_y,\n",
    "        title=f'theta(t)'\n",
    "    ))\n",
    "\n",
    "    model.rate = model.Add(sdk.Updater(\n",
    "        'HullWhite1FactorModel',\n",
    "        refs = [x.GetStateNumber() for x in (model.a,model.theta,model.sigma)],\n",
    "        start=[rfree],\n",
    "        title=f'rate'\n",
    "    ))\n",
    "    model.df = model.Add(sdk.ZeroCouponBond(underlying=model.rate.GetStateNumber(),start=1,title=f'discount factor'))\n",
    "    model.fdf = model.Add(sdk.Updater('ForwardZeroCouponBond',refs=[model.df.GetStateNumber()],args=[model.T[0],model.T[1]],title=f'forward discount factor P({model.TimeStart},{model.T[0]},{model.T[1]})'))\n",
    "\n",
    "    return model"
   ]
  },
  {
   "cell_type": "code",
   "execution_count": 15,
   "id": "68bc0f96-2d60-4cff-9592-fa188f4ffa9a",
   "metadata": {},
   "outputs": [
    {
     "name": "stdout",
     "output_type": "stream",
     "text": [
      "A model with 100 time steps and 100000 paths.\n"
     ]
    }
   ],
   "source": [
    "#model = create_hw_mc_model(1e-1,2e-1,rfree,theta_points=100)\n",
    "model = create_hw_mc_model(\n",
    "    a=1e-1,\n",
    "    sigma=5e-2,\n",
    "    rfree=3e-2\n",
    ")"
   ]
  },
  {
   "cell_type": "markdown",
   "id": "b1607276-a7f8-4cdf-a572-8c0d32ab4a3a",
   "metadata": {},
   "source": [
    "### Plot $\\theta(t)$ function"
   ]
  },
  {
   "cell_type": "code",
   "execution_count": 16,
   "id": "6d5a3c74-89b2-41be-bbe2-2f597d8198da",
   "metadata": {},
   "outputs": [
    {
     "data": {
      "image/png": "[encoded data removed]",
      "text/plain": [
       "<Figure size 640x480 with 1 Axes>"
      ]
     },
     "metadata": {},
     "output_type": "display_data"
    }
   ],
   "source": [
    "fig, ax = plt.subplots()\n",
    "ax.plot(model.theta_t, model.theta_y, '-')\n",
    "ax.set_xlabel('Time, $t$')\n",
    "ax.set_ylabel('$\\\\theta(t)$')\n",
    "ax.set_title(f'a={model.a_const} sigma={model.sigma_const} rfree={model.rfree_const}')\n",
    "plt.show()"
   ]
  },
  {
   "cell_type": "code",
   "execution_count": 17,
   "id": "1c15cdea-5b15-4b22-a28a-3d913dc8253c",
   "metadata": {},
   "outputs": [],
   "source": [
    "histograms_for_states = [model.rate, model.df, model.fdf]\n",
    "\n",
    "for t in [model.TimeHorizon/2,model.TimeHorizon]:\n",
    "    eval_point = sdk.EvaluationPoint(t)\n",
    "    for h in histograms_for_states:\n",
    "        eval_point.Add(sdk.Histogram(\n",
    "            ax = sdk.HistogramAxis(\n",
    "                h.GetStateNumber(),\n",
    "                200\n",
    "            ),\n",
    "        ))                \n",
    "    model.evaluations.append(eval_point)"
   ]
  },
  {
   "cell_type": "code",
   "execution_count": 18,
   "id": "91596a6d-4b2c-4169-a6f7-77a60739e188",
   "metadata": {},
   "outputs": [
    {
     "data": {
      "text/html": [
       "<div>\n",
       "<style scoped>\n",
       "    .dataframe tbody tr th:only-of-type {\n",
       "        vertical-align: middle;\n",
       "    }\n",
       "\n",
       "    .dataframe tbody tr th {\n",
       "        vertical-align: top;\n",
       "    }\n",
       "\n",
       "    .dataframe thead th {\n",
       "        text-align: right;\n",
       "    }\n",
       "</style>\n",
       "<table border=\"1\" class=\"dataframe\">\n",
       "  <thead>\n",
       "    <tr style=\"text-align: right;\">\n",
       "      <th></th>\n",
       "      <th>name</th>\n",
       "      <th>title</th>\n",
       "      <th>state</th>\n",
       "      <th>point</th>\n",
       "      <th>time</th>\n",
       "      <th>step</th>\n",
       "      <th>npaths</th>\n",
       "      <th>mean</th>\n",
       "      <th>mean_error</th>\n",
       "      <th>stddev</th>\n",
       "      <th>skewness</th>\n",
       "    </tr>\n",
       "  </thead>\n",
       "  <tbody>\n",
       "    <tr>\n",
       "      <th>0</th>\n",
       "      <td>Polynom</td>\n",
       "      <td>a=0.1</td>\n",
       "      <td>0</td>\n",
       "      <td>0</td>\n",
       "      <td>5.0</td>\n",
       "      <td>49</td>\n",
       "      <td>100000</td>\n",
       "      <td>0.100000</td>\n",
       "      <td>0.000000e+00</td>\n",
       "      <td>0.000000</td>\n",
       "      <td>0.000000</td>\n",
       "    </tr>\n",
       "    <tr>\n",
       "      <th>1</th>\n",
       "      <td>Polynom</td>\n",
       "      <td>sigma=0.05</td>\n",
       "      <td>1</td>\n",
       "      <td>0</td>\n",
       "      <td>5.0</td>\n",
       "      <td>49</td>\n",
       "      <td>100000</td>\n",
       "      <td>0.050000</td>\n",
       "      <td>0.000000e+00</td>\n",
       "      <td>0.000000</td>\n",
       "      <td>0.000000</td>\n",
       "    </tr>\n",
       "    <tr>\n",
       "      <th>2</th>\n",
       "      <td>Linear1DInterpolation</td>\n",
       "      <td>theta(t)</td>\n",
       "      <td>2</td>\n",
       "      <td>0</td>\n",
       "      <td>5.0</td>\n",
       "      <td>49</td>\n",
       "      <td>100000</td>\n",
       "      <td>0.010901</td>\n",
       "      <td>0.000000e+00</td>\n",
       "      <td>0.000000</td>\n",
       "      <td>0.000000</td>\n",
       "    </tr>\n",
       "    <tr>\n",
       "      <th>3</th>\n",
       "      <td>HullWhite1FactorModel</td>\n",
       "      <td>rate</td>\n",
       "      <td>3</td>\n",
       "      <td>0</td>\n",
       "      <td>5.0</td>\n",
       "      <td>49</td>\n",
       "      <td>100000</td>\n",
       "      <td>0.049144</td>\n",
       "      <td>2.822406e-04</td>\n",
       "      <td>0.089252</td>\n",
       "      <td>-0.007448</td>\n",
       "    </tr>\n",
       "    <tr>\n",
       "      <th>4</th>\n",
       "      <td>ZeroCouponBond</td>\n",
       "      <td>discount factor</td>\n",
       "      <td>4</td>\n",
       "      <td>0</td>\n",
       "      <td>5.0</td>\n",
       "      <td>49</td>\n",
       "      <td>100000</td>\n",
       "      <td>0.859985</td>\n",
       "      <td>7.389118e-04</td>\n",
       "      <td>0.233664</td>\n",
       "      <td>0.804094</td>\n",
       "    </tr>\n",
       "    <tr>\n",
       "      <th>5</th>\n",
       "      <td>ForwardZeroCouponBond</td>\n",
       "      <td>forward discount factor P(0,5.0,10)</td>\n",
       "      <td>5</td>\n",
       "      <td>0</td>\n",
       "      <td>5.0</td>\n",
       "      <td>49</td>\n",
       "      <td>100000</td>\n",
       "      <td>0.797848</td>\n",
       "      <td>1.177436e-03</td>\n",
       "      <td>0.372338</td>\n",
       "      <td>1.485554</td>\n",
       "    </tr>\n",
       "    <tr>\n",
       "      <th>6</th>\n",
       "      <td>Polynom</td>\n",
       "      <td>a=0.1</td>\n",
       "      <td>0</td>\n",
       "      <td>1</td>\n",
       "      <td>10.0</td>\n",
       "      <td>99</td>\n",
       "      <td>100000</td>\n",
       "      <td>0.100000</td>\n",
       "      <td>0.000000e+00</td>\n",
       "      <td>0.000000</td>\n",
       "      <td>0.000000</td>\n",
       "    </tr>\n",
       "    <tr>\n",
       "      <th>7</th>\n",
       "      <td>Polynom</td>\n",
       "      <td>sigma=0.05</td>\n",
       "      <td>1</td>\n",
       "      <td>1</td>\n",
       "      <td>10.0</td>\n",
       "      <td>99</td>\n",
       "      <td>100000</td>\n",
       "      <td>0.050000</td>\n",
       "      <td>0.000000e+00</td>\n",
       "      <td>0.000000</td>\n",
       "      <td>0.000000</td>\n",
       "    </tr>\n",
       "    <tr>\n",
       "      <th>8</th>\n",
       "      <td>Linear1DInterpolation</td>\n",
       "      <td>theta(t)</td>\n",
       "      <td>2</td>\n",
       "      <td>1</td>\n",
       "      <td>10.0</td>\n",
       "      <td>99</td>\n",
       "      <td>100000</td>\n",
       "      <td>0.013808</td>\n",
       "      <td>2.209561e-08</td>\n",
       "      <td>0.000007</td>\n",
       "      <td>-4149.687500</td>\n",
       "    </tr>\n",
       "    <tr>\n",
       "      <th>9</th>\n",
       "      <td>HullWhite1FactorModel</td>\n",
       "      <td>rate</td>\n",
       "      <td>3</td>\n",
       "      <td>1</td>\n",
       "      <td>10.0</td>\n",
       "      <td>99</td>\n",
       "      <td>100000</td>\n",
       "      <td>0.079777</td>\n",
       "      <td>3.292067e-04</td>\n",
       "      <td>0.104104</td>\n",
       "      <td>-0.009140</td>\n",
       "    </tr>\n",
       "    <tr>\n",
       "      <th>10</th>\n",
       "      <td>ZeroCouponBond</td>\n",
       "      <td>discount factor</td>\n",
       "      <td>4</td>\n",
       "      <td>1</td>\n",
       "      <td>10.0</td>\n",
       "      <td>99</td>\n",
       "      <td>100000</td>\n",
       "      <td>0.739908</td>\n",
       "      <td>1.682759e-03</td>\n",
       "      <td>0.532135</td>\n",
       "      <td>2.476930</td>\n",
       "    </tr>\n",
       "    <tr>\n",
       "      <th>11</th>\n",
       "      <td>ForwardZeroCouponBond</td>\n",
       "      <td>forward discount factor P(0,5.0,10)</td>\n",
       "      <td>5</td>\n",
       "      <td>1</td>\n",
       "      <td>10.0</td>\n",
       "      <td>99</td>\n",
       "      <td>100000</td>\n",
       "      <td>0.797848</td>\n",
       "      <td>1.177436e-03</td>\n",
       "      <td>0.372338</td>\n",
       "      <td>1.485554</td>\n",
       "    </tr>\n",
       "  </tbody>\n",
       "</table>\n",
       "</div>"
      ],
      "text/plain": [
       "                     name                                title  state  point  \\\n",
       "0                 Polynom                                a=0.1      0      0   \n",
       "1                 Polynom                           sigma=0.05      1      0   \n",
       "2   Linear1DInterpolation                             theta(t)      2      0   \n",
       "3   HullWhite1FactorModel                                 rate      3      0   \n",
       "4          ZeroCouponBond                      discount factor      4      0   \n",
       "5   ForwardZeroCouponBond  forward discount factor P(0,5.0,10)      5      0   \n",
       "6                 Polynom                                a=0.1      0      1   \n",
       "7                 Polynom                           sigma=0.05      1      1   \n",
       "8   Linear1DInterpolation                             theta(t)      2      1   \n",
       "9   HullWhite1FactorModel                                 rate      3      1   \n",
       "10         ZeroCouponBond                      discount factor      4      1   \n",
       "11  ForwardZeroCouponBond  forward discount factor P(0,5.0,10)      5      1   \n",
       "\n",
       "    time  step  npaths      mean    mean_error    stddev     skewness  \n",
       "0    5.0    49  100000  0.100000  0.000000e+00  0.000000     0.000000  \n",
       "1    5.0    49  100000  0.050000  0.000000e+00  0.000000     0.000000  \n",
       "2    5.0    49  100000  0.010901  0.000000e+00  0.000000     0.000000  \n",
       "3    5.0    49  100000  0.049144  2.822406e-04  0.089252    -0.007448  \n",
       "4    5.0    49  100000  0.859985  7.389118e-04  0.233664     0.804094  \n",
       "5    5.0    49  100000  0.797848  1.177436e-03  0.372338     1.485554  \n",
       "6   10.0    99  100000  0.100000  0.000000e+00  0.000000     0.000000  \n",
       "7   10.0    99  100000  0.050000  0.000000e+00  0.000000     0.000000  \n",
       "8   10.0    99  100000  0.013808  2.209561e-08  0.000007 -4149.687500  \n",
       "9   10.0    99  100000  0.079777  3.292067e-04  0.104104    -0.009140  \n",
       "10  10.0    99  100000  0.739908  1.682759e-03  0.532135     2.476930  \n",
       "11  10.0    99  100000  0.797848  1.177436e-03  0.372338     1.485554  "
      ]
     },
     "execution_count": 18,
     "metadata": {},
     "output_type": "execute_result"
    }
   ],
   "source": [
    "results = sdk.run (model, server)\n",
    "results.df()"
   ]
  },
  {
   "cell_type": "markdown",
   "id": "587d5680-499f-471e-9a72-55074ebbac88",
   "metadata": {},
   "source": [
    "### Compare analyticaly and MC computed rate (mean,stddev)"
   ]
  },
  {
   "cell_type": "code",
   "execution_count": 19,
   "id": "73e5c6b3-74e1-4ea8-a065-23a76ea02143",
   "metadata": {},
   "outputs": [
    {
     "data": {
      "text/html": [
       "<div>\n",
       "<style scoped>\n",
       "    .dataframe tbody tr th:only-of-type {\n",
       "        vertical-align: middle;\n",
       "    }\n",
       "\n",
       "    .dataframe tbody tr th {\n",
       "        vertical-align: top;\n",
       "    }\n",
       "\n",
       "    .dataframe thead th {\n",
       "        text-align: right;\n",
       "    }\n",
       "</style>\n",
       "<table border=\"1\" class=\"dataframe\">\n",
       "  <thead>\n",
       "    <tr style=\"text-align: right;\">\n",
       "      <th></th>\n",
       "      <th>Method</th>\n",
       "      <th>mean: r(T=5.0)</th>\n",
       "      <th>stddev: r(T=5.0)</th>\n",
       "      <th>mean: r(T=10)</th>\n",
       "      <th>stddev: r(T=10)</th>\n",
       "    </tr>\n",
       "  </thead>\n",
       "  <tbody>\n",
       "    <tr>\n",
       "      <th>0</th>\n",
       "      <td>Theory</td>\n",
       "      <td>0.049352</td>\n",
       "      <td>0.088890</td>\n",
       "      <td>0.079947</td>\n",
       "      <td>0.103963</td>\n",
       "    </tr>\n",
       "    <tr>\n",
       "      <th>1</th>\n",
       "      <td>MonteCarlo</td>\n",
       "      <td>0.049144</td>\n",
       "      <td>0.089252</td>\n",
       "      <td>0.079777</td>\n",
       "      <td>0.104104</td>\n",
       "    </tr>\n",
       "  </tbody>\n",
       "</table>\n",
       "</div>"
      ],
      "text/plain": [
       "       Method  mean: r(T=5.0)  stddev: r(T=5.0)  mean: r(T=10)  \\\n",
       "0      Theory        0.049352          0.088890       0.079947   \n",
       "1  MonteCarlo        0.049144          0.089252       0.079777   \n",
       "\n",
       "   stddev: r(T=10)  \n",
       "0         0.103963  \n",
       "1         0.104104  "
      ]
     },
     "execution_count": 19,
     "metadata": {},
     "output_type": "execute_result"
    }
   ],
   "source": [
    "pd.DataFrame([{\n",
    "    'Method':'Theory',\n",
    "    f'mean: r(T={model.T[0]})':model.rate_gaussian[0][0],\n",
    "    f'stddev: r(T={model.T[0]})':math.sqrt(model.rate_gaussian[0][1]),\n",
    "    f'mean: r(T={model.T[1]})':model.rate_gaussian[1][0],\n",
    "    f'stddev: r(T={model.T[1]})':math.sqrt(model.rate_gaussian[1][1])\n",
    "},{\n",
    "    'Method':'MonteCarlo',\n",
    "    f'mean: r(T={model.T[0]})':results.GetStateEvaluationResult(model.rate.GetStateNumber(),0).mean,\n",
    "    f'stddev: r(T={model.T[0]})':results.GetStateEvaluationResult(model.rate.GetStateNumber(),0).stddev,\n",
    "    f'mean: r(T={model.T[1]})':results.GetStateEvaluationResult(model.rate.GetStateNumber(),1).mean,\n",
    "    f'stddev: r(T={model.T[1]})':results.GetStateEvaluationResult(model.rate.GetStateNumber(),1).stddev\n",
    "}])"
   ]
  },
  {
   "cell_type": "markdown",
   "id": "17c6720a-b48a-430a-bb55-78de9671029d",
   "metadata": {},
   "source": [
    "### Compare analyticaly and MC computed expected bond value"
   ]
  },
  {
   "cell_type": "code",
   "execution_count": 20,
   "id": "f066a052-3824-4452-8670-d0e11e4753b0",
   "metadata": {},
   "outputs": [
    {
     "data": {
      "image/png": "[encoded data removed]",
      "text/latex": [
       "$\\displaystyle e^{- T r} e^{r t} e^{- \\frac{r \\left(1 - e^{- a \\left(T - t\\right)}\\right)}{a}} e^{\\frac{r \\left(1 - e^{- a \\left(T - t\\right)}\\right)}{a} - \\frac{\\sigma^{2} \\cdot \\left(1 - e^{- 2 a t}\\right) \\left(1 - e^{- a \\left(T - t\\right)}\\right)^{2}}{4 a^{3}}}$"
      ],
      "text/plain": [
       "                                                                                               2\n",
       "                                     /     -a*(T - t)\\        2 /     -2*a*t\\ /     -a*(T - t)\\ \n",
       "               /     -a*(T - t)\\   r*\\1 - e          /   sigma *\\1 - e      /*\\1 - e          / \n",
       "            -r*\\1 - e          /   ------------------- - ---------------------------------------\n",
       "            ---------------------           a                                 3                 \n",
       " -T*r  r*t            a                                                    4*a                  \n",
       "e    *e   *e                     *e                                                             "
      ]
     },
     "execution_count": 20,
     "metadata": {},
     "output_type": "execute_result"
    }
   ],
   "source": [
    "hw = model.hw_analytical\n",
    "#hw.P_lambdify()(hw.a,hw.sigma,hw.r,hw.t)\n",
    "hw.P()"
   ]
  },
  {
   "cell_type": "code",
   "execution_count": 21,
   "id": "7b34ea37-f511-42cc-ac8d-81b7f71bc031",
   "metadata": {},
   "outputs": [],
   "source": [
    "Plambda = lambdify([hw.a,hw.sigma,hw.r,hw.t,hw.T],hw.P())\n",
    "P = lambda t: Plambda (model.a_const,model.sigma_const,model.rfree_const,0,t)"
   ]
  },
  {
   "cell_type": "code",
   "execution_count": 22,
   "id": "18e5f155-e160-4657-b4cf-6abaff848d31",
   "metadata": {},
   "outputs": [
    {
     "data": {
      "text/html": [
       "<div>\n",
       "<style scoped>\n",
       "    .dataframe tbody tr th:only-of-type {\n",
       "        vertical-align: middle;\n",
       "    }\n",
       "\n",
       "    .dataframe tbody tr th {\n",
       "        vertical-align: top;\n",
       "    }\n",
       "\n",
       "    .dataframe thead th {\n",
       "        text-align: right;\n",
       "    }\n",
       "</style>\n",
       "<table border=\"1\" class=\"dataframe\">\n",
       "  <thead>\n",
       "    <tr style=\"text-align: right;\">\n",
       "      <th></th>\n",
       "      <th>Method</th>\n",
       "      <th>mean: P(0,T=5.0)</th>\n",
       "      <th>mean: P(0,T=10)</th>\n",
       "    </tr>\n",
       "  </thead>\n",
       "  <tbody>\n",
       "    <tr>\n",
       "      <th>0</th>\n",
       "      <td>Theory</td>\n",
       "      <td>0.860708</td>\n",
       "      <td>0.740818</td>\n",
       "    </tr>\n",
       "    <tr>\n",
       "      <th>1</th>\n",
       "      <td>MonteCarlo</td>\n",
       "      <td>0.859985</td>\n",
       "      <td>0.739908</td>\n",
       "    </tr>\n",
       "  </tbody>\n",
       "</table>\n",
       "</div>"
      ],
      "text/plain": [
       "       Method  mean: P(0,T=5.0)  mean: P(0,T=10)\n",
       "0      Theory          0.860708         0.740818\n",
       "1  MonteCarlo          0.859985         0.739908"
      ]
     },
     "execution_count": 22,
     "metadata": {},
     "output_type": "execute_result"
    }
   ],
   "source": [
    "pd.DataFrame([{\n",
    "    'Method':'Theory',\n",
    "    f'mean: P(0,T={model.T[0]})':P(model.T[0]),\n",
    "    f'mean: P(0,T={model.T[1]})':P(model.T[1]),\n",
    "},{\n",
    "    'Method':'MonteCarlo',\n",
    "    f'mean: P(0,T={model.T[0]})':results.GetStateEvaluationResult(model.df.GetStateNumber(),0).mean,\n",
    "    f'mean: P(0,T={model.T[1]})':results.GetStateEvaluationResult(model.df.GetStateNumber(),1).mean,\n",
    "}])"
   ]
  },
  {
   "cell_type": "code",
   "execution_count": 23,
   "id": "d352577a-5a47-4a01-8f8e-67efe93c2b48",
   "metadata": {},
   "outputs": [
    {
     "data": {
      "image/png": "[encoded data removed]",
      "text/plain": [
       "<Figure size 640x480 with 1 Axes>"
      ]
     },
     "metadata": {},
     "output_type": "display_data"
    },
    {
     "data": {
      "image/png": "[encoded data removed]",
      "text/plain": [
       "<Figure size 640x480 with 1 Axes>"
      ]
     },
     "metadata": {},
     "output_type": "display_data"
    }
   ],
   "source": [
    "state = model.rate.GetStateNumber()\n",
    "plot(results=results,point=0,stateX=state)\n",
    "plot(results=results,point=1,stateX=state)"
   ]
  },
  {
   "cell_type": "code",
   "execution_count": 24,
   "id": "d933bf16-3ff3-47fc-a579-9a93b6a7e3e6",
   "metadata": {},
   "outputs": [
    {
     "data": {
      "image/png": "[encoded data removed]",
      "text/plain": [
       "<Figure size 640x480 with 1 Axes>"
      ]
     },
     "metadata": {},
     "output_type": "display_data"
    },
    {
     "data": {
      "image/png": "[encoded data removed]",
      "text/plain": [
       "<Figure size 640x480 with 1 Axes>"
      ]
     },
     "metadata": {},
     "output_type": "display_data"
    }
   ],
   "source": [
    "state = model.df.GetStateNumber()\n",
    "plot(results=results,point=0,stateX=state)\n",
    "plot(results=results,point=1,stateX=state)"
   ]
  }
 ],
 "metadata": {
  "kernelspec": {
   "display_name": "Python 3 (ipykernel)",
   "language": "python",
   "name": "python3"
  },
  "language_info": {
   "codemirror_mode": {
    "name": "ipython",
    "version": 3
   },
   "file_extension": ".py",
   "mimetype": "text/x-python",
   "name": "python",
   "nbconvert_exporter": "python",
   "pygments_lexer": "ipython3",
   "version": "3.10.12"
  }
 },
 "nbformat": 4,
 "nbformat_minor": 5
}
