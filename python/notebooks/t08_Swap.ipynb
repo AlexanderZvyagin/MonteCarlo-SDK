{
 "cells": [
  {
   "cell_type": "code",
   "execution_count": 1,
   "id": "c2bcaffe-1ae8-4981-acd6-b9ea959cd4e6",
   "metadata": {},
   "outputs": [],
   "source": [
    "from init import *"
   ]
  },
  {
   "cell_type": "code",
   "execution_count": 2,
   "id": "5a6711d1-64a2-42a9-b5d6-5a477b7faa66",
   "metadata": {
    "tags": []
   },
   "outputs": [],
   "source": [
    "def BuildModel_Simple():\n",
    "    m = sdk.Model()\n",
    "    m.TimeStart = 0\n",
    "    m.TimeSteps = 1000\n",
    "    m.NumPaths = 2\n",
    "    m.Add(sdk.IndependentGaussian())\n",
    "    return m"
   ]
  },
  {
   "cell_type": "code",
   "execution_count": 3,
   "id": "40a5a7a6",
   "metadata": {},
   "outputs": [],
   "source": [
    "time_horizon = 2.5\n",
    "model = BuildModel_Simple()\n",
    "# model.evaluations.append(sdk.EvaluationPoint(0,time_horizon/2))\n",
    "model.evaluations.append(sdk.EvaluationPoint(0,time_horizon))"
   ]
  },
  {
   "cell_type": "markdown",
   "id": "40e37ec5",
   "metadata": {},
   "source": [
    "### Short rate process\n",
    "2% constant interest rate, we set it as brownian motion process with drift=0 and diffusion=0."
   ]
  },
  {
   "cell_type": "code",
   "execution_count": 4,
   "id": "fd970dda",
   "metadata": {},
   "outputs": [
    {
     "name": "stdout",
     "output_type": "stream",
     "text": [
      "0\n"
     ]
    }
   ],
   "source": [
    "short_rate_start = 0.02\n",
    "short_rate_process = model.Add(sdk.BrownianMotion(\n",
    "    start     = short_rate_start,\n",
    "    drift     = 0.0,\n",
    "    diffusion = 0.0,\n",
    "    title     = \"short rate\"\n",
    "))\n",
    "print(short_rate_process.GetStateNumber())"
   ]
  },
  {
   "cell_type": "code",
   "execution_count": 5,
   "id": "f0b8013e",
   "metadata": {},
   "outputs": [
    {
     "name": "stdout",
     "output_type": "stream",
     "text": [
      "1\n"
     ]
    }
   ],
   "source": [
    "discount_process = model.Add(sdk.ZeroCouponBond(\n",
    "    underlying = short_rate_process.GetStateNumber(),\n",
    "    start      = 1,\n",
    "    title      = \"discount factor\"\n",
    "))\n",
    "print(discount_process.GetStateNumber())"
   ]
  },
  {
   "cell_type": "markdown",
   "id": "f4454ed7",
   "metadata": {},
   "source": [
    "discount_process.GetEquationNumber()"
   ]
  },
  {
   "cell_type": "code",
   "execution_count": 6,
   "id": "b86fdc44",
   "metadata": {},
   "outputs": [
    {
     "ename": "AttributeError",
     "evalue": "module 'mcsdk' has no attribute 'SwapFixedLeg'",
     "output_type": "error",
     "traceback": [
      "\u001b[0;31m---------------------------------------------------------------------------\u001b[0m",
      "\u001b[0;31mAttributeError\u001b[0m                            Traceback (most recent call last)",
      "Cell \u001b[0;32mIn[6], line 6\u001b[0m\n\u001b[1;32m      4\u001b[0m t \u001b[38;5;241m=\u001b[39m [\u001b[38;5;28mint\u001b[39m(steps_dt\u001b[38;5;241m*\u001b[39m(i\u001b[38;5;241m+\u001b[39m\u001b[38;5;241m1\u001b[39m))\u001b[38;5;241m-\u001b[39m\u001b[38;5;241m1\u001b[39m \u001b[38;5;28;01mfor\u001b[39;00m i \u001b[38;5;129;01min\u001b[39;00m \u001b[38;5;28mrange\u001b[39m(points)]\n\u001b[1;32m      5\u001b[0m \u001b[38;5;66;03m# print('t = ',t)\u001b[39;00m\n\u001b[0;32m----> 6\u001b[0m fixed_leg_process \u001b[38;5;241m=\u001b[39m model\u001b[38;5;241m.\u001b[39mAdd(\u001b[43msdk\u001b[49m\u001b[38;5;241;43m.\u001b[39;49m\u001b[43mSwapFixedLeg\u001b[49m(\n\u001b[1;32m      7\u001b[0m     ref \u001b[38;5;241m=\u001b[39m discount_process\u001b[38;5;241m.\u001b[39mGetStateNumber(),\n\u001b[1;32m      8\u001b[0m     notional \u001b[38;5;241m=\u001b[39m notional,\n\u001b[1;32m      9\u001b[0m     t \u001b[38;5;241m=\u001b[39m t,\n\u001b[1;32m     10\u001b[0m     title \u001b[38;5;241m=\u001b[39m \u001b[38;5;124m\"\u001b[39m\u001b[38;5;124mfixed leg\u001b[39m\u001b[38;5;124m\"\u001b[39m\n\u001b[1;32m     11\u001b[0m ))\n\u001b[1;32m     12\u001b[0m \u001b[38;5;28mprint\u001b[39m(discount_process\u001b[38;5;241m.\u001b[39mGetStateNumber())\n",
      "\u001b[0;31mAttributeError\u001b[0m: module 'mcsdk' has no attribute 'SwapFixedLeg'"
     ]
    }
   ],
   "source": [
    "notional = 1000\n",
    "points = 3\n",
    "steps_dt = model.TimeSteps/points\n",
    "t = [int(steps_dt*(i+1))-1 for i in range(points)]\n",
    "# print('t = ',t)\n",
    "fixed_leg_process = model.Add(sdk.SwapFixedLeg(\n",
    "    ref = discount_process.GetStateNumber(),\n",
    "    notional = notional,\n",
    "    t = t,\n",
    "    title = \"fixed leg\"\n",
    "))\n",
    "print(discount_process.GetStateNumber())"
   ]
  },
  {
   "cell_type": "code",
   "execution_count": null,
   "id": "1535c502",
   "metadata": {},
   "outputs": [],
   "source": [
    "fixed_leg_process.args"
   ]
  },
  {
   "cell_type": "code",
   "execution_count": null,
   "id": "7e16d5d8-9566-456e-a06b-1603b100cead",
   "metadata": {},
   "outputs": [],
   "source": [
    "model.json()"
   ]
  },
  {
   "cell_type": "code",
   "execution_count": null,
   "id": "91f843fa",
   "metadata": {},
   "outputs": [],
   "source": [
    "results = run (model)\n",
    "results.df()"
   ]
  },
  {
   "cell_type": "code",
   "execution_count": null,
   "id": "84ddfa3a",
   "metadata": {},
   "outputs": [],
   "source": [
    "from math import *\n",
    "fixed_leg_value = 0\n",
    "for i in range(points):\n",
    "    df = exp(-short_rate_start*time_horizon*(i+1)/points)\n",
    "    print(df)\n",
    "    fixed_leg_value += df*notional\n",
    "print(f'fixed_leg_value={fixed_leg_value}')\n",
    "    \n"
   ]
  },
  {
   "cell_type": "markdown",
   "id": "acab12ad",
   "metadata": {},
   "source": [
    "$$\n",
    "\\sum_{i=1}^m P(t_0,t_i) N_i\n",
    "$$\n",
    "- $t_0$ is the _current_ time poiunt\n",
    "- $m$ the number of time intrervals of the leg ($m>0$)\n",
    "- $N_i$ the notional value at time point $t_i$"
   ]
  },
  {
   "cell_type": "markdown",
   "id": "7d0795f7",
   "metadata": {},
   "source": [
    "\\begin{eqnarray}\n",
    "\\sum_{i=1}^{n}\n",
    "\\end{eqnarray}"
   ]
  },
  {
   "cell_type": "markdown",
   "id": "9f97c717",
   "metadata": {},
   "source": [
    "## Two passes MonteCarlo\n",
    "Consider a $P(T,T+\\tau)$ discount factor from $T$ to $T+\\tau$, which is observed at time $T$. If\n",
    "$$\n",
    "P(T,T+\\tau) = \\exp\\left[-\\int_{T}^{T+\\tau} r(t)\\cdot dt \\right]\n",
    "$$\n",
    "then it can be computed numerically for any reasonable short rate process $r(t)$. With the MonteCarlo simulation the computation will be completed at time $T+\\tau$, so if the discounted factor was needed at $T$, then the second pass is required.\n",
    "\n",
    "To handle this sutuation I need:\n",
    "- two passes process\n",
    "- both processes must be started using the same initial random number seed value\n",
    "- in the first pass a process $S$ (like discounte factor) will be _recorded_ at the user provided $t_i$ points, thus a set of $(S_i,t_i)$ points will be available.\n",
    "- $(S_i,t_i)$ will be used in the second pass to finalyze the computations\n",
    "\n"
   ]
  },
  {
   "cell_type": "code",
   "execution_count": null,
   "id": "59d78f82",
   "metadata": {},
   "outputs": [],
   "source": []
  }
 ],
 "metadata": {
  "kernelspec": {
   "display_name": "Python 3 (ipykernel)",
   "language": "python",
   "name": "python3"
  },
  "language_info": {
   "codemirror_mode": {
    "name": "ipython",
    "version": 3
   },
   "file_extension": ".py",
   "mimetype": "text/x-python",
   "name": "python",
   "nbconvert_exporter": "python",
   "pygments_lexer": "ipython3",
   "version": "3.10.12"
  },
  "vscode": {
   "interpreter": {
    "hash": "916dbcbb3f70747c44a77c7bcd40155683ae19c65e1c03b4aa3499c5328201f1"
   }
  }
 },
 "nbformat": 4,
 "nbformat_minor": 5
}
