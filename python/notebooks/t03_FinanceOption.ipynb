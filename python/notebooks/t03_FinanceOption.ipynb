{
 "cells": [
  {
   "cell_type": "code",
   "execution_count": 1,
   "id": "c2bcaffe-1ae8-4981-acd6-b9ea959cd4e6",
   "metadata": {},
   "outputs": [],
   "source": [
    "from init import *\n",
    "from math import nan"
   ]
  },
  {
   "cell_type": "markdown",
   "id": "f2ee52fb-25f1-4235-9efc-f749ae22684d",
   "metadata": {},
   "source": [
    "# Vanilla option"
   ]
  },
  {
   "cell_type": "code",
   "execution_count": 2,
   "id": "5219dc5a-44b2-44c7-a862-8f095016e250",
   "metadata": {},
   "outputs": [],
   "source": [
    "Call = 0\n",
    "Put = 1"
   ]
  },
  {
   "cell_type": "code",
   "execution_count": 3,
   "id": "5a6711d1-64a2-42a9-b5d6-5a477b7faa66",
   "metadata": {
    "tags": []
   },
   "outputs": [],
   "source": [
    "model = sdk.Model()\n",
    "model.TimeStart = 0\n",
    "model.TimeSteps = 1000\n",
    "model.NumPaths = 100000\n",
    "model.Add(sdk.IndependentGaussian())\n",
    "underlying = model.Add(sdk.GeometricalBrownianMotion(\n",
    "    start = 130,\n",
    "    drift = 0.0,\n",
    "    diffusion = 0.3\n",
    "))\n",
    "\n",
    "option = model.Add(sdk.Option(\n",
    "    underlying = underlying.GetStateNumber(),\n",
    "    call_put = sdk.Option.Put,\n",
    "    strike = 140\n",
    "))\n"
   ]
  },
  {
   "cell_type": "code",
   "execution_count": 4,
   "id": "7e16d5d8-9566-456e-a06b-1603b100cead",
   "metadata": {},
   "outputs": [
    {
     "data": {
      "text/plain": [
       "'{\"TimeStart\": 0, \"TimeSteps\": 1000, \"NumPaths\": 100000, \"updaters\": [{\"name\": \"IndependentGaussian\", \"refs\": [], \"args\": [], \"start\": []}, {\"name\": \"GeometricalBrownianMotion\", \"refs\": [], \"args\": [0.0, 0.3], \"start\": [130]}, {\"name\": \"Option\", \"refs\": [1], \"args\": [140, 1], \"start\": []}], \"evaluations\": [{\"time\": 2}]}'"
      ]
     },
     "execution_count": 4,
     "metadata": {},
     "output_type": "execute_result"
    }
   ],
   "source": [
    "model.evaluations.append(sdk.EvaluationPoint(2))\n",
    "model.json()"
   ]
  },
  {
   "cell_type": "code",
   "execution_count": 5,
   "id": "a4646eab-d989-46d1-9dcc-af1cde2bb458",
   "metadata": {},
   "outputs": [
    {
     "data": {
      "text/html": [
       "<div>\n",
       "<style scoped>\n",
       "    .dataframe tbody tr th:only-of-type {\n",
       "        vertical-align: middle;\n",
       "    }\n",
       "\n",
       "    .dataframe tbody tr th {\n",
       "        vertical-align: top;\n",
       "    }\n",
       "\n",
       "    .dataframe thead th {\n",
       "        text-align: right;\n",
       "    }\n",
       "</style>\n",
       "<table border=\"1\" class=\"dataframe\">\n",
       "  <thead>\n",
       "    <tr style=\"text-align: right;\">\n",
       "      <th></th>\n",
       "      <th>name</th>\n",
       "      <th>title</th>\n",
       "      <th>state</th>\n",
       "      <th>time</th>\n",
       "      <th>step</th>\n",
       "      <th>npaths</th>\n",
       "      <th>mean</th>\n",
       "      <th>mean_error</th>\n",
       "      <th>stddev</th>\n",
       "      <th>skewness</th>\n",
       "    </tr>\n",
       "  </thead>\n",
       "  <tbody>\n",
       "    <tr>\n",
       "      <th>0</th>\n",
       "      <td>GeometricalBrownianMotion</td>\n",
       "      <td></td>\n",
       "      <td>0</td>\n",
       "      <td>2.0</td>\n",
       "      <td>999</td>\n",
       "      <td>100000</td>\n",
       "      <td>130.197174</td>\n",
       "      <td>0.182508</td>\n",
       "      <td>57.713959</td>\n",
       "      <td>1.403149</td>\n",
       "    </tr>\n",
       "    <tr>\n",
       "      <th>1</th>\n",
       "      <td>Option</td>\n",
       "      <td></td>\n",
       "      <td>1</td>\n",
       "      <td>2.0</td>\n",
       "      <td>999</td>\n",
       "      <td>0</td>\n",
       "      <td>NaN</td>\n",
       "      <td>NaN</td>\n",
       "      <td>NaN</td>\n",
       "      <td>NaN</td>\n",
       "    </tr>\n",
       "  </tbody>\n",
       "</table>\n",
       "</div>"
      ],
      "text/plain": [
       "                        name title  state  time  step  npaths        mean  \\\n",
       "0  GeometricalBrownianMotion            0   2.0   999  100000  130.197174   \n",
       "1                     Option            1   2.0   999       0         NaN   \n",
       "\n",
       "   mean_error     stddev  skewness  \n",
       "0    0.182508  57.713959  1.403149  \n",
       "1         NaN        NaN       NaN  "
      ]
     },
     "execution_count": 5,
     "metadata": {},
     "output_type": "execute_result"
    }
   ],
   "source": [
    "results = sdk.run (model, server)\n",
    "results.df()"
   ]
  },
  {
   "cell_type": "markdown",
   "id": "629ead67-30c8-4d7d-afd0-8dc20b892336",
   "metadata": {},
   "source": [
    "## MC option price vs strike"
   ]
  },
  {
   "cell_type": "code",
   "execution_count": 6,
   "id": "dfd20fe3-8890-46d3-9bbf-f3a45be4dd57",
   "metadata": {},
   "outputs": [],
   "source": [
    "def vanilla_option_price(spot,strike,volatility,expiry,call_put,mc_paths=10000,mc_steps=1000,seed=-1):\n",
    "    model = sdk.Model()\n",
    "    model.TimeStart = 0\n",
    "    model.TimeSteps = mc_steps\n",
    "    model.NumPaths = mc_paths\n",
    "    model.RandomSeed = seed\n",
    "\n",
    "    model.Add(sdk.IndependentGaussian())\n",
    "    underlying_process = model.Add(sdk.GeometricalBrownianMotion(spot,0,volatility))\n",
    "\n",
    "    option_process = model.Add(sdk.Updater(\n",
    "        name = \"Option\",\n",
    "        args = [strike,call_put],\n",
    "        refs = [underlying_process.GetStateNumber()],\n",
    "    ))\n",
    "    \n",
    "    model.evaluations.append(sdk.EvaluationPoint(expiry))\n",
    "\n",
    "    results = sdk.run (model, server)\n",
    "        \n",
    "    return results.GetStateEvaluationResult(option_process.GetStateNumber(),0).mean"
   ]
  },
  {
   "cell_type": "code",
   "execution_count": 7,
   "id": "1761d09a-03a6-444c-876b-8b2f9ccebd90",
   "metadata": {},
   "outputs": [],
   "source": [
    "import plotly.express as px\n",
    "import numpy as np"
   ]
  },
  {
   "cell_type": "code",
   "execution_count": 8,
   "id": "59382089-819f-4a42-8b16-cf6520ba9b10",
   "metadata": {},
   "outputs": [
    {
     "ename": "ValueError",
     "evalue": "state=2 nstates=2 point=0 npoints=1",
     "output_type": "error",
     "traceback": [
      "\u001b[0;31m---------------------------------------------------------------------------\u001b[0m",
      "\u001b[0;31mValueError\u001b[0m                                Traceback (most recent call last)",
      "Cell \u001b[0;32mIn[8], line 7\u001b[0m\n\u001b[1;32m      1\u001b[0m f \u001b[38;5;241m=\u001b[39m \u001b[38;5;28;01mlambda\u001b[39;00m x: vanilla_option_price(\u001b[38;5;241m130\u001b[39m,x,\u001b[38;5;241m0.3\u001b[39m,\u001b[38;5;241m10\u001b[39m,Call,mc_paths\u001b[38;5;241m=\u001b[39m\u001b[38;5;241m1000\u001b[39m)\n\u001b[1;32m      2\u001b[0m vx \u001b[38;5;241m=\u001b[39m np\u001b[38;5;241m.\u001b[39mlinspace(\u001b[38;5;241m50\u001b[39m,\u001b[38;5;241m250\u001b[39m,\u001b[38;5;241m20\u001b[39m)\n\u001b[1;32m      4\u001b[0m fig \u001b[38;5;241m=\u001b[39m px\u001b[38;5;241m.\u001b[39mscatter (\n\u001b[1;32m      5\u001b[0m     title \u001b[38;5;241m=\u001b[39m \u001b[38;5;124mf\u001b[39m\u001b[38;5;124m'\u001b[39m\u001b[38;5;124mCall Option price vs strike\u001b[39m\u001b[38;5;124m'\u001b[39m,\n\u001b[1;32m      6\u001b[0m     x \u001b[38;5;241m=\u001b[39m vx,\n\u001b[0;32m----> 7\u001b[0m     y \u001b[38;5;241m=\u001b[39m [f(x) \u001b[38;5;28;01mfor\u001b[39;00m x \u001b[38;5;129;01min\u001b[39;00m vx]\n\u001b[1;32m      8\u001b[0m )\n\u001b[1;32m      9\u001b[0m fig\u001b[38;5;241m.\u001b[39mshow()\n",
      "Cell \u001b[0;32mIn[8], line 7\u001b[0m, in \u001b[0;36m<listcomp>\u001b[0;34m(.0)\u001b[0m\n\u001b[1;32m      1\u001b[0m f \u001b[38;5;241m=\u001b[39m \u001b[38;5;28;01mlambda\u001b[39;00m x: vanilla_option_price(\u001b[38;5;241m130\u001b[39m,x,\u001b[38;5;241m0.3\u001b[39m,\u001b[38;5;241m10\u001b[39m,Call,mc_paths\u001b[38;5;241m=\u001b[39m\u001b[38;5;241m1000\u001b[39m)\n\u001b[1;32m      2\u001b[0m vx \u001b[38;5;241m=\u001b[39m np\u001b[38;5;241m.\u001b[39mlinspace(\u001b[38;5;241m50\u001b[39m,\u001b[38;5;241m250\u001b[39m,\u001b[38;5;241m20\u001b[39m)\n\u001b[1;32m      4\u001b[0m fig \u001b[38;5;241m=\u001b[39m px\u001b[38;5;241m.\u001b[39mscatter (\n\u001b[1;32m      5\u001b[0m     title \u001b[38;5;241m=\u001b[39m \u001b[38;5;124mf\u001b[39m\u001b[38;5;124m'\u001b[39m\u001b[38;5;124mCall Option price vs strike\u001b[39m\u001b[38;5;124m'\u001b[39m,\n\u001b[1;32m      6\u001b[0m     x \u001b[38;5;241m=\u001b[39m vx,\n\u001b[0;32m----> 7\u001b[0m     y \u001b[38;5;241m=\u001b[39m [\u001b[43mf\u001b[49m\u001b[43m(\u001b[49m\u001b[43mx\u001b[49m\u001b[43m)\u001b[49m \u001b[38;5;28;01mfor\u001b[39;00m x \u001b[38;5;129;01min\u001b[39;00m vx]\n\u001b[1;32m      8\u001b[0m )\n\u001b[1;32m      9\u001b[0m fig\u001b[38;5;241m.\u001b[39mshow()\n",
      "Cell \u001b[0;32mIn[8], line 1\u001b[0m, in \u001b[0;36m<lambda>\u001b[0;34m(x)\u001b[0m\n\u001b[0;32m----> 1\u001b[0m f \u001b[38;5;241m=\u001b[39m \u001b[38;5;28;01mlambda\u001b[39;00m x: \u001b[43mvanilla_option_price\u001b[49m\u001b[43m(\u001b[49m\u001b[38;5;241;43m130\u001b[39;49m\u001b[43m,\u001b[49m\u001b[43mx\u001b[49m\u001b[43m,\u001b[49m\u001b[38;5;241;43m0.3\u001b[39;49m\u001b[43m,\u001b[49m\u001b[38;5;241;43m10\u001b[39;49m\u001b[43m,\u001b[49m\u001b[43mCall\u001b[49m\u001b[43m,\u001b[49m\u001b[43mmc_paths\u001b[49m\u001b[38;5;241;43m=\u001b[39;49m\u001b[38;5;241;43m1000\u001b[39;49m\u001b[43m)\u001b[49m\n\u001b[1;32m      2\u001b[0m vx \u001b[38;5;241m=\u001b[39m np\u001b[38;5;241m.\u001b[39mlinspace(\u001b[38;5;241m50\u001b[39m,\u001b[38;5;241m250\u001b[39m,\u001b[38;5;241m20\u001b[39m)\n\u001b[1;32m      4\u001b[0m fig \u001b[38;5;241m=\u001b[39m px\u001b[38;5;241m.\u001b[39mscatter (\n\u001b[1;32m      5\u001b[0m     title \u001b[38;5;241m=\u001b[39m \u001b[38;5;124mf\u001b[39m\u001b[38;5;124m'\u001b[39m\u001b[38;5;124mCall Option price vs strike\u001b[39m\u001b[38;5;124m'\u001b[39m,\n\u001b[1;32m      6\u001b[0m     x \u001b[38;5;241m=\u001b[39m vx,\n\u001b[1;32m      7\u001b[0m     y \u001b[38;5;241m=\u001b[39m [f(x) \u001b[38;5;28;01mfor\u001b[39;00m x \u001b[38;5;129;01min\u001b[39;00m vx]\n\u001b[1;32m      8\u001b[0m )\n",
      "Cell \u001b[0;32mIn[6], line 21\u001b[0m, in \u001b[0;36mvanilla_option_price\u001b[0;34m(spot, strike, volatility, expiry, call_put, mc_paths, mc_steps, seed)\u001b[0m\n\u001b[1;32m     17\u001b[0m model\u001b[38;5;241m.\u001b[39mevaluations\u001b[38;5;241m.\u001b[39mappend(sdk\u001b[38;5;241m.\u001b[39mEvaluationPoint(expiry))\n\u001b[1;32m     19\u001b[0m results \u001b[38;5;241m=\u001b[39m sdk\u001b[38;5;241m.\u001b[39mrun (model, server)\n\u001b[0;32m---> 21\u001b[0m \u001b[38;5;28;01mreturn\u001b[39;00m \u001b[43mresults\u001b[49m\u001b[38;5;241;43m.\u001b[39;49m\u001b[43mGetStateEvaluationResult\u001b[49m\u001b[43m(\u001b[49m\u001b[43moption_process\u001b[49m\u001b[38;5;241;43m.\u001b[39;49m\u001b[43mGetStateNumber\u001b[49m\u001b[43m(\u001b[49m\u001b[43m)\u001b[49m\u001b[43m,\u001b[49m\u001b[38;5;241;43m0\u001b[39;49m\u001b[43m)\u001b[49m\u001b[38;5;241m.\u001b[39mmean\n",
      "File \u001b[0;32m~/Projects/MonteCarlo/work/external/mcsdk/python/notebooks/mcsdk.py:1346\u001b[0m, in \u001b[0;36mEvaluationResults.GetStateEvaluationResult\u001b[0;34m(self, state, point)\u001b[0m\n\u001b[1;32m   1340\u001b[0m \u001b[38;5;28;01mdef\u001b[39;00m \u001b[38;5;21mGetStateEvaluationResult\u001b[39m (\n\u001b[1;32m   1341\u001b[0m     \u001b[38;5;28mself\u001b[39m,\n\u001b[1;32m   1342\u001b[0m     state,\n\u001b[1;32m   1343\u001b[0m     point,\n\u001b[1;32m   1344\u001b[0m ) \u001b[38;5;241m-\u001b[39m\u001b[38;5;241m>\u001b[39m Result :\n\u001b[0;32m-> 1346\u001b[0m     n \u001b[38;5;241m=\u001b[39m \u001b[38;5;28;43mself\u001b[39;49m\u001b[38;5;241;43m.\u001b[39;49m\u001b[43mIndex\u001b[49m\u001b[43m(\u001b[49m\u001b[43mstate\u001b[49m\u001b[43m,\u001b[49m\u001b[43mpoint\u001b[49m\u001b[43m)\u001b[49m\n\u001b[1;32m   1347\u001b[0m     \u001b[38;5;28;01mreturn\u001b[39;00m Result(\u001b[38;5;28mself\u001b[39m\u001b[38;5;241m.\u001b[39mnpaths[n],\u001b[38;5;28mself\u001b[39m\u001b[38;5;241m.\u001b[39mmean[n],\u001b[38;5;28mself\u001b[39m\u001b[38;5;241m.\u001b[39mstddev[n],\u001b[38;5;28mself\u001b[39m\u001b[38;5;241m.\u001b[39mskewness[n])\n\u001b[1;32m   1349\u001b[0m     \u001b[38;5;28;01mpass\u001b[39;00m\n",
      "File \u001b[0;32m~/Projects/MonteCarlo/work/external/mcsdk/python/notebooks/mcsdk.py:1335\u001b[0m, in \u001b[0;36mEvaluationResults.Index\u001b[0;34m(self, state, point)\u001b[0m\n\u001b[1;32m   1328\u001b[0m \u001b[38;5;28;01mdef\u001b[39;00m \u001b[38;5;21mIndex\u001b[39m (\n\u001b[1;32m   1329\u001b[0m     \u001b[38;5;28mself\u001b[39m,\n\u001b[1;32m   1330\u001b[0m     state,\n\u001b[1;32m   1331\u001b[0m     point,\n\u001b[1;32m   1332\u001b[0m ) \u001b[38;5;241m-\u001b[39m\u001b[38;5;241m>\u001b[39m \u001b[38;5;28mint\u001b[39m :\n\u001b[1;32m   1334\u001b[0m     \u001b[38;5;28;01mif\u001b[39;00m \u001b[38;5;129;01mnot\u001b[39;00m (state\u001b[38;5;241m>\u001b[39m\u001b[38;5;241m=\u001b[39m\u001b[38;5;241m0\u001b[39m \u001b[38;5;129;01mand\u001b[39;00m state\u001b[38;5;241m<\u001b[39m\u001b[38;5;28mself\u001b[39m\u001b[38;5;241m.\u001b[39mGetNumberOfStates() \u001b[38;5;129;01mand\u001b[39;00m point\u001b[38;5;241m>\u001b[39m\u001b[38;5;241m=\u001b[39m\u001b[38;5;241m0\u001b[39m \u001b[38;5;129;01mand\u001b[39;00m point\u001b[38;5;241m<\u001b[39m\u001b[38;5;28mself\u001b[39m\u001b[38;5;241m.\u001b[39mGetNumberOfEvaluations()):\n\u001b[0;32m-> 1335\u001b[0m         \u001b[38;5;28;01mraise\u001b[39;00m \u001b[38;5;167;01mValueError\u001b[39;00m(\u001b[38;5;124mf\u001b[39m\u001b[38;5;124m'\u001b[39m\u001b[38;5;124mstate=\u001b[39m\u001b[38;5;132;01m{\u001b[39;00mstate\u001b[38;5;132;01m}\u001b[39;00m\u001b[38;5;124m nstates=\u001b[39m\u001b[38;5;132;01m{\u001b[39;00m\u001b[38;5;28mself\u001b[39m\u001b[38;5;241m.\u001b[39mGetNumberOfStates()\u001b[38;5;132;01m}\u001b[39;00m\u001b[38;5;124m point=\u001b[39m\u001b[38;5;132;01m{\u001b[39;00mpoint\u001b[38;5;132;01m}\u001b[39;00m\u001b[38;5;124m npoints=\u001b[39m\u001b[38;5;132;01m{\u001b[39;00m\u001b[38;5;28mself\u001b[39m\u001b[38;5;241m.\u001b[39mGetNumberOfEvaluations()\u001b[38;5;132;01m}\u001b[39;00m\u001b[38;5;124m'\u001b[39m)\n\u001b[1;32m   1336\u001b[0m     \u001b[38;5;28;01mreturn\u001b[39;00m point\u001b[38;5;241m*\u001b[39m\u001b[38;5;28mself\u001b[39m\u001b[38;5;241m.\u001b[39mGetNumberOfStates() \u001b[38;5;241m+\u001b[39m state\n\u001b[1;32m   1338\u001b[0m     \u001b[38;5;28;01mpass\u001b[39;00m\n",
      "\u001b[0;31mValueError\u001b[0m: state=2 nstates=2 point=0 npoints=1"
     ]
    }
   ],
   "source": [
    "f = lambda x: vanilla_option_price(130,x,0.3,10,Call,mc_paths=1000)\n",
    "vx = np.linspace(50,250,20)\n",
    "\n",
    "fig = px.scatter (\n",
    "    title = f'Call Option price vs strike',\n",
    "    x = vx,\n",
    "    y = [f(x) for x in vx]\n",
    ")\n",
    "fig.show()"
   ]
  },
  {
   "cell_type": "code",
   "execution_count": null,
   "id": "d5f063be-802d-4ccb-b050-a5a6155f39a2",
   "metadata": {},
   "outputs": [],
   "source": [
    "f = lambda x: vanilla_option_price(130,x,0.3,10,Call,mc_paths=1000,seed=0)\n",
    "vx = np.linspace(50,250,20)\n",
    "\n",
    "fig = px.scatter (\n",
    "    title = f'Call Option price vs strike',\n",
    "    x = vx,\n",
    "    y = [f(x) for x in vx]\n",
    ")\n",
    "fig.show()"
   ]
  },
  {
   "cell_type": "markdown",
   "id": "2b59853e-80de-4e12-84da-0ff950fbd194",
   "metadata": {},
   "source": [
    "# Add barrier"
   ]
  },
  {
   "cell_type": "code",
   "execution_count": null,
   "id": "e3751ff7-9768-43c5-919a-4d82a7b53e39",
   "metadata": {},
   "outputs": [],
   "source": [
    "def single_barrier_option_price (\n",
    "    spot = 130,\n",
    "    strike = 140,\n",
    "    volatility = 0.3,\n",
    "    barrier1_level = 150,\n",
    "    mc_paths = 10000,\n",
    "    mc_steps = 1000,\n",
    "    seed = -1\n",
    "):\n",
    "    # FIXME\n",
    "    mc_paths = 2\n",
    "    mc_steps = 10\n",
    "    \n",
    "    # prepare model\n",
    "    model = sdk.Model()\n",
    "    model.TimeStart = 0\n",
    "    model.TimeSteps = mc_steps\n",
    "    model.NumPaths = mc_paths\n",
    "    model.RandomSeed = seed\n",
    "    model.Add(sdk.IndependentGaussian())\n",
    "    # Add a basic 'underlying' process\n",
    "    underlying_process = model.Add(sdk.GeometricalBrownianMotion(\n",
    "        start = spot,\n",
    "        drift = 0.0,\n",
    "        diffusion = volatility,\n",
    "        title = 'Underlying'\n",
    "    ))\n",
    "\n",
    "    put_option_process = model.Add(sdk.Option(\n",
    "        underlying = underlying_process.GetStateNumber(),\n",
    "        strike = strike,\n",
    "        call_put = sdk.Option.Put,\n",
    "        title = f'Put, K={strike}'\n",
    "    ))\n",
    "\n",
    "    call_option_process = model.Add(sdk.Option(\n",
    "        underlying = underlying_process.GetStateNumber(),\n",
    "        strike = strike,\n",
    "        call_put = sdk.Option.Call,\n",
    "        title = f'Call, K={strike}'\n",
    "    ))\n",
    "    \n",
    "    UpAndOutDigitalBarrier_process = model.Add(sdk.Barrier(\n",
    "        underlying = underlying_process.GetStateNumber(),\n",
    "        start = 1,\n",
    "        level = barrier1_level,\n",
    "        direction = sdk.Barrier.DirectionUp,\n",
    "        action = sdk.Barrier.ActionSet,\n",
    "        value = 0,\n",
    "        title = f'Digital:UpAndOut level={barrier1_level}'\n",
    "    ))\n",
    "\n",
    "    UpAndInDigitalBarrier_process = model.Add(sdk.Barrier(\n",
    "        underlying = underlying_process.GetStateNumber(),\n",
    "        start = 0,\n",
    "        level = barrier1_level,\n",
    "        direction = sdk.Barrier.DirectionUp,\n",
    "        action = sdk.Barrier.ActionSet,\n",
    "        value = 1,\n",
    "        title = f'Digital:UpAndIn level={barrier1_level}'\n",
    "    ))\n",
    "    \n",
    "    UpAndOutPutBarrier_process = model.Add(sdk.Multiplication(\n",
    "        refs = [\n",
    "            put_option_process.GetStateNumber(),\n",
    "            UpAndOutDigitalBarrier_process.GetStateNumber()\n",
    "        ],\n",
    "        factor = 1,\n",
    "        title = f'UpAndOutPut level={barrier1_level}'\n",
    "    ))\n",
    "    \n",
    "    UpAndInPutBarrier_process = model.Add(sdk.Multiplication(\n",
    "        refs = [\n",
    "            put_option_process.GetStateNumber(),\n",
    "            UpAndInDigitalBarrier_process.GetStateNumber()\n",
    "        ],\n",
    "        factor = 1,\n",
    "        title = f'UpAndInPut level={barrier1_level}'\n",
    "    ))\n",
    "\n",
    "    UpAndOutCallBarrier_process = model.Add(sdk.Multiplication(\n",
    "        refs = [\n",
    "            call_option_process.GetStateNumber(),\n",
    "            UpAndOutDigitalBarrier_process.GetStateNumber()\n",
    "        ],\n",
    "        factor = 1,\n",
    "        title = f'UpAndOutCall level={barrier1_level}'\n",
    "    ))\n",
    "    \n",
    "    UpAndInCallBarrier_process = model.Add(sdk.Multiplication(\n",
    "        refs = [\n",
    "            call_option_process.GetStateNumber(),\n",
    "            UpAndInDigitalBarrier_process.GetStateNumber()\n",
    "        ],\n",
    "        factor = 1,\n",
    "        title = f'UpAndInCall level={barrier1_level}'\n",
    "    ))\n",
    "\n",
    "    return model"
   ]
  },
  {
   "cell_type": "code",
   "execution_count": null,
   "id": "95b28cdc-03c9-42ab-9cd3-ecd42e04ccf7",
   "metadata": {},
   "outputs": [],
   "source": [
    "model_1b = single_barrier_option_price(\n",
    "    volatility = 0.1,\n",
    "    spot       = 130,\n",
    "    strike     = 140,\n",
    "    mc_steps   = 1000,\n",
    "    mc_paths   = 10000,\n",
    "    seed       = 111\n",
    ")\n",
    "model_1b.evaluations.append(sdk.EvaluationPoint(10))\n",
    "results_1b = sdk.run (model_1b, server)\n",
    "results_1b.df()"
   ]
  },
  {
   "cell_type": "markdown",
   "id": "3c354795-f107-41a6-b18d-b5e40ed109b9",
   "metadata": {},
   "source": [
    "### Run the same model, but ask to compute the state at several time points"
   ]
  },
  {
   "cell_type": "code",
   "execution_count": null,
   "id": "97af1880-7ef2-4371-8ade-963edaaa081e",
   "metadata": {},
   "outputs": [],
   "source": [
    "model_2b = single_barrier_option_price(\n",
    "    volatility = 0.1,\n",
    "    spot       = 130,\n",
    "    strike     = 140,\n",
    "    mc_steps   = 1000,\n",
    "    mc_paths   = 10000,\n",
    "    seed       = 111\n",
    ")\n",
    "model_2b.evaluations.append(sdk.EvaluationPoint(2))\n",
    "model_2b.evaluations.append(sdk.EvaluationPoint(5))\n",
    "model_2b.evaluations.append(sdk.EvaluationPoint(10))\n",
    "results_2b = sdk.run (model_2b, server)\n",
    "results_2b.df()"
   ]
  }
 ],
 "metadata": {
  "kernelspec": {
   "display_name": "Python 3 (ipykernel)",
   "language": "python",
   "name": "python3"
  },
  "language_info": {
   "codemirror_mode": {
    "name": "ipython",
    "version": 3
   },
   "file_extension": ".py",
   "mimetype": "text/x-python",
   "name": "python",
   "nbconvert_exporter": "python",
   "pygments_lexer": "ipython3",
   "version": "3.10.12"
  },
  "vscode": {
   "interpreter": {
    "hash": "916dbcbb3f70747c44a77c7bcd40155683ae19c65e1c03b4aa3499c5328201f1"
   }
  }
 },
 "nbformat": 4,
 "nbformat_minor": 5
}
